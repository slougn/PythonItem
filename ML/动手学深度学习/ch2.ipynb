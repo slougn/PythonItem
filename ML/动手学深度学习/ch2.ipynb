{
 "cells": [
  {
   "cell_type": "code",
   "execution_count": 1,
   "metadata": {},
   "outputs": [],
   "source": [
    "import torch"
   ]
  },
  {
   "cell_type": "markdown",
   "metadata": {},
   "source": [
    "### 数据操作"
   ]
  },
  {
   "cell_type": "markdown",
   "metadata": {},
   "source": [
    "#### 入门"
   ]
  },
  {
   "cell_type": "code",
   "execution_count": 2,
   "metadata": {},
   "outputs": [
    {
     "data": {
      "text/plain": [
       "tensor([ 0,  1,  2,  3,  4,  5,  6,  7,  8,  9, 10, 11])"
      ]
     },
     "execution_count": 2,
     "metadata": {},
     "output_type": "execute_result"
    }
   ],
   "source": [
    "x = torch.arange(12) #创建行向量\n",
    "x"
   ]
  },
  {
   "cell_type": "code",
   "execution_count": 3,
   "metadata": {},
   "outputs": [
    {
     "data": {
      "text/plain": [
       "torch.Size([12])"
      ]
     },
     "execution_count": 3,
     "metadata": {},
     "output_type": "execute_result"
    }
   ],
   "source": [
    "x.shape #输出x的形状"
   ]
  },
  {
   "cell_type": "code",
   "execution_count": 4,
   "metadata": {},
   "outputs": [
    {
     "data": {
      "text/plain": [
       "torch.Size([12])"
      ]
     },
     "execution_count": 4,
     "metadata": {},
     "output_type": "execute_result"
    }
   ],
   "source": [
    "x.size()  #行向量的shape和size一样"
   ]
  },
  {
   "cell_type": "code",
   "execution_count": 5,
   "metadata": {},
   "outputs": [
    {
     "data": {
      "text/plain": [
       "12"
      ]
     },
     "execution_count": 5,
     "metadata": {},
     "output_type": "execute_result"
    }
   ],
   "source": [
    "x.numel() #返回数组中元素的个数"
   ]
  },
  {
   "cell_type": "code",
   "execution_count": 6,
   "metadata": {},
   "outputs": [
    {
     "data": {
      "text/plain": [
       "tensor([[ 0,  1,  2,  3],\n",
       "        [ 4,  5,  6,  7],\n",
       "        [ 8,  9, 10, 11]])"
      ]
     },
     "execution_count": 6,
     "metadata": {},
     "output_type": "execute_result"
    }
   ],
   "source": [
    "X = x.reshape(3,4) #改变形状，但是元素值一样\n",
    "X"
   ]
  },
  {
   "cell_type": "code",
   "execution_count": 7,
   "metadata": {},
   "outputs": [
    {
     "data": {
      "text/plain": [
       "(tensor([[ 0,  1,  2,  3],\n",
       "         [ 4,  5,  6,  7],\n",
       "         [ 8,  9, 10, 11]]),\n",
       " tensor([[ 0,  1,  2,  3],\n",
       "         [ 4,  5,  6,  7],\n",
       "         [ 8,  9, 10, 11]]),\n",
       " tensor([[ 0,  1,  2,  3],\n",
       "         [ 4,  5,  6,  7],\n",
       "         [ 8,  9, 10, 11]]))"
      ]
     },
     "execution_count": 7,
     "metadata": {},
     "output_type": "execute_result"
    }
   ],
   "source": [
    "x.reshape(-1,4),x.reshape(3,-1),x.reshape(3,4)  #-1表示通过计算获得行数或者列数"
   ]
  },
  {
   "cell_type": "code",
   "execution_count": 8,
   "metadata": {},
   "outputs": [
    {
     "data": {
      "text/plain": [
       "tensor([[[0., 0., 0., 0.],\n",
       "         [0., 0., 0., 0.],\n",
       "         [0., 0., 0., 0.]],\n",
       "\n",
       "        [[0., 0., 0., 0.],\n",
       "         [0., 0., 0., 0.],\n",
       "         [0., 0., 0., 0.]]])"
      ]
     },
     "execution_count": 8,
     "metadata": {},
     "output_type": "execute_result"
    }
   ],
   "source": [
    "torch.zeros((2,3,4)) #全0矩阵，矩阵维度用元组传入"
   ]
  },
  {
   "cell_type": "code",
   "execution_count": 9,
   "metadata": {},
   "outputs": [
    {
     "data": {
      "text/plain": [
       "tensor([[[1., 1., 1., 1.],\n",
       "         [1., 1., 1., 1.],\n",
       "         [1., 1., 1., 1.]],\n",
       "\n",
       "        [[1., 1., 1., 1.],\n",
       "         [1., 1., 1., 1.],\n",
       "         [1., 1., 1., 1.]]])"
      ]
     },
     "execution_count": 9,
     "metadata": {},
     "output_type": "execute_result"
    }
   ],
   "source": [
    "torch.ones((2,3,4))"
   ]
  },
  {
   "cell_type": "code",
   "execution_count": 10,
   "metadata": {},
   "outputs": [
    {
     "data": {
      "text/plain": [
       "tensor([[ 1.0654, -0.0765, -2.4110, -2.1341],\n",
       "        [-0.5842, -0.6827,  0.5216, -0.6968],\n",
       "        [-0.3749, -1.1468,  0.0579,  0.8644]])"
      ]
     },
     "execution_count": 10,
     "metadata": {},
     "output_type": "execute_result"
    }
   ],
   "source": [
    "torch.randn(3,4) #均值为0,标准差为1的正太分布随机"
   ]
  },
  {
   "cell_type": "code",
   "execution_count": 11,
   "metadata": {},
   "outputs": [
    {
     "data": {
      "text/plain": [
       "tensor([[2, 1, 4, 3],\n",
       "        [1, 2, 3, 4],\n",
       "        [4, 3, 2, 1]])"
      ]
     },
     "execution_count": 11,
     "metadata": {},
     "output_type": "execute_result"
    }
   ],
   "source": [
    "torch.tensor([[2,1,4,3],[1,2,3,4],[4,3,2,1]])  \n",
    "#通过列表创建tensor"
   ]
  },
  {
   "cell_type": "code",
   "execution_count": 12,
   "metadata": {},
   "outputs": [
    {
     "data": {
      "text/plain": [
       "[[2, 1, 4, 3], [1, 2, 3, 4], [4, 3, 2, 1]]"
      ]
     },
     "execution_count": 12,
     "metadata": {},
     "output_type": "execute_result"
    }
   ],
   "source": [
    "[[2,1,4,3],[1,2,3,4],[4,3,2,1]]"
   ]
  },
  {
   "cell_type": "markdown",
   "metadata": {},
   "source": [
    "#### 运算符"
   ]
  },
  {
   "cell_type": "code",
   "execution_count": 13,
   "metadata": {},
   "outputs": [
    {
     "data": {
      "text/plain": [
       "(tensor([ 3.,  4.,  6., 10.]),\n",
       " tensor([-1.,  0.,  2.,  6.]),\n",
       " tensor([ 2.,  4.,  8., 16.]),\n",
       " tensor([0.5000, 1.0000, 2.0000, 4.0000]),\n",
       " tensor([ 1.,  4., 16., 64.]))"
      ]
     },
     "execution_count": 13,
     "metadata": {},
     "output_type": "execute_result"
    }
   ],
   "source": [
    "x = torch.tensor([1.0,2,4,8])\n",
    "y = torch.tensor([2,2,2,2])\n",
    "x + y,x - y,x * y, x / y, x ** y "
   ]
  },
  {
   "cell_type": "code",
   "execution_count": 14,
   "metadata": {},
   "outputs": [
    {
     "data": {
      "text/plain": [
       "tensor([2.7183e+00, 7.3891e+00, 5.4598e+01, 2.9810e+03])"
      ]
     },
     "execution_count": 14,
     "metadata": {},
     "output_type": "execute_result"
    }
   ],
   "source": [
    "torch.exp(x)"
   ]
  },
  {
   "cell_type": "code",
   "execution_count": 15,
   "metadata": {},
   "outputs": [],
   "source": [
    "X = torch.arange(12,dtype=torch.float32).reshape((3,4))\n",
    "Y = torch.tensor([[2.0,1,4,3],[1,2,3,4],[4,3,2,1]])"
   ]
  },
  {
   "cell_type": "code",
   "execution_count": 16,
   "metadata": {},
   "outputs": [
    {
     "data": {
      "text/plain": [
       "tensor([[ 0.,  1.,  2.,  3.],\n",
       "        [ 4.,  5.,  6.,  7.],\n",
       "        [ 8.,  9., 10., 11.],\n",
       "        [ 2.,  1.,  4.,  3.],\n",
       "        [ 1.,  2.,  3.,  4.],\n",
       "        [ 4.,  3.,  2.,  1.]])"
      ]
     },
     "execution_count": 16,
     "metadata": {},
     "output_type": "execute_result"
    }
   ],
   "source": [
    "torch.cat((X,Y),dim=0) #扩展行"
   ]
  },
  {
   "cell_type": "code",
   "execution_count": 17,
   "metadata": {},
   "outputs": [
    {
     "data": {
      "text/plain": [
       "tensor([[ 0.,  1.,  2.,  3.,  2.,  1.,  4.,  3.],\n",
       "        [ 4.,  5.,  6.,  7.,  1.,  2.,  3.,  4.],\n",
       "        [ 8.,  9., 10., 11.,  4.,  3.,  2.,  1.]])"
      ]
     },
     "execution_count": 17,
     "metadata": {},
     "output_type": "execute_result"
    }
   ],
   "source": [
    "torch.cat((X,Y),dim=1) #扩展列"
   ]
  },
  {
   "cell_type": "code",
   "execution_count": 18,
   "metadata": {},
   "outputs": [
    {
     "data": {
      "text/plain": [
       "tensor([[False,  True, False,  True],\n",
       "        [False, False, False, False],\n",
       "        [False, False, False, False]])"
      ]
     },
     "execution_count": 18,
     "metadata": {},
     "output_type": "execute_result"
    }
   ],
   "source": [
    "X == Y #按元素判断"
   ]
  },
  {
   "cell_type": "code",
   "execution_count": 19,
   "metadata": {},
   "outputs": [
    {
     "data": {
      "text/plain": [
       "tensor([[ True, False,  True, False],\n",
       "        [False, False, False, False],\n",
       "        [False, False, False, False]])"
      ]
     },
     "execution_count": 19,
     "metadata": {},
     "output_type": "execute_result"
    }
   ],
   "source": [
    "X < Y"
   ]
  },
  {
   "cell_type": "code",
   "execution_count": 20,
   "metadata": {},
   "outputs": [
    {
     "data": {
      "text/plain": [
       "tensor(66.)"
      ]
     },
     "execution_count": 20,
     "metadata": {},
     "output_type": "execute_result"
    }
   ],
   "source": [
    "X.sum()  #所有元素求和"
   ]
  },
  {
   "cell_type": "markdown",
   "metadata": {},
   "source": [
    "#### 广播机制"
   ]
  },
  {
   "cell_type": "markdown",
   "metadata": {},
   "source": [
    "1. 通过适当复制元素来扩展一个或两个数组，以便在转换之后，两个张量具有相同的形状。\n",
    "2. 对生成的数组执行按元素操作"
   ]
  },
  {
   "cell_type": "code",
   "execution_count": 21,
   "metadata": {},
   "outputs": [
    {
     "data": {
      "text/plain": [
       "(tensor([[0],\n",
       "         [1],\n",
       "         [2]]),\n",
       " tensor([[0, 1]]))"
      ]
     },
     "execution_count": 21,
     "metadata": {},
     "output_type": "execute_result"
    }
   ],
   "source": [
    "a = torch.arange(3).reshape((3,1))\n",
    "b = torch.arange(2).reshape((1,2))\n",
    "a,b"
   ]
  },
  {
   "cell_type": "code",
   "execution_count": 22,
   "metadata": {},
   "outputs": [
    {
     "data": {
      "text/plain": [
       "tensor([[0, 1],\n",
       "        [1, 2],\n",
       "        [2, 3]])"
      ]
     },
     "execution_count": 22,
     "metadata": {},
     "output_type": "execute_result"
    }
   ],
   "source": [
    "a + b #广播机制"
   ]
  },
  {
   "cell_type": "code",
   "execution_count": 23,
   "metadata": {},
   "outputs": [
    {
     "data": {
      "text/plain": [
       "torch.Size([3, 2, 2])"
      ]
     },
     "execution_count": 23,
     "metadata": {},
     "output_type": "execute_result"
    }
   ],
   "source": [
    "a = torch.ones(3,1,2)\n",
    "b = torch.ones(2,1)\n",
    "#广播时，从尾部遍历维度，1对应2,2对应1,3对应不存在\n",
    "(a+b).size()"
   ]
  },
  {
   "cell_type": "markdown",
   "metadata": {},
   "source": [
    "#### 索引和切片"
   ]
  },
  {
   "cell_type": "code",
   "execution_count": 24,
   "metadata": {},
   "outputs": [
    {
     "data": {
      "text/plain": [
       "tensor([[ 0.,  1.,  2.,  3.],\n",
       "        [ 4.,  5.,  6.,  7.],\n",
       "        [ 8.,  9., 10., 11.]])"
      ]
     },
     "execution_count": 24,
     "metadata": {},
     "output_type": "execute_result"
    }
   ],
   "source": [
    "X"
   ]
  },
  {
   "cell_type": "code",
   "execution_count": 25,
   "metadata": {},
   "outputs": [
    {
     "data": {
      "text/plain": [
       "tensor([ 8.,  9., 10., 11.])"
      ]
     },
     "execution_count": 25,
     "metadata": {},
     "output_type": "execute_result"
    }
   ],
   "source": [
    "X[-1] #最后一个元素\n"
   ]
  },
  {
   "cell_type": "code",
   "execution_count": 26,
   "metadata": {},
   "outputs": [
    {
     "data": {
      "text/plain": [
       "tensor([[ 4.,  5.,  6.,  7.],\n",
       "        [ 8.,  9., 10., 11.]])"
      ]
     },
     "execution_count": 26,
     "metadata": {},
     "output_type": "execute_result"
    }
   ],
   "source": [
    "X[1:3] #第二个元素和第三个元素"
   ]
  },
  {
   "cell_type": "code",
   "execution_count": 27,
   "metadata": {},
   "outputs": [
    {
     "data": {
      "text/plain": [
       "tensor([[ 0.,  1.,  2.,  3.],\n",
       "        [ 4.,  5.,  9.,  7.],\n",
       "        [ 8.,  9., 10., 11.]])"
      ]
     },
     "execution_count": 27,
     "metadata": {},
     "output_type": "execute_result"
    }
   ],
   "source": [
    "X[1,2] = 9 #写入操作\n",
    "X"
   ]
  },
  {
   "cell_type": "code",
   "execution_count": 28,
   "metadata": {},
   "outputs": [
    {
     "data": {
      "text/plain": [
       "tensor([[12., 12., 12., 12.],\n",
       "        [12., 12., 12., 12.],\n",
       "        [ 8.,  9., 10., 11.]])"
      ]
     },
     "execution_count": 28,
     "metadata": {},
     "output_type": "execute_result"
    }
   ],
   "source": [
    "X[0:2,:] = 12\n",
    "X"
   ]
  },
  {
   "cell_type": "markdown",
   "metadata": {},
   "source": [
    "#### 节省内存"
   ]
  },
  {
   "cell_type": "code",
   "execution_count": 29,
   "metadata": {},
   "outputs": [
    {
     "data": {
      "text/plain": [
       "False"
      ]
     },
     "execution_count": 29,
     "metadata": {},
     "output_type": "execute_result"
    }
   ],
   "source": [
    "before = id(Y)\n",
    "Y = X + Y\n",
    "id(Y) == before"
   ]
  },
  {
   "cell_type": "code",
   "execution_count": 30,
   "metadata": {},
   "outputs": [
    {
     "name": "stdout",
     "output_type": "stream",
     "text": [
      "id(Z): 139974966805504\n",
      "id(Z): 139974966805504\n"
     ]
    }
   ],
   "source": [
    "Z = torch.zeros_like(Y) #安装Y的形状创建全0矩阵\n",
    "print('id(Z):',id(Z))\n",
    "Z[:] = X + Y\n",
    "print('id(Z):',id(Z))"
   ]
  },
  {
   "cell_type": "code",
   "execution_count": 31,
   "metadata": {},
   "outputs": [
    {
     "data": {
      "text/plain": [
       "True"
      ]
     },
     "execution_count": 31,
     "metadata": {},
     "output_type": "execute_result"
    }
   ],
   "source": [
    "before = id(X)\n",
    "X += Y\n",
    "id(X) == before\n"
   ]
  },
  {
   "cell_type": "code",
   "execution_count": 32,
   "metadata": {},
   "outputs": [
    {
     "data": {
      "text/plain": [
       "False"
      ]
     },
     "execution_count": 32,
     "metadata": {},
     "output_type": "execute_result"
    }
   ],
   "source": [
    "before = id(X)\n",
    "X = X + Y  #注意和前一个操作对比，此操作会使用新内存，钱一个不会\n",
    "id(X) == before"
   ]
  },
  {
   "cell_type": "markdown",
   "metadata": {},
   "source": [
    "#### 转换为其他Python对象"
   ]
  },
  {
   "cell_type": "code",
   "execution_count": 33,
   "metadata": {},
   "outputs": [
    {
     "data": {
      "text/plain": [
       "(numpy.ndarray, torch.Tensor)"
      ]
     },
     "execution_count": 33,
     "metadata": {},
     "output_type": "execute_result"
    }
   ],
   "source": [
    "A = X.numpy()  #tensor转为numpy\n",
    "B = torch.tensor(A) #numpy转为tensor\n",
    "type(A),type(B)"
   ]
  },
  {
   "cell_type": "code",
   "execution_count": 34,
   "metadata": {},
   "outputs": [
    {
     "data": {
      "text/plain": [
       "(tensor([3.5000]), 3.5, 3.5, 3)"
      ]
     },
     "execution_count": 34,
     "metadata": {},
     "output_type": "execute_result"
    }
   ],
   "source": [
    "a = torch.tensor([3.5])\n",
    "a,a.item(),float(a),int(a)"
   ]
  },
  {
   "cell_type": "markdown",
   "metadata": {},
   "source": [
    "### 数据预处理"
   ]
  },
  {
   "cell_type": "markdown",
   "metadata": {},
   "source": [
    "介绍pandas预处理原始数据，并且转为tensor"
   ]
  },
  {
   "cell_type": "markdown",
   "metadata": {},
   "source": [
    "#### 读取数据集"
   ]
  },
  {
   "cell_type": "code",
   "execution_count": 35,
   "metadata": {},
   "outputs": [],
   "source": [
    "import os\n",
    "\n",
    "os.makedirs(os.path.join('..','data'),exist_ok=True)\n",
    "data_file = os.path.join('..','data','house_tiny.csv')\n",
    "\n",
    "with open(data_file,'w') as f:\n",
    "    f.write('NumRooms,Alley,Price\\n') #列名\n",
    "    f.write('NA,Pave,127500\\n') #每行表示一个样本\n",
    "    f.write('2,NA,106000\\n')\n",
    "    f.write('4,NA,178100\\n')\n",
    "    f.write('NA,NA,140000\\n')"
   ]
  },
  {
   "cell_type": "code",
   "execution_count": 36,
   "metadata": {},
   "outputs": [
    {
     "name": "stdout",
     "output_type": "stream",
     "text": [
      "   NumRooms Alley   Price\n",
      "0       NaN  Pave  127500\n",
      "1       2.0   NaN  106000\n",
      "2       4.0   NaN  178100\n",
      "3       NaN   NaN  140000\n"
     ]
    }
   ],
   "source": [
    "import pandas as pd\n",
    "\n",
    "data = pd.read_csv(data_file)\n",
    "print(data)"
   ]
  },
  {
   "cell_type": "markdown",
   "metadata": {},
   "source": [
    "#### 处理缺失值"
   ]
  },
  {
   "cell_type": "code",
   "execution_count": 37,
   "metadata": {},
   "outputs": [
    {
     "name": "stdout",
     "output_type": "stream",
     "text": [
      "   NumRooms Alley\n",
      "0       3.0  Pave\n",
      "1       2.0   NaN\n",
      "2       4.0   NaN\n",
      "3       3.0   NaN\n"
     ]
    }
   ],
   "source": [
    "from unicodedata import numeric\n",
    "\n",
    "\n",
    "inputs,outputs = data.iloc[:,0:2],data.iloc[:,2]  #前两列为输入，最后一列为u输出\n",
    "inputs = inputs.fillna(inputs.mean())  #填充NaN，使用均值\n",
    "print(inputs)"
   ]
  },
  {
   "cell_type": "code",
   "execution_count": 38,
   "metadata": {},
   "outputs": [
    {
     "name": "stdout",
     "output_type": "stream",
     "text": [
      "   NumRooms  Alley_Pave  Alley_nan\n",
      "0       3.0           1          0\n",
      "1       2.0           0          1\n",
      "2       4.0           0          1\n",
      "3       3.0           0          1\n"
     ]
    }
   ],
   "source": [
    "inputs = pd.get_dummies(inputs,dummy_na=True) #是利用pandas实现one hot encode的方式\n",
    "print(inputs)"
   ]
  },
  {
   "cell_type": "markdown",
   "metadata": {},
   "source": [
    "#### 转换为张量格式"
   ]
  },
  {
   "cell_type": "code",
   "execution_count": 39,
   "metadata": {},
   "outputs": [
    {
     "data": {
      "text/plain": [
       "(tensor([[3., 1., 0.],\n",
       "         [2., 0., 1.],\n",
       "         [4., 0., 1.],\n",
       "         [3., 0., 1.]], dtype=torch.float64),\n",
       " tensor([127500, 106000, 178100, 140000]))"
      ]
     },
     "execution_count": 39,
     "metadata": {},
     "output_type": "execute_result"
    }
   ],
   "source": [
    "X,y = torch.tensor(inputs.values),torch.tensor(outputs.values)\n",
    "X,y"
   ]
  },
  {
   "cell_type": "code",
   "execution_count": 40,
   "metadata": {},
   "outputs": [
    {
     "data": {
      "text/plain": [
       "(array([[3., 1., 0.],\n",
       "        [2., 0., 1.],\n",
       "        [4., 0., 1.],\n",
       "        [3., 0., 1.]]),\n",
       " array([127500, 106000, 178100, 140000]))"
      ]
     },
     "execution_count": 40,
     "metadata": {},
     "output_type": "execute_result"
    }
   ],
   "source": [
    "inputs.values,outputs.values"
   ]
  },
  {
   "cell_type": "markdown",
   "metadata": {},
   "source": [
    "### 转换为张量格式"
   ]
  },
  {
   "cell_type": "markdown",
   "metadata": {},
   "source": [
    "#### 表量"
   ]
  },
  {
   "cell_type": "code",
   "execution_count": 41,
   "metadata": {},
   "outputs": [],
   "source": [
    "import torch"
   ]
  },
  {
   "cell_type": "code",
   "execution_count": 42,
   "metadata": {},
   "outputs": [
    {
     "data": {
      "text/plain": [
       "(tensor(5.), tensor(6.), tensor(1.5000), tensor(9.))"
      ]
     },
     "execution_count": 42,
     "metadata": {},
     "output_type": "execute_result"
    }
   ],
   "source": [
    "x = torch.tensor(3.)\n",
    "y = torch.tensor(2.)\n",
    "x + y, x* y, x / y , x**y"
   ]
  },
  {
   "cell_type": "markdown",
   "metadata": {},
   "source": [
    "#### 向量"
   ]
  },
  {
   "cell_type": "code",
   "execution_count": 43,
   "metadata": {},
   "outputs": [
    {
     "data": {
      "text/plain": [
       "tensor([0, 1, 2, 3])"
      ]
     },
     "execution_count": 43,
     "metadata": {},
     "output_type": "execute_result"
    }
   ],
   "source": [
    "x = torch.arange(4)\n",
    "x"
   ]
  },
  {
   "cell_type": "code",
   "execution_count": 44,
   "metadata": {},
   "outputs": [
    {
     "data": {
      "text/plain": [
       "tensor(3)"
      ]
     },
     "execution_count": 44,
     "metadata": {},
     "output_type": "execute_result"
    }
   ],
   "source": [
    "x[3] #第三个元素"
   ]
  },
  {
   "cell_type": "code",
   "execution_count": 45,
   "metadata": {},
   "outputs": [
    {
     "data": {
      "text/plain": [
       "4"
      ]
     },
     "execution_count": 45,
     "metadata": {},
     "output_type": "execute_result"
    }
   ],
   "source": [
    "len(x) #计算长度"
   ]
  },
  {
   "cell_type": "code",
   "execution_count": 46,
   "metadata": {},
   "outputs": [
    {
     "data": {
      "text/plain": [
       "torch.Size([4])"
      ]
     },
     "execution_count": 46,
     "metadata": {},
     "output_type": "execute_result"
    }
   ],
   "source": [
    "x.shape  #形状  向量或轴的维度用来表示向量或轴的长度，即向量或轴的元素数量。张量的维度用来表示张量具有的轴数"
   ]
  },
  {
   "cell_type": "markdown",
   "metadata": {},
   "source": [
    "#### 矩阵"
   ]
  },
  {
   "cell_type": "code",
   "execution_count": 47,
   "metadata": {},
   "outputs": [
    {
     "data": {
      "text/plain": [
       "tensor([[ 0,  1,  2,  3],\n",
       "        [ 4,  5,  6,  7],\n",
       "        [ 8,  9, 10, 11],\n",
       "        [12, 13, 14, 15],\n",
       "        [16, 17, 18, 19]])"
      ]
     },
     "execution_count": 47,
     "metadata": {},
     "output_type": "execute_result"
    }
   ],
   "source": [
    "A = torch.arange(20).reshape(5,4) #创建20个数字的向量，修改成（5,4）的矩阵;reshape（）函数传入的不是元组\n",
    "A"
   ]
  },
  {
   "cell_type": "code",
   "execution_count": 48,
   "metadata": {},
   "outputs": [
    {
     "data": {
      "text/plain": [
       "tensor([[ 0,  4,  8, 12, 16],\n",
       "        [ 1,  5,  9, 13, 17],\n",
       "        [ 2,  6, 10, 14, 18],\n",
       "        [ 3,  7, 11, 15, 19]])"
      ]
     },
     "execution_count": 48,
     "metadata": {},
     "output_type": "execute_result"
    }
   ],
   "source": [
    "A.T #A的转置  a_ij = b_ji"
   ]
  },
  {
   "cell_type": "code",
   "execution_count": 49,
   "metadata": {},
   "outputs": [
    {
     "data": {
      "text/plain": [
       "tensor([[1, 2, 3],\n",
       "        [2, 0, 4],\n",
       "        [3, 4, 5]])"
      ]
     },
     "execution_count": 49,
     "metadata": {},
     "output_type": "execute_result"
    }
   ],
   "source": [
    "B = torch.tensor([[1,2,3],[2,0,4],[3,4,5]])  #对角矩阵\n",
    "B"
   ]
  },
  {
   "cell_type": "code",
   "execution_count": 50,
   "metadata": {},
   "outputs": [
    {
     "data": {
      "text/plain": [
       "tensor([[True, True, True],\n",
       "        [True, True, True],\n",
       "        [True, True, True]])"
      ]
     },
     "execution_count": 50,
     "metadata": {},
     "output_type": "execute_result"
    }
   ],
   "source": [
    "B == B.T"
   ]
  },
  {
   "cell_type": "markdown",
   "metadata": {},
   "source": [
    "#### 张量"
   ]
  },
  {
   "cell_type": "code",
   "execution_count": 51,
   "metadata": {},
   "outputs": [
    {
     "data": {
      "text/plain": [
       "tensor([[[ 0,  1,  2,  3],\n",
       "         [ 4,  5,  6,  7],\n",
       "         [ 8,  9, 10, 11]],\n",
       "\n",
       "        [[12, 13, 14, 15],\n",
       "         [16, 17, 18, 19],\n",
       "         [20, 21, 22, 23]]])"
      ]
     },
     "execution_count": 51,
     "metadata": {},
     "output_type": "execute_result"
    }
   ],
   "source": [
    "X = torch.arange(24).reshape(2,3,4)\n",
    "X"
   ]
  },
  {
   "cell_type": "markdown",
   "metadata": {},
   "source": [
    "#### 张量的基本性质"
   ]
  },
  {
   "cell_type": "code",
   "execution_count": 52,
   "metadata": {},
   "outputs": [
    {
     "data": {
      "text/plain": [
       "(tensor([[ 0.,  1.,  2.,  3.],\n",
       "         [ 4.,  5.,  6.,  7.],\n",
       "         [ 8.,  9., 10., 11.],\n",
       "         [12., 13., 14., 15.],\n",
       "         [16., 17., 18., 19.]]),\n",
       " tensor([[ 0.,  2.,  4.,  6.],\n",
       "         [ 8., 10., 12., 14.],\n",
       "         [16., 18., 20., 22.],\n",
       "         [24., 26., 28., 30.],\n",
       "         [32., 34., 36., 38.]]))"
      ]
     },
     "execution_count": 52,
     "metadata": {},
     "output_type": "execute_result"
    }
   ],
   "source": [
    "A = torch.arange(20,dtype=torch.float32).reshape(5,4)\n",
    "B = A.clone()  #通过分配新的内存，将A的副分分给B\n",
    "A,A+B"
   ]
  },
  {
   "cell_type": "code",
   "execution_count": 53,
   "metadata": {},
   "outputs": [
    {
     "data": {
      "text/plain": [
       "tensor([[  0.,   1.,   4.,   9.],\n",
       "        [ 16.,  25.,  36.,  49.],\n",
       "        [ 64.,  81., 100., 121.],\n",
       "        [144., 169., 196., 225.],\n",
       "        [256., 289., 324., 361.]])"
      ]
     },
     "execution_count": 53,
     "metadata": {},
     "output_type": "execute_result"
    }
   ],
   "source": [
    "A * B #Hadamad product"
   ]
  },
  {
   "cell_type": "code",
   "execution_count": 54,
   "metadata": {},
   "outputs": [
    {
     "name": "stdout",
     "output_type": "stream",
     "text": [
      "tensor([[[ 2,  3,  4,  5],\n",
      "         [ 6,  7,  8,  9],\n",
      "         [10, 11, 12, 13]],\n",
      "\n",
      "        [[14, 15, 16, 17],\n",
      "         [18, 19, 20, 21],\n",
      "         [22, 23, 24, 25]]])\n"
     ]
    },
    {
     "data": {
      "text/plain": [
       "torch.Size([2, 3, 4])"
      ]
     },
     "execution_count": 54,
     "metadata": {},
     "output_type": "execute_result"
    }
   ],
   "source": [
    "a = 2\n",
    "X = torch.arange(24).reshape(2,3,4)\n",
    "print(a + X),#按元素相加\n",
    "(a * X).shape"
   ]
  },
  {
   "cell_type": "markdown",
   "metadata": {},
   "source": [
    "#### 降维"
   ]
  },
  {
   "cell_type": "code",
   "execution_count": 55,
   "metadata": {},
   "outputs": [
    {
     "data": {
      "text/plain": [
       "(tensor([0., 1., 2., 3.]), tensor(6.))"
      ]
     },
     "execution_count": 55,
     "metadata": {},
     "output_type": "execute_result"
    }
   ],
   "source": [
    "x = torch.arange(4,dtype=torch.float32)\n",
    "x,x.sum() #所有元素求和"
   ]
  },
  {
   "cell_type": "code",
   "execution_count": 56,
   "metadata": {},
   "outputs": [
    {
     "data": {
      "text/plain": [
       "(torch.Size([5, 4]), tensor(190.))"
      ]
     },
     "execution_count": 56,
     "metadata": {},
     "output_type": "execute_result"
    }
   ],
   "source": [
    "A.shape,A.sum()  #矩阵元素和"
   ]
  },
  {
   "cell_type": "code",
   "execution_count": 57,
   "metadata": {},
   "outputs": [
    {
     "data": {
      "text/plain": [
       "(tensor([40., 45., 50., 55.]), torch.Size([4]))"
      ]
     },
     "execution_count": 57,
     "metadata": {},
     "output_type": "execute_result"
    }
   ],
   "source": [
    "A_sum_axis0 = A.sum(axis=0) #axis=0表示在行上进行扩展或缩减\n",
    "A_sum_axis0,A_sum_axis0.shape"
   ]
  },
  {
   "cell_type": "code",
   "execution_count": 58,
   "metadata": {},
   "outputs": [
    {
     "data": {
      "text/plain": [
       "(tensor([ 6., 22., 38., 54., 70.]), torch.Size([5]))"
      ]
     },
     "execution_count": 58,
     "metadata": {},
     "output_type": "execute_result"
    }
   ],
   "source": [
    "A_sum_axis1 = A.sum(axis=1)\n",
    "A_sum_axis1,A_sum_axis1.shape"
   ]
  },
  {
   "cell_type": "code",
   "execution_count": 59,
   "metadata": {},
   "outputs": [
    {
     "data": {
      "text/plain": [
       "tensor(190.)"
      ]
     },
     "execution_count": 59,
     "metadata": {},
     "output_type": "execute_result"
    }
   ],
   "source": [
    "A.sum(axis=[0,1]) # A.sum()"
   ]
  },
  {
   "cell_type": "code",
   "execution_count": 60,
   "metadata": {},
   "outputs": [
    {
     "data": {
      "text/plain": [
       "tensor(190.)"
      ]
     },
     "execution_count": 60,
     "metadata": {},
     "output_type": "execute_result"
    }
   ],
   "source": [
    "A.sum(axis=(0,1))  #和上相同"
   ]
  },
  {
   "cell_type": "code",
   "execution_count": 61,
   "metadata": {},
   "outputs": [
    {
     "data": {
      "text/plain": [
       "(tensor(9.5000), tensor(9.5000))"
      ]
     },
     "execution_count": 61,
     "metadata": {},
     "output_type": "execute_result"
    }
   ],
   "source": [
    "A.mean(),A.sum()/A.numel()  #和/个数"
   ]
  },
  {
   "cell_type": "code",
   "execution_count": 62,
   "metadata": {},
   "outputs": [
    {
     "data": {
      "text/plain": [
       "(tensor([ 8.,  9., 10., 11.]), tensor([ 8.,  9., 10., 11.]))"
      ]
     },
     "execution_count": 62,
     "metadata": {},
     "output_type": "execute_result"
    }
   ],
   "source": [
    "A.mean(axis=0),A.sum(axis=0)/A.shape[0]"
   ]
  },
  {
   "cell_type": "markdown",
   "metadata": {},
   "source": [
    "#### 非降维求和"
   ]
  },
  {
   "cell_type": "code",
   "execution_count": 63,
   "metadata": {},
   "outputs": [
    {
     "data": {
      "text/plain": [
       "tensor([[ 6.],\n",
       "        [22.],\n",
       "        [38.],\n",
       "        [54.],\n",
       "        [70.]])"
      ]
     },
     "execution_count": 63,
     "metadata": {},
     "output_type": "execute_result"
    }
   ],
   "source": [
    "sum_A = A.sum(axis=1,keepdim= True)\n",
    "sum_A"
   ]
  },
  {
   "cell_type": "code",
   "execution_count": 64,
   "metadata": {},
   "outputs": [
    {
     "data": {
      "text/plain": [
       "tensor([[0.0000, 0.1667, 0.3333, 0.5000],\n",
       "        [0.1818, 0.2273, 0.2727, 0.3182],\n",
       "        [0.2105, 0.2368, 0.2632, 0.2895],\n",
       "        [0.2222, 0.2407, 0.2593, 0.2778],\n",
       "        [0.2286, 0.2429, 0.2571, 0.2714]])"
      ]
     },
     "execution_count": 64,
     "metadata": {},
     "output_type": "execute_result"
    }
   ],
   "source": [
    "A/sum_A #sum_A还是两个轴，通过广播进行相处\n"
   ]
  },
  {
   "cell_type": "code",
   "execution_count": 65,
   "metadata": {},
   "outputs": [
    {
     "data": {
      "text/plain": [
       "tensor([[ 0.,  1.,  2.,  3.],\n",
       "        [ 4.,  5.,  6.,  7.],\n",
       "        [ 8.,  9., 10., 11.],\n",
       "        [12., 13., 14., 15.],\n",
       "        [16., 17., 18., 19.]])"
      ]
     },
     "execution_count": 65,
     "metadata": {},
     "output_type": "execute_result"
    }
   ],
   "source": [
    "A"
   ]
  },
  {
   "cell_type": "code",
   "execution_count": 66,
   "metadata": {},
   "outputs": [
    {
     "data": {
      "text/plain": [
       "tensor([[ 0.,  1.,  2.,  3.],\n",
       "        [ 4.,  6.,  8., 10.],\n",
       "        [12., 15., 18., 21.],\n",
       "        [24., 28., 32., 36.],\n",
       "        [40., 45., 50., 55.]])"
      ]
     },
     "execution_count": 66,
     "metadata": {},
     "output_type": "execute_result"
    }
   ],
   "source": [
    "A.cumsum(axis=0)"
   ]
  },
  {
   "cell_type": "markdown",
   "metadata": {},
   "source": [
    "#### 点积"
   ]
  },
  {
   "cell_type": "code",
   "execution_count": 67,
   "metadata": {},
   "outputs": [
    {
     "data": {
      "text/plain": [
       "(tensor([0., 1., 2., 3.]), tensor([1., 1., 1., 1.]), tensor(6.))"
      ]
     },
     "execution_count": 67,
     "metadata": {},
     "output_type": "execute_result"
    }
   ],
   "source": [
    "y = torch.ones(4,dtype=torch.float32)\n",
    "x,y,torch.dot(x,y)"
   ]
  },
  {
   "cell_type": "code",
   "execution_count": 68,
   "metadata": {},
   "outputs": [
    {
     "data": {
      "text/plain": [
       "tensor(6.)"
      ]
     },
     "execution_count": 68,
     "metadata": {},
     "output_type": "execute_result"
    }
   ],
   "source": [
    "torch.sum(x * y)"
   ]
  },
  {
   "cell_type": "code",
   "execution_count": 69,
   "metadata": {},
   "outputs": [
    {
     "data": {
      "text/plain": [
       "tensor(6.)"
      ]
     },
     "execution_count": 69,
     "metadata": {},
     "output_type": "execute_result"
    }
   ],
   "source": [
    "(x * y).sum()"
   ]
  },
  {
   "cell_type": "markdown",
   "metadata": {},
   "source": [
    "#### 矩阵-向量积"
   ]
  },
  {
   "cell_type": "code",
   "execution_count": 70,
   "metadata": {},
   "outputs": [
    {
     "data": {
      "text/plain": [
       "(torch.Size([5, 4]), torch.Size([4]), tensor([ 14.,  38.,  62.,  86., 110.]))"
      ]
     },
     "execution_count": 70,
     "metadata": {},
     "output_type": "execute_result"
    }
   ],
   "source": [
    "A.shape,x.shape,torch.mv(A,x)"
   ]
  },
  {
   "cell_type": "markdown",
   "metadata": {},
   "source": [
    "#### 矩阵-矩阵乘法"
   ]
  },
  {
   "cell_type": "code",
   "execution_count": 71,
   "metadata": {},
   "outputs": [
    {
     "data": {
      "text/plain": [
       "tensor([[ 6.,  6.,  6.],\n",
       "        [22., 22., 22.],\n",
       "        [38., 38., 38.],\n",
       "        [54., 54., 54.],\n",
       "        [70., 70., 70.]])"
      ]
     },
     "execution_count": 71,
     "metadata": {},
     "output_type": "execute_result"
    }
   ],
   "source": [
    "B = torch.ones(4,3)\n",
    "torch.mm(A,B)"
   ]
  },
  {
   "cell_type": "markdown",
   "metadata": {},
   "source": [
    "#### 范数"
   ]
  },
  {
   "cell_type": "markdown",
   "metadata": {},
   "source": [
    "向量范数是将向量映射到标量的函数f。给定任意向量X，向量范数要满足一些属性。\n",
    "1. 如果我们按常数因子alph缩放向量的所有元素，其范数也会按相同的常数因子的绝对值缩放。\n",
    "2. 满足三角不等式。\n",
    "3. 范数是非负的。"
   ]
  },
  {
   "cell_type": "code",
   "execution_count": 72,
   "metadata": {},
   "outputs": [
    {
     "data": {
      "text/plain": [
       "tensor(5.)"
      ]
     },
     "execution_count": 72,
     "metadata": {},
     "output_type": "execute_result"
    }
   ],
   "source": [
    "u = torch.tensor([3.,-4.]) # 2范数\n",
    "torch.norm(u)"
   ]
  },
  {
   "cell_type": "code",
   "execution_count": 73,
   "metadata": {},
   "outputs": [
    {
     "data": {
      "text/plain": [
       "tensor(7.)"
      ]
     },
     "execution_count": 73,
     "metadata": {},
     "output_type": "execute_result"
    }
   ],
   "source": [
    "torch.abs(u).sum()  # 1范数"
   ]
  },
  {
   "cell_type": "code",
   "execution_count": 74,
   "metadata": {},
   "outputs": [
    {
     "data": {
      "text/plain": [
       "tensor(6.)"
      ]
     },
     "execution_count": 74,
     "metadata": {},
     "output_type": "execute_result"
    }
   ],
   "source": [
    "torch.norm(torch.ones((4,9)))  # F范数  矩阵元素平方和的平方跟"
   ]
  },
  {
   "cell_type": "markdown",
   "metadata": {},
   "source": [
    "### 微积分"
   ]
  },
  {
   "cell_type": "code",
   "execution_count": 75,
   "metadata": {},
   "outputs": [
    {
     "name": "stdout",
     "output_type": "stream",
     "text": [
      "h=0.10000,numerical limit=2.30000\n",
      "h=0.01000,numerical limit=2.03000\n",
      "h=0.00100,numerical limit=2.00300\n",
      "h=0.00010,numerical limit=2.00030\n",
      "h=0.00001,numerical limit=2.00003\n"
     ]
    }
   ],
   "source": [
    "%matplotlib inline\n",
    "import numpy as np\n",
    "from matplotlib_inline import backend_inline\n",
    "from d2l import torch as d2l\n",
    "\n",
    "def f(x):\n",
    "    return 3 * x**2 -4 * x\n",
    "\n",
    "def numerical_lim(f,x,h):\n",
    "    return (f(x+h)-f(x))/h\n",
    "\n",
    "h = 0.1\n",
    "\n",
    "for i in range(5):\n",
    "    print(f'h={h:.5f},numerical limit={numerical_lim(f,1,h):.5f}')\n",
    "    h *= 0.1"
   ]
  },
  {
   "cell_type": "code",
   "execution_count": 76,
   "metadata": {},
   "outputs": [],
   "source": [
    "def use_svg_display(): #@save\n",
    "    \"\"\"使用svg格式在Jupyter中显示绘画\"\"\"\n",
    "    backend_inline.set_matplotlib_formats('svg')"
   ]
  },
  {
   "cell_type": "code",
   "execution_count": 77,
   "metadata": {},
   "outputs": [],
   "source": [
    "def set_figsize(figsize=(3.5,2.5)): #@save\n",
    "    \"\"\"设置matplotlib的图表大小\"\"\"\n",
    "    use_svg_display()\n",
    "    d2l.plt.rcParams['figure.figsize'] = figsize"
   ]
  },
  {
   "cell_type": "code",
   "execution_count": 78,
   "metadata": {},
   "outputs": [],
   "source": [
    "#@save\n",
    "def set_axes(axes,xlabel,ylabel,xlim,ylim,xscale,yscale,legend):\n",
    "    \"\"\"设置matplotlib的轴\"\"\"\n",
    "    axes.set_xlabel(xlabel)\n",
    "    axes.set_ylabel(ylabel)\n",
    "    axes.set_xscale(xscale)\n",
    "    axes.set_yscale(yscale)\n",
    "    axes.set_xlim(xlim)\n",
    "    axes.set_ylim(ylim)\n",
    "    if legend:\n",
    "        axes.legend(legend)\n",
    "    axes.grid()"
   ]
  },
  {
   "cell_type": "code",
   "execution_count": 79,
   "metadata": {},
   "outputs": [],
   "source": [
    "#@save\n",
    "def plot(X,Y=None,xlabel=None,ylabel=None,legend=None,xlim=None,ylim=None,xscale='linear',yscale='linear',\n",
    "        fmts=('-','m--','g-.','r:'),figsize=(3.5,2.5),axes=None):\n",
    "        \"\"\"绘制数据点\"\"\"\n",
    "        if legend is None:\n",
    "            legend = []\n",
    "        \n",
    "        set_figsize(figsize)\n",
    "        axes = axes if axes else d2l.plt.gca()\n",
    "\n",
    "        #如果X有一个轴，输出True\n",
    "        def has_one_axis(X):\n",
    "            return (hasattr(X,\"ndim\") and X.ndim == 1 or isinstance(X,list) and not hasattr(X[0],\"__len__\"))\n",
    "\n",
    "        if has_one_axis(X):\n",
    "            X = [X]\n",
    "\n",
    "        if Y is None:\n",
    "            X,Y = [[]] * len(X),X\n",
    "        elif has_one_axis(Y):\n",
    "            Y = [Y]\n",
    "        if len(X) != len(Y):\n",
    "            X = X * len(Y)\n",
    "        axes.cla()\n",
    "        for x,y,fmt in zip(X,Y,fmts):\n",
    "            if len(x):\n",
    "                axes.plot(x,y,fmt)\n",
    "            else:\n",
    "                axes.plot(y,fmt)\n",
    "        set_axes(axes,xlabel,ylabel,xlim,ylim,xscale,yscale,legend)\n"
   ]
  },
  {
   "cell_type": "code",
   "execution_count": 80,
   "metadata": {},
   "outputs": [
    {
     "data": {
      "image/svg+xml": "<?xml version=\"1.0\" encoding=\"utf-8\" standalone=\"no\"?>\n<!DOCTYPE svg PUBLIC \"-//W3C//DTD SVG 1.1//EN\"\n  \"http://www.w3.org/Graphics/SVG/1.1/DTD/svg11.dtd\">\n<svg xmlns:xlink=\"http://www.w3.org/1999/xlink\" width=\"243.529359pt\" height=\"180.65625pt\" viewBox=\"0 0 243.529359 180.65625\" xmlns=\"http://www.w3.org/2000/svg\" version=\"1.1\">\n <metadata>\n  <rdf:RDF xmlns:dc=\"http://purl.org/dc/elements/1.1/\" xmlns:cc=\"http://creativecommons.org/ns#\" xmlns:rdf=\"http://www.w3.org/1999/02/22-rdf-syntax-ns#\">\n   <cc:Work>\n    <dc:type rdf:resource=\"http://purl.org/dc/dcmitype/StillImage\"/>\n    <dc:date>2022-12-05T21:08:08.614977</dc:date>\n    <dc:format>image/svg+xml</dc:format>\n    <dc:creator>\n     <cc:Agent>\n      <dc:title>Matplotlib v3.5.1, https://matplotlib.org/</dc:title>\n     </cc:Agent>\n    </dc:creator>\n   </cc:Work>\n  </rdf:RDF>\n </metadata>\n <defs>\n  <style type=\"text/css\">*{stroke-linejoin: round; stroke-linecap: butt}</style>\n </defs>\n <g id=\"figure_1\">\n  <g id=\"patch_1\">\n   <path d=\"M 0 180.65625 \nL 243.529359 180.65625 \nL 243.529359 0 \nL 0 0 \nL 0 180.65625 \nz\n\" style=\"fill: none\"/>\n  </g>\n  <g id=\"axes_1\">\n   <g id=\"patch_2\">\n    <path d=\"M 40.603125 143.1 \nL 235.903125 143.1 \nL 235.903125 7.2 \nL 40.603125 7.2 \nz\n\" style=\"fill: #ffffff\"/>\n   </g>\n   <g id=\"matplotlib.axis_1\">\n    <g id=\"xtick_1\">\n     <g id=\"line2d_1\">\n      <path d=\"M 49.480398 143.1 \nL 49.480398 7.2 \n\" clip-path=\"url(#p19bac6271d)\" style=\"fill: none; stroke: #b0b0b0; stroke-width: 0.8; stroke-linecap: square\"/>\n     </g>\n     <g id=\"line2d_2\">\n      <defs>\n       <path id=\"me34bd8cbe1\" d=\"M 0 0 \nL 0 3.5 \n\" style=\"stroke: #000000; stroke-width: 0.8\"/>\n      </defs>\n      <g>\n       <use xlink:href=\"#me34bd8cbe1\" x=\"49.480398\" y=\"143.1\" style=\"stroke: #000000; stroke-width: 0.8\"/>\n      </g>\n     </g>\n     <g id=\"text_1\">\n      <!-- 0 -->\n      <g transform=\"translate(46.299148 157.698438)scale(0.1 -0.1)\">\n       <defs>\n        <path id=\"DejaVuSans-30\" d=\"M 2034 4250 \nQ 1547 4250 1301 3770 \nQ 1056 3291 1056 2328 \nQ 1056 1369 1301 889 \nQ 1547 409 2034 409 \nQ 2525 409 2770 889 \nQ 3016 1369 3016 2328 \nQ 3016 3291 2770 3770 \nQ 2525 4250 2034 4250 \nz\nM 2034 4750 \nQ 2819 4750 3233 4129 \nQ 3647 3509 3647 2328 \nQ 3647 1150 3233 529 \nQ 2819 -91 2034 -91 \nQ 1250 -91 836 529 \nQ 422 1150 422 2328 \nQ 422 3509 836 4129 \nQ 1250 4750 2034 4750 \nz\n\" transform=\"scale(0.015625)\"/>\n       </defs>\n       <use xlink:href=\"#DejaVuSans-30\"/>\n      </g>\n     </g>\n    </g>\n    <g id=\"xtick_2\">\n     <g id=\"line2d_3\">\n      <path d=\"M 110.702968 143.1 \nL 110.702968 7.2 \n\" clip-path=\"url(#p19bac6271d)\" style=\"fill: none; stroke: #b0b0b0; stroke-width: 0.8; stroke-linecap: square\"/>\n     </g>\n     <g id=\"line2d_4\">\n      <g>\n       <use xlink:href=\"#me34bd8cbe1\" x=\"110.702968\" y=\"143.1\" style=\"stroke: #000000; stroke-width: 0.8\"/>\n      </g>\n     </g>\n     <g id=\"text_2\">\n      <!-- 1 -->\n      <g transform=\"translate(107.521718 157.698438)scale(0.1 -0.1)\">\n       <defs>\n        <path id=\"DejaVuSans-31\" d=\"M 794 531 \nL 1825 531 \nL 1825 4091 \nL 703 3866 \nL 703 4441 \nL 1819 4666 \nL 2450 4666 \nL 2450 531 \nL 3481 531 \nL 3481 0 \nL 794 0 \nL 794 531 \nz\n\" transform=\"scale(0.015625)\"/>\n       </defs>\n       <use xlink:href=\"#DejaVuSans-31\"/>\n      </g>\n     </g>\n    </g>\n    <g id=\"xtick_3\">\n     <g id=\"line2d_5\">\n      <path d=\"M 171.925539 143.1 \nL 171.925539 7.2 \n\" clip-path=\"url(#p19bac6271d)\" style=\"fill: none; stroke: #b0b0b0; stroke-width: 0.8; stroke-linecap: square\"/>\n     </g>\n     <g id=\"line2d_6\">\n      <g>\n       <use xlink:href=\"#me34bd8cbe1\" x=\"171.925539\" y=\"143.1\" style=\"stroke: #000000; stroke-width: 0.8\"/>\n      </g>\n     </g>\n     <g id=\"text_3\">\n      <!-- 2 -->\n      <g transform=\"translate(168.744289 157.698438)scale(0.1 -0.1)\">\n       <defs>\n        <path id=\"DejaVuSans-32\" d=\"M 1228 531 \nL 3431 531 \nL 3431 0 \nL 469 0 \nL 469 531 \nQ 828 903 1448 1529 \nQ 2069 2156 2228 2338 \nQ 2531 2678 2651 2914 \nQ 2772 3150 2772 3378 \nQ 2772 3750 2511 3984 \nQ 2250 4219 1831 4219 \nQ 1534 4219 1204 4116 \nQ 875 4013 500 3803 \nL 500 4441 \nQ 881 4594 1212 4672 \nQ 1544 4750 1819 4750 \nQ 2544 4750 2975 4387 \nQ 3406 4025 3406 3419 \nQ 3406 3131 3298 2873 \nQ 3191 2616 2906 2266 \nQ 2828 2175 2409 1742 \nQ 1991 1309 1228 531 \nz\n\" transform=\"scale(0.015625)\"/>\n       </defs>\n       <use xlink:href=\"#DejaVuSans-32\"/>\n      </g>\n     </g>\n    </g>\n    <g id=\"xtick_4\">\n     <g id=\"line2d_7\">\n      <path d=\"M 233.148109 143.1 \nL 233.148109 7.2 \n\" clip-path=\"url(#p19bac6271d)\" style=\"fill: none; stroke: #b0b0b0; stroke-width: 0.8; stroke-linecap: square\"/>\n     </g>\n     <g id=\"line2d_8\">\n      <g>\n       <use xlink:href=\"#me34bd8cbe1\" x=\"233.148109\" y=\"143.1\" style=\"stroke: #000000; stroke-width: 0.8\"/>\n      </g>\n     </g>\n     <g id=\"text_4\">\n      <!-- 3 -->\n      <g transform=\"translate(229.966859 157.698438)scale(0.1 -0.1)\">\n       <defs>\n        <path id=\"DejaVuSans-33\" d=\"M 2597 2516 \nQ 3050 2419 3304 2112 \nQ 3559 1806 3559 1356 \nQ 3559 666 3084 287 \nQ 2609 -91 1734 -91 \nQ 1441 -91 1130 -33 \nQ 819 25 488 141 \nL 488 750 \nQ 750 597 1062 519 \nQ 1375 441 1716 441 \nQ 2309 441 2620 675 \nQ 2931 909 2931 1356 \nQ 2931 1769 2642 2001 \nQ 2353 2234 1838 2234 \nL 1294 2234 \nL 1294 2753 \nL 1863 2753 \nQ 2328 2753 2575 2939 \nQ 2822 3125 2822 3475 \nQ 2822 3834 2567 4026 \nQ 2313 4219 1838 4219 \nQ 1578 4219 1281 4162 \nQ 984 4106 628 3988 \nL 628 4550 \nQ 988 4650 1302 4700 \nQ 1616 4750 1894 4750 \nQ 2613 4750 3031 4423 \nQ 3450 4097 3450 3541 \nQ 3450 3153 3228 2886 \nQ 3006 2619 2597 2516 \nz\n\" transform=\"scale(0.015625)\"/>\n       </defs>\n       <use xlink:href=\"#DejaVuSans-33\"/>\n      </g>\n     </g>\n    </g>\n    <g id=\"text_5\">\n     <!-- x -->\n     <g transform=\"translate(135.29375 171.376563)scale(0.1 -0.1)\">\n      <defs>\n       <path id=\"DejaVuSans-78\" d=\"M 3513 3500 \nL 2247 1797 \nL 3578 0 \nL 2900 0 \nL 1881 1375 \nL 863 0 \nL 184 0 \nL 1544 1831 \nL 300 3500 \nL 978 3500 \nL 1906 2253 \nL 2834 3500 \nL 3513 3500 \nz\n\" transform=\"scale(0.015625)\"/>\n      </defs>\n      <use xlink:href=\"#DejaVuSans-78\"/>\n     </g>\n    </g>\n   </g>\n   <g id=\"matplotlib.axis_2\">\n    <g id=\"ytick_1\">\n     <g id=\"line2d_9\">\n      <path d=\"M 40.603125 114.635514 \nL 235.903125 114.635514 \n\" clip-path=\"url(#p19bac6271d)\" style=\"fill: none; stroke: #b0b0b0; stroke-width: 0.8; stroke-linecap: square\"/>\n     </g>\n     <g id=\"line2d_10\">\n      <defs>\n       <path id=\"m9a3beca721\" d=\"M 0 0 \nL -3.5 0 \n\" style=\"stroke: #000000; stroke-width: 0.8\"/>\n      </defs>\n      <g>\n       <use xlink:href=\"#m9a3beca721\" x=\"40.603125\" y=\"114.635514\" style=\"stroke: #000000; stroke-width: 0.8\"/>\n      </g>\n     </g>\n     <g id=\"text_6\">\n      <!-- 0 -->\n      <g transform=\"translate(27.240625 118.434732)scale(0.1 -0.1)\">\n       <use xlink:href=\"#DejaVuSans-30\"/>\n      </g>\n     </g>\n    </g>\n    <g id=\"ytick_2\">\n     <g id=\"line2d_11\">\n      <path d=\"M 40.603125 77.490157 \nL 235.903125 77.490157 \n\" clip-path=\"url(#p19bac6271d)\" style=\"fill: none; stroke: #b0b0b0; stroke-width: 0.8; stroke-linecap: square\"/>\n     </g>\n     <g id=\"line2d_12\">\n      <g>\n       <use xlink:href=\"#m9a3beca721\" x=\"40.603125\" y=\"77.490157\" style=\"stroke: #000000; stroke-width: 0.8\"/>\n      </g>\n     </g>\n     <g id=\"text_7\">\n      <!-- 5 -->\n      <g transform=\"translate(27.240625 81.289376)scale(0.1 -0.1)\">\n       <defs>\n        <path id=\"DejaVuSans-35\" d=\"M 691 4666 \nL 3169 4666 \nL 3169 4134 \nL 1269 4134 \nL 1269 2991 \nQ 1406 3038 1543 3061 \nQ 1681 3084 1819 3084 \nQ 2600 3084 3056 2656 \nQ 3513 2228 3513 1497 \nQ 3513 744 3044 326 \nQ 2575 -91 1722 -91 \nQ 1428 -91 1123 -41 \nQ 819 9 494 109 \nL 494 744 \nQ 775 591 1075 516 \nQ 1375 441 1709 441 \nQ 2250 441 2565 725 \nQ 2881 1009 2881 1497 \nQ 2881 1984 2565 2268 \nQ 2250 2553 1709 2553 \nQ 1456 2553 1204 2497 \nQ 953 2441 691 2322 \nL 691 4666 \nz\n\" transform=\"scale(0.015625)\"/>\n       </defs>\n       <use xlink:href=\"#DejaVuSans-35\"/>\n      </g>\n     </g>\n    </g>\n    <g id=\"ytick_3\">\n     <g id=\"line2d_13\">\n      <path d=\"M 40.603125 40.344801 \nL 235.903125 40.344801 \n\" clip-path=\"url(#p19bac6271d)\" style=\"fill: none; stroke: #b0b0b0; stroke-width: 0.8; stroke-linecap: square\"/>\n     </g>\n     <g id=\"line2d_14\">\n      <g>\n       <use xlink:href=\"#m9a3beca721\" x=\"40.603125\" y=\"40.344801\" style=\"stroke: #000000; stroke-width: 0.8\"/>\n      </g>\n     </g>\n     <g id=\"text_8\">\n      <!-- 10 -->\n      <g transform=\"translate(20.878125 44.14402)scale(0.1 -0.1)\">\n       <use xlink:href=\"#DejaVuSans-31\"/>\n       <use xlink:href=\"#DejaVuSans-30\" x=\"63.623047\"/>\n      </g>\n     </g>\n    </g>\n    <g id=\"text_9\">\n     <!-- f(x) -->\n     <g transform=\"translate(14.798437 83.771094)rotate(-90)scale(0.1 -0.1)\">\n      <defs>\n       <path id=\"DejaVuSans-66\" d=\"M 2375 4863 \nL 2375 4384 \nL 1825 4384 \nQ 1516 4384 1395 4259 \nQ 1275 4134 1275 3809 \nL 1275 3500 \nL 2222 3500 \nL 2222 3053 \nL 1275 3053 \nL 1275 0 \nL 697 0 \nL 697 3053 \nL 147 3053 \nL 147 3500 \nL 697 3500 \nL 697 3744 \nQ 697 4328 969 4595 \nQ 1241 4863 1831 4863 \nL 2375 4863 \nz\n\" transform=\"scale(0.015625)\"/>\n       <path id=\"DejaVuSans-28\" d=\"M 1984 4856 \nQ 1566 4138 1362 3434 \nQ 1159 2731 1159 2009 \nQ 1159 1288 1364 580 \nQ 1569 -128 1984 -844 \nL 1484 -844 \nQ 1016 -109 783 600 \nQ 550 1309 550 2009 \nQ 550 2706 781 3412 \nQ 1013 4119 1484 4856 \nL 1984 4856 \nz\n\" transform=\"scale(0.015625)\"/>\n       <path id=\"DejaVuSans-29\" d=\"M 513 4856 \nL 1013 4856 \nQ 1481 4119 1714 3412 \nQ 1947 2706 1947 2009 \nQ 1947 1309 1714 600 \nQ 1481 -109 1013 -844 \nL 513 -844 \nQ 928 -128 1133 580 \nQ 1338 1288 1338 2009 \nQ 1338 2731 1133 3434 \nQ 928 4138 513 4856 \nz\n\" transform=\"scale(0.015625)\"/>\n      </defs>\n      <use xlink:href=\"#DejaVuSans-66\"/>\n      <use xlink:href=\"#DejaVuSans-28\" x=\"35.205078\"/>\n      <use xlink:href=\"#DejaVuSans-78\" x=\"74.21875\"/>\n      <use xlink:href=\"#DejaVuSans-29\" x=\"133.398438\"/>\n     </g>\n    </g>\n   </g>\n   <g id=\"line2d_15\">\n    <path d=\"M 49.480398 114.635514 \nL 55.602655 117.38427 \nL 61.724912 119.687282 \nL 67.847169 121.54455 \nL 73.969426 122.956073 \nL 80.091683 123.921853 \nL 86.21394 124.441888 \nL 92.336197 124.516178 \nL 98.458454 124.144725 \nL 104.580711 123.327527 \nL 110.702968 122.064585 \nL 116.825225 120.355898 \nL 122.947482 118.201468 \nL 129.069739 115.601293 \nL 135.191996 112.555374 \nL 141.314254 109.06371 \nL 147.436511 105.126302 \nL 153.558768 100.74315 \nL 159.681025 95.914254 \nL 165.803282 90.639614 \nL 171.925539 84.919229 \nL 178.047796 78.7531 \nL 184.170053 72.141226 \nL 190.29231 65.083608 \nL 196.414567 57.580247 \nL 202.536824 49.63114 \nL 208.659081 41.23629 \nL 214.781338 32.395695 \nL 220.903595 23.109356 \nL 227.025852 13.377273 \n\" clip-path=\"url(#p19bac6271d)\" style=\"fill: none; stroke: #1f77b4; stroke-width: 1.5; stroke-linecap: square\"/>\n   </g>\n   <g id=\"line2d_16\">\n    <path d=\"M 49.480398 136.922727 \nL 55.602655 135.436913 \nL 61.724912 133.951099 \nL 67.847169 132.465285 \nL 73.969426 130.97947 \nL 80.091683 129.493656 \nL 86.21394 128.007842 \nL 92.336197 126.522028 \nL 98.458454 125.036213 \nL 104.580711 123.550399 \nL 110.702968 122.064585 \nL 116.825225 120.578771 \nL 122.947482 119.092956 \nL 129.069739 117.607142 \nL 135.191996 116.121328 \nL 141.314254 114.635514 \nL 147.436511 113.149699 \nL 153.558768 111.663885 \nL 159.681025 110.178071 \nL 165.803282 108.692257 \nL 171.925539 107.206442 \nL 178.047796 105.720628 \nL 184.170053 104.234814 \nL 190.29231 102.749 \nL 196.414567 101.263185 \nL 202.536824 99.777371 \nL 208.659081 98.291557 \nL 214.781338 96.805743 \nL 220.903595 95.319928 \nL 227.025852 93.834114 \n\" clip-path=\"url(#p19bac6271d)\" style=\"fill: none; stroke-dasharray: 5.55,2.4; stroke-dashoffset: 0; stroke: #bf00bf; stroke-width: 1.5\"/>\n   </g>\n   <g id=\"patch_3\">\n    <path d=\"M 40.603125 143.1 \nL 40.603125 7.2 \n\" style=\"fill: none; stroke: #000000; stroke-width: 0.8; stroke-linejoin: miter; stroke-linecap: square\"/>\n   </g>\n   <g id=\"patch_4\">\n    <path d=\"M 235.903125 143.1 \nL 235.903125 7.2 \n\" style=\"fill: none; stroke: #000000; stroke-width: 0.8; stroke-linejoin: miter; stroke-linecap: square\"/>\n   </g>\n   <g id=\"patch_5\">\n    <path d=\"M 40.603125 143.1 \nL 235.903125 143.1 \n\" style=\"fill: none; stroke: #000000; stroke-width: 0.8; stroke-linejoin: miter; stroke-linecap: square\"/>\n   </g>\n   <g id=\"patch_6\">\n    <path d=\"M 40.603125 7.2 \nL 235.903125 7.2 \n\" style=\"fill: none; stroke: #000000; stroke-width: 0.8; stroke-linejoin: miter; stroke-linecap: square\"/>\n   </g>\n   <g id=\"legend_1\">\n    <g id=\"patch_7\">\n     <path d=\"M 47.603125 44.55625 \nL 178.509375 44.55625 \nQ 180.509375 44.55625 180.509375 42.55625 \nL 180.509375 14.2 \nQ 180.509375 12.2 178.509375 12.2 \nL 47.603125 12.2 \nQ 45.603125 12.2 45.603125 14.2 \nL 45.603125 42.55625 \nQ 45.603125 44.55625 47.603125 44.55625 \nz\n\" style=\"fill: #ffffff; opacity: 0.8; stroke: #cccccc; stroke-linejoin: miter\"/>\n    </g>\n    <g id=\"line2d_17\">\n     <path d=\"M 49.603125 20.298437 \nL 59.603125 20.298437 \nL 69.603125 20.298437 \n\" style=\"fill: none; stroke: #1f77b4; stroke-width: 1.5; stroke-linecap: square\"/>\n    </g>\n    <g id=\"text_10\">\n     <!-- f(x) -->\n     <g transform=\"translate(77.603125 23.798437)scale(0.1 -0.1)\">\n      <use xlink:href=\"#DejaVuSans-66\"/>\n      <use xlink:href=\"#DejaVuSans-28\" x=\"35.205078\"/>\n      <use xlink:href=\"#DejaVuSans-78\" x=\"74.21875\"/>\n      <use xlink:href=\"#DejaVuSans-29\" x=\"133.398438\"/>\n     </g>\n    </g>\n    <g id=\"line2d_18\">\n     <path d=\"M 49.603125 34.976562 \nL 59.603125 34.976562 \nL 69.603125 34.976562 \n\" style=\"fill: none; stroke-dasharray: 5.55,2.4; stroke-dashoffset: 0; stroke: #bf00bf; stroke-width: 1.5\"/>\n    </g>\n    <g id=\"text_11\">\n     <!-- Tangent line (x = 1) -->\n     <g transform=\"translate(77.603125 38.476562)scale(0.1 -0.1)\">\n      <defs>\n       <path id=\"DejaVuSans-54\" d=\"M -19 4666 \nL 3928 4666 \nL 3928 4134 \nL 2272 4134 \nL 2272 0 \nL 1638 0 \nL 1638 4134 \nL -19 4134 \nL -19 4666 \nz\n\" transform=\"scale(0.015625)\"/>\n       <path id=\"DejaVuSans-61\" d=\"M 2194 1759 \nQ 1497 1759 1228 1600 \nQ 959 1441 959 1056 \nQ 959 750 1161 570 \nQ 1363 391 1709 391 \nQ 2188 391 2477 730 \nQ 2766 1069 2766 1631 \nL 2766 1759 \nL 2194 1759 \nz\nM 3341 1997 \nL 3341 0 \nL 2766 0 \nL 2766 531 \nQ 2569 213 2275 61 \nQ 1981 -91 1556 -91 \nQ 1019 -91 701 211 \nQ 384 513 384 1019 \nQ 384 1609 779 1909 \nQ 1175 2209 1959 2209 \nL 2766 2209 \nL 2766 2266 \nQ 2766 2663 2505 2880 \nQ 2244 3097 1772 3097 \nQ 1472 3097 1187 3025 \nQ 903 2953 641 2809 \nL 641 3341 \nQ 956 3463 1253 3523 \nQ 1550 3584 1831 3584 \nQ 2591 3584 2966 3190 \nQ 3341 2797 3341 1997 \nz\n\" transform=\"scale(0.015625)\"/>\n       <path id=\"DejaVuSans-6e\" d=\"M 3513 2113 \nL 3513 0 \nL 2938 0 \nL 2938 2094 \nQ 2938 2591 2744 2837 \nQ 2550 3084 2163 3084 \nQ 1697 3084 1428 2787 \nQ 1159 2491 1159 1978 \nL 1159 0 \nL 581 0 \nL 581 3500 \nL 1159 3500 \nL 1159 2956 \nQ 1366 3272 1645 3428 \nQ 1925 3584 2291 3584 \nQ 2894 3584 3203 3211 \nQ 3513 2838 3513 2113 \nz\n\" transform=\"scale(0.015625)\"/>\n       <path id=\"DejaVuSans-67\" d=\"M 2906 1791 \nQ 2906 2416 2648 2759 \nQ 2391 3103 1925 3103 \nQ 1463 3103 1205 2759 \nQ 947 2416 947 1791 \nQ 947 1169 1205 825 \nQ 1463 481 1925 481 \nQ 2391 481 2648 825 \nQ 2906 1169 2906 1791 \nz\nM 3481 434 \nQ 3481 -459 3084 -895 \nQ 2688 -1331 1869 -1331 \nQ 1566 -1331 1297 -1286 \nQ 1028 -1241 775 -1147 \nL 775 -588 \nQ 1028 -725 1275 -790 \nQ 1522 -856 1778 -856 \nQ 2344 -856 2625 -561 \nQ 2906 -266 2906 331 \nL 2906 616 \nQ 2728 306 2450 153 \nQ 2172 0 1784 0 \nQ 1141 0 747 490 \nQ 353 981 353 1791 \nQ 353 2603 747 3093 \nQ 1141 3584 1784 3584 \nQ 2172 3584 2450 3431 \nQ 2728 3278 2906 2969 \nL 2906 3500 \nL 3481 3500 \nL 3481 434 \nz\n\" transform=\"scale(0.015625)\"/>\n       <path id=\"DejaVuSans-65\" d=\"M 3597 1894 \nL 3597 1613 \nL 953 1613 \nQ 991 1019 1311 708 \nQ 1631 397 2203 397 \nQ 2534 397 2845 478 \nQ 3156 559 3463 722 \nL 3463 178 \nQ 3153 47 2828 -22 \nQ 2503 -91 2169 -91 \nQ 1331 -91 842 396 \nQ 353 884 353 1716 \nQ 353 2575 817 3079 \nQ 1281 3584 2069 3584 \nQ 2775 3584 3186 3129 \nQ 3597 2675 3597 1894 \nz\nM 3022 2063 \nQ 3016 2534 2758 2815 \nQ 2500 3097 2075 3097 \nQ 1594 3097 1305 2825 \nQ 1016 2553 972 2059 \nL 3022 2063 \nz\n\" transform=\"scale(0.015625)\"/>\n       <path id=\"DejaVuSans-74\" d=\"M 1172 4494 \nL 1172 3500 \nL 2356 3500 \nL 2356 3053 \nL 1172 3053 \nL 1172 1153 \nQ 1172 725 1289 603 \nQ 1406 481 1766 481 \nL 2356 481 \nL 2356 0 \nL 1766 0 \nQ 1100 0 847 248 \nQ 594 497 594 1153 \nL 594 3053 \nL 172 3053 \nL 172 3500 \nL 594 3500 \nL 594 4494 \nL 1172 4494 \nz\n\" transform=\"scale(0.015625)\"/>\n       <path id=\"DejaVuSans-20\" transform=\"scale(0.015625)\"/>\n       <path id=\"DejaVuSans-6c\" d=\"M 603 4863 \nL 1178 4863 \nL 1178 0 \nL 603 0 \nL 603 4863 \nz\n\" transform=\"scale(0.015625)\"/>\n       <path id=\"DejaVuSans-69\" d=\"M 603 3500 \nL 1178 3500 \nL 1178 0 \nL 603 0 \nL 603 3500 \nz\nM 603 4863 \nL 1178 4863 \nL 1178 4134 \nL 603 4134 \nL 603 4863 \nz\n\" transform=\"scale(0.015625)\"/>\n       <path id=\"DejaVuSans-3d\" d=\"M 678 2906 \nL 4684 2906 \nL 4684 2381 \nL 678 2381 \nL 678 2906 \nz\nM 678 1631 \nL 4684 1631 \nL 4684 1100 \nL 678 1100 \nL 678 1631 \nz\n\" transform=\"scale(0.015625)\"/>\n      </defs>\n      <use xlink:href=\"#DejaVuSans-54\"/>\n      <use xlink:href=\"#DejaVuSans-61\" x=\"44.583984\"/>\n      <use xlink:href=\"#DejaVuSans-6e\" x=\"105.863281\"/>\n      <use xlink:href=\"#DejaVuSans-67\" x=\"169.242188\"/>\n      <use xlink:href=\"#DejaVuSans-65\" x=\"232.71875\"/>\n      <use xlink:href=\"#DejaVuSans-6e\" x=\"294.242188\"/>\n      <use xlink:href=\"#DejaVuSans-74\" x=\"357.621094\"/>\n      <use xlink:href=\"#DejaVuSans-20\" x=\"396.830078\"/>\n      <use xlink:href=\"#DejaVuSans-6c\" x=\"428.617188\"/>\n      <use xlink:href=\"#DejaVuSans-69\" x=\"456.400391\"/>\n      <use xlink:href=\"#DejaVuSans-6e\" x=\"484.183594\"/>\n      <use xlink:href=\"#DejaVuSans-65\" x=\"547.5625\"/>\n      <use xlink:href=\"#DejaVuSans-20\" x=\"609.085938\"/>\n      <use xlink:href=\"#DejaVuSans-28\" x=\"640.873047\"/>\n      <use xlink:href=\"#DejaVuSans-78\" x=\"679.886719\"/>\n      <use xlink:href=\"#DejaVuSans-20\" x=\"739.066406\"/>\n      <use xlink:href=\"#DejaVuSans-3d\" x=\"770.853516\"/>\n      <use xlink:href=\"#DejaVuSans-20\" x=\"854.642578\"/>\n      <use xlink:href=\"#DejaVuSans-31\" x=\"886.429688\"/>\n      <use xlink:href=\"#DejaVuSans-29\" x=\"950.052734\"/>\n     </g>\n    </g>\n   </g>\n  </g>\n </g>\n <defs>\n  <clipPath id=\"p19bac6271d\">\n   <rect x=\"40.603125\" y=\"7.2\" width=\"195.3\" height=\"135.9\"/>\n  </clipPath>\n </defs>\n</svg>\n",
      "text/plain": [
       "<Figure size 252x180 with 1 Axes>"
      ]
     },
     "metadata": {
      "needs_background": "light"
     },
     "output_type": "display_data"
    }
   ],
   "source": [
    "x = np.arange(0,3,0.1)\n",
    "plot(x,[f(x),2 * x -3],'x','f(x)',legend=['f(x)','Tangent line (x = 1)'])"
   ]
  },
  {
   "cell_type": "markdown",
   "metadata": {},
   "source": [
    "#### 练习"
   ]
  },
  {
   "cell_type": "code",
   "execution_count": 83,
   "metadata": {},
   "outputs": [
    {
     "name": "stderr",
     "output_type": "stream",
     "text": [
      "/home/gree/anaconda3/envs/pytorch-gpu/lib/python3.9/site-packages/matplotlib/text.py:1223: FutureWarning: elementwise comparison failed; returning scalar instead, but in the future will perform elementwise comparison\n",
      "  if s != self._text:\n"
     ]
    },
    {
     "data": {
      "text/plain": [
       "[array([ 2.00000000e+01,  1.84300000e+01,  1.69200000e+01,  1.54700000e+01,\n",
       "         1.40800000e+01,  1.27500000e+01,  1.14800000e+01,  1.02700000e+01,\n",
       "         9.12000000e+00,  8.03000000e+00,  7.00000000e+00,  6.03000000e+00,\n",
       "         5.12000000e+00,  4.27000000e+00,  3.48000000e+00,  2.75000000e+00,\n",
       "         2.08000000e+00,  1.47000000e+00,  9.20000000e-01,  4.30000000e-01,\n",
       "        -7.10542736e-15, -3.70000000e-01, -6.80000000e-01, -9.30000000e-01,\n",
       "        -1.12000000e+00, -1.25000000e+00, -1.32000000e+00, -1.33000000e+00,\n",
       "        -1.28000000e+00, -1.17000000e+00, -1.00000000e+00, -7.70000000e-01,\n",
       "        -4.80000000e-01, -1.30000000e-01,  2.80000000e-01,  7.50000000e-01,\n",
       "         1.28000000e+00,  1.87000000e+00,  2.52000000e+00,  3.23000000e+00]),\n",
       " array([-7.50000000e+00, -6.33268421e+00, -5.27644444e+00, -4.32476471e+00,\n",
       "        -3.47100000e+00, -2.70833333e+00, -2.02971429e+00, -1.42776923e+00,\n",
       "        -8.94666667e-01, -4.21909091e-01,  3.55271368e-15,  3.82111111e-01,\n",
       "         7.38000000e-01,  1.08557143e+00,  1.45066667e+00,  1.87500000e+00,\n",
       "         2.43600000e+00,  3.30633333e+00,  4.99200000e+00,  9.99900000e+00,\n",
       "        -5.62949953e+14, -9.99900000e+00, -4.99200000e+00, -3.30633333e+00,\n",
       "        -2.43600000e+00, -1.87500000e+00, -1.45066667e+00, -1.08557143e+00,\n",
       "        -7.38000000e-01, -3.82111111e-01,  1.06581410e-14,  4.21909091e-01,\n",
       "         8.94666667e-01,  1.42776923e+00,  2.02971429e+00,  2.70833333e+00,\n",
       "         3.47100000e+00,  4.32476471e+00,  5.27644444e+00,  6.33268421e+00])]"
      ]
     },
     "execution_count": 83,
     "metadata": {},
     "output_type": "execute_result"
    },
    {
     "data": {
      "image/svg+xml": "<?xml version=\"1.0\" encoding=\"utf-8\" standalone=\"no\"?>\n<!DOCTYPE svg PUBLIC \"-//W3C//DTD SVG 1.1//EN\"\n  \"http://www.w3.org/Graphics/SVG/1.1/DTD/svg11.dtd\">\n<svg xmlns:xlink=\"http://www.w3.org/1999/xlink\" width=\"345.900625pt\" height=\"394.520313pt\" viewBox=\"0 0 345.900625 394.520313\" xmlns=\"http://www.w3.org/2000/svg\" version=\"1.1\">\n <metadata>\n  <rdf:RDF xmlns:dc=\"http://purl.org/dc/elements/1.1/\" xmlns:cc=\"http://creativecommons.org/ns#\" xmlns:rdf=\"http://www.w3.org/1999/02/22-rdf-syntax-ns#\">\n   <cc:Work>\n    <dc:type rdf:resource=\"http://purl.org/dc/dcmitype/StillImage\"/>\n    <dc:date>2022-12-05T21:27:52.742268</dc:date>\n    <dc:format>image/svg+xml</dc:format>\n    <dc:creator>\n     <cc:Agent>\n      <dc:title>Matplotlib v3.5.1, https://matplotlib.org/</dc:title>\n     </cc:Agent>\n    </dc:creator>\n   </cc:Work>\n  </rdf:RDF>\n </metadata>\n <defs>\n  <style type=\"text/css\">*{stroke-linejoin: round; stroke-linecap: butt}</style>\n </defs>\n <g id=\"figure_1\">\n  <g id=\"patch_1\">\n   <path d=\"M 0 394.520313 \nL 345.900625 394.520313 \nL 345.900625 0 \nL 0 0 \nL 0 394.520313 \nz\n\" style=\"fill: none\"/>\n  </g>\n  <g id=\"axes_1\">\n   <g id=\"patch_2\">\n    <path d=\"M 143.400625 265.210156 \nL 338.700625 265.210156 \nL 338.700625 129.310156 \nL 143.400625 129.310156 \nz\n\" style=\"fill: #ffffff\"/>\n   </g>\n   <g id=\"matplotlib.axis_1\">\n    <g id=\"xtick_1\">\n     <g id=\"line2d_1\">\n      <path d=\"M 152.277898 265.210156 \nL 152.277898 129.310156 \n\" clip-path=\"url(#p426335e2ff)\" style=\"fill: none; stroke: #b0b0b0; stroke-width: 0.8; stroke-linecap: square\"/>\n     </g>\n     <g id=\"line2d_2\">\n      <defs>\n       <path id=\"m7daa85c7e6\" d=\"M 0 0 \nL 0 3.5 \n\" style=\"stroke: #000000; stroke-width: 0.8\"/>\n      </defs>\n      <g>\n       <use xlink:href=\"#m7daa85c7e6\" x=\"152.277898\" y=\"265.210156\" style=\"stroke: #000000; stroke-width: 0.8\"/>\n      </g>\n     </g>\n     <g id=\"text_1\">\n      <!-- −2 -->\n      <g transform=\"translate(144.906804 279.808594)scale(0.1 -0.1)\">\n       <defs>\n        <path id=\"DejaVuSans-2212\" d=\"M 678 2272 \nL 4684 2272 \nL 4684 1741 \nL 678 1741 \nL 678 2272 \nz\n\" transform=\"scale(0.015625)\"/>\n        <path id=\"DejaVuSans-32\" d=\"M 1228 531 \nL 3431 531 \nL 3431 0 \nL 469 0 \nL 469 531 \nQ 828 903 1448 1529 \nQ 2069 2156 2228 2338 \nQ 2531 2678 2651 2914 \nQ 2772 3150 2772 3378 \nQ 2772 3750 2511 3984 \nQ 2250 4219 1831 4219 \nQ 1534 4219 1204 4116 \nQ 875 4013 500 3803 \nL 500 4441 \nQ 881 4594 1212 4672 \nQ 1544 4750 1819 4750 \nQ 2544 4750 2975 4387 \nQ 3406 4025 3406 3419 \nQ 3406 3131 3298 2873 \nQ 3191 2616 2906 2266 \nQ 2828 2175 2409 1742 \nQ 1991 1309 1228 531 \nz\n\" transform=\"scale(0.015625)\"/>\n       </defs>\n       <use xlink:href=\"#DejaVuSans-2212\"/>\n       <use xlink:href=\"#DejaVuSans-32\" x=\"83.789062\"/>\n      </g>\n     </g>\n    </g>\n    <g id=\"xtick_2\">\n     <g id=\"line2d_3\">\n      <path d=\"M 197.802373 265.210156 \nL 197.802373 129.310156 \n\" clip-path=\"url(#p426335e2ff)\" style=\"fill: none; stroke: #b0b0b0; stroke-width: 0.8; stroke-linecap: square\"/>\n     </g>\n     <g id=\"line2d_4\">\n      <g>\n       <use xlink:href=\"#m7daa85c7e6\" x=\"197.802373\" y=\"265.210156\" style=\"stroke: #000000; stroke-width: 0.8\"/>\n      </g>\n     </g>\n     <g id=\"text_2\">\n      <!-- −1 -->\n      <g transform=\"translate(190.43128 279.808594)scale(0.1 -0.1)\">\n       <defs>\n        <path id=\"DejaVuSans-31\" d=\"M 794 531 \nL 1825 531 \nL 1825 4091 \nL 703 3866 \nL 703 4441 \nL 1819 4666 \nL 2450 4666 \nL 2450 531 \nL 3481 531 \nL 3481 0 \nL 794 0 \nL 794 531 \nz\n\" transform=\"scale(0.015625)\"/>\n       </defs>\n       <use xlink:href=\"#DejaVuSans-2212\"/>\n       <use xlink:href=\"#DejaVuSans-31\" x=\"83.789062\"/>\n      </g>\n     </g>\n    </g>\n    <g id=\"xtick_3\">\n     <g id=\"line2d_5\">\n      <path d=\"M 243.326849 265.210156 \nL 243.326849 129.310156 \n\" clip-path=\"url(#p426335e2ff)\" style=\"fill: none; stroke: #b0b0b0; stroke-width: 0.8; stroke-linecap: square\"/>\n     </g>\n     <g id=\"line2d_6\">\n      <g>\n       <use xlink:href=\"#m7daa85c7e6\" x=\"243.326849\" y=\"265.210156\" style=\"stroke: #000000; stroke-width: 0.8\"/>\n      </g>\n     </g>\n     <g id=\"text_3\">\n      <!-- 0 -->\n      <g transform=\"translate(240.145599 279.808594)scale(0.1 -0.1)\">\n       <defs>\n        <path id=\"DejaVuSans-30\" d=\"M 2034 4250 \nQ 1547 4250 1301 3770 \nQ 1056 3291 1056 2328 \nQ 1056 1369 1301 889 \nQ 1547 409 2034 409 \nQ 2525 409 2770 889 \nQ 3016 1369 3016 2328 \nQ 3016 3291 2770 3770 \nQ 2525 4250 2034 4250 \nz\nM 2034 4750 \nQ 2819 4750 3233 4129 \nQ 3647 3509 3647 2328 \nQ 3647 1150 3233 529 \nQ 2819 -91 2034 -91 \nQ 1250 -91 836 529 \nQ 422 1150 422 2328 \nQ 422 3509 836 4129 \nQ 1250 4750 2034 4750 \nz\n\" transform=\"scale(0.015625)\"/>\n       </defs>\n       <use xlink:href=\"#DejaVuSans-30\"/>\n      </g>\n     </g>\n    </g>\n    <g id=\"xtick_4\">\n     <g id=\"line2d_7\">\n      <path d=\"M 288.851324 265.210156 \nL 288.851324 129.310156 \n\" clip-path=\"url(#p426335e2ff)\" style=\"fill: none; stroke: #b0b0b0; stroke-width: 0.8; stroke-linecap: square\"/>\n     </g>\n     <g id=\"line2d_8\">\n      <g>\n       <use xlink:href=\"#m7daa85c7e6\" x=\"288.851324\" y=\"265.210156\" style=\"stroke: #000000; stroke-width: 0.8\"/>\n      </g>\n     </g>\n     <g id=\"text_4\">\n      <!-- 1 -->\n      <g transform=\"translate(285.670074 279.808594)scale(0.1 -0.1)\">\n       <use xlink:href=\"#DejaVuSans-31\"/>\n      </g>\n     </g>\n    </g>\n    <g id=\"xtick_5\">\n     <g id=\"line2d_9\">\n      <path d=\"M 334.3758 265.210156 \nL 334.3758 129.310156 \n\" clip-path=\"url(#p426335e2ff)\" style=\"fill: none; stroke: #b0b0b0; stroke-width: 0.8; stroke-linecap: square\"/>\n     </g>\n     <g id=\"line2d_10\">\n      <g>\n       <use xlink:href=\"#m7daa85c7e6\" x=\"334.3758\" y=\"265.210156\" style=\"stroke: #000000; stroke-width: 0.8\"/>\n      </g>\n     </g>\n     <g id=\"text_5\">\n      <!-- 2 -->\n      <g transform=\"translate(331.19455 279.808594)scale(0.1 -0.1)\">\n       <use xlink:href=\"#DejaVuSans-32\"/>\n      </g>\n     </g>\n    </g>\n    <g id=\"text_6\">\n     <!-- x -->\n     <g transform=\"translate(238.09125 293.486719)scale(0.1 -0.1)\">\n      <defs>\n       <path id=\"DejaVuSans-78\" d=\"M 3513 3500 \nL 2247 1797 \nL 3578 0 \nL 2900 0 \nL 1881 1375 \nL 863 0 \nL 184 0 \nL 1544 1831 \nL 300 3500 \nL 978 3500 \nL 1906 2253 \nL 2834 3500 \nL 3513 3500 \nz\n\" transform=\"scale(0.015625)\"/>\n      </defs>\n      <use xlink:href=\"#DejaVuSans-78\"/>\n     </g>\n    </g>\n   </g>\n   <g id=\"matplotlib.axis_2\">\n    <g id=\"ytick_1\">\n     <g id=\"line2d_11\">\n      <path d=\"M 143.400625 223.271754 \nL 338.700625 223.271754 \n\" clip-path=\"url(#p426335e2ff)\" style=\"fill: none; stroke: #b0b0b0; stroke-width: 0.8; stroke-linecap: square\"/>\n     </g>\n     <g id=\"line2d_12\">\n      <defs>\n       <path id=\"mf90d1c68d9\" d=\"M 0 0 \nL -3.5 0 \n\" style=\"stroke: #000000; stroke-width: 0.8\"/>\n      </defs>\n      <g>\n       <use xlink:href=\"#mf90d1c68d9\" x=\"143.400625\" y=\"223.271754\" style=\"stroke: #000000; stroke-width: 0.8\"/>\n      </g>\n     </g>\n     <g id=\"text_7\">\n      <!-- −4 -->\n      <g transform=\"translate(121.658438 227.070973)scale(0.1 -0.1)\">\n       <defs>\n        <path id=\"DejaVuSans-34\" d=\"M 2419 4116 \nL 825 1625 \nL 2419 1625 \nL 2419 4116 \nz\nM 2253 4666 \nL 3047 4666 \nL 3047 1625 \nL 3713 1625 \nL 3713 1100 \nL 3047 1100 \nL 3047 0 \nL 2419 0 \nL 2419 1100 \nL 313 1100 \nL 313 1709 \nL 2253 4666 \nz\n\" transform=\"scale(0.015625)\"/>\n       </defs>\n       <use xlink:href=\"#DejaVuSans-2212\"/>\n       <use xlink:href=\"#DejaVuSans-34\" x=\"83.789062\"/>\n      </g>\n     </g>\n    </g>\n    <g id=\"ytick_2\">\n     <g id=\"line2d_13\">\n      <path d=\"M 143.400625 179.379592 \nL 338.700625 179.379592 \n\" clip-path=\"url(#p426335e2ff)\" style=\"fill: none; stroke: #b0b0b0; stroke-width: 0.8; stroke-linecap: square\"/>\n     </g>\n     <g id=\"line2d_14\">\n      <g>\n       <use xlink:href=\"#mf90d1c68d9\" x=\"143.400625\" y=\"179.379592\" style=\"stroke: #000000; stroke-width: 0.8\"/>\n      </g>\n     </g>\n     <g id=\"text_8\">\n      <!-- −2 -->\n      <g transform=\"translate(121.658438 183.17881)scale(0.1 -0.1)\">\n       <use xlink:href=\"#DejaVuSans-2212\"/>\n       <use xlink:href=\"#DejaVuSans-32\" x=\"83.789062\"/>\n      </g>\n     </g>\n    </g>\n    <g id=\"ytick_3\">\n     <g id=\"line2d_15\">\n      <path d=\"M 143.400625 135.487429 \nL 338.700625 135.487429 \n\" clip-path=\"url(#p426335e2ff)\" style=\"fill: none; stroke: #b0b0b0; stroke-width: 0.8; stroke-linecap: square\"/>\n     </g>\n     <g id=\"line2d_16\">\n      <g>\n       <use xlink:href=\"#mf90d1c68d9\" x=\"143.400625\" y=\"135.487429\" style=\"stroke: #000000; stroke-width: 0.8\"/>\n      </g>\n     </g>\n     <g id=\"text_9\">\n      <!-- 0 -->\n      <g transform=\"translate(130.038125 139.286648)scale(0.1 -0.1)\">\n       <use xlink:href=\"#DejaVuSans-30\"/>\n      </g>\n     </g>\n    </g>\n    <g id=\"text_10\">\n     <!-- [ 2.00000000e+01  1.84300000e+01  1.69200000e+01  1.54700000e+01 -->\n     <g transform=\"translate(14.798437 385.73125)rotate(-90)scale(0.1 -0.1)\">\n      <defs>\n       <path id=\"DejaVuSans-5b\" d=\"M 550 4863 \nL 1875 4863 \nL 1875 4416 \nL 1125 4416 \nL 1125 -397 \nL 1875 -397 \nL 1875 -844 \nL 550 -844 \nL 550 4863 \nz\n\" transform=\"scale(0.015625)\"/>\n       <path id=\"DejaVuSans-20\" transform=\"scale(0.015625)\"/>\n       <path id=\"DejaVuSans-2e\" d=\"M 684 794 \nL 1344 794 \nL 1344 0 \nL 684 0 \nL 684 794 \nz\n\" transform=\"scale(0.015625)\"/>\n       <path id=\"DejaVuSans-65\" d=\"M 3597 1894 \nL 3597 1613 \nL 953 1613 \nQ 991 1019 1311 708 \nQ 1631 397 2203 397 \nQ 2534 397 2845 478 \nQ 3156 559 3463 722 \nL 3463 178 \nQ 3153 47 2828 -22 \nQ 2503 -91 2169 -91 \nQ 1331 -91 842 396 \nQ 353 884 353 1716 \nQ 353 2575 817 3079 \nQ 1281 3584 2069 3584 \nQ 2775 3584 3186 3129 \nQ 3597 2675 3597 1894 \nz\nM 3022 2063 \nQ 3016 2534 2758 2815 \nQ 2500 3097 2075 3097 \nQ 1594 3097 1305 2825 \nQ 1016 2553 972 2059 \nL 3022 2063 \nz\n\" transform=\"scale(0.015625)\"/>\n       <path id=\"DejaVuSans-2b\" d=\"M 2944 4013 \nL 2944 2272 \nL 4684 2272 \nL 4684 1741 \nL 2944 1741 \nL 2944 0 \nL 2419 0 \nL 2419 1741 \nL 678 1741 \nL 678 2272 \nL 2419 2272 \nL 2419 4013 \nL 2944 4013 \nz\n\" transform=\"scale(0.015625)\"/>\n       <path id=\"DejaVuSans-38\" d=\"M 2034 2216 \nQ 1584 2216 1326 1975 \nQ 1069 1734 1069 1313 \nQ 1069 891 1326 650 \nQ 1584 409 2034 409 \nQ 2484 409 2743 651 \nQ 3003 894 3003 1313 \nQ 3003 1734 2745 1975 \nQ 2488 2216 2034 2216 \nz\nM 1403 2484 \nQ 997 2584 770 2862 \nQ 544 3141 544 3541 \nQ 544 4100 942 4425 \nQ 1341 4750 2034 4750 \nQ 2731 4750 3128 4425 \nQ 3525 4100 3525 3541 \nQ 3525 3141 3298 2862 \nQ 3072 2584 2669 2484 \nQ 3125 2378 3379 2068 \nQ 3634 1759 3634 1313 \nQ 3634 634 3220 271 \nQ 2806 -91 2034 -91 \nQ 1263 -91 848 271 \nQ 434 634 434 1313 \nQ 434 1759 690 2068 \nQ 947 2378 1403 2484 \nz\nM 1172 3481 \nQ 1172 3119 1398 2916 \nQ 1625 2713 2034 2713 \nQ 2441 2713 2670 2916 \nQ 2900 3119 2900 3481 \nQ 2900 3844 2670 4047 \nQ 2441 4250 2034 4250 \nQ 1625 4250 1398 4047 \nQ 1172 3844 1172 3481 \nz\n\" transform=\"scale(0.015625)\"/>\n       <path id=\"DejaVuSans-33\" d=\"M 2597 2516 \nQ 3050 2419 3304 2112 \nQ 3559 1806 3559 1356 \nQ 3559 666 3084 287 \nQ 2609 -91 1734 -91 \nQ 1441 -91 1130 -33 \nQ 819 25 488 141 \nL 488 750 \nQ 750 597 1062 519 \nQ 1375 441 1716 441 \nQ 2309 441 2620 675 \nQ 2931 909 2931 1356 \nQ 2931 1769 2642 2001 \nQ 2353 2234 1838 2234 \nL 1294 2234 \nL 1294 2753 \nL 1863 2753 \nQ 2328 2753 2575 2939 \nQ 2822 3125 2822 3475 \nQ 2822 3834 2567 4026 \nQ 2313 4219 1838 4219 \nQ 1578 4219 1281 4162 \nQ 984 4106 628 3988 \nL 628 4550 \nQ 988 4650 1302 4700 \nQ 1616 4750 1894 4750 \nQ 2613 4750 3031 4423 \nQ 3450 4097 3450 3541 \nQ 3450 3153 3228 2886 \nQ 3006 2619 2597 2516 \nz\n\" transform=\"scale(0.015625)\"/>\n       <path id=\"DejaVuSans-36\" d=\"M 2113 2584 \nQ 1688 2584 1439 2293 \nQ 1191 2003 1191 1497 \nQ 1191 994 1439 701 \nQ 1688 409 2113 409 \nQ 2538 409 2786 701 \nQ 3034 994 3034 1497 \nQ 3034 2003 2786 2293 \nQ 2538 2584 2113 2584 \nz\nM 3366 4563 \nL 3366 3988 \nQ 3128 4100 2886 4159 \nQ 2644 4219 2406 4219 \nQ 1781 4219 1451 3797 \nQ 1122 3375 1075 2522 \nQ 1259 2794 1537 2939 \nQ 1816 3084 2150 3084 \nQ 2853 3084 3261 2657 \nQ 3669 2231 3669 1497 \nQ 3669 778 3244 343 \nQ 2819 -91 2113 -91 \nQ 1303 -91 875 529 \nQ 447 1150 447 2328 \nQ 447 3434 972 4092 \nQ 1497 4750 2381 4750 \nQ 2619 4750 2861 4703 \nQ 3103 4656 3366 4563 \nz\n\" transform=\"scale(0.015625)\"/>\n       <path id=\"DejaVuSans-39\" d=\"M 703 97 \nL 703 672 \nQ 941 559 1184 500 \nQ 1428 441 1663 441 \nQ 2288 441 2617 861 \nQ 2947 1281 2994 2138 \nQ 2813 1869 2534 1725 \nQ 2256 1581 1919 1581 \nQ 1219 1581 811 2004 \nQ 403 2428 403 3163 \nQ 403 3881 828 4315 \nQ 1253 4750 1959 4750 \nQ 2769 4750 3195 4129 \nQ 3622 3509 3622 2328 \nQ 3622 1225 3098 567 \nQ 2575 -91 1691 -91 \nQ 1453 -91 1209 -44 \nQ 966 3 703 97 \nz\nM 1959 2075 \nQ 2384 2075 2632 2365 \nQ 2881 2656 2881 3163 \nQ 2881 3666 2632 3958 \nQ 2384 4250 1959 4250 \nQ 1534 4250 1286 3958 \nQ 1038 3666 1038 3163 \nQ 1038 2656 1286 2365 \nQ 1534 2075 1959 2075 \nz\n\" transform=\"scale(0.015625)\"/>\n       <path id=\"DejaVuSans-35\" d=\"M 691 4666 \nL 3169 4666 \nL 3169 4134 \nL 1269 4134 \nL 1269 2991 \nQ 1406 3038 1543 3061 \nQ 1681 3084 1819 3084 \nQ 2600 3084 3056 2656 \nQ 3513 2228 3513 1497 \nQ 3513 744 3044 326 \nQ 2575 -91 1722 -91 \nQ 1428 -91 1123 -41 \nQ 819 9 494 109 \nL 494 744 \nQ 775 591 1075 516 \nQ 1375 441 1709 441 \nQ 2250 441 2565 725 \nQ 2881 1009 2881 1497 \nQ 2881 1984 2565 2268 \nQ 2250 2553 1709 2553 \nQ 1456 2553 1204 2497 \nQ 953 2441 691 2322 \nL 691 4666 \nz\n\" transform=\"scale(0.015625)\"/>\n       <path id=\"DejaVuSans-37\" d=\"M 525 4666 \nL 3525 4666 \nL 3525 4397 \nL 1831 0 \nL 1172 0 \nL 2766 4134 \nL 525 4134 \nL 525 4666 \nz\n\" transform=\"scale(0.015625)\"/>\n      </defs>\n      <use xlink:href=\"#DejaVuSans-5b\"/>\n      <use xlink:href=\"#DejaVuSans-20\" x=\"39.013672\"/>\n      <use xlink:href=\"#DejaVuSans-32\" x=\"70.800781\"/>\n      <use xlink:href=\"#DejaVuSans-2e\" x=\"134.423828\"/>\n      <use xlink:href=\"#DejaVuSans-30\" x=\"166.210938\"/>\n      <use xlink:href=\"#DejaVuSans-30\" x=\"229.833984\"/>\n      <use xlink:href=\"#DejaVuSans-30\" x=\"293.457031\"/>\n      <use xlink:href=\"#DejaVuSans-30\" x=\"357.080078\"/>\n      <use xlink:href=\"#DejaVuSans-30\" x=\"420.703125\"/>\n      <use xlink:href=\"#DejaVuSans-30\" x=\"484.326172\"/>\n      <use xlink:href=\"#DejaVuSans-30\" x=\"547.949219\"/>\n      <use xlink:href=\"#DejaVuSans-30\" x=\"611.572266\"/>\n      <use xlink:href=\"#DejaVuSans-65\" x=\"675.195312\"/>\n      <use xlink:href=\"#DejaVuSans-2b\" x=\"736.71875\"/>\n      <use xlink:href=\"#DejaVuSans-30\" x=\"820.507812\"/>\n      <use xlink:href=\"#DejaVuSans-31\" x=\"884.130859\"/>\n      <use xlink:href=\"#DejaVuSans-20\" x=\"947.753906\"/>\n      <use xlink:href=\"#DejaVuSans-20\" x=\"979.541016\"/>\n      <use xlink:href=\"#DejaVuSans-31\" x=\"1011.328125\"/>\n      <use xlink:href=\"#DejaVuSans-2e\" x=\"1074.951172\"/>\n      <use xlink:href=\"#DejaVuSans-38\" x=\"1106.738281\"/>\n      <use xlink:href=\"#DejaVuSans-34\" x=\"1170.361328\"/>\n      <use xlink:href=\"#DejaVuSans-33\" x=\"1233.984375\"/>\n      <use xlink:href=\"#DejaVuSans-30\" x=\"1297.607422\"/>\n      <use xlink:href=\"#DejaVuSans-30\" x=\"1361.230469\"/>\n      <use xlink:href=\"#DejaVuSans-30\" x=\"1424.853516\"/>\n      <use xlink:href=\"#DejaVuSans-30\" x=\"1488.476562\"/>\n      <use xlink:href=\"#DejaVuSans-30\" x=\"1552.099609\"/>\n      <use xlink:href=\"#DejaVuSans-65\" x=\"1615.722656\"/>\n      <use xlink:href=\"#DejaVuSans-2b\" x=\"1677.246094\"/>\n      <use xlink:href=\"#DejaVuSans-30\" x=\"1761.035156\"/>\n      <use xlink:href=\"#DejaVuSans-31\" x=\"1824.658203\"/>\n      <use xlink:href=\"#DejaVuSans-20\" x=\"1888.28125\"/>\n      <use xlink:href=\"#DejaVuSans-20\" x=\"1920.068359\"/>\n      <use xlink:href=\"#DejaVuSans-31\" x=\"1951.855469\"/>\n      <use xlink:href=\"#DejaVuSans-2e\" x=\"2015.478516\"/>\n      <use xlink:href=\"#DejaVuSans-36\" x=\"2047.265625\"/>\n      <use xlink:href=\"#DejaVuSans-39\" x=\"2110.888672\"/>\n      <use xlink:href=\"#DejaVuSans-32\" x=\"2174.511719\"/>\n      <use xlink:href=\"#DejaVuSans-30\" x=\"2238.134766\"/>\n      <use xlink:href=\"#DejaVuSans-30\" x=\"2301.757812\"/>\n      <use xlink:href=\"#DejaVuSans-30\" x=\"2365.380859\"/>\n      <use xlink:href=\"#DejaVuSans-30\" x=\"2429.003906\"/>\n      <use xlink:href=\"#DejaVuSans-30\" x=\"2492.626953\"/>\n      <use xlink:href=\"#DejaVuSans-65\" x=\"2556.25\"/>\n      <use xlink:href=\"#DejaVuSans-2b\" x=\"2617.773438\"/>\n      <use xlink:href=\"#DejaVuSans-30\" x=\"2701.5625\"/>\n      <use xlink:href=\"#DejaVuSans-31\" x=\"2765.185547\"/>\n      <use xlink:href=\"#DejaVuSans-20\" x=\"2828.808594\"/>\n      <use xlink:href=\"#DejaVuSans-20\" x=\"2860.595703\"/>\n      <use xlink:href=\"#DejaVuSans-31\" x=\"2892.382812\"/>\n      <use xlink:href=\"#DejaVuSans-2e\" x=\"2956.005859\"/>\n      <use xlink:href=\"#DejaVuSans-35\" x=\"2987.792969\"/>\n      <use xlink:href=\"#DejaVuSans-34\" x=\"3051.416016\"/>\n      <use xlink:href=\"#DejaVuSans-37\" x=\"3115.039062\"/>\n      <use xlink:href=\"#DejaVuSans-30\" x=\"3178.662109\"/>\n      <use xlink:href=\"#DejaVuSans-30\" x=\"3242.285156\"/>\n      <use xlink:href=\"#DejaVuSans-30\" x=\"3305.908203\"/>\n      <use xlink:href=\"#DejaVuSans-30\" x=\"3369.53125\"/>\n      <use xlink:href=\"#DejaVuSans-30\" x=\"3433.154297\"/>\n      <use xlink:href=\"#DejaVuSans-65\" x=\"3496.777344\"/>\n      <use xlink:href=\"#DejaVuSans-2b\" x=\"3558.300781\"/>\n      <use xlink:href=\"#DejaVuSans-30\" x=\"3642.089844\"/>\n      <use xlink:href=\"#DejaVuSans-31\" x=\"3705.712891\"/>\n     </g>\n     <!--   1.40800000e+01  1.27500000e+01  1.14800000e+01  1.02700000e+01 -->\n     <g transform=\"translate(25.99625 385.369531)rotate(-90)scale(0.1 -0.1)\">\n      <use xlink:href=\"#DejaVuSans-20\"/>\n      <use xlink:href=\"#DejaVuSans-20\" x=\"31.787109\"/>\n      <use xlink:href=\"#DejaVuSans-31\" x=\"63.574219\"/>\n      <use xlink:href=\"#DejaVuSans-2e\" x=\"127.197266\"/>\n      <use xlink:href=\"#DejaVuSans-34\" x=\"158.984375\"/>\n      <use xlink:href=\"#DejaVuSans-30\" x=\"222.607422\"/>\n      <use xlink:href=\"#DejaVuSans-38\" x=\"286.230469\"/>\n      <use xlink:href=\"#DejaVuSans-30\" x=\"349.853516\"/>\n      <use xlink:href=\"#DejaVuSans-30\" x=\"413.476562\"/>\n      <use xlink:href=\"#DejaVuSans-30\" x=\"477.099609\"/>\n      <use xlink:href=\"#DejaVuSans-30\" x=\"540.722656\"/>\n      <use xlink:href=\"#DejaVuSans-30\" x=\"604.345703\"/>\n      <use xlink:href=\"#DejaVuSans-65\" x=\"667.96875\"/>\n      <use xlink:href=\"#DejaVuSans-2b\" x=\"729.492188\"/>\n      <use xlink:href=\"#DejaVuSans-30\" x=\"813.28125\"/>\n      <use xlink:href=\"#DejaVuSans-31\" x=\"876.904297\"/>\n      <use xlink:href=\"#DejaVuSans-20\" x=\"940.527344\"/>\n      <use xlink:href=\"#DejaVuSans-20\" x=\"972.314453\"/>\n      <use xlink:href=\"#DejaVuSans-31\" x=\"1004.101562\"/>\n      <use xlink:href=\"#DejaVuSans-2e\" x=\"1067.724609\"/>\n      <use xlink:href=\"#DejaVuSans-32\" x=\"1099.511719\"/>\n      <use xlink:href=\"#DejaVuSans-37\" x=\"1163.134766\"/>\n      <use xlink:href=\"#DejaVuSans-35\" x=\"1226.757812\"/>\n      <use xlink:href=\"#DejaVuSans-30\" x=\"1290.380859\"/>\n      <use xlink:href=\"#DejaVuSans-30\" x=\"1354.003906\"/>\n      <use xlink:href=\"#DejaVuSans-30\" x=\"1417.626953\"/>\n      <use xlink:href=\"#DejaVuSans-30\" x=\"1481.25\"/>\n      <use xlink:href=\"#DejaVuSans-30\" x=\"1544.873047\"/>\n      <use xlink:href=\"#DejaVuSans-65\" x=\"1608.496094\"/>\n      <use xlink:href=\"#DejaVuSans-2b\" x=\"1670.019531\"/>\n      <use xlink:href=\"#DejaVuSans-30\" x=\"1753.808594\"/>\n      <use xlink:href=\"#DejaVuSans-31\" x=\"1817.431641\"/>\n      <use xlink:href=\"#DejaVuSans-20\" x=\"1881.054688\"/>\n      <use xlink:href=\"#DejaVuSans-20\" x=\"1912.841797\"/>\n      <use xlink:href=\"#DejaVuSans-31\" x=\"1944.628906\"/>\n      <use xlink:href=\"#DejaVuSans-2e\" x=\"2008.251953\"/>\n      <use xlink:href=\"#DejaVuSans-31\" x=\"2040.039062\"/>\n      <use xlink:href=\"#DejaVuSans-34\" x=\"2103.662109\"/>\n      <use xlink:href=\"#DejaVuSans-38\" x=\"2167.285156\"/>\n      <use xlink:href=\"#DejaVuSans-30\" x=\"2230.908203\"/>\n      <use xlink:href=\"#DejaVuSans-30\" x=\"2294.53125\"/>\n      <use xlink:href=\"#DejaVuSans-30\" x=\"2358.154297\"/>\n      <use xlink:href=\"#DejaVuSans-30\" x=\"2421.777344\"/>\n      <use xlink:href=\"#DejaVuSans-30\" x=\"2485.400391\"/>\n      <use xlink:href=\"#DejaVuSans-65\" x=\"2549.023438\"/>\n      <use xlink:href=\"#DejaVuSans-2b\" x=\"2610.546875\"/>\n      <use xlink:href=\"#DejaVuSans-30\" x=\"2694.335938\"/>\n      <use xlink:href=\"#DejaVuSans-31\" x=\"2757.958984\"/>\n      <use xlink:href=\"#DejaVuSans-20\" x=\"2821.582031\"/>\n      <use xlink:href=\"#DejaVuSans-20\" x=\"2853.369141\"/>\n      <use xlink:href=\"#DejaVuSans-31\" x=\"2885.15625\"/>\n      <use xlink:href=\"#DejaVuSans-2e\" x=\"2948.779297\"/>\n      <use xlink:href=\"#DejaVuSans-30\" x=\"2980.566406\"/>\n      <use xlink:href=\"#DejaVuSans-32\" x=\"3044.189453\"/>\n      <use xlink:href=\"#DejaVuSans-37\" x=\"3107.8125\"/>\n      <use xlink:href=\"#DejaVuSans-30\" x=\"3171.435547\"/>\n      <use xlink:href=\"#DejaVuSans-30\" x=\"3235.058594\"/>\n      <use xlink:href=\"#DejaVuSans-30\" x=\"3298.681641\"/>\n      <use xlink:href=\"#DejaVuSans-30\" x=\"3362.304688\"/>\n      <use xlink:href=\"#DejaVuSans-30\" x=\"3425.927734\"/>\n      <use xlink:href=\"#DejaVuSans-65\" x=\"3489.550781\"/>\n      <use xlink:href=\"#DejaVuSans-2b\" x=\"3551.074219\"/>\n      <use xlink:href=\"#DejaVuSans-30\" x=\"3634.863281\"/>\n      <use xlink:href=\"#DejaVuSans-31\" x=\"3698.486328\"/>\n     </g>\n     <!--   9.12000000e+00  8.03000000e+00  7.00000000e+00  6.03000000e+00 -->\n     <g transform=\"translate(37.194062 385.369531)rotate(-90)scale(0.1 -0.1)\">\n      <use xlink:href=\"#DejaVuSans-20\"/>\n      <use xlink:href=\"#DejaVuSans-20\" x=\"31.787109\"/>\n      <use xlink:href=\"#DejaVuSans-39\" x=\"63.574219\"/>\n      <use xlink:href=\"#DejaVuSans-2e\" x=\"127.197266\"/>\n      <use xlink:href=\"#DejaVuSans-31\" x=\"158.984375\"/>\n      <use xlink:href=\"#DejaVuSans-32\" x=\"222.607422\"/>\n      <use xlink:href=\"#DejaVuSans-30\" x=\"286.230469\"/>\n      <use xlink:href=\"#DejaVuSans-30\" x=\"349.853516\"/>\n      <use xlink:href=\"#DejaVuSans-30\" x=\"413.476562\"/>\n      <use xlink:href=\"#DejaVuSans-30\" x=\"477.099609\"/>\n      <use xlink:href=\"#DejaVuSans-30\" x=\"540.722656\"/>\n      <use xlink:href=\"#DejaVuSans-30\" x=\"604.345703\"/>\n      <use xlink:href=\"#DejaVuSans-65\" x=\"667.96875\"/>\n      <use xlink:href=\"#DejaVuSans-2b\" x=\"729.492188\"/>\n      <use xlink:href=\"#DejaVuSans-30\" x=\"813.28125\"/>\n      <use xlink:href=\"#DejaVuSans-30\" x=\"876.904297\"/>\n      <use xlink:href=\"#DejaVuSans-20\" x=\"940.527344\"/>\n      <use xlink:href=\"#DejaVuSans-20\" x=\"972.314453\"/>\n      <use xlink:href=\"#DejaVuSans-38\" x=\"1004.101562\"/>\n      <use xlink:href=\"#DejaVuSans-2e\" x=\"1067.724609\"/>\n      <use xlink:href=\"#DejaVuSans-30\" x=\"1099.511719\"/>\n      <use xlink:href=\"#DejaVuSans-33\" x=\"1163.134766\"/>\n      <use xlink:href=\"#DejaVuSans-30\" x=\"1226.757812\"/>\n      <use xlink:href=\"#DejaVuSans-30\" x=\"1290.380859\"/>\n      <use xlink:href=\"#DejaVuSans-30\" x=\"1354.003906\"/>\n      <use xlink:href=\"#DejaVuSans-30\" x=\"1417.626953\"/>\n      <use xlink:href=\"#DejaVuSans-30\" x=\"1481.25\"/>\n      <use xlink:href=\"#DejaVuSans-30\" x=\"1544.873047\"/>\n      <use xlink:href=\"#DejaVuSans-65\" x=\"1608.496094\"/>\n      <use xlink:href=\"#DejaVuSans-2b\" x=\"1670.019531\"/>\n      <use xlink:href=\"#DejaVuSans-30\" x=\"1753.808594\"/>\n      <use xlink:href=\"#DejaVuSans-30\" x=\"1817.431641\"/>\n      <use xlink:href=\"#DejaVuSans-20\" x=\"1881.054688\"/>\n      <use xlink:href=\"#DejaVuSans-20\" x=\"1912.841797\"/>\n      <use xlink:href=\"#DejaVuSans-37\" x=\"1944.628906\"/>\n      <use xlink:href=\"#DejaVuSans-2e\" x=\"2008.251953\"/>\n      <use xlink:href=\"#DejaVuSans-30\" x=\"2040.039062\"/>\n      <use xlink:href=\"#DejaVuSans-30\" x=\"2103.662109\"/>\n      <use xlink:href=\"#DejaVuSans-30\" x=\"2167.285156\"/>\n      <use xlink:href=\"#DejaVuSans-30\" x=\"2230.908203\"/>\n      <use xlink:href=\"#DejaVuSans-30\" x=\"2294.53125\"/>\n      <use xlink:href=\"#DejaVuSans-30\" x=\"2358.154297\"/>\n      <use xlink:href=\"#DejaVuSans-30\" x=\"2421.777344\"/>\n      <use xlink:href=\"#DejaVuSans-30\" x=\"2485.400391\"/>\n      <use xlink:href=\"#DejaVuSans-65\" x=\"2549.023438\"/>\n      <use xlink:href=\"#DejaVuSans-2b\" x=\"2610.546875\"/>\n      <use xlink:href=\"#DejaVuSans-30\" x=\"2694.335938\"/>\n      <use xlink:href=\"#DejaVuSans-30\" x=\"2757.958984\"/>\n      <use xlink:href=\"#DejaVuSans-20\" x=\"2821.582031\"/>\n      <use xlink:href=\"#DejaVuSans-20\" x=\"2853.369141\"/>\n      <use xlink:href=\"#DejaVuSans-36\" x=\"2885.15625\"/>\n      <use xlink:href=\"#DejaVuSans-2e\" x=\"2948.779297\"/>\n      <use xlink:href=\"#DejaVuSans-30\" x=\"2980.566406\"/>\n      <use xlink:href=\"#DejaVuSans-33\" x=\"3044.189453\"/>\n      <use xlink:href=\"#DejaVuSans-30\" x=\"3107.8125\"/>\n      <use xlink:href=\"#DejaVuSans-30\" x=\"3171.435547\"/>\n      <use xlink:href=\"#DejaVuSans-30\" x=\"3235.058594\"/>\n      <use xlink:href=\"#DejaVuSans-30\" x=\"3298.681641\"/>\n      <use xlink:href=\"#DejaVuSans-30\" x=\"3362.304688\"/>\n      <use xlink:href=\"#DejaVuSans-30\" x=\"3425.927734\"/>\n      <use xlink:href=\"#DejaVuSans-65\" x=\"3489.550781\"/>\n      <use xlink:href=\"#DejaVuSans-2b\" x=\"3551.074219\"/>\n      <use xlink:href=\"#DejaVuSans-30\" x=\"3634.863281\"/>\n      <use xlink:href=\"#DejaVuSans-30\" x=\"3698.486328\"/>\n     </g>\n     <!--   5.12000000e+00  4.27000000e+00  3.48000000e+00  2.75000000e+00 -->\n     <g transform=\"translate(48.391875 385.369531)rotate(-90)scale(0.1 -0.1)\">\n      <use xlink:href=\"#DejaVuSans-20\"/>\n      <use xlink:href=\"#DejaVuSans-20\" x=\"31.787109\"/>\n      <use xlink:href=\"#DejaVuSans-35\" x=\"63.574219\"/>\n      <use xlink:href=\"#DejaVuSans-2e\" x=\"127.197266\"/>\n      <use xlink:href=\"#DejaVuSans-31\" x=\"158.984375\"/>\n      <use xlink:href=\"#DejaVuSans-32\" x=\"222.607422\"/>\n      <use xlink:href=\"#DejaVuSans-30\" x=\"286.230469\"/>\n      <use xlink:href=\"#DejaVuSans-30\" x=\"349.853516\"/>\n      <use xlink:href=\"#DejaVuSans-30\" x=\"413.476562\"/>\n      <use xlink:href=\"#DejaVuSans-30\" x=\"477.099609\"/>\n      <use xlink:href=\"#DejaVuSans-30\" x=\"540.722656\"/>\n      <use xlink:href=\"#DejaVuSans-30\" x=\"604.345703\"/>\n      <use xlink:href=\"#DejaVuSans-65\" x=\"667.96875\"/>\n      <use xlink:href=\"#DejaVuSans-2b\" x=\"729.492188\"/>\n      <use xlink:href=\"#DejaVuSans-30\" x=\"813.28125\"/>\n      <use xlink:href=\"#DejaVuSans-30\" x=\"876.904297\"/>\n      <use xlink:href=\"#DejaVuSans-20\" x=\"940.527344\"/>\n      <use xlink:href=\"#DejaVuSans-20\" x=\"972.314453\"/>\n      <use xlink:href=\"#DejaVuSans-34\" x=\"1004.101562\"/>\n      <use xlink:href=\"#DejaVuSans-2e\" x=\"1067.724609\"/>\n      <use xlink:href=\"#DejaVuSans-32\" x=\"1099.511719\"/>\n      <use xlink:href=\"#DejaVuSans-37\" x=\"1163.134766\"/>\n      <use xlink:href=\"#DejaVuSans-30\" x=\"1226.757812\"/>\n      <use xlink:href=\"#DejaVuSans-30\" x=\"1290.380859\"/>\n      <use xlink:href=\"#DejaVuSans-30\" x=\"1354.003906\"/>\n      <use xlink:href=\"#DejaVuSans-30\" x=\"1417.626953\"/>\n      <use xlink:href=\"#DejaVuSans-30\" x=\"1481.25\"/>\n      <use xlink:href=\"#DejaVuSans-30\" x=\"1544.873047\"/>\n      <use xlink:href=\"#DejaVuSans-65\" x=\"1608.496094\"/>\n      <use xlink:href=\"#DejaVuSans-2b\" x=\"1670.019531\"/>\n      <use xlink:href=\"#DejaVuSans-30\" x=\"1753.808594\"/>\n      <use xlink:href=\"#DejaVuSans-30\" x=\"1817.431641\"/>\n      <use xlink:href=\"#DejaVuSans-20\" x=\"1881.054688\"/>\n      <use xlink:href=\"#DejaVuSans-20\" x=\"1912.841797\"/>\n      <use xlink:href=\"#DejaVuSans-33\" x=\"1944.628906\"/>\n      <use xlink:href=\"#DejaVuSans-2e\" x=\"2008.251953\"/>\n      <use xlink:href=\"#DejaVuSans-34\" x=\"2040.039062\"/>\n      <use xlink:href=\"#DejaVuSans-38\" x=\"2103.662109\"/>\n      <use xlink:href=\"#DejaVuSans-30\" x=\"2167.285156\"/>\n      <use xlink:href=\"#DejaVuSans-30\" x=\"2230.908203\"/>\n      <use xlink:href=\"#DejaVuSans-30\" x=\"2294.53125\"/>\n      <use xlink:href=\"#DejaVuSans-30\" x=\"2358.154297\"/>\n      <use xlink:href=\"#DejaVuSans-30\" x=\"2421.777344\"/>\n      <use xlink:href=\"#DejaVuSans-30\" x=\"2485.400391\"/>\n      <use xlink:href=\"#DejaVuSans-65\" x=\"2549.023438\"/>\n      <use xlink:href=\"#DejaVuSans-2b\" x=\"2610.546875\"/>\n      <use xlink:href=\"#DejaVuSans-30\" x=\"2694.335938\"/>\n      <use xlink:href=\"#DejaVuSans-30\" x=\"2757.958984\"/>\n      <use xlink:href=\"#DejaVuSans-20\" x=\"2821.582031\"/>\n      <use xlink:href=\"#DejaVuSans-20\" x=\"2853.369141\"/>\n      <use xlink:href=\"#DejaVuSans-32\" x=\"2885.15625\"/>\n      <use xlink:href=\"#DejaVuSans-2e\" x=\"2948.779297\"/>\n      <use xlink:href=\"#DejaVuSans-37\" x=\"2980.566406\"/>\n      <use xlink:href=\"#DejaVuSans-35\" x=\"3044.189453\"/>\n      <use xlink:href=\"#DejaVuSans-30\" x=\"3107.8125\"/>\n      <use xlink:href=\"#DejaVuSans-30\" x=\"3171.435547\"/>\n      <use xlink:href=\"#DejaVuSans-30\" x=\"3235.058594\"/>\n      <use xlink:href=\"#DejaVuSans-30\" x=\"3298.681641\"/>\n      <use xlink:href=\"#DejaVuSans-30\" x=\"3362.304688\"/>\n      <use xlink:href=\"#DejaVuSans-30\" x=\"3425.927734\"/>\n      <use xlink:href=\"#DejaVuSans-65\" x=\"3489.550781\"/>\n      <use xlink:href=\"#DejaVuSans-2b\" x=\"3551.074219\"/>\n      <use xlink:href=\"#DejaVuSans-30\" x=\"3634.863281\"/>\n      <use xlink:href=\"#DejaVuSans-30\" x=\"3698.486328\"/>\n     </g>\n     <!--   2.08000000e+00  1.47000000e+00  9.20000000e-01  4.30000000e-01 -->\n     <g transform=\"translate(59.589687 380.597656)rotate(-90)scale(0.1 -0.1)\">\n      <defs>\n       <path id=\"DejaVuSans-2d\" d=\"M 313 2009 \nL 1997 2009 \nL 1997 1497 \nL 313 1497 \nL 313 2009 \nz\n\" transform=\"scale(0.015625)\"/>\n      </defs>\n      <use xlink:href=\"#DejaVuSans-20\"/>\n      <use xlink:href=\"#DejaVuSans-20\" x=\"31.787109\"/>\n      <use xlink:href=\"#DejaVuSans-32\" x=\"63.574219\"/>\n      <use xlink:href=\"#DejaVuSans-2e\" x=\"127.197266\"/>\n      <use xlink:href=\"#DejaVuSans-30\" x=\"158.984375\"/>\n      <use xlink:href=\"#DejaVuSans-38\" x=\"222.607422\"/>\n      <use xlink:href=\"#DejaVuSans-30\" x=\"286.230469\"/>\n      <use xlink:href=\"#DejaVuSans-30\" x=\"349.853516\"/>\n      <use xlink:href=\"#DejaVuSans-30\" x=\"413.476562\"/>\n      <use xlink:href=\"#DejaVuSans-30\" x=\"477.099609\"/>\n      <use xlink:href=\"#DejaVuSans-30\" x=\"540.722656\"/>\n      <use xlink:href=\"#DejaVuSans-30\" x=\"604.345703\"/>\n      <use xlink:href=\"#DejaVuSans-65\" x=\"667.96875\"/>\n      <use xlink:href=\"#DejaVuSans-2b\" x=\"729.492188\"/>\n      <use xlink:href=\"#DejaVuSans-30\" x=\"813.28125\"/>\n      <use xlink:href=\"#DejaVuSans-30\" x=\"876.904297\"/>\n      <use xlink:href=\"#DejaVuSans-20\" x=\"940.527344\"/>\n      <use xlink:href=\"#DejaVuSans-20\" x=\"972.314453\"/>\n      <use xlink:href=\"#DejaVuSans-31\" x=\"1004.101562\"/>\n      <use xlink:href=\"#DejaVuSans-2e\" x=\"1067.724609\"/>\n      <use xlink:href=\"#DejaVuSans-34\" x=\"1099.511719\"/>\n      <use xlink:href=\"#DejaVuSans-37\" x=\"1163.134766\"/>\n      <use xlink:href=\"#DejaVuSans-30\" x=\"1226.757812\"/>\n      <use xlink:href=\"#DejaVuSans-30\" x=\"1290.380859\"/>\n      <use xlink:href=\"#DejaVuSans-30\" x=\"1354.003906\"/>\n      <use xlink:href=\"#DejaVuSans-30\" x=\"1417.626953\"/>\n      <use xlink:href=\"#DejaVuSans-30\" x=\"1481.25\"/>\n      <use xlink:href=\"#DejaVuSans-30\" x=\"1544.873047\"/>\n      <use xlink:href=\"#DejaVuSans-65\" x=\"1608.496094\"/>\n      <use xlink:href=\"#DejaVuSans-2b\" x=\"1670.019531\"/>\n      <use xlink:href=\"#DejaVuSans-30\" x=\"1753.808594\"/>\n      <use xlink:href=\"#DejaVuSans-30\" x=\"1817.431641\"/>\n      <use xlink:href=\"#DejaVuSans-20\" x=\"1881.054688\"/>\n      <use xlink:href=\"#DejaVuSans-20\" x=\"1912.841797\"/>\n      <use xlink:href=\"#DejaVuSans-39\" x=\"1944.628906\"/>\n      <use xlink:href=\"#DejaVuSans-2e\" x=\"2008.251953\"/>\n      <use xlink:href=\"#DejaVuSans-32\" x=\"2040.039062\"/>\n      <use xlink:href=\"#DejaVuSans-30\" x=\"2103.662109\"/>\n      <use xlink:href=\"#DejaVuSans-30\" x=\"2167.285156\"/>\n      <use xlink:href=\"#DejaVuSans-30\" x=\"2230.908203\"/>\n      <use xlink:href=\"#DejaVuSans-30\" x=\"2294.53125\"/>\n      <use xlink:href=\"#DejaVuSans-30\" x=\"2358.154297\"/>\n      <use xlink:href=\"#DejaVuSans-30\" x=\"2421.777344\"/>\n      <use xlink:href=\"#DejaVuSans-30\" x=\"2485.400391\"/>\n      <use xlink:href=\"#DejaVuSans-65\" x=\"2549.023438\"/>\n      <use xlink:href=\"#DejaVuSans-2d\" x=\"2610.546875\"/>\n      <use xlink:href=\"#DejaVuSans-30\" x=\"2646.630859\"/>\n      <use xlink:href=\"#DejaVuSans-31\" x=\"2710.253906\"/>\n      <use xlink:href=\"#DejaVuSans-20\" x=\"2773.876953\"/>\n      <use xlink:href=\"#DejaVuSans-20\" x=\"2805.664062\"/>\n      <use xlink:href=\"#DejaVuSans-34\" x=\"2837.451172\"/>\n      <use xlink:href=\"#DejaVuSans-2e\" x=\"2901.074219\"/>\n      <use xlink:href=\"#DejaVuSans-33\" x=\"2932.861328\"/>\n      <use xlink:href=\"#DejaVuSans-30\" x=\"2996.484375\"/>\n      <use xlink:href=\"#DejaVuSans-30\" x=\"3060.107422\"/>\n      <use xlink:href=\"#DejaVuSans-30\" x=\"3123.730469\"/>\n      <use xlink:href=\"#DejaVuSans-30\" x=\"3187.353516\"/>\n      <use xlink:href=\"#DejaVuSans-30\" x=\"3250.976562\"/>\n      <use xlink:href=\"#DejaVuSans-30\" x=\"3314.599609\"/>\n      <use xlink:href=\"#DejaVuSans-30\" x=\"3378.222656\"/>\n      <use xlink:href=\"#DejaVuSans-65\" x=\"3441.845703\"/>\n      <use xlink:href=\"#DejaVuSans-2d\" x=\"3503.369141\"/>\n      <use xlink:href=\"#DejaVuSans-30\" x=\"3539.453125\"/>\n      <use xlink:href=\"#DejaVuSans-31\" x=\"3603.076172\"/>\n     </g>\n     <!--  -7.10542736e-15 -3.70000000e-01 -6.80000000e-01 -9.30000000e-01 -->\n     <g transform=\"translate(70.7875 376.685156)rotate(-90)scale(0.1 -0.1)\">\n      <use xlink:href=\"#DejaVuSans-20\"/>\n      <use xlink:href=\"#DejaVuSans-2d\" x=\"31.787109\"/>\n      <use xlink:href=\"#DejaVuSans-37\" x=\"67.871094\"/>\n      <use xlink:href=\"#DejaVuSans-2e\" x=\"131.494141\"/>\n      <use xlink:href=\"#DejaVuSans-31\" x=\"163.28125\"/>\n      <use xlink:href=\"#DejaVuSans-30\" x=\"226.904297\"/>\n      <use xlink:href=\"#DejaVuSans-35\" x=\"290.527344\"/>\n      <use xlink:href=\"#DejaVuSans-34\" x=\"354.150391\"/>\n      <use xlink:href=\"#DejaVuSans-32\" x=\"417.773438\"/>\n      <use xlink:href=\"#DejaVuSans-37\" x=\"481.396484\"/>\n      <use xlink:href=\"#DejaVuSans-33\" x=\"545.019531\"/>\n      <use xlink:href=\"#DejaVuSans-36\" x=\"608.642578\"/>\n      <use xlink:href=\"#DejaVuSans-65\" x=\"672.265625\"/>\n      <use xlink:href=\"#DejaVuSans-2d\" x=\"733.789062\"/>\n      <use xlink:href=\"#DejaVuSans-31\" x=\"769.873047\"/>\n      <use xlink:href=\"#DejaVuSans-35\" x=\"833.496094\"/>\n      <use xlink:href=\"#DejaVuSans-20\" x=\"897.119141\"/>\n      <use xlink:href=\"#DejaVuSans-2d\" x=\"928.90625\"/>\n      <use xlink:href=\"#DejaVuSans-33\" x=\"964.990234\"/>\n      <use xlink:href=\"#DejaVuSans-2e\" x=\"1028.613281\"/>\n      <use xlink:href=\"#DejaVuSans-37\" x=\"1060.400391\"/>\n      <use xlink:href=\"#DejaVuSans-30\" x=\"1124.023438\"/>\n      <use xlink:href=\"#DejaVuSans-30\" x=\"1187.646484\"/>\n      <use xlink:href=\"#DejaVuSans-30\" x=\"1251.269531\"/>\n      <use xlink:href=\"#DejaVuSans-30\" x=\"1314.892578\"/>\n      <use xlink:href=\"#DejaVuSans-30\" x=\"1378.515625\"/>\n      <use xlink:href=\"#DejaVuSans-30\" x=\"1442.138672\"/>\n      <use xlink:href=\"#DejaVuSans-30\" x=\"1505.761719\"/>\n      <use xlink:href=\"#DejaVuSans-65\" x=\"1569.384766\"/>\n      <use xlink:href=\"#DejaVuSans-2d\" x=\"1630.908203\"/>\n      <use xlink:href=\"#DejaVuSans-30\" x=\"1666.992188\"/>\n      <use xlink:href=\"#DejaVuSans-31\" x=\"1730.615234\"/>\n      <use xlink:href=\"#DejaVuSans-20\" x=\"1794.238281\"/>\n      <use xlink:href=\"#DejaVuSans-2d\" x=\"1826.025391\"/>\n      <use xlink:href=\"#DejaVuSans-36\" x=\"1862.109375\"/>\n      <use xlink:href=\"#DejaVuSans-2e\" x=\"1925.732422\"/>\n      <use xlink:href=\"#DejaVuSans-38\" x=\"1957.519531\"/>\n      <use xlink:href=\"#DejaVuSans-30\" x=\"2021.142578\"/>\n      <use xlink:href=\"#DejaVuSans-30\" x=\"2084.765625\"/>\n      <use xlink:href=\"#DejaVuSans-30\" x=\"2148.388672\"/>\n      <use xlink:href=\"#DejaVuSans-30\" x=\"2212.011719\"/>\n      <use xlink:href=\"#DejaVuSans-30\" x=\"2275.634766\"/>\n      <use xlink:href=\"#DejaVuSans-30\" x=\"2339.257812\"/>\n      <use xlink:href=\"#DejaVuSans-30\" x=\"2402.880859\"/>\n      <use xlink:href=\"#DejaVuSans-65\" x=\"2466.503906\"/>\n      <use xlink:href=\"#DejaVuSans-2d\" x=\"2528.027344\"/>\n      <use xlink:href=\"#DejaVuSans-30\" x=\"2564.111328\"/>\n      <use xlink:href=\"#DejaVuSans-31\" x=\"2627.734375\"/>\n      <use xlink:href=\"#DejaVuSans-20\" x=\"2691.357422\"/>\n      <use xlink:href=\"#DejaVuSans-2d\" x=\"2723.144531\"/>\n      <use xlink:href=\"#DejaVuSans-39\" x=\"2759.228516\"/>\n      <use xlink:href=\"#DejaVuSans-2e\" x=\"2822.851562\"/>\n      <use xlink:href=\"#DejaVuSans-33\" x=\"2854.638672\"/>\n      <use xlink:href=\"#DejaVuSans-30\" x=\"2918.261719\"/>\n      <use xlink:href=\"#DejaVuSans-30\" x=\"2981.884766\"/>\n      <use xlink:href=\"#DejaVuSans-30\" x=\"3045.507812\"/>\n      <use xlink:href=\"#DejaVuSans-30\" x=\"3109.130859\"/>\n      <use xlink:href=\"#DejaVuSans-30\" x=\"3172.753906\"/>\n      <use xlink:href=\"#DejaVuSans-30\" x=\"3236.376953\"/>\n      <use xlink:href=\"#DejaVuSans-30\" x=\"3300\"/>\n      <use xlink:href=\"#DejaVuSans-65\" x=\"3363.623047\"/>\n      <use xlink:href=\"#DejaVuSans-2d\" x=\"3425.146484\"/>\n      <use xlink:href=\"#DejaVuSans-30\" x=\"3461.230469\"/>\n      <use xlink:href=\"#DejaVuSans-31\" x=\"3524.853516\"/>\n     </g>\n     <!--  -1.12000000e+00 -1.25000000e+00 -1.32000000e+00 -1.33000000e+00 -->\n     <g transform=\"translate(81.985312 386.228906)rotate(-90)scale(0.1 -0.1)\">\n      <use xlink:href=\"#DejaVuSans-20\"/>\n      <use xlink:href=\"#DejaVuSans-2d\" x=\"31.787109\"/>\n      <use xlink:href=\"#DejaVuSans-31\" x=\"67.871094\"/>\n      <use xlink:href=\"#DejaVuSans-2e\" x=\"131.494141\"/>\n      <use xlink:href=\"#DejaVuSans-31\" x=\"163.28125\"/>\n      <use xlink:href=\"#DejaVuSans-32\" x=\"226.904297\"/>\n      <use xlink:href=\"#DejaVuSans-30\" x=\"290.527344\"/>\n      <use xlink:href=\"#DejaVuSans-30\" x=\"354.150391\"/>\n      <use xlink:href=\"#DejaVuSans-30\" x=\"417.773438\"/>\n      <use xlink:href=\"#DejaVuSans-30\" x=\"481.396484\"/>\n      <use xlink:href=\"#DejaVuSans-30\" x=\"545.019531\"/>\n      <use xlink:href=\"#DejaVuSans-30\" x=\"608.642578\"/>\n      <use xlink:href=\"#DejaVuSans-65\" x=\"672.265625\"/>\n      <use xlink:href=\"#DejaVuSans-2b\" x=\"733.789062\"/>\n      <use xlink:href=\"#DejaVuSans-30\" x=\"817.578125\"/>\n      <use xlink:href=\"#DejaVuSans-30\" x=\"881.201172\"/>\n      <use xlink:href=\"#DejaVuSans-20\" x=\"944.824219\"/>\n      <use xlink:href=\"#DejaVuSans-2d\" x=\"976.611328\"/>\n      <use xlink:href=\"#DejaVuSans-31\" x=\"1012.695312\"/>\n      <use xlink:href=\"#DejaVuSans-2e\" x=\"1076.318359\"/>\n      <use xlink:href=\"#DejaVuSans-32\" x=\"1108.105469\"/>\n      <use xlink:href=\"#DejaVuSans-35\" x=\"1171.728516\"/>\n      <use xlink:href=\"#DejaVuSans-30\" x=\"1235.351562\"/>\n      <use xlink:href=\"#DejaVuSans-30\" x=\"1298.974609\"/>\n      <use xlink:href=\"#DejaVuSans-30\" x=\"1362.597656\"/>\n      <use xlink:href=\"#DejaVuSans-30\" x=\"1426.220703\"/>\n      <use xlink:href=\"#DejaVuSans-30\" x=\"1489.84375\"/>\n      <use xlink:href=\"#DejaVuSans-30\" x=\"1553.466797\"/>\n      <use xlink:href=\"#DejaVuSans-65\" x=\"1617.089844\"/>\n      <use xlink:href=\"#DejaVuSans-2b\" x=\"1678.613281\"/>\n      <use xlink:href=\"#DejaVuSans-30\" x=\"1762.402344\"/>\n      <use xlink:href=\"#DejaVuSans-30\" x=\"1826.025391\"/>\n      <use xlink:href=\"#DejaVuSans-20\" x=\"1889.648438\"/>\n      <use xlink:href=\"#DejaVuSans-2d\" x=\"1921.435547\"/>\n      <use xlink:href=\"#DejaVuSans-31\" x=\"1957.519531\"/>\n      <use xlink:href=\"#DejaVuSans-2e\" x=\"2021.142578\"/>\n      <use xlink:href=\"#DejaVuSans-33\" x=\"2052.929688\"/>\n      <use xlink:href=\"#DejaVuSans-32\" x=\"2116.552734\"/>\n      <use xlink:href=\"#DejaVuSans-30\" x=\"2180.175781\"/>\n      <use xlink:href=\"#DejaVuSans-30\" x=\"2243.798828\"/>\n      <use xlink:href=\"#DejaVuSans-30\" x=\"2307.421875\"/>\n      <use xlink:href=\"#DejaVuSans-30\" x=\"2371.044922\"/>\n      <use xlink:href=\"#DejaVuSans-30\" x=\"2434.667969\"/>\n      <use xlink:href=\"#DejaVuSans-30\" x=\"2498.291016\"/>\n      <use xlink:href=\"#DejaVuSans-65\" x=\"2561.914062\"/>\n      <use xlink:href=\"#DejaVuSans-2b\" x=\"2623.4375\"/>\n      <use xlink:href=\"#DejaVuSans-30\" x=\"2707.226562\"/>\n      <use xlink:href=\"#DejaVuSans-30\" x=\"2770.849609\"/>\n      <use xlink:href=\"#DejaVuSans-20\" x=\"2834.472656\"/>\n      <use xlink:href=\"#DejaVuSans-2d\" x=\"2866.259766\"/>\n      <use xlink:href=\"#DejaVuSans-31\" x=\"2902.34375\"/>\n      <use xlink:href=\"#DejaVuSans-2e\" x=\"2965.966797\"/>\n      <use xlink:href=\"#DejaVuSans-33\" x=\"2997.753906\"/>\n      <use xlink:href=\"#DejaVuSans-33\" x=\"3061.376953\"/>\n      <use xlink:href=\"#DejaVuSans-30\" x=\"3125\"/>\n      <use xlink:href=\"#DejaVuSans-30\" x=\"3188.623047\"/>\n      <use xlink:href=\"#DejaVuSans-30\" x=\"3252.246094\"/>\n      <use xlink:href=\"#DejaVuSans-30\" x=\"3315.869141\"/>\n      <use xlink:href=\"#DejaVuSans-30\" x=\"3379.492188\"/>\n      <use xlink:href=\"#DejaVuSans-30\" x=\"3443.115234\"/>\n      <use xlink:href=\"#DejaVuSans-65\" x=\"3506.738281\"/>\n      <use xlink:href=\"#DejaVuSans-2b\" x=\"3568.261719\"/>\n      <use xlink:href=\"#DejaVuSans-30\" x=\"3652.050781\"/>\n      <use xlink:href=\"#DejaVuSans-30\" x=\"3715.673828\"/>\n     </g>\n     <!--  -1.28000000e+00 -1.17000000e+00 -1.00000000e+00 -7.70000000e-01 -->\n     <g transform=\"translate(93.183125 383.842969)rotate(-90)scale(0.1 -0.1)\">\n      <use xlink:href=\"#DejaVuSans-20\"/>\n      <use xlink:href=\"#DejaVuSans-2d\" x=\"31.787109\"/>\n      <use xlink:href=\"#DejaVuSans-31\" x=\"67.871094\"/>\n      <use xlink:href=\"#DejaVuSans-2e\" x=\"131.494141\"/>\n      <use xlink:href=\"#DejaVuSans-32\" x=\"163.28125\"/>\n      <use xlink:href=\"#DejaVuSans-38\" x=\"226.904297\"/>\n      <use xlink:href=\"#DejaVuSans-30\" x=\"290.527344\"/>\n      <use xlink:href=\"#DejaVuSans-30\" x=\"354.150391\"/>\n      <use xlink:href=\"#DejaVuSans-30\" x=\"417.773438\"/>\n      <use xlink:href=\"#DejaVuSans-30\" x=\"481.396484\"/>\n      <use xlink:href=\"#DejaVuSans-30\" x=\"545.019531\"/>\n      <use xlink:href=\"#DejaVuSans-30\" x=\"608.642578\"/>\n      <use xlink:href=\"#DejaVuSans-65\" x=\"672.265625\"/>\n      <use xlink:href=\"#DejaVuSans-2b\" x=\"733.789062\"/>\n      <use xlink:href=\"#DejaVuSans-30\" x=\"817.578125\"/>\n      <use xlink:href=\"#DejaVuSans-30\" x=\"881.201172\"/>\n      <use xlink:href=\"#DejaVuSans-20\" x=\"944.824219\"/>\n      <use xlink:href=\"#DejaVuSans-2d\" x=\"976.611328\"/>\n      <use xlink:href=\"#DejaVuSans-31\" x=\"1012.695312\"/>\n      <use xlink:href=\"#DejaVuSans-2e\" x=\"1076.318359\"/>\n      <use xlink:href=\"#DejaVuSans-31\" x=\"1108.105469\"/>\n      <use xlink:href=\"#DejaVuSans-37\" x=\"1171.728516\"/>\n      <use xlink:href=\"#DejaVuSans-30\" x=\"1235.351562\"/>\n      <use xlink:href=\"#DejaVuSans-30\" x=\"1298.974609\"/>\n      <use xlink:href=\"#DejaVuSans-30\" x=\"1362.597656\"/>\n      <use xlink:href=\"#DejaVuSans-30\" x=\"1426.220703\"/>\n      <use xlink:href=\"#DejaVuSans-30\" x=\"1489.84375\"/>\n      <use xlink:href=\"#DejaVuSans-30\" x=\"1553.466797\"/>\n      <use xlink:href=\"#DejaVuSans-65\" x=\"1617.089844\"/>\n      <use xlink:href=\"#DejaVuSans-2b\" x=\"1678.613281\"/>\n      <use xlink:href=\"#DejaVuSans-30\" x=\"1762.402344\"/>\n      <use xlink:href=\"#DejaVuSans-30\" x=\"1826.025391\"/>\n      <use xlink:href=\"#DejaVuSans-20\" x=\"1889.648438\"/>\n      <use xlink:href=\"#DejaVuSans-2d\" x=\"1921.435547\"/>\n      <use xlink:href=\"#DejaVuSans-31\" x=\"1957.519531\"/>\n      <use xlink:href=\"#DejaVuSans-2e\" x=\"2021.142578\"/>\n      <use xlink:href=\"#DejaVuSans-30\" x=\"2052.929688\"/>\n      <use xlink:href=\"#DejaVuSans-30\" x=\"2116.552734\"/>\n      <use xlink:href=\"#DejaVuSans-30\" x=\"2180.175781\"/>\n      <use xlink:href=\"#DejaVuSans-30\" x=\"2243.798828\"/>\n      <use xlink:href=\"#DejaVuSans-30\" x=\"2307.421875\"/>\n      <use xlink:href=\"#DejaVuSans-30\" x=\"2371.044922\"/>\n      <use xlink:href=\"#DejaVuSans-30\" x=\"2434.667969\"/>\n      <use xlink:href=\"#DejaVuSans-30\" x=\"2498.291016\"/>\n      <use xlink:href=\"#DejaVuSans-65\" x=\"2561.914062\"/>\n      <use xlink:href=\"#DejaVuSans-2b\" x=\"2623.4375\"/>\n      <use xlink:href=\"#DejaVuSans-30\" x=\"2707.226562\"/>\n      <use xlink:href=\"#DejaVuSans-30\" x=\"2770.849609\"/>\n      <use xlink:href=\"#DejaVuSans-20\" x=\"2834.472656\"/>\n      <use xlink:href=\"#DejaVuSans-2d\" x=\"2866.259766\"/>\n      <use xlink:href=\"#DejaVuSans-37\" x=\"2902.34375\"/>\n      <use xlink:href=\"#DejaVuSans-2e\" x=\"2965.966797\"/>\n      <use xlink:href=\"#DejaVuSans-37\" x=\"2997.753906\"/>\n      <use xlink:href=\"#DejaVuSans-30\" x=\"3061.376953\"/>\n      <use xlink:href=\"#DejaVuSans-30\" x=\"3125\"/>\n      <use xlink:href=\"#DejaVuSans-30\" x=\"3188.623047\"/>\n      <use xlink:href=\"#DejaVuSans-30\" x=\"3252.246094\"/>\n      <use xlink:href=\"#DejaVuSans-30\" x=\"3315.869141\"/>\n      <use xlink:href=\"#DejaVuSans-30\" x=\"3379.492188\"/>\n      <use xlink:href=\"#DejaVuSans-30\" x=\"3443.115234\"/>\n      <use xlink:href=\"#DejaVuSans-65\" x=\"3506.738281\"/>\n      <use xlink:href=\"#DejaVuSans-2d\" x=\"3568.261719\"/>\n      <use xlink:href=\"#DejaVuSans-30\" x=\"3604.345703\"/>\n      <use xlink:href=\"#DejaVuSans-31\" x=\"3667.96875\"/>\n     </g>\n     <!--  -4.80000000e-01 -1.30000000e-01  2.80000000e-01  7.50000000e-01 -->\n     <g transform=\"translate(104.380938 376.255469)rotate(-90)scale(0.1 -0.1)\">\n      <use xlink:href=\"#DejaVuSans-20\"/>\n      <use xlink:href=\"#DejaVuSans-2d\" x=\"31.787109\"/>\n      <use xlink:href=\"#DejaVuSans-34\" x=\"67.871094\"/>\n      <use xlink:href=\"#DejaVuSans-2e\" x=\"131.494141\"/>\n      <use xlink:href=\"#DejaVuSans-38\" x=\"163.28125\"/>\n      <use xlink:href=\"#DejaVuSans-30\" x=\"226.904297\"/>\n      <use xlink:href=\"#DejaVuSans-30\" x=\"290.527344\"/>\n      <use xlink:href=\"#DejaVuSans-30\" x=\"354.150391\"/>\n      <use xlink:href=\"#DejaVuSans-30\" x=\"417.773438\"/>\n      <use xlink:href=\"#DejaVuSans-30\" x=\"481.396484\"/>\n      <use xlink:href=\"#DejaVuSans-30\" x=\"545.019531\"/>\n      <use xlink:href=\"#DejaVuSans-30\" x=\"608.642578\"/>\n      <use xlink:href=\"#DejaVuSans-65\" x=\"672.265625\"/>\n      <use xlink:href=\"#DejaVuSans-2d\" x=\"733.789062\"/>\n      <use xlink:href=\"#DejaVuSans-30\" x=\"769.873047\"/>\n      <use xlink:href=\"#DejaVuSans-31\" x=\"833.496094\"/>\n      <use xlink:href=\"#DejaVuSans-20\" x=\"897.119141\"/>\n      <use xlink:href=\"#DejaVuSans-2d\" x=\"928.90625\"/>\n      <use xlink:href=\"#DejaVuSans-31\" x=\"964.990234\"/>\n      <use xlink:href=\"#DejaVuSans-2e\" x=\"1028.613281\"/>\n      <use xlink:href=\"#DejaVuSans-33\" x=\"1060.400391\"/>\n      <use xlink:href=\"#DejaVuSans-30\" x=\"1124.023438\"/>\n      <use xlink:href=\"#DejaVuSans-30\" x=\"1187.646484\"/>\n      <use xlink:href=\"#DejaVuSans-30\" x=\"1251.269531\"/>\n      <use xlink:href=\"#DejaVuSans-30\" x=\"1314.892578\"/>\n      <use xlink:href=\"#DejaVuSans-30\" x=\"1378.515625\"/>\n      <use xlink:href=\"#DejaVuSans-30\" x=\"1442.138672\"/>\n      <use xlink:href=\"#DejaVuSans-30\" x=\"1505.761719\"/>\n      <use xlink:href=\"#DejaVuSans-65\" x=\"1569.384766\"/>\n      <use xlink:href=\"#DejaVuSans-2d\" x=\"1630.908203\"/>\n      <use xlink:href=\"#DejaVuSans-30\" x=\"1666.992188\"/>\n      <use xlink:href=\"#DejaVuSans-31\" x=\"1730.615234\"/>\n      <use xlink:href=\"#DejaVuSans-20\" x=\"1794.238281\"/>\n      <use xlink:href=\"#DejaVuSans-20\" x=\"1826.025391\"/>\n      <use xlink:href=\"#DejaVuSans-32\" x=\"1857.8125\"/>\n      <use xlink:href=\"#DejaVuSans-2e\" x=\"1921.435547\"/>\n      <use xlink:href=\"#DejaVuSans-38\" x=\"1953.222656\"/>\n      <use xlink:href=\"#DejaVuSans-30\" x=\"2016.845703\"/>\n      <use xlink:href=\"#DejaVuSans-30\" x=\"2080.46875\"/>\n      <use xlink:href=\"#DejaVuSans-30\" x=\"2144.091797\"/>\n      <use xlink:href=\"#DejaVuSans-30\" x=\"2207.714844\"/>\n      <use xlink:href=\"#DejaVuSans-30\" x=\"2271.337891\"/>\n      <use xlink:href=\"#DejaVuSans-30\" x=\"2334.960938\"/>\n      <use xlink:href=\"#DejaVuSans-30\" x=\"2398.583984\"/>\n      <use xlink:href=\"#DejaVuSans-65\" x=\"2462.207031\"/>\n      <use xlink:href=\"#DejaVuSans-2d\" x=\"2523.730469\"/>\n      <use xlink:href=\"#DejaVuSans-30\" x=\"2559.814453\"/>\n      <use xlink:href=\"#DejaVuSans-31\" x=\"2623.4375\"/>\n      <use xlink:href=\"#DejaVuSans-20\" x=\"2687.060547\"/>\n      <use xlink:href=\"#DejaVuSans-20\" x=\"2718.847656\"/>\n      <use xlink:href=\"#DejaVuSans-37\" x=\"2750.634766\"/>\n      <use xlink:href=\"#DejaVuSans-2e\" x=\"2814.257812\"/>\n      <use xlink:href=\"#DejaVuSans-35\" x=\"2846.044922\"/>\n      <use xlink:href=\"#DejaVuSans-30\" x=\"2909.667969\"/>\n      <use xlink:href=\"#DejaVuSans-30\" x=\"2973.291016\"/>\n      <use xlink:href=\"#DejaVuSans-30\" x=\"3036.914062\"/>\n      <use xlink:href=\"#DejaVuSans-30\" x=\"3100.537109\"/>\n      <use xlink:href=\"#DejaVuSans-30\" x=\"3164.160156\"/>\n      <use xlink:href=\"#DejaVuSans-30\" x=\"3227.783203\"/>\n      <use xlink:href=\"#DejaVuSans-30\" x=\"3291.40625\"/>\n      <use xlink:href=\"#DejaVuSans-65\" x=\"3355.029297\"/>\n      <use xlink:href=\"#DejaVuSans-2d\" x=\"3416.552734\"/>\n      <use xlink:href=\"#DejaVuSans-30\" x=\"3452.636719\"/>\n      <use xlink:href=\"#DejaVuSans-31\" x=\"3516.259766\"/>\n     </g>\n     <!--   1.28000000e+00  1.87000000e+00  2.52000000e+00  3.23000000e+00] -->\n     <g transform=\"translate(115.57875 387.320313)rotate(-90)scale(0.1 -0.1)\">\n      <defs>\n       <path id=\"DejaVuSans-5d\" d=\"M 1947 4863 \nL 1947 -844 \nL 622 -844 \nL 622 -397 \nL 1369 -397 \nL 1369 4416 \nL 622 4416 \nL 622 4863 \nL 1947 4863 \nz\n\" transform=\"scale(0.015625)\"/>\n      </defs>\n      <use xlink:href=\"#DejaVuSans-20\"/>\n      <use xlink:href=\"#DejaVuSans-20\" x=\"31.787109\"/>\n      <use xlink:href=\"#DejaVuSans-31\" x=\"63.574219\"/>\n      <use xlink:href=\"#DejaVuSans-2e\" x=\"127.197266\"/>\n      <use xlink:href=\"#DejaVuSans-32\" x=\"158.984375\"/>\n      <use xlink:href=\"#DejaVuSans-38\" x=\"222.607422\"/>\n      <use xlink:href=\"#DejaVuSans-30\" x=\"286.230469\"/>\n      <use xlink:href=\"#DejaVuSans-30\" x=\"349.853516\"/>\n      <use xlink:href=\"#DejaVuSans-30\" x=\"413.476562\"/>\n      <use xlink:href=\"#DejaVuSans-30\" x=\"477.099609\"/>\n      <use xlink:href=\"#DejaVuSans-30\" x=\"540.722656\"/>\n      <use xlink:href=\"#DejaVuSans-30\" x=\"604.345703\"/>\n      <use xlink:href=\"#DejaVuSans-65\" x=\"667.96875\"/>\n      <use xlink:href=\"#DejaVuSans-2b\" x=\"729.492188\"/>\n      <use xlink:href=\"#DejaVuSans-30\" x=\"813.28125\"/>\n      <use xlink:href=\"#DejaVuSans-30\" x=\"876.904297\"/>\n      <use xlink:href=\"#DejaVuSans-20\" x=\"940.527344\"/>\n      <use xlink:href=\"#DejaVuSans-20\" x=\"972.314453\"/>\n      <use xlink:href=\"#DejaVuSans-31\" x=\"1004.101562\"/>\n      <use xlink:href=\"#DejaVuSans-2e\" x=\"1067.724609\"/>\n      <use xlink:href=\"#DejaVuSans-38\" x=\"1099.511719\"/>\n      <use xlink:href=\"#DejaVuSans-37\" x=\"1163.134766\"/>\n      <use xlink:href=\"#DejaVuSans-30\" x=\"1226.757812\"/>\n      <use xlink:href=\"#DejaVuSans-30\" x=\"1290.380859\"/>\n      <use xlink:href=\"#DejaVuSans-30\" x=\"1354.003906\"/>\n      <use xlink:href=\"#DejaVuSans-30\" x=\"1417.626953\"/>\n      <use xlink:href=\"#DejaVuSans-30\" x=\"1481.25\"/>\n      <use xlink:href=\"#DejaVuSans-30\" x=\"1544.873047\"/>\n      <use xlink:href=\"#DejaVuSans-65\" x=\"1608.496094\"/>\n      <use xlink:href=\"#DejaVuSans-2b\" x=\"1670.019531\"/>\n      <use xlink:href=\"#DejaVuSans-30\" x=\"1753.808594\"/>\n      <use xlink:href=\"#DejaVuSans-30\" x=\"1817.431641\"/>\n      <use xlink:href=\"#DejaVuSans-20\" x=\"1881.054688\"/>\n      <use xlink:href=\"#DejaVuSans-20\" x=\"1912.841797\"/>\n      <use xlink:href=\"#DejaVuSans-32\" x=\"1944.628906\"/>\n      <use xlink:href=\"#DejaVuSans-2e\" x=\"2008.251953\"/>\n      <use xlink:href=\"#DejaVuSans-35\" x=\"2040.039062\"/>\n      <use xlink:href=\"#DejaVuSans-32\" x=\"2103.662109\"/>\n      <use xlink:href=\"#DejaVuSans-30\" x=\"2167.285156\"/>\n      <use xlink:href=\"#DejaVuSans-30\" x=\"2230.908203\"/>\n      <use xlink:href=\"#DejaVuSans-30\" x=\"2294.53125\"/>\n      <use xlink:href=\"#DejaVuSans-30\" x=\"2358.154297\"/>\n      <use xlink:href=\"#DejaVuSans-30\" x=\"2421.777344\"/>\n      <use xlink:href=\"#DejaVuSans-30\" x=\"2485.400391\"/>\n      <use xlink:href=\"#DejaVuSans-65\" x=\"2549.023438\"/>\n      <use xlink:href=\"#DejaVuSans-2b\" x=\"2610.546875\"/>\n      <use xlink:href=\"#DejaVuSans-30\" x=\"2694.335938\"/>\n      <use xlink:href=\"#DejaVuSans-30\" x=\"2757.958984\"/>\n      <use xlink:href=\"#DejaVuSans-20\" x=\"2821.582031\"/>\n      <use xlink:href=\"#DejaVuSans-20\" x=\"2853.369141\"/>\n      <use xlink:href=\"#DejaVuSans-33\" x=\"2885.15625\"/>\n      <use xlink:href=\"#DejaVuSans-2e\" x=\"2948.779297\"/>\n      <use xlink:href=\"#DejaVuSans-32\" x=\"2980.566406\"/>\n      <use xlink:href=\"#DejaVuSans-33\" x=\"3044.189453\"/>\n      <use xlink:href=\"#DejaVuSans-30\" x=\"3107.8125\"/>\n      <use xlink:href=\"#DejaVuSans-30\" x=\"3171.435547\"/>\n      <use xlink:href=\"#DejaVuSans-30\" x=\"3235.058594\"/>\n      <use xlink:href=\"#DejaVuSans-30\" x=\"3298.681641\"/>\n      <use xlink:href=\"#DejaVuSans-30\" x=\"3362.304688\"/>\n      <use xlink:href=\"#DejaVuSans-30\" x=\"3425.927734\"/>\n      <use xlink:href=\"#DejaVuSans-65\" x=\"3489.550781\"/>\n      <use xlink:href=\"#DejaVuSans-2b\" x=\"3551.074219\"/>\n      <use xlink:href=\"#DejaVuSans-30\" x=\"3634.863281\"/>\n      <use xlink:href=\"#DejaVuSans-30\" x=\"3698.486328\"/>\n      <use xlink:href=\"#DejaVuSans-5d\" x=\"3762.109375\"/>\n     </g>\n    </g>\n    <g id=\"text_11\">\n     <!-- 1e14 -->\n     <g transform=\"translate(143.400625 126.310156)scale(0.1 -0.1)\">\n      <use xlink:href=\"#DejaVuSans-31\"/>\n      <use xlink:href=\"#DejaVuSans-65\" x=\"63.623047\"/>\n      <use xlink:href=\"#DejaVuSans-31\" x=\"125.146484\"/>\n      <use xlink:href=\"#DejaVuSans-34\" x=\"188.769531\"/>\n     </g>\n    </g>\n   </g>\n   <g id=\"line2d_17\">\n    <path d=\"M 152.277898 135.487429 \nL 156.830345 135.487429 \nL 161.382793 135.487429 \nL 165.93524 135.487429 \nL 170.487688 135.487429 \nL 175.040135 135.487429 \nL 179.592583 135.487429 \nL 184.145031 135.487429 \nL 188.697478 135.487429 \nL 193.249926 135.487429 \nL 197.802373 135.487429 \nL 202.354821 135.487429 \nL 206.907268 135.487429 \nL 211.459716 135.487429 \nL 216.012163 135.487429 \nL 220.564611 135.487429 \nL 225.117059 135.487429 \nL 229.669506 135.487429 \nL 234.221954 135.487429 \nL 238.774401 135.487429 \nL 243.326849 135.487429 \nL 247.879296 135.487429 \nL 252.431744 135.487429 \nL 256.984191 135.487429 \nL 261.536639 135.487429 \nL 266.089087 135.487429 \nL 270.641534 135.487429 \nL 275.193982 135.487429 \nL 279.746429 135.487429 \nL 284.298877 135.487429 \nL 288.851324 135.487429 \nL 293.403772 135.487429 \nL 297.956219 135.487429 \nL 302.508667 135.487429 \nL 307.061115 135.487429 \nL 311.613562 135.487429 \nL 316.16601 135.487429 \nL 320.718457 135.487429 \nL 325.270905 135.487429 \nL 329.823352 135.487429 \n\" clip-path=\"url(#p426335e2ff)\" style=\"fill: none; stroke: #1f77b4; stroke-width: 1.5; stroke-linecap: square\"/>\n   </g>\n   <g id=\"line2d_18\">\n    <path d=\"M 152.277898 135.487429 \nL 156.830345 135.487429 \nL 161.382793 135.487429 \nL 165.93524 135.487429 \nL 170.487688 135.487429 \nL 175.040135 135.487429 \nL 179.592583 135.487429 \nL 184.145031 135.487429 \nL 188.697478 135.487429 \nL 193.249926 135.487429 \nL 197.802373 135.487429 \nL 202.354821 135.487429 \nL 206.907268 135.487429 \nL 211.459716 135.487429 \nL 216.012163 135.487429 \nL 220.564611 135.487429 \nL 225.117059 135.487429 \nL 229.669506 135.487429 \nL 234.221954 135.487429 \nL 238.774401 135.487429 \nL 243.326849 259.032884 \nL 247.879296 135.487429 \nL 252.431744 135.487429 \nL 256.984191 135.487429 \nL 261.536639 135.487429 \nL 266.089087 135.487429 \nL 270.641534 135.487429 \nL 275.193982 135.487429 \nL 279.746429 135.487429 \nL 284.298877 135.487429 \nL 288.851324 135.487429 \nL 293.403772 135.487429 \nL 297.956219 135.487429 \nL 302.508667 135.487429 \nL 307.061115 135.487429 \nL 311.613562 135.487429 \nL 316.16601 135.487429 \nL 320.718457 135.487429 \nL 325.270905 135.487429 \nL 329.823352 135.487429 \n\" clip-path=\"url(#p426335e2ff)\" style=\"fill: none; stroke-dasharray: 5.55,2.4; stroke-dashoffset: 0; stroke: #bf00bf; stroke-width: 1.5\"/>\n   </g>\n   <g id=\"patch_3\">\n    <path d=\"M 143.400625 265.210156 \nL 143.400625 129.310156 \n\" style=\"fill: none; stroke: #000000; stroke-width: 0.8; stroke-linejoin: miter; stroke-linecap: square\"/>\n   </g>\n   <g id=\"patch_4\">\n    <path d=\"M 338.700625 265.210156 \nL 338.700625 129.310156 \n\" style=\"fill: none; stroke: #000000; stroke-width: 0.8; stroke-linejoin: miter; stroke-linecap: square\"/>\n   </g>\n   <g id=\"patch_5\">\n    <path d=\"M 143.400625 265.210156 \nL 338.700625 265.210156 \n\" style=\"fill: none; stroke: #000000; stroke-width: 0.8; stroke-linejoin: miter; stroke-linecap: square\"/>\n   </g>\n   <g id=\"patch_6\">\n    <path d=\"M 143.400625 129.310156 \nL 338.700625 129.310156 \n\" style=\"fill: none; stroke: #000000; stroke-width: 0.8; stroke-linejoin: miter; stroke-linecap: square\"/>\n   </g>\n   <g id=\"legend_1\">\n    <g id=\"patch_7\">\n     <path d=\"M 207.874063 213.438281 \nL 331.700625 213.438281 \nQ 333.700625 213.438281 333.700625 211.438281 \nL 333.700625 183.082031 \nQ 333.700625 181.082031 331.700625 181.082031 \nL 207.874063 181.082031 \nQ 205.874063 181.082031 205.874063 183.082031 \nL 205.874063 211.438281 \nQ 205.874063 213.438281 207.874063 213.438281 \nz\n\" style=\"fill: #ffffff; opacity: 0.8; stroke: #cccccc; stroke-linejoin: miter\"/>\n    </g>\n    <g id=\"line2d_19\">\n     <path d=\"M 209.874063 189.180469 \nL 219.874063 189.180469 \nL 229.874063 189.180469 \n\" style=\"fill: none; stroke: #1f77b4; stroke-width: 1.5; stroke-linecap: square\"/>\n    </g>\n    <g id=\"text_12\">\n     <!-- f(x) -->\n     <g transform=\"translate(237.874063 192.680469)scale(0.1 -0.1)\">\n      <defs>\n       <path id=\"DejaVuSans-66\" d=\"M 2375 4863 \nL 2375 4384 \nL 1825 4384 \nQ 1516 4384 1395 4259 \nQ 1275 4134 1275 3809 \nL 1275 3500 \nL 2222 3500 \nL 2222 3053 \nL 1275 3053 \nL 1275 0 \nL 697 0 \nL 697 3053 \nL 147 3053 \nL 147 3500 \nL 697 3500 \nL 697 3744 \nQ 697 4328 969 4595 \nQ 1241 4863 1831 4863 \nL 2375 4863 \nz\n\" transform=\"scale(0.015625)\"/>\n       <path id=\"DejaVuSans-28\" d=\"M 1984 4856 \nQ 1566 4138 1362 3434 \nQ 1159 2731 1159 2009 \nQ 1159 1288 1364 580 \nQ 1569 -128 1984 -844 \nL 1484 -844 \nQ 1016 -109 783 600 \nQ 550 1309 550 2009 \nQ 550 2706 781 3412 \nQ 1013 4119 1484 4856 \nL 1984 4856 \nz\n\" transform=\"scale(0.015625)\"/>\n       <path id=\"DejaVuSans-29\" d=\"M 513 4856 \nL 1013 4856 \nQ 1481 4119 1714 3412 \nQ 1947 2706 1947 2009 \nQ 1947 1309 1714 600 \nQ 1481 -109 1013 -844 \nL 513 -844 \nQ 928 -128 1133 580 \nQ 1338 1288 1338 2009 \nQ 1338 2731 1133 3434 \nQ 928 4138 513 4856 \nz\n\" transform=\"scale(0.015625)\"/>\n      </defs>\n      <use xlink:href=\"#DejaVuSans-66\"/>\n      <use xlink:href=\"#DejaVuSans-28\" x=\"35.205078\"/>\n      <use xlink:href=\"#DejaVuSans-78\" x=\"74.21875\"/>\n      <use xlink:href=\"#DejaVuSans-29\" x=\"133.398438\"/>\n     </g>\n    </g>\n    <g id=\"line2d_20\">\n     <path d=\"M 209.874063 203.858594 \nL 219.874063 203.858594 \nL 229.874063 203.858594 \n\" style=\"fill: none; stroke-dasharray: 5.55,2.4; stroke-dashoffset: 0; stroke: #bf00bf; stroke-width: 1.5\"/>\n    </g>\n    <g id=\"text_13\">\n     <!-- Tangent line(x = 1 -->\n     <g transform=\"translate(237.874063 207.358594)scale(0.1 -0.1)\">\n      <defs>\n       <path id=\"DejaVuSans-54\" d=\"M -19 4666 \nL 3928 4666 \nL 3928 4134 \nL 2272 4134 \nL 2272 0 \nL 1638 0 \nL 1638 4134 \nL -19 4134 \nL -19 4666 \nz\n\" transform=\"scale(0.015625)\"/>\n       <path id=\"DejaVuSans-61\" d=\"M 2194 1759 \nQ 1497 1759 1228 1600 \nQ 959 1441 959 1056 \nQ 959 750 1161 570 \nQ 1363 391 1709 391 \nQ 2188 391 2477 730 \nQ 2766 1069 2766 1631 \nL 2766 1759 \nL 2194 1759 \nz\nM 3341 1997 \nL 3341 0 \nL 2766 0 \nL 2766 531 \nQ 2569 213 2275 61 \nQ 1981 -91 1556 -91 \nQ 1019 -91 701 211 \nQ 384 513 384 1019 \nQ 384 1609 779 1909 \nQ 1175 2209 1959 2209 \nL 2766 2209 \nL 2766 2266 \nQ 2766 2663 2505 2880 \nQ 2244 3097 1772 3097 \nQ 1472 3097 1187 3025 \nQ 903 2953 641 2809 \nL 641 3341 \nQ 956 3463 1253 3523 \nQ 1550 3584 1831 3584 \nQ 2591 3584 2966 3190 \nQ 3341 2797 3341 1997 \nz\n\" transform=\"scale(0.015625)\"/>\n       <path id=\"DejaVuSans-6e\" d=\"M 3513 2113 \nL 3513 0 \nL 2938 0 \nL 2938 2094 \nQ 2938 2591 2744 2837 \nQ 2550 3084 2163 3084 \nQ 1697 3084 1428 2787 \nQ 1159 2491 1159 1978 \nL 1159 0 \nL 581 0 \nL 581 3500 \nL 1159 3500 \nL 1159 2956 \nQ 1366 3272 1645 3428 \nQ 1925 3584 2291 3584 \nQ 2894 3584 3203 3211 \nQ 3513 2838 3513 2113 \nz\n\" transform=\"scale(0.015625)\"/>\n       <path id=\"DejaVuSans-67\" d=\"M 2906 1791 \nQ 2906 2416 2648 2759 \nQ 2391 3103 1925 3103 \nQ 1463 3103 1205 2759 \nQ 947 2416 947 1791 \nQ 947 1169 1205 825 \nQ 1463 481 1925 481 \nQ 2391 481 2648 825 \nQ 2906 1169 2906 1791 \nz\nM 3481 434 \nQ 3481 -459 3084 -895 \nQ 2688 -1331 1869 -1331 \nQ 1566 -1331 1297 -1286 \nQ 1028 -1241 775 -1147 \nL 775 -588 \nQ 1028 -725 1275 -790 \nQ 1522 -856 1778 -856 \nQ 2344 -856 2625 -561 \nQ 2906 -266 2906 331 \nL 2906 616 \nQ 2728 306 2450 153 \nQ 2172 0 1784 0 \nQ 1141 0 747 490 \nQ 353 981 353 1791 \nQ 353 2603 747 3093 \nQ 1141 3584 1784 3584 \nQ 2172 3584 2450 3431 \nQ 2728 3278 2906 2969 \nL 2906 3500 \nL 3481 3500 \nL 3481 434 \nz\n\" transform=\"scale(0.015625)\"/>\n       <path id=\"DejaVuSans-74\" d=\"M 1172 4494 \nL 1172 3500 \nL 2356 3500 \nL 2356 3053 \nL 1172 3053 \nL 1172 1153 \nQ 1172 725 1289 603 \nQ 1406 481 1766 481 \nL 2356 481 \nL 2356 0 \nL 1766 0 \nQ 1100 0 847 248 \nQ 594 497 594 1153 \nL 594 3053 \nL 172 3053 \nL 172 3500 \nL 594 3500 \nL 594 4494 \nL 1172 4494 \nz\n\" transform=\"scale(0.015625)\"/>\n       <path id=\"DejaVuSans-6c\" d=\"M 603 4863 \nL 1178 4863 \nL 1178 0 \nL 603 0 \nL 603 4863 \nz\n\" transform=\"scale(0.015625)\"/>\n       <path id=\"DejaVuSans-69\" d=\"M 603 3500 \nL 1178 3500 \nL 1178 0 \nL 603 0 \nL 603 3500 \nz\nM 603 4863 \nL 1178 4863 \nL 1178 4134 \nL 603 4134 \nL 603 4863 \nz\n\" transform=\"scale(0.015625)\"/>\n       <path id=\"DejaVuSans-3d\" d=\"M 678 2906 \nL 4684 2906 \nL 4684 2381 \nL 678 2381 \nL 678 2906 \nz\nM 678 1631 \nL 4684 1631 \nL 4684 1100 \nL 678 1100 \nL 678 1631 \nz\n\" transform=\"scale(0.015625)\"/>\n      </defs>\n      <use xlink:href=\"#DejaVuSans-54\"/>\n      <use xlink:href=\"#DejaVuSans-61\" x=\"44.583984\"/>\n      <use xlink:href=\"#DejaVuSans-6e\" x=\"105.863281\"/>\n      <use xlink:href=\"#DejaVuSans-67\" x=\"169.242188\"/>\n      <use xlink:href=\"#DejaVuSans-65\" x=\"232.71875\"/>\n      <use xlink:href=\"#DejaVuSans-6e\" x=\"294.242188\"/>\n      <use xlink:href=\"#DejaVuSans-74\" x=\"357.621094\"/>\n      <use xlink:href=\"#DejaVuSans-20\" x=\"396.830078\"/>\n      <use xlink:href=\"#DejaVuSans-6c\" x=\"428.617188\"/>\n      <use xlink:href=\"#DejaVuSans-69\" x=\"456.400391\"/>\n      <use xlink:href=\"#DejaVuSans-6e\" x=\"484.183594\"/>\n      <use xlink:href=\"#DejaVuSans-65\" x=\"547.5625\"/>\n      <use xlink:href=\"#DejaVuSans-28\" x=\"609.085938\"/>\n      <use xlink:href=\"#DejaVuSans-78\" x=\"648.099609\"/>\n      <use xlink:href=\"#DejaVuSans-20\" x=\"707.279297\"/>\n      <use xlink:href=\"#DejaVuSans-3d\" x=\"739.066406\"/>\n      <use xlink:href=\"#DejaVuSans-20\" x=\"822.855469\"/>\n      <use xlink:href=\"#DejaVuSans-31\" x=\"854.642578\"/>\n     </g>\n    </g>\n   </g>\n  </g>\n </g>\n <defs>\n  <clipPath id=\"p426335e2ff\">\n   <rect x=\"143.400625\" y=\"129.310156\" width=\"195.3\" height=\"135.9\"/>\n  </clipPath>\n </defs>\n</svg>\n",
      "text/plain": [
       "<Figure size 252x180 with 1 Axes>"
      ]
     },
     "metadata": {
      "needs_background": "light"
     },
     "output_type": "display_data"
    }
   ],
   "source": [
    "x = np.arange(-2,2,0.1)\n",
    "plot(x,[f(x),x**3-x**(-1)],'x',f(x),legend=['f(x)','Tangent line(x = 1'])\n",
    "[f(x),x**3-x**(-1)]"
   ]
  },
  {
   "cell_type": "code",
   "execution_count": 86,
   "metadata": {},
   "outputs": [
    {
     "data": {
      "text/plain": [
       "(array([0. , 0.1, 0.2, 0.3, 0.4, 0.5, 0.6, 0.7, 0.8, 0.9]),\n",
       " [array([ 0.  , -0.37, -0.68, -0.93, -1.12, -1.25, -1.32, -1.33, -1.28,\n",
       "         -1.17]),\n",
       "  array([0. , 0.2, 0.4, 0.6, 0.8, 1. , 1.2, 1.4, 1.6, 1.8])])"
      ]
     },
     "execution_count": 86,
     "metadata": {},
     "output_type": "execute_result"
    }
   ],
   "source": [
    "x = np.arange(0,1,0.1)\n",
    "x,[f(x),x*2]"
   ]
  },
  {
   "cell_type": "code",
   "execution_count": null,
   "metadata": {},
   "outputs": [],
   "source": []
  }
 ],
 "metadata": {
  "kernelspec": {
   "display_name": "Python 3.9.7 ('pytorch-gpu')",
   "language": "python",
   "name": "python3"
  },
  "language_info": {
   "codemirror_mode": {
    "name": "ipython",
    "version": 3
   },
   "file_extension": ".py",
   "mimetype": "text/x-python",
   "name": "python",
   "nbconvert_exporter": "python",
   "pygments_lexer": "ipython3",
   "version": "3.9.7"
  },
  "orig_nbformat": 4,
  "vscode": {
   "interpreter": {
    "hash": "5b1196fa80c7e6d3f99a2418c205904abd64dda5cfa44b08fc9024078242cc44"
   }
  }
 },
 "nbformat": 4,
 "nbformat_minor": 2
}
