{
 "cells": [
  {
   "cell_type": "code",
   "execution_count": 2,
   "metadata": {},
   "outputs": [],
   "source": [
    "import torch"
   ]
  },
  {
   "cell_type": "markdown",
   "metadata": {},
   "source": [
    "### 数据操作"
   ]
  },
  {
   "cell_type": "markdown",
   "metadata": {},
   "source": [
    "#### 入门"
   ]
  },
  {
   "cell_type": "code",
   "execution_count": 3,
   "metadata": {},
   "outputs": [
    {
     "data": {
      "text/plain": [
       "tensor([ 0,  1,  2,  3,  4,  5,  6,  7,  8,  9, 10, 11])"
      ]
     },
     "execution_count": 3,
     "metadata": {},
     "output_type": "execute_result"
    }
   ],
   "source": [
    "x = torch.arange(12) #创建行向量\n",
    "x"
   ]
  },
  {
   "cell_type": "code",
   "execution_count": 4,
   "metadata": {},
   "outputs": [
    {
     "data": {
      "text/plain": [
       "torch.Size([12])"
      ]
     },
     "execution_count": 4,
     "metadata": {},
     "output_type": "execute_result"
    }
   ],
   "source": [
    "x.shape #输出x的形状"
   ]
  },
  {
   "cell_type": "code",
   "execution_count": 5,
   "metadata": {},
   "outputs": [
    {
     "data": {
      "text/plain": [
       "torch.Size([12])"
      ]
     },
     "execution_count": 5,
     "metadata": {},
     "output_type": "execute_result"
    }
   ],
   "source": [
    "x.size()  #行向量的shape和size一样"
   ]
  },
  {
   "cell_type": "code",
   "execution_count": 6,
   "metadata": {},
   "outputs": [
    {
     "data": {
      "text/plain": [
       "12"
      ]
     },
     "execution_count": 6,
     "metadata": {},
     "output_type": "execute_result"
    }
   ],
   "source": [
    "x.numel() #返回数组中元素的个数"
   ]
  },
  {
   "cell_type": "code",
   "execution_count": 7,
   "metadata": {},
   "outputs": [
    {
     "data": {
      "text/plain": [
       "tensor([[ 0,  1,  2,  3],\n",
       "        [ 4,  5,  6,  7],\n",
       "        [ 8,  9, 10, 11]])"
      ]
     },
     "execution_count": 7,
     "metadata": {},
     "output_type": "execute_result"
    }
   ],
   "source": [
    "X = x.reshape(3,4) #改变形状，但是元素值一样\n",
    "X"
   ]
  },
  {
   "cell_type": "code",
   "execution_count": 8,
   "metadata": {},
   "outputs": [
    {
     "data": {
      "text/plain": [
       "(tensor([[ 0,  1,  2,  3],\n",
       "         [ 4,  5,  6,  7],\n",
       "         [ 8,  9, 10, 11]]),\n",
       " tensor([[ 0,  1,  2,  3],\n",
       "         [ 4,  5,  6,  7],\n",
       "         [ 8,  9, 10, 11]]),\n",
       " tensor([[ 0,  1,  2,  3],\n",
       "         [ 4,  5,  6,  7],\n",
       "         [ 8,  9, 10, 11]]))"
      ]
     },
     "execution_count": 8,
     "metadata": {},
     "output_type": "execute_result"
    }
   ],
   "source": [
    "x.reshape(-1,4),x.reshape(3,-1),x.reshape(3,4)  #-1表示通过计算获得行数或者列数"
   ]
  },
  {
   "cell_type": "code",
   "execution_count": 9,
   "metadata": {},
   "outputs": [
    {
     "data": {
      "text/plain": [
       "tensor([[[0., 0., 0., 0.],\n",
       "         [0., 0., 0., 0.],\n",
       "         [0., 0., 0., 0.]],\n",
       "\n",
       "        [[0., 0., 0., 0.],\n",
       "         [0., 0., 0., 0.],\n",
       "         [0., 0., 0., 0.]]])"
      ]
     },
     "execution_count": 9,
     "metadata": {},
     "output_type": "execute_result"
    }
   ],
   "source": [
    "torch.zeros((2,3,4)) #全0矩阵，矩阵维度用元组传入"
   ]
  },
  {
   "cell_type": "code",
   "execution_count": 10,
   "metadata": {},
   "outputs": [
    {
     "data": {
      "text/plain": [
       "tensor([[[1., 1., 1., 1.],\n",
       "         [1., 1., 1., 1.],\n",
       "         [1., 1., 1., 1.]],\n",
       "\n",
       "        [[1., 1., 1., 1.],\n",
       "         [1., 1., 1., 1.],\n",
       "         [1., 1., 1., 1.]]])"
      ]
     },
     "execution_count": 10,
     "metadata": {},
     "output_type": "execute_result"
    }
   ],
   "source": [
    "torch.ones((2,3,4))"
   ]
  },
  {
   "cell_type": "code",
   "execution_count": 11,
   "metadata": {},
   "outputs": [
    {
     "data": {
      "text/plain": [
       "tensor([[-0.4622,  0.6146,  0.1654, -1.0564],\n",
       "        [ 1.5030, -0.6439, -1.4426, -0.3289],\n",
       "        [ 0.4209, -0.9006,  0.5872,  1.3729]])"
      ]
     },
     "execution_count": 11,
     "metadata": {},
     "output_type": "execute_result"
    }
   ],
   "source": [
    "torch.randn(3,4) #均值为0,标准差为1的正太分布随机"
   ]
  },
  {
   "cell_type": "code",
   "execution_count": 12,
   "metadata": {},
   "outputs": [
    {
     "data": {
      "text/plain": [
       "tensor([[2, 1, 4, 3],\n",
       "        [1, 2, 3, 4],\n",
       "        [4, 3, 2, 1]])"
      ]
     },
     "execution_count": 12,
     "metadata": {},
     "output_type": "execute_result"
    }
   ],
   "source": [
    "torch.tensor([[2,1,4,3],[1,2,3,4],[4,3,2,1]])  \n",
    "#通过列表创建tensor"
   ]
  },
  {
   "cell_type": "code",
   "execution_count": 13,
   "metadata": {},
   "outputs": [
    {
     "data": {
      "text/plain": [
       "[[2, 1, 4, 3], [1, 2, 3, 4], [4, 3, 2, 1]]"
      ]
     },
     "execution_count": 13,
     "metadata": {},
     "output_type": "execute_result"
    }
   ],
   "source": [
    "[[2,1,4,3],[1,2,3,4],[4,3,2,1]]"
   ]
  },
  {
   "cell_type": "markdown",
   "metadata": {},
   "source": [
    "#### 运算符"
   ]
  },
  {
   "cell_type": "code",
   "execution_count": 14,
   "metadata": {},
   "outputs": [
    {
     "data": {
      "text/plain": [
       "(tensor([ 3.,  4.,  6., 10.]),\n",
       " tensor([-1.,  0.,  2.,  6.]),\n",
       " tensor([ 2.,  4.,  8., 16.]),\n",
       " tensor([0.5000, 1.0000, 2.0000, 4.0000]),\n",
       " tensor([ 1.,  4., 16., 64.]))"
      ]
     },
     "execution_count": 14,
     "metadata": {},
     "output_type": "execute_result"
    }
   ],
   "source": [
    "x = torch.tensor([1.0,2,4,8])\n",
    "y = torch.tensor([2,2,2,2])\n",
    "x + y,x - y,x * y, x / y, x ** y "
   ]
  },
  {
   "cell_type": "code",
   "execution_count": 15,
   "metadata": {},
   "outputs": [
    {
     "data": {
      "text/plain": [
       "tensor([2.7183e+00, 7.3891e+00, 5.4598e+01, 2.9810e+03])"
      ]
     },
     "execution_count": 15,
     "metadata": {},
     "output_type": "execute_result"
    }
   ],
   "source": [
    "torch.exp(x)"
   ]
  },
  {
   "cell_type": "code",
   "execution_count": 16,
   "metadata": {},
   "outputs": [],
   "source": [
    "X = torch.arange(12,dtype=torch.float32).reshape((3,4))\n",
    "Y = torch.tensor([[2.0,1,4,3],[1,2,3,4],[4,3,2,1]])"
   ]
  },
  {
   "cell_type": "code",
   "execution_count": 17,
   "metadata": {},
   "outputs": [
    {
     "data": {
      "text/plain": [
       "tensor([[ 0.,  1.,  2.,  3.],\n",
       "        [ 4.,  5.,  6.,  7.],\n",
       "        [ 8.,  9., 10., 11.],\n",
       "        [ 2.,  1.,  4.,  3.],\n",
       "        [ 1.,  2.,  3.,  4.],\n",
       "        [ 4.,  3.,  2.,  1.]])"
      ]
     },
     "execution_count": 17,
     "metadata": {},
     "output_type": "execute_result"
    }
   ],
   "source": [
    "torch.cat((X,Y),dim=0) #扩展行"
   ]
  },
  {
   "cell_type": "code",
   "execution_count": 18,
   "metadata": {},
   "outputs": [
    {
     "data": {
      "text/plain": [
       "tensor([[ 0.,  1.,  2.,  3.,  2.,  1.,  4.,  3.],\n",
       "        [ 4.,  5.,  6.,  7.,  1.,  2.,  3.,  4.],\n",
       "        [ 8.,  9., 10., 11.,  4.,  3.,  2.,  1.]])"
      ]
     },
     "execution_count": 18,
     "metadata": {},
     "output_type": "execute_result"
    }
   ],
   "source": [
    "torch.cat((X,Y),dim=1) #扩展列"
   ]
  },
  {
   "cell_type": "code",
   "execution_count": 19,
   "metadata": {},
   "outputs": [
    {
     "data": {
      "text/plain": [
       "tensor([[False,  True, False,  True],\n",
       "        [False, False, False, False],\n",
       "        [False, False, False, False]])"
      ]
     },
     "execution_count": 19,
     "metadata": {},
     "output_type": "execute_result"
    }
   ],
   "source": [
    "X == Y #按元素判断"
   ]
  },
  {
   "cell_type": "code",
   "execution_count": 20,
   "metadata": {},
   "outputs": [
    {
     "data": {
      "text/plain": [
       "tensor([[ True, False,  True, False],\n",
       "        [False, False, False, False],\n",
       "        [False, False, False, False]])"
      ]
     },
     "execution_count": 20,
     "metadata": {},
     "output_type": "execute_result"
    }
   ],
   "source": [
    "X < Y"
   ]
  },
  {
   "cell_type": "code",
   "execution_count": 21,
   "metadata": {},
   "outputs": [
    {
     "data": {
      "text/plain": [
       "tensor(66.)"
      ]
     },
     "execution_count": 21,
     "metadata": {},
     "output_type": "execute_result"
    }
   ],
   "source": [
    "X.sum()  #所有元素求和"
   ]
  },
  {
   "cell_type": "markdown",
   "metadata": {},
   "source": [
    "#### 广播机制"
   ]
  },
  {
   "cell_type": "markdown",
   "metadata": {},
   "source": [
    "1. 通过适当复制元素来扩展一个或两个数组，以便在转换之后，两个张量具有相同的形状。\n",
    "2. 对生成的数组执行按元素操作"
   ]
  },
  {
   "cell_type": "code",
   "execution_count": 22,
   "metadata": {},
   "outputs": [
    {
     "data": {
      "text/plain": [
       "(tensor([[0],\n",
       "         [1],\n",
       "         [2]]),\n",
       " tensor([[0, 1]]))"
      ]
     },
     "execution_count": 22,
     "metadata": {},
     "output_type": "execute_result"
    }
   ],
   "source": [
    "a = torch.arange(3).reshape((3,1))\n",
    "b = torch.arange(2).reshape((1,2))\n",
    "a,b"
   ]
  },
  {
   "cell_type": "code",
   "execution_count": 23,
   "metadata": {},
   "outputs": [
    {
     "data": {
      "text/plain": [
       "tensor([[0, 1],\n",
       "        [1, 2],\n",
       "        [2, 3]])"
      ]
     },
     "execution_count": 23,
     "metadata": {},
     "output_type": "execute_result"
    }
   ],
   "source": [
    "a + b #广播机制"
   ]
  },
  {
   "cell_type": "code",
   "execution_count": 24,
   "metadata": {},
   "outputs": [
    {
     "data": {
      "text/plain": [
       "torch.Size([3, 2, 2])"
      ]
     },
     "execution_count": 24,
     "metadata": {},
     "output_type": "execute_result"
    }
   ],
   "source": [
    "a = torch.ones(3,1,2)\n",
    "b = torch.ones(2,1)\n",
    "#广播时，从尾部遍历维度，1对应2,2对应1,3对应不存在\n",
    "(a+b).size()"
   ]
  },
  {
   "cell_type": "markdown",
   "metadata": {},
   "source": [
    "#### 索引和切片"
   ]
  },
  {
   "cell_type": "code",
   "execution_count": 25,
   "metadata": {},
   "outputs": [
    {
     "data": {
      "text/plain": [
       "tensor([[ 0.,  1.,  2.,  3.],\n",
       "        [ 4.,  5.,  6.,  7.],\n",
       "        [ 8.,  9., 10., 11.]])"
      ]
     },
     "execution_count": 25,
     "metadata": {},
     "output_type": "execute_result"
    }
   ],
   "source": [
    "X"
   ]
  },
  {
   "cell_type": "code",
   "execution_count": 26,
   "metadata": {},
   "outputs": [
    {
     "data": {
      "text/plain": [
       "tensor([ 8.,  9., 10., 11.])"
      ]
     },
     "execution_count": 26,
     "metadata": {},
     "output_type": "execute_result"
    }
   ],
   "source": [
    "X[-1] #最后一个元素\n"
   ]
  },
  {
   "cell_type": "code",
   "execution_count": 27,
   "metadata": {},
   "outputs": [
    {
     "data": {
      "text/plain": [
       "tensor([[ 4.,  5.,  6.,  7.],\n",
       "        [ 8.,  9., 10., 11.]])"
      ]
     },
     "execution_count": 27,
     "metadata": {},
     "output_type": "execute_result"
    }
   ],
   "source": [
    "X[1:3] #第二个元素和第三个元素"
   ]
  },
  {
   "cell_type": "code",
   "execution_count": 28,
   "metadata": {},
   "outputs": [
    {
     "data": {
      "text/plain": [
       "tensor([[ 0.,  1.,  2.,  3.],\n",
       "        [ 4.,  5.,  9.,  7.],\n",
       "        [ 8.,  9., 10., 11.]])"
      ]
     },
     "execution_count": 28,
     "metadata": {},
     "output_type": "execute_result"
    }
   ],
   "source": [
    "X[1,2] = 9 #写入操作\n",
    "X"
   ]
  },
  {
   "cell_type": "code",
   "execution_count": 29,
   "metadata": {},
   "outputs": [
    {
     "data": {
      "text/plain": [
       "tensor([[12., 12., 12., 12.],\n",
       "        [12., 12., 12., 12.],\n",
       "        [ 8.,  9., 10., 11.]])"
      ]
     },
     "execution_count": 29,
     "metadata": {},
     "output_type": "execute_result"
    }
   ],
   "source": [
    "X[0:2,:] = 12\n",
    "X"
   ]
  },
  {
   "cell_type": "markdown",
   "metadata": {},
   "source": [
    "#### 节省内存"
   ]
  },
  {
   "cell_type": "code",
   "execution_count": 30,
   "metadata": {},
   "outputs": [
    {
     "data": {
      "text/plain": [
       "False"
      ]
     },
     "execution_count": 30,
     "metadata": {},
     "output_type": "execute_result"
    }
   ],
   "source": [
    "before = id(Y)\n",
    "Y = X + Y\n",
    "id(Y) == before"
   ]
  },
  {
   "cell_type": "code",
   "execution_count": 31,
   "metadata": {},
   "outputs": [
    {
     "name": "stdout",
     "output_type": "stream",
     "text": [
      "id(Z): 140445886204160\n",
      "id(Z): 140445886204160\n"
     ]
    }
   ],
   "source": [
    "Z = torch.zeros_like(Y) #安装Y的形状创建全0矩阵\n",
    "print('id(Z):',id(Z))\n",
    "Z[:] = X + Y\n",
    "print('id(Z):',id(Z))"
   ]
  },
  {
   "cell_type": "code",
   "execution_count": 32,
   "metadata": {},
   "outputs": [
    {
     "data": {
      "text/plain": [
       "True"
      ]
     },
     "execution_count": 32,
     "metadata": {},
     "output_type": "execute_result"
    }
   ],
   "source": [
    "before = id(X)\n",
    "X += Y\n",
    "id(X) == before\n"
   ]
  },
  {
   "cell_type": "code",
   "execution_count": 33,
   "metadata": {},
   "outputs": [
    {
     "data": {
      "text/plain": [
       "False"
      ]
     },
     "execution_count": 33,
     "metadata": {},
     "output_type": "execute_result"
    }
   ],
   "source": [
    "before = id(X)\n",
    "X = X + Y  #注意和前一个操作对比，此操作会使用新内存，钱一个不会\n",
    "id(X) == before"
   ]
  },
  {
   "cell_type": "markdown",
   "metadata": {},
   "source": [
    "#### 转换为其他Python对象"
   ]
  },
  {
   "cell_type": "code",
   "execution_count": 34,
   "metadata": {},
   "outputs": [
    {
     "data": {
      "text/plain": [
       "(numpy.ndarray, torch.Tensor)"
      ]
     },
     "execution_count": 34,
     "metadata": {},
     "output_type": "execute_result"
    }
   ],
   "source": [
    "A = X.numpy()  #tensor转为numpy\n",
    "B = torch.tensor(A) #numpy转为tensor\n",
    "type(A),type(B)"
   ]
  },
  {
   "cell_type": "code",
   "execution_count": 35,
   "metadata": {},
   "outputs": [
    {
     "data": {
      "text/plain": [
       "(tensor([3.5000]), 3.5, 3.5, 3)"
      ]
     },
     "execution_count": 35,
     "metadata": {},
     "output_type": "execute_result"
    }
   ],
   "source": [
    "a = torch.tensor([3.5])\n",
    "a,a.item(),float(a),int(a)"
   ]
  },
  {
   "cell_type": "markdown",
   "metadata": {},
   "source": [
    "### 数据预处理"
   ]
  },
  {
   "cell_type": "markdown",
   "metadata": {},
   "source": [
    "介绍pandas预处理原始数据，并且转为tensor"
   ]
  },
  {
   "cell_type": "markdown",
   "metadata": {},
   "source": [
    "#### 读取数据集"
   ]
  },
  {
   "cell_type": "code",
   "execution_count": 36,
   "metadata": {},
   "outputs": [],
   "source": [
    "import os\n",
    "\n",
    "os.makedirs(os.path.join('..','data'),exist_ok=True)\n",
    "data_file = os.path.join('..','data','house_tiny.csv')\n",
    "\n",
    "with open(data_file,'w') as f:\n",
    "    f.write('NumRooms,Alley,Price\\n') #列名\n",
    "    f.write('NA,Pave,127500\\n') #每行表示一个样本\n",
    "    f.write('2,NA,106000\\n')\n",
    "    f.write('4,NA,178100\\n')\n",
    "    f.write('NA,NA,140000\\n')"
   ]
  },
  {
   "cell_type": "code",
   "execution_count": 37,
   "metadata": {},
   "outputs": [
    {
     "name": "stdout",
     "output_type": "stream",
     "text": [
      "   NumRooms Alley   Price\n",
      "0       NaN  Pave  127500\n",
      "1       2.0   NaN  106000\n",
      "2       4.0   NaN  178100\n",
      "3       NaN   NaN  140000\n"
     ]
    }
   ],
   "source": [
    "import pandas as pd\n",
    "\n",
    "data = pd.read_csv(data_file)\n",
    "print(data)"
   ]
  },
  {
   "cell_type": "markdown",
   "metadata": {},
   "source": [
    "#### 处理缺失值"
   ]
  },
  {
   "cell_type": "code",
   "execution_count": 38,
   "metadata": {},
   "outputs": [
    {
     "name": "stdout",
     "output_type": "stream",
     "text": [
      "   NumRooms Alley\n",
      "0       3.0  Pave\n",
      "1       2.0   NaN\n",
      "2       4.0   NaN\n",
      "3       3.0   NaN\n"
     ]
    }
   ],
   "source": [
    "from unicodedata import numeric\n",
    "\n",
    "\n",
    "inputs,outputs = data.iloc[:,0:2],data.iloc[:,2]  #前两列为输入，最后一列为u输出\n",
    "inputs = inputs.fillna(inputs.mean())  #填充NaN，使用均值\n",
    "print(inputs)"
   ]
  },
  {
   "cell_type": "code",
   "execution_count": 39,
   "metadata": {},
   "outputs": [
    {
     "name": "stdout",
     "output_type": "stream",
     "text": [
      "   NumRooms  Alley_Pave  Alley_nan\n",
      "0       3.0           1          0\n",
      "1       2.0           0          1\n",
      "2       4.0           0          1\n",
      "3       3.0           0          1\n"
     ]
    }
   ],
   "source": [
    "inputs = pd.get_dummies(inputs,dummy_na=True) #是利用pandas实现one hot encode的方式\n",
    "print(inputs)"
   ]
  },
  {
   "cell_type": "markdown",
   "metadata": {},
   "source": [
    "#### 转换为张量格式"
   ]
  },
  {
   "cell_type": "code",
   "execution_count": 40,
   "metadata": {},
   "outputs": [
    {
     "data": {
      "text/plain": [
       "(tensor([[3., 1., 0.],\n",
       "         [2., 0., 1.],\n",
       "         [4., 0., 1.],\n",
       "         [3., 0., 1.]], dtype=torch.float64),\n",
       " tensor([127500, 106000, 178100, 140000]))"
      ]
     },
     "execution_count": 40,
     "metadata": {},
     "output_type": "execute_result"
    }
   ],
   "source": [
    "X,y = torch.tensor(inputs.values),torch.tensor(outputs.values)\n",
    "X,y"
   ]
  },
  {
   "cell_type": "code",
   "execution_count": 41,
   "metadata": {},
   "outputs": [
    {
     "data": {
      "text/plain": [
       "(array([[3., 1., 0.],\n",
       "        [2., 0., 1.],\n",
       "        [4., 0., 1.],\n",
       "        [3., 0., 1.]]),\n",
       " array([127500, 106000, 178100, 140000]))"
      ]
     },
     "execution_count": 41,
     "metadata": {},
     "output_type": "execute_result"
    }
   ],
   "source": [
    "inputs.values,outputs.values"
   ]
  },
  {
   "cell_type": "markdown",
   "metadata": {},
   "source": [
    "### 转换为张量格式"
   ]
  },
  {
   "cell_type": "markdown",
   "metadata": {},
   "source": [
    "#### 表量"
   ]
  },
  {
   "cell_type": "code",
   "execution_count": 42,
   "metadata": {},
   "outputs": [],
   "source": [
    "import torch"
   ]
  },
  {
   "cell_type": "code",
   "execution_count": 43,
   "metadata": {},
   "outputs": [
    {
     "data": {
      "text/plain": [
       "(tensor(5.), tensor(6.), tensor(1.5000), tensor(9.))"
      ]
     },
     "execution_count": 43,
     "metadata": {},
     "output_type": "execute_result"
    }
   ],
   "source": [
    "x = torch.tensor(3.)\n",
    "y = torch.tensor(2.)\n",
    "x + y, x* y, x / y , x**y"
   ]
  },
  {
   "cell_type": "markdown",
   "metadata": {},
   "source": [
    "#### 向量"
   ]
  },
  {
   "cell_type": "code",
   "execution_count": 44,
   "metadata": {},
   "outputs": [
    {
     "data": {
      "text/plain": [
       "tensor([0, 1, 2, 3])"
      ]
     },
     "execution_count": 44,
     "metadata": {},
     "output_type": "execute_result"
    }
   ],
   "source": [
    "x = torch.arange(4)\n",
    "x"
   ]
  },
  {
   "cell_type": "code",
   "execution_count": 45,
   "metadata": {},
   "outputs": [
    {
     "data": {
      "text/plain": [
       "tensor(3)"
      ]
     },
     "execution_count": 45,
     "metadata": {},
     "output_type": "execute_result"
    }
   ],
   "source": [
    "x[3] #第三个元素"
   ]
  },
  {
   "cell_type": "code",
   "execution_count": 46,
   "metadata": {},
   "outputs": [
    {
     "data": {
      "text/plain": [
       "4"
      ]
     },
     "execution_count": 46,
     "metadata": {},
     "output_type": "execute_result"
    }
   ],
   "source": [
    "len(x) #计算长度"
   ]
  },
  {
   "cell_type": "code",
   "execution_count": 47,
   "metadata": {},
   "outputs": [
    {
     "data": {
      "text/plain": [
       "torch.Size([4])"
      ]
     },
     "execution_count": 47,
     "metadata": {},
     "output_type": "execute_result"
    }
   ],
   "source": [
    "x.shape  #形状  向量或轴的维度用来表示向量或轴的长度，即向量或轴的元素数量。张量的维度用来表示张量具有的轴数"
   ]
  },
  {
   "cell_type": "markdown",
   "metadata": {},
   "source": [
    "#### 矩阵"
   ]
  },
  {
   "cell_type": "code",
   "execution_count": 48,
   "metadata": {},
   "outputs": [
    {
     "data": {
      "text/plain": [
       "tensor([[ 0,  1,  2,  3],\n",
       "        [ 4,  5,  6,  7],\n",
       "        [ 8,  9, 10, 11],\n",
       "        [12, 13, 14, 15],\n",
       "        [16, 17, 18, 19]])"
      ]
     },
     "execution_count": 48,
     "metadata": {},
     "output_type": "execute_result"
    }
   ],
   "source": [
    "A = torch.arange(20).reshape(5,4) #创建20个数字的向量，修改成（5,4）的矩阵;reshape（）函数传入的不是元组\n",
    "A"
   ]
  },
  {
   "cell_type": "code",
   "execution_count": 49,
   "metadata": {},
   "outputs": [
    {
     "data": {
      "text/plain": [
       "tensor([[ 0,  4,  8, 12, 16],\n",
       "        [ 1,  5,  9, 13, 17],\n",
       "        [ 2,  6, 10, 14, 18],\n",
       "        [ 3,  7, 11, 15, 19]])"
      ]
     },
     "execution_count": 49,
     "metadata": {},
     "output_type": "execute_result"
    }
   ],
   "source": [
    "A.T #A的转置  a_ij = b_ji"
   ]
  },
  {
   "cell_type": "code",
   "execution_count": 50,
   "metadata": {},
   "outputs": [
    {
     "data": {
      "text/plain": [
       "tensor([[1, 2, 3],\n",
       "        [2, 0, 4],\n",
       "        [3, 4, 5]])"
      ]
     },
     "execution_count": 50,
     "metadata": {},
     "output_type": "execute_result"
    }
   ],
   "source": [
    "B = torch.tensor([[1,2,3],[2,0,4],[3,4,5]])  #对角矩阵\n",
    "B"
   ]
  },
  {
   "cell_type": "code",
   "execution_count": 51,
   "metadata": {},
   "outputs": [
    {
     "data": {
      "text/plain": [
       "tensor([[True, True, True],\n",
       "        [True, True, True],\n",
       "        [True, True, True]])"
      ]
     },
     "execution_count": 51,
     "metadata": {},
     "output_type": "execute_result"
    }
   ],
   "source": [
    "B == B.T"
   ]
  },
  {
   "cell_type": "markdown",
   "metadata": {},
   "source": [
    "#### 张量"
   ]
  },
  {
   "cell_type": "code",
   "execution_count": 52,
   "metadata": {},
   "outputs": [
    {
     "data": {
      "text/plain": [
       "tensor([[[ 0,  1,  2,  3],\n",
       "         [ 4,  5,  6,  7],\n",
       "         [ 8,  9, 10, 11]],\n",
       "\n",
       "        [[12, 13, 14, 15],\n",
       "         [16, 17, 18, 19],\n",
       "         [20, 21, 22, 23]]])"
      ]
     },
     "execution_count": 52,
     "metadata": {},
     "output_type": "execute_result"
    }
   ],
   "source": [
    "X = torch.arange(24).reshape(2,3,4)\n",
    "X"
   ]
  },
  {
   "cell_type": "markdown",
   "metadata": {},
   "source": [
    "#### 张量的基本性质"
   ]
  },
  {
   "cell_type": "code",
   "execution_count": 53,
   "metadata": {},
   "outputs": [
    {
     "data": {
      "text/plain": [
       "(tensor([[ 0.,  1.,  2.,  3.],\n",
       "         [ 4.,  5.,  6.,  7.],\n",
       "         [ 8.,  9., 10., 11.],\n",
       "         [12., 13., 14., 15.],\n",
       "         [16., 17., 18., 19.]]),\n",
       " tensor([[ 0.,  2.,  4.,  6.],\n",
       "         [ 8., 10., 12., 14.],\n",
       "         [16., 18., 20., 22.],\n",
       "         [24., 26., 28., 30.],\n",
       "         [32., 34., 36., 38.]]))"
      ]
     },
     "execution_count": 53,
     "metadata": {},
     "output_type": "execute_result"
    }
   ],
   "source": [
    "A = torch.arange(20,dtype=torch.float32).reshape(5,4)\n",
    "B = A.clone()  #通过分配新的内存，将A的副分分给B\n",
    "A,A+B"
   ]
  },
  {
   "cell_type": "code",
   "execution_count": 54,
   "metadata": {},
   "outputs": [
    {
     "data": {
      "text/plain": [
       "tensor([[  0.,   1.,   4.,   9.],\n",
       "        [ 16.,  25.,  36.,  49.],\n",
       "        [ 64.,  81., 100., 121.],\n",
       "        [144., 169., 196., 225.],\n",
       "        [256., 289., 324., 361.]])"
      ]
     },
     "execution_count": 54,
     "metadata": {},
     "output_type": "execute_result"
    }
   ],
   "source": [
    "A * B #Hadamad product"
   ]
  },
  {
   "cell_type": "code",
   "execution_count": 55,
   "metadata": {},
   "outputs": [
    {
     "name": "stdout",
     "output_type": "stream",
     "text": [
      "tensor([[[ 2,  3,  4,  5],\n",
      "         [ 6,  7,  8,  9],\n",
      "         [10, 11, 12, 13]],\n",
      "\n",
      "        [[14, 15, 16, 17],\n",
      "         [18, 19, 20, 21],\n",
      "         [22, 23, 24, 25]]])\n"
     ]
    },
    {
     "data": {
      "text/plain": [
       "torch.Size([2, 3, 4])"
      ]
     },
     "execution_count": 55,
     "metadata": {},
     "output_type": "execute_result"
    }
   ],
   "source": [
    "a = 2\n",
    "X = torch.arange(24).reshape(2,3,4)\n",
    "print(a + X),#按元素相加\n",
    "(a * X).shape"
   ]
  },
  {
   "cell_type": "markdown",
   "metadata": {},
   "source": [
    "#### 降维"
   ]
  },
  {
   "cell_type": "code",
   "execution_count": 56,
   "metadata": {},
   "outputs": [
    {
     "data": {
      "text/plain": [
       "(tensor([0., 1., 2., 3.]), tensor(6.))"
      ]
     },
     "execution_count": 56,
     "metadata": {},
     "output_type": "execute_result"
    }
   ],
   "source": [
    "x = torch.arange(4,dtype=torch.float32)\n",
    "x,x.sum() #所有元素求和"
   ]
  },
  {
   "cell_type": "code",
   "execution_count": 57,
   "metadata": {},
   "outputs": [
    {
     "data": {
      "text/plain": [
       "(torch.Size([5, 4]), tensor(190.))"
      ]
     },
     "execution_count": 57,
     "metadata": {},
     "output_type": "execute_result"
    }
   ],
   "source": [
    "A.shape,A.sum()  #矩阵元素和"
   ]
  },
  {
   "cell_type": "code",
   "execution_count": 58,
   "metadata": {},
   "outputs": [
    {
     "data": {
      "text/plain": [
       "(tensor([40., 45., 50., 55.]), torch.Size([4]))"
      ]
     },
     "execution_count": 58,
     "metadata": {},
     "output_type": "execute_result"
    }
   ],
   "source": [
    "A_sum_axis0 = A.sum(axis=0) #axis=0表示在行上进行扩展或缩减\n",
    "A_sum_axis0,A_sum_axis0.shape"
   ]
  },
  {
   "cell_type": "code",
   "execution_count": 59,
   "metadata": {},
   "outputs": [
    {
     "data": {
      "text/plain": [
       "(tensor([ 6., 22., 38., 54., 70.]), torch.Size([5]))"
      ]
     },
     "execution_count": 59,
     "metadata": {},
     "output_type": "execute_result"
    }
   ],
   "source": [
    "A_sum_axis1 = A.sum(axis=1)\n",
    "A_sum_axis1,A_sum_axis1.shape"
   ]
  },
  {
   "cell_type": "code",
   "execution_count": 60,
   "metadata": {},
   "outputs": [
    {
     "data": {
      "text/plain": [
       "tensor(190.)"
      ]
     },
     "execution_count": 60,
     "metadata": {},
     "output_type": "execute_result"
    }
   ],
   "source": [
    "A.sum(axis=[0,1]) # A.sum()"
   ]
  },
  {
   "cell_type": "code",
   "execution_count": 61,
   "metadata": {},
   "outputs": [
    {
     "data": {
      "text/plain": [
       "tensor(190.)"
      ]
     },
     "execution_count": 61,
     "metadata": {},
     "output_type": "execute_result"
    }
   ],
   "source": [
    "A.sum(axis=(0,1))  #和上相同"
   ]
  },
  {
   "cell_type": "code",
   "execution_count": 62,
   "metadata": {},
   "outputs": [
    {
     "data": {
      "text/plain": [
       "(tensor(9.5000), tensor(9.5000))"
      ]
     },
     "execution_count": 62,
     "metadata": {},
     "output_type": "execute_result"
    }
   ],
   "source": [
    "A.mean(),A.sum()/A.numel()  #和/个数"
   ]
  },
  {
   "cell_type": "code",
   "execution_count": 63,
   "metadata": {},
   "outputs": [
    {
     "data": {
      "text/plain": [
       "(tensor([ 8.,  9., 10., 11.]), tensor([ 8.,  9., 10., 11.]))"
      ]
     },
     "execution_count": 63,
     "metadata": {},
     "output_type": "execute_result"
    }
   ],
   "source": [
    "A.mean(axis=0),A.sum(axis=0)/A.shape[0]"
   ]
  },
  {
   "cell_type": "markdown",
   "metadata": {},
   "source": [
    "#### 非降维求和"
   ]
  },
  {
   "cell_type": "code",
   "execution_count": 64,
   "metadata": {},
   "outputs": [
    {
     "data": {
      "text/plain": [
       "tensor([[ 6.],\n",
       "        [22.],\n",
       "        [38.],\n",
       "        [54.],\n",
       "        [70.]])"
      ]
     },
     "execution_count": 64,
     "metadata": {},
     "output_type": "execute_result"
    }
   ],
   "source": [
    "sum_A = A.sum(axis=1,keepdim= True)\n",
    "sum_A"
   ]
  },
  {
   "cell_type": "code",
   "execution_count": 65,
   "metadata": {},
   "outputs": [
    {
     "data": {
      "text/plain": [
       "tensor([[0.0000, 0.1667, 0.3333, 0.5000],\n",
       "        [0.1818, 0.2273, 0.2727, 0.3182],\n",
       "        [0.2105, 0.2368, 0.2632, 0.2895],\n",
       "        [0.2222, 0.2407, 0.2593, 0.2778],\n",
       "        [0.2286, 0.2429, 0.2571, 0.2714]])"
      ]
     },
     "execution_count": 65,
     "metadata": {},
     "output_type": "execute_result"
    }
   ],
   "source": [
    "A/sum_A #sum_A还是两个轴，通过广播进行相处\n"
   ]
  },
  {
   "cell_type": "code",
   "execution_count": 66,
   "metadata": {},
   "outputs": [
    {
     "data": {
      "text/plain": [
       "tensor([[ 0.,  1.,  2.,  3.],\n",
       "        [ 4.,  5.,  6.,  7.],\n",
       "        [ 8.,  9., 10., 11.],\n",
       "        [12., 13., 14., 15.],\n",
       "        [16., 17., 18., 19.]])"
      ]
     },
     "execution_count": 66,
     "metadata": {},
     "output_type": "execute_result"
    }
   ],
   "source": [
    "A"
   ]
  },
  {
   "cell_type": "code",
   "execution_count": 67,
   "metadata": {},
   "outputs": [
    {
     "data": {
      "text/plain": [
       "tensor([[ 0.,  1.,  2.,  3.],\n",
       "        [ 4.,  6.,  8., 10.],\n",
       "        [12., 15., 18., 21.],\n",
       "        [24., 28., 32., 36.],\n",
       "        [40., 45., 50., 55.]])"
      ]
     },
     "execution_count": 67,
     "metadata": {},
     "output_type": "execute_result"
    }
   ],
   "source": [
    "A.cumsum(axis=0)"
   ]
  },
  {
   "cell_type": "markdown",
   "metadata": {},
   "source": [
    "#### 点积"
   ]
  },
  {
   "cell_type": "code",
   "execution_count": 68,
   "metadata": {},
   "outputs": [
    {
     "data": {
      "text/plain": [
       "(tensor([0., 1., 2., 3.]), tensor([1., 1., 1., 1.]), tensor(6.))"
      ]
     },
     "execution_count": 68,
     "metadata": {},
     "output_type": "execute_result"
    }
   ],
   "source": [
    "y = torch.ones(4,dtype=torch.float32)\n",
    "x,y,torch.dot(x,y)"
   ]
  },
  {
   "cell_type": "code",
   "execution_count": 69,
   "metadata": {},
   "outputs": [
    {
     "data": {
      "text/plain": [
       "tensor(6.)"
      ]
     },
     "execution_count": 69,
     "metadata": {},
     "output_type": "execute_result"
    }
   ],
   "source": [
    "torch.sum(x * y)"
   ]
  },
  {
   "cell_type": "code",
   "execution_count": 70,
   "metadata": {},
   "outputs": [
    {
     "data": {
      "text/plain": [
       "tensor(6.)"
      ]
     },
     "execution_count": 70,
     "metadata": {},
     "output_type": "execute_result"
    }
   ],
   "source": [
    "(x * y).sum()"
   ]
  },
  {
   "cell_type": "markdown",
   "metadata": {},
   "source": [
    "#### 矩阵-向量积"
   ]
  },
  {
   "cell_type": "code",
   "execution_count": 71,
   "metadata": {},
   "outputs": [
    {
     "data": {
      "text/plain": [
       "(torch.Size([5, 4]), torch.Size([4]), tensor([ 14.,  38.,  62.,  86., 110.]))"
      ]
     },
     "execution_count": 71,
     "metadata": {},
     "output_type": "execute_result"
    }
   ],
   "source": [
    "A.shape,x.shape,torch.mv(A,x)"
   ]
  },
  {
   "cell_type": "markdown",
   "metadata": {},
   "source": [
    "#### 矩阵-矩阵乘法"
   ]
  },
  {
   "cell_type": "code",
   "execution_count": 72,
   "metadata": {},
   "outputs": [
    {
     "data": {
      "text/plain": [
       "tensor([[ 6.,  6.,  6.],\n",
       "        [22., 22., 22.],\n",
       "        [38., 38., 38.],\n",
       "        [54., 54., 54.],\n",
       "        [70., 70., 70.]])"
      ]
     },
     "execution_count": 72,
     "metadata": {},
     "output_type": "execute_result"
    }
   ],
   "source": [
    "B = torch.ones(4,3)\n",
    "torch.mm(A,B)"
   ]
  },
  {
   "cell_type": "markdown",
   "metadata": {},
   "source": [
    "#### 范数"
   ]
  },
  {
   "cell_type": "markdown",
   "metadata": {},
   "source": [
    "向量范数是将向量映射到标量的函数f。给定任意向量X，向量范数要满足一些属性。\n",
    "1. 如果我们按常数因子alph缩放向量的所有元素，其范数也会按相同的常数因子的绝对值缩放。\n",
    "2. 满足三角不等式。\n",
    "3. 范数是非负的。"
   ]
  },
  {
   "cell_type": "code",
   "execution_count": 73,
   "metadata": {},
   "outputs": [
    {
     "data": {
      "text/plain": [
       "tensor(5.)"
      ]
     },
     "execution_count": 73,
     "metadata": {},
     "output_type": "execute_result"
    }
   ],
   "source": [
    "u = torch.tensor([3.,-4.]) # 2范数\n",
    "torch.norm(u)"
   ]
  },
  {
   "cell_type": "code",
   "execution_count": 74,
   "metadata": {},
   "outputs": [
    {
     "data": {
      "text/plain": [
       "tensor(7.)"
      ]
     },
     "execution_count": 74,
     "metadata": {},
     "output_type": "execute_result"
    }
   ],
   "source": [
    "torch.abs(u).sum()  # 1范数"
   ]
  },
  {
   "cell_type": "code",
   "execution_count": 75,
   "metadata": {},
   "outputs": [
    {
     "data": {
      "text/plain": [
       "tensor(6.)"
      ]
     },
     "execution_count": 75,
     "metadata": {},
     "output_type": "execute_result"
    }
   ],
   "source": [
    "torch.norm(torch.ones((4,9)))  # F范数  矩阵元素平方和的平方跟"
   ]
  },
  {
   "cell_type": "markdown",
   "metadata": {},
   "source": [
    "### 微积分"
   ]
  },
  {
   "cell_type": "code",
   "execution_count": 76,
   "metadata": {},
   "outputs": [
    {
     "name": "stdout",
     "output_type": "stream",
     "text": [
      "h=0.10000,numerical limit=2.30000\n",
      "h=0.01000,numerical limit=2.03000\n",
      "h=0.00100,numerical limit=2.00300\n",
      "h=0.00010,numerical limit=2.00030\n",
      "h=0.00001,numerical limit=2.00003\n"
     ]
    }
   ],
   "source": [
    "%matplotlib inline\n",
    "import numpy as np\n",
    "from matplotlib_inline import backend_inline\n",
    "from d2l import torch as d2l\n",
    "\n",
    "def f(x):\n",
    "    return 3 * x**2 -4 * x\n",
    "\n",
    "def numerical_lim(f,x,h):\n",
    "    return (f(x+h)-f(x))/h\n",
    "\n",
    "h = 0.1\n",
    "\n",
    "for i in range(5):\n",
    "    print(f'h={h:.5f},numerical limit={numerical_lim(f,1,h):.5f}')\n",
    "    h *= 0.1"
   ]
  },
  {
   "cell_type": "code",
   "execution_count": 77,
   "metadata": {},
   "outputs": [],
   "source": [
    "def use_svg_display(): #@save\n",
    "    \"\"\"使用svg格式在Jupyter中显示绘画\"\"\"\n",
    "    backend_inline.set_matplotlib_formats('svg')"
   ]
  },
  {
   "cell_type": "code",
   "execution_count": 78,
   "metadata": {},
   "outputs": [],
   "source": [
    "def set_figsize(figsize=(3.5,2.5)): #@save\n",
    "    \"\"\"设置matplotlib的图表大小\"\"\"\n",
    "    use_svg_display()\n",
    "    d2l.plt.rcParams['figure.figsize'] = figsize"
   ]
  },
  {
   "cell_type": "code",
   "execution_count": 79,
   "metadata": {},
   "outputs": [],
   "source": [
    "#@save\n",
    "def set_axes(axes,xlabel,ylabel,xlim,ylim,xscale,yscale,legend):\n",
    "    \"\"\"设置matplotlib的轴\"\"\"\n",
    "    axes.set_xlabel(xlabel)\n",
    "    axes.set_ylabel(ylabel)\n",
    "    axes.set_xscale(xscale)\n",
    "    axes.set_yscale(yscale)\n",
    "    axes.set_xlim(xlim)\n",
    "    axes.set_ylim(ylim)\n",
    "    if legend:\n",
    "        axes.legend(legend)\n",
    "    axes.grid()"
   ]
  },
  {
   "cell_type": "code",
   "execution_count": 80,
   "metadata": {},
   "outputs": [],
   "source": [
    "#@save\n",
    "def plot(X,Y=None,xlabel=None,ylabel=None,legend=None,xlim=None,ylim=None,xscale='linear',yscale='linear',\n",
    "        fmts=('-','m--','g-.','r:'),figsize=(3.5,2.5),axes=None):\n",
    "        \"\"\"绘制数据点\"\"\"\n",
    "        if legend is None:\n",
    "            legend = []\n",
    "        \n",
    "        set_figsize(figsize)\n",
    "        axes = axes if axes else d2l.plt.gca()\n",
    "\n",
    "        #如果X有一个轴，输出True\n",
    "        def has_one_axis(X):\n",
    "            return (hasattr(X,\"ndim\") and X.ndim == 1 or isinstance(X,list) and not hasattr(X[0],\"__len__\"))\n",
    "\n",
    "        if has_one_axis(X): #X变成两个维度\n",
    "            X = [X]\n",
    "\n",
    "        if Y is None:\n",
    "            X,Y = [[]] * len(X),X\n",
    "        elif has_one_axis(Y):\n",
    "            Y = [Y]\n",
    "        if len(X) != len(Y):\n",
    "            X = X * len(Y)\n",
    "        axes.cla()\n",
    "        for x,y,fmt in zip(X,Y,fmts):\n",
    "            if len(x):\n",
    "                axes.plot(x,y,fmt)\n",
    "            else:\n",
    "                axes.plot(y,fmt)\n",
    "        set_axes(axes,xlabel,ylabel,xlim,ylim,xscale,yscale,legend)\n"
   ]
  },
  {
   "cell_type": "code",
   "execution_count": 81,
   "metadata": {},
   "outputs": [
    {
     "data": {
      "image/svg+xml": "<?xml version=\"1.0\" encoding=\"utf-8\" standalone=\"no\"?>\n<!DOCTYPE svg PUBLIC \"-//W3C//DTD SVG 1.1//EN\"\n  \"http://www.w3.org/Graphics/SVG/1.1/DTD/svg11.dtd\">\n<svg xmlns:xlink=\"http://www.w3.org/1999/xlink\" width=\"243.529359pt\" height=\"180.65625pt\" viewBox=\"0 0 243.529359 180.65625\" xmlns=\"http://www.w3.org/2000/svg\" version=\"1.1\">\n <metadata>\n  <rdf:RDF xmlns:dc=\"http://purl.org/dc/elements/1.1/\" xmlns:cc=\"http://creativecommons.org/ns#\" xmlns:rdf=\"http://www.w3.org/1999/02/22-rdf-syntax-ns#\">\n   <cc:Work>\n    <dc:type rdf:resource=\"http://purl.org/dc/dcmitype/StillImage\"/>\n    <dc:date>2022-12-07T00:00:59.466379</dc:date>\n    <dc:format>image/svg+xml</dc:format>\n    <dc:creator>\n     <cc:Agent>\n      <dc:title>Matplotlib v3.5.1, https://matplotlib.org/</dc:title>\n     </cc:Agent>\n    </dc:creator>\n   </cc:Work>\n  </rdf:RDF>\n </metadata>\n <defs>\n  <style type=\"text/css\">*{stroke-linejoin: round; stroke-linecap: butt}</style>\n </defs>\n <g id=\"figure_1\">\n  <g id=\"patch_1\">\n   <path d=\"M 0 180.65625 \nL 243.529359 180.65625 \nL 243.529359 0 \nL 0 0 \nL 0 180.65625 \nz\n\" style=\"fill: none\"/>\n  </g>\n  <g id=\"axes_1\">\n   <g id=\"patch_2\">\n    <path d=\"M 40.603125 143.1 \nL 235.903125 143.1 \nL 235.903125 7.2 \nL 40.603125 7.2 \nz\n\" style=\"fill: #ffffff\"/>\n   </g>\n   <g id=\"matplotlib.axis_1\">\n    <g id=\"xtick_1\">\n     <g id=\"line2d_1\">\n      <path d=\"M 49.480398 143.1 \nL 49.480398 7.2 \n\" clip-path=\"url(#pd85a2fb547)\" style=\"fill: none; stroke: #b0b0b0; stroke-width: 0.8; stroke-linecap: square\"/>\n     </g>\n     <g id=\"line2d_2\">\n      <defs>\n       <path id=\"mad1e69343d\" d=\"M 0 0 \nL 0 3.5 \n\" style=\"stroke: #000000; stroke-width: 0.8\"/>\n      </defs>\n      <g>\n       <use xlink:href=\"#mad1e69343d\" x=\"49.480398\" y=\"143.1\" style=\"stroke: #000000; stroke-width: 0.8\"/>\n      </g>\n     </g>\n     <g id=\"text_1\">\n      <!-- 0 -->\n      <g transform=\"translate(46.299148 157.698438)scale(0.1 -0.1)\">\n       <defs>\n        <path id=\"DejaVuSans-30\" d=\"M 2034 4250 \nQ 1547 4250 1301 3770 \nQ 1056 3291 1056 2328 \nQ 1056 1369 1301 889 \nQ 1547 409 2034 409 \nQ 2525 409 2770 889 \nQ 3016 1369 3016 2328 \nQ 3016 3291 2770 3770 \nQ 2525 4250 2034 4250 \nz\nM 2034 4750 \nQ 2819 4750 3233 4129 \nQ 3647 3509 3647 2328 \nQ 3647 1150 3233 529 \nQ 2819 -91 2034 -91 \nQ 1250 -91 836 529 \nQ 422 1150 422 2328 \nQ 422 3509 836 4129 \nQ 1250 4750 2034 4750 \nz\n\" transform=\"scale(0.015625)\"/>\n       </defs>\n       <use xlink:href=\"#DejaVuSans-30\"/>\n      </g>\n     </g>\n    </g>\n    <g id=\"xtick_2\">\n     <g id=\"line2d_3\">\n      <path d=\"M 110.702968 143.1 \nL 110.702968 7.2 \n\" clip-path=\"url(#pd85a2fb547)\" style=\"fill: none; stroke: #b0b0b0; stroke-width: 0.8; stroke-linecap: square\"/>\n     </g>\n     <g id=\"line2d_4\">\n      <g>\n       <use xlink:href=\"#mad1e69343d\" x=\"110.702968\" y=\"143.1\" style=\"stroke: #000000; stroke-width: 0.8\"/>\n      </g>\n     </g>\n     <g id=\"text_2\">\n      <!-- 1 -->\n      <g transform=\"translate(107.521718 157.698438)scale(0.1 -0.1)\">\n       <defs>\n        <path id=\"DejaVuSans-31\" d=\"M 794 531 \nL 1825 531 \nL 1825 4091 \nL 703 3866 \nL 703 4441 \nL 1819 4666 \nL 2450 4666 \nL 2450 531 \nL 3481 531 \nL 3481 0 \nL 794 0 \nL 794 531 \nz\n\" transform=\"scale(0.015625)\"/>\n       </defs>\n       <use xlink:href=\"#DejaVuSans-31\"/>\n      </g>\n     </g>\n    </g>\n    <g id=\"xtick_3\">\n     <g id=\"line2d_5\">\n      <path d=\"M 171.925539 143.1 \nL 171.925539 7.2 \n\" clip-path=\"url(#pd85a2fb547)\" style=\"fill: none; stroke: #b0b0b0; stroke-width: 0.8; stroke-linecap: square\"/>\n     </g>\n     <g id=\"line2d_6\">\n      <g>\n       <use xlink:href=\"#mad1e69343d\" x=\"171.925539\" y=\"143.1\" style=\"stroke: #000000; stroke-width: 0.8\"/>\n      </g>\n     </g>\n     <g id=\"text_3\">\n      <!-- 2 -->\n      <g transform=\"translate(168.744289 157.698438)scale(0.1 -0.1)\">\n       <defs>\n        <path id=\"DejaVuSans-32\" d=\"M 1228 531 \nL 3431 531 \nL 3431 0 \nL 469 0 \nL 469 531 \nQ 828 903 1448 1529 \nQ 2069 2156 2228 2338 \nQ 2531 2678 2651 2914 \nQ 2772 3150 2772 3378 \nQ 2772 3750 2511 3984 \nQ 2250 4219 1831 4219 \nQ 1534 4219 1204 4116 \nQ 875 4013 500 3803 \nL 500 4441 \nQ 881 4594 1212 4672 \nQ 1544 4750 1819 4750 \nQ 2544 4750 2975 4387 \nQ 3406 4025 3406 3419 \nQ 3406 3131 3298 2873 \nQ 3191 2616 2906 2266 \nQ 2828 2175 2409 1742 \nQ 1991 1309 1228 531 \nz\n\" transform=\"scale(0.015625)\"/>\n       </defs>\n       <use xlink:href=\"#DejaVuSans-32\"/>\n      </g>\n     </g>\n    </g>\n    <g id=\"xtick_4\">\n     <g id=\"line2d_7\">\n      <path d=\"M 233.148109 143.1 \nL 233.148109 7.2 \n\" clip-path=\"url(#pd85a2fb547)\" style=\"fill: none; stroke: #b0b0b0; stroke-width: 0.8; stroke-linecap: square\"/>\n     </g>\n     <g id=\"line2d_8\">\n      <g>\n       <use xlink:href=\"#mad1e69343d\" x=\"233.148109\" y=\"143.1\" style=\"stroke: #000000; stroke-width: 0.8\"/>\n      </g>\n     </g>\n     <g id=\"text_4\">\n      <!-- 3 -->\n      <g transform=\"translate(229.966859 157.698438)scale(0.1 -0.1)\">\n       <defs>\n        <path id=\"DejaVuSans-33\" d=\"M 2597 2516 \nQ 3050 2419 3304 2112 \nQ 3559 1806 3559 1356 \nQ 3559 666 3084 287 \nQ 2609 -91 1734 -91 \nQ 1441 -91 1130 -33 \nQ 819 25 488 141 \nL 488 750 \nQ 750 597 1062 519 \nQ 1375 441 1716 441 \nQ 2309 441 2620 675 \nQ 2931 909 2931 1356 \nQ 2931 1769 2642 2001 \nQ 2353 2234 1838 2234 \nL 1294 2234 \nL 1294 2753 \nL 1863 2753 \nQ 2328 2753 2575 2939 \nQ 2822 3125 2822 3475 \nQ 2822 3834 2567 4026 \nQ 2313 4219 1838 4219 \nQ 1578 4219 1281 4162 \nQ 984 4106 628 3988 \nL 628 4550 \nQ 988 4650 1302 4700 \nQ 1616 4750 1894 4750 \nQ 2613 4750 3031 4423 \nQ 3450 4097 3450 3541 \nQ 3450 3153 3228 2886 \nQ 3006 2619 2597 2516 \nz\n\" transform=\"scale(0.015625)\"/>\n       </defs>\n       <use xlink:href=\"#DejaVuSans-33\"/>\n      </g>\n     </g>\n    </g>\n    <g id=\"text_5\">\n     <!-- x -->\n     <g transform=\"translate(135.29375 171.376563)scale(0.1 -0.1)\">\n      <defs>\n       <path id=\"DejaVuSans-78\" d=\"M 3513 3500 \nL 2247 1797 \nL 3578 0 \nL 2900 0 \nL 1881 1375 \nL 863 0 \nL 184 0 \nL 1544 1831 \nL 300 3500 \nL 978 3500 \nL 1906 2253 \nL 2834 3500 \nL 3513 3500 \nz\n\" transform=\"scale(0.015625)\"/>\n      </defs>\n      <use xlink:href=\"#DejaVuSans-78\"/>\n     </g>\n    </g>\n   </g>\n   <g id=\"matplotlib.axis_2\">\n    <g id=\"ytick_1\">\n     <g id=\"line2d_9\">\n      <path d=\"M 40.603125 114.635514 \nL 235.903125 114.635514 \n\" clip-path=\"url(#pd85a2fb547)\" style=\"fill: none; stroke: #b0b0b0; stroke-width: 0.8; stroke-linecap: square\"/>\n     </g>\n     <g id=\"line2d_10\">\n      <defs>\n       <path id=\"ma95e842f57\" d=\"M 0 0 \nL -3.5 0 \n\" style=\"stroke: #000000; stroke-width: 0.8\"/>\n      </defs>\n      <g>\n       <use xlink:href=\"#ma95e842f57\" x=\"40.603125\" y=\"114.635514\" style=\"stroke: #000000; stroke-width: 0.8\"/>\n      </g>\n     </g>\n     <g id=\"text_6\">\n      <!-- 0 -->\n      <g transform=\"translate(27.240625 118.434732)scale(0.1 -0.1)\">\n       <use xlink:href=\"#DejaVuSans-30\"/>\n      </g>\n     </g>\n    </g>\n    <g id=\"ytick_2\">\n     <g id=\"line2d_11\">\n      <path d=\"M 40.603125 77.490157 \nL 235.903125 77.490157 \n\" clip-path=\"url(#pd85a2fb547)\" style=\"fill: none; stroke: #b0b0b0; stroke-width: 0.8; stroke-linecap: square\"/>\n     </g>\n     <g id=\"line2d_12\">\n      <g>\n       <use xlink:href=\"#ma95e842f57\" x=\"40.603125\" y=\"77.490157\" style=\"stroke: #000000; stroke-width: 0.8\"/>\n      </g>\n     </g>\n     <g id=\"text_7\">\n      <!-- 5 -->\n      <g transform=\"translate(27.240625 81.289376)scale(0.1 -0.1)\">\n       <defs>\n        <path id=\"DejaVuSans-35\" d=\"M 691 4666 \nL 3169 4666 \nL 3169 4134 \nL 1269 4134 \nL 1269 2991 \nQ 1406 3038 1543 3061 \nQ 1681 3084 1819 3084 \nQ 2600 3084 3056 2656 \nQ 3513 2228 3513 1497 \nQ 3513 744 3044 326 \nQ 2575 -91 1722 -91 \nQ 1428 -91 1123 -41 \nQ 819 9 494 109 \nL 494 744 \nQ 775 591 1075 516 \nQ 1375 441 1709 441 \nQ 2250 441 2565 725 \nQ 2881 1009 2881 1497 \nQ 2881 1984 2565 2268 \nQ 2250 2553 1709 2553 \nQ 1456 2553 1204 2497 \nQ 953 2441 691 2322 \nL 691 4666 \nz\n\" transform=\"scale(0.015625)\"/>\n       </defs>\n       <use xlink:href=\"#DejaVuSans-35\"/>\n      </g>\n     </g>\n    </g>\n    <g id=\"ytick_3\">\n     <g id=\"line2d_13\">\n      <path d=\"M 40.603125 40.344801 \nL 235.903125 40.344801 \n\" clip-path=\"url(#pd85a2fb547)\" style=\"fill: none; stroke: #b0b0b0; stroke-width: 0.8; stroke-linecap: square\"/>\n     </g>\n     <g id=\"line2d_14\">\n      <g>\n       <use xlink:href=\"#ma95e842f57\" x=\"40.603125\" y=\"40.344801\" style=\"stroke: #000000; stroke-width: 0.8\"/>\n      </g>\n     </g>\n     <g id=\"text_8\">\n      <!-- 10 -->\n      <g transform=\"translate(20.878125 44.14402)scale(0.1 -0.1)\">\n       <use xlink:href=\"#DejaVuSans-31\"/>\n       <use xlink:href=\"#DejaVuSans-30\" x=\"63.623047\"/>\n      </g>\n     </g>\n    </g>\n    <g id=\"text_9\">\n     <!-- f(x) -->\n     <g transform=\"translate(14.798437 83.771094)rotate(-90)scale(0.1 -0.1)\">\n      <defs>\n       <path id=\"DejaVuSans-66\" d=\"M 2375 4863 \nL 2375 4384 \nL 1825 4384 \nQ 1516 4384 1395 4259 \nQ 1275 4134 1275 3809 \nL 1275 3500 \nL 2222 3500 \nL 2222 3053 \nL 1275 3053 \nL 1275 0 \nL 697 0 \nL 697 3053 \nL 147 3053 \nL 147 3500 \nL 697 3500 \nL 697 3744 \nQ 697 4328 969 4595 \nQ 1241 4863 1831 4863 \nL 2375 4863 \nz\n\" transform=\"scale(0.015625)\"/>\n       <path id=\"DejaVuSans-28\" d=\"M 1984 4856 \nQ 1566 4138 1362 3434 \nQ 1159 2731 1159 2009 \nQ 1159 1288 1364 580 \nQ 1569 -128 1984 -844 \nL 1484 -844 \nQ 1016 -109 783 600 \nQ 550 1309 550 2009 \nQ 550 2706 781 3412 \nQ 1013 4119 1484 4856 \nL 1984 4856 \nz\n\" transform=\"scale(0.015625)\"/>\n       <path id=\"DejaVuSans-29\" d=\"M 513 4856 \nL 1013 4856 \nQ 1481 4119 1714 3412 \nQ 1947 2706 1947 2009 \nQ 1947 1309 1714 600 \nQ 1481 -109 1013 -844 \nL 513 -844 \nQ 928 -128 1133 580 \nQ 1338 1288 1338 2009 \nQ 1338 2731 1133 3434 \nQ 928 4138 513 4856 \nz\n\" transform=\"scale(0.015625)\"/>\n      </defs>\n      <use xlink:href=\"#DejaVuSans-66\"/>\n      <use xlink:href=\"#DejaVuSans-28\" x=\"35.205078\"/>\n      <use xlink:href=\"#DejaVuSans-78\" x=\"74.21875\"/>\n      <use xlink:href=\"#DejaVuSans-29\" x=\"133.398438\"/>\n     </g>\n    </g>\n   </g>\n   <g id=\"line2d_15\">\n    <path d=\"M 49.480398 114.635514 \nL 55.602655 117.38427 \nL 61.724912 119.687282 \nL 67.847169 121.54455 \nL 73.969426 122.956073 \nL 80.091683 123.921853 \nL 86.21394 124.441888 \nL 92.336197 124.516178 \nL 98.458454 124.144725 \nL 104.580711 123.327527 \nL 110.702968 122.064585 \nL 116.825225 120.355898 \nL 122.947482 118.201468 \nL 129.069739 115.601293 \nL 135.191996 112.555374 \nL 141.314254 109.06371 \nL 147.436511 105.126302 \nL 153.558768 100.74315 \nL 159.681025 95.914254 \nL 165.803282 90.639614 \nL 171.925539 84.919229 \nL 178.047796 78.7531 \nL 184.170053 72.141226 \nL 190.29231 65.083608 \nL 196.414567 57.580247 \nL 202.536824 49.63114 \nL 208.659081 41.23629 \nL 214.781338 32.395695 \nL 220.903595 23.109356 \nL 227.025852 13.377273 \n\" clip-path=\"url(#pd85a2fb547)\" style=\"fill: none; stroke: #1f77b4; stroke-width: 1.5; stroke-linecap: square\"/>\n   </g>\n   <g id=\"line2d_16\">\n    <path d=\"M 49.480398 136.922727 \nL 55.602655 135.436913 \nL 61.724912 133.951099 \nL 67.847169 132.465285 \nL 73.969426 130.97947 \nL 80.091683 129.493656 \nL 86.21394 128.007842 \nL 92.336197 126.522028 \nL 98.458454 125.036213 \nL 104.580711 123.550399 \nL 110.702968 122.064585 \nL 116.825225 120.578771 \nL 122.947482 119.092956 \nL 129.069739 117.607142 \nL 135.191996 116.121328 \nL 141.314254 114.635514 \nL 147.436511 113.149699 \nL 153.558768 111.663885 \nL 159.681025 110.178071 \nL 165.803282 108.692257 \nL 171.925539 107.206442 \nL 178.047796 105.720628 \nL 184.170053 104.234814 \nL 190.29231 102.749 \nL 196.414567 101.263185 \nL 202.536824 99.777371 \nL 208.659081 98.291557 \nL 214.781338 96.805743 \nL 220.903595 95.319928 \nL 227.025852 93.834114 \n\" clip-path=\"url(#pd85a2fb547)\" style=\"fill: none; stroke-dasharray: 5.55,2.4; stroke-dashoffset: 0; stroke: #bf00bf; stroke-width: 1.5\"/>\n   </g>\n   <g id=\"patch_3\">\n    <path d=\"M 40.603125 143.1 \nL 40.603125 7.2 \n\" style=\"fill: none; stroke: #000000; stroke-width: 0.8; stroke-linejoin: miter; stroke-linecap: square\"/>\n   </g>\n   <g id=\"patch_4\">\n    <path d=\"M 235.903125 143.1 \nL 235.903125 7.2 \n\" style=\"fill: none; stroke: #000000; stroke-width: 0.8; stroke-linejoin: miter; stroke-linecap: square\"/>\n   </g>\n   <g id=\"patch_5\">\n    <path d=\"M 40.603125 143.1 \nL 235.903125 143.1 \n\" style=\"fill: none; stroke: #000000; stroke-width: 0.8; stroke-linejoin: miter; stroke-linecap: square\"/>\n   </g>\n   <g id=\"patch_6\">\n    <path d=\"M 40.603125 7.2 \nL 235.903125 7.2 \n\" style=\"fill: none; stroke: #000000; stroke-width: 0.8; stroke-linejoin: miter; stroke-linecap: square\"/>\n   </g>\n   <g id=\"legend_1\">\n    <g id=\"patch_7\">\n     <path d=\"M 47.603125 44.55625 \nL 178.509375 44.55625 \nQ 180.509375 44.55625 180.509375 42.55625 \nL 180.509375 14.2 \nQ 180.509375 12.2 178.509375 12.2 \nL 47.603125 12.2 \nQ 45.603125 12.2 45.603125 14.2 \nL 45.603125 42.55625 \nQ 45.603125 44.55625 47.603125 44.55625 \nz\n\" style=\"fill: #ffffff; opacity: 0.8; stroke: #cccccc; stroke-linejoin: miter\"/>\n    </g>\n    <g id=\"line2d_17\">\n     <path d=\"M 49.603125 20.298437 \nL 59.603125 20.298437 \nL 69.603125 20.298437 \n\" style=\"fill: none; stroke: #1f77b4; stroke-width: 1.5; stroke-linecap: square\"/>\n    </g>\n    <g id=\"text_10\">\n     <!-- f(x) -->\n     <g transform=\"translate(77.603125 23.798437)scale(0.1 -0.1)\">\n      <use xlink:href=\"#DejaVuSans-66\"/>\n      <use xlink:href=\"#DejaVuSans-28\" x=\"35.205078\"/>\n      <use xlink:href=\"#DejaVuSans-78\" x=\"74.21875\"/>\n      <use xlink:href=\"#DejaVuSans-29\" x=\"133.398438\"/>\n     </g>\n    </g>\n    <g id=\"line2d_18\">\n     <path d=\"M 49.603125 34.976562 \nL 59.603125 34.976562 \nL 69.603125 34.976562 \n\" style=\"fill: none; stroke-dasharray: 5.55,2.4; stroke-dashoffset: 0; stroke: #bf00bf; stroke-width: 1.5\"/>\n    </g>\n    <g id=\"text_11\">\n     <!-- Tangent line (x = 1) -->\n     <g transform=\"translate(77.603125 38.476562)scale(0.1 -0.1)\">\n      <defs>\n       <path id=\"DejaVuSans-54\" d=\"M -19 4666 \nL 3928 4666 \nL 3928 4134 \nL 2272 4134 \nL 2272 0 \nL 1638 0 \nL 1638 4134 \nL -19 4134 \nL -19 4666 \nz\n\" transform=\"scale(0.015625)\"/>\n       <path id=\"DejaVuSans-61\" d=\"M 2194 1759 \nQ 1497 1759 1228 1600 \nQ 959 1441 959 1056 \nQ 959 750 1161 570 \nQ 1363 391 1709 391 \nQ 2188 391 2477 730 \nQ 2766 1069 2766 1631 \nL 2766 1759 \nL 2194 1759 \nz\nM 3341 1997 \nL 3341 0 \nL 2766 0 \nL 2766 531 \nQ 2569 213 2275 61 \nQ 1981 -91 1556 -91 \nQ 1019 -91 701 211 \nQ 384 513 384 1019 \nQ 384 1609 779 1909 \nQ 1175 2209 1959 2209 \nL 2766 2209 \nL 2766 2266 \nQ 2766 2663 2505 2880 \nQ 2244 3097 1772 3097 \nQ 1472 3097 1187 3025 \nQ 903 2953 641 2809 \nL 641 3341 \nQ 956 3463 1253 3523 \nQ 1550 3584 1831 3584 \nQ 2591 3584 2966 3190 \nQ 3341 2797 3341 1997 \nz\n\" transform=\"scale(0.015625)\"/>\n       <path id=\"DejaVuSans-6e\" d=\"M 3513 2113 \nL 3513 0 \nL 2938 0 \nL 2938 2094 \nQ 2938 2591 2744 2837 \nQ 2550 3084 2163 3084 \nQ 1697 3084 1428 2787 \nQ 1159 2491 1159 1978 \nL 1159 0 \nL 581 0 \nL 581 3500 \nL 1159 3500 \nL 1159 2956 \nQ 1366 3272 1645 3428 \nQ 1925 3584 2291 3584 \nQ 2894 3584 3203 3211 \nQ 3513 2838 3513 2113 \nz\n\" transform=\"scale(0.015625)\"/>\n       <path id=\"DejaVuSans-67\" d=\"M 2906 1791 \nQ 2906 2416 2648 2759 \nQ 2391 3103 1925 3103 \nQ 1463 3103 1205 2759 \nQ 947 2416 947 1791 \nQ 947 1169 1205 825 \nQ 1463 481 1925 481 \nQ 2391 481 2648 825 \nQ 2906 1169 2906 1791 \nz\nM 3481 434 \nQ 3481 -459 3084 -895 \nQ 2688 -1331 1869 -1331 \nQ 1566 -1331 1297 -1286 \nQ 1028 -1241 775 -1147 \nL 775 -588 \nQ 1028 -725 1275 -790 \nQ 1522 -856 1778 -856 \nQ 2344 -856 2625 -561 \nQ 2906 -266 2906 331 \nL 2906 616 \nQ 2728 306 2450 153 \nQ 2172 0 1784 0 \nQ 1141 0 747 490 \nQ 353 981 353 1791 \nQ 353 2603 747 3093 \nQ 1141 3584 1784 3584 \nQ 2172 3584 2450 3431 \nQ 2728 3278 2906 2969 \nL 2906 3500 \nL 3481 3500 \nL 3481 434 \nz\n\" transform=\"scale(0.015625)\"/>\n       <path id=\"DejaVuSans-65\" d=\"M 3597 1894 \nL 3597 1613 \nL 953 1613 \nQ 991 1019 1311 708 \nQ 1631 397 2203 397 \nQ 2534 397 2845 478 \nQ 3156 559 3463 722 \nL 3463 178 \nQ 3153 47 2828 -22 \nQ 2503 -91 2169 -91 \nQ 1331 -91 842 396 \nQ 353 884 353 1716 \nQ 353 2575 817 3079 \nQ 1281 3584 2069 3584 \nQ 2775 3584 3186 3129 \nQ 3597 2675 3597 1894 \nz\nM 3022 2063 \nQ 3016 2534 2758 2815 \nQ 2500 3097 2075 3097 \nQ 1594 3097 1305 2825 \nQ 1016 2553 972 2059 \nL 3022 2063 \nz\n\" transform=\"scale(0.015625)\"/>\n       <path id=\"DejaVuSans-74\" d=\"M 1172 4494 \nL 1172 3500 \nL 2356 3500 \nL 2356 3053 \nL 1172 3053 \nL 1172 1153 \nQ 1172 725 1289 603 \nQ 1406 481 1766 481 \nL 2356 481 \nL 2356 0 \nL 1766 0 \nQ 1100 0 847 248 \nQ 594 497 594 1153 \nL 594 3053 \nL 172 3053 \nL 172 3500 \nL 594 3500 \nL 594 4494 \nL 1172 4494 \nz\n\" transform=\"scale(0.015625)\"/>\n       <path id=\"DejaVuSans-20\" transform=\"scale(0.015625)\"/>\n       <path id=\"DejaVuSans-6c\" d=\"M 603 4863 \nL 1178 4863 \nL 1178 0 \nL 603 0 \nL 603 4863 \nz\n\" transform=\"scale(0.015625)\"/>\n       <path id=\"DejaVuSans-69\" d=\"M 603 3500 \nL 1178 3500 \nL 1178 0 \nL 603 0 \nL 603 3500 \nz\nM 603 4863 \nL 1178 4863 \nL 1178 4134 \nL 603 4134 \nL 603 4863 \nz\n\" transform=\"scale(0.015625)\"/>\n       <path id=\"DejaVuSans-3d\" d=\"M 678 2906 \nL 4684 2906 \nL 4684 2381 \nL 678 2381 \nL 678 2906 \nz\nM 678 1631 \nL 4684 1631 \nL 4684 1100 \nL 678 1100 \nL 678 1631 \nz\n\" transform=\"scale(0.015625)\"/>\n      </defs>\n      <use xlink:href=\"#DejaVuSans-54\"/>\n      <use xlink:href=\"#DejaVuSans-61\" x=\"44.583984\"/>\n      <use xlink:href=\"#DejaVuSans-6e\" x=\"105.863281\"/>\n      <use xlink:href=\"#DejaVuSans-67\" x=\"169.242188\"/>\n      <use xlink:href=\"#DejaVuSans-65\" x=\"232.71875\"/>\n      <use xlink:href=\"#DejaVuSans-6e\" x=\"294.242188\"/>\n      <use xlink:href=\"#DejaVuSans-74\" x=\"357.621094\"/>\n      <use xlink:href=\"#DejaVuSans-20\" x=\"396.830078\"/>\n      <use xlink:href=\"#DejaVuSans-6c\" x=\"428.617188\"/>\n      <use xlink:href=\"#DejaVuSans-69\" x=\"456.400391\"/>\n      <use xlink:href=\"#DejaVuSans-6e\" x=\"484.183594\"/>\n      <use xlink:href=\"#DejaVuSans-65\" x=\"547.5625\"/>\n      <use xlink:href=\"#DejaVuSans-20\" x=\"609.085938\"/>\n      <use xlink:href=\"#DejaVuSans-28\" x=\"640.873047\"/>\n      <use xlink:href=\"#DejaVuSans-78\" x=\"679.886719\"/>\n      <use xlink:href=\"#DejaVuSans-20\" x=\"739.066406\"/>\n      <use xlink:href=\"#DejaVuSans-3d\" x=\"770.853516\"/>\n      <use xlink:href=\"#DejaVuSans-20\" x=\"854.642578\"/>\n      <use xlink:href=\"#DejaVuSans-31\" x=\"886.429688\"/>\n      <use xlink:href=\"#DejaVuSans-29\" x=\"950.052734\"/>\n     </g>\n    </g>\n   </g>\n  </g>\n </g>\n <defs>\n  <clipPath id=\"pd85a2fb547\">\n   <rect x=\"40.603125\" y=\"7.2\" width=\"195.3\" height=\"135.9\"/>\n  </clipPath>\n </defs>\n</svg>\n",
      "text/plain": [
       "<Figure size 252x180 with 1 Axes>"
      ]
     },
     "metadata": {
      "needs_background": "light"
     },
     "output_type": "display_data"
    }
   ],
   "source": [
    "x = np.arange(0,3,0.1)\n",
    "plot(x,[f(x),2 * x -3],'x','f(x)',legend=['f(x)','Tangent line (x = 1)'])"
   ]
  },
  {
   "cell_type": "markdown",
   "metadata": {},
   "source": [
    "#### 练习"
   ]
  },
  {
   "cell_type": "code",
   "execution_count": 82,
   "metadata": {},
   "outputs": [
    {
     "data": {
      "image/svg+xml": "<?xml version=\"1.0\" encoding=\"utf-8\" standalone=\"no\"?>\n<!DOCTYPE svg PUBLIC \"-//W3C//DTD SVG 1.1//EN\"\n  \"http://www.w3.org/Graphics/SVG/1.1/DTD/svg11.dtd\">\n<svg xmlns:xlink=\"http://www.w3.org/1999/xlink\" width=\"251.482813pt\" height=\"180.65625pt\" viewBox=\"0 0 251.482813 180.65625\" xmlns=\"http://www.w3.org/2000/svg\" version=\"1.1\">\n <metadata>\n  <rdf:RDF xmlns:dc=\"http://purl.org/dc/elements/1.1/\" xmlns:cc=\"http://creativecommons.org/ns#\" xmlns:rdf=\"http://www.w3.org/1999/02/22-rdf-syntax-ns#\">\n   <cc:Work>\n    <dc:type rdf:resource=\"http://purl.org/dc/dcmitype/StillImage\"/>\n    <dc:date>2022-12-07T00:00:59.663058</dc:date>\n    <dc:format>image/svg+xml</dc:format>\n    <dc:creator>\n     <cc:Agent>\n      <dc:title>Matplotlib v3.5.1, https://matplotlib.org/</dc:title>\n     </cc:Agent>\n    </dc:creator>\n   </cc:Work>\n  </rdf:RDF>\n </metadata>\n <defs>\n  <style type=\"text/css\">*{stroke-linejoin: round; stroke-linecap: butt}</style>\n </defs>\n <g id=\"figure_1\">\n  <g id=\"patch_1\">\n   <path d=\"M -0 180.65625 \nL 251.482813 180.65625 \nL 251.482813 0 \nL -0 0 \nL -0 180.65625 \nz\n\" style=\"fill: none\"/>\n  </g>\n  <g id=\"axes_1\">\n   <g id=\"patch_2\">\n    <path d=\"M 48.982813 143.1 \nL 244.282813 143.1 \nL 244.282813 7.2 \nL 48.982813 7.2 \nz\n\" style=\"fill: #ffffff\"/>\n   </g>\n   <g id=\"matplotlib.axis_1\">\n    <g id=\"xtick_1\">\n     <g id=\"line2d_1\">\n      <path d=\"M 97.314631 143.1 \nL 97.314631 7.2 \n\" clip-path=\"url(#pd28d1a43aa)\" style=\"fill: none; stroke: #b0b0b0; stroke-width: 0.8; stroke-linecap: square\"/>\n     </g>\n     <g id=\"line2d_2\">\n      <defs>\n       <path id=\"m253b73f3c9\" d=\"M 0 0 \nL 0 3.5 \n\" style=\"stroke: #000000; stroke-width: 0.8\"/>\n      </defs>\n      <g>\n       <use xlink:href=\"#m253b73f3c9\" x=\"97.314631\" y=\"143.1\" style=\"stroke: #000000; stroke-width: 0.8\"/>\n      </g>\n     </g>\n     <g id=\"text_1\">\n      <!-- 0.5 -->\n      <g transform=\"translate(89.363068 157.698438)scale(0.1 -0.1)\">\n       <defs>\n        <path id=\"DejaVuSans-30\" d=\"M 2034 4250 \nQ 1547 4250 1301 3770 \nQ 1056 3291 1056 2328 \nQ 1056 1369 1301 889 \nQ 1547 409 2034 409 \nQ 2525 409 2770 889 \nQ 3016 1369 3016 2328 \nQ 3016 3291 2770 3770 \nQ 2525 4250 2034 4250 \nz\nM 2034 4750 \nQ 2819 4750 3233 4129 \nQ 3647 3509 3647 2328 \nQ 3647 1150 3233 529 \nQ 2819 -91 2034 -91 \nQ 1250 -91 836 529 \nQ 422 1150 422 2328 \nQ 422 3509 836 4129 \nQ 1250 4750 2034 4750 \nz\n\" transform=\"scale(0.015625)\"/>\n        <path id=\"DejaVuSans-2e\" d=\"M 684 794 \nL 1344 794 \nL 1344 0 \nL 684 0 \nL 684 794 \nz\n\" transform=\"scale(0.015625)\"/>\n        <path id=\"DejaVuSans-35\" d=\"M 691 4666 \nL 3169 4666 \nL 3169 4134 \nL 1269 4134 \nL 1269 2991 \nQ 1406 3038 1543 3061 \nQ 1681 3084 1819 3084 \nQ 2600 3084 3056 2656 \nQ 3513 2228 3513 1497 \nQ 3513 744 3044 326 \nQ 2575 -91 1722 -91 \nQ 1428 -91 1123 -41 \nQ 819 9 494 109 \nL 494 744 \nQ 775 591 1075 516 \nQ 1375 441 1709 441 \nQ 2250 441 2565 725 \nQ 2881 1009 2881 1497 \nQ 2881 1984 2565 2268 \nQ 2250 2553 1709 2553 \nQ 1456 2553 1204 2497 \nQ 953 2441 691 2322 \nL 691 4666 \nz\n\" transform=\"scale(0.015625)\"/>\n       </defs>\n       <use xlink:href=\"#DejaVuSans-30\"/>\n       <use xlink:href=\"#DejaVuSans-2e\" x=\"63.623047\"/>\n       <use xlink:href=\"#DejaVuSans-35\" x=\"95.410156\"/>\n      </g>\n     </g>\n    </g>\n    <g id=\"xtick_2\">\n     <g id=\"line2d_3\">\n      <path d=\"M 146.632812 143.1 \nL 146.632812 7.2 \n\" clip-path=\"url(#pd28d1a43aa)\" style=\"fill: none; stroke: #b0b0b0; stroke-width: 0.8; stroke-linecap: square\"/>\n     </g>\n     <g id=\"line2d_4\">\n      <g>\n       <use xlink:href=\"#m253b73f3c9\" x=\"146.632812\" y=\"143.1\" style=\"stroke: #000000; stroke-width: 0.8\"/>\n      </g>\n     </g>\n     <g id=\"text_2\">\n      <!-- 1.0 -->\n      <g transform=\"translate(138.68125 157.698438)scale(0.1 -0.1)\">\n       <defs>\n        <path id=\"DejaVuSans-31\" d=\"M 794 531 \nL 1825 531 \nL 1825 4091 \nL 703 3866 \nL 703 4441 \nL 1819 4666 \nL 2450 4666 \nL 2450 531 \nL 3481 531 \nL 3481 0 \nL 794 0 \nL 794 531 \nz\n\" transform=\"scale(0.015625)\"/>\n       </defs>\n       <use xlink:href=\"#DejaVuSans-31\"/>\n       <use xlink:href=\"#DejaVuSans-2e\" x=\"63.623047\"/>\n       <use xlink:href=\"#DejaVuSans-30\" x=\"95.410156\"/>\n      </g>\n     </g>\n    </g>\n    <g id=\"xtick_3\">\n     <g id=\"line2d_5\">\n      <path d=\"M 195.950994 143.1 \nL 195.950994 7.2 \n\" clip-path=\"url(#pd28d1a43aa)\" style=\"fill: none; stroke: #b0b0b0; stroke-width: 0.8; stroke-linecap: square\"/>\n     </g>\n     <g id=\"line2d_6\">\n      <g>\n       <use xlink:href=\"#m253b73f3c9\" x=\"195.950994\" y=\"143.1\" style=\"stroke: #000000; stroke-width: 0.8\"/>\n      </g>\n     </g>\n     <g id=\"text_3\">\n      <!-- 1.5 -->\n      <g transform=\"translate(187.999432 157.698438)scale(0.1 -0.1)\">\n       <use xlink:href=\"#DejaVuSans-31\"/>\n       <use xlink:href=\"#DejaVuSans-2e\" x=\"63.623047\"/>\n       <use xlink:href=\"#DejaVuSans-35\" x=\"95.410156\"/>\n      </g>\n     </g>\n    </g>\n    <g id=\"text_4\">\n     <!-- x -->\n     <g transform=\"translate(143.673438 171.376563)scale(0.1 -0.1)\">\n      <defs>\n       <path id=\"DejaVuSans-78\" d=\"M 3513 3500 \nL 2247 1797 \nL 3578 0 \nL 2900 0 \nL 1881 1375 \nL 863 0 \nL 184 0 \nL 1544 1831 \nL 300 3500 \nL 978 3500 \nL 1906 2253 \nL 2834 3500 \nL 3513 3500 \nz\n\" transform=\"scale(0.015625)\"/>\n      </defs>\n      <use xlink:href=\"#DejaVuSans-78\"/>\n     </g>\n    </g>\n   </g>\n   <g id=\"matplotlib.axis_2\">\n    <g id=\"ytick_1\">\n     <g id=\"line2d_7\">\n      <path d=\"M 48.982813 136.929747 \nL 244.282813 136.929747 \n\" clip-path=\"url(#pd28d1a43aa)\" style=\"fill: none; stroke: #b0b0b0; stroke-width: 0.8; stroke-linecap: square\"/>\n     </g>\n     <g id=\"line2d_8\">\n      <defs>\n       <path id=\"m53b715d31f\" d=\"M 0 0 \nL -3.5 0 \n\" style=\"stroke: #000000; stroke-width: 0.8\"/>\n      </defs>\n      <g>\n       <use xlink:href=\"#m53b715d31f\" x=\"48.982813\" y=\"136.929747\" style=\"stroke: #000000; stroke-width: 0.8\"/>\n      </g>\n     </g>\n     <g id=\"text_5\">\n      <!-- −10 -->\n      <g transform=\"translate(20.878125 140.728966)scale(0.1 -0.1)\">\n       <defs>\n        <path id=\"DejaVuSans-2212\" d=\"M 678 2272 \nL 4684 2272 \nL 4684 1741 \nL 678 1741 \nL 678 2272 \nz\n\" transform=\"scale(0.015625)\"/>\n       </defs>\n       <use xlink:href=\"#DejaVuSans-2212\"/>\n       <use xlink:href=\"#DejaVuSans-31\" x=\"83.789062\"/>\n       <use xlink:href=\"#DejaVuSans-30\" x=\"147.412109\"/>\n      </g>\n     </g>\n    </g>\n    <g id=\"ytick_2\">\n     <g id=\"line2d_9\">\n      <path d=\"M 48.982813 101.829612 \nL 244.282813 101.829612 \n\" clip-path=\"url(#pd28d1a43aa)\" style=\"fill: none; stroke: #b0b0b0; stroke-width: 0.8; stroke-linecap: square\"/>\n     </g>\n     <g id=\"line2d_10\">\n      <g>\n       <use xlink:href=\"#m53b715d31f\" x=\"48.982813\" y=\"101.829612\" style=\"stroke: #000000; stroke-width: 0.8\"/>\n      </g>\n     </g>\n     <g id=\"text_6\">\n      <!-- −5 -->\n      <g transform=\"translate(27.240625 105.628831)scale(0.1 -0.1)\">\n       <use xlink:href=\"#DejaVuSans-2212\"/>\n       <use xlink:href=\"#DejaVuSans-35\" x=\"83.789062\"/>\n      </g>\n     </g>\n    </g>\n    <g id=\"ytick_3\">\n     <g id=\"line2d_11\">\n      <path d=\"M 48.982813 66.729478 \nL 244.282813 66.729478 \n\" clip-path=\"url(#pd28d1a43aa)\" style=\"fill: none; stroke: #b0b0b0; stroke-width: 0.8; stroke-linecap: square\"/>\n     </g>\n     <g id=\"line2d_12\">\n      <g>\n       <use xlink:href=\"#m53b715d31f\" x=\"48.982813\" y=\"66.729478\" style=\"stroke: #000000; stroke-width: 0.8\"/>\n      </g>\n     </g>\n     <g id=\"text_7\">\n      <!-- 0 -->\n      <g transform=\"translate(35.620313 70.528696)scale(0.1 -0.1)\">\n       <use xlink:href=\"#DejaVuSans-30\"/>\n      </g>\n     </g>\n    </g>\n    <g id=\"ytick_4\">\n     <g id=\"line2d_13\">\n      <path d=\"M 48.982813 31.629343 \nL 244.282813 31.629343 \n\" clip-path=\"url(#pd28d1a43aa)\" style=\"fill: none; stroke: #b0b0b0; stroke-width: 0.8; stroke-linecap: square\"/>\n     </g>\n     <g id=\"line2d_14\">\n      <g>\n       <use xlink:href=\"#m53b715d31f\" x=\"48.982813\" y=\"31.629343\" style=\"stroke: #000000; stroke-width: 0.8\"/>\n      </g>\n     </g>\n     <g id=\"text_8\">\n      <!-- 5 -->\n      <g transform=\"translate(35.620313 35.428562)scale(0.1 -0.1)\">\n       <use xlink:href=\"#DejaVuSans-35\"/>\n      </g>\n     </g>\n    </g>\n    <g id=\"text_9\">\n     <!-- f1(x) -->\n     <g transform=\"translate(14.798438 86.952344)rotate(-90)scale(0.1 -0.1)\">\n      <defs>\n       <path id=\"DejaVuSans-66\" d=\"M 2375 4863 \nL 2375 4384 \nL 1825 4384 \nQ 1516 4384 1395 4259 \nQ 1275 4134 1275 3809 \nL 1275 3500 \nL 2222 3500 \nL 2222 3053 \nL 1275 3053 \nL 1275 0 \nL 697 0 \nL 697 3053 \nL 147 3053 \nL 147 3500 \nL 697 3500 \nL 697 3744 \nQ 697 4328 969 4595 \nQ 1241 4863 1831 4863 \nL 2375 4863 \nz\n\" transform=\"scale(0.015625)\"/>\n       <path id=\"DejaVuSans-28\" d=\"M 1984 4856 \nQ 1566 4138 1362 3434 \nQ 1159 2731 1159 2009 \nQ 1159 1288 1364 580 \nQ 1569 -128 1984 -844 \nL 1484 -844 \nQ 1016 -109 783 600 \nQ 550 1309 550 2009 \nQ 550 2706 781 3412 \nQ 1013 4119 1484 4856 \nL 1984 4856 \nz\n\" transform=\"scale(0.015625)\"/>\n       <path id=\"DejaVuSans-29\" d=\"M 513 4856 \nL 1013 4856 \nQ 1481 4119 1714 3412 \nQ 1947 2706 1947 2009 \nQ 1947 1309 1714 600 \nQ 1481 -109 1013 -844 \nL 513 -844 \nQ 928 -128 1133 580 \nQ 1338 1288 1338 2009 \nQ 1338 2731 1133 3434 \nQ 928 4138 513 4856 \nz\n\" transform=\"scale(0.015625)\"/>\n      </defs>\n      <use xlink:href=\"#DejaVuSans-66\"/>\n      <use xlink:href=\"#DejaVuSans-31\" x=\"35.205078\"/>\n      <use xlink:href=\"#DejaVuSans-28\" x=\"98.828125\"/>\n      <use xlink:href=\"#DejaVuSans-78\" x=\"137.841797\"/>\n      <use xlink:href=\"#DejaVuSans-29\" x=\"197.021484\"/>\n     </g>\n    </g>\n   </g>\n   <g id=\"line2d_15\">\n    <path d=\"M 57.860085 136.922727 \nL 67.723722 101.773452 \nL 77.587358 89.940027 \nL 87.450994 83.830263 \nL 97.314631 79.892028 \nL 107.178267 76.913197 \nL 117.041903 74.350218 \nL 126.90554 71.910258 \nL 136.769176 69.411908 \nL 146.632812 66.729478 \nL 156.496449 63.767664 \nL 166.360085 60.448894 \nL 176.223722 56.706499 \nL 186.087358 52.480829 \nL 195.950994 47.716905 \nL 205.814631 42.362964 \nL 215.678267 36.369513 \nL 225.541903 29.688695 \nL 235.40554 22.273864 \n\" clip-path=\"url(#pd28d1a43aa)\" style=\"fill: none; stroke: #1f77b4; stroke-width: 1.5; stroke-linecap: square\"/>\n   </g>\n   <g id=\"line2d_16\">\n    <path d=\"M 57.860085 63.921467 \nL 67.723722 61.113456 \nL 77.587358 58.305445 \nL 87.450994 55.497435 \nL 97.314631 52.689424 \nL 107.178267 49.881413 \nL 117.041903 47.073402 \nL 126.90554 44.265391 \nL 136.769176 41.457381 \nL 146.632812 38.64937 \nL 156.496449 35.841359 \nL 166.360085 33.033348 \nL 176.223722 30.225337 \nL 186.087358 27.417327 \nL 195.950994 24.609316 \nL 205.814631 21.801305 \nL 215.678267 18.993294 \nL 225.541903 16.185284 \nL 235.40554 13.377273 \n\" clip-path=\"url(#pd28d1a43aa)\" style=\"fill: none; stroke-dasharray: 5.55,2.4; stroke-dashoffset: 0; stroke: #bf00bf; stroke-width: 1.5\"/>\n   </g>\n   <g id=\"patch_3\">\n    <path d=\"M 48.982813 143.1 \nL 48.982813 7.2 \n\" style=\"fill: none; stroke: #000000; stroke-width: 0.8; stroke-linejoin: miter; stroke-linecap: square\"/>\n   </g>\n   <g id=\"patch_4\">\n    <path d=\"M 244.282813 143.1 \nL 244.282813 7.2 \n\" style=\"fill: none; stroke: #000000; stroke-width: 0.8; stroke-linejoin: miter; stroke-linecap: square\"/>\n   </g>\n   <g id=\"patch_5\">\n    <path d=\"M 48.982813 143.1 \nL 244.282813 143.1 \n\" style=\"fill: none; stroke: #000000; stroke-width: 0.8; stroke-linejoin: miter; stroke-linecap: square\"/>\n   </g>\n   <g id=\"patch_6\">\n    <path d=\"M 48.982813 7.2 \nL 244.282813 7.2 \n\" style=\"fill: none; stroke: #000000; stroke-width: 0.8; stroke-linejoin: miter; stroke-linecap: square\"/>\n   </g>\n   <g id=\"legend_1\">\n    <g id=\"patch_7\">\n     <path d=\"M 105.653125 138.1 \nL 237.282813 138.1 \nQ 239.282813 138.1 239.282813 136.1 \nL 239.282813 107.74375 \nQ 239.282813 105.74375 237.282813 105.74375 \nL 105.653125 105.74375 \nQ 103.653125 105.74375 103.653125 107.74375 \nL 103.653125 136.1 \nQ 103.653125 138.1 105.653125 138.1 \nz\n\" style=\"fill: #ffffff; opacity: 0.8; stroke: #cccccc; stroke-linejoin: miter\"/>\n    </g>\n    <g id=\"line2d_17\">\n     <path d=\"M 107.653125 113.842187 \nL 117.653125 113.842187 \nL 127.653125 113.842187 \n\" style=\"fill: none; stroke: #1f77b4; stroke-width: 1.5; stroke-linecap: square\"/>\n    </g>\n    <g id=\"text_10\">\n     <!-- f(x) -->\n     <g transform=\"translate(135.653125 117.342187)scale(0.1 -0.1)\">\n      <use xlink:href=\"#DejaVuSans-66\"/>\n      <use xlink:href=\"#DejaVuSans-28\" x=\"35.205078\"/>\n      <use xlink:href=\"#DejaVuSans-78\" x=\"74.21875\"/>\n      <use xlink:href=\"#DejaVuSans-29\" x=\"133.398438\"/>\n     </g>\n    </g>\n    <g id=\"line2d_18\">\n     <path d=\"M 107.653125 128.520312 \nL 117.653125 128.520312 \nL 127.653125 128.520312 \n\" style=\"fill: none; stroke-dasharray: 5.55,2.4; stroke-dashoffset: 0; stroke: #bf00bf; stroke-width: 1.5\"/>\n    </g>\n    <g id=\"text_11\">\n     <!-- Tangent line(x = 1)) -->\n     <g transform=\"translate(135.653125 132.020312)scale(0.1 -0.1)\">\n      <defs>\n       <path id=\"DejaVuSans-54\" d=\"M -19 4666 \nL 3928 4666 \nL 3928 4134 \nL 2272 4134 \nL 2272 0 \nL 1638 0 \nL 1638 4134 \nL -19 4134 \nL -19 4666 \nz\n\" transform=\"scale(0.015625)\"/>\n       <path id=\"DejaVuSans-61\" d=\"M 2194 1759 \nQ 1497 1759 1228 1600 \nQ 959 1441 959 1056 \nQ 959 750 1161 570 \nQ 1363 391 1709 391 \nQ 2188 391 2477 730 \nQ 2766 1069 2766 1631 \nL 2766 1759 \nL 2194 1759 \nz\nM 3341 1997 \nL 3341 0 \nL 2766 0 \nL 2766 531 \nQ 2569 213 2275 61 \nQ 1981 -91 1556 -91 \nQ 1019 -91 701 211 \nQ 384 513 384 1019 \nQ 384 1609 779 1909 \nQ 1175 2209 1959 2209 \nL 2766 2209 \nL 2766 2266 \nQ 2766 2663 2505 2880 \nQ 2244 3097 1772 3097 \nQ 1472 3097 1187 3025 \nQ 903 2953 641 2809 \nL 641 3341 \nQ 956 3463 1253 3523 \nQ 1550 3584 1831 3584 \nQ 2591 3584 2966 3190 \nQ 3341 2797 3341 1997 \nz\n\" transform=\"scale(0.015625)\"/>\n       <path id=\"DejaVuSans-6e\" d=\"M 3513 2113 \nL 3513 0 \nL 2938 0 \nL 2938 2094 \nQ 2938 2591 2744 2837 \nQ 2550 3084 2163 3084 \nQ 1697 3084 1428 2787 \nQ 1159 2491 1159 1978 \nL 1159 0 \nL 581 0 \nL 581 3500 \nL 1159 3500 \nL 1159 2956 \nQ 1366 3272 1645 3428 \nQ 1925 3584 2291 3584 \nQ 2894 3584 3203 3211 \nQ 3513 2838 3513 2113 \nz\n\" transform=\"scale(0.015625)\"/>\n       <path id=\"DejaVuSans-67\" d=\"M 2906 1791 \nQ 2906 2416 2648 2759 \nQ 2391 3103 1925 3103 \nQ 1463 3103 1205 2759 \nQ 947 2416 947 1791 \nQ 947 1169 1205 825 \nQ 1463 481 1925 481 \nQ 2391 481 2648 825 \nQ 2906 1169 2906 1791 \nz\nM 3481 434 \nQ 3481 -459 3084 -895 \nQ 2688 -1331 1869 -1331 \nQ 1566 -1331 1297 -1286 \nQ 1028 -1241 775 -1147 \nL 775 -588 \nQ 1028 -725 1275 -790 \nQ 1522 -856 1778 -856 \nQ 2344 -856 2625 -561 \nQ 2906 -266 2906 331 \nL 2906 616 \nQ 2728 306 2450 153 \nQ 2172 0 1784 0 \nQ 1141 0 747 490 \nQ 353 981 353 1791 \nQ 353 2603 747 3093 \nQ 1141 3584 1784 3584 \nQ 2172 3584 2450 3431 \nQ 2728 3278 2906 2969 \nL 2906 3500 \nL 3481 3500 \nL 3481 434 \nz\n\" transform=\"scale(0.015625)\"/>\n       <path id=\"DejaVuSans-65\" d=\"M 3597 1894 \nL 3597 1613 \nL 953 1613 \nQ 991 1019 1311 708 \nQ 1631 397 2203 397 \nQ 2534 397 2845 478 \nQ 3156 559 3463 722 \nL 3463 178 \nQ 3153 47 2828 -22 \nQ 2503 -91 2169 -91 \nQ 1331 -91 842 396 \nQ 353 884 353 1716 \nQ 353 2575 817 3079 \nQ 1281 3584 2069 3584 \nQ 2775 3584 3186 3129 \nQ 3597 2675 3597 1894 \nz\nM 3022 2063 \nQ 3016 2534 2758 2815 \nQ 2500 3097 2075 3097 \nQ 1594 3097 1305 2825 \nQ 1016 2553 972 2059 \nL 3022 2063 \nz\n\" transform=\"scale(0.015625)\"/>\n       <path id=\"DejaVuSans-74\" d=\"M 1172 4494 \nL 1172 3500 \nL 2356 3500 \nL 2356 3053 \nL 1172 3053 \nL 1172 1153 \nQ 1172 725 1289 603 \nQ 1406 481 1766 481 \nL 2356 481 \nL 2356 0 \nL 1766 0 \nQ 1100 0 847 248 \nQ 594 497 594 1153 \nL 594 3053 \nL 172 3053 \nL 172 3500 \nL 594 3500 \nL 594 4494 \nL 1172 4494 \nz\n\" transform=\"scale(0.015625)\"/>\n       <path id=\"DejaVuSans-20\" transform=\"scale(0.015625)\"/>\n       <path id=\"DejaVuSans-6c\" d=\"M 603 4863 \nL 1178 4863 \nL 1178 0 \nL 603 0 \nL 603 4863 \nz\n\" transform=\"scale(0.015625)\"/>\n       <path id=\"DejaVuSans-69\" d=\"M 603 3500 \nL 1178 3500 \nL 1178 0 \nL 603 0 \nL 603 3500 \nz\nM 603 4863 \nL 1178 4863 \nL 1178 4134 \nL 603 4134 \nL 603 4863 \nz\n\" transform=\"scale(0.015625)\"/>\n       <path id=\"DejaVuSans-3d\" d=\"M 678 2906 \nL 4684 2906 \nL 4684 2381 \nL 678 2381 \nL 678 2906 \nz\nM 678 1631 \nL 4684 1631 \nL 4684 1100 \nL 678 1100 \nL 678 1631 \nz\n\" transform=\"scale(0.015625)\"/>\n      </defs>\n      <use xlink:href=\"#DejaVuSans-54\"/>\n      <use xlink:href=\"#DejaVuSans-61\" x=\"44.583984\"/>\n      <use xlink:href=\"#DejaVuSans-6e\" x=\"105.863281\"/>\n      <use xlink:href=\"#DejaVuSans-67\" x=\"169.242188\"/>\n      <use xlink:href=\"#DejaVuSans-65\" x=\"232.71875\"/>\n      <use xlink:href=\"#DejaVuSans-6e\" x=\"294.242188\"/>\n      <use xlink:href=\"#DejaVuSans-74\" x=\"357.621094\"/>\n      <use xlink:href=\"#DejaVuSans-20\" x=\"396.830078\"/>\n      <use xlink:href=\"#DejaVuSans-6c\" x=\"428.617188\"/>\n      <use xlink:href=\"#DejaVuSans-69\" x=\"456.400391\"/>\n      <use xlink:href=\"#DejaVuSans-6e\" x=\"484.183594\"/>\n      <use xlink:href=\"#DejaVuSans-65\" x=\"547.5625\"/>\n      <use xlink:href=\"#DejaVuSans-28\" x=\"609.085938\"/>\n      <use xlink:href=\"#DejaVuSans-78\" x=\"648.099609\"/>\n      <use xlink:href=\"#DejaVuSans-20\" x=\"707.279297\"/>\n      <use xlink:href=\"#DejaVuSans-3d\" x=\"739.066406\"/>\n      <use xlink:href=\"#DejaVuSans-20\" x=\"822.855469\"/>\n      <use xlink:href=\"#DejaVuSans-31\" x=\"854.642578\"/>\n      <use xlink:href=\"#DejaVuSans-29\" x=\"918.265625\"/>\n      <use xlink:href=\"#DejaVuSans-29\" x=\"957.279297\"/>\n     </g>\n    </g>\n   </g>\n  </g>\n </g>\n <defs>\n  <clipPath id=\"pd28d1a43aa\">\n   <rect x=\"48.982813\" y=\"7.2\" width=\"195.3\" height=\"135.9\"/>\n  </clipPath>\n </defs>\n</svg>\n",
      "text/plain": [
       "<Figure size 252x180 with 1 Axes>"
      ]
     },
     "metadata": {
      "needs_background": "light"
     },
     "output_type": "display_data"
    }
   ],
   "source": [
    "x = np.arange(0.1,2,0.1)\n",
    "def f1(x):\n",
    "    return x**3 - x **(-1)\n",
    "y = lambda x:x**3 - x **(-1)\n",
    "plot(x,[f1(x),4*x],'x','f1(x)',legend=['f(x)','Tangent line(x = 1))'])\n"
   ]
  },
  {
   "cell_type": "markdown",
   "metadata": {},
   "source": [
    "#### 自动微分"
   ]
  },
  {
   "cell_type": "code",
   "execution_count": 83,
   "metadata": {},
   "outputs": [],
   "source": [
    "import torch"
   ]
  },
  {
   "cell_type": "code",
   "execution_count": 84,
   "metadata": {},
   "outputs": [
    {
     "data": {
      "text/plain": [
       "tensor([0., 1., 2., 3.])"
      ]
     },
     "execution_count": 84,
     "metadata": {},
     "output_type": "execute_result"
    }
   ],
   "source": [
    "x = torch.arange(4.0)\n",
    "x"
   ]
  },
  {
   "cell_type": "code",
   "execution_count": 85,
   "metadata": {},
   "outputs": [],
   "source": [
    "x.requires_grad_(True)  #等价于x=torch.arange(4.0,requires_grad=True)\n",
    "x.grad #默认为None"
   ]
  },
  {
   "cell_type": "code",
   "execution_count": 86,
   "metadata": {},
   "outputs": [
    {
     "data": {
      "text/plain": [
       "tensor(28., grad_fn=<MulBackward0>)"
      ]
     },
     "execution_count": 86,
     "metadata": {},
     "output_type": "execute_result"
    }
   ],
   "source": [
    "y = 2 * torch.dot(x,x) #y是标量输出\n",
    "y"
   ]
  },
  {
   "cell_type": "code",
   "execution_count": 87,
   "metadata": {},
   "outputs": [
    {
     "data": {
      "text/plain": [
       "tensor([ 0.,  4.,  8., 12.])"
      ]
     },
     "execution_count": 87,
     "metadata": {},
     "output_type": "execute_result"
    }
   ],
   "source": [
    "y.backward() #反馈\n",
    "x.grad #里边是dy/dx的值"
   ]
  },
  {
   "cell_type": "code",
   "execution_count": 88,
   "metadata": {},
   "outputs": [
    {
     "data": {
      "text/plain": [
       "tensor([True, True, True, True])"
      ]
     },
     "execution_count": 88,
     "metadata": {},
     "output_type": "execute_result"
    }
   ],
   "source": [
    "x.grad == 4 * x  #验证"
   ]
  },
  {
   "cell_type": "code",
   "execution_count": 89,
   "metadata": {},
   "outputs": [
    {
     "data": {
      "text/plain": [
       "tensor([1., 1., 1., 1.])"
      ]
     },
     "execution_count": 89,
     "metadata": {},
     "output_type": "execute_result"
    }
   ],
   "source": [
    "x.grad.zero_()  #默认情况下，梯度会积累下去，因此，在再次使用前需要清零\n",
    "y = x.sum()  #y是标量\n",
    "y.backward()\n",
    "x.grad"
   ]
  },
  {
   "cell_type": "markdown",
   "metadata": {},
   "source": [
    "##### 非标量变量的反向传播"
   ]
  },
  {
   "cell_type": "markdown",
   "metadata": {},
   "source": [
    "如果最后结果不是标量，二期矩阵怎么办？"
   ]
  },
  {
   "cell_type": "code",
   "execution_count": 90,
   "metadata": {},
   "outputs": [
    {
     "data": {
      "text/plain": [
       "tensor([0., 2., 4., 6.])"
      ]
     },
     "execution_count": 90,
     "metadata": {},
     "output_type": "execute_result"
    }
   ],
   "source": [
    "# 对非标量调用backward()需要传入一个gradient参数，该参数指定微分函数关于self的梯度\n",
    "# 在我们的例子中，我们只想求偏导数的和，所以传递一个1的梯度是合适的\n",
    "x.grad.zero_() #梯度清零\n",
    "y = x * x  #y是一个向量/张量\n",
    "y.sum().backward()  #求y对x各分量的导数，等价于 y.backward(torch.ones(len(x)))   #将y变成一个标量\n",
    "x.grad"
   ]
  },
  {
   "cell_type": "markdown",
   "metadata": {},
   "source": [
    "##### 分离计算"
   ]
  },
  {
   "cell_type": "code",
   "execution_count": 91,
   "metadata": {},
   "outputs": [
    {
     "data": {
      "text/plain": [
       "tensor([True, True, True, True])"
      ]
     },
     "execution_count": 91,
     "metadata": {},
     "output_type": "execute_result"
    }
   ],
   "source": [
    "x.grad.zero_()\n",
    "y = x * x\n",
    "u = y.detach() #将y从计算图中分离出来，不再参与到之后的求导中\n",
    "z = u * x\n",
    "\n",
    "z.sum().backward()\n",
    "x.grad == u"
   ]
  },
  {
   "cell_type": "code",
   "execution_count": 92,
   "metadata": {},
   "outputs": [
    {
     "data": {
      "text/plain": [
       "tensor([True, True, True, True])"
      ]
     },
     "execution_count": 92,
     "metadata": {},
     "output_type": "execute_result"
    }
   ],
   "source": [
    "x.grad.zero_()\n",
    "y.sum().backward()\n",
    "x.grad == 2 * x"
   ]
  },
  {
   "cell_type": "markdown",
   "metadata": {},
   "source": [
    "##### python控制流的梯度计算"
   ]
  },
  {
   "cell_type": "code",
   "execution_count": 93,
   "metadata": {},
   "outputs": [],
   "source": [
    "#计算图经过python控制流后，仍然可以计算得到的变量的梯度\n",
    "\n",
    "def f(a):\n",
    "    b = a * 2\n",
    "    while b.norm() < 1000:\n",
    "        b = b * 2\n",
    "    if b.sum() > 0:\n",
    "        c = b\n",
    "    else:\n",
    "        c = 100 * b\n",
    "    return c"
   ]
  },
  {
   "cell_type": "code",
   "execution_count": 94,
   "metadata": {},
   "outputs": [
    {
     "data": {
      "text/plain": [
       "tensor([[ True,  True],\n",
       "        [ True,  True],\n",
       "        [ True, False]])"
      ]
     },
     "execution_count": 94,
     "metadata": {},
     "output_type": "execute_result"
    }
   ],
   "source": [
    "a = torch.randn(size=(3,2),requires_grad=True)\n",
    "d = f(a)\n",
    "d.sum().backward()\n",
    "a.grad == d/a"
   ]
  },
  {
   "cell_type": "markdown",
   "metadata": {},
   "source": [
    "##### 练习"
   ]
  },
  {
   "cell_type": "code",
   "execution_count": 95,
   "metadata": {},
   "outputs": [
    {
     "data": {
      "image/svg+xml": "<?xml version=\"1.0\" encoding=\"utf-8\" standalone=\"no\"?>\n<!DOCTYPE svg PUBLIC \"-//W3C//DTD SVG 1.1//EN\"\n  \"http://www.w3.org/Graphics/SVG/1.1/DTD/svg11.dtd\">\n<svg xmlns:xlink=\"http://www.w3.org/1999/xlink\" width=\"254.660937pt\" height=\"180.65625pt\" viewBox=\"0 0 254.660937 180.65625\" xmlns=\"http://www.w3.org/2000/svg\" version=\"1.1\">\n <metadata>\n  <rdf:RDF xmlns:dc=\"http://purl.org/dc/elements/1.1/\" xmlns:cc=\"http://creativecommons.org/ns#\" xmlns:rdf=\"http://www.w3.org/1999/02/22-rdf-syntax-ns#\">\n   <cc:Work>\n    <dc:type rdf:resource=\"http://purl.org/dc/dcmitype/StillImage\"/>\n    <dc:date>2022-12-07T00:01:00.525911</dc:date>\n    <dc:format>image/svg+xml</dc:format>\n    <dc:creator>\n     <cc:Agent>\n      <dc:title>Matplotlib v3.5.1, https://matplotlib.org/</dc:title>\n     </cc:Agent>\n    </dc:creator>\n   </cc:Work>\n  </rdf:RDF>\n </metadata>\n <defs>\n  <style type=\"text/css\">*{stroke-linejoin: round; stroke-linecap: butt}</style>\n </defs>\n <g id=\"figure_1\">\n  <g id=\"patch_1\">\n   <path d=\"M 0 180.65625 \nL 254.660937 180.65625 \nL 254.660937 0 \nL 0 0 \nL 0 180.65625 \nz\n\" style=\"fill: none\"/>\n  </g>\n  <g id=\"axes_1\">\n   <g id=\"patch_2\">\n    <path d=\"M 52.160938 143.1 \nL 247.460938 143.1 \nL 247.460938 7.2 \nL 52.160938 7.2 \nz\n\" style=\"fill: #ffffff\"/>\n   </g>\n   <g id=\"matplotlib.axis_1\">\n    <g id=\"xtick_1\">\n     <g id=\"line2d_1\">\n      <path d=\"M 91.13066 143.1 \nL 91.13066 7.2 \n\" clip-path=\"url(#pc049de8869)\" style=\"fill: none; stroke: #b0b0b0; stroke-width: 0.8; stroke-linecap: square\"/>\n     </g>\n     <g id=\"line2d_2\">\n      <defs>\n       <path id=\"m4ffd9ea8d1\" d=\"M 0 0 \nL 0 3.5 \n\" style=\"stroke: #000000; stroke-width: 0.8\"/>\n      </defs>\n      <g>\n       <use xlink:href=\"#m4ffd9ea8d1\" x=\"91.13066\" y=\"143.1\" style=\"stroke: #000000; stroke-width: 0.8\"/>\n      </g>\n     </g>\n     <g id=\"text_1\">\n      <!-- −2 -->\n      <g transform=\"translate(83.759566 157.698438)scale(0.1 -0.1)\">\n       <defs>\n        <path id=\"DejaVuSans-2212\" d=\"M 678 2272 \nL 4684 2272 \nL 4684 1741 \nL 678 1741 \nL 678 2272 \nz\n\" transform=\"scale(0.015625)\"/>\n        <path id=\"DejaVuSans-32\" d=\"M 1228 531 \nL 3431 531 \nL 3431 0 \nL 469 0 \nL 469 531 \nQ 828 903 1448 1529 \nQ 2069 2156 2228 2338 \nQ 2531 2678 2651 2914 \nQ 2772 3150 2772 3378 \nQ 2772 3750 2511 3984 \nQ 2250 4219 1831 4219 \nQ 1534 4219 1204 4116 \nQ 875 4013 500 3803 \nL 500 4441 \nQ 881 4594 1212 4672 \nQ 1544 4750 1819 4750 \nQ 2544 4750 2975 4387 \nQ 3406 4025 3406 3419 \nQ 3406 3131 3298 2873 \nQ 3191 2616 2906 2266 \nQ 2828 2175 2409 1742 \nQ 1991 1309 1228 531 \nz\n\" transform=\"scale(0.015625)\"/>\n       </defs>\n       <use xlink:href=\"#DejaVuSans-2212\"/>\n       <use xlink:href=\"#DejaVuSans-32\" x=\"83.789062\"/>\n      </g>\n     </g>\n    </g>\n    <g id=\"xtick_2\">\n     <g id=\"line2d_3\">\n      <path d=\"M 151.315559 143.1 \nL 151.315559 7.2 \n\" clip-path=\"url(#pc049de8869)\" style=\"fill: none; stroke: #b0b0b0; stroke-width: 0.8; stroke-linecap: square\"/>\n     </g>\n     <g id=\"line2d_4\">\n      <g>\n       <use xlink:href=\"#m4ffd9ea8d1\" x=\"151.315559\" y=\"143.1\" style=\"stroke: #000000; stroke-width: 0.8\"/>\n      </g>\n     </g>\n     <g id=\"text_2\">\n      <!-- 0 -->\n      <g transform=\"translate(148.134309 157.698438)scale(0.1 -0.1)\">\n       <defs>\n        <path id=\"DejaVuSans-30\" d=\"M 2034 4250 \nQ 1547 4250 1301 3770 \nQ 1056 3291 1056 2328 \nQ 1056 1369 1301 889 \nQ 1547 409 2034 409 \nQ 2525 409 2770 889 \nQ 3016 1369 3016 2328 \nQ 3016 3291 2770 3770 \nQ 2525 4250 2034 4250 \nz\nM 2034 4750 \nQ 2819 4750 3233 4129 \nQ 3647 3509 3647 2328 \nQ 3647 1150 3233 529 \nQ 2819 -91 2034 -91 \nQ 1250 -91 836 529 \nQ 422 1150 422 2328 \nQ 422 3509 836 4129 \nQ 1250 4750 2034 4750 \nz\n\" transform=\"scale(0.015625)\"/>\n       </defs>\n       <use xlink:href=\"#DejaVuSans-30\"/>\n      </g>\n     </g>\n    </g>\n    <g id=\"xtick_3\">\n     <g id=\"line2d_5\">\n      <path d=\"M 211.500457 143.1 \nL 211.500457 7.2 \n\" clip-path=\"url(#pc049de8869)\" style=\"fill: none; stroke: #b0b0b0; stroke-width: 0.8; stroke-linecap: square\"/>\n     </g>\n     <g id=\"line2d_6\">\n      <g>\n       <use xlink:href=\"#m4ffd9ea8d1\" x=\"211.500457\" y=\"143.1\" style=\"stroke: #000000; stroke-width: 0.8\"/>\n      </g>\n     </g>\n     <g id=\"text_3\">\n      <!-- 2 -->\n      <g transform=\"translate(208.319207 157.698438)scale(0.1 -0.1)\">\n       <use xlink:href=\"#DejaVuSans-32\"/>\n      </g>\n     </g>\n    </g>\n    <g id=\"text_4\">\n     <!-- x -->\n     <g transform=\"translate(146.851563 171.376563)scale(0.1 -0.1)\">\n      <defs>\n       <path id=\"DejaVuSans-78\" d=\"M 3513 3500 \nL 2247 1797 \nL 3578 0 \nL 2900 0 \nL 1881 1375 \nL 863 0 \nL 184 0 \nL 1544 1831 \nL 300 3500 \nL 978 3500 \nL 1906 2253 \nL 2834 3500 \nL 3513 3500 \nz\n\" transform=\"scale(0.015625)\"/>\n      </defs>\n      <use xlink:href=\"#DejaVuSans-78\"/>\n     </g>\n    </g>\n   </g>\n   <g id=\"matplotlib.axis_2\">\n    <g id=\"ytick_1\">\n     <g id=\"line2d_7\">\n      <path d=\"M 52.160938 136.949073 \nL 247.460938 136.949073 \n\" clip-path=\"url(#pc049de8869)\" style=\"fill: none; stroke: #b0b0b0; stroke-width: 0.8; stroke-linecap: square\"/>\n     </g>\n     <g id=\"line2d_8\">\n      <defs>\n       <path id=\"m13c054a688\" d=\"M 0 0 \nL -3.5 0 \n\" style=\"stroke: #000000; stroke-width: 0.8\"/>\n      </defs>\n      <g>\n       <use xlink:href=\"#m13c054a688\" x=\"52.160938\" y=\"136.949073\" style=\"stroke: #000000; stroke-width: 0.8\"/>\n      </g>\n     </g>\n     <g id=\"text_5\">\n      <!-- −1.0 -->\n      <g transform=\"translate(20.878125 140.748292)scale(0.1 -0.1)\">\n       <defs>\n        <path id=\"DejaVuSans-31\" d=\"M 794 531 \nL 1825 531 \nL 1825 4091 \nL 703 3866 \nL 703 4441 \nL 1819 4666 \nL 2450 4666 \nL 2450 531 \nL 3481 531 \nL 3481 0 \nL 794 0 \nL 794 531 \nz\n\" transform=\"scale(0.015625)\"/>\n        <path id=\"DejaVuSans-2e\" d=\"M 684 794 \nL 1344 794 \nL 1344 0 \nL 684 0 \nL 684 794 \nz\n\" transform=\"scale(0.015625)\"/>\n       </defs>\n       <use xlink:href=\"#DejaVuSans-2212\"/>\n       <use xlink:href=\"#DejaVuSans-31\" x=\"83.789062\"/>\n       <use xlink:href=\"#DejaVuSans-2e\" x=\"147.412109\"/>\n       <use xlink:href=\"#DejaVuSans-30\" x=\"179.199219\"/>\n      </g>\n     </g>\n    </g>\n    <g id=\"ytick_2\">\n     <g id=\"line2d_9\">\n      <path d=\"M 52.160938 106.056123 \nL 247.460938 106.056123 \n\" clip-path=\"url(#pc049de8869)\" style=\"fill: none; stroke: #b0b0b0; stroke-width: 0.8; stroke-linecap: square\"/>\n     </g>\n     <g id=\"line2d_10\">\n      <g>\n       <use xlink:href=\"#m13c054a688\" x=\"52.160938\" y=\"106.056123\" style=\"stroke: #000000; stroke-width: 0.8\"/>\n      </g>\n     </g>\n     <g id=\"text_6\">\n      <!-- −0.5 -->\n      <g transform=\"translate(20.878125 109.855342)scale(0.1 -0.1)\">\n       <defs>\n        <path id=\"DejaVuSans-35\" d=\"M 691 4666 \nL 3169 4666 \nL 3169 4134 \nL 1269 4134 \nL 1269 2991 \nQ 1406 3038 1543 3061 \nQ 1681 3084 1819 3084 \nQ 2600 3084 3056 2656 \nQ 3513 2228 3513 1497 \nQ 3513 744 3044 326 \nQ 2575 -91 1722 -91 \nQ 1428 -91 1123 -41 \nQ 819 9 494 109 \nL 494 744 \nQ 775 591 1075 516 \nQ 1375 441 1709 441 \nQ 2250 441 2565 725 \nQ 2881 1009 2881 1497 \nQ 2881 1984 2565 2268 \nQ 2250 2553 1709 2553 \nQ 1456 2553 1204 2497 \nQ 953 2441 691 2322 \nL 691 4666 \nz\n\" transform=\"scale(0.015625)\"/>\n       </defs>\n       <use xlink:href=\"#DejaVuSans-2212\"/>\n       <use xlink:href=\"#DejaVuSans-30\" x=\"83.789062\"/>\n       <use xlink:href=\"#DejaVuSans-2e\" x=\"147.412109\"/>\n       <use xlink:href=\"#DejaVuSans-35\" x=\"179.199219\"/>\n      </g>\n     </g>\n    </g>\n    <g id=\"ytick_3\">\n     <g id=\"line2d_11\">\n      <path d=\"M 52.160938 75.163173 \nL 247.460938 75.163173 \n\" clip-path=\"url(#pc049de8869)\" style=\"fill: none; stroke: #b0b0b0; stroke-width: 0.8; stroke-linecap: square\"/>\n     </g>\n     <g id=\"line2d_12\">\n      <g>\n       <use xlink:href=\"#m13c054a688\" x=\"52.160938\" y=\"75.163173\" style=\"stroke: #000000; stroke-width: 0.8\"/>\n      </g>\n     </g>\n     <g id=\"text_7\">\n      <!-- 0.0 -->\n      <g transform=\"translate(29.257812 78.962392)scale(0.1 -0.1)\">\n       <use xlink:href=\"#DejaVuSans-30\"/>\n       <use xlink:href=\"#DejaVuSans-2e\" x=\"63.623047\"/>\n       <use xlink:href=\"#DejaVuSans-30\" x=\"95.410156\"/>\n      </g>\n     </g>\n    </g>\n    <g id=\"ytick_4\">\n     <g id=\"line2d_13\">\n      <path d=\"M 52.160938 44.270223 \nL 247.460938 44.270223 \n\" clip-path=\"url(#pc049de8869)\" style=\"fill: none; stroke: #b0b0b0; stroke-width: 0.8; stroke-linecap: square\"/>\n     </g>\n     <g id=\"line2d_14\">\n      <g>\n       <use xlink:href=\"#m13c054a688\" x=\"52.160938\" y=\"44.270223\" style=\"stroke: #000000; stroke-width: 0.8\"/>\n      </g>\n     </g>\n     <g id=\"text_8\">\n      <!-- 0.5 -->\n      <g transform=\"translate(29.257812 48.069442)scale(0.1 -0.1)\">\n       <use xlink:href=\"#DejaVuSans-30\"/>\n       <use xlink:href=\"#DejaVuSans-2e\" x=\"63.623047\"/>\n       <use xlink:href=\"#DejaVuSans-35\" x=\"95.410156\"/>\n      </g>\n     </g>\n    </g>\n    <g id=\"ytick_5\">\n     <g id=\"line2d_15\">\n      <path d=\"M 52.160938 13.377273 \nL 247.460938 13.377273 \n\" clip-path=\"url(#pc049de8869)\" style=\"fill: none; stroke: #b0b0b0; stroke-width: 0.8; stroke-linecap: square\"/>\n     </g>\n     <g id=\"line2d_16\">\n      <g>\n       <use xlink:href=\"#m13c054a688\" x=\"52.160938\" y=\"13.377273\" style=\"stroke: #000000; stroke-width: 0.8\"/>\n      </g>\n     </g>\n     <g id=\"text_9\">\n      <!-- 1.0 -->\n      <g transform=\"translate(29.257812 17.176491)scale(0.1 -0.1)\">\n       <use xlink:href=\"#DejaVuSans-31\"/>\n       <use xlink:href=\"#DejaVuSans-2e\" x=\"63.623047\"/>\n       <use xlink:href=\"#DejaVuSans-30\" x=\"95.410156\"/>\n      </g>\n     </g>\n    </g>\n    <g id=\"text_10\">\n     <!-- f(x) -->\n     <g transform=\"translate(14.798438 83.771094)rotate(-90)scale(0.1 -0.1)\">\n      <defs>\n       <path id=\"DejaVuSans-66\" d=\"M 2375 4863 \nL 2375 4384 \nL 1825 4384 \nQ 1516 4384 1395 4259 \nQ 1275 4134 1275 3809 \nL 1275 3500 \nL 2222 3500 \nL 2222 3053 \nL 1275 3053 \nL 1275 0 \nL 697 0 \nL 697 3053 \nL 147 3053 \nL 147 3500 \nL 697 3500 \nL 697 3744 \nQ 697 4328 969 4595 \nQ 1241 4863 1831 4863 \nL 2375 4863 \nz\n\" transform=\"scale(0.015625)\"/>\n       <path id=\"DejaVuSans-28\" d=\"M 1984 4856 \nQ 1566 4138 1362 3434 \nQ 1159 2731 1159 2009 \nQ 1159 1288 1364 580 \nQ 1569 -128 1984 -844 \nL 1484 -844 \nQ 1016 -109 783 600 \nQ 550 1309 550 2009 \nQ 550 2706 781 3412 \nQ 1013 4119 1484 4856 \nL 1984 4856 \nz\n\" transform=\"scale(0.015625)\"/>\n       <path id=\"DejaVuSans-29\" d=\"M 513 4856 \nL 1013 4856 \nQ 1481 4119 1714 3412 \nQ 1947 2706 1947 2009 \nQ 1947 1309 1714 600 \nQ 1481 -109 1013 -844 \nL 513 -844 \nQ 928 -128 1133 580 \nQ 1338 1288 1338 2009 \nQ 1338 2731 1133 3434 \nQ 928 4138 513 4856 \nz\n\" transform=\"scale(0.015625)\"/>\n      </defs>\n      <use xlink:href=\"#DejaVuSans-66\"/>\n      <use xlink:href=\"#DejaVuSans-28\" x=\"35.205078\"/>\n      <use xlink:href=\"#DejaVuSans-78\" x=\"74.21875\"/>\n      <use xlink:href=\"#DejaVuSans-29\" x=\"133.398438\"/>\n     </g>\n    </g>\n   </g>\n   <g id=\"line2d_17\">\n    <path d=\"M 61.03821 83.882399 \nL 64.047452 89.945403 \nL 67.056702 95.860721 \nL 70.065944 101.569222 \nL 73.075193 107.013894 \nL 76.084435 112.140312 \nL 79.093677 116.897268 \nL 82.102926 121.237243 \nL 85.112168 125.116848 \nL 88.12141 128.497337 \nL 91.13066 131.344932 \nL 94.139902 133.631176 \nL 97.149147 135.333226 \nL 100.158393 136.434077 \nL 103.167639 136.922727 \nL 106.176884 136.7943 \nL 109.18613 136.050072 \nL 112.195376 134.697484 \nL 115.204621 132.750047 \nL 118.213863 130.227225 \nL 121.223109 127.154214 \nL 124.232355 123.561729 \nL 127.2416 119.485661 \nL 130.250844 114.966742 \nL 133.260088 110.050118 \nL 136.269334 104.784912 \nL 139.278578 99.223737 \nL 142.287823 93.422156 \nL 145.297068 87.438137 \nL 148.306313 81.331472 \nL 151.315558 75.163175 \nL 154.324803 68.994877 \nL 157.334049 62.88821 \nL 160.343294 56.90419 \nL 163.352538 51.102609 \nL 166.361783 45.541434 \nL 169.371029 40.276229 \nL 172.380273 35.359604 \nL 175.389518 30.840681 \nL 178.398762 26.764618 \nL 181.408008 23.172132 \nL 184.417254 20.099122 \nL 187.426499 17.576299 \nL 190.435741 15.628862 \nL 193.444987 14.276274 \nL 196.454233 13.532047 \nL 199.463478 13.403619 \nL 202.472724 13.892269 \nL 205.481966 14.993121 \nL 208.491212 16.69517 \nL 211.500457 18.981414 \nL 214.509699 21.829001 \nL 217.518949 25.209498 \nL 220.528191 29.089103 \nL 223.53744 33.429079 \nL 226.546682 38.186034 \nL 229.555924 43.312453 \nL 232.565173 48.757124 \nL 235.574416 54.465625 \nL 238.583665 60.380943 \n\" clip-path=\"url(#pc049de8869)\" style=\"fill: none; stroke: #1f77b4; stroke-width: 1.5; stroke-linecap: square\"/>\n   </g>\n   <g id=\"line2d_18\">\n    <path d=\"M 61.03821 136.330751 \nL 64.047452 135.154698 \nL 67.056702 133.37923 \nL 70.065944 131.022086 \nL 73.075193 128.106814 \nL 76.084435 124.662551 \nL 79.093677 120.723713 \nL 82.102926 116.329634 \nL 85.112168 111.524247 \nL 88.12141 106.355551 \nL 91.13066 100.875181 \nL 94.139902 95.137916 \nL 97.149147 89.201063 \nL 100.158393 83.123949 \nL 103.167639 76.967293 \nL 106.176884 70.792612 \nL 109.18613 64.661599 \nL 112.195376 58.635514 \nL 115.204621 52.774569 \nL 118.213863 47.137329 \nL 121.223109 41.780107 \nL 124.232355 36.75644 \nL 127.2416 32.116522 \nL 130.250844 27.906708 \nL 133.260088 24.169069 \nL 136.269334 20.940945 \nL 139.278578 18.254591 \nL 142.287823 16.136847 \nL 145.297068 14.608876 \nL 148.306313 13.685944 \nL 151.315558 13.377273 \nL 154.324803 13.685944 \nL 157.334049 14.608876 \nL 160.343294 16.136847 \nL 163.352538 18.254591 \nL 166.361783 20.940945 \nL 169.371029 24.169069 \nL 172.380273 27.906708 \nL 175.389518 32.116522 \nL 178.398762 36.75644 \nL 181.408008 41.780107 \nL 184.417254 47.137329 \nL 187.426499 52.774576 \nL 190.435741 58.635514 \nL 193.444987 64.661599 \nL 196.454233 70.792612 \nL 199.463478 76.967293 \nL 202.472724 83.123949 \nL 205.481966 89.201056 \nL 208.491212 95.137909 \nL 211.500457 100.875181 \nL 214.509699 106.35554 \nL 217.518949 111.524247 \nL 220.528191 116.329634 \nL 223.53744 120.723713 \nL 226.546682 124.662551 \nL 229.555924 128.106814 \nL 232.565173 131.022086 \nL 235.574416 133.37923 \nL 238.583665 135.154698 \n\" clip-path=\"url(#pc049de8869)\" style=\"fill: none; stroke-dasharray: 5.55,2.4; stroke-dashoffset: 0; stroke: #bf00bf; stroke-width: 1.5\"/>\n   </g>\n   <g id=\"patch_3\">\n    <path d=\"M 52.160938 143.1 \nL 52.160938 7.2 \n\" style=\"fill: none; stroke: #000000; stroke-width: 0.8; stroke-linejoin: miter; stroke-linecap: square\"/>\n   </g>\n   <g id=\"patch_4\">\n    <path d=\"M 247.460938 143.1 \nL 247.460938 7.2 \n\" style=\"fill: none; stroke: #000000; stroke-width: 0.8; stroke-linejoin: miter; stroke-linecap: square\"/>\n   </g>\n   <g id=\"patch_5\">\n    <path d=\"M 52.160938 143.1 \nL 247.460938 143.1 \n\" style=\"fill: none; stroke: #000000; stroke-width: 0.8; stroke-linejoin: miter; stroke-linecap: square\"/>\n   </g>\n   <g id=\"patch_6\">\n    <path d=\"M 52.160938 7.2 \nL 247.460938 7.2 \n\" style=\"fill: none; stroke: #000000; stroke-width: 0.8; stroke-linejoin: miter; stroke-linecap: square\"/>\n   </g>\n   <g id=\"legend_1\">\n    <g id=\"patch_7\">\n     <path d=\"M 108.83125 91.328125 \nL 240.460938 91.328125 \nQ 242.460938 91.328125 242.460938 89.328125 \nL 242.460938 60.971875 \nQ 242.460938 58.971875 240.460938 58.971875 \nL 108.83125 58.971875 \nQ 106.83125 58.971875 106.83125 60.971875 \nL 106.83125 89.328125 \nQ 106.83125 91.328125 108.83125 91.328125 \nz\n\" style=\"fill: #ffffff; opacity: 0.8; stroke: #cccccc; stroke-linejoin: miter\"/>\n    </g>\n    <g id=\"line2d_19\">\n     <path d=\"M 110.83125 67.070312 \nL 120.83125 67.070312 \nL 130.83125 67.070312 \n\" style=\"fill: none; stroke: #1f77b4; stroke-width: 1.5; stroke-linecap: square\"/>\n    </g>\n    <g id=\"text_11\">\n     <!-- f(x) -->\n     <g transform=\"translate(138.83125 70.570312)scale(0.1 -0.1)\">\n      <use xlink:href=\"#DejaVuSans-66\"/>\n      <use xlink:href=\"#DejaVuSans-28\" x=\"35.205078\"/>\n      <use xlink:href=\"#DejaVuSans-78\" x=\"74.21875\"/>\n      <use xlink:href=\"#DejaVuSans-29\" x=\"133.398438\"/>\n     </g>\n    </g>\n    <g id=\"line2d_20\">\n     <path d=\"M 110.83125 81.748437 \nL 120.83125 81.748437 \nL 130.83125 81.748437 \n\" style=\"fill: none; stroke-dasharray: 5.55,2.4; stroke-dashoffset: 0; stroke: #bf00bf; stroke-width: 1.5\"/>\n    </g>\n    <g id=\"text_12\">\n     <!-- Tangent line(x = 1)) -->\n     <g transform=\"translate(138.83125 85.248437)scale(0.1 -0.1)\">\n      <defs>\n       <path id=\"DejaVuSans-54\" d=\"M -19 4666 \nL 3928 4666 \nL 3928 4134 \nL 2272 4134 \nL 2272 0 \nL 1638 0 \nL 1638 4134 \nL -19 4134 \nL -19 4666 \nz\n\" transform=\"scale(0.015625)\"/>\n       <path id=\"DejaVuSans-61\" d=\"M 2194 1759 \nQ 1497 1759 1228 1600 \nQ 959 1441 959 1056 \nQ 959 750 1161 570 \nQ 1363 391 1709 391 \nQ 2188 391 2477 730 \nQ 2766 1069 2766 1631 \nL 2766 1759 \nL 2194 1759 \nz\nM 3341 1997 \nL 3341 0 \nL 2766 0 \nL 2766 531 \nQ 2569 213 2275 61 \nQ 1981 -91 1556 -91 \nQ 1019 -91 701 211 \nQ 384 513 384 1019 \nQ 384 1609 779 1909 \nQ 1175 2209 1959 2209 \nL 2766 2209 \nL 2766 2266 \nQ 2766 2663 2505 2880 \nQ 2244 3097 1772 3097 \nQ 1472 3097 1187 3025 \nQ 903 2953 641 2809 \nL 641 3341 \nQ 956 3463 1253 3523 \nQ 1550 3584 1831 3584 \nQ 2591 3584 2966 3190 \nQ 3341 2797 3341 1997 \nz\n\" transform=\"scale(0.015625)\"/>\n       <path id=\"DejaVuSans-6e\" d=\"M 3513 2113 \nL 3513 0 \nL 2938 0 \nL 2938 2094 \nQ 2938 2591 2744 2837 \nQ 2550 3084 2163 3084 \nQ 1697 3084 1428 2787 \nQ 1159 2491 1159 1978 \nL 1159 0 \nL 581 0 \nL 581 3500 \nL 1159 3500 \nL 1159 2956 \nQ 1366 3272 1645 3428 \nQ 1925 3584 2291 3584 \nQ 2894 3584 3203 3211 \nQ 3513 2838 3513 2113 \nz\n\" transform=\"scale(0.015625)\"/>\n       <path id=\"DejaVuSans-67\" d=\"M 2906 1791 \nQ 2906 2416 2648 2759 \nQ 2391 3103 1925 3103 \nQ 1463 3103 1205 2759 \nQ 947 2416 947 1791 \nQ 947 1169 1205 825 \nQ 1463 481 1925 481 \nQ 2391 481 2648 825 \nQ 2906 1169 2906 1791 \nz\nM 3481 434 \nQ 3481 -459 3084 -895 \nQ 2688 -1331 1869 -1331 \nQ 1566 -1331 1297 -1286 \nQ 1028 -1241 775 -1147 \nL 775 -588 \nQ 1028 -725 1275 -790 \nQ 1522 -856 1778 -856 \nQ 2344 -856 2625 -561 \nQ 2906 -266 2906 331 \nL 2906 616 \nQ 2728 306 2450 153 \nQ 2172 0 1784 0 \nQ 1141 0 747 490 \nQ 353 981 353 1791 \nQ 353 2603 747 3093 \nQ 1141 3584 1784 3584 \nQ 2172 3584 2450 3431 \nQ 2728 3278 2906 2969 \nL 2906 3500 \nL 3481 3500 \nL 3481 434 \nz\n\" transform=\"scale(0.015625)\"/>\n       <path id=\"DejaVuSans-65\" d=\"M 3597 1894 \nL 3597 1613 \nL 953 1613 \nQ 991 1019 1311 708 \nQ 1631 397 2203 397 \nQ 2534 397 2845 478 \nQ 3156 559 3463 722 \nL 3463 178 \nQ 3153 47 2828 -22 \nQ 2503 -91 2169 -91 \nQ 1331 -91 842 396 \nQ 353 884 353 1716 \nQ 353 2575 817 3079 \nQ 1281 3584 2069 3584 \nQ 2775 3584 3186 3129 \nQ 3597 2675 3597 1894 \nz\nM 3022 2063 \nQ 3016 2534 2758 2815 \nQ 2500 3097 2075 3097 \nQ 1594 3097 1305 2825 \nQ 1016 2553 972 2059 \nL 3022 2063 \nz\n\" transform=\"scale(0.015625)\"/>\n       <path id=\"DejaVuSans-74\" d=\"M 1172 4494 \nL 1172 3500 \nL 2356 3500 \nL 2356 3053 \nL 1172 3053 \nL 1172 1153 \nQ 1172 725 1289 603 \nQ 1406 481 1766 481 \nL 2356 481 \nL 2356 0 \nL 1766 0 \nQ 1100 0 847 248 \nQ 594 497 594 1153 \nL 594 3053 \nL 172 3053 \nL 172 3500 \nL 594 3500 \nL 594 4494 \nL 1172 4494 \nz\n\" transform=\"scale(0.015625)\"/>\n       <path id=\"DejaVuSans-20\" transform=\"scale(0.015625)\"/>\n       <path id=\"DejaVuSans-6c\" d=\"M 603 4863 \nL 1178 4863 \nL 1178 0 \nL 603 0 \nL 603 4863 \nz\n\" transform=\"scale(0.015625)\"/>\n       <path id=\"DejaVuSans-69\" d=\"M 603 3500 \nL 1178 3500 \nL 1178 0 \nL 603 0 \nL 603 3500 \nz\nM 603 4863 \nL 1178 4863 \nL 1178 4134 \nL 603 4134 \nL 603 4863 \nz\n\" transform=\"scale(0.015625)\"/>\n       <path id=\"DejaVuSans-3d\" d=\"M 678 2906 \nL 4684 2906 \nL 4684 2381 \nL 678 2381 \nL 678 2906 \nz\nM 678 1631 \nL 4684 1631 \nL 4684 1100 \nL 678 1100 \nL 678 1631 \nz\n\" transform=\"scale(0.015625)\"/>\n      </defs>\n      <use xlink:href=\"#DejaVuSans-54\"/>\n      <use xlink:href=\"#DejaVuSans-61\" x=\"44.583984\"/>\n      <use xlink:href=\"#DejaVuSans-6e\" x=\"105.863281\"/>\n      <use xlink:href=\"#DejaVuSans-67\" x=\"169.242188\"/>\n      <use xlink:href=\"#DejaVuSans-65\" x=\"232.71875\"/>\n      <use xlink:href=\"#DejaVuSans-6e\" x=\"294.242188\"/>\n      <use xlink:href=\"#DejaVuSans-74\" x=\"357.621094\"/>\n      <use xlink:href=\"#DejaVuSans-20\" x=\"396.830078\"/>\n      <use xlink:href=\"#DejaVuSans-6c\" x=\"428.617188\"/>\n      <use xlink:href=\"#DejaVuSans-69\" x=\"456.400391\"/>\n      <use xlink:href=\"#DejaVuSans-6e\" x=\"484.183594\"/>\n      <use xlink:href=\"#DejaVuSans-65\" x=\"547.5625\"/>\n      <use xlink:href=\"#DejaVuSans-28\" x=\"609.085938\"/>\n      <use xlink:href=\"#DejaVuSans-78\" x=\"648.099609\"/>\n      <use xlink:href=\"#DejaVuSans-20\" x=\"707.279297\"/>\n      <use xlink:href=\"#DejaVuSans-3d\" x=\"739.066406\"/>\n      <use xlink:href=\"#DejaVuSans-20\" x=\"822.855469\"/>\n      <use xlink:href=\"#DejaVuSans-31\" x=\"854.642578\"/>\n      <use xlink:href=\"#DejaVuSans-29\" x=\"918.265625\"/>\n      <use xlink:href=\"#DejaVuSans-29\" x=\"957.279297\"/>\n     </g>\n    </g>\n   </g>\n  </g>\n </g>\n <defs>\n  <clipPath id=\"pc049de8869\">\n   <rect x=\"52.160938\" y=\"7.2\" width=\"195.3\" height=\"135.9\"/>\n  </clipPath>\n </defs>\n</svg>\n",
      "text/plain": [
       "<Figure size 252x180 with 1 Axes>"
      ]
     },
     "metadata": {
      "needs_background": "light"
     },
     "output_type": "display_data"
    }
   ],
   "source": [
    "# 2.5 5\n",
    "def f(x):\n",
    "    return torch.sin(x)\n",
    "\n",
    "x = torch.arange(-3,3,0.1)\n",
    "x.requires_grad_(True)\n",
    "y = f(x)\n",
    "\n",
    "y.sum().backward()\n",
    "x1 = x.grad.numpy() \n",
    "y1 = y.detach().numpy() #转为numpy()时候，必须先detach，才能操作。\n",
    "x2 = x\n",
    "x2 = x2.detach().numpy()\n",
    "plot(x2,[y1,x1],'x','f(x)',legend=['f(x)','Tangent line(x = 1))'])"
   ]
  },
  {
   "cell_type": "markdown",
   "metadata": {},
   "source": [
    "#### 概率"
   ]
  },
  {
   "cell_type": "code",
   "execution_count": 1,
   "metadata": {},
   "outputs": [],
   "source": [
    "%matplotlib inline\n",
    "import torch\n",
    "from torch.distributions import multinomial\n",
    "from d2l import torch as d2l"
   ]
  },
  {
   "cell_type": "code",
   "execution_count": 2,
   "metadata": {},
   "outputs": [
    {
     "data": {
      "text/plain": [
       "tensor([0., 0., 0., 1., 0., 0.])"
      ]
     },
     "execution_count": 2,
     "metadata": {},
     "output_type": "execute_result"
    }
   ],
   "source": [
    "fair_probs = torch.ones([6])/6\n",
    "multinomial.Multinomial(1,fair_probs).sample()"
   ]
  },
  {
   "cell_type": "code",
   "execution_count": 3,
   "metadata": {},
   "outputs": [
    {
     "data": {
      "text/plain": [
       "tensor([1., 4., 0., 0., 2., 3.])"
      ]
     },
     "execution_count": 3,
     "metadata": {},
     "output_type": "execute_result"
    }
   ],
   "source": [
    "multinomial.Multinomial(10,fair_probs).sample()"
   ]
  },
  {
   "cell_type": "code",
   "execution_count": 4,
   "metadata": {},
   "outputs": [
    {
     "data": {
      "text/plain": [
       "tensor([0.1657, 0.1681, 0.1681, 0.1673, 0.1640, 0.1669])"
      ]
     },
     "execution_count": 4,
     "metadata": {},
     "output_type": "execute_result"
    }
   ],
   "source": [
    "# 将结果存储为32位浮点数以进行除法\n",
    "counts = multinomial.Multinomial(100000,fair_probs).sample()\n",
    "counts / 100000  #相对频率作为估计值"
   ]
  },
  {
   "cell_type": "code",
   "execution_count": 5,
   "metadata": {},
   "outputs": [
    {
     "data": {
      "image/svg+xml": "<?xml version=\"1.0\" encoding=\"utf-8\" standalone=\"no\"?>\n<!DOCTYPE svg PUBLIC \"-//W3C//DTD SVG 1.1//EN\"\n  \"http://www.w3.org/Graphics/SVG/1.1/DTD/svg11.dtd\">\n<svg xmlns:xlink=\"http://www.w3.org/1999/xlink\" width=\"385.78125pt\" height=\"289.37625pt\" viewBox=\"0 0 385.78125 289.37625\" xmlns=\"http://www.w3.org/2000/svg\" version=\"1.1\">\n <metadata>\n  <rdf:RDF xmlns:dc=\"http://purl.org/dc/elements/1.1/\" xmlns:cc=\"http://creativecommons.org/ns#\" xmlns:rdf=\"http://www.w3.org/1999/02/22-rdf-syntax-ns#\">\n   <cc:Work>\n    <dc:type rdf:resource=\"http://purl.org/dc/dcmitype/StillImage\"/>\n    <dc:date>2022-12-07T00:05:13.149000</dc:date>\n    <dc:format>image/svg+xml</dc:format>\n    <dc:creator>\n     <cc:Agent>\n      <dc:title>Matplotlib v3.5.1, https://matplotlib.org/</dc:title>\n     </cc:Agent>\n    </dc:creator>\n   </cc:Work>\n  </rdf:RDF>\n </metadata>\n <defs>\n  <style type=\"text/css\">*{stroke-linejoin: round; stroke-linecap: butt}</style>\n </defs>\n <g id=\"figure_1\">\n  <g id=\"patch_1\">\n   <path d=\"M 0 289.37625 \nL 385.78125 289.37625 \nL 385.78125 0 \nL 0 0 \nL 0 289.37625 \nz\n\" style=\"fill: none\"/>\n  </g>\n  <g id=\"axes_1\">\n   <g id=\"patch_2\">\n    <path d=\"M 43.78125 251.82 \nL 378.58125 251.82 \nL 378.58125 7.2 \nL 43.78125 7.2 \nz\n\" style=\"fill: #ffffff\"/>\n   </g>\n   <g id=\"matplotlib.axis_1\">\n    <g id=\"xtick_1\">\n     <g id=\"line2d_1\">\n      <defs>\n       <path id=\"m73fa9da66b\" d=\"M 0 0 \nL 0 3.5 \n\" style=\"stroke: #000000; stroke-width: 0.8\"/>\n      </defs>\n      <g>\n       <use xlink:href=\"#m73fa9da66b\" x=\"58.999432\" y=\"251.82\" style=\"stroke: #000000; stroke-width: 0.8\"/>\n      </g>\n     </g>\n     <g id=\"text_1\">\n      <!-- 0 -->\n      <g transform=\"translate(55.818182 266.418437)scale(0.1 -0.1)\">\n       <defs>\n        <path id=\"DejaVuSans-30\" d=\"M 2034 4250 \nQ 1547 4250 1301 3770 \nQ 1056 3291 1056 2328 \nQ 1056 1369 1301 889 \nQ 1547 409 2034 409 \nQ 2525 409 2770 889 \nQ 3016 1369 3016 2328 \nQ 3016 3291 2770 3770 \nQ 2525 4250 2034 4250 \nz\nM 2034 4750 \nQ 2819 4750 3233 4129 \nQ 3647 3509 3647 2328 \nQ 3647 1150 3233 529 \nQ 2819 -91 2034 -91 \nQ 1250 -91 836 529 \nQ 422 1150 422 2328 \nQ 422 3509 836 4129 \nQ 1250 4750 2034 4750 \nz\n\" transform=\"scale(0.015625)\"/>\n       </defs>\n       <use xlink:href=\"#DejaVuSans-30\"/>\n      </g>\n     </g>\n    </g>\n    <g id=\"xtick_2\">\n     <g id=\"line2d_2\">\n      <g>\n       <use xlink:href=\"#m73fa9da66b\" x=\"119.994149\" y=\"251.82\" style=\"stroke: #000000; stroke-width: 0.8\"/>\n      </g>\n     </g>\n     <g id=\"text_2\">\n      <!-- 100 -->\n      <g transform=\"translate(110.450399 266.418437)scale(0.1 -0.1)\">\n       <defs>\n        <path id=\"DejaVuSans-31\" d=\"M 794 531 \nL 1825 531 \nL 1825 4091 \nL 703 3866 \nL 703 4441 \nL 1819 4666 \nL 2450 4666 \nL 2450 531 \nL 3481 531 \nL 3481 0 \nL 794 0 \nL 794 531 \nz\n\" transform=\"scale(0.015625)\"/>\n       </defs>\n       <use xlink:href=\"#DejaVuSans-31\"/>\n       <use xlink:href=\"#DejaVuSans-30\" x=\"63.623047\"/>\n       <use xlink:href=\"#DejaVuSans-30\" x=\"127.246094\"/>\n      </g>\n     </g>\n    </g>\n    <g id=\"xtick_3\">\n     <g id=\"line2d_3\">\n      <g>\n       <use xlink:href=\"#m73fa9da66b\" x=\"180.988865\" y=\"251.82\" style=\"stroke: #000000; stroke-width: 0.8\"/>\n      </g>\n     </g>\n     <g id=\"text_3\">\n      <!-- 200 -->\n      <g transform=\"translate(171.445115 266.418437)scale(0.1 -0.1)\">\n       <defs>\n        <path id=\"DejaVuSans-32\" d=\"M 1228 531 \nL 3431 531 \nL 3431 0 \nL 469 0 \nL 469 531 \nQ 828 903 1448 1529 \nQ 2069 2156 2228 2338 \nQ 2531 2678 2651 2914 \nQ 2772 3150 2772 3378 \nQ 2772 3750 2511 3984 \nQ 2250 4219 1831 4219 \nQ 1534 4219 1204 4116 \nQ 875 4013 500 3803 \nL 500 4441 \nQ 881 4594 1212 4672 \nQ 1544 4750 1819 4750 \nQ 2544 4750 2975 4387 \nQ 3406 4025 3406 3419 \nQ 3406 3131 3298 2873 \nQ 3191 2616 2906 2266 \nQ 2828 2175 2409 1742 \nQ 1991 1309 1228 531 \nz\n\" transform=\"scale(0.015625)\"/>\n       </defs>\n       <use xlink:href=\"#DejaVuSans-32\"/>\n       <use xlink:href=\"#DejaVuSans-30\" x=\"63.623047\"/>\n       <use xlink:href=\"#DejaVuSans-30\" x=\"127.246094\"/>\n      </g>\n     </g>\n    </g>\n    <g id=\"xtick_4\">\n     <g id=\"line2d_4\">\n      <g>\n       <use xlink:href=\"#m73fa9da66b\" x=\"241.983582\" y=\"251.82\" style=\"stroke: #000000; stroke-width: 0.8\"/>\n      </g>\n     </g>\n     <g id=\"text_4\">\n      <!-- 300 -->\n      <g transform=\"translate(232.439832 266.418437)scale(0.1 -0.1)\">\n       <defs>\n        <path id=\"DejaVuSans-33\" d=\"M 2597 2516 \nQ 3050 2419 3304 2112 \nQ 3559 1806 3559 1356 \nQ 3559 666 3084 287 \nQ 2609 -91 1734 -91 \nQ 1441 -91 1130 -33 \nQ 819 25 488 141 \nL 488 750 \nQ 750 597 1062 519 \nQ 1375 441 1716 441 \nQ 2309 441 2620 675 \nQ 2931 909 2931 1356 \nQ 2931 1769 2642 2001 \nQ 2353 2234 1838 2234 \nL 1294 2234 \nL 1294 2753 \nL 1863 2753 \nQ 2328 2753 2575 2939 \nQ 2822 3125 2822 3475 \nQ 2822 3834 2567 4026 \nQ 2313 4219 1838 4219 \nQ 1578 4219 1281 4162 \nQ 984 4106 628 3988 \nL 628 4550 \nQ 988 4650 1302 4700 \nQ 1616 4750 1894 4750 \nQ 2613 4750 3031 4423 \nQ 3450 4097 3450 3541 \nQ 3450 3153 3228 2886 \nQ 3006 2619 2597 2516 \nz\n\" transform=\"scale(0.015625)\"/>\n       </defs>\n       <use xlink:href=\"#DejaVuSans-33\"/>\n       <use xlink:href=\"#DejaVuSans-30\" x=\"63.623047\"/>\n       <use xlink:href=\"#DejaVuSans-30\" x=\"127.246094\"/>\n      </g>\n     </g>\n    </g>\n    <g id=\"xtick_5\">\n     <g id=\"line2d_5\">\n      <g>\n       <use xlink:href=\"#m73fa9da66b\" x=\"302.978299\" y=\"251.82\" style=\"stroke: #000000; stroke-width: 0.8\"/>\n      </g>\n     </g>\n     <g id=\"text_5\">\n      <!-- 400 -->\n      <g transform=\"translate(293.434549 266.418437)scale(0.1 -0.1)\">\n       <defs>\n        <path id=\"DejaVuSans-34\" d=\"M 2419 4116 \nL 825 1625 \nL 2419 1625 \nL 2419 4116 \nz\nM 2253 4666 \nL 3047 4666 \nL 3047 1625 \nL 3713 1625 \nL 3713 1100 \nL 3047 1100 \nL 3047 0 \nL 2419 0 \nL 2419 1100 \nL 313 1100 \nL 313 1709 \nL 2253 4666 \nz\n\" transform=\"scale(0.015625)\"/>\n       </defs>\n       <use xlink:href=\"#DejaVuSans-34\"/>\n       <use xlink:href=\"#DejaVuSans-30\" x=\"63.623047\"/>\n       <use xlink:href=\"#DejaVuSans-30\" x=\"127.246094\"/>\n      </g>\n     </g>\n    </g>\n    <g id=\"xtick_6\">\n     <g id=\"line2d_6\">\n      <g>\n       <use xlink:href=\"#m73fa9da66b\" x=\"363.973015\" y=\"251.82\" style=\"stroke: #000000; stroke-width: 0.8\"/>\n      </g>\n     </g>\n     <g id=\"text_6\">\n      <!-- 500 -->\n      <g transform=\"translate(354.429265 266.418437)scale(0.1 -0.1)\">\n       <defs>\n        <path id=\"DejaVuSans-35\" d=\"M 691 4666 \nL 3169 4666 \nL 3169 4134 \nL 1269 4134 \nL 1269 2991 \nQ 1406 3038 1543 3061 \nQ 1681 3084 1819 3084 \nQ 2600 3084 3056 2656 \nQ 3513 2228 3513 1497 \nQ 3513 744 3044 326 \nQ 2575 -91 1722 -91 \nQ 1428 -91 1123 -41 \nQ 819 9 494 109 \nL 494 744 \nQ 775 591 1075 516 \nQ 1375 441 1709 441 \nQ 2250 441 2565 725 \nQ 2881 1009 2881 1497 \nQ 2881 1984 2565 2268 \nQ 2250 2553 1709 2553 \nQ 1456 2553 1204 2497 \nQ 953 2441 691 2322 \nL 691 4666 \nz\n\" transform=\"scale(0.015625)\"/>\n       </defs>\n       <use xlink:href=\"#DejaVuSans-35\"/>\n       <use xlink:href=\"#DejaVuSans-30\" x=\"63.623047\"/>\n       <use xlink:href=\"#DejaVuSans-30\" x=\"127.246094\"/>\n      </g>\n     </g>\n    </g>\n    <g id=\"text_7\">\n     <!-- Group of experiments -->\n     <g transform=\"translate(156.639844 280.096562)scale(0.1 -0.1)\">\n      <defs>\n       <path id=\"DejaVuSans-47\" d=\"M 3809 666 \nL 3809 1919 \nL 2778 1919 \nL 2778 2438 \nL 4434 2438 \nL 4434 434 \nQ 4069 175 3628 42 \nQ 3188 -91 2688 -91 \nQ 1594 -91 976 548 \nQ 359 1188 359 2328 \nQ 359 3472 976 4111 \nQ 1594 4750 2688 4750 \nQ 3144 4750 3555 4637 \nQ 3966 4525 4313 4306 \nL 4313 3634 \nQ 3963 3931 3569 4081 \nQ 3175 4231 2741 4231 \nQ 1884 4231 1454 3753 \nQ 1025 3275 1025 2328 \nQ 1025 1384 1454 906 \nQ 1884 428 2741 428 \nQ 3075 428 3337 486 \nQ 3600 544 3809 666 \nz\n\" transform=\"scale(0.015625)\"/>\n       <path id=\"DejaVuSans-72\" d=\"M 2631 2963 \nQ 2534 3019 2420 3045 \nQ 2306 3072 2169 3072 \nQ 1681 3072 1420 2755 \nQ 1159 2438 1159 1844 \nL 1159 0 \nL 581 0 \nL 581 3500 \nL 1159 3500 \nL 1159 2956 \nQ 1341 3275 1631 3429 \nQ 1922 3584 2338 3584 \nQ 2397 3584 2469 3576 \nQ 2541 3569 2628 3553 \nL 2631 2963 \nz\n\" transform=\"scale(0.015625)\"/>\n       <path id=\"DejaVuSans-6f\" d=\"M 1959 3097 \nQ 1497 3097 1228 2736 \nQ 959 2375 959 1747 \nQ 959 1119 1226 758 \nQ 1494 397 1959 397 \nQ 2419 397 2687 759 \nQ 2956 1122 2956 1747 \nQ 2956 2369 2687 2733 \nQ 2419 3097 1959 3097 \nz\nM 1959 3584 \nQ 2709 3584 3137 3096 \nQ 3566 2609 3566 1747 \nQ 3566 888 3137 398 \nQ 2709 -91 1959 -91 \nQ 1206 -91 779 398 \nQ 353 888 353 1747 \nQ 353 2609 779 3096 \nQ 1206 3584 1959 3584 \nz\n\" transform=\"scale(0.015625)\"/>\n       <path id=\"DejaVuSans-75\" d=\"M 544 1381 \nL 544 3500 \nL 1119 3500 \nL 1119 1403 \nQ 1119 906 1312 657 \nQ 1506 409 1894 409 \nQ 2359 409 2629 706 \nQ 2900 1003 2900 1516 \nL 2900 3500 \nL 3475 3500 \nL 3475 0 \nL 2900 0 \nL 2900 538 \nQ 2691 219 2414 64 \nQ 2138 -91 1772 -91 \nQ 1169 -91 856 284 \nQ 544 659 544 1381 \nz\nM 1991 3584 \nL 1991 3584 \nz\n\" transform=\"scale(0.015625)\"/>\n       <path id=\"DejaVuSans-70\" d=\"M 1159 525 \nL 1159 -1331 \nL 581 -1331 \nL 581 3500 \nL 1159 3500 \nL 1159 2969 \nQ 1341 3281 1617 3432 \nQ 1894 3584 2278 3584 \nQ 2916 3584 3314 3078 \nQ 3713 2572 3713 1747 \nQ 3713 922 3314 415 \nQ 2916 -91 2278 -91 \nQ 1894 -91 1617 61 \nQ 1341 213 1159 525 \nz\nM 3116 1747 \nQ 3116 2381 2855 2742 \nQ 2594 3103 2138 3103 \nQ 1681 3103 1420 2742 \nQ 1159 2381 1159 1747 \nQ 1159 1113 1420 752 \nQ 1681 391 2138 391 \nQ 2594 391 2855 752 \nQ 3116 1113 3116 1747 \nz\n\" transform=\"scale(0.015625)\"/>\n       <path id=\"DejaVuSans-20\" transform=\"scale(0.015625)\"/>\n       <path id=\"DejaVuSans-66\" d=\"M 2375 4863 \nL 2375 4384 \nL 1825 4384 \nQ 1516 4384 1395 4259 \nQ 1275 4134 1275 3809 \nL 1275 3500 \nL 2222 3500 \nL 2222 3053 \nL 1275 3053 \nL 1275 0 \nL 697 0 \nL 697 3053 \nL 147 3053 \nL 147 3500 \nL 697 3500 \nL 697 3744 \nQ 697 4328 969 4595 \nQ 1241 4863 1831 4863 \nL 2375 4863 \nz\n\" transform=\"scale(0.015625)\"/>\n       <path id=\"DejaVuSans-65\" d=\"M 3597 1894 \nL 3597 1613 \nL 953 1613 \nQ 991 1019 1311 708 \nQ 1631 397 2203 397 \nQ 2534 397 2845 478 \nQ 3156 559 3463 722 \nL 3463 178 \nQ 3153 47 2828 -22 \nQ 2503 -91 2169 -91 \nQ 1331 -91 842 396 \nQ 353 884 353 1716 \nQ 353 2575 817 3079 \nQ 1281 3584 2069 3584 \nQ 2775 3584 3186 3129 \nQ 3597 2675 3597 1894 \nz\nM 3022 2063 \nQ 3016 2534 2758 2815 \nQ 2500 3097 2075 3097 \nQ 1594 3097 1305 2825 \nQ 1016 2553 972 2059 \nL 3022 2063 \nz\n\" transform=\"scale(0.015625)\"/>\n       <path id=\"DejaVuSans-78\" d=\"M 3513 3500 \nL 2247 1797 \nL 3578 0 \nL 2900 0 \nL 1881 1375 \nL 863 0 \nL 184 0 \nL 1544 1831 \nL 300 3500 \nL 978 3500 \nL 1906 2253 \nL 2834 3500 \nL 3513 3500 \nz\n\" transform=\"scale(0.015625)\"/>\n       <path id=\"DejaVuSans-69\" d=\"M 603 3500 \nL 1178 3500 \nL 1178 0 \nL 603 0 \nL 603 3500 \nz\nM 603 4863 \nL 1178 4863 \nL 1178 4134 \nL 603 4134 \nL 603 4863 \nz\n\" transform=\"scale(0.015625)\"/>\n       <path id=\"DejaVuSans-6d\" d=\"M 3328 2828 \nQ 3544 3216 3844 3400 \nQ 4144 3584 4550 3584 \nQ 5097 3584 5394 3201 \nQ 5691 2819 5691 2113 \nL 5691 0 \nL 5113 0 \nL 5113 2094 \nQ 5113 2597 4934 2840 \nQ 4756 3084 4391 3084 \nQ 3944 3084 3684 2787 \nQ 3425 2491 3425 1978 \nL 3425 0 \nL 2847 0 \nL 2847 2094 \nQ 2847 2600 2669 2842 \nQ 2491 3084 2119 3084 \nQ 1678 3084 1418 2786 \nQ 1159 2488 1159 1978 \nL 1159 0 \nL 581 0 \nL 581 3500 \nL 1159 3500 \nL 1159 2956 \nQ 1356 3278 1631 3431 \nQ 1906 3584 2284 3584 \nQ 2666 3584 2933 3390 \nQ 3200 3197 3328 2828 \nz\n\" transform=\"scale(0.015625)\"/>\n       <path id=\"DejaVuSans-6e\" d=\"M 3513 2113 \nL 3513 0 \nL 2938 0 \nL 2938 2094 \nQ 2938 2591 2744 2837 \nQ 2550 3084 2163 3084 \nQ 1697 3084 1428 2787 \nQ 1159 2491 1159 1978 \nL 1159 0 \nL 581 0 \nL 581 3500 \nL 1159 3500 \nL 1159 2956 \nQ 1366 3272 1645 3428 \nQ 1925 3584 2291 3584 \nQ 2894 3584 3203 3211 \nQ 3513 2838 3513 2113 \nz\n\" transform=\"scale(0.015625)\"/>\n       <path id=\"DejaVuSans-74\" d=\"M 1172 4494 \nL 1172 3500 \nL 2356 3500 \nL 2356 3053 \nL 1172 3053 \nL 1172 1153 \nQ 1172 725 1289 603 \nQ 1406 481 1766 481 \nL 2356 481 \nL 2356 0 \nL 1766 0 \nQ 1100 0 847 248 \nQ 594 497 594 1153 \nL 594 3053 \nL 172 3053 \nL 172 3500 \nL 594 3500 \nL 594 4494 \nL 1172 4494 \nz\n\" transform=\"scale(0.015625)\"/>\n       <path id=\"DejaVuSans-73\" d=\"M 2834 3397 \nL 2834 2853 \nQ 2591 2978 2328 3040 \nQ 2066 3103 1784 3103 \nQ 1356 3103 1142 2972 \nQ 928 2841 928 2578 \nQ 928 2378 1081 2264 \nQ 1234 2150 1697 2047 \nL 1894 2003 \nQ 2506 1872 2764 1633 \nQ 3022 1394 3022 966 \nQ 3022 478 2636 193 \nQ 2250 -91 1575 -91 \nQ 1294 -91 989 -36 \nQ 684 19 347 128 \nL 347 722 \nQ 666 556 975 473 \nQ 1284 391 1588 391 \nQ 1994 391 2212 530 \nQ 2431 669 2431 922 \nQ 2431 1156 2273 1281 \nQ 2116 1406 1581 1522 \nL 1381 1569 \nQ 847 1681 609 1914 \nQ 372 2147 372 2553 \nQ 372 3047 722 3315 \nQ 1072 3584 1716 3584 \nQ 2034 3584 2315 3537 \nQ 2597 3491 2834 3397 \nz\n\" transform=\"scale(0.015625)\"/>\n      </defs>\n      <use xlink:href=\"#DejaVuSans-47\"/>\n      <use xlink:href=\"#DejaVuSans-72\" x=\"77.490234\"/>\n      <use xlink:href=\"#DejaVuSans-6f\" x=\"116.353516\"/>\n      <use xlink:href=\"#DejaVuSans-75\" x=\"177.535156\"/>\n      <use xlink:href=\"#DejaVuSans-70\" x=\"240.914062\"/>\n      <use xlink:href=\"#DejaVuSans-20\" x=\"304.390625\"/>\n      <use xlink:href=\"#DejaVuSans-6f\" x=\"336.177734\"/>\n      <use xlink:href=\"#DejaVuSans-66\" x=\"397.359375\"/>\n      <use xlink:href=\"#DejaVuSans-20\" x=\"432.564453\"/>\n      <use xlink:href=\"#DejaVuSans-65\" x=\"464.351562\"/>\n      <use xlink:href=\"#DejaVuSans-78\" x=\"524.125\"/>\n      <use xlink:href=\"#DejaVuSans-70\" x=\"583.304688\"/>\n      <use xlink:href=\"#DejaVuSans-65\" x=\"646.78125\"/>\n      <use xlink:href=\"#DejaVuSans-72\" x=\"708.304688\"/>\n      <use xlink:href=\"#DejaVuSans-69\" x=\"749.417969\"/>\n      <use xlink:href=\"#DejaVuSans-6d\" x=\"777.201172\"/>\n      <use xlink:href=\"#DejaVuSans-65\" x=\"874.613281\"/>\n      <use xlink:href=\"#DejaVuSans-6e\" x=\"936.136719\"/>\n      <use xlink:href=\"#DejaVuSans-74\" x=\"999.515625\"/>\n      <use xlink:href=\"#DejaVuSans-73\" x=\"1038.724609\"/>\n     </g>\n    </g>\n   </g>\n   <g id=\"matplotlib.axis_2\">\n    <g id=\"ytick_1\">\n     <g id=\"line2d_7\">\n      <defs>\n       <path id=\"md3f2855ffc\" d=\"M 0 0 \nL -3.5 0 \n\" style=\"stroke: #000000; stroke-width: 0.8\"/>\n      </defs>\n      <g>\n       <use xlink:href=\"#md3f2855ffc\" x=\"43.78125\" y=\"240.700909\" style=\"stroke: #000000; stroke-width: 0.8\"/>\n      </g>\n     </g>\n     <g id=\"text_8\">\n      <!-- 0.0 -->\n      <g transform=\"translate(20.878125 244.500128)scale(0.1 -0.1)\">\n       <defs>\n        <path id=\"DejaVuSans-2e\" d=\"M 684 794 \nL 1344 794 \nL 1344 0 \nL 684 0 \nL 684 794 \nz\n\" transform=\"scale(0.015625)\"/>\n       </defs>\n       <use xlink:href=\"#DejaVuSans-30\"/>\n       <use xlink:href=\"#DejaVuSans-2e\" x=\"63.623047\"/>\n       <use xlink:href=\"#DejaVuSans-30\" x=\"95.410156\"/>\n      </g>\n     </g>\n    </g>\n    <g id=\"ytick_2\">\n     <g id=\"line2d_8\">\n      <g>\n       <use xlink:href=\"#md3f2855ffc\" x=\"43.78125\" y=\"203.637274\" style=\"stroke: #000000; stroke-width: 0.8\"/>\n      </g>\n     </g>\n     <g id=\"text_9\">\n      <!-- 0.1 -->\n      <g transform=\"translate(20.878125 207.436493)scale(0.1 -0.1)\">\n       <use xlink:href=\"#DejaVuSans-30\"/>\n       <use xlink:href=\"#DejaVuSans-2e\" x=\"63.623047\"/>\n       <use xlink:href=\"#DejaVuSans-31\" x=\"95.410156\"/>\n      </g>\n     </g>\n    </g>\n    <g id=\"ytick_3\">\n     <g id=\"line2d_9\">\n      <g>\n       <use xlink:href=\"#md3f2855ffc\" x=\"43.78125\" y=\"166.573639\" style=\"stroke: #000000; stroke-width: 0.8\"/>\n      </g>\n     </g>\n     <g id=\"text_10\">\n      <!-- 0.2 -->\n      <g transform=\"translate(20.878125 170.372858)scale(0.1 -0.1)\">\n       <use xlink:href=\"#DejaVuSans-30\"/>\n       <use xlink:href=\"#DejaVuSans-2e\" x=\"63.623047\"/>\n       <use xlink:href=\"#DejaVuSans-32\" x=\"95.410156\"/>\n      </g>\n     </g>\n    </g>\n    <g id=\"ytick_4\">\n     <g id=\"line2d_10\">\n      <g>\n       <use xlink:href=\"#md3f2855ffc\" x=\"43.78125\" y=\"129.510004\" style=\"stroke: #000000; stroke-width: 0.8\"/>\n      </g>\n     </g>\n     <g id=\"text_11\">\n      <!-- 0.3 -->\n      <g transform=\"translate(20.878125 133.309223)scale(0.1 -0.1)\">\n       <use xlink:href=\"#DejaVuSans-30\"/>\n       <use xlink:href=\"#DejaVuSans-2e\" x=\"63.623047\"/>\n       <use xlink:href=\"#DejaVuSans-33\" x=\"95.410156\"/>\n      </g>\n     </g>\n    </g>\n    <g id=\"ytick_5\">\n     <g id=\"line2d_11\">\n      <g>\n       <use xlink:href=\"#md3f2855ffc\" x=\"43.78125\" y=\"92.44637\" style=\"stroke: #000000; stroke-width: 0.8\"/>\n      </g>\n     </g>\n     <g id=\"text_12\">\n      <!-- 0.4 -->\n      <g transform=\"translate(20.878125 96.245588)scale(0.1 -0.1)\">\n       <use xlink:href=\"#DejaVuSans-30\"/>\n       <use xlink:href=\"#DejaVuSans-2e\" x=\"63.623047\"/>\n       <use xlink:href=\"#DejaVuSans-34\" x=\"95.410156\"/>\n      </g>\n     </g>\n    </g>\n    <g id=\"ytick_6\">\n     <g id=\"line2d_12\">\n      <g>\n       <use xlink:href=\"#md3f2855ffc\" x=\"43.78125\" y=\"55.382735\" style=\"stroke: #000000; stroke-width: 0.8\"/>\n      </g>\n     </g>\n     <g id=\"text_13\">\n      <!-- 0.5 -->\n      <g transform=\"translate(20.878125 59.181953)scale(0.1 -0.1)\">\n       <use xlink:href=\"#DejaVuSans-30\"/>\n       <use xlink:href=\"#DejaVuSans-2e\" x=\"63.623047\"/>\n       <use xlink:href=\"#DejaVuSans-35\" x=\"95.410156\"/>\n      </g>\n     </g>\n    </g>\n    <g id=\"ytick_7\">\n     <g id=\"line2d_13\">\n      <g>\n       <use xlink:href=\"#md3f2855ffc\" x=\"43.78125\" y=\"18.3191\" style=\"stroke: #000000; stroke-width: 0.8\"/>\n      </g>\n     </g>\n     <g id=\"text_14\">\n      <!-- 0.6 -->\n      <g transform=\"translate(20.878125 22.118318)scale(0.1 -0.1)\">\n       <defs>\n        <path id=\"DejaVuSans-36\" d=\"M 2113 2584 \nQ 1688 2584 1439 2293 \nQ 1191 2003 1191 1497 \nQ 1191 994 1439 701 \nQ 1688 409 2113 409 \nQ 2538 409 2786 701 \nQ 3034 994 3034 1497 \nQ 3034 2003 2786 2293 \nQ 2538 2584 2113 2584 \nz\nM 3366 4563 \nL 3366 3988 \nQ 3128 4100 2886 4159 \nQ 2644 4219 2406 4219 \nQ 1781 4219 1451 3797 \nQ 1122 3375 1075 2522 \nQ 1259 2794 1537 2939 \nQ 1816 3084 2150 3084 \nQ 2853 3084 3261 2657 \nQ 3669 2231 3669 1497 \nQ 3669 778 3244 343 \nQ 2819 -91 2113 -91 \nQ 1303 -91 875 529 \nQ 447 1150 447 2328 \nQ 447 3434 972 4092 \nQ 1497 4750 2381 4750 \nQ 2619 4750 2861 4703 \nQ 3103 4656 3366 4563 \nz\n\" transform=\"scale(0.015625)\"/>\n       </defs>\n       <use xlink:href=\"#DejaVuSans-30\"/>\n       <use xlink:href=\"#DejaVuSans-2e\" x=\"63.623047\"/>\n       <use xlink:href=\"#DejaVuSans-36\" x=\"95.410156\"/>\n      </g>\n     </g>\n    </g>\n    <g id=\"text_15\">\n     <!-- Estimated probability -->\n     <g transform=\"translate(14.798438 183.033437)rotate(-90)scale(0.1 -0.1)\">\n      <defs>\n       <path id=\"DejaVuSans-45\" d=\"M 628 4666 \nL 3578 4666 \nL 3578 4134 \nL 1259 4134 \nL 1259 2753 \nL 3481 2753 \nL 3481 2222 \nL 1259 2222 \nL 1259 531 \nL 3634 531 \nL 3634 0 \nL 628 0 \nL 628 4666 \nz\n\" transform=\"scale(0.015625)\"/>\n       <path id=\"DejaVuSans-61\" d=\"M 2194 1759 \nQ 1497 1759 1228 1600 \nQ 959 1441 959 1056 \nQ 959 750 1161 570 \nQ 1363 391 1709 391 \nQ 2188 391 2477 730 \nQ 2766 1069 2766 1631 \nL 2766 1759 \nL 2194 1759 \nz\nM 3341 1997 \nL 3341 0 \nL 2766 0 \nL 2766 531 \nQ 2569 213 2275 61 \nQ 1981 -91 1556 -91 \nQ 1019 -91 701 211 \nQ 384 513 384 1019 \nQ 384 1609 779 1909 \nQ 1175 2209 1959 2209 \nL 2766 2209 \nL 2766 2266 \nQ 2766 2663 2505 2880 \nQ 2244 3097 1772 3097 \nQ 1472 3097 1187 3025 \nQ 903 2953 641 2809 \nL 641 3341 \nQ 956 3463 1253 3523 \nQ 1550 3584 1831 3584 \nQ 2591 3584 2966 3190 \nQ 3341 2797 3341 1997 \nz\n\" transform=\"scale(0.015625)\"/>\n       <path id=\"DejaVuSans-64\" d=\"M 2906 2969 \nL 2906 4863 \nL 3481 4863 \nL 3481 0 \nL 2906 0 \nL 2906 525 \nQ 2725 213 2448 61 \nQ 2172 -91 1784 -91 \nQ 1150 -91 751 415 \nQ 353 922 353 1747 \nQ 353 2572 751 3078 \nQ 1150 3584 1784 3584 \nQ 2172 3584 2448 3432 \nQ 2725 3281 2906 2969 \nz\nM 947 1747 \nQ 947 1113 1208 752 \nQ 1469 391 1925 391 \nQ 2381 391 2643 752 \nQ 2906 1113 2906 1747 \nQ 2906 2381 2643 2742 \nQ 2381 3103 1925 3103 \nQ 1469 3103 1208 2742 \nQ 947 2381 947 1747 \nz\n\" transform=\"scale(0.015625)\"/>\n       <path id=\"DejaVuSans-62\" d=\"M 3116 1747 \nQ 3116 2381 2855 2742 \nQ 2594 3103 2138 3103 \nQ 1681 3103 1420 2742 \nQ 1159 2381 1159 1747 \nQ 1159 1113 1420 752 \nQ 1681 391 2138 391 \nQ 2594 391 2855 752 \nQ 3116 1113 3116 1747 \nz\nM 1159 2969 \nQ 1341 3281 1617 3432 \nQ 1894 3584 2278 3584 \nQ 2916 3584 3314 3078 \nQ 3713 2572 3713 1747 \nQ 3713 922 3314 415 \nQ 2916 -91 2278 -91 \nQ 1894 -91 1617 61 \nQ 1341 213 1159 525 \nL 1159 0 \nL 581 0 \nL 581 4863 \nL 1159 4863 \nL 1159 2969 \nz\n\" transform=\"scale(0.015625)\"/>\n       <path id=\"DejaVuSans-6c\" d=\"M 603 4863 \nL 1178 4863 \nL 1178 0 \nL 603 0 \nL 603 4863 \nz\n\" transform=\"scale(0.015625)\"/>\n       <path id=\"DejaVuSans-79\" d=\"M 2059 -325 \nQ 1816 -950 1584 -1140 \nQ 1353 -1331 966 -1331 \nL 506 -1331 \nL 506 -850 \nL 844 -850 \nQ 1081 -850 1212 -737 \nQ 1344 -625 1503 -206 \nL 1606 56 \nL 191 3500 \nL 800 3500 \nL 1894 763 \nL 2988 3500 \nL 3597 3500 \nL 2059 -325 \nz\n\" transform=\"scale(0.015625)\"/>\n      </defs>\n      <use xlink:href=\"#DejaVuSans-45\"/>\n      <use xlink:href=\"#DejaVuSans-73\" x=\"63.183594\"/>\n      <use xlink:href=\"#DejaVuSans-74\" x=\"115.283203\"/>\n      <use xlink:href=\"#DejaVuSans-69\" x=\"154.492188\"/>\n      <use xlink:href=\"#DejaVuSans-6d\" x=\"182.275391\"/>\n      <use xlink:href=\"#DejaVuSans-61\" x=\"279.6875\"/>\n      <use xlink:href=\"#DejaVuSans-74\" x=\"340.966797\"/>\n      <use xlink:href=\"#DejaVuSans-65\" x=\"380.175781\"/>\n      <use xlink:href=\"#DejaVuSans-64\" x=\"441.699219\"/>\n      <use xlink:href=\"#DejaVuSans-20\" x=\"505.175781\"/>\n      <use xlink:href=\"#DejaVuSans-70\" x=\"536.962891\"/>\n      <use xlink:href=\"#DejaVuSans-72\" x=\"600.439453\"/>\n      <use xlink:href=\"#DejaVuSans-6f\" x=\"639.302734\"/>\n      <use xlink:href=\"#DejaVuSans-62\" x=\"700.484375\"/>\n      <use xlink:href=\"#DejaVuSans-61\" x=\"763.960938\"/>\n      <use xlink:href=\"#DejaVuSans-62\" x=\"825.240234\"/>\n      <use xlink:href=\"#DejaVuSans-69\" x=\"888.716797\"/>\n      <use xlink:href=\"#DejaVuSans-6c\" x=\"916.5\"/>\n      <use xlink:href=\"#DejaVuSans-69\" x=\"944.283203\"/>\n      <use xlink:href=\"#DejaVuSans-74\" x=\"972.066406\"/>\n      <use xlink:href=\"#DejaVuSans-79\" x=\"1011.275391\"/>\n     </g>\n    </g>\n   </g>\n   <g id=\"line2d_14\">\n    <path d=\"M 58.999432 203.637274 \nL 59.609379 222.169091 \nL 60.219326 215.991818 \nL 60.829273 203.637274 \nL 61.43922 196.224548 \nL 62.049168 191.282727 \nL 62.659115 198.342469 \nL 63.269062 203.637274 \nL 63.879009 203.637274 \nL 65.098903 196.898432 \nL 66.318798 197.935176 \nL 66.928745 195.695067 \nL 67.538692 198.695455 \nL 68.148639 196.687843 \nL 69.368534 189.223636 \nL 69.978481 188.031532 \nL 70.588428 188.81182 \nL 71.198375 187.752857 \nL 71.808322 188.474878 \nL 73.028217 186.649777 \nL 73.638164 185.846729 \nL 74.248111 183.67993 \nL 74.858058 184.419095 \nL 75.468005 186.429158 \nL 76.077952 185.744483 \nL 76.6879 183.870001 \nL 77.297847 183.312055 \nL 79.127688 185.105455 \nL 80.347583 186.135003 \nL 80.95753 183.602875 \nL 81.567477 179.253305 \nL 82.177424 178.928182 \nL 83.397319 181.941489 \nL 84.007266 181.575585 \nL 85.837107 183.046364 \nL 86.447054 182.688264 \nL 87.057002 183.922574 \nL 87.666949 182.78898 \nL 88.276896 183.214454 \nL 88.886843 182.881637 \nL 89.49679 183.28861 \nL 90.106737 182.254406 \nL 90.716685 180.559916 \nL 91.326632 181.673639 \nL 91.936579 181.399095 \nL 92.546526 181.796203 \nL 93.76642 181.271289 \nL 94.376368 182.278569 \nL 94.986315 180.781368 \nL 96.206209 181.518655 \nL 96.816156 182.458052 \nL 97.426103 182.209858 \nL 98.036051 182.539515 \nL 98.645998 181.736036 \nL 99.255945 181.50973 \nL 99.865892 181.835134 \nL 100.475839 182.688264 \nL 101.085786 182.987534 \nL 101.695734 182.756356 \nL 102.915628 183.328436 \nL 103.525575 182.601156 \nL 104.135522 182.881637 \nL 104.745469 182.179383 \nL 105.355417 182.458052 \nL 105.965364 182.254406 \nL 106.575311 182.994239 \nL 107.185258 182.325685 \nL 107.795205 182.588791 \nL 108.405152 183.297474 \nL 109.0151 183.095982 \nL 109.625047 182.458052 \nL 110.234994 181.399095 \nL 110.844941 182.088647 \nL 111.454888 181.484297 \nL 112.674783 182.815009 \nL 113.894677 182.458052 \nL 115.114571 182.913521 \nL 115.724518 181.951104 \nL 116.334466 181.399095 \nL 117.55436 181.857612 \nL 118.164307 181.323453 \nL 118.774254 181.174467 \nL 119.384201 181.399095 \nL 119.994149 181.986241 \nL 120.604096 181.835134 \nL 121.214043 181.327126 \nL 121.82399 181.185264 \nL 122.433937 181.399095 \nL 123.043884 181.958543 \nL 123.653832 181.81476 \nL 124.263779 182.016821 \nL 124.873726 181.875142 \nL 125.483673 181.399095 \nL 127.313515 181.005499 \nL 127.923462 179.903545 \nL 128.533409 179.465341 \nL 129.143356 179.354203 \nL 129.753303 179.878532 \nL 131.583145 180.472505 \nL 132.193092 180.357634 \nL 132.803039 180.852255 \nL 133.412986 180.736168 \nL 134.632881 181.695603 \nL 136.462722 182.209858 \nL 137.072669 182.663278 \nL 137.682616 182.824619 \nL 138.292564 182.417636 \nL 140.732352 183.046364 \nL 141.342299 183.470297 \nL 141.952247 183.346965 \nL 142.562194 183.493996 \nL 143.172141 183.372265 \nL 143.782088 183.517015 \nL 144.392035 183.922574 \nL 145.001982 183.539389 \nL 145.61193 183.67993 \nL 146.221877 183.561138 \nL 146.831824 183.955209 \nL 147.441771 184.090012 \nL 148.661665 183.853305 \nL 149.271613 184.234834 \nL 151.101454 184.617776 \nL 151.711401 184.984332 \nL 152.321348 184.864783 \nL 152.931296 184.507655 \nL 153.541243 184.86787 \nL 155.371084 184.522693 \nL 156.590979 183.83931 \nL 157.200926 183.961516 \nL 158.42082 183.749469 \nL 159.030767 183.196118 \nL 160.250662 183.440921 \nL 161.470556 182.802687 \nL 162.080503 182.925241 \nL 162.69045 182.61287 \nL 163.300397 182.950597 \nL 163.910345 182.855928 \nL 164.520292 183.188374 \nL 165.740186 182.999568 \nL 166.350133 183.116168 \nL 166.96008 182.815009 \nL 167.570028 182.931333 \nL 168.179975 182.634548 \nL 168.789922 182.750584 \nL 169.399869 182.661699 \nL 170.009816 182.776321 \nL 170.619763 183.091127 \nL 171.229711 183.001844 \nL 171.839658 183.312055 \nL 172.449605 183.024344 \nL 173.059552 183.331136 \nL 173.669499 183.242471 \nL 174.279446 182.959665 \nL 174.889394 182.097677 \nL 175.499341 181.823779 \nL 177.939129 182.268953 \nL 178.549077 182.18928 \nL 180.988865 182.616107 \nL 181.598812 182.353205 \nL 182.20876 182.640634 \nL 184.038601 182.94641 \nL 185.258495 182.432597 \nL 186.47839 182.634548 \nL 187.088337 182.382775 \nL 187.698284 182.65786 \nL 188.308231 182.23433 \nL 190.138073 183.046364 \nL 192.577861 183.420745 \nL 193.187809 183.67993 \nL 194.407703 183.526515 \nL 195.01765 183.616295 \nL 195.627597 183.375822 \nL 196.847492 183.554334 \nL 197.457439 183.479857 \nL 198.677333 183.010553 \nL 199.897227 182.868857 \nL 200.507175 182.63985 \nL 202.946963 182.368691 \nL 203.55691 182.458052 \nL 204.166858 182.391595 \nL 204.776805 182.480116 \nL 205.996699 182.34866 \nL 206.606646 182.436264 \nL 207.216593 182.219352 \nL 207.826541 182.306774 \nL 208.436488 182.242819 \nL 209.046435 182.329435 \nL 209.656382 182.265905 \nL 210.876276 182.436877 \nL 211.486224 182.373673 \nL 212.096171 182.016821 \nL 212.706118 181.809281 \nL 213.316065 181.749302 \nL 213.926012 181.835134 \nL 214.535959 182.06508 \nL 215.145907 182.149018 \nL 216.365801 182.028745 \nL 217.585695 182.194328 \nL 218.195642 182.417636 \nL 218.80559 182.49832 \nL 219.415537 182.718783 \nL 220.025484 182.797722 \nL 221.245378 182.676191 \nL 222.465273 182.832036 \nL 223.07522 182.77182 \nL 226.734903 183.225417 \nL 227.954797 182.838973 \nL 228.564744 182.780679 \nL 229.174691 182.855166 \nL 229.784639 183.061022 \nL 230.394586 183.002556 \nL 231.004533 182.813534 \nL 231.61448 182.886857 \nL 232.834374 182.772781 \nL 233.444322 182.458052 \nL 234.664216 182.34813 \nL 235.274163 182.42154 \nL 235.88411 182.112346 \nL 236.494057 182.18606 \nL 237.104005 181.879781 \nL 237.713952 181.701656 \nL 239.543793 181.923224 \nL 240.763688 181.820554 \nL 241.373635 181.893274 \nL 241.983582 181.84238 \nL 242.593529 182.037273 \nL 243.813423 181.935541 \nL 244.423371 181.763651 \nL 245.033318 181.835134 \nL 245.643265 181.785422 \nL 246.253212 181.85637 \nL 246.863159 182.046805 \nL 248.083054 182.185651 \nL 248.693001 182.135614 \nL 249.302948 181.96748 \nL 249.912895 182.15453 \nL 251.132789 182.055918 \nL 251.742737 181.890159 \nL 252.352684 181.841993 \nL 252.962631 182.026503 \nL 253.572578 181.978211 \nL 254.792472 182.112743 \nL 256.012367 182.360004 \nL 256.622314 182.539515 \nL 257.232261 182.490538 \nL 258.452155 182.845479 \nL 259.062103 182.908678 \nL 259.67205 182.746862 \nL 260.281997 182.921949 \nL 261.501891 182.71246 \nL 262.721786 182.948023 \nL 263.331733 182.899289 \nL 263.94168 183.070808 \nL 268.21131 182.735109 \nL 268.821257 182.903127 \nL 270.651099 182.549346 \nL 271.261046 182.503567 \nL 271.870993 182.669845 \nL 273.090887 182.683685 \nL 273.700835 182.848042 \nL 274.920729 182.860755 \nL 277.360518 183.092254 \nL 277.970465 182.943411 \nL 279.190359 182.955357 \nL 280.410253 182.967171 \nL 281.020201 183.023803 \nL 281.630148 182.776321 \nL 282.240095 182.833163 \nL 284.069936 182.500987 \nL 285.899778 182.571614 \nL 286.509725 182.528839 \nL 287.729619 182.739693 \nL 288.949514 182.556106 \nL 289.559461 182.611727 \nL 290.779355 182.430261 \nL 291.389302 182.485777 \nL 292.609197 182.306382 \nL 294.439038 182.471738 \nL 295.048985 182.335239 \nL 295.658933 182.389999 \nL 296.26888 182.254406 \nL 298.098721 182.323326 \nL 301.758404 182.179383 \nL 302.978299 182.378832 \nL 305.418087 182.497276 \nL 307.857876 182.432161 \nL 308.467823 182.574282 \nL 309.07777 182.445173 \nL 310.907612 182.688264 \nL 311.517559 182.47081 \nL 312.127506 182.432597 \nL 314.567295 182.899289 \nL 316.397136 182.69588 \nL 317.007083 182.570443 \nL 317.617031 182.707224 \nL 318.226978 182.495343 \nL 318.836925 182.458052 \nL 319.446872 182.247745 \nL 320.666766 182.261039 \nL 321.276714 182.138646 \nL 323.716502 182.251131 \nL 324.936397 182.179383 \nL 326.156291 182.361567 \nL 327.376185 182.37401 \nL 329.815974 182.48185 \nL 331.645815 182.458052 \nL 333.475657 182.681117 \nL 334.085604 182.48148 \nL 334.695551 182.610004 \nL 337.13534 182.145234 \nL 338.355234 182.238881 \nL 338.965181 182.043679 \nL 340.795023 182.103542 \nL 343.234812 182.049887 \nL 346.284548 182.200044 \nL 346.894495 182.167006 \nL 348.724336 182.458052 \nL 349.334283 182.424755 \nL 349.944231 182.158975 \nL 350.554178 182.049058 \nL 351.774072 182.215878 \nL 352.384019 182.337216 \nL 353.603914 182.195504 \nL 354.823808 182.360004 \nL 357.873544 182.27473 \nL 359.093438 182.436574 \nL 359.703385 182.479492 \nL 360.92328 182.34063 \nL 363.363068 182.436877 \nL 363.363068 182.436877 \n\" clip-path=\"url(#pebacf1545d)\" style=\"fill: none; stroke: #1f77b4; stroke-width: 1.5; stroke-linecap: square\"/>\n   </g>\n   <g id=\"line2d_15\">\n    <path d=\"M 58.999432 18.319091 \nL 59.609379 92.446367 \nL 60.219326 117.155456 \nL 60.829273 148.041822 \nL 61.43922 144.335462 \nL 62.049168 148.041822 \nL 62.659115 145.394414 \nL 63.269062 143.408872 \nL 63.879009 150.100913 \nL 65.098903 159.834796 \nL 65.708851 154.219094 \nL 66.928745 161.278834 \nL 67.538692 156.690001 \nL 68.148639 157.307733 \nL 68.758586 162.213211 \nL 70.588428 162.867278 \nL 71.198375 159.513899 \nL 71.808322 158.150087 \nL 72.418269 160.127792 \nL 73.028217 158.852049 \nL 73.638164 156.195821 \nL 74.248111 159.446017 \nL 75.468005 157.307733 \nL 76.077952 157.627244 \nL 76.6879 160.396366 \nL 77.297847 159.400033 \nL 77.907794 160.782445 \nL 78.517741 163.20422 \nL 79.127688 164.393425 \nL 79.737635 162.337797 \nL 80.347583 162.455457 \nL 80.95753 163.568478 \nL 81.567477 165.598281 \nL 82.177424 163.72259 \nL 82.787371 164.720458 \nL 83.397319 162.957677 \nL 84.007266 163.043768 \nL 84.617213 164.84975 \nL 85.22716 164.888929 \nL 85.837107 164.102732 \nL 87.057002 165.785049 \nL 88.886843 165.832364 \nL 89.49679 166.573638 \nL 90.106737 165.860879 \nL 90.716685 166.573638 \nL 91.326632 165.200913 \nL 91.936579 164.551987 \nL 92.546526 163.264387 \nL 93.156473 163.322444 \nL 93.76642 164.656553 \nL 94.376368 164.060851 \nL 94.986315 165.338185 \nL 95.596262 165.966041 \nL 96.206209 165.378038 \nL 96.816156 165.985327 \nL 98.036051 164.86301 \nL 98.645998 166.012069 \nL 100.475839 166.036485 \nL 101.085786 165.514681 \nL 101.695734 166.051618 \nL 102.915628 166.065917 \nL 103.525575 165.57192 \nL 104.135522 165.585274 \nL 104.745469 166.08596 \nL 105.355417 165.610945 \nL 105.965364 165.623289 \nL 107.185258 166.573638 \nL 107.795205 166.116065 \nL 108.405152 166.121643 \nL 109.0151 166.573638 \nL 109.625047 167.456106 \nL 110.234994 167.881768 \nL 110.844941 167.004613 \nL 111.454888 167.851695 \nL 112.064835 167.415993 \nL 113.894677 168.610102 \nL 115.114571 167.769238 \nL 115.724518 167.756519 \nL 116.334466 167.353926 \nL 116.944413 167.345797 \nL 117.55436 166.573638 \nL 118.164307 167.33004 \nL 118.774254 166.94802 \nL 119.384201 166.944275 \nL 119.994149 166.573638 \nL 120.604096 166.573638 \nL 121.214043 167.293323 \nL 121.82399 167.286403 \nL 122.433937 166.926624 \nL 123.043884 167.272955 \nL 123.653832 167.959193 \nL 124.263779 168.289546 \nL 124.873726 167.253707 \nL 125.483673 167.921405 \nL 126.09362 167.575362 \nL 127.313515 168.869618 \nL 129.753303 168.791121 \nL 130.36325 169.400524 \nL 130.973198 169.37677 \nL 131.583145 169.04455 \nL 132.193092 169.330438 \nL 132.803039 169.307844 \nL 134.022933 169.861544 \nL 134.632881 169.835238 \nL 135.242828 170.103508 \nL 135.852775 169.783875 \nL 136.462722 169.758795 \nL 137.682616 170.280004 \nL 138.292564 169.968782 \nL 138.902511 170.504632 \nL 140.122405 170.445962 \nL 140.732352 170.69182 \nL 141.342299 170.661537 \nL 142.562194 169.527987 \nL 144.392035 170.253715 \nL 145.61193 171.238991 \nL 146.221877 171.463978 \nL 146.831824 171.174644 \nL 148.051718 171.112041 \nL 148.661665 171.331809 \nL 149.271613 171.299876 \nL 149.88156 171.515457 \nL 151.101454 171.450436 \nL 151.711401 171.660803 \nL 152.321348 171.627771 \nL 152.931296 171.834284 \nL 153.541243 172.275736 \nL 154.15119 172.475494 \nL 154.761137 172.438137 \nL 156.590979 173.01949 \nL 157.200926 172.979697 \nL 157.810873 172.713012 \nL 158.42082 172.675578 \nL 159.030767 173.087852 \nL 159.640714 173.271887 \nL 162.080503 174.858454 \nL 162.69045 175.026748 \nL 163.300397 174.762117 \nL 163.910345 174.929025 \nL 164.520292 174.454988 \nL 165.740186 175.207783 \nL 166.350133 174.949604 \nL 166.96008 175.110768 \nL 167.570028 174.856018 \nL 168.179975 175.221822 \nL 168.789922 175.378811 \nL 169.399869 175.126784 \nL 170.009816 175.080049 \nL 170.619763 175.235249 \nL 171.839658 174.743582 \nL 173.059552 174.656668 \nL 173.669499 174.417797 \nL 174.279446 174.376508 \nL 174.889394 174.723755 \nL 176.109288 175.023379 \nL 177.329182 174.936713 \nL 178.549077 175.228091 \nL 179.159024 174.997195 \nL 180.378918 175.283596 \nL 180.988865 174.871466 \nL 183.428654 175.432754 \nL 185.258495 175.304975 \nL 186.47839 175.927794 \nL 187.088337 176.059118 \nL 187.698284 175.839549 \nL 188.308231 175.970056 \nL 188.918178 175.75295 \nL 189.528126 175.710258 \nL 191.357967 176.094575 \nL 191.967914 175.88186 \nL 193.797756 176.256932 \nL 194.407703 176.213511 \nL 195.627597 176.457276 \nL 196.237544 176.085545 \nL 196.847492 175.880369 \nL 197.457439 176.002111 \nL 198.067386 176.284635 \nL 198.677333 176.40356 \nL 199.28728 176.361006 \nL 200.507175 176.595139 \nL 201.117122 176.869092 \nL 202.337016 176.781846 \nL 202.946963 176.89516 \nL 203.55691 176.696059 \nL 205.386752 177.031427 \nL 205.996699 176.988215 \nL 206.606646 177.097884 \nL 207.216593 176.902848 \nL 208.436488 177.120202 \nL 209.046435 177.077504 \nL 209.656382 177.334049 \nL 210.266329 177.290832 \nL 210.876276 177.099712 \nL 211.486224 177.205437 \nL 212.096171 177.457403 \nL 212.706118 177.414385 \nL 213.316065 177.517625 \nL 213.926012 177.32936 \nL 214.535959 177.432125 \nL 215.145907 177.389875 \nL 215.755854 177.635269 \nL 216.365801 177.735659 \nL 216.975748 177.977833 \nL 217.585695 178.076146 \nL 218.195642 178.032245 \nL 219.415537 177.664651 \nL 220.025484 177.622798 \nL 220.635431 177.720598 \nL 221.245378 177.540032 \nL 221.855325 177.499112 \nL 222.465273 177.596283 \nL 223.07522 177.830001 \nL 223.685167 177.925233 \nL 224.295114 177.883496 \nL 224.905061 177.706304 \nL 225.515008 177.800945 \nL 226.734903 177.719587 \nL 227.954797 177.906046 \nL 228.564744 177.732582 \nL 229.174691 177.692729 \nL 229.784639 177.521259 \nL 230.394586 177.088147 \nL 231.004533 177.312924 \nL 231.61448 177.405615 \nL 232.834374 177.329868 \nL 234.054269 177.769945 \nL 234.664216 177.731202 \nL 235.274163 177.564923 \nL 235.88411 177.781885 \nL 236.494057 177.870434 \nL 237.713952 177.793583 \nL 238.323899 177.629912 \nL 238.933846 177.59256 \nL 239.543793 177.305871 \nL 240.15374 177.394232 \nL 240.763688 177.110123 \nL 241.373635 176.951455 \nL 242.593529 176.882728 \nL 243.203476 177.09335 \nL 243.813423 177.058749 \nL 246.253212 177.403919 \nL 247.473106 177.812289 \nL 248.083054 177.776153 \nL 249.912895 178.023231 \nL 251.742737 177.914877 \nL 252.352684 178.112316 \nL 253.572578 178.040203 \nL 254.182525 178.119943 \nL 255.40242 178.048449 \nL 256.622314 177.749753 \nL 261.501891 177.481257 \nL 262.111838 177.559566 \nL 262.721786 177.305496 \nL 263.331733 177.383866 \nL 264.551627 177.210242 \nL 265.161574 177.397535 \nL 266.381469 177.007976 \nL 266.991416 177.194215 \nL 268.21131 177.024722 \nL 270.041152 177.254801 \nL 272.48094 176.7107 \nL 274.310782 176.834192 \nL 274.920729 176.700886 \nL 276.140623 176.955608 \nL 279.190359 176.914601 \nL 279.800306 176.988215 \nL 280.410253 176.755955 \nL 283.459989 177.019757 \nL 284.679884 176.963445 \nL 285.899778 177.205835 \nL 288.339567 176.798089 \nL 289.559461 176.939724 \nL 290.169408 176.814906 \nL 292.609197 177.383866 \nL 299.928563 177.149877 \nL 301.148457 177.189857 \nL 303.588246 176.992026 \nL 304.80814 176.848707 \nL 306.637982 176.864033 \nL 307.857876 176.994953 \nL 308.467823 176.69834 \nL 310.297665 176.445308 \nL 313.3474 176.681904 \nL 313.957348 176.569319 \nL 314.567295 176.633771 \nL 315.177242 176.433798 \nL 317.617031 176.777041 \nL 318.836925 177.076449 \nL 319.446872 177.051911 \nL 320.056819 177.200273 \nL 320.666766 177.089368 \nL 321.886661 177.126482 \nL 323.106555 177.077847 \nL 323.716502 176.883297 \nL 324.326449 177.029665 \nL 326.156291 176.958209 \nL 326.766238 177.103081 \nL 328.59608 177.031775 \nL 329.206027 177.175177 \nL 330.425921 177.044533 \nL 336.525393 177.708983 \nL 337.745287 177.984057 \nL 338.965181 177.853877 \nL 341.40497 177.516996 \nL 342.624865 177.549564 \nL 343.844759 177.502658 \nL 345.6746 177.826505 \nL 348.114389 177.653715 \nL 349.334283 177.374151 \nL 349.944231 177.351557 \nL 351.164125 177.538297 \nL 351.774072 177.59256 \nL 352.384019 177.4928 \nL 354.213861 177.654522 \nL 354.823808 177.479197 \nL 355.433755 177.532907 \nL 356.653649 177.412287 \nL 360.313332 177.730169 \nL 360.92328 177.632949 \nL 361.533227 177.685273 \nL 362.753121 177.566459 \nL 363.363068 177.544478 \nL 363.363068 177.544478 \n\" clip-path=\"url(#pebacf1545d)\" style=\"fill: none; stroke: #ff7f0e; stroke-width: 1.5; stroke-linecap: square\"/>\n   </g>\n   <g id=\"line2d_16\">\n    <path d=\"M 58.999432 166.573638 \nL 59.609379 148.041822 \nL 60.219326 141.864544 \nL 60.829273 157.307733 \nL 61.43922 166.573638 \nL 62.049168 172.75091 \nL 62.659115 177.163248 \nL 63.269062 175.839549 \nL 63.879009 170.69182 \nL 64.488956 166.573638 \nL 65.098903 166.573638 \nL 65.708851 163.485005 \nL 66.318798 158.020492 \nL 66.928745 158.631431 \nL 67.538692 156.690001 \nL 68.148639 159.624208 \nL 68.758586 160.032997 \nL 69.368534 162.455457 \nL 70.588428 159.160913 \nL 71.198375 161.278834 \nL 71.808322 158.150087 \nL 72.418269 156.904864 \nL 73.638164 163.608547 \nL 74.248111 165.148114 \nL 74.858058 163.828188 \nL 75.468005 161.278834 \nL 76.6879 166.573638 \nL 77.297847 168.964844 \nL 77.907794 168.890119 \nL 78.517741 166.573638 \nL 79.127688 167.663745 \nL 79.737635 169.750522 \nL 80.347583 170.69182 \nL 80.95753 169.578798 \nL 82.177424 171.325386 \nL 82.787371 168.426824 \nL 83.397319 167.477628 \nL 84.617213 169.159477 \nL 85.837107 172.339094 \nL 86.447054 172.213757 \nL 87.057002 171.305167 \nL 87.666949 171.206594 \nL 88.276896 169.599244 \nL 88.886843 171.021278 \nL 89.49679 171.660803 \nL 90.106737 171.562976 \nL 90.716685 172.168149 \nL 91.936579 171.964713 \nL 92.546526 172.530298 \nL 93.156473 171.125313 \nL 93.76642 171.685866 \nL 94.376368 170.971019 \nL 95.596262 173.257245 \nL 96.206209 173.149444 \nL 96.816156 174.221689 \nL 97.426103 174.681312 \nL 98.645998 176.681904 \nL 99.255945 177.08422 \nL 99.865892 176.3846 \nL 100.475839 176.242412 \nL 101.085786 176.633771 \nL 101.695734 175.970056 \nL 102.305681 175.839549 \nL 102.915628 176.728059 \nL 104.135522 177.44564 \nL 104.745469 178.277942 \nL 105.965364 177.977833 \nL 106.575311 177.36432 \nL 107.185258 177.229434 \nL 107.795205 176.182732 \nL 109.625047 175.839549 \nL 110.234994 176.166583 \nL 111.454888 175.946053 \nL 112.064835 174.997195 \nL 112.674783 174.902548 \nL 113.28473 175.221822 \nL 114.504624 175.033817 \nL 115.114571 174.544316 \nL 115.724518 173.670934 \nL 116.334466 173.596225 \nL 116.944413 173.909148 \nL 118.774254 173.686862 \nL 119.384201 174.357001 \nL 119.994149 174.646904 \nL 121.214043 173.770462 \nL 122.433937 174.339355 \nL 123.043884 174.266094 \nL 124.263779 175.496366 \nL 125.483673 176.00802 \nL 126.09362 175.589118 \nL 126.703567 175.508622 \nL 127.313515 175.75755 \nL 127.923462 175.676988 \nL 129.143356 176.798089 \nL 130.973198 176.540329 \nL 131.583145 176.148412 \nL 132.193092 176.375592 \nL 133.412986 177.421532 \nL 134.022933 177.334049 \nL 134.632881 176.951455 \nL 135.242828 177.163248 \nL 135.852775 177.079868 \nL 136.462722 177.287347 \nL 137.072669 177.204294 \nL 138.292564 177.607853 \nL 138.902511 177.524258 \nL 139.512458 177.720598 \nL 140.122405 177.637412 \nL 140.732352 177.006364 \nL 142.562194 176.779565 \nL 145.001982 177.536121 \nL 145.61193 177.459463 \nL 146.221877 177.89864 \nL 146.831824 178.076146 \nL 147.441771 177.997362 \nL 148.051718 178.171781 \nL 148.661665 178.594278 \nL 149.88156 177.939819 \nL 150.491507 178.110002 \nL 151.101454 178.034106 \nL 151.711401 177.716953 \nL 152.931296 178.051409 \nL 153.541243 177.502658 \nL 154.15119 177.433047 \nL 155.371084 178.228871 \nL 156.590979 178.084083 \nL 157.200926 178.241823 \nL 157.810873 177.942851 \nL 158.42082 177.873527 \nL 159.030767 178.254299 \nL 160.250662 177.670538 \nL 160.860609 177.604484 \nL 161.470556 177.319899 \nL 163.910345 177.928392 \nL 164.520292 177.863139 \nL 165.130239 178.010418 \nL 166.350133 177.462391 \nL 166.96008 177.401219 \nL 168.179975 177.692729 \nL 168.789922 177.426525 \nL 170.009816 177.307915 \nL 170.619763 177.048145 \nL 171.229711 177.191867 \nL 171.839658 177.134782 \nL 172.449605 176.880104 \nL 173.669499 176.771043 \nL 175.499341 177.190829 \nL 176.109288 176.943778 \nL 176.719235 177.272419 \nL 178.549077 177.109493 \nL 179.159024 177.430661 \nL 179.768971 177.189857 \nL 180.988865 177.08422 \nL 181.598812 176.848707 \nL 182.818707 176.747969 \nL 184.648548 177.137671 \nL 185.258495 177.443265 \nL 185.868443 177.213915 \nL 186.47839 177.339743 \nL 187.088337 177.640035 \nL 187.698284 177.413005 \nL 188.308231 177.014101 \nL 188.918178 176.792119 \nL 189.528126 177.089368 \nL 190.138073 176.6975 \nL 191.357967 176.944656 \nL 193.187809 176.803872 \nL 193.797756 176.423884 \nL 195.01765 176.666859 \nL 195.627597 176.457276 \nL 196.847492 176.370196 \nL 197.457439 176.164666 \nL 198.067386 176.122786 \nL 198.677333 176.242412 \nL 201.117122 176.077134 \nL 203.55691 176.540329 \nL 204.166858 176.498631 \nL 204.776805 176.766139 \nL 205.386752 176.723845 \nL 205.996699 176.83506 \nL 206.606646 177.097884 \nL 207.216593 177.206647 \nL 207.826541 176.55813 \nL 208.436488 176.366877 \nL 209.046435 176.627337 \nL 210.266329 176.844283 \nL 210.876276 176.654946 \nL 211.486224 176.91011 \nL 212.096171 176.869092 \nL 212.706118 176.974894 \nL 213.316065 176.642106 \nL 214.535959 176.563448 \nL 215.755854 176.773324 \nL 216.365801 176.733941 \nL 216.975748 176.837418 \nL 217.585695 176.798089 \nL 218.195642 176.6176 \nL 218.80559 176.579409 \nL 219.415537 176.120334 \nL 220.025484 176.364032 \nL 220.635431 176.466565 \nL 221.245378 176.429512 \nL 222.465273 176.907366 \nL 223.07522 176.73182 \nL 223.685167 176.831105 \nL 224.295114 176.657128 \nL 224.905061 176.755955 \nL 225.515008 176.583524 \nL 226.124956 176.547128 \nL 226.734903 176.645281 \nL 227.34485 176.608918 \nL 228.564744 177.068358 \nL 229.174691 176.898507 \nL 229.784639 177.125565 \nL 230.394586 177.088147 \nL 231.004533 177.181959 \nL 231.61448 177.014101 \nL 232.224427 177.107516 \nL 232.834374 177.070684 \nL 233.444322 176.904969 \nL 234.054269 176.997787 \nL 234.664216 177.218212 \nL 235.274163 177.309312 \nL 235.88411 177.527152 \nL 236.494057 177.489641 \nL 237.104005 177.57888 \nL 238.933846 177.467345 \nL 240.15374 177.642979 \nL 240.763688 177.853877 \nL 241.373635 177.939819 \nL 241.983582 177.532653 \nL 242.593529 177.619092 \nL 243.203476 177.460319 \nL 243.813423 177.424503 \nL 245.033318 177.59583 \nL 245.643265 177.801387 \nL 246.863159 177.368871 \nL 248.083054 177.5378 \nL 248.693001 177.740248 \nL 249.302948 177.70457 \nL 249.912895 177.433047 \nL 250.522842 177.398573 \nL 251.132789 177.5989 \nL 251.742737 177.564117 \nL 252.352684 177.179899 \nL 252.962631 177.146651 \nL 253.572578 177.229434 \nL 254.182525 177.080774 \nL 254.792472 177.048145 \nL 256.012367 177.326671 \nL 256.622314 177.407625 \nL 257.232261 177.601778 \nL 257.842208 177.454708 \nL 258.452155 177.64753 \nL 259.062103 177.613873 \nL 260.281997 177.43519 \nL 261.501891 177.481257 \nL 262.721786 177.305496 \nL 263.331733 177.494175 \nL 265.771521 177.474707 \nL 266.381469 177.660122 \nL 266.991416 177.519332 \nL 267.601363 177.703537 \nL 270.651099 177.650125 \nL 271.261046 177.724591 \nL 272.48094 177.555457 \nL 273.090887 177.524258 \nL 274.310782 177.77649 \nL 277.360518 177.723702 \nL 277.970465 177.89864 \nL 279.800306 177.600839 \nL 280.410253 177.774187 \nL 283.459989 177.722862 \nL 285.899778 178.298863 \nL 286.509725 178.366613 \nL 288.339567 177.977833 \nL 291.389302 178.216666 \nL 292.609197 178.059506 \nL 293.219144 178.125941 \nL 293.829091 177.999991 \nL 295.048985 178.227667 \nL 296.26888 178.262942 \nL 297.488774 178.486951 \nL 300.53851 178.897066 \nL 301.758404 179.113968 \nL 302.978299 178.774137 \nL 308.467823 178.596719 \nL 315.787189 179.396603 \nL 316.397136 179.541529 \nL 318.226978 179.363206 \nL 319.446872 178.957051 \nL 320.056819 178.928182 \nL 321.276714 179.214833 \nL 323.106555 179.21285 \nL 324.326449 179.239879 \nL 326.156291 179.237753 \nL 327.986132 179.319503 \nL 331.035868 179.25985 \nL 331.645815 179.314262 \nL 332.255763 179.120794 \nL 333.475657 179.147332 \nL 334.085604 179.119518 \nL 334.695551 179.255459 \nL 338.965181 179.143046 \nL 340.185076 179.24908 \nL 340.795023 179.061605 \nL 343.844759 179.244966 \nL 344.454706 179.217948 \nL 345.064653 178.87561 \nL 345.6746 178.849492 \nL 346.894495 179.032665 \nL 354.823808 178.699396 \nL 356.043702 178.877548 \nL 357.873544 178.802376 \nL 358.483491 178.626852 \nL 360.313332 178.553806 \nL 361.533227 178.729319 \nL 363.363068 178.80464 \nL 363.363068 178.80464 \n\" clip-path=\"url(#pebacf1545d)\" style=\"fill: none; stroke: #2ca02c; stroke-width: 1.5; stroke-linecap: square\"/>\n   </g>\n   <g id=\"line2d_17\">\n    <path d=\"M 58.999432 240.700909 \nL 59.609379 166.573638 \nL 60.219326 178.928182 \nL 60.829273 166.573638 \nL 61.43922 173.986364 \nL 62.049168 172.75091 \nL 62.659115 182.458052 \nL 63.269062 180.472505 \nL 63.879009 178.928182 \nL 64.488956 181.399095 \nL 65.098903 180.051327 \nL 65.708851 185.105455 \nL 66.318798 183.67993 \nL 67.538692 186.340913 \nL 68.148639 185.105455 \nL 68.758586 186.195561 \nL 69.368534 183.046364 \nL 69.978481 184.130097 \nL 70.588428 179.545909 \nL 71.808322 185.105455 \nL 72.418269 185.911187 \nL 73.028217 185.105455 \nL 73.638164 185.846729 \nL 74.248111 185.105455 \nL 75.468005 186.429158 \nL 77.297847 184.507655 \nL 77.907794 182.78898 \nL 78.517741 182.297606 \nL 79.737635 183.517015 \nL 80.347583 180.987273 \nL 82.177424 182.729581 \nL 82.787371 182.325685 \nL 83.397319 182.845479 \nL 84.007266 184.222987 \nL 84.617213 183.812541 \nL 86.447054 180.271067 \nL 87.057002 179.979634 \nL 87.666949 181.244663 \nL 88.886843 180.65782 \nL 89.49679 178.928182 \nL 90.716685 179.860605 \nL 91.326632 179.614548 \nL 91.936579 178.703555 \nL 93.156473 179.578422 \nL 94.376368 179.137584 \nL 95.596262 177.510451 \nL 96.206209 177.931849 \nL 97.426103 177.576908 \nL 98.036051 177.977833 \nL 98.645998 177.243473 \nL 99.255945 177.08422 \nL 99.865892 176.3846 \nL 100.475839 176.242412 \nL 102.915628 177.743501 \nL 104.135522 177.44564 \nL 104.745469 176.814906 \nL 105.355417 176.681904 \nL 105.965364 176.077134 \nL 107.795205 178.470609 \nL 108.405152 178.325522 \nL 109.625047 178.928182 \nL 110.234994 178.782836 \nL 110.844941 179.071844 \nL 112.064835 180.472505 \nL 112.674783 179.899889 \nL 113.28473 180.163641 \nL 113.894677 179.607004 \nL 114.504624 180.271067 \nL 115.114571 180.522321 \nL 115.724518 181.162515 \nL 116.944413 181.630742 \nL 117.55436 181.475515 \nL 118.164307 181.701656 \nL 118.774254 182.297606 \nL 119.384201 181.769732 \nL 119.994149 181.619271 \nL 120.604096 182.198503 \nL 122.433937 180.693117 \nL 123.043884 180.909571 \nL 123.653832 180.429205 \nL 124.263779 179.614548 \nL 125.483673 180.051327 \nL 126.09362 179.929906 \nL 127.313515 178.381525 \nL 127.923462 178.603065 \nL 129.143356 177.756635 \nL 129.753303 177.66105 \nL 130.36325 177.881187 \nL 130.973198 177.163248 \nL 131.583145 177.383866 \nL 132.193092 177.907145 \nL 132.803039 177.510451 \nL 133.412986 176.818872 \nL 134.022933 177.035149 \nL 134.632881 176.654946 \nL 135.242828 176.574936 \nL 135.852775 176.788026 \nL 137.682616 175.696997 \nL 140.122405 176.531034 \nL 141.342299 176.3846 \nL 141.952247 176.583524 \nL 142.562194 177.048145 \nL 143.172141 177.239436 \nL 143.782088 176.633771 \nL 144.392035 175.773832 \nL 146.831824 174.497586 \nL 147.441771 174.697173 \nL 148.051718 174.389779 \nL 148.661665 174.336969 \nL 149.271613 173.787368 \nL 149.88156 173.739274 \nL 150.491507 172.955457 \nL 152.931296 173.747244 \nL 153.541243 173.463675 \nL 154.15119 173.655862 \nL 154.761137 173.141877 \nL 155.371084 172.867466 \nL 156.590979 173.249696 \nL 157.200926 172.75091 \nL 157.810873 173.167785 \nL 159.030767 173.537108 \nL 159.640714 173.495161 \nL 160.250662 173.231779 \nL 160.860609 173.192147 \nL 161.470556 173.591608 \nL 162.080503 173.550324 \nL 162.69045 173.726273 \nL 163.300397 173.469198 \nL 163.910345 173.000861 \nL 164.520292 173.176931 \nL 165.130239 173.562784 \nL 165.740186 173.523069 \nL 166.96008 174.277879 \nL 167.570028 174.441899 \nL 168.179975 173.780458 \nL 168.789922 173.740638 \nL 169.399869 173.904906 \nL 170.619763 173.825222 \nL 171.229711 173.585676 \nL 171.839658 173.149444 \nL 173.059552 173.473782 \nL 173.669499 173.437276 \nL 174.279446 173.791294 \nL 175.499341 174.10219 \nL 176.719235 174.024577 \nL 177.329182 173.796298 \nL 177.939129 173.948548 \nL 179.159024 174.622813 \nL 179.768971 174.209865 \nL 180.988865 174.133881 \nL 181.598812 174.27994 \nL 182.20876 174.241975 \nL 182.818707 174.386073 \nL 183.428654 174.347965 \nL 184.038601 174.130302 \nL 184.648548 174.093795 \nL 185.258495 173.879451 \nL 185.868443 173.844497 \nL 186.47839 173.633378 \nL 187.088337 173.59992 \nL 188.308231 173.881964 \nL 188.918178 174.194202 \nL 189.528126 173.813977 \nL 190.138073 173.608867 \nL 193.187809 173.449697 \nL 193.797756 173.251772 \nL 194.407703 173.554234 \nL 195.01765 173.357608 \nL 195.627597 173.492185 \nL 196.237544 173.789566 \nL 196.847492 173.757781 \nL 197.457439 174.05139 \nL 198.677333 174.308659 \nL 199.28728 174.596071 \nL 199.897227 174.561492 \nL 201.117122 174.810001 \nL 201.727069 175.090388 \nL 202.337016 175.211351 \nL 204.166858 175.102925 \nL 204.776805 174.604096 \nL 205.386752 174.41698 \nL 207.216593 174.776245 \nL 207.826541 175.045327 \nL 208.436488 174.860226 \nL 209.656382 175.391199 \nL 210.266329 175.355786 \nL 210.876276 175.617164 \nL 211.486224 175.433472 \nL 212.096171 175.545393 \nL 212.706118 175.509931 \nL 213.926012 175.730538 \nL 214.535959 175.549988 \nL 215.145907 175.515061 \nL 216.365801 176.018425 \nL 216.975748 176.124653 \nL 217.585695 175.804048 \nL 218.195642 176.051745 \nL 218.80559 175.87478 \nL 219.415537 175.979942 \nL 220.025484 175.944446 \nL 220.635431 175.63054 \nL 221.855325 175.839549 \nL 222.465273 175.529537 \nL 223.07522 175.633638 \nL 223.685167 175.463439 \nL 224.295114 175.43076 \nL 224.905061 175.534077 \nL 226.124956 176.00802 \nL 226.734903 176.108123 \nL 227.34485 176.073704 \nL 228.564744 176.271292 \nL 229.784639 176.202272 \nL 230.394586 176.299558 \nL 231.004533 176.134224 \nL 231.61448 176.231063 \nL 232.224427 176.19718 \nL 232.834374 176.422719 \nL 233.444322 176.259257 \nL 234.054269 176.225628 \nL 234.664216 176.320479 \nL 235.274163 176.286866 \nL 235.88411 176.380855 \nL 236.494057 176.220337 \nL 237.104005 176.440409 \nL 238.323899 176.624797 \nL 238.933846 176.841267 \nL 239.543793 176.93149 \nL 240.15374 176.772358 \nL 240.763688 176.862205 \nL 241.373635 176.704365 \nL 241.983582 176.916981 \nL 243.813423 177.180667 \nL 245.643265 176.714831 \nL 246.253212 176.802242 \nL 246.863159 176.769138 \nL 247.473106 176.616689 \nL 248.083054 176.70357 \nL 248.693001 176.552309 \nL 249.302948 176.638842 \nL 249.912895 176.606787 \nL 250.522842 176.339616 \nL 251.132789 176.308709 \nL 251.742737 176.161077 \nL 252.352684 176.364032 \nL 252.962631 176.217156 \nL 253.572578 176.302844 \nL 254.182525 176.157072 \nL 254.792472 176.242412 \nL 255.40242 175.868235 \nL 256.012367 175.725153 \nL 257.232261 175.669007 \nL 258.452155 175.274555 \nL 259.062103 175.360762 \nL 260.281997 175.307671 \nL 260.891944 175.504634 \nL 261.501891 175.255214 \nL 263.94168 175.152168 \nL 264.551627 175.346099 \nL 266.381469 175.377613 \nL 271.870993 176.210186 \nL 272.48094 176.393917 \nL 273.090887 176.366021 \nL 273.700835 176.128287 \nL 275.530676 176.464218 \nL 276.140623 176.644149 \nL 276.75057 176.512494 \nL 281.020201 176.931147 \nL 282.240095 176.975695 \nL 282.850042 177.048145 \nL 285.899778 176.311537 \nL 288.339567 176.896403 \nL 289.559461 176.84193 \nL 290.169408 177.009981 \nL 290.779355 176.788026 \nL 291.99925 176.928231 \nL 293.219144 176.681904 \nL 293.829091 176.751735 \nL 294.439038 176.533895 \nL 296.26888 176.362243 \nL 297.488774 176.1232 \nL 298.708668 176.168792 \nL 300.53851 176.002928 \nL 301.148457 175.886113 \nL 302.978299 176.001299 \nL 303.588246 175.977843 \nL 304.198193 176.138449 \nL 304.80814 176.023031 \nL 306.028034 176.250354 \nL 306.637982 176.31764 \nL 309.07777 175.862094 \nL 310.297665 175.906857 \nL 310.907612 175.794786 \nL 312.737453 175.906211 \nL 313.3474 175.795211 \nL 313.957348 175.861663 \nL 315.177242 175.7295 \nL 317.007083 175.752132 \nL 318.836925 176.03485 \nL 320.056819 176.249924 \nL 323.716502 176.542478 \nL 324.936397 176.496853 \nL 325.546344 176.643442 \nL 326.156291 176.536077 \nL 327.376185 176.574936 \nL 327.986132 176.3846 \nL 334.085604 176.167544 \nL 334.695551 175.900914 \nL 335.915446 176.185747 \nL 337.745287 176.041859 \nL 338.355234 175.940486 \nL 340.795023 176.419919 \nL 341.40497 176.478578 \nL 342.624865 176.356532 \nL 345.064653 176.352131 \nL 345.6746 176.41006 \nL 347.504442 176.113226 \nL 348.724336 176.22887 \nL 349.334283 176.130927 \nL 351.164125 176.457276 \nL 352.993966 176.012206 \nL 354.213861 176.049701 \nL 354.823808 176.030206 \nL 355.433755 175.858576 \nL 356.043702 175.9155 \nL 357.263597 175.801728 \nL 358.483491 175.914882 \nL 359.093438 175.820755 \nL 360.313332 175.858266 \nL 363.363068 175.839549 \nL 363.363068 175.839549 \n\" clip-path=\"url(#pebacf1545d)\" style=\"fill: none; stroke: #d62728; stroke-width: 1.5; stroke-linecap: square\"/>\n   </g>\n   <g id=\"line2d_18\">\n    <path d=\"M 58.999432 240.700909 \nL 59.609379 222.169091 \nL 60.219326 191.282727 \nL 60.829273 166.573638 \nL 62.049168 166.573638 \nL 62.659115 145.394414 \nL 63.269062 148.041822 \nL 63.879009 150.100913 \nL 65.098903 166.573638 \nL 66.318798 172.275736 \nL 66.928745 171.868443 \nL 67.538692 176.457276 \nL 68.148639 175.839549 \nL 69.368534 178.928182 \nL 69.978481 180.228663 \nL 70.588428 183.252275 \nL 71.198375 184.222987 \nL 72.418269 182.688264 \nL 73.028217 183.561138 \nL 73.638164 185.846729 \nL 74.248111 185.105455 \nL 74.858058 185.79182 \nL 75.468005 185.105455 \nL 76.077952 187.02254 \nL 76.6879 185.105455 \nL 77.907794 183.947217 \nL 78.517741 185.667024 \nL 79.127688 182.925241 \nL 80.95753 187.609758 \nL 82.177424 188.431678 \nL 83.397319 190.981397 \nL 84.007266 188.635324 \nL 85.22716 187.632524 \nL 85.837107 186.340913 \nL 86.447054 186.716919 \nL 87.057002 186.288341 \nL 89.49679 187.649037 \nL 90.106737 187.956503 \nL 90.716685 187.553054 \nL 92.546526 190.400259 \nL 93.156473 190.632492 \nL 93.76642 188.939626 \nL 94.376368 189.816935 \nL 96.206209 186.89886 \nL 96.816156 185.39961 \nL 97.426103 185.684576 \nL 99.255945 183.169298 \nL 99.865892 183.470297 \nL 100.475839 183.225417 \nL 101.695734 181.712304 \nL 102.305681 182.531595 \nL 102.915628 181.805272 \nL 103.525575 182.601156 \nL 104.135522 182.881637 \nL 104.745469 182.667061 \nL 105.355417 183.420745 \nL 105.965364 183.67993 \nL 106.575311 182.525078 \nL 107.185258 181.86239 \nL 109.0151 182.649432 \nL 109.625047 182.016821 \nL 110.234994 182.271179 \nL 110.844941 182.088647 \nL 111.454888 181.058276 \nL 114.504624 182.285395 \nL 115.724518 183.528282 \nL 116.334466 183.739953 \nL 116.944413 183.561138 \nL 117.55436 184.150206 \nL 118.164307 183.592657 \nL 121.82399 184.749078 \nL 122.433937 184.575978 \nL 123.043884 184.056488 \nL 123.653832 184.239484 \nL 124.263779 184.075912 \nL 124.873726 184.255373 \nL 125.483673 183.757687 \nL 126.09362 184.270688 \nL 127.313515 184.613463 \nL 127.923462 185.105455 \nL 128.533409 185.266602 \nL 129.143356 184.785943 \nL 129.753303 184.947063 \nL 130.36325 184.163163 \nL 130.973198 184.326807 \nL 131.583145 184.178865 \nL 132.803039 183.282656 \nL 133.412986 183.146809 \nL 134.022933 183.312055 \nL 134.632881 183.771163 \nL 135.242828 182.752208 \nL 136.462722 182.499419 \nL 137.682616 181.684198 \nL 138.292564 181.85178 \nL 139.512458 181.064682 \nL 140.732352 181.948183 \nL 141.342299 181.835134 \nL 142.562194 182.151111 \nL 143.172141 182.03904 \nL 143.782088 181.663835 \nL 145.61193 182.124816 \nL 146.221877 182.016821 \nL 146.831824 182.42154 \nL 148.051718 182.20592 \nL 148.661665 181.849869 \nL 149.271613 182.24484 \nL 149.88156 182.140363 \nL 150.491507 182.282727 \nL 151.101454 182.179383 \nL 151.711401 181.835134 \nL 152.321348 181.736036 \nL 152.931296 181.399095 \nL 154.15119 181.682381 \nL 154.761137 182.055918 \nL 155.371084 182.191649 \nL 155.981031 182.094037 \nL 156.590979 182.227846 \nL 157.200926 182.588791 \nL 157.810873 182.717922 \nL 158.42082 183.071477 \nL 159.030767 182.297606 \nL 160.250662 182.553168 \nL 162.080503 182.271179 \nL 162.69045 181.962636 \nL 163.300397 181.873165 \nL 163.910345 182.21321 \nL 164.520292 182.123325 \nL 165.130239 181.610887 \nL 165.740186 181.314859 \nL 166.96008 181.149227 \nL 170.009816 181.763651 \nL 170.619763 181.278231 \nL 172.449605 181.636933 \nL 173.059552 181.556812 \nL 174.279446 181.789239 \nL 174.889394 182.097677 \nL 175.499341 181.823779 \nL 176.719235 181.666564 \nL 177.939129 181.890755 \nL 178.549077 181.436722 \nL 179.159024 180.800085 \nL 180.378918 181.028457 \nL 180.988865 181.325336 \nL 181.598812 181.435789 \nL 182.818707 180.563345 \nL 183.428654 179.95271 \nL 184.038601 179.707841 \nL 184.648548 179.823441 \nL 185.258495 179.75974 \nL 185.868443 179.341976 \nL 186.47839 179.281174 \nL 187.088337 179.04529 \nL 187.698284 179.161288 \nL 188.308231 179.450208 \nL 188.918178 179.563229 \nL 189.528126 179.502814 \nL 190.138073 179.614548 \nL 191.357967 179.154876 \nL 191.967914 179.097427 \nL 192.577861 178.703555 \nL 193.187809 178.480959 \nL 193.797756 178.76123 \nL 195.01765 178.652412 \nL 196.847492 178.982611 \nL 199.28728 178.125941 \nL 202.337016 177.881187 \nL 202.946963 177.677094 \nL 205.386752 177.4928 \nL 205.996699 177.753989 \nL 206.606646 177.402931 \nL 208.436488 177.722862 \nL 209.046435 177.377614 \nL 209.656382 176.885699 \nL 210.266329 177.141984 \nL 210.876276 176.951455 \nL 211.486224 176.91011 \nL 212.096171 177.163248 \nL 212.706118 177.121395 \nL 213.316065 177.225789 \nL 213.926012 177.184014 \nL 214.535959 177.287347 \nL 215.145907 177.101441 \nL 215.755854 176.773324 \nL 216.365801 176.733941 \nL 216.975748 176.267205 \nL 217.585695 176.372074 \nL 218.195642 176.051745 \nL 218.80559 176.156631 \nL 219.415537 176.401119 \nL 220.025484 176.084308 \nL 221.245378 176.290699 \nL 221.855325 176.254441 \nL 222.465273 176.080668 \nL 223.685167 176.010505 \nL 224.295114 176.112077 \nL 224.905061 175.805605 \nL 227.954797 175.639564 \nL 228.564744 175.474225 \nL 229.174691 175.707176 \nL 229.784639 175.542775 \nL 231.004533 176.003259 \nL 232.834374 175.904344 \nL 233.444322 176.130115 \nL 234.054269 176.225628 \nL 234.664216 176.063984 \nL 235.274163 176.031255 \nL 235.88411 176.126122 \nL 236.494057 176.09341 \nL 237.104005 175.934422 \nL 237.713952 176.028648 \nL 238.933846 175.964765 \nL 239.543793 176.057936 \nL 241.373635 175.963091 \nL 241.983582 176.17817 \nL 242.593529 176.023639 \nL 243.203476 175.992451 \nL 244.423371 176.173729 \nL 245.643265 176.111188 \nL 246.253212 176.20056 \nL 246.863159 176.049453 \nL 247.473106 176.018889 \nL 248.083054 175.750166 \nL 248.693001 175.839549 \nL 249.912895 175.780531 \nL 250.522842 175.986624 \nL 251.132789 175.839549 \nL 251.742737 176.044156 \nL 252.352684 175.897827 \nL 254.792472 176.242412 \nL 255.40242 176.097729 \nL 256.622314 176.03912 \nL 257.842208 176.434604 \nL 259.062103 176.036695 \nL 260.281997 176.427413 \nL 260.891944 176.397733 \nL 261.501891 176.590836 \nL 262.721786 176.420394 \nL 264.551627 176.552309 \nL 266.991416 176.435598 \nL 267.601363 176.082679 \nL 268.21131 176.270519 \nL 268.821257 176.027555 \nL 270.041152 175.97306 \nL 271.261046 176.237795 \nL 273.090887 176.260726 \nL 275.530676 176.464218 \nL 276.140623 176.22887 \nL 276.75057 176.408961 \nL 277.970465 176.457276 \nL 279.800306 176.579802 \nL 282.240095 176.571733 \nL 284.679884 176.763643 \nL 286.509725 176.582801 \nL 287.119672 176.457276 \nL 288.949514 176.67299 \nL 289.559461 176.450753 \nL 290.779355 176.593465 \nL 291.389302 176.276163 \nL 292.609197 176.225628 \nL 296.26888 177.122522 \nL 299.318616 176.988989 \nL 299.928563 176.7755 \nL 300.53851 176.749802 \nL 301.148457 176.91048 \nL 301.758404 176.698793 \nL 302.368351 176.858797 \nL 303.588246 176.899827 \nL 307.857876 177.448053 \nL 309.07777 177.755856 \nL 310.297665 177.611962 \nL 316.397136 177.35101 \nL 317.007083 177.500416 \nL 318.836925 177.250051 \nL 319.446872 177.398297 \nL 320.666766 177.175564 \nL 321.276714 176.892978 \nL 322.496608 176.759722 \nL 323.716502 176.883297 \nL 324.326449 176.774639 \nL 324.936397 176.836109 \nL 327.376185 176.490894 \nL 328.59608 176.529786 \nL 329.815974 176.568325 \nL 330.425921 176.712125 \nL 331.645815 176.749592 \nL 334.695551 176.96455 \nL 340.185076 176.84235 \nL 341.40497 176.877967 \nL 342.014917 176.855809 \nL 342.624865 176.992816 \nL 345.6746 176.960899 \nL 348.114389 177.107516 \nL 348.724336 177.085386 \nL 349.334283 177.218753 \nL 350.554178 177.25168 \nL 352.993966 177.393459 \nL 354.213861 177.272419 \nL 358.483491 177.572197 \nL 360.92328 177.408774 \nL 362.143174 177.290832 \nL 363.363068 177.322092 \nL 363.363068 177.322092 \n\" clip-path=\"url(#pebacf1545d)\" style=\"fill: none; stroke: #9467bd; stroke-width: 1.5; stroke-linecap: square\"/>\n   </g>\n   <g id=\"line2d_19\">\n    <path d=\"M 58.999432 203.637274 \nL 59.609379 222.169091 \nL 60.219326 228.346363 \nL 60.829273 231.435 \nL 61.43922 225.875455 \nL 62.049168 222.169091 \nL 62.659115 224.816494 \nL 63.269062 222.169091 \nL 63.879009 220.110001 \nL 65.098903 203.637274 \nL 66.318798 203.637274 \nL 67.538692 198.695455 \nL 68.148639 199.004321 \nL 68.758586 194.916419 \nL 69.368534 197.460002 \nL 69.978481 197.785122 \nL 70.588428 199.930911 \nL 71.198375 198.342469 \nL 71.808322 200.267853 \nL 72.418269 200.414351 \nL 73.028217 199.004321 \nL 73.638164 196.224548 \nL 74.248111 195.084128 \nL 74.858058 195.400911 \nL 75.468005 197.018768 \nL 76.077952 193.412825 \nL 76.6879 192.518186 \nL 77.907794 193.213128 \nL 78.517741 191.282727 \nL 79.127688 190.555989 \nL 79.737635 187.752857 \nL 80.347583 187.164545 \nL 82.177424 188.431678 \nL 83.397319 187.365436 \nL 84.007266 187.752857 \nL 84.617213 185.536429 \nL 85.22716 185.105455 \nL 85.837107 186.340913 \nL 86.447054 186.716919 \nL 87.666949 185.877618 \nL 88.276896 186.996461 \nL 88.886843 185.846729 \nL 89.49679 185.468823 \nL 90.106737 186.530979 \nL 90.716685 186.853743 \nL 91.326632 186.478185 \nL 91.936579 187.464053 \nL 92.546526 186.429158 \nL 93.156473 187.381292 \nL 93.76642 187.661569 \nL 94.376368 187.304148 \nL 94.986315 188.194093 \nL 95.596262 187.83966 \nL 96.206209 188.69226 \nL 96.816156 187.752857 \nL 97.426103 188.001051 \nL 98.036051 187.671399 \nL 98.645998 187.913309 \nL 99.865892 189.465882 \nL 100.475839 189.134115 \nL 101.085786 189.341302 \nL 101.695734 190.064676 \nL 102.305681 188.708867 \nL 102.915628 187.897922 \nL 103.525575 188.110615 \nL 104.135522 187.329277 \nL 104.745469 187.543853 \nL 105.355417 187.271513 \nL 105.965364 187.956503 \nL 106.575311 187.685836 \nL 107.795205 188.079697 \nL 109.0151 186.668383 \nL 111.454888 187.448561 \nL 112.064835 187.211346 \nL 112.674783 186.563017 \nL 113.28473 185.517276 \nL 113.894677 185.716394 \nL 114.504624 185.105455 \nL 115.114571 184.906188 \nL 116.334466 186.080817 \nL 116.944413 185.491534 \nL 118.164307 185.861856 \nL 118.774254 185.667024 \nL 119.994149 184.555008 \nL 120.604096 184.378717 \nL 121.214043 184.925535 \nL 121.82399 185.105455 \nL 122.433937 185.634936 \nL 123.043884 185.105455 \nL 123.653832 184.239484 \nL 124.263779 184.075912 \nL 124.873726 184.595408 \nL 125.483673 184.431571 \nL 126.09362 184.938502 \nL 126.703567 185.105455 \nL 127.313515 184.941457 \nL 127.923462 185.430577 \nL 128.533409 185.588897 \nL 129.143356 186.064 \nL 129.753303 185.580629 \nL 130.36325 185.419554 \nL 131.583145 186.340913 \nL 132.193092 185.871234 \nL 132.803039 185.713058 \nL 133.412986 185.858785 \nL 134.022933 184.806555 \nL 134.632881 184.660694 \nL 135.242828 185.105455 \nL 138.292564 185.812779 \nL 138.902511 185.386239 \nL 139.512458 185.244792 \nL 140.122405 184.552269 \nL 141.342299 184.287876 \nL 141.952247 184.699653 \nL 142.562194 184.568302 \nL 143.172141 184.172198 \nL 143.782088 184.575978 \nL 145.001982 184.322422 \nL 145.61193 183.93912 \nL 146.221877 183.818528 \nL 146.831824 183.443986 \nL 147.441771 183.328436 \nL 148.051718 183.718723 \nL 148.661665 183.602875 \nL 149.88156 183.870001 \nL 150.491507 184.246366 \nL 152.321348 183.902089 \nL 152.931296 184.029415 \nL 153.541243 183.91752 \nL 154.15119 183.570974 \nL 154.761137 183.463399 \nL 155.371084 183.124066 \nL 155.981031 183.252275 \nL 157.200926 183.046364 \nL 157.810873 183.172689 \nL 158.42082 182.845479 \nL 159.030767 183.196118 \nL 160.250662 182.997044 \nL 160.860609 183.119907 \nL 161.470556 183.021997 \nL 162.080503 182.489201 \nL 163.300397 182.735109 \nL 163.910345 182.641689 \nL 164.520292 182.762354 \nL 165.130239 182.458052 \nL 165.740186 182.78898 \nL 166.350133 182.906767 \nL 166.96008 182.815009 \nL 167.570028 182.517214 \nL 168.179975 182.840459 \nL 168.789922 182.750584 \nL 169.399869 182.865345 \nL 170.009816 182.776321 \nL 172.449605 184.015348 \nL 173.059552 183.725428 \nL 173.669499 184.026885 \nL 174.279446 183.739953 \nL 174.889394 183.650079 \nL 176.109288 183.857199 \nL 176.719235 183.57706 \nL 177.329182 183.67993 \nL 177.939129 183.214454 \nL 179.159024 183.420745 \nL 179.768971 183.708589 \nL 180.378918 183.437596 \nL 182.818707 183.833666 \nL 184.038601 184.385775 \nL 184.648548 184.478775 \nL 185.868443 185.01679 \nL 186.47839 184.752469 \nL 187.088337 184.841973 \nL 187.698284 184.755799 \nL 188.308231 185.018452 \nL 188.918178 184.759069 \nL 189.528126 184.674485 \nL 190.138073 184.762277 \nL 191.357967 184.595408 \nL 192.577861 185.105455 \nL 193.187809 185.0216 \nL 193.797756 185.272412 \nL 194.407703 185.022357 \nL 195.01765 184.939994 \nL 195.627597 185.023091 \nL 196.237544 184.941457 \nL 200.507175 185.503137 \nL 201.727069 185.026598 \nL 202.337016 184.948405 \nL 204.776805 185.259886 \nL 205.386752 185.489932 \nL 205.996699 185.105455 \nL 206.606646 184.876668 \nL 207.826541 185.029818 \nL 208.436488 185.25612 \nL 209.046435 185.030431 \nL 209.656382 184.956005 \nL 210.266329 184.584484 \nL 210.876276 184.808946 \nL 211.486224 184.736298 \nL 212.096171 184.517143 \nL 212.706118 184.739214 \nL 213.926012 184.887438 \nL 214.535959 184.671116 \nL 215.145907 184.744913 \nL 216.365801 184.31839 \nL 216.975748 184.250143 \nL 218.195642 184.398135 \nL 218.80559 184.612214 \nL 221.245378 184.897235 \nL 221.855325 184.552269 \nL 222.465273 184.623216 \nL 223.685167 184.490009 \nL 224.295114 184.560404 \nL 224.905061 184.766044 \nL 226.734903 184.165438 \nL 227.34485 184.369538 \nL 227.954797 184.172198 \nL 228.564744 184.241969 \nL 229.784639 184.116213 \nL 230.394586 184.316871 \nL 231.004533 184.123205 \nL 231.61448 184.061409 \nL 232.224427 184.130097 \nL 232.834374 184.06871 \nL 233.444322 184.266038 \nL 234.054269 183.947217 \nL 234.664216 183.8871 \nL 235.274163 183.955209 \nL 235.88411 183.640745 \nL 236.494057 183.709224 \nL 237.104005 183.903735 \nL 238.323899 184.037522 \nL 238.933846 183.853305 \nL 239.543793 183.795127 \nL 240.763688 183.927848 \nL 241.373635 184.117091 \nL 241.983582 184.181946 \nL 242.593529 184.000911 \nL 243.813423 183.886261 \nL 244.423371 183.951017 \nL 246.863159 183.726063 \nL 247.473106 183.551175 \nL 248.083054 183.615759 \nL 248.693001 183.442346 \nL 249.912895 183.570974 \nL 250.522842 183.752341 \nL 251.132789 183.815269 \nL 252.352684 184.173038 \nL 252.962631 184.11787 \nL 253.572578 183.947217 \nL 254.182525 184.00856 \nL 254.792472 183.83931 \nL 256.012367 184.190308 \nL 256.622314 184.136101 \nL 257.232261 183.854841 \nL 257.842208 183.801998 \nL 258.452155 183.862468 \nL 259.67205 184.206943 \nL 260.281997 183.92972 \nL 263.331733 184.222987 \nL 265.771521 183.906336 \nL 267.601363 184.295028 \nL 270.041152 184.41118 \nL 270.651099 184.146915 \nL 273.090887 183.947217 \nL 274.310782 183.534965 \nL 274.920729 183.591591 \nL 276.140623 182.977151 \nL 276.75057 182.827806 \nL 277.360518 182.885769 \nL 277.970465 182.737501 \nL 278.580412 182.898068 \nL 279.190359 182.648201 \nL 281.020201 182.617626 \nL 281.630148 182.675053 \nL 282.240095 182.530192 \nL 282.850042 182.587548 \nL 283.459989 182.443704 \nL 284.069936 182.601156 \nL 285.289831 182.415355 \nL 287.119672 182.486291 \nL 287.729619 182.443974 \nL 288.339567 182.5985 \nL 289.559461 182.611727 \nL 290.779355 182.624822 \nL 291.389302 182.582798 \nL 292.609197 182.78898 \nL 295.048985 182.335239 \nL 295.658933 182.294718 \nL 296.26888 182.444477 \nL 298.708668 182.283351 \nL 299.928563 182.578391 \nL 302.978299 182.378832 \nL 304.198193 182.576303 \nL 305.418087 182.405761 \nL 306.028034 182.458052 \nL 307.857876 182.160301 \nL 309.07777 182.264811 \nL 309.687717 182.136768 \nL 310.297665 182.188827 \nL 310.907612 182.061584 \nL 312.127506 182.076215 \nL 312.737453 181.861279 \nL 313.3474 182.002042 \nL 314.567295 181.75208 \nL 315.177242 181.804062 \nL 315.787189 181.592314 \nL 316.397136 181.644433 \nL 317.617031 181.311882 \nL 319.446872 181.728161 \nL 320.056819 181.606441 \nL 322.496608 181.89556 \nL 323.106555 181.689456 \nL 325.546344 181.805272 \nL 327.376185 181.785698 \nL 328.59608 181.884349 \nL 329.206027 181.76639 \nL 330.425921 181.781363 \nL 331.035868 181.747342 \nL 331.645815 181.548009 \nL 332.255763 181.679752 \nL 333.475657 181.530584 \nL 335.915446 181.399095 \nL 336.525393 181.529143 \nL 338.355234 181.512143 \nL 338.965181 181.560242 \nL 339.575129 181.447332 \nL 342.014917 181.558508 \nL 344.454706 181.430702 \nL 345.064653 181.556812 \nL 346.284548 181.257747 \nL 349.944231 181.6162 \nL 351.164125 181.321879 \nL 352.384019 181.491366 \nL 352.993966 181.613952 \nL 354.213861 181.551936 \nL 355.433755 181.718739 \nL 356.043702 181.611754 \nL 356.653649 181.73259 \nL 357.873544 181.51987 \nL 359.093438 181.534417 \nL 359.703385 181.504129 \nL 360.92328 181.668105 \nL 363.363068 181.621475 \nL 363.363068 181.621475 \n\" clip-path=\"url(#pebacf1545d)\" style=\"fill: none; stroke: #8c564b; stroke-width: 1.5; stroke-linecap: square\"/>\n   </g>\n   <g id=\"line2d_20\">\n    <path d=\"M 43.78125 178.804639 \nL 378.58125 178.804639 \n\" clip-path=\"url(#pebacf1545d)\" style=\"fill: none; stroke-dasharray: 5.55,2.4; stroke-dashoffset: 0; stroke: #000000; stroke-width: 1.5\"/>\n   </g>\n   <g id=\"patch_3\">\n    <path d=\"M 43.78125 251.82 \nL 43.78125 7.2 \n\" style=\"fill: none; stroke: #000000; stroke-width: 0.8; stroke-linejoin: miter; stroke-linecap: square\"/>\n   </g>\n   <g id=\"patch_4\">\n    <path d=\"M 378.58125 251.82 \nL 378.58125 7.2 \n\" style=\"fill: none; stroke: #000000; stroke-width: 0.8; stroke-linejoin: miter; stroke-linecap: square\"/>\n   </g>\n   <g id=\"patch_5\">\n    <path d=\"M 43.78125 251.82 \nL 378.58125 251.82 \n\" style=\"fill: none; stroke: #000000; stroke-width: 0.8; stroke-linejoin: miter; stroke-linecap: square\"/>\n   </g>\n   <g id=\"patch_6\">\n    <path d=\"M 43.78125 7.2 \nL 378.58125 7.2 \n\" style=\"fill: none; stroke: #000000; stroke-width: 0.8; stroke-linejoin: miter; stroke-linecap: square\"/>\n   </g>\n   <g id=\"legend_1\">\n    <g id=\"patch_7\">\n     <path d=\"M 295.726562 103.26875 \nL 371.58125 103.26875 \nQ 373.58125 103.26875 373.58125 101.26875 \nL 373.58125 14.2 \nQ 373.58125 12.2 371.58125 12.2 \nL 295.726562 12.2 \nQ 293.726562 12.2 293.726562 14.2 \nL 293.726562 101.26875 \nQ 293.726562 103.26875 295.726562 103.26875 \nz\n\" style=\"fill: #ffffff; opacity: 0.8; stroke: #cccccc; stroke-linejoin: miter\"/>\n    </g>\n    <g id=\"line2d_21\">\n     <path d=\"M 297.726562 20.298437 \nL 307.726562 20.298437 \nL 317.726562 20.298437 \n\" style=\"fill: none; stroke: #1f77b4; stroke-width: 1.5; stroke-linecap: square\"/>\n    </g>\n    <g id=\"text_16\">\n     <!-- P(die=1) -->\n     <g transform=\"translate(325.726562 23.798437)scale(0.1 -0.1)\">\n      <defs>\n       <path id=\"DejaVuSans-50\" d=\"M 1259 4147 \nL 1259 2394 \nL 2053 2394 \nQ 2494 2394 2734 2622 \nQ 2975 2850 2975 3272 \nQ 2975 3691 2734 3919 \nQ 2494 4147 2053 4147 \nL 1259 4147 \nz\nM 628 4666 \nL 2053 4666 \nQ 2838 4666 3239 4311 \nQ 3641 3956 3641 3272 \nQ 3641 2581 3239 2228 \nQ 2838 1875 2053 1875 \nL 1259 1875 \nL 1259 0 \nL 628 0 \nL 628 4666 \nz\n\" transform=\"scale(0.015625)\"/>\n       <path id=\"DejaVuSans-28\" d=\"M 1984 4856 \nQ 1566 4138 1362 3434 \nQ 1159 2731 1159 2009 \nQ 1159 1288 1364 580 \nQ 1569 -128 1984 -844 \nL 1484 -844 \nQ 1016 -109 783 600 \nQ 550 1309 550 2009 \nQ 550 2706 781 3412 \nQ 1013 4119 1484 4856 \nL 1984 4856 \nz\n\" transform=\"scale(0.015625)\"/>\n       <path id=\"DejaVuSans-3d\" d=\"M 678 2906 \nL 4684 2906 \nL 4684 2381 \nL 678 2381 \nL 678 2906 \nz\nM 678 1631 \nL 4684 1631 \nL 4684 1100 \nL 678 1100 \nL 678 1631 \nz\n\" transform=\"scale(0.015625)\"/>\n       <path id=\"DejaVuSans-29\" d=\"M 513 4856 \nL 1013 4856 \nQ 1481 4119 1714 3412 \nQ 1947 2706 1947 2009 \nQ 1947 1309 1714 600 \nQ 1481 -109 1013 -844 \nL 513 -844 \nQ 928 -128 1133 580 \nQ 1338 1288 1338 2009 \nQ 1338 2731 1133 3434 \nQ 928 4138 513 4856 \nz\n\" transform=\"scale(0.015625)\"/>\n      </defs>\n      <use xlink:href=\"#DejaVuSans-50\"/>\n      <use xlink:href=\"#DejaVuSans-28\" x=\"60.302734\"/>\n      <use xlink:href=\"#DejaVuSans-64\" x=\"99.316406\"/>\n      <use xlink:href=\"#DejaVuSans-69\" x=\"162.792969\"/>\n      <use xlink:href=\"#DejaVuSans-65\" x=\"190.576172\"/>\n      <use xlink:href=\"#DejaVuSans-3d\" x=\"252.099609\"/>\n      <use xlink:href=\"#DejaVuSans-31\" x=\"335.888672\"/>\n      <use xlink:href=\"#DejaVuSans-29\" x=\"399.511719\"/>\n     </g>\n    </g>\n    <g id=\"line2d_22\">\n     <path d=\"M 297.726562 34.976562 \nL 307.726562 34.976562 \nL 317.726562 34.976562 \n\" style=\"fill: none; stroke: #ff7f0e; stroke-width: 1.5; stroke-linecap: square\"/>\n    </g>\n    <g id=\"text_17\">\n     <!-- P(die=2) -->\n     <g transform=\"translate(325.726562 38.476562)scale(0.1 -0.1)\">\n      <use xlink:href=\"#DejaVuSans-50\"/>\n      <use xlink:href=\"#DejaVuSans-28\" x=\"60.302734\"/>\n      <use xlink:href=\"#DejaVuSans-64\" x=\"99.316406\"/>\n      <use xlink:href=\"#DejaVuSans-69\" x=\"162.792969\"/>\n      <use xlink:href=\"#DejaVuSans-65\" x=\"190.576172\"/>\n      <use xlink:href=\"#DejaVuSans-3d\" x=\"252.099609\"/>\n      <use xlink:href=\"#DejaVuSans-32\" x=\"335.888672\"/>\n      <use xlink:href=\"#DejaVuSans-29\" x=\"399.511719\"/>\n     </g>\n    </g>\n    <g id=\"line2d_23\">\n     <path d=\"M 297.726562 49.654687 \nL 307.726562 49.654687 \nL 317.726562 49.654687 \n\" style=\"fill: none; stroke: #2ca02c; stroke-width: 1.5; stroke-linecap: square\"/>\n    </g>\n    <g id=\"text_18\">\n     <!-- P(die=3) -->\n     <g transform=\"translate(325.726562 53.154687)scale(0.1 -0.1)\">\n      <use xlink:href=\"#DejaVuSans-50\"/>\n      <use xlink:href=\"#DejaVuSans-28\" x=\"60.302734\"/>\n      <use xlink:href=\"#DejaVuSans-64\" x=\"99.316406\"/>\n      <use xlink:href=\"#DejaVuSans-69\" x=\"162.792969\"/>\n      <use xlink:href=\"#DejaVuSans-65\" x=\"190.576172\"/>\n      <use xlink:href=\"#DejaVuSans-3d\" x=\"252.099609\"/>\n      <use xlink:href=\"#DejaVuSans-33\" x=\"335.888672\"/>\n      <use xlink:href=\"#DejaVuSans-29\" x=\"399.511719\"/>\n     </g>\n    </g>\n    <g id=\"line2d_24\">\n     <path d=\"M 297.726562 64.332812 \nL 307.726562 64.332812 \nL 317.726562 64.332812 \n\" style=\"fill: none; stroke: #d62728; stroke-width: 1.5; stroke-linecap: square\"/>\n    </g>\n    <g id=\"text_19\">\n     <!-- P(die=4) -->\n     <g transform=\"translate(325.726562 67.832812)scale(0.1 -0.1)\">\n      <use xlink:href=\"#DejaVuSans-50\"/>\n      <use xlink:href=\"#DejaVuSans-28\" x=\"60.302734\"/>\n      <use xlink:href=\"#DejaVuSans-64\" x=\"99.316406\"/>\n      <use xlink:href=\"#DejaVuSans-69\" x=\"162.792969\"/>\n      <use xlink:href=\"#DejaVuSans-65\" x=\"190.576172\"/>\n      <use xlink:href=\"#DejaVuSans-3d\" x=\"252.099609\"/>\n      <use xlink:href=\"#DejaVuSans-34\" x=\"335.888672\"/>\n      <use xlink:href=\"#DejaVuSans-29\" x=\"399.511719\"/>\n     </g>\n    </g>\n    <g id=\"line2d_25\">\n     <path d=\"M 297.726562 79.010937 \nL 307.726562 79.010937 \nL 317.726562 79.010937 \n\" style=\"fill: none; stroke: #9467bd; stroke-width: 1.5; stroke-linecap: square\"/>\n    </g>\n    <g id=\"text_20\">\n     <!-- P(die=5) -->\n     <g transform=\"translate(325.726562 82.510937)scale(0.1 -0.1)\">\n      <use xlink:href=\"#DejaVuSans-50\"/>\n      <use xlink:href=\"#DejaVuSans-28\" x=\"60.302734\"/>\n      <use xlink:href=\"#DejaVuSans-64\" x=\"99.316406\"/>\n      <use xlink:href=\"#DejaVuSans-69\" x=\"162.792969\"/>\n      <use xlink:href=\"#DejaVuSans-65\" x=\"190.576172\"/>\n      <use xlink:href=\"#DejaVuSans-3d\" x=\"252.099609\"/>\n      <use xlink:href=\"#DejaVuSans-35\" x=\"335.888672\"/>\n      <use xlink:href=\"#DejaVuSans-29\" x=\"399.511719\"/>\n     </g>\n    </g>\n    <g id=\"line2d_26\">\n     <path d=\"M 297.726562 93.689062 \nL 307.726562 93.689062 \nL 317.726562 93.689062 \n\" style=\"fill: none; stroke: #8c564b; stroke-width: 1.5; stroke-linecap: square\"/>\n    </g>\n    <g id=\"text_21\">\n     <!-- P(die=6) -->\n     <g transform=\"translate(325.726562 97.189062)scale(0.1 -0.1)\">\n      <use xlink:href=\"#DejaVuSans-50\"/>\n      <use xlink:href=\"#DejaVuSans-28\" x=\"60.302734\"/>\n      <use xlink:href=\"#DejaVuSans-64\" x=\"99.316406\"/>\n      <use xlink:href=\"#DejaVuSans-69\" x=\"162.792969\"/>\n      <use xlink:href=\"#DejaVuSans-65\" x=\"190.576172\"/>\n      <use xlink:href=\"#DejaVuSans-3d\" x=\"252.099609\"/>\n      <use xlink:href=\"#DejaVuSans-36\" x=\"335.888672\"/>\n      <use xlink:href=\"#DejaVuSans-29\" x=\"399.511719\"/>\n     </g>\n    </g>\n   </g>\n  </g>\n </g>\n <defs>\n  <clipPath id=\"pebacf1545d\">\n   <rect x=\"43.78125\" y=\"7.2\" width=\"334.8\" height=\"244.62\"/>\n  </clipPath>\n </defs>\n</svg>\n",
      "text/plain": [
       "<Figure size 432x324 with 1 Axes>"
      ]
     },
     "metadata": {
      "needs_background": "light"
     },
     "output_type": "display_data"
    }
   ],
   "source": [
    "counts = multinomial.Multinomial(10,fair_probs).sample((500,)) #500组实验  每组抽10个样本\n",
    "cum_counts = counts.cumsum(dim=0)  #计算累积和\n",
    "estimates = cum_counts / cum_counts.sum(dim=1,keepdim=True)\n",
    "\n",
    "d2l.set_figsize((6,4.5))\n",
    "for i in range(6):\n",
    "    d2l.plt.plot(estimates[:,i].numpy(),label=(\"P(die=\" + str(i+1) + \")\"))\n",
    "\n",
    "d2l.plt.axhline(y=0.167,color='black',linestyle='dashed')\n",
    "d2l.plt.gca().set_xlabel('Group of experiments')\n",
    "d2l.plt.gca().set_ylabel('Estimated probability')\n",
    "d2l.plt.legend();\n"
   ]
  },
  {
   "cell_type": "code",
   "execution_count": null,
   "metadata": {},
   "outputs": [],
   "source": []
  }
 ],
 "metadata": {
  "kernelspec": {
   "display_name": "Python 3.9.7 ('pytorch-gpu')",
   "language": "python",
   "name": "python3"
  },
  "language_info": {
   "codemirror_mode": {
    "name": "ipython",
    "version": 3
   },
   "file_extension": ".py",
   "mimetype": "text/x-python",
   "name": "python",
   "nbconvert_exporter": "python",
   "pygments_lexer": "ipython3",
   "version": "3.9.7"
  },
  "orig_nbformat": 4,
  "vscode": {
   "interpreter": {
    "hash": "5b1196fa80c7e6d3f99a2418c205904abd64dda5cfa44b08fc9024078242cc44"
   }
  }
 },
 "nbformat": 4,
 "nbformat_minor": 2
}
