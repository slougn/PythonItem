{
 "cells": [
  {
   "cell_type": "markdown",
   "metadata": {},
   "source": [
    "## 深度学习基础"
   ]
  },
  {
   "cell_type": "markdown",
   "metadata": {},
   "source": [
    "矢量计算表达式"
   ]
  },
  {
   "cell_type": "code",
   "execution_count": 10,
   "metadata": {},
   "outputs": [],
   "source": [
    "import torch\n",
    "from time import  time\n",
    "\n",
    "a = torch.ones(1000)\n",
    "b = torch.ones(1000)"
   ]
  },
  {
   "cell_type": "code",
   "execution_count": 12,
   "metadata": {},
   "outputs": [
    {
     "name": "stdout",
     "output_type": "stream",
     "text": [
      "0.013412952423095703\n"
     ]
    }
   ],
   "source": [
    "start = time()\n",
    "c = torch.zeros(1000)\n",
    "for i in range(1000):\n",
    "    c[i] = a[i] + b[i]\n",
    "print(time() - start)"
   ]
  },
  {
   "cell_type": "code",
   "execution_count": 13,
   "metadata": {},
   "outputs": [
    {
     "name": "stdout",
     "output_type": "stream",
     "text": [
      "0.00014138221740722656\n"
     ]
    }
   ],
   "source": [
    "start = time()\n",
    "d = a + b\n",
    "print(time() - start)"
   ]
  },
  {
   "cell_type": "code",
   "execution_count": 14,
   "metadata": {},
   "outputs": [
    {
     "name": "stdout",
     "output_type": "stream",
     "text": [
      "tensor([11., 11., 11.])\n"
     ]
    }
   ],
   "source": [
    "a = torch.ones(3)\n",
    "b = 10\n",
    "print(a + b)"
   ]
  },
  {
   "cell_type": "markdown",
   "metadata": {},
   "source": [
    "#### 3.2 线性回归的从零开始实现"
   ]
  },
  {
   "cell_type": "code",
   "execution_count": 15,
   "metadata": {},
   "outputs": [],
   "source": [
    "%matplotlib inline\n",
    "import torch\n",
    "from IPython import display\n",
    "from matplotlib import pyplot as plt\n",
    "import numpy as np\n",
    "import random"
   ]
  },
  {
   "cell_type": "code",
   "execution_count": 16,
   "metadata": {},
   "outputs": [],
   "source": [
    "num_inputs = 2\n",
    "num_examples = 1000\n",
    "true_w = [2,-3.4]\n",
    "true_b = 4.2\n",
    "features = torch.randn(num_examples,num_inputs,dtype=torch.float32)\n",
    "labels = true_w[0] * features[:,0] + true_w[1] * features[:,1] + true_b\n",
    "labels += torch.tensor(np.random.normal(0,0.01,size=labels.size()),dtype=torch.float32)"
   ]
  },
  {
   "cell_type": "code",
   "execution_count": 17,
   "metadata": {},
   "outputs": [
    {
     "name": "stdout",
     "output_type": "stream",
     "text": [
      "tensor([ 0.0832, -1.2534]) tensor(8.6369)\n"
     ]
    }
   ],
   "source": [
    "print(features[0],labels[0])"
   ]
  },
  {
   "cell_type": "code",
   "execution_count": 18,
   "metadata": {},
   "outputs": [
    {
     "data": {
      "text/plain": [
       "<matplotlib.collections.PathCollection at 0x7f94b706e250>"
      ]
     },
     "execution_count": 18,
     "metadata": {},
     "output_type": "execute_result"
    },
    {
     "data": {
      "image/svg+xml": "<?xml version=\"1.0\" encoding=\"utf-8\" standalone=\"no\"?>\n<!DOCTYPE svg PUBLIC \"-//W3C//DTD SVG 1.1//EN\"\n  \"http://www.w3.org/Graphics/SVG/1.1/DTD/svg11.dtd\">\n<!-- Created with matplotlib (https://matplotlib.org/) -->\n<svg height=\"166.978125pt\" version=\"1.1\" viewBox=\"0 0 237.804688 166.978125\" width=\"237.804688pt\" xmlns=\"http://www.w3.org/2000/svg\" xmlns:xlink=\"http://www.w3.org/1999/xlink\">\n <metadata>\n  <rdf:RDF xmlns:cc=\"http://creativecommons.org/ns#\" xmlns:dc=\"http://purl.org/dc/elements/1.1/\" xmlns:rdf=\"http://www.w3.org/1999/02/22-rdf-syntax-ns#\">\n   <cc:Work>\n    <dc:type rdf:resource=\"http://purl.org/dc/dcmitype/StillImage\"/>\n    <dc:date>2022-10-12T14:17:25.783164</dc:date>\n    <dc:format>image/svg+xml</dc:format>\n    <dc:creator>\n     <cc:Agent>\n      <dc:title>Matplotlib v3.3.2, https://matplotlib.org/</dc:title>\n     </cc:Agent>\n    </dc:creator>\n   </cc:Work>\n  </rdf:RDF>\n </metadata>\n <defs>\n  <style type=\"text/css\">*{stroke-linecap:butt;stroke-linejoin:round;}</style>\n </defs>\n <g id=\"figure_1\">\n  <g id=\"patch_1\">\n   <path d=\"M 0 166.978125 \nL 237.804688 166.978125 \nL 237.804688 0 \nL 0 0 \nz\n\" style=\"fill:none;\"/>\n  </g>\n  <g id=\"axes_1\">\n   <g id=\"patch_2\">\n    <path d=\"M 35.304688 143.1 \nL 230.604688 143.1 \nL 230.604688 7.2 \nL 35.304688 7.2 \nz\n\" style=\"fill:#ffffff;\"/>\n   </g>\n   <g id=\"PathCollection_1\">\n    <defs>\n     <path d=\"M 0 0.5 \nC 0.132602 0.5 0.25979 0.447317 0.353553 0.353553 \nC 0.447317 0.25979 0.5 0.132602 0.5 0 \nC 0.5 -0.132602 0.447317 -0.25979 0.353553 -0.353553 \nC 0.25979 -0.447317 0.132602 -0.5 0 -0.5 \nC -0.132602 -0.5 -0.25979 -0.447317 -0.353553 -0.353553 \nC -0.447317 -0.25979 -0.5 -0.132602 -0.5 0 \nC -0.5 0.132602 -0.447317 0.25979 -0.353553 0.353553 \nC -0.25979 0.447317 -0.132602 0.5 0 0.5 \nz\n\" id=\"m94c99245b5\" style=\"stroke:#1f77b4;\"/>\n    </defs>\n    <g clip-path=\"url(#pd07f08f44c)\">\n     <use style=\"fill:#1f77b4;stroke:#1f77b4;\" x=\"104.053138\" xlink:href=\"#m94c99245b5\" y=\"50.137726\"/>\n     <use style=\"fill:#1f77b4;stroke:#1f77b4;\" x=\"107.804461\" xlink:href=\"#m94c99245b5\" y=\"63.942319\"/>\n     <use style=\"fill:#1f77b4;stroke:#1f77b4;\" x=\"92.463167\" xlink:href=\"#m94c99245b5\" y=\"17.770871\"/>\n     <use style=\"fill:#1f77b4;stroke:#1f77b4;\" x=\"136.338704\" xlink:href=\"#m94c99245b5\" y=\"64.765899\"/>\n     <use style=\"fill:#1f77b4;stroke:#1f77b4;\" x=\"107.46998\" xlink:href=\"#m94c99245b5\" y=\"64.262963\"/>\n     <use style=\"fill:#1f77b4;stroke:#1f77b4;\" x=\"120.365596\" xlink:href=\"#m94c99245b5\" y=\"58.71606\"/>\n     <use style=\"fill:#1f77b4;stroke:#1f77b4;\" x=\"126.924419\" xlink:href=\"#m94c99245b5\" y=\"68.297475\"/>\n     <use style=\"fill:#1f77b4;stroke:#1f77b4;\" x=\"161.652142\" xlink:href=\"#m94c99245b5\" y=\"86.362335\"/>\n     <use style=\"fill:#1f77b4;stroke:#1f77b4;\" x=\"111.486937\" xlink:href=\"#m94c99245b5\" y=\"48.85334\"/>\n     <use style=\"fill:#1f77b4;stroke:#1f77b4;\" x=\"152.731909\" xlink:href=\"#m94c99245b5\" y=\"79.470698\"/>\n     <use style=\"fill:#1f77b4;stroke:#1f77b4;\" x=\"133.168989\" xlink:href=\"#m94c99245b5\" y=\"57.564576\"/>\n     <use style=\"fill:#1f77b4;stroke:#1f77b4;\" x=\"141.813742\" xlink:href=\"#m94c99245b5\" y=\"66.161271\"/>\n     <use style=\"fill:#1f77b4;stroke:#1f77b4;\" x=\"96.717432\" xlink:href=\"#m94c99245b5\" y=\"48.370039\"/>\n     <use style=\"fill:#1f77b4;stroke:#1f77b4;\" x=\"115.006893\" xlink:href=\"#m94c99245b5\" y=\"65.668621\"/>\n     <use style=\"fill:#1f77b4;stroke:#1f77b4;\" x=\"138.746287\" xlink:href=\"#m94c99245b5\" y=\"64.959866\"/>\n     <use style=\"fill:#1f77b4;stroke:#1f77b4;\" x=\"139.329189\" xlink:href=\"#m94c99245b5\" y=\"56.542386\"/>\n     <use style=\"fill:#1f77b4;stroke:#1f77b4;\" x=\"163.412936\" xlink:href=\"#m94c99245b5\" y=\"95.526774\"/>\n     <use style=\"fill:#1f77b4;stroke:#1f77b4;\" x=\"154.787956\" xlink:href=\"#m94c99245b5\" y=\"74.712353\"/>\n     <use style=\"fill:#1f77b4;stroke:#1f77b4;\" x=\"137.715744\" xlink:href=\"#m94c99245b5\" y=\"77.287638\"/>\n     <use style=\"fill:#1f77b4;stroke:#1f77b4;\" x=\"130.97764\" xlink:href=\"#m94c99245b5\" y=\"71.277286\"/>\n     <use style=\"fill:#1f77b4;stroke:#1f77b4;\" x=\"141.606355\" xlink:href=\"#m94c99245b5\" y=\"73.988765\"/>\n     <use style=\"fill:#1f77b4;stroke:#1f77b4;\" x=\"121.114313\" xlink:href=\"#m94c99245b5\" y=\"64.542298\"/>\n     <use style=\"fill:#1f77b4;stroke:#1f77b4;\" x=\"123.790945\" xlink:href=\"#m94c99245b5\" y=\"77.160833\"/>\n     <use style=\"fill:#1f77b4;stroke:#1f77b4;\" x=\"112.296452\" xlink:href=\"#m94c99245b5\" y=\"39.130627\"/>\n     <use style=\"fill:#1f77b4;stroke:#1f77b4;\" x=\"179.574472\" xlink:href=\"#m94c99245b5\" y=\"100.693751\"/>\n     <use style=\"fill:#1f77b4;stroke:#1f77b4;\" x=\"147.260247\" xlink:href=\"#m94c99245b5\" y=\"98.623733\"/>\n     <use style=\"fill:#1f77b4;stroke:#1f77b4;\" x=\"145.653681\" xlink:href=\"#m94c99245b5\" y=\"80.477174\"/>\n     <use style=\"fill:#1f77b4;stroke:#1f77b4;\" x=\"142.989676\" xlink:href=\"#m94c99245b5\" y=\"91.009815\"/>\n     <use style=\"fill:#1f77b4;stroke:#1f77b4;\" x=\"145.859028\" xlink:href=\"#m94c99245b5\" y=\"61.665761\"/>\n     <use style=\"fill:#1f77b4;stroke:#1f77b4;\" x=\"109.825196\" xlink:href=\"#m94c99245b5\" y=\"53.650429\"/>\n     <use style=\"fill:#1f77b4;stroke:#1f77b4;\" x=\"168.486622\" xlink:href=\"#m94c99245b5\" y=\"94.46984\"/>\n     <use style=\"fill:#1f77b4;stroke:#1f77b4;\" x=\"142.506071\" xlink:href=\"#m94c99245b5\" y=\"68.267013\"/>\n     <use style=\"fill:#1f77b4;stroke:#1f77b4;\" x=\"148.45709\" xlink:href=\"#m94c99245b5\" y=\"91.596726\"/>\n     <use style=\"fill:#1f77b4;stroke:#1f77b4;\" x=\"194.618055\" xlink:href=\"#m94c99245b5\" y=\"107.565761\"/>\n     <use style=\"fill:#1f77b4;stroke:#1f77b4;\" x=\"174.263576\" xlink:href=\"#m94c99245b5\" y=\"84.286865\"/>\n     <use style=\"fill:#1f77b4;stroke:#1f77b4;\" x=\"104.195852\" xlink:href=\"#m94c99245b5\" y=\"52.093519\"/>\n     <use style=\"fill:#1f77b4;stroke:#1f77b4;\" x=\"135.379579\" xlink:href=\"#m94c99245b5\" y=\"75.918596\"/>\n     <use style=\"fill:#1f77b4;stroke:#1f77b4;\" x=\"156.320008\" xlink:href=\"#m94c99245b5\" y=\"81.1806\"/>\n     <use style=\"fill:#1f77b4;stroke:#1f77b4;\" x=\"134.029165\" xlink:href=\"#m94c99245b5\" y=\"67.487024\"/>\n     <use style=\"fill:#1f77b4;stroke:#1f77b4;\" x=\"179.892278\" xlink:href=\"#m94c99245b5\" y=\"107.178677\"/>\n     <use style=\"fill:#1f77b4;stroke:#1f77b4;\" x=\"145.596058\" xlink:href=\"#m94c99245b5\" y=\"64.223535\"/>\n     <use style=\"fill:#1f77b4;stroke:#1f77b4;\" x=\"44.18196\" xlink:href=\"#m94c99245b5\" y=\"16.65799\"/>\n     <use style=\"fill:#1f77b4;stroke:#1f77b4;\" x=\"158.822849\" xlink:href=\"#m94c99245b5\" y=\"66.270838\"/>\n     <use style=\"fill:#1f77b4;stroke:#1f77b4;\" x=\"131.962029\" xlink:href=\"#m94c99245b5\" y=\"56.841824\"/>\n     <use style=\"fill:#1f77b4;stroke:#1f77b4;\" x=\"84.991858\" xlink:href=\"#m94c99245b5\" y=\"45.219217\"/>\n     <use style=\"fill:#1f77b4;stroke:#1f77b4;\" x=\"186.824693\" xlink:href=\"#m94c99245b5\" y=\"102.870652\"/>\n     <use style=\"fill:#1f77b4;stroke:#1f77b4;\" x=\"138.515454\" xlink:href=\"#m94c99245b5\" y=\"76.586294\"/>\n     <use style=\"fill:#1f77b4;stroke:#1f77b4;\" x=\"104.479324\" xlink:href=\"#m94c99245b5\" y=\"53.046439\"/>\n     <use style=\"fill:#1f77b4;stroke:#1f77b4;\" x=\"178.213107\" xlink:href=\"#m94c99245b5\" y=\"96.871154\"/>\n     <use style=\"fill:#1f77b4;stroke:#1f77b4;\" x=\"100.409498\" xlink:href=\"#m94c99245b5\" y=\"70.272964\"/>\n     <use style=\"fill:#1f77b4;stroke:#1f77b4;\" x=\"147.219675\" xlink:href=\"#m94c99245b5\" y=\"63.577588\"/>\n     <use style=\"fill:#1f77b4;stroke:#1f77b4;\" x=\"140.447359\" xlink:href=\"#m94c99245b5\" y=\"62.537575\"/>\n     <use style=\"fill:#1f77b4;stroke:#1f77b4;\" x=\"111.212536\" xlink:href=\"#m94c99245b5\" y=\"53.474078\"/>\n     <use style=\"fill:#1f77b4;stroke:#1f77b4;\" x=\"145.772611\" xlink:href=\"#m94c99245b5\" y=\"66.470058\"/>\n     <use style=\"fill:#1f77b4;stroke:#1f77b4;\" x=\"132.228013\" xlink:href=\"#m94c99245b5\" y=\"79.283851\"/>\n     <use style=\"fill:#1f77b4;stroke:#1f77b4;\" x=\"178.295105\" xlink:href=\"#m94c99245b5\" y=\"115.478003\"/>\n     <use style=\"fill:#1f77b4;stroke:#1f77b4;\" x=\"103.204952\" xlink:href=\"#m94c99245b5\" y=\"59.167019\"/>\n     <use style=\"fill:#1f77b4;stroke:#1f77b4;\" x=\"119.860371\" xlink:href=\"#m94c99245b5\" y=\"67.977204\"/>\n     <use style=\"fill:#1f77b4;stroke:#1f77b4;\" x=\"149.309573\" xlink:href=\"#m94c99245b5\" y=\"100.466256\"/>\n     <use style=\"fill:#1f77b4;stroke:#1f77b4;\" x=\"113.28455\" xlink:href=\"#m94c99245b5\" y=\"58.292038\"/>\n     <use style=\"fill:#1f77b4;stroke:#1f77b4;\" x=\"121.472087\" xlink:href=\"#m94c99245b5\" y=\"75.502173\"/>\n     <use style=\"fill:#1f77b4;stroke:#1f77b4;\" x=\"129.795765\" xlink:href=\"#m94c99245b5\" y=\"63.4927\"/>\n     <use style=\"fill:#1f77b4;stroke:#1f77b4;\" x=\"123.270266\" xlink:href=\"#m94c99245b5\" y=\"60.938437\"/>\n     <use style=\"fill:#1f77b4;stroke:#1f77b4;\" x=\"143.357512\" xlink:href=\"#m94c99245b5\" y=\"77.012159\"/>\n     <use style=\"fill:#1f77b4;stroke:#1f77b4;\" x=\"111.538986\" xlink:href=\"#m94c99245b5\" y=\"48.840446\"/>\n     <use style=\"fill:#1f77b4;stroke:#1f77b4;\" x=\"124.717057\" xlink:href=\"#m94c99245b5\" y=\"62.004527\"/>\n     <use style=\"fill:#1f77b4;stroke:#1f77b4;\" x=\"125.065559\" xlink:href=\"#m94c99245b5\" y=\"51.463401\"/>\n     <use style=\"fill:#1f77b4;stroke:#1f77b4;\" x=\"154.9268\" xlink:href=\"#m94c99245b5\" y=\"80.019244\"/>\n     <use style=\"fill:#1f77b4;stroke:#1f77b4;\" x=\"167.554321\" xlink:href=\"#m94c99245b5\" y=\"92.647942\"/>\n     <use style=\"fill:#1f77b4;stroke:#1f77b4;\" x=\"94.044682\" xlink:href=\"#m94c99245b5\" y=\"47.24966\"/>\n     <use style=\"fill:#1f77b4;stroke:#1f77b4;\" x=\"189.77003\" xlink:href=\"#m94c99245b5\" y=\"113.15205\"/>\n     <use style=\"fill:#1f77b4;stroke:#1f77b4;\" x=\"145.274649\" xlink:href=\"#m94c99245b5\" y=\"82.578088\"/>\n     <use style=\"fill:#1f77b4;stroke:#1f77b4;\" x=\"119.08415\" xlink:href=\"#m94c99245b5\" y=\"61.147463\"/>\n     <use style=\"fill:#1f77b4;stroke:#1f77b4;\" x=\"154.067574\" xlink:href=\"#m94c99245b5\" y=\"67.681002\"/>\n     <use style=\"fill:#1f77b4;stroke:#1f77b4;\" x=\"89.242971\" xlink:href=\"#m94c99245b5\" y=\"55.605646\"/>\n     <use style=\"fill:#1f77b4;stroke:#1f77b4;\" x=\"128.211772\" xlink:href=\"#m94c99245b5\" y=\"68.004527\"/>\n     <use style=\"fill:#1f77b4;stroke:#1f77b4;\" x=\"132.640665\" xlink:href=\"#m94c99245b5\" y=\"67.349133\"/>\n     <use style=\"fill:#1f77b4;stroke:#1f77b4;\" x=\"182.706543\" xlink:href=\"#m94c99245b5\" y=\"97.011907\"/>\n     <use style=\"fill:#1f77b4;stroke:#1f77b4;\" x=\"64.305035\" xlink:href=\"#m94c99245b5\" y=\"19.485622\"/>\n     <use style=\"fill:#1f77b4;stroke:#1f77b4;\" x=\"143.799329\" xlink:href=\"#m94c99245b5\" y=\"77.533529\"/>\n     <use style=\"fill:#1f77b4;stroke:#1f77b4;\" x=\"146.783417\" xlink:href=\"#m94c99245b5\" y=\"83.569676\"/>\n     <use style=\"fill:#1f77b4;stroke:#1f77b4;\" x=\"153.61479\" xlink:href=\"#m94c99245b5\" y=\"75.1336\"/>\n     <use style=\"fill:#1f77b4;stroke:#1f77b4;\" x=\"182.829801\" xlink:href=\"#m94c99245b5\" y=\"104.172878\"/>\n     <use style=\"fill:#1f77b4;stroke:#1f77b4;\" x=\"84.495954\" xlink:href=\"#m94c99245b5\" y=\"31.618704\"/>\n     <use style=\"fill:#1f77b4;stroke:#1f77b4;\" x=\"155.11924\" xlink:href=\"#m94c99245b5\" y=\"69.056275\"/>\n     <use style=\"fill:#1f77b4;stroke:#1f77b4;\" x=\"131.689283\" xlink:href=\"#m94c99245b5\" y=\"74.654382\"/>\n     <use style=\"fill:#1f77b4;stroke:#1f77b4;\" x=\"133.135044\" xlink:href=\"#m94c99245b5\" y=\"69.899815\"/>\n     <use style=\"fill:#1f77b4;stroke:#1f77b4;\" x=\"185.396478\" xlink:href=\"#m94c99245b5\" y=\"115.359672\"/>\n     <use style=\"fill:#1f77b4;stroke:#1f77b4;\" x=\"174.847284\" xlink:href=\"#m94c99245b5\" y=\"76.268941\"/>\n     <use style=\"fill:#1f77b4;stroke:#1f77b4;\" x=\"108.657674\" xlink:href=\"#m94c99245b5\" y=\"58.181179\"/>\n     <use style=\"fill:#1f77b4;stroke:#1f77b4;\" x=\"166.246278\" xlink:href=\"#m94c99245b5\" y=\"90.551967\"/>\n     <use style=\"fill:#1f77b4;stroke:#1f77b4;\" x=\"142.540848\" xlink:href=\"#m94c99245b5\" y=\"83.983831\"/>\n     <use style=\"fill:#1f77b4;stroke:#1f77b4;\" x=\"138.737601\" xlink:href=\"#m94c99245b5\" y=\"62.846345\"/>\n     <use style=\"fill:#1f77b4;stroke:#1f77b4;\" x=\"134.11908\" xlink:href=\"#m94c99245b5\" y=\"69.588226\"/>\n     <use style=\"fill:#1f77b4;stroke:#1f77b4;\" x=\"128.755728\" xlink:href=\"#m94c99245b5\" y=\"52.074369\"/>\n     <use style=\"fill:#1f77b4;stroke:#1f77b4;\" x=\"128.70848\" xlink:href=\"#m94c99245b5\" y=\"81.670329\"/>\n     <use style=\"fill:#1f77b4;stroke:#1f77b4;\" x=\"132.282063\" xlink:href=\"#m94c99245b5\" y=\"62.901524\"/>\n     <use style=\"fill:#1f77b4;stroke:#1f77b4;\" x=\"171.75409\" xlink:href=\"#m94c99245b5\" y=\"80.72925\"/>\n     <use style=\"fill:#1f77b4;stroke:#1f77b4;\" x=\"158.052854\" xlink:href=\"#m94c99245b5\" y=\"85.271786\"/>\n     <use style=\"fill:#1f77b4;stroke:#1f77b4;\" x=\"158.718892\" xlink:href=\"#m94c99245b5\" y=\"89.072478\"/>\n     <use style=\"fill:#1f77b4;stroke:#1f77b4;\" x=\"89.177022\" xlink:href=\"#m94c99245b5\" y=\"40.712258\"/>\n     <use style=\"fill:#1f77b4;stroke:#1f77b4;\" x=\"154.05304\" xlink:href=\"#m94c99245b5\" y=\"85.392189\"/>\n     <use style=\"fill:#1f77b4;stroke:#1f77b4;\" x=\"169.562908\" xlink:href=\"#m94c99245b5\" y=\"99.484773\"/>\n     <use style=\"fill:#1f77b4;stroke:#1f77b4;\" x=\"152.853281\" xlink:href=\"#m94c99245b5\" y=\"83.311557\"/>\n     <use style=\"fill:#1f77b4;stroke:#1f77b4;\" x=\"177.26648\" xlink:href=\"#m94c99245b5\" y=\"110.479169\"/>\n     <use style=\"fill:#1f77b4;stroke:#1f77b4;\" x=\"161.870705\" xlink:href=\"#m94c99245b5\" y=\"96.167268\"/>\n     <use style=\"fill:#1f77b4;stroke:#1f77b4;\" x=\"153.605548\" xlink:href=\"#m94c99245b5\" y=\"85.097866\"/>\n     <use style=\"fill:#1f77b4;stroke:#1f77b4;\" x=\"120.413376\" xlink:href=\"#m94c99245b5\" y=\"64.099707\"/>\n     <use style=\"fill:#1f77b4;stroke:#1f77b4;\" x=\"131.782703\" xlink:href=\"#m94c99245b5\" y=\"69.522235\"/>\n     <use style=\"fill:#1f77b4;stroke:#1f77b4;\" x=\"157.379236\" xlink:href=\"#m94c99245b5\" y=\"74.362179\"/>\n     <use style=\"fill:#1f77b4;stroke:#1f77b4;\" x=\"94.695891\" xlink:href=\"#m94c99245b5\" y=\"38.464839\"/>\n     <use style=\"fill:#1f77b4;stroke:#1f77b4;\" x=\"164.380893\" xlink:href=\"#m94c99245b5\" y=\"81.367405\"/>\n     <use style=\"fill:#1f77b4;stroke:#1f77b4;\" x=\"147.537105\" xlink:href=\"#m94c99245b5\" y=\"70.800231\"/>\n     <use style=\"fill:#1f77b4;stroke:#1f77b4;\" x=\"127.544272\" xlink:href=\"#m94c99245b5\" y=\"66.640196\"/>\n     <use style=\"fill:#1f77b4;stroke:#1f77b4;\" x=\"124.592921\" xlink:href=\"#m94c99245b5\" y=\"60.088219\"/>\n     <use style=\"fill:#1f77b4;stroke:#1f77b4;\" x=\"150.32906\" xlink:href=\"#m94c99245b5\" y=\"79.453922\"/>\n     <use style=\"fill:#1f77b4;stroke:#1f77b4;\" x=\"125.101814\" xlink:href=\"#m94c99245b5\" y=\"74.62676\"/>\n     <use style=\"fill:#1f77b4;stroke:#1f77b4;\" x=\"126.256305\" xlink:href=\"#m94c99245b5\" y=\"65.774628\"/>\n     <use style=\"fill:#1f77b4;stroke:#1f77b4;\" x=\"139.498764\" xlink:href=\"#m94c99245b5\" y=\"71.478618\"/>\n     <use style=\"fill:#1f77b4;stroke:#1f77b4;\" x=\"151.734017\" xlink:href=\"#m94c99245b5\" y=\"98.514836\"/>\n     <use style=\"fill:#1f77b4;stroke:#1f77b4;\" x=\"139.179951\" xlink:href=\"#m94c99245b5\" y=\"71.729279\"/>\n     <use style=\"fill:#1f77b4;stroke:#1f77b4;\" x=\"116.684895\" xlink:href=\"#m94c99245b5\" y=\"55.525767\"/>\n     <use style=\"fill:#1f77b4;stroke:#1f77b4;\" x=\"98.562328\" xlink:href=\"#m94c99245b5\" y=\"39.408236\"/>\n     <use style=\"fill:#1f77b4;stroke:#1f77b4;\" x=\"116.68911\" xlink:href=\"#m94c99245b5\" y=\"38.452818\"/>\n     <use style=\"fill:#1f77b4;stroke:#1f77b4;\" x=\"153.92978\" xlink:href=\"#m94c99245b5\" y=\"84.406782\"/>\n     <use style=\"fill:#1f77b4;stroke:#1f77b4;\" x=\"160.248382\" xlink:href=\"#m94c99245b5\" y=\"86.617042\"/>\n     <use style=\"fill:#1f77b4;stroke:#1f77b4;\" x=\"131.259417\" xlink:href=\"#m94c99245b5\" y=\"81.163103\"/>\n     <use style=\"fill:#1f77b4;stroke:#1f77b4;\" x=\"145.032736\" xlink:href=\"#m94c99245b5\" y=\"91.813879\"/>\n     <use style=\"fill:#1f77b4;stroke:#1f77b4;\" x=\"154.256001\" xlink:href=\"#m94c99245b5\" y=\"89.39836\"/>\n     <use style=\"fill:#1f77b4;stroke:#1f77b4;\" x=\"128.46427\" xlink:href=\"#m94c99245b5\" y=\"60.666829\"/>\n     <use style=\"fill:#1f77b4;stroke:#1f77b4;\" x=\"154.225925\" xlink:href=\"#m94c99245b5\" y=\"84.586511\"/>\n     <use style=\"fill:#1f77b4;stroke:#1f77b4;\" x=\"107.185975\" xlink:href=\"#m94c99245b5\" y=\"53.161117\"/>\n     <use style=\"fill:#1f77b4;stroke:#1f77b4;\" x=\"155.570854\" xlink:href=\"#m94c99245b5\" y=\"90.409774\"/>\n     <use style=\"fill:#1f77b4;stroke:#1f77b4;\" x=\"160.309403\" xlink:href=\"#m94c99245b5\" y=\"98.085614\"/>\n     <use style=\"fill:#1f77b4;stroke:#1f77b4;\" x=\"106.175815\" xlink:href=\"#m94c99245b5\" y=\"44.177341\"/>\n     <use style=\"fill:#1f77b4;stroke:#1f77b4;\" x=\"112.928402\" xlink:href=\"#m94c99245b5\" y=\"51.905367\"/>\n     <use style=\"fill:#1f77b4;stroke:#1f77b4;\" x=\"152.452657\" xlink:href=\"#m94c99245b5\" y=\"84.139777\"/>\n     <use style=\"fill:#1f77b4;stroke:#1f77b4;\" x=\"184.572028\" xlink:href=\"#m94c99245b5\" y=\"97.934393\"/>\n     <use style=\"fill:#1f77b4;stroke:#1f77b4;\" x=\"94.405548\" xlink:href=\"#m94c99245b5\" y=\"46.947136\"/>\n     <use style=\"fill:#1f77b4;stroke:#1f77b4;\" x=\"153.345604\" xlink:href=\"#m94c99245b5\" y=\"81.00869\"/>\n     <use style=\"fill:#1f77b4;stroke:#1f77b4;\" x=\"154.70564\" xlink:href=\"#m94c99245b5\" y=\"64.455906\"/>\n     <use style=\"fill:#1f77b4;stroke:#1f77b4;\" x=\"136.862263\" xlink:href=\"#m94c99245b5\" y=\"76.202366\"/>\n     <use style=\"fill:#1f77b4;stroke:#1f77b4;\" x=\"162.537428\" xlink:href=\"#m94c99245b5\" y=\"91.079176\"/>\n     <use style=\"fill:#1f77b4;stroke:#1f77b4;\" x=\"103.765521\" xlink:href=\"#m94c99245b5\" y=\"50.092722\"/>\n     <use style=\"fill:#1f77b4;stroke:#1f77b4;\" x=\"134.428278\" xlink:href=\"#m94c99245b5\" y=\"81.016572\"/>\n     <use style=\"fill:#1f77b4;stroke:#1f77b4;\" x=\"148.152299\" xlink:href=\"#m94c99245b5\" y=\"78.841832\"/>\n     <use style=\"fill:#1f77b4;stroke:#1f77b4;\" x=\"107.073656\" xlink:href=\"#m94c99245b5\" y=\"52.279986\"/>\n     <use style=\"fill:#1f77b4;stroke:#1f77b4;\" x=\"146.708232\" xlink:href=\"#m94c99245b5\" y=\"89.074491\"/>\n     <use style=\"fill:#1f77b4;stroke:#1f77b4;\" x=\"136.544235\" xlink:href=\"#m94c99245b5\" y=\"67.702773\"/>\n     <use style=\"fill:#1f77b4;stroke:#1f77b4;\" x=\"116.530595\" xlink:href=\"#m94c99245b5\" y=\"60.615611\"/>\n     <use style=\"fill:#1f77b4;stroke:#1f77b4;\" x=\"128.098638\" xlink:href=\"#m94c99245b5\" y=\"61.025089\"/>\n     <use style=\"fill:#1f77b4;stroke:#1f77b4;\" x=\"163.260999\" xlink:href=\"#m94c99245b5\" y=\"87.864657\"/>\n     <use style=\"fill:#1f77b4;stroke:#1f77b4;\" x=\"145.535589\" xlink:href=\"#m94c99245b5\" y=\"74.489457\"/>\n     <use style=\"fill:#1f77b4;stroke:#1f77b4;\" x=\"142.39117\" xlink:href=\"#m94c99245b5\" y=\"90.495225\"/>\n     <use style=\"fill:#1f77b4;stroke:#1f77b4;\" x=\"165.277015\" xlink:href=\"#m94c99245b5\" y=\"76.615662\"/>\n     <use style=\"fill:#1f77b4;stroke:#1f77b4;\" x=\"172.730135\" xlink:href=\"#m94c99245b5\" y=\"96.176511\"/>\n     <use style=\"fill:#1f77b4;stroke:#1f77b4;\" x=\"182.726047\" xlink:href=\"#m94c99245b5\" y=\"96.868103\"/>\n     <use style=\"fill:#1f77b4;stroke:#1f77b4;\" x=\"164.826414\" xlink:href=\"#m94c99245b5\" y=\"75.647143\"/>\n     <use style=\"fill:#1f77b4;stroke:#1f77b4;\" x=\"121.202687\" xlink:href=\"#m94c99245b5\" y=\"65.376808\"/>\n     <use style=\"fill:#1f77b4;stroke:#1f77b4;\" x=\"125.305173\" xlink:href=\"#m94c99245b5\" y=\"70.662998\"/>\n     <use style=\"fill:#1f77b4;stroke:#1f77b4;\" x=\"127.950525\" xlink:href=\"#m94c99245b5\" y=\"76.364324\"/>\n     <use style=\"fill:#1f77b4;stroke:#1f77b4;\" x=\"150.137948\" xlink:href=\"#m94c99245b5\" y=\"86.683972\"/>\n     <use style=\"fill:#1f77b4;stroke:#1f77b4;\" x=\"143.913109\" xlink:href=\"#m94c99245b5\" y=\"69.973084\"/>\n     <use style=\"fill:#1f77b4;stroke:#1f77b4;\" x=\"147.288974\" xlink:href=\"#m94c99245b5\" y=\"87.325886\"/>\n     <use style=\"fill:#1f77b4;stroke:#1f77b4;\" x=\"124.701175\" xlink:href=\"#m94c99245b5\" y=\"64.177839\"/>\n     <use style=\"fill:#1f77b4;stroke:#1f77b4;\" x=\"161.792205\" xlink:href=\"#m94c99245b5\" y=\"97.918098\"/>\n     <use style=\"fill:#1f77b4;stroke:#1f77b4;\" x=\"135.811497\" xlink:href=\"#m94c99245b5\" y=\"88.95287\"/>\n     <use style=\"fill:#1f77b4;stroke:#1f77b4;\" x=\"135.745598\" xlink:href=\"#m94c99245b5\" y=\"81.41671\"/>\n     <use style=\"fill:#1f77b4;stroke:#1f77b4;\" x=\"118.001198\" xlink:href=\"#m94c99245b5\" y=\"63.483489\"/>\n     <use style=\"fill:#1f77b4;stroke:#1f77b4;\" x=\"178.701482\" xlink:href=\"#m94c99245b5\" y=\"97.523235\"/>\n     <use style=\"fill:#1f77b4;stroke:#1f77b4;\" x=\"145.899954\" xlink:href=\"#m94c99245b5\" y=\"84.91114\"/>\n     <use style=\"fill:#1f77b4;stroke:#1f77b4;\" x=\"141.76816\" xlink:href=\"#m94c99245b5\" y=\"77.366512\"/>\n     <use style=\"fill:#1f77b4;stroke:#1f77b4;\" x=\"165.140018\" xlink:href=\"#m94c99245b5\" y=\"77.620265\"/>\n     <use style=\"fill:#1f77b4;stroke:#1f77b4;\" x=\"129.789507\" xlink:href=\"#m94c99245b5\" y=\"44.551989\"/>\n     <use style=\"fill:#1f77b4;stroke:#1f77b4;\" x=\"118.567099\" xlink:href=\"#m94c99245b5\" y=\"62.173194\"/>\n     <use style=\"fill:#1f77b4;stroke:#1f77b4;\" x=\"165.319068\" xlink:href=\"#m94c99245b5\" y=\"66.394298\"/>\n     <use style=\"fill:#1f77b4;stroke:#1f77b4;\" x=\"110.351922\" xlink:href=\"#m94c99245b5\" y=\"48.717657\"/>\n     <use style=\"fill:#1f77b4;stroke:#1f77b4;\" x=\"170.987472\" xlink:href=\"#m94c99245b5\" y=\"95.836158\"/>\n     <use style=\"fill:#1f77b4;stroke:#1f77b4;\" x=\"136.371462\" xlink:href=\"#m94c99245b5\" y=\"58.125514\"/>\n     <use style=\"fill:#1f77b4;stroke:#1f77b4;\" x=\"150.500705\" xlink:href=\"#m94c99245b5\" y=\"79.960979\"/>\n     <use style=\"fill:#1f77b4;stroke:#1f77b4;\" x=\"109.42281\" xlink:href=\"#m94c99245b5\" y=\"53.347804\"/>\n     <use style=\"fill:#1f77b4;stroke:#1f77b4;\" x=\"128.099957\" xlink:href=\"#m94c99245b5\" y=\"69.696294\"/>\n     <use style=\"fill:#1f77b4;stroke:#1f77b4;\" x=\"147.517495\" xlink:href=\"#m94c99245b5\" y=\"68.079758\"/>\n     <use style=\"fill:#1f77b4;stroke:#1f77b4;\" x=\"102.29184\" xlink:href=\"#m94c99245b5\" y=\"48.466001\"/>\n     <use style=\"fill:#1f77b4;stroke:#1f77b4;\" x=\"140.593484\" xlink:href=\"#m94c99245b5\" y=\"76.298234\"/>\n     <use style=\"fill:#1f77b4;stroke:#1f77b4;\" x=\"134.333518\" xlink:href=\"#m94c99245b5\" y=\"62.134528\"/>\n     <use style=\"fill:#1f77b4;stroke:#1f77b4;\" x=\"132.566968\" xlink:href=\"#m94c99245b5\" y=\"74.084366\"/>\n     <use style=\"fill:#1f77b4;stroke:#1f77b4;\" x=\"165.869526\" xlink:href=\"#m94c99245b5\" y=\"103.065427\"/>\n     <use style=\"fill:#1f77b4;stroke:#1f77b4;\" x=\"127.751865\" xlink:href=\"#m94c99245b5\" y=\"67.967627\"/>\n     <use style=\"fill:#1f77b4;stroke:#1f77b4;\" x=\"128.41342\" xlink:href=\"#m94c99245b5\" y=\"62.142543\"/>\n     <use style=\"fill:#1f77b4;stroke:#1f77b4;\" x=\"101.033707\" xlink:href=\"#m94c99245b5\" y=\"67.112366\"/>\n     <use style=\"fill:#1f77b4;stroke:#1f77b4;\" x=\"147.618669\" xlink:href=\"#m94c99245b5\" y=\"76.771182\"/>\n     <use style=\"fill:#1f77b4;stroke:#1f77b4;\" x=\"177.422536\" xlink:href=\"#m94c99245b5\" y=\"101.861275\"/>\n     <use style=\"fill:#1f77b4;stroke:#1f77b4;\" x=\"96.48164\" xlink:href=\"#m94c99245b5\" y=\"50.263599\"/>\n     <use style=\"fill:#1f77b4;stroke:#1f77b4;\" x=\"157.007523\" xlink:href=\"#m94c99245b5\" y=\"75.491265\"/>\n     <use style=\"fill:#1f77b4;stroke:#1f77b4;\" x=\"127.836126\" xlink:href=\"#m94c99245b5\" y=\"60.183622\"/>\n     <use style=\"fill:#1f77b4;stroke:#1f77b4;\" x=\"133.743242\" xlink:href=\"#m94c99245b5\" y=\"90.012833\"/>\n     <use style=\"fill:#1f77b4;stroke:#1f77b4;\" x=\"116.310008\" xlink:href=\"#m94c99245b5\" y=\"62.729665\"/>\n     <use style=\"fill:#1f77b4;stroke:#1f77b4;\" x=\"130.158352\" xlink:href=\"#m94c99245b5\" y=\"73.607575\"/>\n     <use style=\"fill:#1f77b4;stroke:#1f77b4;\" x=\"136.761137\" xlink:href=\"#m94c99245b5\" y=\"82.240522\"/>\n     <use style=\"fill:#1f77b4;stroke:#1f77b4;\" x=\"142.623582\" xlink:href=\"#m94c99245b5\" y=\"73.795015\"/>\n     <use style=\"fill:#1f77b4;stroke:#1f77b4;\" x=\"111.31798\" xlink:href=\"#m94c99245b5\" y=\"58.891533\"/>\n     <use style=\"fill:#1f77b4;stroke:#1f77b4;\" x=\"174.043643\" xlink:href=\"#m94c99245b5\" y=\"86.247362\"/>\n     <use style=\"fill:#1f77b4;stroke:#1f77b4;\" x=\"146.066912\" xlink:href=\"#m94c99245b5\" y=\"74.147857\"/>\n     <use style=\"fill:#1f77b4;stroke:#1f77b4;\" x=\"140.583548\" xlink:href=\"#m94c99245b5\" y=\"55.328457\"/>\n     <use style=\"fill:#1f77b4;stroke:#1f77b4;\" x=\"190.629739\" xlink:href=\"#m94c99245b5\" y=\"118.84442\"/>\n     <use style=\"fill:#1f77b4;stroke:#1f77b4;\" x=\"162.737545\" xlink:href=\"#m94c99245b5\" y=\"93.213913\"/>\n     <use style=\"fill:#1f77b4;stroke:#1f77b4;\" x=\"103.553477\" xlink:href=\"#m94c99245b5\" y=\"43.999174\"/>\n     <use style=\"fill:#1f77b4;stroke:#1f77b4;\" x=\"82.565458\" xlink:href=\"#m94c99245b5\" y=\"24.477185\"/>\n     <use style=\"fill:#1f77b4;stroke:#1f77b4;\" x=\"154.51504\" xlink:href=\"#m94c99245b5\" y=\"82.526755\"/>\n     <use style=\"fill:#1f77b4;stroke:#1f77b4;\" x=\"182.449331\" xlink:href=\"#m94c99245b5\" y=\"122.408718\"/>\n     <use style=\"fill:#1f77b4;stroke:#1f77b4;\" x=\"167.431345\" xlink:href=\"#m94c99245b5\" y=\"95.226443\"/>\n     <use style=\"fill:#1f77b4;stroke:#1f77b4;\" x=\"197.088949\" xlink:href=\"#m94c99245b5\" y=\"105.816619\"/>\n     <use style=\"fill:#1f77b4;stroke:#1f77b4;\" x=\"128.865316\" xlink:href=\"#m94c99245b5\" y=\"49.64798\"/>\n     <use style=\"fill:#1f77b4;stroke:#1f77b4;\" x=\"125.415544\" xlink:href=\"#m94c99245b5\" y=\"61.431703\"/>\n     <use style=\"fill:#1f77b4;stroke:#1f77b4;\" x=\"129.77997\" xlink:href=\"#m94c99245b5\" y=\"43.790366\"/>\n     <use style=\"fill:#1f77b4;stroke:#1f77b4;\" x=\"142.120692\" xlink:href=\"#m94c99245b5\" y=\"51.57993\"/>\n     <use style=\"fill:#1f77b4;stroke:#1f77b4;\" x=\"161.316162\" xlink:href=\"#m94c99245b5\" y=\"78.53544\"/>\n     <use style=\"fill:#1f77b4;stroke:#1f77b4;\" x=\"115.333253\" xlink:href=\"#m94c99245b5\" y=\"71.799801\"/>\n     <use style=\"fill:#1f77b4;stroke:#1f77b4;\" x=\"127.690415\" xlink:href=\"#m94c99245b5\" y=\"66.604747\"/>\n     <use style=\"fill:#1f77b4;stroke:#1f77b4;\" x=\"102.991365\" xlink:href=\"#m94c99245b5\" y=\"47.713769\"/>\n     <use style=\"fill:#1f77b4;stroke:#1f77b4;\" x=\"173.848293\" xlink:href=\"#m94c99245b5\" y=\"75.495118\"/>\n     <use style=\"fill:#1f77b4;stroke:#1f77b4;\" x=\"138.144804\" xlink:href=\"#m94c99245b5\" y=\"64.043857\"/>\n     <use style=\"fill:#1f77b4;stroke:#1f77b4;\" x=\"177.904546\" xlink:href=\"#m94c99245b5\" y=\"80.882296\"/>\n     <use style=\"fill:#1f77b4;stroke:#1f77b4;\" x=\"104.6643\" xlink:href=\"#m94c99245b5\" y=\"40.01215\"/>\n     <use style=\"fill:#1f77b4;stroke:#1f77b4;\" x=\"122.870476\" xlink:href=\"#m94c99245b5\" y=\"70.330532\"/>\n     <use style=\"fill:#1f77b4;stroke:#1f77b4;\" x=\"92.30926\" xlink:href=\"#m94c99245b5\" y=\"30.767696\"/>\n     <use style=\"fill:#1f77b4;stroke:#1f77b4;\" x=\"136.044333\" xlink:href=\"#m94c99245b5\" y=\"83.880032\"/>\n     <use style=\"fill:#1f77b4;stroke:#1f77b4;\" x=\"152.055472\" xlink:href=\"#m94c99245b5\" y=\"64.442348\"/>\n     <use style=\"fill:#1f77b4;stroke:#1f77b4;\" x=\"160.735607\" xlink:href=\"#m94c99245b5\" y=\"91.347118\"/>\n     <use style=\"fill:#1f77b4;stroke:#1f77b4;\" x=\"148.324794\" xlink:href=\"#m94c99245b5\" y=\"92.588999\"/>\n     <use style=\"fill:#1f77b4;stroke:#1f77b4;\" x=\"142.243182\" xlink:href=\"#m94c99245b5\" y=\"59.114598\"/>\n     <use style=\"fill:#1f77b4;stroke:#1f77b4;\" x=\"143.029272\" xlink:href=\"#m94c99245b5\" y=\"87.008956\"/>\n     <use style=\"fill:#1f77b4;stroke:#1f77b4;\" x=\"192.447461\" xlink:href=\"#m94c99245b5\" y=\"104.297183\"/>\n     <use style=\"fill:#1f77b4;stroke:#1f77b4;\" x=\"154.537824\" xlink:href=\"#m94c99245b5\" y=\"70.065491\"/>\n     <use style=\"fill:#1f77b4;stroke:#1f77b4;\" x=\"139.571537\" xlink:href=\"#m94c99245b5\" y=\"77.832667\"/>\n     <use style=\"fill:#1f77b4;stroke:#1f77b4;\" x=\"121.982406\" xlink:href=\"#m94c99245b5\" y=\"65.285064\"/>\n     <use style=\"fill:#1f77b4;stroke:#1f77b4;\" x=\"158.600788\" xlink:href=\"#m94c99245b5\" y=\"84.878516\"/>\n     <use style=\"fill:#1f77b4;stroke:#1f77b4;\" x=\"166.644681\" xlink:href=\"#m94c99245b5\" y=\"84.858986\"/>\n     <use style=\"fill:#1f77b4;stroke:#1f77b4;\" x=\"116.477421\" xlink:href=\"#m94c99245b5\" y=\"72.545378\"/>\n     <use style=\"fill:#1f77b4;stroke:#1f77b4;\" x=\"112.481644\" xlink:href=\"#m94c99245b5\" y=\"52.328144\"/>\n     <use style=\"fill:#1f77b4;stroke:#1f77b4;\" x=\"179.381236\" xlink:href=\"#m94c99245b5\" y=\"103.740292\"/>\n     <use style=\"fill:#1f77b4;stroke:#1f77b4;\" x=\"142.983534\" xlink:href=\"#m94c99245b5\" y=\"60.997603\"/>\n     <use style=\"fill:#1f77b4;stroke:#1f77b4;\" x=\"165.97892\" xlink:href=\"#m94c99245b5\" y=\"102.849946\"/>\n     <use style=\"fill:#1f77b4;stroke:#1f77b4;\" x=\"128.562153\" xlink:href=\"#m94c99245b5\" y=\"65.120714\"/>\n     <use style=\"fill:#1f77b4;stroke:#1f77b4;\" x=\"128.342409\" xlink:href=\"#m94c99245b5\" y=\"56.653629\"/>\n     <use style=\"fill:#1f77b4;stroke:#1f77b4;\" x=\"48.113309\" xlink:href=\"#m94c99245b5\" y=\"13.377273\"/>\n     <use style=\"fill:#1f77b4;stroke:#1f77b4;\" x=\"155.507156\" xlink:href=\"#m94c99245b5\" y=\"73.441488\"/>\n     <use style=\"fill:#1f77b4;stroke:#1f77b4;\" x=\"144.424868\" xlink:href=\"#m94c99245b5\" y=\"71.066945\"/>\n     <use style=\"fill:#1f77b4;stroke:#1f77b4;\" x=\"184.647138\" xlink:href=\"#m94c99245b5\" y=\"92.993653\"/>\n     <use style=\"fill:#1f77b4;stroke:#1f77b4;\" x=\"72.317126\" xlink:href=\"#m94c99245b5\" y=\"35.880915\"/>\n     <use style=\"fill:#1f77b4;stroke:#1f77b4;\" x=\"103.482495\" xlink:href=\"#m94c99245b5\" y=\"24.711466\"/>\n     <use style=\"fill:#1f77b4;stroke:#1f77b4;\" x=\"119.519039\" xlink:href=\"#m94c99245b5\" y=\"70.546333\"/>\n     <use style=\"fill:#1f77b4;stroke:#1f77b4;\" x=\"144.544075\" xlink:href=\"#m94c99245b5\" y=\"68.624916\"/>\n     <use style=\"fill:#1f77b4;stroke:#1f77b4;\" x=\"159.665814\" xlink:href=\"#m94c99245b5\" y=\"66.08659\"/>\n     <use style=\"fill:#1f77b4;stroke:#1f77b4;\" x=\"139.715452\" xlink:href=\"#m94c99245b5\" y=\"74.983392\"/>\n     <use style=\"fill:#1f77b4;stroke:#1f77b4;\" x=\"134.511138\" xlink:href=\"#m94c99245b5\" y=\"74.47412\"/>\n     <use style=\"fill:#1f77b4;stroke:#1f77b4;\" x=\"117.301101\" xlink:href=\"#m94c99245b5\" y=\"60.52056\"/>\n     <use style=\"fill:#1f77b4;stroke:#1f77b4;\" x=\"132.175922\" xlink:href=\"#m94c99245b5\" y=\"82.598836\"/>\n     <use style=\"fill:#1f77b4;stroke:#1f77b4;\" x=\"172.598019\" xlink:href=\"#m94c99245b5\" y=\"101.518043\"/>\n     <use style=\"fill:#1f77b4;stroke:#1f77b4;\" x=\"166.754668\" xlink:href=\"#m94c99245b5\" y=\"97.195386\"/>\n     <use style=\"fill:#1f77b4;stroke:#1f77b4;\" x=\"177.710807\" xlink:href=\"#m94c99245b5\" y=\"92.894917\"/>\n     <use style=\"fill:#1f77b4;stroke:#1f77b4;\" x=\"161.220203\" xlink:href=\"#m94c99245b5\" y=\"96.910953\"/>\n     <use style=\"fill:#1f77b4;stroke:#1f77b4;\" x=\"96.515108\" xlink:href=\"#m94c99245b5\" y=\"33.360745\"/>\n     <use style=\"fill:#1f77b4;stroke:#1f77b4;\" x=\"149.667239\" xlink:href=\"#m94c99245b5\" y=\"64.578034\"/>\n     <use style=\"fill:#1f77b4;stroke:#1f77b4;\" x=\"124.777271\" xlink:href=\"#m94c99245b5\" y=\"54.276501\"/>\n     <use style=\"fill:#1f77b4;stroke:#1f77b4;\" x=\"173.490516\" xlink:href=\"#m94c99245b5\" y=\"87.605366\"/>\n     <use style=\"fill:#1f77b4;stroke:#1f77b4;\" x=\"149.218372\" xlink:href=\"#m94c99245b5\" y=\"73.299123\"/>\n     <use style=\"fill:#1f77b4;stroke:#1f77b4;\" x=\"105.927117\" xlink:href=\"#m94c99245b5\" y=\"37.728692\"/>\n     <use style=\"fill:#1f77b4;stroke:#1f77b4;\" x=\"110.879711\" xlink:href=\"#m94c99245b5\" y=\"51.263577\"/>\n     <use style=\"fill:#1f77b4;stroke:#1f77b4;\" x=\"105.86351\" xlink:href=\"#m94c99245b5\" y=\"74.406136\"/>\n     <use style=\"fill:#1f77b4;stroke:#1f77b4;\" x=\"128.370265\" xlink:href=\"#m94c99245b5\" y=\"79.823742\"/>\n     <use style=\"fill:#1f77b4;stroke:#1f77b4;\" x=\"118.694066\" xlink:href=\"#m94c99245b5\" y=\"55.917889\"/>\n     <use style=\"fill:#1f77b4;stroke:#1f77b4;\" x=\"121.562658\" xlink:href=\"#m94c99245b5\" y=\"63.971828\"/>\n     <use style=\"fill:#1f77b4;stroke:#1f77b4;\" x=\"125.832816\" xlink:href=\"#m94c99245b5\" y=\"43.860478\"/>\n     <use style=\"fill:#1f77b4;stroke:#1f77b4;\" x=\"163.141207\" xlink:href=\"#m94c99245b5\" y=\"94.234922\"/>\n     <use style=\"fill:#1f77b4;stroke:#1f77b4;\" x=\"193.15896\" xlink:href=\"#m94c99245b5\" y=\"123.2113\"/>\n     <use style=\"fill:#1f77b4;stroke:#1f77b4;\" x=\"150.567033\" xlink:href=\"#m94c99245b5\" y=\"91.730761\"/>\n     <use style=\"fill:#1f77b4;stroke:#1f77b4;\" x=\"106.134894\" xlink:href=\"#m94c99245b5\" y=\"39.680764\"/>\n     <use style=\"fill:#1f77b4;stroke:#1f77b4;\" x=\"83.461003\" xlink:href=\"#m94c99245b5\" y=\"39.704135\"/>\n     <use style=\"fill:#1f77b4;stroke:#1f77b4;\" x=\"136.432799\" xlink:href=\"#m94c99245b5\" y=\"66.085058\"/>\n     <use style=\"fill:#1f77b4;stroke:#1f77b4;\" x=\"151.323335\" xlink:href=\"#m94c99245b5\" y=\"87.42354\"/>\n     <use style=\"fill:#1f77b4;stroke:#1f77b4;\" x=\"147.04528\" xlink:href=\"#m94c99245b5\" y=\"78.37772\"/>\n     <use style=\"fill:#1f77b4;stroke:#1f77b4;\" x=\"146.166944\" xlink:href=\"#m94c99245b5\" y=\"89.790086\"/>\n     <use style=\"fill:#1f77b4;stroke:#1f77b4;\" x=\"140.642907\" xlink:href=\"#m94c99245b5\" y=\"85.920511\"/>\n     <use style=\"fill:#1f77b4;stroke:#1f77b4;\" x=\"128.936972\" xlink:href=\"#m94c99245b5\" y=\"66.368788\"/>\n     <use style=\"fill:#1f77b4;stroke:#1f77b4;\" x=\"140.601771\" xlink:href=\"#m94c99245b5\" y=\"68.052388\"/>\n     <use style=\"fill:#1f77b4;stroke:#1f77b4;\" x=\"168.157315\" xlink:href=\"#m94c99245b5\" y=\"86.425906\"/>\n     <use style=\"fill:#1f77b4;stroke:#1f77b4;\" x=\"135.68273\" xlink:href=\"#m94c99245b5\" y=\"76.48331\"/>\n     <use style=\"fill:#1f77b4;stroke:#1f77b4;\" x=\"157.644231\" xlink:href=\"#m94c99245b5\" y=\"61.338217\"/>\n     <use style=\"fill:#1f77b4;stroke:#1f77b4;\" x=\"101.377\" xlink:href=\"#m94c99245b5\" y=\"46.457093\"/>\n     <use style=\"fill:#1f77b4;stroke:#1f77b4;\" x=\"158.618909\" xlink:href=\"#m94c99245b5\" y=\"71.482931\"/>\n     <use style=\"fill:#1f77b4;stroke:#1f77b4;\" x=\"137.391678\" xlink:href=\"#m94c99245b5\" y=\"67.913238\"/>\n     <use style=\"fill:#1f77b4;stroke:#1f77b4;\" x=\"182.21385\" xlink:href=\"#m94c99245b5\" y=\"97.914521\"/>\n     <use style=\"fill:#1f77b4;stroke:#1f77b4;\" x=\"103.292589\" xlink:href=\"#m94c99245b5\" y=\"53.909386\"/>\n     <use style=\"fill:#1f77b4;stroke:#1f77b4;\" x=\"116.02188\" xlink:href=\"#m94c99245b5\" y=\"69.713558\"/>\n     <use style=\"fill:#1f77b4;stroke:#1f77b4;\" x=\"204.275268\" xlink:href=\"#m94c99245b5\" y=\"109.484591\"/>\n     <use style=\"fill:#1f77b4;stroke:#1f77b4;\" x=\"205.458628\" xlink:href=\"#m94c99245b5\" y=\"104.21128\"/>\n     <use style=\"fill:#1f77b4;stroke:#1f77b4;\" x=\"152.196504\" xlink:href=\"#m94c99245b5\" y=\"55.543283\"/>\n     <use style=\"fill:#1f77b4;stroke:#1f77b4;\" x=\"163.881876\" xlink:href=\"#m94c99245b5\" y=\"96.568549\"/>\n     <use style=\"fill:#1f77b4;stroke:#1f77b4;\" x=\"108.211339\" xlink:href=\"#m94c99245b5\" y=\"45.647519\"/>\n     <use style=\"fill:#1f77b4;stroke:#1f77b4;\" x=\"145.173624\" xlink:href=\"#m94c99245b5\" y=\"82.011997\"/>\n     <use style=\"fill:#1f77b4;stroke:#1f77b4;\" x=\"77.895625\" xlink:href=\"#m94c99245b5\" y=\"31.73351\"/>\n     <use style=\"fill:#1f77b4;stroke:#1f77b4;\" x=\"126.127544\" xlink:href=\"#m94c99245b5\" y=\"57.788347\"/>\n     <use style=\"fill:#1f77b4;stroke:#1f77b4;\" x=\"154.142982\" xlink:href=\"#m94c99245b5\" y=\"78.007489\"/>\n     <use style=\"fill:#1f77b4;stroke:#1f77b4;\" x=\"156.282783\" xlink:href=\"#m94c99245b5\" y=\"90.311789\"/>\n     <use style=\"fill:#1f77b4;stroke:#1f77b4;\" x=\"124.119541\" xlink:href=\"#m94c99245b5\" y=\"56.019462\"/>\n     <use style=\"fill:#1f77b4;stroke:#1f77b4;\" x=\"91.706028\" xlink:href=\"#m94c99245b5\" y=\"54.928562\"/>\n     <use style=\"fill:#1f77b4;stroke:#1f77b4;\" x=\"150.942924\" xlink:href=\"#m94c99245b5\" y=\"82.895908\"/>\n     <use style=\"fill:#1f77b4;stroke:#1f77b4;\" x=\"117.822236\" xlink:href=\"#m94c99245b5\" y=\"51.44978\"/>\n     <use style=\"fill:#1f77b4;stroke:#1f77b4;\" x=\"136.00293\" xlink:href=\"#m94c99245b5\" y=\"68.97137\"/>\n     <use style=\"fill:#1f77b4;stroke:#1f77b4;\" x=\"105.781679\" xlink:href=\"#m94c99245b5\" y=\"45.334967\"/>\n     <use style=\"fill:#1f77b4;stroke:#1f77b4;\" x=\"108.705555\" xlink:href=\"#m94c99245b5\" y=\"48.721471\"/>\n     <use style=\"fill:#1f77b4;stroke:#1f77b4;\" x=\"164.445713\" xlink:href=\"#m94c99245b5\" y=\"95.653327\"/>\n     <use style=\"fill:#1f77b4;stroke:#1f77b4;\" x=\"158.07139\" xlink:href=\"#m94c99245b5\" y=\"102.950701\"/>\n     <use style=\"fill:#1f77b4;stroke:#1f77b4;\" x=\"108.004847\" xlink:href=\"#m94c99245b5\" y=\"51.16244\"/>\n     <use style=\"fill:#1f77b4;stroke:#1f77b4;\" x=\"163.299475\" xlink:href=\"#m94c99245b5\" y=\"60.910545\"/>\n     <use style=\"fill:#1f77b4;stroke:#1f77b4;\" x=\"146.542243\" xlink:href=\"#m94c99245b5\" y=\"83.172902\"/>\n     <use style=\"fill:#1f77b4;stroke:#1f77b4;\" x=\"136.137696\" xlink:href=\"#m94c99245b5\" y=\"79.121256\"/>\n     <use style=\"fill:#1f77b4;stroke:#1f77b4;\" x=\"127.907759\" xlink:href=\"#m94c99245b5\" y=\"78.330867\"/>\n     <use style=\"fill:#1f77b4;stroke:#1f77b4;\" x=\"131.751274\" xlink:href=\"#m94c99245b5\" y=\"77.832082\"/>\n     <use style=\"fill:#1f77b4;stroke:#1f77b4;\" x=\"195.341\" xlink:href=\"#m94c99245b5\" y=\"106.087008\"/>\n     <use style=\"fill:#1f77b4;stroke:#1f77b4;\" x=\"175.13201\" xlink:href=\"#m94c99245b5\" y=\"96.505319\"/>\n     <use style=\"fill:#1f77b4;stroke:#1f77b4;\" x=\"152.286163\" xlink:href=\"#m94c99245b5\" y=\"108.539397\"/>\n     <use style=\"fill:#1f77b4;stroke:#1f77b4;\" x=\"125.277841\" xlink:href=\"#m94c99245b5\" y=\"67.608363\"/>\n     <use style=\"fill:#1f77b4;stroke:#1f77b4;\" x=\"129.261547\" xlink:href=\"#m94c99245b5\" y=\"73.8006\"/>\n     <use style=\"fill:#1f77b4;stroke:#1f77b4;\" x=\"131.27801\" xlink:href=\"#m94c99245b5\" y=\"75.010293\"/>\n     <use style=\"fill:#1f77b4;stroke:#1f77b4;\" x=\"169.932503\" xlink:href=\"#m94c99245b5\" y=\"89.033075\"/>\n     <use style=\"fill:#1f77b4;stroke:#1f77b4;\" x=\"164.368708\" xlink:href=\"#m94c99245b5\" y=\"66.665094\"/>\n     <use style=\"fill:#1f77b4;stroke:#1f77b4;\" x=\"130.12715\" xlink:href=\"#m94c99245b5\" y=\"55.65535\"/>\n     <use style=\"fill:#1f77b4;stroke:#1f77b4;\" x=\"116.977386\" xlink:href=\"#m94c99245b5\" y=\"79.880782\"/>\n     <use style=\"fill:#1f77b4;stroke:#1f77b4;\" x=\"109.899595\" xlink:href=\"#m94c99245b5\" y=\"60.802597\"/>\n     <use style=\"fill:#1f77b4;stroke:#1f77b4;\" x=\"108.526787\" xlink:href=\"#m94c99245b5\" y=\"58.574946\"/>\n     <use style=\"fill:#1f77b4;stroke:#1f77b4;\" x=\"180.955909\" xlink:href=\"#m94c99245b5\" y=\"98.962771\"/>\n     <use style=\"fill:#1f77b4;stroke:#1f77b4;\" x=\"120.185976\" xlink:href=\"#m94c99245b5\" y=\"60.078368\"/>\n     <use style=\"fill:#1f77b4;stroke:#1f77b4;\" x=\"80.884426\" xlink:href=\"#m94c99245b5\" y=\"25.863119\"/>\n     <use style=\"fill:#1f77b4;stroke:#1f77b4;\" x=\"170.310628\" xlink:href=\"#m94c99245b5\" y=\"91.877822\"/>\n     <use style=\"fill:#1f77b4;stroke:#1f77b4;\" x=\"121.566991\" xlink:href=\"#m94c99245b5\" y=\"73.364562\"/>\n     <use style=\"fill:#1f77b4;stroke:#1f77b4;\" x=\"141.081876\" xlink:href=\"#m94c99245b5\" y=\"69.359354\"/>\n     <use style=\"fill:#1f77b4;stroke:#1f77b4;\" x=\"174.53267\" xlink:href=\"#m94c99245b5\" y=\"99.560897\"/>\n     <use style=\"fill:#1f77b4;stroke:#1f77b4;\" x=\"141.982169\" xlink:href=\"#m94c99245b5\" y=\"63.727637\"/>\n     <use style=\"fill:#1f77b4;stroke:#1f77b4;\" x=\"150.078876\" xlink:href=\"#m94c99245b5\" y=\"85.105315\"/>\n     <use style=\"fill:#1f77b4;stroke:#1f77b4;\" x=\"115.495955\" xlink:href=\"#m94c99245b5\" y=\"55.369054\"/>\n     <use style=\"fill:#1f77b4;stroke:#1f77b4;\" x=\"140.898695\" xlink:href=\"#m94c99245b5\" y=\"78.178496\"/>\n     <use style=\"fill:#1f77b4;stroke:#1f77b4;\" x=\"153.27293\" xlink:href=\"#m94c99245b5\" y=\"104.736332\"/>\n     <use style=\"fill:#1f77b4;stroke:#1f77b4;\" x=\"127.334075\" xlink:href=\"#m94c99245b5\" y=\"73.563848\"/>\n     <use style=\"fill:#1f77b4;stroke:#1f77b4;\" x=\"129.627041\" xlink:href=\"#m94c99245b5\" y=\"79.058805\"/>\n     <use style=\"fill:#1f77b4;stroke:#1f77b4;\" x=\"138.262121\" xlink:href=\"#m94c99245b5\" y=\"65.360191\"/>\n     <use style=\"fill:#1f77b4;stroke:#1f77b4;\" x=\"188.707706\" xlink:href=\"#m94c99245b5\" y=\"106.871036\"/>\n     <use style=\"fill:#1f77b4;stroke:#1f77b4;\" x=\"146.366024\" xlink:href=\"#m94c99245b5\" y=\"66.001749\"/>\n     <use style=\"fill:#1f77b4;stroke:#1f77b4;\" x=\"147.564045\" xlink:href=\"#m94c99245b5\" y=\"82.193347\"/>\n     <use style=\"fill:#1f77b4;stroke:#1f77b4;\" x=\"129.988681\" xlink:href=\"#m94c99245b5\" y=\"62.55258\"/>\n     <use style=\"fill:#1f77b4;stroke:#1f77b4;\" x=\"90.918815\" xlink:href=\"#m94c99245b5\" y=\"33.296903\"/>\n     <use style=\"fill:#1f77b4;stroke:#1f77b4;\" x=\"161.412082\" xlink:href=\"#m94c99245b5\" y=\"102.822348\"/>\n     <use style=\"fill:#1f77b4;stroke:#1f77b4;\" x=\"116.403763\" xlink:href=\"#m94c99245b5\" y=\"65.444657\"/>\n     <use style=\"fill:#1f77b4;stroke:#1f77b4;\" x=\"146.282361\" xlink:href=\"#m94c99245b5\" y=\"80.717019\"/>\n     <use style=\"fill:#1f77b4;stroke:#1f77b4;\" x=\"138.306804\" xlink:href=\"#m94c99245b5\" y=\"72.938666\"/>\n     <use style=\"fill:#1f77b4;stroke:#1f77b4;\" x=\"142.117642\" xlink:href=\"#m94c99245b5\" y=\"89.801626\"/>\n     <use style=\"fill:#1f77b4;stroke:#1f77b4;\" x=\"182.792468\" xlink:href=\"#m94c99245b5\" y=\"114.257974\"/>\n     <use style=\"fill:#1f77b4;stroke:#1f77b4;\" x=\"91.678186\" xlink:href=\"#m94c99245b5\" y=\"59.504403\"/>\n     <use style=\"fill:#1f77b4;stroke:#1f77b4;\" x=\"172.349709\" xlink:href=\"#m94c99245b5\" y=\"75.465125\"/>\n     <use style=\"fill:#1f77b4;stroke:#1f77b4;\" x=\"138.976288\" xlink:href=\"#m94c99245b5\" y=\"94.24912\"/>\n     <use style=\"fill:#1f77b4;stroke:#1f77b4;\" x=\"115.538081\" xlink:href=\"#m94c99245b5\" y=\"38.198722\"/>\n     <use style=\"fill:#1f77b4;stroke:#1f77b4;\" x=\"163.629595\" xlink:href=\"#m94c99245b5\" y=\"86.612749\"/>\n     <use style=\"fill:#1f77b4;stroke:#1f77b4;\" x=\"182.480875\" xlink:href=\"#m94c99245b5\" y=\"75.738488\"/>\n     <use style=\"fill:#1f77b4;stroke:#1f77b4;\" x=\"142.637719\" xlink:href=\"#m94c99245b5\" y=\"82.67355\"/>\n     <use style=\"fill:#1f77b4;stroke:#1f77b4;\" x=\"174.508845\" xlink:href=\"#m94c99245b5\" y=\"92.517551\"/>\n     <use style=\"fill:#1f77b4;stroke:#1f77b4;\" x=\"171.441882\" xlink:href=\"#m94c99245b5\" y=\"96.036954\"/>\n     <use style=\"fill:#1f77b4;stroke:#1f77b4;\" x=\"111.770037\" xlink:href=\"#m94c99245b5\" y=\"43.871068\"/>\n     <use style=\"fill:#1f77b4;stroke:#1f77b4;\" x=\"168.6277\" xlink:href=\"#m94c99245b5\" y=\"96.601273\"/>\n     <use style=\"fill:#1f77b4;stroke:#1f77b4;\" x=\"145.186038\" xlink:href=\"#m94c99245b5\" y=\"64.851144\"/>\n     <use style=\"fill:#1f77b4;stroke:#1f77b4;\" x=\"195.965366\" xlink:href=\"#m94c99245b5\" y=\"114.93604\"/>\n     <use style=\"fill:#1f77b4;stroke:#1f77b4;\" x=\"185.199996\" xlink:href=\"#m94c99245b5\" y=\"98.308953\"/>\n     <use style=\"fill:#1f77b4;stroke:#1f77b4;\" x=\"215.021239\" xlink:href=\"#m94c99245b5\" y=\"111.072057\"/>\n     <use style=\"fill:#1f77b4;stroke:#1f77b4;\" x=\"158.229297\" xlink:href=\"#m94c99245b5\" y=\"86.625885\"/>\n     <use style=\"fill:#1f77b4;stroke:#1f77b4;\" x=\"118.0582\" xlink:href=\"#m94c99245b5\" y=\"62.769698\"/>\n     <use style=\"fill:#1f77b4;stroke:#1f77b4;\" x=\"122.90224\" xlink:href=\"#m94c99245b5\" y=\"65.198797\"/>\n     <use style=\"fill:#1f77b4;stroke:#1f77b4;\" x=\"141.628293\" xlink:href=\"#m94c99245b5\" y=\"56.014876\"/>\n     <use style=\"fill:#1f77b4;stroke:#1f77b4;\" x=\"121.685265\" xlink:href=\"#m94c99245b5\" y=\"68.122496\"/>\n     <use style=\"fill:#1f77b4;stroke:#1f77b4;\" x=\"158.948728\" xlink:href=\"#m94c99245b5\" y=\"70.497629\"/>\n     <use style=\"fill:#1f77b4;stroke:#1f77b4;\" x=\"134.247562\" xlink:href=\"#m94c99245b5\" y=\"63.902607\"/>\n     <use style=\"fill:#1f77b4;stroke:#1f77b4;\" x=\"144.612805\" xlink:href=\"#m94c99245b5\" y=\"114.462144\"/>\n     <use style=\"fill:#1f77b4;stroke:#1f77b4;\" x=\"131.835152\" xlink:href=\"#m94c99245b5\" y=\"56.769181\"/>\n     <use style=\"fill:#1f77b4;stroke:#1f77b4;\" x=\"152.768961\" xlink:href=\"#m94c99245b5\" y=\"80.02674\"/>\n     <use style=\"fill:#1f77b4;stroke:#1f77b4;\" x=\"129.014759\" xlink:href=\"#m94c99245b5\" y=\"61.524927\"/>\n     <use style=\"fill:#1f77b4;stroke:#1f77b4;\" x=\"128.464723\" xlink:href=\"#m94c99245b5\" y=\"83.196803\"/>\n     <use style=\"fill:#1f77b4;stroke:#1f77b4;\" x=\"134.317131\" xlink:href=\"#m94c99245b5\" y=\"51.650765\"/>\n     <use style=\"fill:#1f77b4;stroke:#1f77b4;\" x=\"164.925131\" xlink:href=\"#m94c99245b5\" y=\"82.043257\"/>\n     <use style=\"fill:#1f77b4;stroke:#1f77b4;\" x=\"103.42029\" xlink:href=\"#m94c99245b5\" y=\"62.588148\"/>\n     <use style=\"fill:#1f77b4;stroke:#1f77b4;\" x=\"119.707965\" xlink:href=\"#m94c99245b5\" y=\"50.872641\"/>\n     <use style=\"fill:#1f77b4;stroke:#1f77b4;\" x=\"130.194992\" xlink:href=\"#m94c99245b5\" y=\"72.608584\"/>\n     <use style=\"fill:#1f77b4;stroke:#1f77b4;\" x=\"132.809301\" xlink:href=\"#m94c99245b5\" y=\"68.352043\"/>\n     <use style=\"fill:#1f77b4;stroke:#1f77b4;\" x=\"130.94373\" xlink:href=\"#m94c99245b5\" y=\"63.900169\"/>\n     <use style=\"fill:#1f77b4;stroke:#1f77b4;\" x=\"135.859085\" xlink:href=\"#m94c99245b5\" y=\"67.975549\"/>\n     <use style=\"fill:#1f77b4;stroke:#1f77b4;\" x=\"124.242314\" xlink:href=\"#m94c99245b5\" y=\"49.597423\"/>\n     <use style=\"fill:#1f77b4;stroke:#1f77b4;\" x=\"168.170388\" xlink:href=\"#m94c99245b5\" y=\"85.056229\"/>\n     <use style=\"fill:#1f77b4;stroke:#1f77b4;\" x=\"107.18297\" xlink:href=\"#m94c99245b5\" y=\"59.482754\"/>\n     <use style=\"fill:#1f77b4;stroke:#1f77b4;\" x=\"144.424921\" xlink:href=\"#m94c99245b5\" y=\"65.278513\"/>\n     <use style=\"fill:#1f77b4;stroke:#1f77b4;\" x=\"136.149925\" xlink:href=\"#m94c99245b5\" y=\"84.409078\"/>\n     <use style=\"fill:#1f77b4;stroke:#1f77b4;\" x=\"129.810981\" xlink:href=\"#m94c99245b5\" y=\"61.887551\"/>\n     <use style=\"fill:#1f77b4;stroke:#1f77b4;\" x=\"173.529291\" xlink:href=\"#m94c99245b5\" y=\"94.852575\"/>\n     <use style=\"fill:#1f77b4;stroke:#1f77b4;\" x=\"124.483606\" xlink:href=\"#m94c99245b5\" y=\"79.742924\"/>\n     <use style=\"fill:#1f77b4;stroke:#1f77b4;\" x=\"166.297153\" xlink:href=\"#m94c99245b5\" y=\"75.071659\"/>\n     <use style=\"fill:#1f77b4;stroke:#1f77b4;\" x=\"122.370522\" xlink:href=\"#m94c99245b5\" y=\"65.725427\"/>\n     <use style=\"fill:#1f77b4;stroke:#1f77b4;\" x=\"119.639372\" xlink:href=\"#m94c99245b5\" y=\"45.53591\"/>\n     <use style=\"fill:#1f77b4;stroke:#1f77b4;\" x=\"170.760059\" xlink:href=\"#m94c99245b5\" y=\"95.948534\"/>\n     <use style=\"fill:#1f77b4;stroke:#1f77b4;\" x=\"170.250104\" xlink:href=\"#m94c99245b5\" y=\"106.079993\"/>\n     <use style=\"fill:#1f77b4;stroke:#1f77b4;\" x=\"115.657108\" xlink:href=\"#m94c99245b5\" y=\"59.784045\"/>\n     <use style=\"fill:#1f77b4;stroke:#1f77b4;\" x=\"130.991291\" xlink:href=\"#m94c99245b5\" y=\"65.503906\"/>\n     <use style=\"fill:#1f77b4;stroke:#1f77b4;\" x=\"143.926908\" xlink:href=\"#m94c99245b5\" y=\"76.095779\"/>\n     <use style=\"fill:#1f77b4;stroke:#1f77b4;\" x=\"120.041973\" xlink:href=\"#m94c99245b5\" y=\"73.905892\"/>\n     <use style=\"fill:#1f77b4;stroke:#1f77b4;\" x=\"130.76793\" xlink:href=\"#m94c99245b5\" y=\"59.627582\"/>\n     <use style=\"fill:#1f77b4;stroke:#1f77b4;\" x=\"103.436959\" xlink:href=\"#m94c99245b5\" y=\"61.13102\"/>\n     <use style=\"fill:#1f77b4;stroke:#1f77b4;\" x=\"160.583864\" xlink:href=\"#m94c99245b5\" y=\"94.171268\"/>\n     <use style=\"fill:#1f77b4;stroke:#1f77b4;\" x=\"127.007989\" xlink:href=\"#m94c99245b5\" y=\"58.616943\"/>\n     <use style=\"fill:#1f77b4;stroke:#1f77b4;\" x=\"158.341318\" xlink:href=\"#m94c99245b5\" y=\"85.905446\"/>\n     <use style=\"fill:#1f77b4;stroke:#1f77b4;\" x=\"121.87944\" xlink:href=\"#m94c99245b5\" y=\"75.024857\"/>\n     <use style=\"fill:#1f77b4;stroke:#1f77b4;\" x=\"149.264451\" xlink:href=\"#m94c99245b5\" y=\"84.164461\"/>\n     <use style=\"fill:#1f77b4;stroke:#1f77b4;\" x=\"145.210001\" xlink:href=\"#m94c99245b5\" y=\"87.53075\"/>\n     <use style=\"fill:#1f77b4;stroke:#1f77b4;\" x=\"147.52674\" xlink:href=\"#m94c99245b5\" y=\"82.675727\"/>\n     <use style=\"fill:#1f77b4;stroke:#1f77b4;\" x=\"164.330192\" xlink:href=\"#m94c99245b5\" y=\"86.830031\"/>\n     <use style=\"fill:#1f77b4;stroke:#1f77b4;\" x=\"118.725473\" xlink:href=\"#m94c99245b5\" y=\"53.354098\"/>\n     <use style=\"fill:#1f77b4;stroke:#1f77b4;\" x=\"173.870133\" xlink:href=\"#m94c99245b5\" y=\"99.700986\"/>\n     <use style=\"fill:#1f77b4;stroke:#1f77b4;\" x=\"97.954672\" xlink:href=\"#m94c99245b5\" y=\"30.051152\"/>\n     <use style=\"fill:#1f77b4;stroke:#1f77b4;\" x=\"103.189624\" xlink:href=\"#m94c99245b5\" y=\"51.592026\"/>\n     <use style=\"fill:#1f77b4;stroke:#1f77b4;\" x=\"118.388448\" xlink:href=\"#m94c99245b5\" y=\"52.220534\"/>\n     <use style=\"fill:#1f77b4;stroke:#1f77b4;\" x=\"138.305114\" xlink:href=\"#m94c99245b5\" y=\"89.016843\"/>\n     <use style=\"fill:#1f77b4;stroke:#1f77b4;\" x=\"183.50695\" xlink:href=\"#m94c99245b5\" y=\"82.156697\"/>\n     <use style=\"fill:#1f77b4;stroke:#1f77b4;\" x=\"130.102565\" xlink:href=\"#m94c99245b5\" y=\"58.649611\"/>\n     <use style=\"fill:#1f77b4;stroke:#1f77b4;\" x=\"168.392918\" xlink:href=\"#m94c99245b5\" y=\"89.525655\"/>\n     <use style=\"fill:#1f77b4;stroke:#1f77b4;\" x=\"152.334682\" xlink:href=\"#m94c99245b5\" y=\"76.982615\"/>\n     <use style=\"fill:#1f77b4;stroke:#1f77b4;\" x=\"63.282001\" xlink:href=\"#m94c99245b5\" y=\"17.34509\"/>\n     <use style=\"fill:#1f77b4;stroke:#1f77b4;\" x=\"118.104064\" xlink:href=\"#m94c99245b5\" y=\"47.396326\"/>\n     <use style=\"fill:#1f77b4;stroke:#1f77b4;\" x=\"134.992535\" xlink:href=\"#m94c99245b5\" y=\"83.017235\"/>\n     <use style=\"fill:#1f77b4;stroke:#1f77b4;\" x=\"146.320319\" xlink:href=\"#m94c99245b5\" y=\"74.952635\"/>\n     <use style=\"fill:#1f77b4;stroke:#1f77b4;\" x=\"140.82002\" xlink:href=\"#m94c99245b5\" y=\"65.626704\"/>\n     <use style=\"fill:#1f77b4;stroke:#1f77b4;\" x=\"118.584995\" xlink:href=\"#m94c99245b5\" y=\"63.558637\"/>\n     <use style=\"fill:#1f77b4;stroke:#1f77b4;\" x=\"131.725163\" xlink:href=\"#m94c99245b5\" y=\"49.682498\"/>\n     <use style=\"fill:#1f77b4;stroke:#1f77b4;\" x=\"166.164829\" xlink:href=\"#m94c99245b5\" y=\"82.886238\"/>\n     <use style=\"fill:#1f77b4;stroke:#1f77b4;\" x=\"118.491589\" xlink:href=\"#m94c99245b5\" y=\"79.387818\"/>\n     <use style=\"fill:#1f77b4;stroke:#1f77b4;\" x=\"141.705696\" xlink:href=\"#m94c99245b5\" y=\"83.901311\"/>\n     <use style=\"fill:#1f77b4;stroke:#1f77b4;\" x=\"154.346854\" xlink:href=\"#m94c99245b5\" y=\"92.526451\"/>\n     <use style=\"fill:#1f77b4;stroke:#1f77b4;\" x=\"93.717197\" xlink:href=\"#m94c99245b5\" y=\"37.519723\"/>\n     <use style=\"fill:#1f77b4;stroke:#1f77b4;\" x=\"148.016711\" xlink:href=\"#m94c99245b5\" y=\"77.378035\"/>\n     <use style=\"fill:#1f77b4;stroke:#1f77b4;\" x=\"127.565478\" xlink:href=\"#m94c99245b5\" y=\"70.33222\"/>\n     <use style=\"fill:#1f77b4;stroke:#1f77b4;\" x=\"133.744756\" xlink:href=\"#m94c99245b5\" y=\"52.392856\"/>\n     <use style=\"fill:#1f77b4;stroke:#1f77b4;\" x=\"153.396414\" xlink:href=\"#m94c99245b5\" y=\"68.753747\"/>\n     <use style=\"fill:#1f77b4;stroke:#1f77b4;\" x=\"146.638101\" xlink:href=\"#m94c99245b5\" y=\"74.948357\"/>\n     <use style=\"fill:#1f77b4;stroke:#1f77b4;\" x=\"182.475027\" xlink:href=\"#m94c99245b5\" y=\"100.740598\"/>\n     <use style=\"fill:#1f77b4;stroke:#1f77b4;\" x=\"127.964403\" xlink:href=\"#m94c99245b5\" y=\"75.673452\"/>\n     <use style=\"fill:#1f77b4;stroke:#1f77b4;\" x=\"119.459327\" xlink:href=\"#m94c99245b5\" y=\"62.636366\"/>\n     <use style=\"fill:#1f77b4;stroke:#1f77b4;\" x=\"121.111487\" xlink:href=\"#m94c99245b5\" y=\"61.312832\"/>\n     <use style=\"fill:#1f77b4;stroke:#1f77b4;\" x=\"122.223975\" xlink:href=\"#m94c99245b5\" y=\"63.578285\"/>\n     <use style=\"fill:#1f77b4;stroke:#1f77b4;\" x=\"181.30336\" xlink:href=\"#m94c99245b5\" y=\"111.649901\"/>\n     <use style=\"fill:#1f77b4;stroke:#1f77b4;\" x=\"114.275319\" xlink:href=\"#m94c99245b5\" y=\"52.946407\"/>\n     <use style=\"fill:#1f77b4;stroke:#1f77b4;\" x=\"137.492774\" xlink:href=\"#m94c99245b5\" y=\"75.51044\"/>\n     <use style=\"fill:#1f77b4;stroke:#1f77b4;\" x=\"144.902086\" xlink:href=\"#m94c99245b5\" y=\"83.345159\"/>\n     <use style=\"fill:#1f77b4;stroke:#1f77b4;\" x=\"147.709891\" xlink:href=\"#m94c99245b5\" y=\"78.963347\"/>\n     <use style=\"fill:#1f77b4;stroke:#1f77b4;\" x=\"159.547796\" xlink:href=\"#m94c99245b5\" y=\"87.90176\"/>\n     <use style=\"fill:#1f77b4;stroke:#1f77b4;\" x=\"116.711134\" xlink:href=\"#m94c99245b5\" y=\"56.404693\"/>\n     <use style=\"fill:#1f77b4;stroke:#1f77b4;\" x=\"156.547654\" xlink:href=\"#m94c99245b5\" y=\"85.807443\"/>\n     <use style=\"fill:#1f77b4;stroke:#1f77b4;\" x=\"155.743166\" xlink:href=\"#m94c99245b5\" y=\"73.349534\"/>\n     <use style=\"fill:#1f77b4;stroke:#1f77b4;\" x=\"133.398723\" xlink:href=\"#m94c99245b5\" y=\"60.071373\"/>\n     <use style=\"fill:#1f77b4;stroke:#1f77b4;\" x=\"127.377499\" xlink:href=\"#m94c99245b5\" y=\"67.34905\"/>\n     <use style=\"fill:#1f77b4;stroke:#1f77b4;\" x=\"128.124626\" xlink:href=\"#m94c99245b5\" y=\"65.329381\"/>\n     <use style=\"fill:#1f77b4;stroke:#1f77b4;\" x=\"137.282814\" xlink:href=\"#m94c99245b5\" y=\"58.134303\"/>\n     <use style=\"fill:#1f77b4;stroke:#1f77b4;\" x=\"139.132798\" xlink:href=\"#m94c99245b5\" y=\"74.271153\"/>\n     <use style=\"fill:#1f77b4;stroke:#1f77b4;\" x=\"153.807744\" xlink:href=\"#m94c99245b5\" y=\"92.139418\"/>\n     <use style=\"fill:#1f77b4;stroke:#1f77b4;\" x=\"110.17505\" xlink:href=\"#m94c99245b5\" y=\"39.53636\"/>\n     <use style=\"fill:#1f77b4;stroke:#1f77b4;\" x=\"146.600595\" xlink:href=\"#m94c99245b5\" y=\"52.265982\"/>\n     <use style=\"fill:#1f77b4;stroke:#1f77b4;\" x=\"158.652654\" xlink:href=\"#m94c99245b5\" y=\"83.165067\"/>\n     <use style=\"fill:#1f77b4;stroke:#1f77b4;\" x=\"131.405004\" xlink:href=\"#m94c99245b5\" y=\"75.30805\"/>\n     <use style=\"fill:#1f77b4;stroke:#1f77b4;\" x=\"194.799072\" xlink:href=\"#m94c99245b5\" y=\"109.685235\"/>\n     <use style=\"fill:#1f77b4;stroke:#1f77b4;\" x=\"64.045892\" xlink:href=\"#m94c99245b5\" y=\"30.274366\"/>\n     <use style=\"fill:#1f77b4;stroke:#1f77b4;\" x=\"81.139296\" xlink:href=\"#m94c99245b5\" y=\"36.815299\"/>\n     <use style=\"fill:#1f77b4;stroke:#1f77b4;\" x=\"148.17775\" xlink:href=\"#m94c99245b5\" y=\"91.086033\"/>\n     <use style=\"fill:#1f77b4;stroke:#1f77b4;\" x=\"166.327513\" xlink:href=\"#m94c99245b5\" y=\"71.028428\"/>\n     <use style=\"fill:#1f77b4;stroke:#1f77b4;\" x=\"123.06419\" xlink:href=\"#m94c99245b5\" y=\"56.73187\"/>\n     <use style=\"fill:#1f77b4;stroke:#1f77b4;\" x=\"123.619581\" xlink:href=\"#m94c99245b5\" y=\"61.827162\"/>\n     <use style=\"fill:#1f77b4;stroke:#1f77b4;\" x=\"140.744767\" xlink:href=\"#m94c99245b5\" y=\"78.966583\"/>\n     <use style=\"fill:#1f77b4;stroke:#1f77b4;\" x=\"121.993751\" xlink:href=\"#m94c99245b5\" y=\"61.894494\"/>\n     <use style=\"fill:#1f77b4;stroke:#1f77b4;\" x=\"142.910683\" xlink:href=\"#m94c99245b5\" y=\"73.089132\"/>\n     <use style=\"fill:#1f77b4;stroke:#1f77b4;\" x=\"129.240928\" xlink:href=\"#m94c99245b5\" y=\"54.078825\"/>\n     <use style=\"fill:#1f77b4;stroke:#1f77b4;\" x=\"186.195368\" xlink:href=\"#m94c99245b5\" y=\"108.625299\"/>\n     <use style=\"fill:#1f77b4;stroke:#1f77b4;\" x=\"101.910491\" xlink:href=\"#m94c99245b5\" y=\"23.254763\"/>\n     <use style=\"fill:#1f77b4;stroke:#1f77b4;\" x=\"114.969582\" xlink:href=\"#m94c99245b5\" y=\"51.432363\"/>\n     <use style=\"fill:#1f77b4;stroke:#1f77b4;\" x=\"64.165753\" xlink:href=\"#m94c99245b5\" y=\"24.41067\"/>\n     <use style=\"fill:#1f77b4;stroke:#1f77b4;\" x=\"128.814242\" xlink:href=\"#m94c99245b5\" y=\"65.152659\"/>\n     <use style=\"fill:#1f77b4;stroke:#1f77b4;\" x=\"174.012648\" xlink:href=\"#m94c99245b5\" y=\"92.969456\"/>\n     <use style=\"fill:#1f77b4;stroke:#1f77b4;\" x=\"144.217876\" xlink:href=\"#m94c99245b5\" y=\"96.18556\"/>\n     <use style=\"fill:#1f77b4;stroke:#1f77b4;\" x=\"122.079401\" xlink:href=\"#m94c99245b5\" y=\"61.644163\"/>\n     <use style=\"fill:#1f77b4;stroke:#1f77b4;\" x=\"165.893573\" xlink:href=\"#m94c99245b5\" y=\"76.536022\"/>\n     <use style=\"fill:#1f77b4;stroke:#1f77b4;\" x=\"138.139499\" xlink:href=\"#m94c99245b5\" y=\"73.625736\"/>\n     <use style=\"fill:#1f77b4;stroke:#1f77b4;\" x=\"153.908403\" xlink:href=\"#m94c99245b5\" y=\"84.116428\"/>\n     <use style=\"fill:#1f77b4;stroke:#1f77b4;\" x=\"93.391958\" xlink:href=\"#m94c99245b5\" y=\"55.017994\"/>\n     <use style=\"fill:#1f77b4;stroke:#1f77b4;\" x=\"112.120691\" xlink:href=\"#m94c99245b5\" y=\"54.432742\"/>\n     <use style=\"fill:#1f77b4;stroke:#1f77b4;\" x=\"164.951103\" xlink:href=\"#m94c99245b5\" y=\"87.178264\"/>\n     <use style=\"fill:#1f77b4;stroke:#1f77b4;\" x=\"124.146291\" xlink:href=\"#m94c99245b5\" y=\"62.871706\"/>\n     <use style=\"fill:#1f77b4;stroke:#1f77b4;\" x=\"180.023175\" xlink:href=\"#m94c99245b5\" y=\"86.591863\"/>\n     <use style=\"fill:#1f77b4;stroke:#1f77b4;\" x=\"137.340967\" xlink:href=\"#m94c99245b5\" y=\"66.827517\"/>\n     <use style=\"fill:#1f77b4;stroke:#1f77b4;\" x=\"130.194679\" xlink:href=\"#m94c99245b5\" y=\"95.480928\"/>\n     <use style=\"fill:#1f77b4;stroke:#1f77b4;\" x=\"157.812859\" xlink:href=\"#m94c99245b5\" y=\"78.696839\"/>\n     <use style=\"fill:#1f77b4;stroke:#1f77b4;\" x=\"117.06972\" xlink:href=\"#m94c99245b5\" y=\"44.445635\"/>\n     <use style=\"fill:#1f77b4;stroke:#1f77b4;\" x=\"95.996043\" xlink:href=\"#m94c99245b5\" y=\"48.577143\"/>\n     <use style=\"fill:#1f77b4;stroke:#1f77b4;\" x=\"126.143716\" xlink:href=\"#m94c99245b5\" y=\"78.662448\"/>\n     <use style=\"fill:#1f77b4;stroke:#1f77b4;\" x=\"156.534942\" xlink:href=\"#m94c99245b5\" y=\"84.203066\"/>\n     <use style=\"fill:#1f77b4;stroke:#1f77b4;\" x=\"153.413559\" xlink:href=\"#m94c99245b5\" y=\"87.500204\"/>\n     <use style=\"fill:#1f77b4;stroke:#1f77b4;\" x=\"133.045007\" xlink:href=\"#m94c99245b5\" y=\"61.179171\"/>\n     <use style=\"fill:#1f77b4;stroke:#1f77b4;\" x=\"144.055024\" xlink:href=\"#m94c99245b5\" y=\"87.268452\"/>\n     <use style=\"fill:#1f77b4;stroke:#1f77b4;\" x=\"131.677153\" xlink:href=\"#m94c99245b5\" y=\"74.401408\"/>\n     <use style=\"fill:#1f77b4;stroke:#1f77b4;\" x=\"102.542229\" xlink:href=\"#m94c99245b5\" y=\"45.495178\"/>\n     <use style=\"fill:#1f77b4;stroke:#1f77b4;\" x=\"103.489954\" xlink:href=\"#m94c99245b5\" y=\"63.561529\"/>\n     <use style=\"fill:#1f77b4;stroke:#1f77b4;\" x=\"140.287298\" xlink:href=\"#m94c99245b5\" y=\"59.010963\"/>\n     <use style=\"fill:#1f77b4;stroke:#1f77b4;\" x=\"170.377151\" xlink:href=\"#m94c99245b5\" y=\"72.649173\"/>\n     <use style=\"fill:#1f77b4;stroke:#1f77b4;\" x=\"110.843906\" xlink:href=\"#m94c99245b5\" y=\"43.028653\"/>\n     <use style=\"fill:#1f77b4;stroke:#1f77b4;\" x=\"164.043782\" xlink:href=\"#m94c99245b5\" y=\"91.160471\"/>\n     <use style=\"fill:#1f77b4;stroke:#1f77b4;\" x=\"164.615746\" xlink:href=\"#m94c99245b5\" y=\"87.622346\"/>\n     <use style=\"fill:#1f77b4;stroke:#1f77b4;\" x=\"125.006818\" xlink:href=\"#m94c99245b5\" y=\"57.406553\"/>\n     <use style=\"fill:#1f77b4;stroke:#1f77b4;\" x=\"120.406041\" xlink:href=\"#m94c99245b5\" y=\"67.155097\"/>\n     <use style=\"fill:#1f77b4;stroke:#1f77b4;\" x=\"124.511985\" xlink:href=\"#m94c99245b5\" y=\"71.054216\"/>\n     <use style=\"fill:#1f77b4;stroke:#1f77b4;\" x=\"126.146592\" xlink:href=\"#m94c99245b5\" y=\"66.518622\"/>\n     <use style=\"fill:#1f77b4;stroke:#1f77b4;\" x=\"170.107512\" xlink:href=\"#m94c99245b5\" y=\"94.144854\"/>\n     <use style=\"fill:#1f77b4;stroke:#1f77b4;\" x=\"120.680844\" xlink:href=\"#m94c99245b5\" y=\"66.486696\"/>\n     <use style=\"fill:#1f77b4;stroke:#1f77b4;\" x=\"160.798362\" xlink:href=\"#m94c99245b5\" y=\"94.044146\"/>\n     <use style=\"fill:#1f77b4;stroke:#1f77b4;\" x=\"124.884565\" xlink:href=\"#m94c99245b5\" y=\"60.240203\"/>\n     <use style=\"fill:#1f77b4;stroke:#1f77b4;\" x=\"134.550082\" xlink:href=\"#m94c99245b5\" y=\"61.420204\"/>\n     <use style=\"fill:#1f77b4;stroke:#1f77b4;\" x=\"93.186564\" xlink:href=\"#m94c99245b5\" y=\"55.857877\"/>\n     <use style=\"fill:#1f77b4;stroke:#1f77b4;\" x=\"127.172761\" xlink:href=\"#m94c99245b5\" y=\"37.306396\"/>\n     <use style=\"fill:#1f77b4;stroke:#1f77b4;\" x=\"101.642209\" xlink:href=\"#m94c99245b5\" y=\"38.550999\"/>\n     <use style=\"fill:#1f77b4;stroke:#1f77b4;\" x=\"152.63609\" xlink:href=\"#m94c99245b5\" y=\"78.776745\"/>\n     <use style=\"fill:#1f77b4;stroke:#1f77b4;\" x=\"148.142867\" xlink:href=\"#m94c99245b5\" y=\"74.70173\"/>\n     <use style=\"fill:#1f77b4;stroke:#1f77b4;\" x=\"196.027202\" xlink:href=\"#m94c99245b5\" y=\"91.482823\"/>\n     <use style=\"fill:#1f77b4;stroke:#1f77b4;\" x=\"160.181641\" xlink:href=\"#m94c99245b5\" y=\"91.484351\"/>\n     <use style=\"fill:#1f77b4;stroke:#1f77b4;\" x=\"146.01704\" xlink:href=\"#m94c99245b5\" y=\"70.47244\"/>\n     <use style=\"fill:#1f77b4;stroke:#1f77b4;\" x=\"147.965117\" xlink:href=\"#m94c99245b5\" y=\"81.407393\"/>\n     <use style=\"fill:#1f77b4;stroke:#1f77b4;\" x=\"110.066301\" xlink:href=\"#m94c99245b5\" y=\"50.23485\"/>\n     <use style=\"fill:#1f77b4;stroke:#1f77b4;\" x=\"122.013599\" xlink:href=\"#m94c99245b5\" y=\"72.131616\"/>\n     <use style=\"fill:#1f77b4;stroke:#1f77b4;\" x=\"145.88555\" xlink:href=\"#m94c99245b5\" y=\"85.197026\"/>\n     <use style=\"fill:#1f77b4;stroke:#1f77b4;\" x=\"202.019504\" xlink:href=\"#m94c99245b5\" y=\"122.727864\"/>\n     <use style=\"fill:#1f77b4;stroke:#1f77b4;\" x=\"158.871933\" xlink:href=\"#m94c99245b5\" y=\"98.548612\"/>\n     <use style=\"fill:#1f77b4;stroke:#1f77b4;\" x=\"125.634622\" xlink:href=\"#m94c99245b5\" y=\"63.443517\"/>\n     <use style=\"fill:#1f77b4;stroke:#1f77b4;\" x=\"77.458686\" xlink:href=\"#m94c99245b5\" y=\"41.012058\"/>\n     <use style=\"fill:#1f77b4;stroke:#1f77b4;\" x=\"107.990267\" xlink:href=\"#m94c99245b5\" y=\"55.411946\"/>\n     <use style=\"fill:#1f77b4;stroke:#1f77b4;\" x=\"119.664907\" xlink:href=\"#m94c99245b5\" y=\"61.219686\"/>\n     <use style=\"fill:#1f77b4;stroke:#1f77b4;\" x=\"107.973538\" xlink:href=\"#m94c99245b5\" y=\"57.000109\"/>\n     <use style=\"fill:#1f77b4;stroke:#1f77b4;\" x=\"120.442798\" xlink:href=\"#m94c99245b5\" y=\"58.402068\"/>\n     <use style=\"fill:#1f77b4;stroke:#1f77b4;\" x=\"121.828806\" xlink:href=\"#m94c99245b5\" y=\"72.464045\"/>\n     <use style=\"fill:#1f77b4;stroke:#1f77b4;\" x=\"78.626667\" xlink:href=\"#m94c99245b5\" y=\"42.150057\"/>\n     <use style=\"fill:#1f77b4;stroke:#1f77b4;\" x=\"163.977812\" xlink:href=\"#m94c99245b5\" y=\"96.879274\"/>\n     <use style=\"fill:#1f77b4;stroke:#1f77b4;\" x=\"124.763454\" xlink:href=\"#m94c99245b5\" y=\"56.575218\"/>\n     <use style=\"fill:#1f77b4;stroke:#1f77b4;\" x=\"152.062196\" xlink:href=\"#m94c99245b5\" y=\"81.643331\"/>\n     <use style=\"fill:#1f77b4;stroke:#1f77b4;\" x=\"138.295269\" xlink:href=\"#m94c99245b5\" y=\"49.5186\"/>\n     <use style=\"fill:#1f77b4;stroke:#1f77b4;\" x=\"156.985406\" xlink:href=\"#m94c99245b5\" y=\"87.05118\"/>\n     <use style=\"fill:#1f77b4;stroke:#1f77b4;\" x=\"140.065332\" xlink:href=\"#m94c99245b5\" y=\"71.741055\"/>\n     <use style=\"fill:#1f77b4;stroke:#1f77b4;\" x=\"131.020033\" xlink:href=\"#m94c99245b5\" y=\"76.041553\"/>\n     <use style=\"fill:#1f77b4;stroke:#1f77b4;\" x=\"102.050623\" xlink:href=\"#m94c99245b5\" y=\"49.634383\"/>\n     <use style=\"fill:#1f77b4;stroke:#1f77b4;\" x=\"155.267844\" xlink:href=\"#m94c99245b5\" y=\"81.63971\"/>\n     <use style=\"fill:#1f77b4;stroke:#1f77b4;\" x=\"124.299147\" xlink:href=\"#m94c99245b5\" y=\"63.229111\"/>\n     <use style=\"fill:#1f77b4;stroke:#1f77b4;\" x=\"114.947179\" xlink:href=\"#m94c99245b5\" y=\"63.010511\"/>\n     <use style=\"fill:#1f77b4;stroke:#1f77b4;\" x=\"145.324051\" xlink:href=\"#m94c99245b5\" y=\"74.822894\"/>\n     <use style=\"fill:#1f77b4;stroke:#1f77b4;\" x=\"184.06231\" xlink:href=\"#m94c99245b5\" y=\"97.997148\"/>\n     <use style=\"fill:#1f77b4;stroke:#1f77b4;\" x=\"178.756399\" xlink:href=\"#m94c99245b5\" y=\"81.489877\"/>\n     <use style=\"fill:#1f77b4;stroke:#1f77b4;\" x=\"217.298234\" xlink:href=\"#m94c99245b5\" y=\"136.922727\"/>\n     <use style=\"fill:#1f77b4;stroke:#1f77b4;\" x=\"113.090311\" xlink:href=\"#m94c99245b5\" y=\"50.759908\"/>\n     <use style=\"fill:#1f77b4;stroke:#1f77b4;\" x=\"117.170035\" xlink:href=\"#m94c99245b5\" y=\"43.775182\"/>\n     <use style=\"fill:#1f77b4;stroke:#1f77b4;\" x=\"115.705125\" xlink:href=\"#m94c99245b5\" y=\"41.72294\"/>\n     <use style=\"fill:#1f77b4;stroke:#1f77b4;\" x=\"136.304618\" xlink:href=\"#m94c99245b5\" y=\"73.335761\"/>\n     <use style=\"fill:#1f77b4;stroke:#1f77b4;\" x=\"126.210074\" xlink:href=\"#m94c99245b5\" y=\"63.711806\"/>\n     <use style=\"fill:#1f77b4;stroke:#1f77b4;\" x=\"124.833379\" xlink:href=\"#m94c99245b5\" y=\"58.760401\"/>\n     <use style=\"fill:#1f77b4;stroke:#1f77b4;\" x=\"56.995147\" xlink:href=\"#m94c99245b5\" y=\"20.485591\"/>\n     <use style=\"fill:#1f77b4;stroke:#1f77b4;\" x=\"114.727592\" xlink:href=\"#m94c99245b5\" y=\"65.434586\"/>\n     <use style=\"fill:#1f77b4;stroke:#1f77b4;\" x=\"174.231144\" xlink:href=\"#m94c99245b5\" y=\"96.906859\"/>\n     <use style=\"fill:#1f77b4;stroke:#1f77b4;\" x=\"130.986823\" xlink:href=\"#m94c99245b5\" y=\"60.832446\"/>\n     <use style=\"fill:#1f77b4;stroke:#1f77b4;\" x=\"137.230789\" xlink:href=\"#m94c99245b5\" y=\"75.597263\"/>\n     <use style=\"fill:#1f77b4;stroke:#1f77b4;\" x=\"153.975259\" xlink:href=\"#m94c99245b5\" y=\"80.931338\"/>\n     <use style=\"fill:#1f77b4;stroke:#1f77b4;\" x=\"143.786865\" xlink:href=\"#m94c99245b5\" y=\"86.168887\"/>\n     <use style=\"fill:#1f77b4;stroke:#1f77b4;\" x=\"106.071846\" xlink:href=\"#m94c99245b5\" y=\"31.217645\"/>\n     <use style=\"fill:#1f77b4;stroke:#1f77b4;\" x=\"130.652586\" xlink:href=\"#m94c99245b5\" y=\"68.369413\"/>\n     <use style=\"fill:#1f77b4;stroke:#1f77b4;\" x=\"164.217581\" xlink:href=\"#m94c99245b5\" y=\"86.821078\"/>\n     <use style=\"fill:#1f77b4;stroke:#1f77b4;\" x=\"193.780272\" xlink:href=\"#m94c99245b5\" y=\"111.378634\"/>\n     <use style=\"fill:#1f77b4;stroke:#1f77b4;\" x=\"113.473503\" xlink:href=\"#m94c99245b5\" y=\"48.925124\"/>\n     <use style=\"fill:#1f77b4;stroke:#1f77b4;\" x=\"107.917909\" xlink:href=\"#m94c99245b5\" y=\"46.785457\"/>\n     <use style=\"fill:#1f77b4;stroke:#1f77b4;\" x=\"94.27863\" xlink:href=\"#m94c99245b5\" y=\"47.682211\"/>\n     <use style=\"fill:#1f77b4;stroke:#1f77b4;\" x=\"145.387876\" xlink:href=\"#m94c99245b5\" y=\"77.370799\"/>\n     <use style=\"fill:#1f77b4;stroke:#1f77b4;\" x=\"180.906606\" xlink:href=\"#m94c99245b5\" y=\"96.255672\"/>\n     <use style=\"fill:#1f77b4;stroke:#1f77b4;\" x=\"102.919398\" xlink:href=\"#m94c99245b5\" y=\"47.999872\"/>\n     <use style=\"fill:#1f77b4;stroke:#1f77b4;\" x=\"113.758969\" xlink:href=\"#m94c99245b5\" y=\"47.206945\"/>\n     <use style=\"fill:#1f77b4;stroke:#1f77b4;\" x=\"121.975804\" xlink:href=\"#m94c99245b5\" y=\"68.680251\"/>\n     <use style=\"fill:#1f77b4;stroke:#1f77b4;\" x=\"122.114668\" xlink:href=\"#m94c99245b5\" y=\"66.753174\"/>\n     <use style=\"fill:#1f77b4;stroke:#1f77b4;\" x=\"132.358665\" xlink:href=\"#m94c99245b5\" y=\"61.090105\"/>\n     <use style=\"fill:#1f77b4;stroke:#1f77b4;\" x=\"55.503184\" xlink:href=\"#m94c99245b5\" y=\"32.142841\"/>\n     <use style=\"fill:#1f77b4;stroke:#1f77b4;\" x=\"153.542856\" xlink:href=\"#m94c99245b5\" y=\"77.751704\"/>\n     <use style=\"fill:#1f77b4;stroke:#1f77b4;\" x=\"179.537886\" xlink:href=\"#m94c99245b5\" y=\"91.570787\"/>\n     <use style=\"fill:#1f77b4;stroke:#1f77b4;\" x=\"122.246584\" xlink:href=\"#m94c99245b5\" y=\"49.811024\"/>\n     <use style=\"fill:#1f77b4;stroke:#1f77b4;\" x=\"128.747519\" xlink:href=\"#m94c99245b5\" y=\"88.488888\"/>\n     <use style=\"fill:#1f77b4;stroke:#1f77b4;\" x=\"162.966197\" xlink:href=\"#m94c99245b5\" y=\"82.36127\"/>\n     <use style=\"fill:#1f77b4;stroke:#1f77b4;\" x=\"122.854573\" xlink:href=\"#m94c99245b5\" y=\"58.334495\"/>\n     <use style=\"fill:#1f77b4;stroke:#1f77b4;\" x=\"158.608885\" xlink:href=\"#m94c99245b5\" y=\"90.66789\"/>\n     <use style=\"fill:#1f77b4;stroke:#1f77b4;\" x=\"141.642855\" xlink:href=\"#m94c99245b5\" y=\"80.533476\"/>\n     <use style=\"fill:#1f77b4;stroke:#1f77b4;\" x=\"153.773551\" xlink:href=\"#m94c99245b5\" y=\"97.399758\"/>\n     <use style=\"fill:#1f77b4;stroke:#1f77b4;\" x=\"180.232794\" xlink:href=\"#m94c99245b5\" y=\"82.272649\"/>\n     <use style=\"fill:#1f77b4;stroke:#1f77b4;\" x=\"107.268939\" xlink:href=\"#m94c99245b5\" y=\"54.564877\"/>\n     <use style=\"fill:#1f77b4;stroke:#1f77b4;\" x=\"136.664392\" xlink:href=\"#m94c99245b5\" y=\"84.135941\"/>\n     <use style=\"fill:#1f77b4;stroke:#1f77b4;\" x=\"98.660442\" xlink:href=\"#m94c99245b5\" y=\"52.67096\"/>\n     <use style=\"fill:#1f77b4;stroke:#1f77b4;\" x=\"160.49578\" xlink:href=\"#m94c99245b5\" y=\"88.787122\"/>\n     <use style=\"fill:#1f77b4;stroke:#1f77b4;\" x=\"148.126089\" xlink:href=\"#m94c99245b5\" y=\"89.725295\"/>\n     <use style=\"fill:#1f77b4;stroke:#1f77b4;\" x=\"136.856606\" xlink:href=\"#m94c99245b5\" y=\"73.639722\"/>\n     <use style=\"fill:#1f77b4;stroke:#1f77b4;\" x=\"150.779295\" xlink:href=\"#m94c99245b5\" y=\"102.501513\"/>\n     <use style=\"fill:#1f77b4;stroke:#1f77b4;\" x=\"133.54335\" xlink:href=\"#m94c99245b5\" y=\"58.961273\"/>\n     <use style=\"fill:#1f77b4;stroke:#1f77b4;\" x=\"157.092572\" xlink:href=\"#m94c99245b5\" y=\"75.714212\"/>\n     <use style=\"fill:#1f77b4;stroke:#1f77b4;\" x=\"126.129889\" xlink:href=\"#m94c99245b5\" y=\"63.866614\"/>\n     <use style=\"fill:#1f77b4;stroke:#1f77b4;\" x=\"152.463731\" xlink:href=\"#m94c99245b5\" y=\"96.932165\"/>\n     <use style=\"fill:#1f77b4;stroke:#1f77b4;\" x=\"152.773081\" xlink:href=\"#m94c99245b5\" y=\"88.394082\"/>\n     <use style=\"fill:#1f77b4;stroke:#1f77b4;\" x=\"133.947327\" xlink:href=\"#m94c99245b5\" y=\"69.904102\"/>\n     <use style=\"fill:#1f77b4;stroke:#1f77b4;\" x=\"150.545579\" xlink:href=\"#m94c99245b5\" y=\"109.788286\"/>\n     <use style=\"fill:#1f77b4;stroke:#1f77b4;\" x=\"117.051743\" xlink:href=\"#m94c99245b5\" y=\"37.32192\"/>\n     <use style=\"fill:#1f77b4;stroke:#1f77b4;\" x=\"137.967359\" xlink:href=\"#m94c99245b5\" y=\"64.278088\"/>\n     <use style=\"fill:#1f77b4;stroke:#1f77b4;\" x=\"157.163446\" xlink:href=\"#m94c99245b5\" y=\"76.874442\"/>\n     <use style=\"fill:#1f77b4;stroke:#1f77b4;\" x=\"115.50026\" xlink:href=\"#m94c99245b5\" y=\"59.260057\"/>\n     <use style=\"fill:#1f77b4;stroke:#1f77b4;\" x=\"159.66835\" xlink:href=\"#m94c99245b5\" y=\"89.679872\"/>\n     <use style=\"fill:#1f77b4;stroke:#1f77b4;\" x=\"92.981154\" xlink:href=\"#m94c99245b5\" y=\"46.497588\"/>\n     <use style=\"fill:#1f77b4;stroke:#1f77b4;\" x=\"137.404723\" xlink:href=\"#m94c99245b5\" y=\"81.991166\"/>\n     <use style=\"fill:#1f77b4;stroke:#1f77b4;\" x=\"121.09838\" xlink:href=\"#m94c99245b5\" y=\"66.515322\"/>\n     <use style=\"fill:#1f77b4;stroke:#1f77b4;\" x=\"124.658344\" xlink:href=\"#m94c99245b5\" y=\"53.81259\"/>\n     <use style=\"fill:#1f77b4;stroke:#1f77b4;\" x=\"145.000914\" xlink:href=\"#m94c99245b5\" y=\"73.195716\"/>\n     <use style=\"fill:#1f77b4;stroke:#1f77b4;\" x=\"152.730719\" xlink:href=\"#m94c99245b5\" y=\"60.135945\"/>\n     <use style=\"fill:#1f77b4;stroke:#1f77b4;\" x=\"183.488254\" xlink:href=\"#m94c99245b5\" y=\"96.603292\"/>\n     <use style=\"fill:#1f77b4;stroke:#1f77b4;\" x=\"156.11595\" xlink:href=\"#m94c99245b5\" y=\"89.079103\"/>\n     <use style=\"fill:#1f77b4;stroke:#1f77b4;\" x=\"140.352783\" xlink:href=\"#m94c99245b5\" y=\"96.092493\"/>\n     <use style=\"fill:#1f77b4;stroke:#1f77b4;\" x=\"141.04453\" xlink:href=\"#m94c99245b5\" y=\"90.532359\"/>\n     <use style=\"fill:#1f77b4;stroke:#1f77b4;\" x=\"118.371547\" xlink:href=\"#m94c99245b5\" y=\"60.949962\"/>\n     <use style=\"fill:#1f77b4;stroke:#1f77b4;\" x=\"181.699507\" xlink:href=\"#m94c99245b5\" y=\"100.554829\"/>\n     <use style=\"fill:#1f77b4;stroke:#1f77b4;\" x=\"139.201294\" xlink:href=\"#m94c99245b5\" y=\"86.770785\"/>\n     <use style=\"fill:#1f77b4;stroke:#1f77b4;\" x=\"173.811284\" xlink:href=\"#m94c99245b5\" y=\"98.099175\"/>\n     <use style=\"fill:#1f77b4;stroke:#1f77b4;\" x=\"132.926317\" xlink:href=\"#m94c99245b5\" y=\"70.683331\"/>\n     <use style=\"fill:#1f77b4;stroke:#1f77b4;\" x=\"156.282841\" xlink:href=\"#m94c99245b5\" y=\"79.287213\"/>\n     <use style=\"fill:#1f77b4;stroke:#1f77b4;\" x=\"108.716719\" xlink:href=\"#m94c99245b5\" y=\"59.598676\"/>\n     <use style=\"fill:#1f77b4;stroke:#1f77b4;\" x=\"156.296962\" xlink:href=\"#m94c99245b5\" y=\"61.688854\"/>\n     <use style=\"fill:#1f77b4;stroke:#1f77b4;\" x=\"123.312547\" xlink:href=\"#m94c99245b5\" y=\"60.983672\"/>\n     <use style=\"fill:#1f77b4;stroke:#1f77b4;\" x=\"100.826317\" xlink:href=\"#m94c99245b5\" y=\"43.455798\"/>\n     <use style=\"fill:#1f77b4;stroke:#1f77b4;\" x=\"155.330474\" xlink:href=\"#m94c99245b5\" y=\"86.80882\"/>\n     <use style=\"fill:#1f77b4;stroke:#1f77b4;\" x=\"123.081651\" xlink:href=\"#m94c99245b5\" y=\"55.665343\"/>\n     <use style=\"fill:#1f77b4;stroke:#1f77b4;\" x=\"171.985244\" xlink:href=\"#m94c99245b5\" y=\"91.869297\"/>\n     <use style=\"fill:#1f77b4;stroke:#1f77b4;\" x=\"125.612247\" xlink:href=\"#m94c99245b5\" y=\"52.600276\"/>\n     <use style=\"fill:#1f77b4;stroke:#1f77b4;\" x=\"106.554957\" xlink:href=\"#m94c99245b5\" y=\"69.651108\"/>\n     <use style=\"fill:#1f77b4;stroke:#1f77b4;\" x=\"137.057032\" xlink:href=\"#m94c99245b5\" y=\"80.101092\"/>\n     <use style=\"fill:#1f77b4;stroke:#1f77b4;\" x=\"89.463272\" xlink:href=\"#m94c99245b5\" y=\"31.913868\"/>\n     <use style=\"fill:#1f77b4;stroke:#1f77b4;\" x=\"118.758032\" xlink:href=\"#m94c99245b5\" y=\"64.224843\"/>\n     <use style=\"fill:#1f77b4;stroke:#1f77b4;\" x=\"149.21027\" xlink:href=\"#m94c99245b5\" y=\"87.509989\"/>\n     <use style=\"fill:#1f77b4;stroke:#1f77b4;\" x=\"186.804573\" xlink:href=\"#m94c99245b5\" y=\"100.711498\"/>\n     <use style=\"fill:#1f77b4;stroke:#1f77b4;\" x=\"148.077989\" xlink:href=\"#m94c99245b5\" y=\"94.934124\"/>\n     <use style=\"fill:#1f77b4;stroke:#1f77b4;\" x=\"157.117825\" xlink:href=\"#m94c99245b5\" y=\"94.660584\"/>\n     <use style=\"fill:#1f77b4;stroke:#1f77b4;\" x=\"165.676034\" xlink:href=\"#m94c99245b5\" y=\"84.542163\"/>\n     <use style=\"fill:#1f77b4;stroke:#1f77b4;\" x=\"121.593881\" xlink:href=\"#m94c99245b5\" y=\"52.894472\"/>\n     <use style=\"fill:#1f77b4;stroke:#1f77b4;\" x=\"110.968056\" xlink:href=\"#m94c99245b5\" y=\"56.160741\"/>\n     <use style=\"fill:#1f77b4;stroke:#1f77b4;\" x=\"137.111941\" xlink:href=\"#m94c99245b5\" y=\"74.987249\"/>\n     <use style=\"fill:#1f77b4;stroke:#1f77b4;\" x=\"161.6528\" xlink:href=\"#m94c99245b5\" y=\"77.545755\"/>\n     <use style=\"fill:#1f77b4;stroke:#1f77b4;\" x=\"140.864786\" xlink:href=\"#m94c99245b5\" y=\"70.900433\"/>\n     <use style=\"fill:#1f77b4;stroke:#1f77b4;\" x=\"158.009326\" xlink:href=\"#m94c99245b5\" y=\"89.5256\"/>\n     <use style=\"fill:#1f77b4;stroke:#1f77b4;\" x=\"124.976412\" xlink:href=\"#m94c99245b5\" y=\"48.866758\"/>\n     <use style=\"fill:#1f77b4;stroke:#1f77b4;\" x=\"170.910979\" xlink:href=\"#m94c99245b5\" y=\"109.07767\"/>\n     <use style=\"fill:#1f77b4;stroke:#1f77b4;\" x=\"124.253939\" xlink:href=\"#m94c99245b5\" y=\"51.069849\"/>\n     <use style=\"fill:#1f77b4;stroke:#1f77b4;\" x=\"107.865489\" xlink:href=\"#m94c99245b5\" y=\"59.844427\"/>\n     <use style=\"fill:#1f77b4;stroke:#1f77b4;\" x=\"168.264569\" xlink:href=\"#m94c99245b5\" y=\"98.505379\"/>\n     <use style=\"fill:#1f77b4;stroke:#1f77b4;\" x=\"134.068114\" xlink:href=\"#m94c99245b5\" y=\"68.207504\"/>\n     <use style=\"fill:#1f77b4;stroke:#1f77b4;\" x=\"162.336333\" xlink:href=\"#m94c99245b5\" y=\"112.917729\"/>\n     <use style=\"fill:#1f77b4;stroke:#1f77b4;\" x=\"184.687789\" xlink:href=\"#m94c99245b5\" y=\"117.02827\"/>\n     <use style=\"fill:#1f77b4;stroke:#1f77b4;\" x=\"119.149731\" xlink:href=\"#m94c99245b5\" y=\"69.475859\"/>\n     <use style=\"fill:#1f77b4;stroke:#1f77b4;\" x=\"133.90932\" xlink:href=\"#m94c99245b5\" y=\"73.900137\"/>\n     <use style=\"fill:#1f77b4;stroke:#1f77b4;\" x=\"181.352569\" xlink:href=\"#m94c99245b5\" y=\"111.940338\"/>\n     <use style=\"fill:#1f77b4;stroke:#1f77b4;\" x=\"128.88806\" xlink:href=\"#m94c99245b5\" y=\"62.264522\"/>\n     <use style=\"fill:#1f77b4;stroke:#1f77b4;\" x=\"111.868482\" xlink:href=\"#m94c99245b5\" y=\"49.826289\"/>\n     <use style=\"fill:#1f77b4;stroke:#1f77b4;\" x=\"114.049063\" xlink:href=\"#m94c99245b5\" y=\"67.952643\"/>\n     <use style=\"fill:#1f77b4;stroke:#1f77b4;\" x=\"110.374448\" xlink:href=\"#m94c99245b5\" y=\"58.937765\"/>\n     <use style=\"fill:#1f77b4;stroke:#1f77b4;\" x=\"121.807585\" xlink:href=\"#m94c99245b5\" y=\"57.855672\"/>\n     <use style=\"fill:#1f77b4;stroke:#1f77b4;\" x=\"145.677931\" xlink:href=\"#m94c99245b5\" y=\"76.517264\"/>\n     <use style=\"fill:#1f77b4;stroke:#1f77b4;\" x=\"147.079141\" xlink:href=\"#m94c99245b5\" y=\"74.371636\"/>\n     <use style=\"fill:#1f77b4;stroke:#1f77b4;\" x=\"127.629329\" xlink:href=\"#m94c99245b5\" y=\"69.235608\"/>\n     <use style=\"fill:#1f77b4;stroke:#1f77b4;\" x=\"162.616454\" xlink:href=\"#m94c99245b5\" y=\"88.65947\"/>\n     <use style=\"fill:#1f77b4;stroke:#1f77b4;\" x=\"154.629133\" xlink:href=\"#m94c99245b5\" y=\"102.163616\"/>\n     <use style=\"fill:#1f77b4;stroke:#1f77b4;\" x=\"141.412833\" xlink:href=\"#m94c99245b5\" y=\"72.982788\"/>\n     <use style=\"fill:#1f77b4;stroke:#1f77b4;\" x=\"147.254119\" xlink:href=\"#m94c99245b5\" y=\"72.414985\"/>\n     <use style=\"fill:#1f77b4;stroke:#1f77b4;\" x=\"134.715646\" xlink:href=\"#m94c99245b5\" y=\"71.819482\"/>\n     <use style=\"fill:#1f77b4;stroke:#1f77b4;\" x=\"135.322911\" xlink:href=\"#m94c99245b5\" y=\"62.576581\"/>\n     <use style=\"fill:#1f77b4;stroke:#1f77b4;\" x=\"164.175148\" xlink:href=\"#m94c99245b5\" y=\"87.725173\"/>\n     <use style=\"fill:#1f77b4;stroke:#1f77b4;\" x=\"101.530259\" xlink:href=\"#m94c99245b5\" y=\"40.870496\"/>\n     <use style=\"fill:#1f77b4;stroke:#1f77b4;\" x=\"134.50173\" xlink:href=\"#m94c99245b5\" y=\"90.038753\"/>\n     <use style=\"fill:#1f77b4;stroke:#1f77b4;\" x=\"148.691748\" xlink:href=\"#m94c99245b5\" y=\"76.512626\"/>\n     <use style=\"fill:#1f77b4;stroke:#1f77b4;\" x=\"117.470951\" xlink:href=\"#m94c99245b5\" y=\"54.006104\"/>\n     <use style=\"fill:#1f77b4;stroke:#1f77b4;\" x=\"189.055958\" xlink:href=\"#m94c99245b5\" y=\"96.695341\"/>\n     <use style=\"fill:#1f77b4;stroke:#1f77b4;\" x=\"155.118007\" xlink:href=\"#m94c99245b5\" y=\"82.103095\"/>\n     <use style=\"fill:#1f77b4;stroke:#1f77b4;\" x=\"150.481684\" xlink:href=\"#m94c99245b5\" y=\"82.045787\"/>\n     <use style=\"fill:#1f77b4;stroke:#1f77b4;\" x=\"146.56352\" xlink:href=\"#m94c99245b5\" y=\"76.858905\"/>\n     <use style=\"fill:#1f77b4;stroke:#1f77b4;\" x=\"158.641937\" xlink:href=\"#m94c99245b5\" y=\"84.384409\"/>\n     <use style=\"fill:#1f77b4;stroke:#1f77b4;\" x=\"86.739192\" xlink:href=\"#m94c99245b5\" y=\"36.151414\"/>\n     <use style=\"fill:#1f77b4;stroke:#1f77b4;\" x=\"154.173724\" xlink:href=\"#m94c99245b5\" y=\"91.541274\"/>\n     <use style=\"fill:#1f77b4;stroke:#1f77b4;\" x=\"165.377693\" xlink:href=\"#m94c99245b5\" y=\"95.962434\"/>\n     <use style=\"fill:#1f77b4;stroke:#1f77b4;\" x=\"99.358388\" xlink:href=\"#m94c99245b5\" y=\"56.198918\"/>\n     <use style=\"fill:#1f77b4;stroke:#1f77b4;\" x=\"206.127917\" xlink:href=\"#m94c99245b5\" y=\"110.170178\"/>\n     <use style=\"fill:#1f77b4;stroke:#1f77b4;\" x=\"149.468396\" xlink:href=\"#m94c99245b5\" y=\"72.811262\"/>\n     <use style=\"fill:#1f77b4;stroke:#1f77b4;\" x=\"155.672157\" xlink:href=\"#m94c99245b5\" y=\"87.416342\"/>\n     <use style=\"fill:#1f77b4;stroke:#1f77b4;\" x=\"141.143937\" xlink:href=\"#m94c99245b5\" y=\"93.192704\"/>\n     <use style=\"fill:#1f77b4;stroke:#1f77b4;\" x=\"178.600638\" xlink:href=\"#m94c99245b5\" y=\"112.780678\"/>\n     <use style=\"fill:#1f77b4;stroke:#1f77b4;\" x=\"135.880398\" xlink:href=\"#m94c99245b5\" y=\"73.058059\"/>\n     <use style=\"fill:#1f77b4;stroke:#1f77b4;\" x=\"145.633905\" xlink:href=\"#m94c99245b5\" y=\"72.331591\"/>\n     <use style=\"fill:#1f77b4;stroke:#1f77b4;\" x=\"155.114419\" xlink:href=\"#m94c99245b5\" y=\"84.511727\"/>\n     <use style=\"fill:#1f77b4;stroke:#1f77b4;\" x=\"165.326459\" xlink:href=\"#m94c99245b5\" y=\"87.022844\"/>\n     <use style=\"fill:#1f77b4;stroke:#1f77b4;\" x=\"107.962862\" xlink:href=\"#m94c99245b5\" y=\"55.320504\"/>\n     <use style=\"fill:#1f77b4;stroke:#1f77b4;\" x=\"153.152871\" xlink:href=\"#m94c99245b5\" y=\"84.762487\"/>\n     <use style=\"fill:#1f77b4;stroke:#1f77b4;\" x=\"129.942361\" xlink:href=\"#m94c99245b5\" y=\"78.966171\"/>\n     <use style=\"fill:#1f77b4;stroke:#1f77b4;\" x=\"174.647741\" xlink:href=\"#m94c99245b5\" y=\"106.097531\"/>\n     <use style=\"fill:#1f77b4;stroke:#1f77b4;\" x=\"95.08885\" xlink:href=\"#m94c99245b5\" y=\"33.733391\"/>\n     <use style=\"fill:#1f77b4;stroke:#1f77b4;\" x=\"138.407202\" xlink:href=\"#m94c99245b5\" y=\"77.698808\"/>\n     <use style=\"fill:#1f77b4;stroke:#1f77b4;\" x=\"122.897591\" xlink:href=\"#m94c99245b5\" y=\"62.655013\"/>\n     <use style=\"fill:#1f77b4;stroke:#1f77b4;\" x=\"153.846621\" xlink:href=\"#m94c99245b5\" y=\"98.120655\"/>\n     <use style=\"fill:#1f77b4;stroke:#1f77b4;\" x=\"146.130705\" xlink:href=\"#m94c99245b5\" y=\"76.691961\"/>\n     <use style=\"fill:#1f77b4;stroke:#1f77b4;\" x=\"116.405528\" xlink:href=\"#m94c99245b5\" y=\"55.084243\"/>\n     <use style=\"fill:#1f77b4;stroke:#1f77b4;\" x=\"116.468689\" xlink:href=\"#m94c99245b5\" y=\"62.55829\"/>\n     <use style=\"fill:#1f77b4;stroke:#1f77b4;\" x=\"88.049483\" xlink:href=\"#m94c99245b5\" y=\"40.31702\"/>\n     <use style=\"fill:#1f77b4;stroke:#1f77b4;\" x=\"126.943556\" xlink:href=\"#m94c99245b5\" y=\"75.562414\"/>\n     <use style=\"fill:#1f77b4;stroke:#1f77b4;\" x=\"113.37441\" xlink:href=\"#m94c99245b5\" y=\"61.888682\"/>\n     <use style=\"fill:#1f77b4;stroke:#1f77b4;\" x=\"137.146401\" xlink:href=\"#m94c99245b5\" y=\"79.200872\"/>\n     <use style=\"fill:#1f77b4;stroke:#1f77b4;\" x=\"87.990954\" xlink:href=\"#m94c99245b5\" y=\"15.726405\"/>\n     <use style=\"fill:#1f77b4;stroke:#1f77b4;\" x=\"157.286751\" xlink:href=\"#m94c99245b5\" y=\"108.154503\"/>\n     <use style=\"fill:#1f77b4;stroke:#1f77b4;\" x=\"141.460472\" xlink:href=\"#m94c99245b5\" y=\"89.594337\"/>\n     <use style=\"fill:#1f77b4;stroke:#1f77b4;\" x=\"151.030405\" xlink:href=\"#m94c99245b5\" y=\"73.643408\"/>\n     <use style=\"fill:#1f77b4;stroke:#1f77b4;\" x=\"152.807807\" xlink:href=\"#m94c99245b5\" y=\"76.268933\"/>\n     <use style=\"fill:#1f77b4;stroke:#1f77b4;\" x=\"156.687508\" xlink:href=\"#m94c99245b5\" y=\"92.237316\"/>\n     <use style=\"fill:#1f77b4;stroke:#1f77b4;\" x=\"104.082747\" xlink:href=\"#m94c99245b5\" y=\"46.62559\"/>\n     <use style=\"fill:#1f77b4;stroke:#1f77b4;\" x=\"133.469305\" xlink:href=\"#m94c99245b5\" y=\"57.662344\"/>\n     <use style=\"fill:#1f77b4;stroke:#1f77b4;\" x=\"114.651763\" xlink:href=\"#m94c99245b5\" y=\"61.985773\"/>\n     <use style=\"fill:#1f77b4;stroke:#1f77b4;\" x=\"143.908522\" xlink:href=\"#m94c99245b5\" y=\"71.452461\"/>\n     <use style=\"fill:#1f77b4;stroke:#1f77b4;\" x=\"117.948898\" xlink:href=\"#m94c99245b5\" y=\"57.196793\"/>\n     <use style=\"fill:#1f77b4;stroke:#1f77b4;\" x=\"119.19969\" xlink:href=\"#m94c99245b5\" y=\"59.3525\"/>\n     <use style=\"fill:#1f77b4;stroke:#1f77b4;\" x=\"176.590245\" xlink:href=\"#m94c99245b5\" y=\"92.176632\"/>\n     <use style=\"fill:#1f77b4;stroke:#1f77b4;\" x=\"131.510944\" xlink:href=\"#m94c99245b5\" y=\"77.945532\"/>\n     <use style=\"fill:#1f77b4;stroke:#1f77b4;\" x=\"128.23266\" xlink:href=\"#m94c99245b5\" y=\"60.055695\"/>\n     <use style=\"fill:#1f77b4;stroke:#1f77b4;\" x=\"142.306454\" xlink:href=\"#m94c99245b5\" y=\"70.377016\"/>\n     <use style=\"fill:#1f77b4;stroke:#1f77b4;\" x=\"150.972104\" xlink:href=\"#m94c99245b5\" y=\"81.07959\"/>\n     <use style=\"fill:#1f77b4;stroke:#1f77b4;\" x=\"150.095149\" xlink:href=\"#m94c99245b5\" y=\"81.895545\"/>\n     <use style=\"fill:#1f77b4;stroke:#1f77b4;\" x=\"108.336939\" xlink:href=\"#m94c99245b5\" y=\"57.259793\"/>\n     <use style=\"fill:#1f77b4;stroke:#1f77b4;\" x=\"174.545861\" xlink:href=\"#m94c99245b5\" y=\"108.827848\"/>\n     <use style=\"fill:#1f77b4;stroke:#1f77b4;\" x=\"173.03082\" xlink:href=\"#m94c99245b5\" y=\"108.893802\"/>\n     <use style=\"fill:#1f77b4;stroke:#1f77b4;\" x=\"200.723513\" xlink:href=\"#m94c99245b5\" y=\"100.858596\"/>\n     <use style=\"fill:#1f77b4;stroke:#1f77b4;\" x=\"180.032953\" xlink:href=\"#m94c99245b5\" y=\"92.295228\"/>\n     <use style=\"fill:#1f77b4;stroke:#1f77b4;\" x=\"164.470277\" xlink:href=\"#m94c99245b5\" y=\"64.351853\"/>\n     <use style=\"fill:#1f77b4;stroke:#1f77b4;\" x=\"113.615632\" xlink:href=\"#m94c99245b5\" y=\"65.415094\"/>\n     <use style=\"fill:#1f77b4;stroke:#1f77b4;\" x=\"128.656855\" xlink:href=\"#m94c99245b5\" y=\"48.035622\"/>\n     <use style=\"fill:#1f77b4;stroke:#1f77b4;\" x=\"179.317222\" xlink:href=\"#m94c99245b5\" y=\"92.751107\"/>\n     <use style=\"fill:#1f77b4;stroke:#1f77b4;\" x=\"121.140041\" xlink:href=\"#m94c99245b5\" y=\"68.6154\"/>\n     <use style=\"fill:#1f77b4;stroke:#1f77b4;\" x=\"142.074644\" xlink:href=\"#m94c99245b5\" y=\"70.853953\"/>\n     <use style=\"fill:#1f77b4;stroke:#1f77b4;\" x=\"122.072859\" xlink:href=\"#m94c99245b5\" y=\"67.931057\"/>\n     <use style=\"fill:#1f77b4;stroke:#1f77b4;\" x=\"166.813222\" xlink:href=\"#m94c99245b5\" y=\"97.155526\"/>\n     <use style=\"fill:#1f77b4;stroke:#1f77b4;\" x=\"86.369892\" xlink:href=\"#m94c99245b5\" y=\"30.535691\"/>\n     <use style=\"fill:#1f77b4;stroke:#1f77b4;\" x=\"126.397712\" xlink:href=\"#m94c99245b5\" y=\"59.69279\"/>\n     <use style=\"fill:#1f77b4;stroke:#1f77b4;\" x=\"127.189549\" xlink:href=\"#m94c99245b5\" y=\"83.908584\"/>\n     <use style=\"fill:#1f77b4;stroke:#1f77b4;\" x=\"108.692258\" xlink:href=\"#m94c99245b5\" y=\"68.824377\"/>\n     <use style=\"fill:#1f77b4;stroke:#1f77b4;\" x=\"168.010716\" xlink:href=\"#m94c99245b5\" y=\"94.377398\"/>\n     <use style=\"fill:#1f77b4;stroke:#1f77b4;\" x=\"144.580775\" xlink:href=\"#m94c99245b5\" y=\"66.454059\"/>\n     <use style=\"fill:#1f77b4;stroke:#1f77b4;\" x=\"181.911288\" xlink:href=\"#m94c99245b5\" y=\"100.423082\"/>\n     <use style=\"fill:#1f77b4;stroke:#1f77b4;\" x=\"146.058684\" xlink:href=\"#m94c99245b5\" y=\"87.25533\"/>\n     <use style=\"fill:#1f77b4;stroke:#1f77b4;\" x=\"138.785311\" xlink:href=\"#m94c99245b5\" y=\"74.362546\"/>\n     <use style=\"fill:#1f77b4;stroke:#1f77b4;\" x=\"157.000432\" xlink:href=\"#m94c99245b5\" y=\"91.19371\"/>\n     <use style=\"fill:#1f77b4;stroke:#1f77b4;\" x=\"170.648455\" xlink:href=\"#m94c99245b5\" y=\"83.281976\"/>\n     <use style=\"fill:#1f77b4;stroke:#1f77b4;\" x=\"176.959176\" xlink:href=\"#m94c99245b5\" y=\"103.77137\"/>\n     <use style=\"fill:#1f77b4;stroke:#1f77b4;\" x=\"184.937237\" xlink:href=\"#m94c99245b5\" y=\"105.408491\"/>\n     <use style=\"fill:#1f77b4;stroke:#1f77b4;\" x=\"96.451832\" xlink:href=\"#m94c99245b5\" y=\"34.353472\"/>\n     <use style=\"fill:#1f77b4;stroke:#1f77b4;\" x=\"117.85006\" xlink:href=\"#m94c99245b5\" y=\"56.502044\"/>\n     <use style=\"fill:#1f77b4;stroke:#1f77b4;\" x=\"168.862797\" xlink:href=\"#m94c99245b5\" y=\"93.328461\"/>\n     <use style=\"fill:#1f77b4;stroke:#1f77b4;\" x=\"135.92304\" xlink:href=\"#m94c99245b5\" y=\"80.239405\"/>\n     <use style=\"fill:#1f77b4;stroke:#1f77b4;\" x=\"126.418539\" xlink:href=\"#m94c99245b5\" y=\"58.513533\"/>\n     <use style=\"fill:#1f77b4;stroke:#1f77b4;\" x=\"138.483381\" xlink:href=\"#m94c99245b5\" y=\"57.878197\"/>\n     <use style=\"fill:#1f77b4;stroke:#1f77b4;\" x=\"150.526728\" xlink:href=\"#m94c99245b5\" y=\"80.22369\"/>\n     <use style=\"fill:#1f77b4;stroke:#1f77b4;\" x=\"180.783836\" xlink:href=\"#m94c99245b5\" y=\"96.257774\"/>\n     <use style=\"fill:#1f77b4;stroke:#1f77b4;\" x=\"174.822651\" xlink:href=\"#m94c99245b5\" y=\"104.319917\"/>\n     <use style=\"fill:#1f77b4;stroke:#1f77b4;\" x=\"190.051167\" xlink:href=\"#m94c99245b5\" y=\"105.936471\"/>\n     <use style=\"fill:#1f77b4;stroke:#1f77b4;\" x=\"122.497511\" xlink:href=\"#m94c99245b5\" y=\"88.554345\"/>\n     <use style=\"fill:#1f77b4;stroke:#1f77b4;\" x=\"167.155527\" xlink:href=\"#m94c99245b5\" y=\"95.07005\"/>\n     <use style=\"fill:#1f77b4;stroke:#1f77b4;\" x=\"74.323763\" xlink:href=\"#m94c99245b5\" y=\"33.974542\"/>\n     <use style=\"fill:#1f77b4;stroke:#1f77b4;\" x=\"159.757528\" xlink:href=\"#m94c99245b5\" y=\"78.485371\"/>\n     <use style=\"fill:#1f77b4;stroke:#1f77b4;\" x=\"92.660005\" xlink:href=\"#m94c99245b5\" y=\"34.954728\"/>\n     <use style=\"fill:#1f77b4;stroke:#1f77b4;\" x=\"171.234245\" xlink:href=\"#m94c99245b5\" y=\"97.704577\"/>\n     <use style=\"fill:#1f77b4;stroke:#1f77b4;\" x=\"120.701721\" xlink:href=\"#m94c99245b5\" y=\"63.708891\"/>\n     <use style=\"fill:#1f77b4;stroke:#1f77b4;\" x=\"221.727415\" xlink:href=\"#m94c99245b5\" y=\"119.82247\"/>\n     <use style=\"fill:#1f77b4;stroke:#1f77b4;\" x=\"90.027264\" xlink:href=\"#m94c99245b5\" y=\"50.069828\"/>\n     <use style=\"fill:#1f77b4;stroke:#1f77b4;\" x=\"126.67148\" xlink:href=\"#m94c99245b5\" y=\"84.472833\"/>\n     <use style=\"fill:#1f77b4;stroke:#1f77b4;\" x=\"107.866303\" xlink:href=\"#m94c99245b5\" y=\"40.199217\"/>\n     <use style=\"fill:#1f77b4;stroke:#1f77b4;\" x=\"124.265849\" xlink:href=\"#m94c99245b5\" y=\"52.709766\"/>\n     <use style=\"fill:#1f77b4;stroke:#1f77b4;\" x=\"156.984632\" xlink:href=\"#m94c99245b5\" y=\"75.299935\"/>\n     <use style=\"fill:#1f77b4;stroke:#1f77b4;\" x=\"125.013503\" xlink:href=\"#m94c99245b5\" y=\"68.640702\"/>\n     <use style=\"fill:#1f77b4;stroke:#1f77b4;\" x=\"172.07069\" xlink:href=\"#m94c99245b5\" y=\"104.626018\"/>\n     <use style=\"fill:#1f77b4;stroke:#1f77b4;\" x=\"158.543303\" xlink:href=\"#m94c99245b5\" y=\"83.748222\"/>\n     <use style=\"fill:#1f77b4;stroke:#1f77b4;\" x=\"164.432273\" xlink:href=\"#m94c99245b5\" y=\"94.986192\"/>\n     <use style=\"fill:#1f77b4;stroke:#1f77b4;\" x=\"145.896036\" xlink:href=\"#m94c99245b5\" y=\"78.269519\"/>\n     <use style=\"fill:#1f77b4;stroke:#1f77b4;\" x=\"101.881768\" xlink:href=\"#m94c99245b5\" y=\"63.863099\"/>\n     <use style=\"fill:#1f77b4;stroke:#1f77b4;\" x=\"147.60434\" xlink:href=\"#m94c99245b5\" y=\"76.692856\"/>\n     <use style=\"fill:#1f77b4;stroke:#1f77b4;\" x=\"168.33686\" xlink:href=\"#m94c99245b5\" y=\"101.002717\"/>\n     <use style=\"fill:#1f77b4;stroke:#1f77b4;\" x=\"145.702379\" xlink:href=\"#m94c99245b5\" y=\"64.368267\"/>\n     <use style=\"fill:#1f77b4;stroke:#1f77b4;\" x=\"167.80606\" xlink:href=\"#m94c99245b5\" y=\"108.729338\"/>\n     <use style=\"fill:#1f77b4;stroke:#1f77b4;\" x=\"130.191335\" xlink:href=\"#m94c99245b5\" y=\"57.797476\"/>\n     <use style=\"fill:#1f77b4;stroke:#1f77b4;\" x=\"104.862219\" xlink:href=\"#m94c99245b5\" y=\"61.318377\"/>\n     <use style=\"fill:#1f77b4;stroke:#1f77b4;\" x=\"137.245759\" xlink:href=\"#m94c99245b5\" y=\"74.317415\"/>\n     <use style=\"fill:#1f77b4;stroke:#1f77b4;\" x=\"151.286691\" xlink:href=\"#m94c99245b5\" y=\"86.150113\"/>\n     <use style=\"fill:#1f77b4;stroke:#1f77b4;\" x=\"162.750746\" xlink:href=\"#m94c99245b5\" y=\"82.304196\"/>\n     <use style=\"fill:#1f77b4;stroke:#1f77b4;\" x=\"150.177788\" xlink:href=\"#m94c99245b5\" y=\"93.865775\"/>\n     <use style=\"fill:#1f77b4;stroke:#1f77b4;\" x=\"115.762745\" xlink:href=\"#m94c99245b5\" y=\"42.430055\"/>\n     <use style=\"fill:#1f77b4;stroke:#1f77b4;\" x=\"156.504028\" xlink:href=\"#m94c99245b5\" y=\"83.58821\"/>\n     <use style=\"fill:#1f77b4;stroke:#1f77b4;\" x=\"150.303312\" xlink:href=\"#m94c99245b5\" y=\"72.497588\"/>\n     <use style=\"fill:#1f77b4;stroke:#1f77b4;\" x=\"126.736363\" xlink:href=\"#m94c99245b5\" y=\"65.390486\"/>\n     <use style=\"fill:#1f77b4;stroke:#1f77b4;\" x=\"131.299109\" xlink:href=\"#m94c99245b5\" y=\"48.211489\"/>\n     <use style=\"fill:#1f77b4;stroke:#1f77b4;\" x=\"109.507813\" xlink:href=\"#m94c99245b5\" y=\"49.171931\"/>\n     <use style=\"fill:#1f77b4;stroke:#1f77b4;\" x=\"117.301773\" xlink:href=\"#m94c99245b5\" y=\"48.272683\"/>\n     <use style=\"fill:#1f77b4;stroke:#1f77b4;\" x=\"218.054792\" xlink:href=\"#m94c99245b5\" y=\"114.658545\"/>\n     <use style=\"fill:#1f77b4;stroke:#1f77b4;\" x=\"143.811005\" xlink:href=\"#m94c99245b5\" y=\"80.091587\"/>\n     <use style=\"fill:#1f77b4;stroke:#1f77b4;\" x=\"136.182692\" xlink:href=\"#m94c99245b5\" y=\"81.663408\"/>\n     <use style=\"fill:#1f77b4;stroke:#1f77b4;\" x=\"115.814619\" xlink:href=\"#m94c99245b5\" y=\"65.74515\"/>\n     <use style=\"fill:#1f77b4;stroke:#1f77b4;\" x=\"148.177969\" xlink:href=\"#m94c99245b5\" y=\"69.903335\"/>\n     <use style=\"fill:#1f77b4;stroke:#1f77b4;\" x=\"135.889484\" xlink:href=\"#m94c99245b5\" y=\"54.591577\"/>\n     <use style=\"fill:#1f77b4;stroke:#1f77b4;\" x=\"156.087162\" xlink:href=\"#m94c99245b5\" y=\"73.416571\"/>\n     <use style=\"fill:#1f77b4;stroke:#1f77b4;\" x=\"165.250495\" xlink:href=\"#m94c99245b5\" y=\"82.391341\"/>\n     <use style=\"fill:#1f77b4;stroke:#1f77b4;\" x=\"122.270775\" xlink:href=\"#m94c99245b5\" y=\"66.529181\"/>\n     <use style=\"fill:#1f77b4;stroke:#1f77b4;\" x=\"115.976878\" xlink:href=\"#m94c99245b5\" y=\"58.529227\"/>\n     <use style=\"fill:#1f77b4;stroke:#1f77b4;\" x=\"102.452112\" xlink:href=\"#m94c99245b5\" y=\"57.375956\"/>\n     <use style=\"fill:#1f77b4;stroke:#1f77b4;\" x=\"118.01288\" xlink:href=\"#m94c99245b5\" y=\"69.566869\"/>\n     <use style=\"fill:#1f77b4;stroke:#1f77b4;\" x=\"89.57724\" xlink:href=\"#m94c99245b5\" y=\"48.223605\"/>\n     <use style=\"fill:#1f77b4;stroke:#1f77b4;\" x=\"107.486315\" xlink:href=\"#m94c99245b5\" y=\"71.181547\"/>\n     <use style=\"fill:#1f77b4;stroke:#1f77b4;\" x=\"129.238036\" xlink:href=\"#m94c99245b5\" y=\"78.688694\"/>\n     <use style=\"fill:#1f77b4;stroke:#1f77b4;\" x=\"155.588135\" xlink:href=\"#m94c99245b5\" y=\"79.760565\"/>\n     <use style=\"fill:#1f77b4;stroke:#1f77b4;\" x=\"171.941497\" xlink:href=\"#m94c99245b5\" y=\"108.861158\"/>\n     <use style=\"fill:#1f77b4;stroke:#1f77b4;\" x=\"178.949497\" xlink:href=\"#m94c99245b5\" y=\"90.097\"/>\n     <use style=\"fill:#1f77b4;stroke:#1f77b4;\" x=\"126.753704\" xlink:href=\"#m94c99245b5\" y=\"61.721771\"/>\n     <use style=\"fill:#1f77b4;stroke:#1f77b4;\" x=\"108.184411\" xlink:href=\"#m94c99245b5\" y=\"49.628127\"/>\n     <use style=\"fill:#1f77b4;stroke:#1f77b4;\" x=\"95.41808\" xlink:href=\"#m94c99245b5\" y=\"44.910508\"/>\n     <use style=\"fill:#1f77b4;stroke:#1f77b4;\" x=\"164.173239\" xlink:href=\"#m94c99245b5\" y=\"95.187926\"/>\n     <use style=\"fill:#1f77b4;stroke:#1f77b4;\" x=\"143.383129\" xlink:href=\"#m94c99245b5\" y=\"75.765741\"/>\n     <use style=\"fill:#1f77b4;stroke:#1f77b4;\" x=\"126.551644\" xlink:href=\"#m94c99245b5\" y=\"71.90552\"/>\n     <use style=\"fill:#1f77b4;stroke:#1f77b4;\" x=\"165.40174\" xlink:href=\"#m94c99245b5\" y=\"86.007243\"/>\n     <use style=\"fill:#1f77b4;stroke:#1f77b4;\" x=\"114.827665\" xlink:href=\"#m94c99245b5\" y=\"47.910071\"/>\n     <use style=\"fill:#1f77b4;stroke:#1f77b4;\" x=\"153.48195\" xlink:href=\"#m94c99245b5\" y=\"84.348307\"/>\n     <use style=\"fill:#1f77b4;stroke:#1f77b4;\" x=\"144.797531\" xlink:href=\"#m94c99245b5\" y=\"98.134025\"/>\n     <use style=\"fill:#1f77b4;stroke:#1f77b4;\" x=\"115.497576\" xlink:href=\"#m94c99245b5\" y=\"60.812623\"/>\n     <use style=\"fill:#1f77b4;stroke:#1f77b4;\" x=\"154.618112\" xlink:href=\"#m94c99245b5\" y=\"89.158571\"/>\n     <use style=\"fill:#1f77b4;stroke:#1f77b4;\" x=\"164.157227\" xlink:href=\"#m94c99245b5\" y=\"89.202634\"/>\n     <use style=\"fill:#1f77b4;stroke:#1f77b4;\" x=\"117.843326\" xlink:href=\"#m94c99245b5\" y=\"60.666888\"/>\n     <use style=\"fill:#1f77b4;stroke:#1f77b4;\" x=\"126.564414\" xlink:href=\"#m94c99245b5\" y=\"75.24079\"/>\n     <use style=\"fill:#1f77b4;stroke:#1f77b4;\" x=\"141.001125\" xlink:href=\"#m94c99245b5\" y=\"77.319155\"/>\n     <use style=\"fill:#1f77b4;stroke:#1f77b4;\" x=\"128.823106\" xlink:href=\"#m94c99245b5\" y=\"73.247036\"/>\n     <use style=\"fill:#1f77b4;stroke:#1f77b4;\" x=\"112.032176\" xlink:href=\"#m94c99245b5\" y=\"52.687202\"/>\n     <use style=\"fill:#1f77b4;stroke:#1f77b4;\" x=\"120.095964\" xlink:href=\"#m94c99245b5\" y=\"52.125998\"/>\n     <use style=\"fill:#1f77b4;stroke:#1f77b4;\" x=\"109.198409\" xlink:href=\"#m94c99245b5\" y=\"53.322932\"/>\n     <use style=\"fill:#1f77b4;stroke:#1f77b4;\" x=\"125.976643\" xlink:href=\"#m94c99245b5\" y=\"72.456396\"/>\n     <use style=\"fill:#1f77b4;stroke:#1f77b4;\" x=\"185.651313\" xlink:href=\"#m94c99245b5\" y=\"118.525574\"/>\n     <use style=\"fill:#1f77b4;stroke:#1f77b4;\" x=\"168.993167\" xlink:href=\"#m94c99245b5\" y=\"91.371658\"/>\n     <use style=\"fill:#1f77b4;stroke:#1f77b4;\" x=\"155.976514\" xlink:href=\"#m94c99245b5\" y=\"80.207325\"/>\n     <use style=\"fill:#1f77b4;stroke:#1f77b4;\" x=\"141.687249\" xlink:href=\"#m94c99245b5\" y=\"78.829456\"/>\n     <use style=\"fill:#1f77b4;stroke:#1f77b4;\" x=\"135.849181\" xlink:href=\"#m94c99245b5\" y=\"80.359409\"/>\n     <use style=\"fill:#1f77b4;stroke:#1f77b4;\" x=\"146.024255\" xlink:href=\"#m94c99245b5\" y=\"72.991357\"/>\n     <use style=\"fill:#1f77b4;stroke:#1f77b4;\" x=\"103.603883\" xlink:href=\"#m94c99245b5\" y=\"44.038603\"/>\n     <use style=\"fill:#1f77b4;stroke:#1f77b4;\" x=\"138.744995\" xlink:href=\"#m94c99245b5\" y=\"82.08055\"/>\n     <use style=\"fill:#1f77b4;stroke:#1f77b4;\" x=\"161.097902\" xlink:href=\"#m94c99245b5\" y=\"80.131067\"/>\n     <use style=\"fill:#1f77b4;stroke:#1f77b4;\" x=\"107.981269\" xlink:href=\"#m94c99245b5\" y=\"49.414243\"/>\n     <use style=\"fill:#1f77b4;stroke:#1f77b4;\" x=\"110.303319\" xlink:href=\"#m94c99245b5\" y=\"70.978305\"/>\n     <use style=\"fill:#1f77b4;stroke:#1f77b4;\" x=\"99.174106\" xlink:href=\"#m94c99245b5\" y=\"44.91581\"/>\n     <use style=\"fill:#1f77b4;stroke:#1f77b4;\" x=\"148.14914\" xlink:href=\"#m94c99245b5\" y=\"71.884415\"/>\n     <use style=\"fill:#1f77b4;stroke:#1f77b4;\" x=\"104.63716\" xlink:href=\"#m94c99245b5\" y=\"47.790647\"/>\n     <use style=\"fill:#1f77b4;stroke:#1f77b4;\" x=\"149.047668\" xlink:href=\"#m94c99245b5\" y=\"79.546345\"/>\n     <use style=\"fill:#1f77b4;stroke:#1f77b4;\" x=\"165.738733\" xlink:href=\"#m94c99245b5\" y=\"90.917618\"/>\n     <use style=\"fill:#1f77b4;stroke:#1f77b4;\" x=\"127.131357\" xlink:href=\"#m94c99245b5\" y=\"49.349729\"/>\n     <use style=\"fill:#1f77b4;stroke:#1f77b4;\" x=\"100.754078\" xlink:href=\"#m94c99245b5\" y=\"41.838775\"/>\n     <use style=\"fill:#1f77b4;stroke:#1f77b4;\" x=\"194.710623\" xlink:href=\"#m94c99245b5\" y=\"110.898263\"/>\n     <use style=\"fill:#1f77b4;stroke:#1f77b4;\" x=\"162.182772\" xlink:href=\"#m94c99245b5\" y=\"98.500817\"/>\n     <use style=\"fill:#1f77b4;stroke:#1f77b4;\" x=\"106.144595\" xlink:href=\"#m94c99245b5\" y=\"62.589383\"/>\n     <use style=\"fill:#1f77b4;stroke:#1f77b4;\" x=\"101.297331\" xlink:href=\"#m94c99245b5\" y=\"37.628759\"/>\n     <use style=\"fill:#1f77b4;stroke:#1f77b4;\" x=\"155.365561\" xlink:href=\"#m94c99245b5\" y=\"98.398189\"/>\n     <use style=\"fill:#1f77b4;stroke:#1f77b4;\" x=\"126.084684\" xlink:href=\"#m94c99245b5\" y=\"72.680809\"/>\n     <use style=\"fill:#1f77b4;stroke:#1f77b4;\" x=\"137.89172\" xlink:href=\"#m94c99245b5\" y=\"78.312669\"/>\n     <use style=\"fill:#1f77b4;stroke:#1f77b4;\" x=\"152.074212\" xlink:href=\"#m94c99245b5\" y=\"95.470299\"/>\n     <use style=\"fill:#1f77b4;stroke:#1f77b4;\" x=\"149.633333\" xlink:href=\"#m94c99245b5\" y=\"70.614519\"/>\n     <use style=\"fill:#1f77b4;stroke:#1f77b4;\" x=\"83.847956\" xlink:href=\"#m94c99245b5\" y=\"38.379792\"/>\n     <use style=\"fill:#1f77b4;stroke:#1f77b4;\" x=\"167.69198\" xlink:href=\"#m94c99245b5\" y=\"86.038791\"/>\n     <use style=\"fill:#1f77b4;stroke:#1f77b4;\" x=\"140.0828\" xlink:href=\"#m94c99245b5\" y=\"73.218051\"/>\n     <use style=\"fill:#1f77b4;stroke:#1f77b4;\" x=\"152.278728\" xlink:href=\"#m94c99245b5\" y=\"88.765387\"/>\n     <use style=\"fill:#1f77b4;stroke:#1f77b4;\" x=\"161.391384\" xlink:href=\"#m94c99245b5\" y=\"86.556068\"/>\n     <use style=\"fill:#1f77b4;stroke:#1f77b4;\" x=\"130.257353\" xlink:href=\"#m94c99245b5\" y=\"55.480196\"/>\n     <use style=\"fill:#1f77b4;stroke:#1f77b4;\" x=\"158.651836\" xlink:href=\"#m94c99245b5\" y=\"85.714318\"/>\n     <use style=\"fill:#1f77b4;stroke:#1f77b4;\" x=\"126.897858\" xlink:href=\"#m94c99245b5\" y=\"73.053469\"/>\n     <use style=\"fill:#1f77b4;stroke:#1f77b4;\" x=\"152.427279\" xlink:href=\"#m94c99245b5\" y=\"60.096916\"/>\n     <use style=\"fill:#1f77b4;stroke:#1f77b4;\" x=\"156.491015\" xlink:href=\"#m94c99245b5\" y=\"67.240607\"/>\n     <use style=\"fill:#1f77b4;stroke:#1f77b4;\" x=\"153.417067\" xlink:href=\"#m94c99245b5\" y=\"80.86817\"/>\n     <use style=\"fill:#1f77b4;stroke:#1f77b4;\" x=\"160.891496\" xlink:href=\"#m94c99245b5\" y=\"87.215003\"/>\n     <use style=\"fill:#1f77b4;stroke:#1f77b4;\" x=\"120.309534\" xlink:href=\"#m94c99245b5\" y=\"48.736722\"/>\n     <use style=\"fill:#1f77b4;stroke:#1f77b4;\" x=\"151.991736\" xlink:href=\"#m94c99245b5\" y=\"81.636557\"/>\n     <use style=\"fill:#1f77b4;stroke:#1f77b4;\" x=\"119.387302\" xlink:href=\"#m94c99245b5\" y=\"32.469317\"/>\n     <use style=\"fill:#1f77b4;stroke:#1f77b4;\" x=\"193.486413\" xlink:href=\"#m94c99245b5\" y=\"88.508388\"/>\n     <use style=\"fill:#1f77b4;stroke:#1f77b4;\" x=\"112.107883\" xlink:href=\"#m94c99245b5\" y=\"47.644907\"/>\n     <use style=\"fill:#1f77b4;stroke:#1f77b4;\" x=\"122.424993\" xlink:href=\"#m94c99245b5\" y=\"76.081018\"/>\n     <use style=\"fill:#1f77b4;stroke:#1f77b4;\" x=\"183.090426\" xlink:href=\"#m94c99245b5\" y=\"99.469149\"/>\n     <use style=\"fill:#1f77b4;stroke:#1f77b4;\" x=\"93.149195\" xlink:href=\"#m94c99245b5\" y=\"47.798726\"/>\n     <use style=\"fill:#1f77b4;stroke:#1f77b4;\" x=\"169.173905\" xlink:href=\"#m94c99245b5\" y=\"81.761037\"/>\n     <use style=\"fill:#1f77b4;stroke:#1f77b4;\" x=\"180.892139\" xlink:href=\"#m94c99245b5\" y=\"88.637188\"/>\n     <use style=\"fill:#1f77b4;stroke:#1f77b4;\" x=\"125.022722\" xlink:href=\"#m94c99245b5\" y=\"76.546534\"/>\n     <use style=\"fill:#1f77b4;stroke:#1f77b4;\" x=\"138.039447\" xlink:href=\"#m94c99245b5\" y=\"78.32647\"/>\n     <use style=\"fill:#1f77b4;stroke:#1f77b4;\" x=\"118.495477\" xlink:href=\"#m94c99245b5\" y=\"59.849196\"/>\n     <use style=\"fill:#1f77b4;stroke:#1f77b4;\" x=\"161.50409\" xlink:href=\"#m94c99245b5\" y=\"81.603242\"/>\n     <use style=\"fill:#1f77b4;stroke:#1f77b4;\" x=\"149.706736\" xlink:href=\"#m94c99245b5\" y=\"78.922531\"/>\n     <use style=\"fill:#1f77b4;stroke:#1f77b4;\" x=\"112.530366\" xlink:href=\"#m94c99245b5\" y=\"55.882433\"/>\n     <use style=\"fill:#1f77b4;stroke:#1f77b4;\" x=\"166.695526\" xlink:href=\"#m94c99245b5\" y=\"95.352653\"/>\n     <use style=\"fill:#1f77b4;stroke:#1f77b4;\" x=\"181.526551\" xlink:href=\"#m94c99245b5\" y=\"96.925912\"/>\n     <use style=\"fill:#1f77b4;stroke:#1f77b4;\" x=\"100.383216\" xlink:href=\"#m94c99245b5\" y=\"44.612121\"/>\n     <use style=\"fill:#1f77b4;stroke:#1f77b4;\" x=\"109.206345\" xlink:href=\"#m94c99245b5\" y=\"63.144173\"/>\n     <use style=\"fill:#1f77b4;stroke:#1f77b4;\" x=\"157.64204\" xlink:href=\"#m94c99245b5\" y=\"71.083633\"/>\n     <use style=\"fill:#1f77b4;stroke:#1f77b4;\" x=\"160.822726\" xlink:href=\"#m94c99245b5\" y=\"104.006588\"/>\n     <use style=\"fill:#1f77b4;stroke:#1f77b4;\" x=\"105.390158\" xlink:href=\"#m94c99245b5\" y=\"48.380577\"/>\n     <use style=\"fill:#1f77b4;stroke:#1f77b4;\" x=\"136.9474\" xlink:href=\"#m94c99245b5\" y=\"68.050565\"/>\n     <use style=\"fill:#1f77b4;stroke:#1f77b4;\" x=\"145.820455\" xlink:href=\"#m94c99245b5\" y=\"79.203383\"/>\n     <use style=\"fill:#1f77b4;stroke:#1f77b4;\" x=\"181.176647\" xlink:href=\"#m94c99245b5\" y=\"104.034047\"/>\n     <use style=\"fill:#1f77b4;stroke:#1f77b4;\" x=\"129.37015\" xlink:href=\"#m94c99245b5\" y=\"55.023875\"/>\n     <use style=\"fill:#1f77b4;stroke:#1f77b4;\" x=\"132.068741\" xlink:href=\"#m94c99245b5\" y=\"85.68119\"/>\n     <use style=\"fill:#1f77b4;stroke:#1f77b4;\" x=\"180.283578\" xlink:href=\"#m94c99245b5\" y=\"92.663864\"/>\n     <use style=\"fill:#1f77b4;stroke:#1f77b4;\" x=\"126.832303\" xlink:href=\"#m94c99245b5\" y=\"67.122812\"/>\n     <use style=\"fill:#1f77b4;stroke:#1f77b4;\" x=\"118.646264\" xlink:href=\"#m94c99245b5\" y=\"62.052267\"/>\n     <use style=\"fill:#1f77b4;stroke:#1f77b4;\" x=\"101.408762\" xlink:href=\"#m94c99245b5\" y=\"38.754591\"/>\n     <use style=\"fill:#1f77b4;stroke:#1f77b4;\" x=\"176.004759\" xlink:href=\"#m94c99245b5\" y=\"98.128677\"/>\n     <use style=\"fill:#1f77b4;stroke:#1f77b4;\" x=\"89.656187\" xlink:href=\"#m94c99245b5\" y=\"37.783682\"/>\n     <use style=\"fill:#1f77b4;stroke:#1f77b4;\" x=\"98.708555\" xlink:href=\"#m94c99245b5\" y=\"57.480356\"/>\n     <use style=\"fill:#1f77b4;stroke:#1f77b4;\" x=\"137.085506\" xlink:href=\"#m94c99245b5\" y=\"78.221443\"/>\n     <use style=\"fill:#1f77b4;stroke:#1f77b4;\" x=\"154.484543\" xlink:href=\"#m94c99245b5\" y=\"86.100362\"/>\n     <use style=\"fill:#1f77b4;stroke:#1f77b4;\" x=\"125.76286\" xlink:href=\"#m94c99245b5\" y=\"47.27127\"/>\n     <use style=\"fill:#1f77b4;stroke:#1f77b4;\" x=\"159.603562\" xlink:href=\"#m94c99245b5\" y=\"99.537455\"/>\n     <use style=\"fill:#1f77b4;stroke:#1f77b4;\" x=\"111.972417\" xlink:href=\"#m94c99245b5\" y=\"45.923419\"/>\n     <use style=\"fill:#1f77b4;stroke:#1f77b4;\" x=\"131.496296\" xlink:href=\"#m94c99245b5\" y=\"76.567177\"/>\n     <use style=\"fill:#1f77b4;stroke:#1f77b4;\" x=\"154.569488\" xlink:href=\"#m94c99245b5\" y=\"68.354248\"/>\n     <use style=\"fill:#1f77b4;stroke:#1f77b4;\" x=\"120.619157\" xlink:href=\"#m94c99245b5\" y=\"32.637668\"/>\n     <use style=\"fill:#1f77b4;stroke:#1f77b4;\" x=\"82.659553\" xlink:href=\"#m94c99245b5\" y=\"46.459359\"/>\n     <use style=\"fill:#1f77b4;stroke:#1f77b4;\" x=\"93.499533\" xlink:href=\"#m94c99245b5\" y=\"49.187913\"/>\n     <use style=\"fill:#1f77b4;stroke:#1f77b4;\" x=\"178.56589\" xlink:href=\"#m94c99245b5\" y=\"105.580579\"/>\n     <use style=\"fill:#1f77b4;stroke:#1f77b4;\" x=\"82.645066\" xlink:href=\"#m94c99245b5\" y=\"44.315947\"/>\n     <use style=\"fill:#1f77b4;stroke:#1f77b4;\" x=\"152.386518\" xlink:href=\"#m94c99245b5\" y=\"79.188248\"/>\n     <use style=\"fill:#1f77b4;stroke:#1f77b4;\" x=\"128.85444\" xlink:href=\"#m94c99245b5\" y=\"68.936437\"/>\n     <use style=\"fill:#1f77b4;stroke:#1f77b4;\" x=\"105.841558\" xlink:href=\"#m94c99245b5\" y=\"54.264376\"/>\n     <use style=\"fill:#1f77b4;stroke:#1f77b4;\" x=\"120.863595\" xlink:href=\"#m94c99245b5\" y=\"79.476272\"/>\n     <use style=\"fill:#1f77b4;stroke:#1f77b4;\" x=\"196.885233\" xlink:href=\"#m94c99245b5\" y=\"117.12189\"/>\n     <use style=\"fill:#1f77b4;stroke:#1f77b4;\" x=\"148.877372\" xlink:href=\"#m94c99245b5\" y=\"77.289821\"/>\n     <use style=\"fill:#1f77b4;stroke:#1f77b4;\" x=\"108.017721\" xlink:href=\"#m94c99245b5\" y=\"60.283612\"/>\n     <use style=\"fill:#1f77b4;stroke:#1f77b4;\" x=\"83.81222\" xlink:href=\"#m94c99245b5\" y=\"43.01633\"/>\n     <use style=\"fill:#1f77b4;stroke:#1f77b4;\" x=\"92.87161\" xlink:href=\"#m94c99245b5\" y=\"58.875985\"/>\n     <use style=\"fill:#1f77b4;stroke:#1f77b4;\" x=\"135.902324\" xlink:href=\"#m94c99245b5\" y=\"74.354014\"/>\n     <use style=\"fill:#1f77b4;stroke:#1f77b4;\" x=\"87.424733\" xlink:href=\"#m94c99245b5\" y=\"33.527765\"/>\n     <use style=\"fill:#1f77b4;stroke:#1f77b4;\" x=\"143.343724\" xlink:href=\"#m94c99245b5\" y=\"88.204362\"/>\n     <use style=\"fill:#1f77b4;stroke:#1f77b4;\" x=\"74.672118\" xlink:href=\"#m94c99245b5\" y=\"50.17596\"/>\n     <use style=\"fill:#1f77b4;stroke:#1f77b4;\" x=\"81.793765\" xlink:href=\"#m94c99245b5\" y=\"32.121118\"/>\n     <use style=\"fill:#1f77b4;stroke:#1f77b4;\" x=\"117.657632\" xlink:href=\"#m94c99245b5\" y=\"56.644807\"/>\n     <use style=\"fill:#1f77b4;stroke:#1f77b4;\" x=\"113.504859\" xlink:href=\"#m94c99245b5\" y=\"53.298328\"/>\n     <use style=\"fill:#1f77b4;stroke:#1f77b4;\" x=\"148.63704\" xlink:href=\"#m94c99245b5\" y=\"85.510003\"/>\n     <use style=\"fill:#1f77b4;stroke:#1f77b4;\" x=\"166.057854\" xlink:href=\"#m94c99245b5\" y=\"84.792661\"/>\n     <use style=\"fill:#1f77b4;stroke:#1f77b4;\" x=\"147.996426\" xlink:href=\"#m94c99245b5\" y=\"69.413348\"/>\n     <use style=\"fill:#1f77b4;stroke:#1f77b4;\" x=\"150.362068\" xlink:href=\"#m94c99245b5\" y=\"95.127249\"/>\n     <use style=\"fill:#1f77b4;stroke:#1f77b4;\" x=\"136.175778\" xlink:href=\"#m94c99245b5\" y=\"71.119744\"/>\n     <use style=\"fill:#1f77b4;stroke:#1f77b4;\" x=\"112.819929\" xlink:href=\"#m94c99245b5\" y=\"60.412232\"/>\n     <use style=\"fill:#1f77b4;stroke:#1f77b4;\" x=\"132.748343\" xlink:href=\"#m94c99245b5\" y=\"70.323863\"/>\n     <use style=\"fill:#1f77b4;stroke:#1f77b4;\" x=\"119.767256\" xlink:href=\"#m94c99245b5\" y=\"60.126429\"/>\n     <use style=\"fill:#1f77b4;stroke:#1f77b4;\" x=\"157.173311\" xlink:href=\"#m94c99245b5\" y=\"73.540982\"/>\n     <use style=\"fill:#1f77b4;stroke:#1f77b4;\" x=\"111.126305\" xlink:href=\"#m94c99245b5\" y=\"56.698112\"/>\n     <use style=\"fill:#1f77b4;stroke:#1f77b4;\" x=\"107.585414\" xlink:href=\"#m94c99245b5\" y=\"42.064363\"/>\n     <use style=\"fill:#1f77b4;stroke:#1f77b4;\" x=\"136.699247\" xlink:href=\"#m94c99245b5\" y=\"66.851384\"/>\n     <use style=\"fill:#1f77b4;stroke:#1f77b4;\" x=\"175.470286\" xlink:href=\"#m94c99245b5\" y=\"111.752945\"/>\n     <use style=\"fill:#1f77b4;stroke:#1f77b4;\" x=\"117.19617\" xlink:href=\"#m94c99245b5\" y=\"56.251399\"/>\n     <use style=\"fill:#1f77b4;stroke:#1f77b4;\" x=\"83.570926\" xlink:href=\"#m94c99245b5\" y=\"27.683096\"/>\n     <use style=\"fill:#1f77b4;stroke:#1f77b4;\" x=\"174.898265\" xlink:href=\"#m94c99245b5\" y=\"110.800448\"/>\n     <use style=\"fill:#1f77b4;stroke:#1f77b4;\" x=\"116.628087\" xlink:href=\"#m94c99245b5\" y=\"57.504872\"/>\n     <use style=\"fill:#1f77b4;stroke:#1f77b4;\" x=\"122.793714\" xlink:href=\"#m94c99245b5\" y=\"72.622077\"/>\n     <use style=\"fill:#1f77b4;stroke:#1f77b4;\" x=\"131.729083\" xlink:href=\"#m94c99245b5\" y=\"73.976353\"/>\n     <use style=\"fill:#1f77b4;stroke:#1f77b4;\" x=\"135.79555\" xlink:href=\"#m94c99245b5\" y=\"69.176909\"/>\n     <use style=\"fill:#1f77b4;stroke:#1f77b4;\" x=\"143.511463\" xlink:href=\"#m94c99245b5\" y=\"83.739982\"/>\n     <use style=\"fill:#1f77b4;stroke:#1f77b4;\" x=\"155.411794\" xlink:href=\"#m94c99245b5\" y=\"80.08475\"/>\n     <use style=\"fill:#1f77b4;stroke:#1f77b4;\" x=\"151.299465\" xlink:href=\"#m94c99245b5\" y=\"87.083357\"/>\n     <use style=\"fill:#1f77b4;stroke:#1f77b4;\" x=\"136.949722\" xlink:href=\"#m94c99245b5\" y=\"79.149963\"/>\n     <use style=\"fill:#1f77b4;stroke:#1f77b4;\" x=\"132.717403\" xlink:href=\"#m94c99245b5\" y=\"60.007195\"/>\n     <use style=\"fill:#1f77b4;stroke:#1f77b4;\" x=\"155.192543\" xlink:href=\"#m94c99245b5\" y=\"72.585661\"/>\n     <use style=\"fill:#1f77b4;stroke:#1f77b4;\" x=\"131.246358\" xlink:href=\"#m94c99245b5\" y=\"67.627032\"/>\n     <use style=\"fill:#1f77b4;stroke:#1f77b4;\" x=\"132.434735\" xlink:href=\"#m94c99245b5\" y=\"75.306571\"/>\n     <use style=\"fill:#1f77b4;stroke:#1f77b4;\" x=\"136.945683\" xlink:href=\"#m94c99245b5\" y=\"65.748491\"/>\n     <use style=\"fill:#1f77b4;stroke:#1f77b4;\" x=\"109.763193\" xlink:href=\"#m94c99245b5\" y=\"59.344218\"/>\n     <use style=\"fill:#1f77b4;stroke:#1f77b4;\" x=\"142.938638\" xlink:href=\"#m94c99245b5\" y=\"77.012746\"/>\n     <use style=\"fill:#1f77b4;stroke:#1f77b4;\" x=\"141.316777\" xlink:href=\"#m94c99245b5\" y=\"68.348646\"/>\n     <use style=\"fill:#1f77b4;stroke:#1f77b4;\" x=\"121.736637\" xlink:href=\"#m94c99245b5\" y=\"59.636829\"/>\n     <use style=\"fill:#1f77b4;stroke:#1f77b4;\" x=\"162.110963\" xlink:href=\"#m94c99245b5\" y=\"91.709884\"/>\n     <use style=\"fill:#1f77b4;stroke:#1f77b4;\" x=\"156.006715\" xlink:href=\"#m94c99245b5\" y=\"78.668998\"/>\n     <use style=\"fill:#1f77b4;stroke:#1f77b4;\" x=\"77.62247\" xlink:href=\"#m94c99245b5\" y=\"32.604892\"/>\n     <use style=\"fill:#1f77b4;stroke:#1f77b4;\" x=\"140.697884\" xlink:href=\"#m94c99245b5\" y=\"71.479187\"/>\n     <use style=\"fill:#1f77b4;stroke:#1f77b4;\" x=\"163.946561\" xlink:href=\"#m94c99245b5\" y=\"88.118499\"/>\n     <use style=\"fill:#1f77b4;stroke:#1f77b4;\" x=\"132.948428\" xlink:href=\"#m94c99245b5\" y=\"74.610075\"/>\n     <use style=\"fill:#1f77b4;stroke:#1f77b4;\" x=\"151.077481\" xlink:href=\"#m94c99245b5\" y=\"58.594073\"/>\n     <use style=\"fill:#1f77b4;stroke:#1f77b4;\" x=\"147.636489\" xlink:href=\"#m94c99245b5\" y=\"88.88716\"/>\n     <use style=\"fill:#1f77b4;stroke:#1f77b4;\" x=\"141.086868\" xlink:href=\"#m94c99245b5\" y=\"77.908544\"/>\n     <use style=\"fill:#1f77b4;stroke:#1f77b4;\" x=\"148.403678\" xlink:href=\"#m94c99245b5\" y=\"86.858939\"/>\n     <use style=\"fill:#1f77b4;stroke:#1f77b4;\" x=\"126.40023\" xlink:href=\"#m94c99245b5\" y=\"62.447833\"/>\n     <use style=\"fill:#1f77b4;stroke:#1f77b4;\" x=\"171.673783\" xlink:href=\"#m94c99245b5\" y=\"87.856855\"/>\n     <use style=\"fill:#1f77b4;stroke:#1f77b4;\" x=\"100.518565\" xlink:href=\"#m94c99245b5\" y=\"65.582371\"/>\n     <use style=\"fill:#1f77b4;stroke:#1f77b4;\" x=\"113.202682\" xlink:href=\"#m94c99245b5\" y=\"66.960196\"/>\n    </g>\n   </g>\n   <g id=\"matplotlib.axis_1\">\n    <g id=\"xtick_1\">\n     <g id=\"line2d_1\">\n      <defs>\n       <path d=\"M 0 0 \nL 0 3.5 \n\" id=\"m6d62124b18\" style=\"stroke:#000000;stroke-width:0.8;\"/>\n      </defs>\n      <g>\n       <use style=\"stroke:#000000;stroke-width:0.8;\" x=\"83.961728\" xlink:href=\"#m6d62124b18\" y=\"143.1\"/>\n      </g>\n     </g>\n     <g id=\"text_1\">\n      <!-- −2 -->\n      <g transform=\"translate(76.590635 157.698438)scale(0.1 -0.1)\">\n       <defs>\n        <path d=\"M 10.59375 35.5 \nL 73.1875 35.5 \nL 73.1875 27.203125 \nL 10.59375 27.203125 \nz\n\" id=\"DejaVuSans-8722\"/>\n        <path d=\"M 19.1875 8.296875 \nL 53.609375 8.296875 \nL 53.609375 0 \nL 7.328125 0 \nL 7.328125 8.296875 \nQ 12.9375 14.109375 22.625 23.890625 \nQ 32.328125 33.6875 34.8125 36.53125 \nQ 39.546875 41.84375 41.421875 45.53125 \nQ 43.3125 49.21875 43.3125 52.78125 \nQ 43.3125 58.59375 39.234375 62.25 \nQ 35.15625 65.921875 28.609375 65.921875 \nQ 23.96875 65.921875 18.8125 64.3125 \nQ 13.671875 62.703125 7.8125 59.421875 \nL 7.8125 69.390625 \nQ 13.765625 71.78125 18.9375 73 \nQ 24.125 74.21875 28.421875 74.21875 \nQ 39.75 74.21875 46.484375 68.546875 \nQ 53.21875 62.890625 53.21875 53.421875 \nQ 53.21875 48.921875 51.53125 44.890625 \nQ 49.859375 40.875 45.40625 35.40625 \nQ 44.1875 33.984375 37.640625 27.21875 \nQ 31.109375 20.453125 19.1875 8.296875 \nz\n\" id=\"DejaVuSans-50\"/>\n       </defs>\n       <use xlink:href=\"#DejaVuSans-8722\"/>\n       <use x=\"83.789062\" xlink:href=\"#DejaVuSans-50\"/>\n      </g>\n     </g>\n    </g>\n    <g id=\"xtick_2\">\n     <g id=\"line2d_2\">\n      <g>\n       <use style=\"stroke:#000000;stroke-width:0.8;\" x=\"137.781844\" xlink:href=\"#m6d62124b18\" y=\"143.1\"/>\n      </g>\n     </g>\n     <g id=\"text_2\">\n      <!-- 0 -->\n      <g transform=\"translate(134.600594 157.698438)scale(0.1 -0.1)\">\n       <defs>\n        <path d=\"M 31.78125 66.40625 \nQ 24.171875 66.40625 20.328125 58.90625 \nQ 16.5 51.421875 16.5 36.375 \nQ 16.5 21.390625 20.328125 13.890625 \nQ 24.171875 6.390625 31.78125 6.390625 \nQ 39.453125 6.390625 43.28125 13.890625 \nQ 47.125 21.390625 47.125 36.375 \nQ 47.125 51.421875 43.28125 58.90625 \nQ 39.453125 66.40625 31.78125 66.40625 \nz\nM 31.78125 74.21875 \nQ 44.046875 74.21875 50.515625 64.515625 \nQ 56.984375 54.828125 56.984375 36.375 \nQ 56.984375 17.96875 50.515625 8.265625 \nQ 44.046875 -1.421875 31.78125 -1.421875 \nQ 19.53125 -1.421875 13.0625 8.265625 \nQ 6.59375 17.96875 6.59375 36.375 \nQ 6.59375 54.828125 13.0625 64.515625 \nQ 19.53125 74.21875 31.78125 74.21875 \nz\n\" id=\"DejaVuSans-48\"/>\n       </defs>\n       <use xlink:href=\"#DejaVuSans-48\"/>\n      </g>\n     </g>\n    </g>\n    <g id=\"xtick_3\">\n     <g id=\"line2d_3\">\n      <g>\n       <use style=\"stroke:#000000;stroke-width:0.8;\" x=\"191.60196\" xlink:href=\"#m6d62124b18\" y=\"143.1\"/>\n      </g>\n     </g>\n     <g id=\"text_3\">\n      <!-- 2 -->\n      <g transform=\"translate(188.42071 157.698438)scale(0.1 -0.1)\">\n       <use xlink:href=\"#DejaVuSans-50\"/>\n      </g>\n     </g>\n    </g>\n   </g>\n   <g id=\"matplotlib.axis_2\">\n    <g id=\"ytick_1\">\n     <g id=\"line2d_4\">\n      <defs>\n       <path d=\"M 0 0 \nL -3.5 0 \n\" id=\"me76ee234b4\" style=\"stroke:#000000;stroke-width:0.8;\"/>\n      </defs>\n      <g>\n       <use style=\"stroke:#000000;stroke-width:0.8;\" x=\"35.304688\" xlink:href=\"#me76ee234b4\" y=\"142.404084\"/>\n      </g>\n     </g>\n     <g id=\"text_4\">\n      <!-- −10 -->\n      <g transform=\"translate(7.2 146.203303)scale(0.1 -0.1)\">\n       <defs>\n        <path d=\"M 12.40625 8.296875 \nL 28.515625 8.296875 \nL 28.515625 63.921875 \nL 10.984375 60.40625 \nL 10.984375 69.390625 \nL 28.421875 72.90625 \nL 38.28125 72.90625 \nL 38.28125 8.296875 \nL 54.390625 8.296875 \nL 54.390625 0 \nL 12.40625 0 \nz\n\" id=\"DejaVuSans-49\"/>\n       </defs>\n       <use xlink:href=\"#DejaVuSans-8722\"/>\n       <use x=\"83.789062\" xlink:href=\"#DejaVuSans-49\"/>\n       <use x=\"147.412109\" xlink:href=\"#DejaVuSans-48\"/>\n      </g>\n     </g>\n    </g>\n    <g id=\"ytick_2\">\n     <g id=\"line2d_5\">\n      <g>\n       <use style=\"stroke:#000000;stroke-width:0.8;\" x=\"35.304688\" xlink:href=\"#me76ee234b4\" y=\"117.650349\"/>\n      </g>\n     </g>\n     <g id=\"text_5\">\n      <!-- −5 -->\n      <g transform=\"translate(13.5625 121.449568)scale(0.1 -0.1)\">\n       <defs>\n        <path d=\"M 10.796875 72.90625 \nL 49.515625 72.90625 \nL 49.515625 64.59375 \nL 19.828125 64.59375 \nL 19.828125 46.734375 \nQ 21.96875 47.46875 24.109375 47.828125 \nQ 26.265625 48.1875 28.421875 48.1875 \nQ 40.625 48.1875 47.75 41.5 \nQ 54.890625 34.8125 54.890625 23.390625 \nQ 54.890625 11.625 47.5625 5.09375 \nQ 40.234375 -1.421875 26.90625 -1.421875 \nQ 22.3125 -1.421875 17.546875 -0.640625 \nQ 12.796875 0.140625 7.71875 1.703125 \nL 7.71875 11.625 \nQ 12.109375 9.234375 16.796875 8.0625 \nQ 21.484375 6.890625 26.703125 6.890625 \nQ 35.15625 6.890625 40.078125 11.328125 \nQ 45.015625 15.765625 45.015625 23.390625 \nQ 45.015625 31 40.078125 35.4375 \nQ 35.15625 39.890625 26.703125 39.890625 \nQ 22.75 39.890625 18.8125 39.015625 \nQ 14.890625 38.140625 10.796875 36.28125 \nz\n\" id=\"DejaVuSans-53\"/>\n       </defs>\n       <use xlink:href=\"#DejaVuSans-8722\"/>\n       <use x=\"83.789062\" xlink:href=\"#DejaVuSans-53\"/>\n      </g>\n     </g>\n    </g>\n    <g id=\"ytick_3\">\n     <g id=\"line2d_6\">\n      <g>\n       <use style=\"stroke:#000000;stroke-width:0.8;\" x=\"35.304688\" xlink:href=\"#me76ee234b4\" y=\"92.896615\"/>\n      </g>\n     </g>\n     <g id=\"text_6\">\n      <!-- 0 -->\n      <g transform=\"translate(21.942187 96.695834)scale(0.1 -0.1)\">\n       <use xlink:href=\"#DejaVuSans-48\"/>\n      </g>\n     </g>\n    </g>\n    <g id=\"ytick_4\">\n     <g id=\"line2d_7\">\n      <g>\n       <use style=\"stroke:#000000;stroke-width:0.8;\" x=\"35.304688\" xlink:href=\"#me76ee234b4\" y=\"68.14288\"/>\n      </g>\n     </g>\n     <g id=\"text_7\">\n      <!-- 5 -->\n      <g transform=\"translate(21.942187 71.942099)scale(0.1 -0.1)\">\n       <use xlink:href=\"#DejaVuSans-53\"/>\n      </g>\n     </g>\n    </g>\n    <g id=\"ytick_5\">\n     <g id=\"line2d_8\">\n      <g>\n       <use style=\"stroke:#000000;stroke-width:0.8;\" x=\"35.304688\" xlink:href=\"#me76ee234b4\" y=\"43.389146\"/>\n      </g>\n     </g>\n     <g id=\"text_8\">\n      <!-- 10 -->\n      <g transform=\"translate(15.579687 47.188364)scale(0.1 -0.1)\">\n       <use xlink:href=\"#DejaVuSans-49\"/>\n       <use x=\"63.623047\" xlink:href=\"#DejaVuSans-48\"/>\n      </g>\n     </g>\n    </g>\n    <g id=\"ytick_6\">\n     <g id=\"line2d_9\">\n      <g>\n       <use style=\"stroke:#000000;stroke-width:0.8;\" x=\"35.304688\" xlink:href=\"#me76ee234b4\" y=\"18.635411\"/>\n      </g>\n     </g>\n     <g id=\"text_9\">\n      <!-- 15 -->\n      <g transform=\"translate(15.579687 22.43463)scale(0.1 -0.1)\">\n       <use xlink:href=\"#DejaVuSans-49\"/>\n       <use x=\"63.623047\" xlink:href=\"#DejaVuSans-53\"/>\n      </g>\n     </g>\n    </g>\n   </g>\n   <g id=\"patch_3\">\n    <path d=\"M 35.304688 143.1 \nL 35.304688 7.2 \n\" style=\"fill:none;stroke:#000000;stroke-linecap:square;stroke-linejoin:miter;stroke-width:0.8;\"/>\n   </g>\n   <g id=\"patch_4\">\n    <path d=\"M 230.604688 143.1 \nL 230.604688 7.2 \n\" style=\"fill:none;stroke:#000000;stroke-linecap:square;stroke-linejoin:miter;stroke-width:0.8;\"/>\n   </g>\n   <g id=\"patch_5\">\n    <path d=\"M 35.304688 143.1 \nL 230.604688 143.1 \n\" style=\"fill:none;stroke:#000000;stroke-linecap:square;stroke-linejoin:miter;stroke-width:0.8;\"/>\n   </g>\n   <g id=\"patch_6\">\n    <path d=\"M 35.304688 7.2 \nL 230.604688 7.2 \n\" style=\"fill:none;stroke:#000000;stroke-linecap:square;stroke-linejoin:miter;stroke-width:0.8;\"/>\n   </g>\n  </g>\n </g>\n <defs>\n  <clipPath id=\"pd07f08f44c\">\n   <rect height=\"135.9\" width=\"195.3\" x=\"35.304688\" y=\"7.2\"/>\n  </clipPath>\n </defs>\n</svg>\n",
      "text/plain": [
       "<Figure size 252x180 with 1 Axes>"
      ]
     },
     "metadata": {
      "needs_background": "light"
     },
     "output_type": "display_data"
    }
   ],
   "source": [
    "def use_svg_displty():\n",
    "    # 用矢量图显示\n",
    "    display.set_matplotlib_formats('svg')\n",
    "\n",
    "def set_figsize(figsize=(3.5,2.5)):\n",
    "    use_svg_displty()\n",
    "    # 设置图的尺寸\n",
    "    plt.rcParams['figure.figsize'] = figsize\n",
    "\n",
    "set_figsize()\n",
    "plt.scatter(features[:,1].numpy(),labels.numpy(),1)\n"
   ]
  },
  {
   "cell_type": "markdown",
   "metadata": {},
   "source": [
    "读取数据"
   ]
  },
  {
   "cell_type": "code",
   "execution_count": 19,
   "metadata": {},
   "outputs": [],
   "source": [
    "def data_iter(batch_size,features,labels):\n",
    "    num_examples = len(features)\n",
    "    indices = list(range(num_examples))\n",
    "    random.shuffle(indices)  #样本的读取顺序是随机的\n",
    "    for i in range(0,num_examples,batch_size):\n",
    "        j = torch.LongTensor(indices[i:min(i + batch_size,num_examples)])\n",
    "        yield features.index_select(0,j),labels.index_select(0,j)"
   ]
  },
  {
   "cell_type": "code",
   "execution_count": 20,
   "metadata": {},
   "outputs": [
    {
     "name": "stdout",
     "output_type": "stream",
     "text": [
      "tensor([[ 0.2452, -0.6472],\n",
      "        [-0.7148,  0.7142],\n",
      "        [ 0.2315, -0.1395],\n",
      "        [ 1.9127,  1.3774],\n",
      "        [-1.2121, -0.3030],\n",
      "        [-0.0111,  0.4736],\n",
      "        [ 2.2024, -0.7703],\n",
      "        [-0.1329,  0.0502],\n",
      "        [ 1.6609, -0.8204],\n",
      "        [ 0.6825,  0.4923]]) tensor([ 6.9041,  0.3440,  5.1325,  3.3586,  2.7951,  2.5598, 11.2255,  3.7622,\n",
      "        10.3366,  3.8889])\n"
     ]
    }
   ],
   "source": [
    "batch_size = 10\n",
    "\n",
    "for X,y in data_iter(batch_size,features,labels):\n",
    "    print(X,y)\n",
    "    break"
   ]
  },
  {
   "cell_type": "markdown",
   "metadata": {},
   "source": [
    "初始化模型参数"
   ]
  },
  {
   "cell_type": "code",
   "execution_count": 21,
   "metadata": {},
   "outputs": [],
   "source": [
    "w = torch.tensor(np.random.normal(0,0.01,(num_inputs,1)),dtype=torch.float32)\n",
    "b = torch.zeros(1,dtype=torch.float32)"
   ]
  },
  {
   "cell_type": "code",
   "execution_count": 22,
   "metadata": {},
   "outputs": [
    {
     "data": {
      "text/plain": [
       "tensor([0.], requires_grad=True)"
      ]
     },
     "execution_count": 22,
     "metadata": {},
     "output_type": "execute_result"
    }
   ],
   "source": [
    "w.requires_grad_(requires_grad=True)\n",
    "b.requires_grad_(requires_grad=True)"
   ]
  },
  {
   "cell_type": "markdown",
   "metadata": {},
   "source": [
    "定义模型"
   ]
  },
  {
   "cell_type": "code",
   "execution_count": 23,
   "metadata": {},
   "outputs": [],
   "source": [
    "def linreg(X,w,b):\n",
    "    return torch.mm(X,w) + b"
   ]
  },
  {
   "cell_type": "markdown",
   "metadata": {},
   "source": [
    "定义损失函数"
   ]
  },
  {
   "cell_type": "code",
   "execution_count": 24,
   "metadata": {},
   "outputs": [],
   "source": [
    "def squared_loss(y_hat,y):\n",
    "    #这里返回的是向量，另外，pytorch里的MSELoss没有除以2\n",
    "    return (y_hat - y.view(y_hat.size())) ** 2 / 2"
   ]
  },
  {
   "cell_type": "markdown",
   "metadata": {},
   "source": [
    "定义优化算法"
   ]
  },
  {
   "cell_type": "code",
   "execution_count": 25,
   "metadata": {},
   "outputs": [],
   "source": [
    "def sgd(params,lr,batch_size):\n",
    "    for param in params:\n",
    "        param.data -= lr * param.grad /batch_size # 这里更改param时用的param.data"
   ]
  },
  {
   "cell_type": "markdown",
   "metadata": {},
   "source": [
    "训练模型"
   ]
  },
  {
   "cell_type": "code",
   "execution_count": 27,
   "metadata": {},
   "outputs": [
    {
     "name": "stdout",
     "output_type": "stream",
     "text": [
      "epoch 1,loss 0.039651\n",
      "epoch 2,loss 0.000139\n",
      "epoch 3,loss 0.000050\n"
     ]
    }
   ],
   "source": [
    "lr = 0.03\n",
    "num_epochs = 3\n",
    "net = linreg  # 函数指针\n",
    "loss = squared_loss # 函数指针\n",
    "\n",
    "for epoch in range(num_epochs):\n",
    "    for X,y in data_iter(batch_size,features,labels):\n",
    "        l = loss(net(X,w,b),y).sum()\n",
    "        l.backward() # 小批量的损失对模型参数求梯度\n",
    "        sgd([w,b],lr,batch_size)\n",
    "\n",
    "        w.grad.data.zero_()\n",
    "        b.grad.data.zero_()\n",
    "    \n",
    "    train_l = loss(net(features,w,b),labels)\n",
    "    print(\"epoch %d,loss %f\"% (epoch + 1,train_l.mean().item()))\n",
    "\n"
   ]
  },
  {
   "cell_type": "code",
   "execution_count": 28,
   "metadata": {},
   "outputs": [
    {
     "name": "stdout",
     "output_type": "stream",
     "text": [
      "[2, -3.4] \n",
      " tensor([[ 1.9998],\n",
      "        [-3.3996]], requires_grad=True)\n",
      "4.2 \n",
      " tensor([4.1992], requires_grad=True)\n"
     ]
    }
   ],
   "source": [
    "print(true_w,'\\n',w)\n",
    "print(true_b,'\\n',b)"
   ]
  },
  {
   "cell_type": "markdown",
   "metadata": {},
   "source": [
    "#### 3.3 线性回归简洁实现"
   ]
  },
  {
   "cell_type": "markdown",
   "metadata": {},
   "source": [
    "生成数据集"
   ]
  },
  {
   "cell_type": "code",
   "execution_count": 47,
   "metadata": {},
   "outputs": [],
   "source": [
    "num_inputs = 2\n",
    "num_examples = 1000\n",
    "true_w = [2,-3.4]\n",
    "true_b = 4.2\n",
    "features = torch.tensor(np.random.normal(0,1,(num_examples,num_inputs)),dtype=torch.float)\n",
    "labels = true_w[0] * features[:,0] + true_w[1] * features[:,1] + true_b\n",
    "labels += torch.tensor(np.random.normal(0,0.01,size=labels.size()),dtype=torch.float)"
   ]
  },
  {
   "cell_type": "markdown",
   "metadata": {},
   "source": [
    "读取数据"
   ]
  },
  {
   "cell_type": "code",
   "execution_count": 48,
   "metadata": {},
   "outputs": [],
   "source": [
    "\n",
    "import torch.utils.data as Data\n",
    "\n",
    "batch_size = 10\n",
    "# 将训练数据的特征和标签组合\n",
    "dataset = Data.TensorDataset(features,labels)\n",
    "# 随机读取小批量\n",
    "data_iter = Data.DataLoader(dataset,batch_size,shuffle=True)"
   ]
  },
  {
   "cell_type": "code",
   "execution_count": 49,
   "metadata": {},
   "outputs": [
    {
     "name": "stdout",
     "output_type": "stream",
     "text": [
      "tensor([[-0.1036, -0.1943],\n",
      "        [ 0.4149,  0.4722],\n",
      "        [ 1.0552,  2.2486],\n",
      "        [ 0.4291,  0.4056],\n",
      "        [-0.3473, -0.4569],\n",
      "        [-0.6925, -0.7922],\n",
      "        [ 1.4294, -0.2466],\n",
      "        [-1.1928, -0.1574],\n",
      "        [-2.1017,  0.4596],\n",
      "        [ 0.1161,  1.9290]]) tensor([ 4.6554,  3.4330, -1.3409,  3.6883,  5.0452,  5.5135,  7.9116,  2.3453,\n",
      "        -1.5807, -2.1066])\n"
     ]
    }
   ],
   "source": [
    "for X,y in data_iter:\n",
    "    print(X,y)\n",
    "    break"
   ]
  },
  {
   "cell_type": "markdown",
   "metadata": {},
   "source": [
    "定义模型"
   ]
  },
  {
   "cell_type": "code",
   "execution_count": 50,
   "metadata": {},
   "outputs": [
    {
     "name": "stdout",
     "output_type": "stream",
     "text": [
      "LinearNet(\n",
      "  (linear): Linear(in_features=2, out_features=1, bias=True)\n",
      ")\n"
     ]
    }
   ],
   "source": [
    "from torch import nn\n",
    "class LinearNet(nn.Module):\n",
    "    def __init__(self,n_feature) -> None:\n",
    "        super(LinearNet,self).__init__()\n",
    "        self.linear = nn.Linear(n_feature,1)\n",
    "    \n",
    "    # forward定义前向传播\n",
    "    def forward(self,x):\n",
    "        y = self.linear(x)\n",
    "        return y\n",
    "\n",
    "net = LinearNet(num_inputs)\n",
    "print(net)"
   ]
  },
  {
   "cell_type": "code",
   "execution_count": 53,
   "metadata": {},
   "outputs": [],
   "source": [
    "net = nn.Sequential(\n",
    "    nn.Linear(num_inputs,1)\n",
    "    # 此处还可以传入其他层\n",
    ")\n",
    "\n",
    "# net = nn.Sequential()\n",
    "# net.add_module('linear',nn.Linear(num_inputs,1))\n",
    "\n",
    "# from collections import OrderedDict\n",
    "# net = nn.Sequential(OrderedDict([\n",
    "#     ('linear',nn.Linear(num_inputs,1))\n",
    "# ]))\n",
    "\n",
    "# print(net)\n",
    "# print(net[0])"
   ]
  },
  {
   "cell_type": "code",
   "execution_count": 54,
   "metadata": {},
   "outputs": [
    {
     "name": "stdout",
     "output_type": "stream",
     "text": [
      "Parameter containing:\n",
      "tensor([[ 0.3834, -0.6188]], requires_grad=True)\n",
      "Parameter containing:\n",
      "tensor([-0.2888], requires_grad=True)\n"
     ]
    }
   ],
   "source": [
    "for param in net.parameters():\n",
    "    print(param)"
   ]
  },
  {
   "cell_type": "markdown",
   "metadata": {},
   "source": [
    "初始化模型参数"
   ]
  },
  {
   "cell_type": "code",
   "execution_count": 55,
   "metadata": {},
   "outputs": [
    {
     "data": {
      "text/plain": [
       "Parameter containing:\n",
       "tensor([0.], requires_grad=True)"
      ]
     },
     "execution_count": 55,
     "metadata": {},
     "output_type": "execute_result"
    }
   ],
   "source": [
    "from torch.nn import init\n",
    "\n",
    "init.normal_(net[0].weight,mean=0,std=0.01)\n",
    "init.constant_(net[0].bias,val=0)"
   ]
  },
  {
   "cell_type": "markdown",
   "metadata": {},
   "source": [
    "定义损失函数"
   ]
  },
  {
   "cell_type": "markdown",
   "metadata": {},
   "source": [
    "loss = nn.MSELoss()"
   ]
  },
  {
   "cell_type": "markdown",
   "metadata": {},
   "source": [
    "定义优化算法"
   ]
  },
  {
   "cell_type": "code",
   "execution_count": 40,
   "metadata": {},
   "outputs": [
    {
     "name": "stdout",
     "output_type": "stream",
     "text": [
      "SGD (\n",
      "Parameter Group 0\n",
      "    dampening: 0\n",
      "    lr: 0.03\n",
      "    momentum: 0\n",
      "    nesterov: False\n",
      "    weight_decay: 0\n",
      ")\n"
     ]
    }
   ],
   "source": [
    "import torch.optim as optim\n",
    "\n",
    "optimizer = optim.SGD(net.parameters(),lr=0.03)\n",
    "print(optimizer)"
   ]
  },
  {
   "cell_type": "code",
   "execution_count": 43,
   "metadata": {},
   "outputs": [],
   "source": [
    "#optimizer = optim.SGD([\n",
    "#    {'param':net.subnet1.parameters()},\n",
    "#    {'params':net.subnet2.parameters(),'lr':0.01}\n",
    "#])"
   ]
  },
  {
   "cell_type": "code",
   "execution_count": 44,
   "metadata": {},
   "outputs": [],
   "source": [
    "for param_group in optimizer.param_groups:\n",
    "    param_group['lr'] *= .1"
   ]
  },
  {
   "cell_type": "markdown",
   "metadata": {},
   "source": [
    "训练模型"
   ]
  },
  {
   "cell_type": "code",
   "execution_count": 57,
   "metadata": {},
   "outputs": [
    {
     "ename": "RuntimeError",
     "evalue": "grad can be implicitly created only for scalar outputs",
     "output_type": "error",
     "traceback": [
      "\u001b[0;31m---------------------------------------------------------------------------\u001b[0m",
      "\u001b[0;31mRuntimeError\u001b[0m                              Traceback (most recent call last)",
      "\u001b[0;32m<ipython-input-57-2c39a56aa559>\u001b[0m in \u001b[0;36m<module>\u001b[0;34m\u001b[0m\n\u001b[1;32m      5\u001b[0m         \u001b[0ml\u001b[0m \u001b[0;34m=\u001b[0m \u001b[0mloss\u001b[0m\u001b[0;34m(\u001b[0m\u001b[0moutput\u001b[0m\u001b[0;34m,\u001b[0m\u001b[0my\u001b[0m\u001b[0;34m.\u001b[0m\u001b[0mview\u001b[0m\u001b[0;34m(\u001b[0m\u001b[0;34m-\u001b[0m\u001b[0;36m1\u001b[0m\u001b[0;34m,\u001b[0m\u001b[0;36m1\u001b[0m\u001b[0;34m)\u001b[0m\u001b[0;34m)\u001b[0m\u001b[0;34m\u001b[0m\u001b[0;34m\u001b[0m\u001b[0m\n\u001b[1;32m      6\u001b[0m         \u001b[0moptimizer\u001b[0m\u001b[0;34m.\u001b[0m\u001b[0mzero_grad\u001b[0m\u001b[0;34m(\u001b[0m\u001b[0;34m)\u001b[0m\u001b[0;34m\u001b[0m\u001b[0;34m\u001b[0m\u001b[0m\n\u001b[0;32m----> 7\u001b[0;31m         \u001b[0ml\u001b[0m\u001b[0;34m.\u001b[0m\u001b[0mbackward\u001b[0m\u001b[0;34m(\u001b[0m\u001b[0;34m)\u001b[0m\u001b[0;34m\u001b[0m\u001b[0;34m\u001b[0m\u001b[0m\n\u001b[0m\u001b[1;32m      8\u001b[0m         \u001b[0moptimizer\u001b[0m\u001b[0;34m.\u001b[0m\u001b[0mstep\u001b[0m\u001b[0;34m(\u001b[0m\u001b[0;34m)\u001b[0m\u001b[0;34m\u001b[0m\u001b[0;34m\u001b[0m\u001b[0m\n\u001b[1;32m      9\u001b[0m     \u001b[0mprint\u001b[0m\u001b[0;34m(\u001b[0m\u001b[0;34m\"epoch %d,loss: %f\"\u001b[0m\u001b[0;34m%\u001b[0m\u001b[0;34m(\u001b[0m\u001b[0mepoch\u001b[0m\u001b[0;34m,\u001b[0m\u001b[0ml\u001b[0m\u001b[0;34m.\u001b[0m\u001b[0mitem\u001b[0m\u001b[0;34m(\u001b[0m\u001b[0;34m)\u001b[0m\u001b[0;34m)\u001b[0m\u001b[0;34m)\u001b[0m\u001b[0;34m\u001b[0m\u001b[0;34m\u001b[0m\u001b[0m\n",
      "\u001b[0;32m~/wfsoftware/anaconda3/envs/pytorch-gpu/lib/python3.8/site-packages/torch/tensor.py\u001b[0m in \u001b[0;36mbackward\u001b[0;34m(self, gradient, retain_graph, create_graph)\u001b[0m\n\u001b[1;32m    219\u001b[0m                 \u001b[0mretain_graph\u001b[0m\u001b[0;34m=\u001b[0m\u001b[0mretain_graph\u001b[0m\u001b[0;34m,\u001b[0m\u001b[0;34m\u001b[0m\u001b[0;34m\u001b[0m\u001b[0m\n\u001b[1;32m    220\u001b[0m                 create_graph=create_graph)\n\u001b[0;32m--> 221\u001b[0;31m         \u001b[0mtorch\u001b[0m\u001b[0;34m.\u001b[0m\u001b[0mautograd\u001b[0m\u001b[0;34m.\u001b[0m\u001b[0mbackward\u001b[0m\u001b[0;34m(\u001b[0m\u001b[0mself\u001b[0m\u001b[0;34m,\u001b[0m \u001b[0mgradient\u001b[0m\u001b[0;34m,\u001b[0m \u001b[0mretain_graph\u001b[0m\u001b[0;34m,\u001b[0m \u001b[0mcreate_graph\u001b[0m\u001b[0;34m)\u001b[0m\u001b[0;34m\u001b[0m\u001b[0;34m\u001b[0m\u001b[0m\n\u001b[0m\u001b[1;32m    222\u001b[0m \u001b[0;34m\u001b[0m\u001b[0m\n\u001b[1;32m    223\u001b[0m     \u001b[0;32mdef\u001b[0m \u001b[0mregister_hook\u001b[0m\u001b[0;34m(\u001b[0m\u001b[0mself\u001b[0m\u001b[0;34m,\u001b[0m \u001b[0mhook\u001b[0m\u001b[0;34m)\u001b[0m\u001b[0;34m:\u001b[0m\u001b[0;34m\u001b[0m\u001b[0;34m\u001b[0m\u001b[0m\n",
      "\u001b[0;32m~/wfsoftware/anaconda3/envs/pytorch-gpu/lib/python3.8/site-packages/torch/autograd/__init__.py\u001b[0m in \u001b[0;36mbackward\u001b[0;34m(tensors, grad_tensors, retain_graph, create_graph, grad_variables)\u001b[0m\n\u001b[1;32m    124\u001b[0m \u001b[0;34m\u001b[0m\u001b[0m\n\u001b[1;32m    125\u001b[0m     \u001b[0mgrad_tensors_\u001b[0m \u001b[0;34m=\u001b[0m \u001b[0m_tensor_or_tensors_to_tuple\u001b[0m\u001b[0;34m(\u001b[0m\u001b[0mgrad_tensors\u001b[0m\u001b[0;34m,\u001b[0m \u001b[0mlen\u001b[0m\u001b[0;34m(\u001b[0m\u001b[0mtensors\u001b[0m\u001b[0;34m)\u001b[0m\u001b[0;34m)\u001b[0m\u001b[0;34m\u001b[0m\u001b[0;34m\u001b[0m\u001b[0m\n\u001b[0;32m--> 126\u001b[0;31m     \u001b[0mgrad_tensors_\u001b[0m \u001b[0;34m=\u001b[0m \u001b[0m_make_grads\u001b[0m\u001b[0;34m(\u001b[0m\u001b[0mtensors\u001b[0m\u001b[0;34m,\u001b[0m \u001b[0mgrad_tensors_\u001b[0m\u001b[0;34m)\u001b[0m\u001b[0;34m\u001b[0m\u001b[0;34m\u001b[0m\u001b[0m\n\u001b[0m\u001b[1;32m    127\u001b[0m     \u001b[0;32mif\u001b[0m \u001b[0mretain_graph\u001b[0m \u001b[0;32mis\u001b[0m \u001b[0;32mNone\u001b[0m\u001b[0;34m:\u001b[0m\u001b[0;34m\u001b[0m\u001b[0;34m\u001b[0m\u001b[0m\n\u001b[1;32m    128\u001b[0m         \u001b[0mretain_graph\u001b[0m \u001b[0;34m=\u001b[0m \u001b[0mcreate_graph\u001b[0m\u001b[0;34m\u001b[0m\u001b[0;34m\u001b[0m\u001b[0m\n",
      "\u001b[0;32m~/wfsoftware/anaconda3/envs/pytorch-gpu/lib/python3.8/site-packages/torch/autograd/__init__.py\u001b[0m in \u001b[0;36m_make_grads\u001b[0;34m(outputs, grads)\u001b[0m\n\u001b[1;32m     48\u001b[0m             \u001b[0;32mif\u001b[0m \u001b[0mout\u001b[0m\u001b[0;34m.\u001b[0m\u001b[0mrequires_grad\u001b[0m\u001b[0;34m:\u001b[0m\u001b[0;34m\u001b[0m\u001b[0;34m\u001b[0m\u001b[0m\n\u001b[1;32m     49\u001b[0m                 \u001b[0;32mif\u001b[0m \u001b[0mout\u001b[0m\u001b[0;34m.\u001b[0m\u001b[0mnumel\u001b[0m\u001b[0;34m(\u001b[0m\u001b[0;34m)\u001b[0m \u001b[0;34m!=\u001b[0m \u001b[0;36m1\u001b[0m\u001b[0;34m:\u001b[0m\u001b[0;34m\u001b[0m\u001b[0;34m\u001b[0m\u001b[0m\n\u001b[0;32m---> 50\u001b[0;31m                     \u001b[0;32mraise\u001b[0m \u001b[0mRuntimeError\u001b[0m\u001b[0;34m(\u001b[0m\u001b[0;34m\"grad can be implicitly created only for scalar outputs\"\u001b[0m\u001b[0;34m)\u001b[0m\u001b[0;34m\u001b[0m\u001b[0;34m\u001b[0m\u001b[0m\n\u001b[0m\u001b[1;32m     51\u001b[0m                 \u001b[0mnew_grads\u001b[0m\u001b[0;34m.\u001b[0m\u001b[0mappend\u001b[0m\u001b[0;34m(\u001b[0m\u001b[0mtorch\u001b[0m\u001b[0;34m.\u001b[0m\u001b[0mones_like\u001b[0m\u001b[0;34m(\u001b[0m\u001b[0mout\u001b[0m\u001b[0;34m,\u001b[0m \u001b[0mmemory_format\u001b[0m\u001b[0;34m=\u001b[0m\u001b[0mtorch\u001b[0m\u001b[0;34m.\u001b[0m\u001b[0mpreserve_format\u001b[0m\u001b[0;34m)\u001b[0m\u001b[0;34m)\u001b[0m\u001b[0;34m\u001b[0m\u001b[0;34m\u001b[0m\u001b[0m\n\u001b[1;32m     52\u001b[0m             \u001b[0;32melse\u001b[0m\u001b[0;34m:\u001b[0m\u001b[0;34m\u001b[0m\u001b[0;34m\u001b[0m\u001b[0m\n",
      "\u001b[0;31mRuntimeError\u001b[0m: grad can be implicitly created only for scalar outputs"
     ]
    }
   ],
   "source": [
    "num_epochs = 3\n",
    "for epoch in range(1,num_epochs + 1):\n",
    "    for X,y in data_iter:\n",
    "        output = net(X)\n",
    "        l = loss(output,y.view(-1,1))\n",
    "        optimizer.zero_grad()\n",
    "        l.backward()\n",
    "        optimizer.step()\n",
    "    print(\"epoch %d,loss: %f\"%(epoch,l.item()))"
   ]
  },
  {
   "cell_type": "code",
   "execution_count": null,
   "metadata": {},
   "outputs": [],
   "source": []
  }
 ],
 "metadata": {
  "kernelspec": {
   "display_name": "Python 3.8.5 ('pytorch-gpu')",
   "language": "python",
   "name": "python3"
  },
  "language_info": {
   "codemirror_mode": {
    "name": "ipython",
    "version": 3
   },
   "file_extension": ".py",
   "mimetype": "text/x-python",
   "name": "python",
   "nbconvert_exporter": "python",
   "pygments_lexer": "ipython3",
   "version": "3.8.5"
  },
  "orig_nbformat": 4,
  "vscode": {
   "interpreter": {
    "hash": "7d78f093ae3097d2c206eeb87bf8bff57f7bc07dc4f4326bfc661f6bb55e15a7"
   }
  }
 },
 "nbformat": 4,
 "nbformat_minor": 2
}
