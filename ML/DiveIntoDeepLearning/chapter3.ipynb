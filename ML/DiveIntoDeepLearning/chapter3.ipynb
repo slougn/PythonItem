{
 "cells": [
  {
   "cell_type": "markdown",
   "metadata": {},
   "source": [
    "## 深度学习基础"
   ]
  },
  {
   "cell_type": "markdown",
   "metadata": {},
   "source": [
    "矢量计算表达式"
   ]
  },
  {
   "cell_type": "code",
   "execution_count": 1,
   "metadata": {},
   "outputs": [],
   "source": [
    "import torch\n",
    "from time import  time\n",
    "\n",
    "a = torch.ones(1000)\n",
    "b = torch.ones(1000)"
   ]
  },
  {
   "cell_type": "code",
   "execution_count": 2,
   "metadata": {},
   "outputs": [
    {
     "name": "stdout",
     "output_type": "stream",
     "text": [
      "0.1444871425628662\n"
     ]
    }
   ],
   "source": [
    "start = time()\n",
    "c = torch.zeros(1000)\n",
    "for i in range(1000):\n",
    "    c[i] = a[i] + b[i]\n",
    "print(time() - start)"
   ]
  },
  {
   "cell_type": "code",
   "execution_count": 3,
   "metadata": {},
   "outputs": [
    {
     "name": "stdout",
     "output_type": "stream",
     "text": [
      "0.0005674362182617188\n"
     ]
    }
   ],
   "source": [
    "start = time()\n",
    "d = a + b\n",
    "print(time() - start)"
   ]
  },
  {
   "cell_type": "code",
   "execution_count": 4,
   "metadata": {},
   "outputs": [
    {
     "name": "stdout",
     "output_type": "stream",
     "text": [
      "tensor([11., 11., 11.])\n"
     ]
    }
   ],
   "source": [
    "a = torch.ones(3)\n",
    "b = 10\n",
    "print(a + b)"
   ]
  },
  {
   "cell_type": "markdown",
   "metadata": {},
   "source": [
    "#### 3.2 线性回归的从零开始实现"
   ]
  },
  {
   "cell_type": "code",
   "execution_count": 5,
   "metadata": {},
   "outputs": [],
   "source": [
    "%matplotlib inline\n",
    "import torch\n",
    "from IPython import display\n",
    "from matplotlib import pyplot as plt\n",
    "import numpy as np\n",
    "import random"
   ]
  },
  {
   "cell_type": "code",
   "execution_count": 6,
   "metadata": {},
   "outputs": [],
   "source": [
    "num_inputs = 2\n",
    "num_examples = 1000\n",
    "true_w = [2,-3.4]\n",
    "true_b = 4.2\n",
    "features = torch.randn(num_examples,num_inputs,dtype=torch.float32)\n",
    "labels = true_w[0] * features[:,0] + true_w[1] * features[:,1] + true_b\n",
    "labels += torch.tensor(np.random.normal(0,0.01,size=labels.size()),dtype=torch.float32)"
   ]
  },
  {
   "cell_type": "code",
   "execution_count": 7,
   "metadata": {},
   "outputs": [
    {
     "name": "stdout",
     "output_type": "stream",
     "text": [
      "tensor([ 0.5901, -1.1143]) tensor(9.1660)\n"
     ]
    }
   ],
   "source": [
    "print(features[0],labels[0])"
   ]
  },
  {
   "cell_type": "code",
   "execution_count": 8,
   "metadata": {},
   "outputs": [
    {
     "data": {
      "text/plain": [
       "<matplotlib.collections.PathCollection at 0x7f6208fb4a00>"
      ]
     },
     "execution_count": 8,
     "metadata": {},
     "output_type": "execute_result"
    },
    {
     "data": {
      "image/svg+xml": "<?xml version=\"1.0\" encoding=\"utf-8\" standalone=\"no\"?>\n<!DOCTYPE svg PUBLIC \"-//W3C//DTD SVG 1.1//EN\"\n  \"http://www.w3.org/Graphics/SVG/1.1/DTD/svg11.dtd\">\n<!-- Created with matplotlib (https://matplotlib.org/) -->\n<svg height=\"166.978125pt\" version=\"1.1\" viewBox=\"0 0 237.804688 166.978125\" width=\"237.804688pt\" xmlns=\"http://www.w3.org/2000/svg\" xmlns:xlink=\"http://www.w3.org/1999/xlink\">\n <metadata>\n  <rdf:RDF xmlns:cc=\"http://creativecommons.org/ns#\" xmlns:dc=\"http://purl.org/dc/elements/1.1/\" xmlns:rdf=\"http://www.w3.org/1999/02/22-rdf-syntax-ns#\">\n   <cc:Work>\n    <dc:type rdf:resource=\"http://purl.org/dc/dcmitype/StillImage\"/>\n    <dc:date>2022-10-19T17:54:15.327196</dc:date>\n    <dc:format>image/svg+xml</dc:format>\n    <dc:creator>\n     <cc:Agent>\n      <dc:title>Matplotlib v3.3.2, https://matplotlib.org/</dc:title>\n     </cc:Agent>\n    </dc:creator>\n   </cc:Work>\n  </rdf:RDF>\n </metadata>\n <defs>\n  <style type=\"text/css\">*{stroke-linecap:butt;stroke-linejoin:round;}</style>\n </defs>\n <g id=\"figure_1\">\n  <g id=\"patch_1\">\n   <path d=\"M 0 166.978125 \nL 237.804688 166.978125 \nL 237.804688 0 \nL 0 0 \nz\n\" style=\"fill:none;\"/>\n  </g>\n  <g id=\"axes_1\">\n   <g id=\"patch_2\">\n    <path d=\"M 35.304688 143.1 \nL 230.604688 143.1 \nL 230.604688 7.2 \nL 35.304688 7.2 \nz\n\" style=\"fill:#ffffff;\"/>\n   </g>\n   <g id=\"PathCollection_1\">\n    <defs>\n     <path d=\"M 0 0.5 \nC 0.132602 0.5 0.25979 0.447317 0.353553 0.353553 \nC 0.447317 0.25979 0.5 0.132602 0.5 0 \nC 0.5 -0.132602 0.447317 -0.25979 0.353553 -0.353553 \nC 0.25979 -0.447317 0.132602 -0.5 0 -0.5 \nC -0.132602 -0.5 -0.25979 -0.447317 -0.353553 -0.353553 \nC -0.447317 -0.25979 -0.5 -0.132602 -0.5 0 \nC -0.5 0.132602 -0.447317 0.25979 -0.353553 0.353553 \nC -0.25979 0.447317 -0.132602 0.5 0 0.5 \nz\n\" id=\"m157d22b7af\" style=\"stroke:#1f77b4;\"/>\n    </defs>\n    <g clip-path=\"url(#p0822743fdd)\">\n     <use style=\"fill:#1f77b4;stroke:#1f77b4;\" x=\"97.227571\" xlink:href=\"#m157d22b7af\" y=\"48.217994\"/>\n     <use style=\"fill:#1f77b4;stroke:#1f77b4;\" x=\"129.73747\" xlink:href=\"#m157d22b7af\" y=\"67.785178\"/>\n     <use style=\"fill:#1f77b4;stroke:#1f77b4;\" x=\"115.620253\" xlink:href=\"#m157d22b7af\" y=\"52.180739\"/>\n     <use style=\"fill:#1f77b4;stroke:#1f77b4;\" x=\"162.381728\" xlink:href=\"#m157d22b7af\" y=\"80.321604\"/>\n     <use style=\"fill:#1f77b4;stroke:#1f77b4;\" x=\"129.162844\" xlink:href=\"#m157d22b7af\" y=\"88.116148\"/>\n     <use style=\"fill:#1f77b4;stroke:#1f77b4;\" x=\"162.900797\" xlink:href=\"#m157d22b7af\" y=\"92.556188\"/>\n     <use style=\"fill:#1f77b4;stroke:#1f77b4;\" x=\"128.617543\" xlink:href=\"#m157d22b7af\" y=\"70.701725\"/>\n     <use style=\"fill:#1f77b4;stroke:#1f77b4;\" x=\"142.448093\" xlink:href=\"#m157d22b7af\" y=\"74.858712\"/>\n     <use style=\"fill:#1f77b4;stroke:#1f77b4;\" x=\"139.181322\" xlink:href=\"#m157d22b7af\" y=\"82.898807\"/>\n     <use style=\"fill:#1f77b4;stroke:#1f77b4;\" x=\"83.449167\" xlink:href=\"#m157d22b7af\" y=\"35.610048\"/>\n     <use style=\"fill:#1f77b4;stroke:#1f77b4;\" x=\"162.909188\" xlink:href=\"#m157d22b7af\" y=\"85.558872\"/>\n     <use style=\"fill:#1f77b4;stroke:#1f77b4;\" x=\"111.969952\" xlink:href=\"#m157d22b7af\" y=\"48.782152\"/>\n     <use style=\"fill:#1f77b4;stroke:#1f77b4;\" x=\"117.745262\" xlink:href=\"#m157d22b7af\" y=\"71.208157\"/>\n     <use style=\"fill:#1f77b4;stroke:#1f77b4;\" x=\"131.010806\" xlink:href=\"#m157d22b7af\" y=\"71.47135\"/>\n     <use style=\"fill:#1f77b4;stroke:#1f77b4;\" x=\"100.772038\" xlink:href=\"#m157d22b7af\" y=\"44.959078\"/>\n     <use style=\"fill:#1f77b4;stroke:#1f77b4;\" x=\"115.33749\" xlink:href=\"#m157d22b7af\" y=\"59.048988\"/>\n     <use style=\"fill:#1f77b4;stroke:#1f77b4;\" x=\"130.75213\" xlink:href=\"#m157d22b7af\" y=\"79.611423\"/>\n     <use style=\"fill:#1f77b4;stroke:#1f77b4;\" x=\"113.416176\" xlink:href=\"#m157d22b7af\" y=\"54.409583\"/>\n     <use style=\"fill:#1f77b4;stroke:#1f77b4;\" x=\"124.632834\" xlink:href=\"#m157d22b7af\" y=\"69.259106\"/>\n     <use style=\"fill:#1f77b4;stroke:#1f77b4;\" x=\"166.667469\" xlink:href=\"#m157d22b7af\" y=\"94.560644\"/>\n     <use style=\"fill:#1f77b4;stroke:#1f77b4;\" x=\"110.177483\" xlink:href=\"#m157d22b7af\" y=\"64.533987\"/>\n     <use style=\"fill:#1f77b4;stroke:#1f77b4;\" x=\"143.124062\" xlink:href=\"#m157d22b7af\" y=\"83.107948\"/>\n     <use style=\"fill:#1f77b4;stroke:#1f77b4;\" x=\"142.176498\" xlink:href=\"#m157d22b7af\" y=\"74.845261\"/>\n     <use style=\"fill:#1f77b4;stroke:#1f77b4;\" x=\"165.865823\" xlink:href=\"#m157d22b7af\" y=\"118.383093\"/>\n     <use style=\"fill:#1f77b4;stroke:#1f77b4;\" x=\"114.524179\" xlink:href=\"#m157d22b7af\" y=\"63.707932\"/>\n     <use style=\"fill:#1f77b4;stroke:#1f77b4;\" x=\"146.812872\" xlink:href=\"#m157d22b7af\" y=\"75.886201\"/>\n     <use style=\"fill:#1f77b4;stroke:#1f77b4;\" x=\"113.347912\" xlink:href=\"#m157d22b7af\" y=\"55.063771\"/>\n     <use style=\"fill:#1f77b4;stroke:#1f77b4;\" x=\"145.174583\" xlink:href=\"#m157d22b7af\" y=\"105.927441\"/>\n     <use style=\"fill:#1f77b4;stroke:#1f77b4;\" x=\"126.656801\" xlink:href=\"#m157d22b7af\" y=\"80.389491\"/>\n     <use style=\"fill:#1f77b4;stroke:#1f77b4;\" x=\"156.504636\" xlink:href=\"#m157d22b7af\" y=\"91.164337\"/>\n     <use style=\"fill:#1f77b4;stroke:#1f77b4;\" x=\"170.848619\" xlink:href=\"#m157d22b7af\" y=\"108.87962\"/>\n     <use style=\"fill:#1f77b4;stroke:#1f77b4;\" x=\"153.188669\" xlink:href=\"#m157d22b7af\" y=\"80.190294\"/>\n     <use style=\"fill:#1f77b4;stroke:#1f77b4;\" x=\"114.793427\" xlink:href=\"#m157d22b7af\" y=\"50.842655\"/>\n     <use style=\"fill:#1f77b4;stroke:#1f77b4;\" x=\"110.03189\" xlink:href=\"#m157d22b7af\" y=\"62.47226\"/>\n     <use style=\"fill:#1f77b4;stroke:#1f77b4;\" x=\"114.878697\" xlink:href=\"#m157d22b7af\" y=\"61.391102\"/>\n     <use style=\"fill:#1f77b4;stroke:#1f77b4;\" x=\"130.01486\" xlink:href=\"#m157d22b7af\" y=\"68.003296\"/>\n     <use style=\"fill:#1f77b4;stroke:#1f77b4;\" x=\"129.89726\" xlink:href=\"#m157d22b7af\" y=\"75.518937\"/>\n     <use style=\"fill:#1f77b4;stroke:#1f77b4;\" x=\"124.192903\" xlink:href=\"#m157d22b7af\" y=\"81.755874\"/>\n     <use style=\"fill:#1f77b4;stroke:#1f77b4;\" x=\"144.435853\" xlink:href=\"#m157d22b7af\" y=\"66.555799\"/>\n     <use style=\"fill:#1f77b4;stroke:#1f77b4;\" x=\"105.592463\" xlink:href=\"#m157d22b7af\" y=\"63.162595\"/>\n     <use style=\"fill:#1f77b4;stroke:#1f77b4;\" x=\"71.983933\" xlink:href=\"#m157d22b7af\" y=\"43.341647\"/>\n     <use style=\"fill:#1f77b4;stroke:#1f77b4;\" x=\"112.821864\" xlink:href=\"#m157d22b7af\" y=\"49.824448\"/>\n     <use style=\"fill:#1f77b4;stroke:#1f77b4;\" x=\"141.38053\" xlink:href=\"#m157d22b7af\" y=\"80.05465\"/>\n     <use style=\"fill:#1f77b4;stroke:#1f77b4;\" x=\"126.986729\" xlink:href=\"#m157d22b7af\" y=\"87.522779\"/>\n     <use style=\"fill:#1f77b4;stroke:#1f77b4;\" x=\"103.833002\" xlink:href=\"#m157d22b7af\" y=\"65.11416\"/>\n     <use style=\"fill:#1f77b4;stroke:#1f77b4;\" x=\"122.572183\" xlink:href=\"#m157d22b7af\" y=\"65.879407\"/>\n     <use style=\"fill:#1f77b4;stroke:#1f77b4;\" x=\"137.959911\" xlink:href=\"#m157d22b7af\" y=\"68.23702\"/>\n     <use style=\"fill:#1f77b4;stroke:#1f77b4;\" x=\"159.542831\" xlink:href=\"#m157d22b7af\" y=\"88.303099\"/>\n     <use style=\"fill:#1f77b4;stroke:#1f77b4;\" x=\"108.841995\" xlink:href=\"#m157d22b7af\" y=\"67.952875\"/>\n     <use style=\"fill:#1f77b4;stroke:#1f77b4;\" x=\"92.315285\" xlink:href=\"#m157d22b7af\" y=\"29.032628\"/>\n     <use style=\"fill:#1f77b4;stroke:#1f77b4;\" x=\"103.013163\" xlink:href=\"#m157d22b7af\" y=\"68.946644\"/>\n     <use style=\"fill:#1f77b4;stroke:#1f77b4;\" x=\"137.905938\" xlink:href=\"#m157d22b7af\" y=\"74.21823\"/>\n     <use style=\"fill:#1f77b4;stroke:#1f77b4;\" x=\"143.798105\" xlink:href=\"#m157d22b7af\" y=\"79.219159\"/>\n     <use style=\"fill:#1f77b4;stroke:#1f77b4;\" x=\"123.274987\" xlink:href=\"#m157d22b7af\" y=\"59.938784\"/>\n     <use style=\"fill:#1f77b4;stroke:#1f77b4;\" x=\"111.095701\" xlink:href=\"#m157d22b7af\" y=\"58.078069\"/>\n     <use style=\"fill:#1f77b4;stroke:#1f77b4;\" x=\"113.023135\" xlink:href=\"#m157d22b7af\" y=\"71.51205\"/>\n     <use style=\"fill:#1f77b4;stroke:#1f77b4;\" x=\"151.817406\" xlink:href=\"#m157d22b7af\" y=\"70.480024\"/>\n     <use style=\"fill:#1f77b4;stroke:#1f77b4;\" x=\"154.973397\" xlink:href=\"#m157d22b7af\" y=\"84.831069\"/>\n     <use style=\"fill:#1f77b4;stroke:#1f77b4;\" x=\"161.997686\" xlink:href=\"#m157d22b7af\" y=\"93.062107\"/>\n     <use style=\"fill:#1f77b4;stroke:#1f77b4;\" x=\"121.250802\" xlink:href=\"#m157d22b7af\" y=\"66.222879\"/>\n     <use style=\"fill:#1f77b4;stroke:#1f77b4;\" x=\"155.94664\" xlink:href=\"#m157d22b7af\" y=\"101.446428\"/>\n     <use style=\"fill:#1f77b4;stroke:#1f77b4;\" x=\"126.689556\" xlink:href=\"#m157d22b7af\" y=\"61.495249\"/>\n     <use style=\"fill:#1f77b4;stroke:#1f77b4;\" x=\"124.701521\" xlink:href=\"#m157d22b7af\" y=\"65.258384\"/>\n     <use style=\"fill:#1f77b4;stroke:#1f77b4;\" x=\"101.237548\" xlink:href=\"#m157d22b7af\" y=\"64.499951\"/>\n     <use style=\"fill:#1f77b4;stroke:#1f77b4;\" x=\"146.197521\" xlink:href=\"#m157d22b7af\" y=\"92.311485\"/>\n     <use style=\"fill:#1f77b4;stroke:#1f77b4;\" x=\"171.237957\" xlink:href=\"#m157d22b7af\" y=\"87.050147\"/>\n     <use style=\"fill:#1f77b4;stroke:#1f77b4;\" x=\"116.34597\" xlink:href=\"#m157d22b7af\" y=\"48.556034\"/>\n     <use style=\"fill:#1f77b4;stroke:#1f77b4;\" x=\"134.106997\" xlink:href=\"#m157d22b7af\" y=\"85.111209\"/>\n     <use style=\"fill:#1f77b4;stroke:#1f77b4;\" x=\"138.794384\" xlink:href=\"#m157d22b7af\" y=\"71.934427\"/>\n     <use style=\"fill:#1f77b4;stroke:#1f77b4;\" x=\"95.826513\" xlink:href=\"#m157d22b7af\" y=\"53.981922\"/>\n     <use style=\"fill:#1f77b4;stroke:#1f77b4;\" x=\"136.746795\" xlink:href=\"#m157d22b7af\" y=\"61.966385\"/>\n     <use style=\"fill:#1f77b4;stroke:#1f77b4;\" x=\"94.538873\" xlink:href=\"#m157d22b7af\" y=\"60.895722\"/>\n     <use style=\"fill:#1f77b4;stroke:#1f77b4;\" x=\"111.799453\" xlink:href=\"#m157d22b7af\" y=\"52.896927\"/>\n     <use style=\"fill:#1f77b4;stroke:#1f77b4;\" x=\"169.765735\" xlink:href=\"#m157d22b7af\" y=\"98.506846\"/>\n     <use style=\"fill:#1f77b4;stroke:#1f77b4;\" x=\"121.982662\" xlink:href=\"#m157d22b7af\" y=\"49.953517\"/>\n     <use style=\"fill:#1f77b4;stroke:#1f77b4;\" x=\"78.889474\" xlink:href=\"#m157d22b7af\" y=\"41.846641\"/>\n     <use style=\"fill:#1f77b4;stroke:#1f77b4;\" x=\"121.994213\" xlink:href=\"#m157d22b7af\" y=\"93.064301\"/>\n     <use style=\"fill:#1f77b4;stroke:#1f77b4;\" x=\"120.9289\" xlink:href=\"#m157d22b7af\" y=\"77.402678\"/>\n     <use style=\"fill:#1f77b4;stroke:#1f77b4;\" x=\"147.064697\" xlink:href=\"#m157d22b7af\" y=\"97.936957\"/>\n     <use style=\"fill:#1f77b4;stroke:#1f77b4;\" x=\"88.825249\" xlink:href=\"#m157d22b7af\" y=\"35.875555\"/>\n     <use style=\"fill:#1f77b4;stroke:#1f77b4;\" x=\"101.847678\" xlink:href=\"#m157d22b7af\" y=\"57.620838\"/>\n     <use style=\"fill:#1f77b4;stroke:#1f77b4;\" x=\"137.323277\" xlink:href=\"#m157d22b7af\" y=\"87.233263\"/>\n     <use style=\"fill:#1f77b4;stroke:#1f77b4;\" x=\"110.693707\" xlink:href=\"#m157d22b7af\" y=\"57.633406\"/>\n     <use style=\"fill:#1f77b4;stroke:#1f77b4;\" x=\"121.782453\" xlink:href=\"#m157d22b7af\" y=\"49.786304\"/>\n     <use style=\"fill:#1f77b4;stroke:#1f77b4;\" x=\"136.5059\" xlink:href=\"#m157d22b7af\" y=\"76.207168\"/>\n     <use style=\"fill:#1f77b4;stroke:#1f77b4;\" x=\"85.236549\" xlink:href=\"#m157d22b7af\" y=\"39.896927\"/>\n     <use style=\"fill:#1f77b4;stroke:#1f77b4;\" x=\"150.257696\" xlink:href=\"#m157d22b7af\" y=\"107.414368\"/>\n     <use style=\"fill:#1f77b4;stroke:#1f77b4;\" x=\"130.987355\" xlink:href=\"#m157d22b7af\" y=\"94.228286\"/>\n     <use style=\"fill:#1f77b4;stroke:#1f77b4;\" x=\"140.937805\" xlink:href=\"#m157d22b7af\" y=\"80.210394\"/>\n     <use style=\"fill:#1f77b4;stroke:#1f77b4;\" x=\"142.130412\" xlink:href=\"#m157d22b7af\" y=\"64.374202\"/>\n     <use style=\"fill:#1f77b4;stroke:#1f77b4;\" x=\"161.965299\" xlink:href=\"#m157d22b7af\" y=\"85.262946\"/>\n     <use style=\"fill:#1f77b4;stroke:#1f77b4;\" x=\"145.132598\" xlink:href=\"#m157d22b7af\" y=\"68.473598\"/>\n     <use style=\"fill:#1f77b4;stroke:#1f77b4;\" x=\"130.393123\" xlink:href=\"#m157d22b7af\" y=\"82.90184\"/>\n     <use style=\"fill:#1f77b4;stroke:#1f77b4;\" x=\"101.093545\" xlink:href=\"#m157d22b7af\" y=\"63.206763\"/>\n     <use style=\"fill:#1f77b4;stroke:#1f77b4;\" x=\"103.005954\" xlink:href=\"#m157d22b7af\" y=\"47.939781\"/>\n     <use style=\"fill:#1f77b4;stroke:#1f77b4;\" x=\"137.350654\" xlink:href=\"#m157d22b7af\" y=\"72.834418\"/>\n     <use style=\"fill:#1f77b4;stroke:#1f77b4;\" x=\"135.693904\" xlink:href=\"#m157d22b7af\" y=\"70.441291\"/>\n     <use style=\"fill:#1f77b4;stroke:#1f77b4;\" x=\"127.329347\" xlink:href=\"#m157d22b7af\" y=\"72.522757\"/>\n     <use style=\"fill:#1f77b4;stroke:#1f77b4;\" x=\"98.038032\" xlink:href=\"#m157d22b7af\" y=\"67.539735\"/>\n     <use style=\"fill:#1f77b4;stroke:#1f77b4;\" x=\"102.957037\" xlink:href=\"#m157d22b7af\" y=\"60.24383\"/>\n     <use style=\"fill:#1f77b4;stroke:#1f77b4;\" x=\"97.392852\" xlink:href=\"#m157d22b7af\" y=\"66.459406\"/>\n     <use style=\"fill:#1f77b4;stroke:#1f77b4;\" x=\"161.101695\" xlink:href=\"#m157d22b7af\" y=\"89.67497\"/>\n     <use style=\"fill:#1f77b4;stroke:#1f77b4;\" x=\"135.785173\" xlink:href=\"#m157d22b7af\" y=\"85.574529\"/>\n     <use style=\"fill:#1f77b4;stroke:#1f77b4;\" x=\"136.384622\" xlink:href=\"#m157d22b7af\" y=\"83.212221\"/>\n     <use style=\"fill:#1f77b4;stroke:#1f77b4;\" x=\"184.103984\" xlink:href=\"#m157d22b7af\" y=\"119.391439\"/>\n     <use style=\"fill:#1f77b4;stroke:#1f77b4;\" x=\"121.842034\" xlink:href=\"#m157d22b7af\" y=\"74.618137\"/>\n     <use style=\"fill:#1f77b4;stroke:#1f77b4;\" x=\"96.582702\" xlink:href=\"#m157d22b7af\" y=\"44.193473\"/>\n     <use style=\"fill:#1f77b4;stroke:#1f77b4;\" x=\"100.847928\" xlink:href=\"#m157d22b7af\" y=\"54.862167\"/>\n     <use style=\"fill:#1f77b4;stroke:#1f77b4;\" x=\"159.077879\" xlink:href=\"#m157d22b7af\" y=\"87.470138\"/>\n     <use style=\"fill:#1f77b4;stroke:#1f77b4;\" x=\"119.087234\" xlink:href=\"#m157d22b7af\" y=\"76.671065\"/>\n     <use style=\"fill:#1f77b4;stroke:#1f77b4;\" x=\"99.787162\" xlink:href=\"#m157d22b7af\" y=\"78.6094\"/>\n     <use style=\"fill:#1f77b4;stroke:#1f77b4;\" x=\"129.548282\" xlink:href=\"#m157d22b7af\" y=\"44.98896\"/>\n     <use style=\"fill:#1f77b4;stroke:#1f77b4;\" x=\"129.03371\" xlink:href=\"#m157d22b7af\" y=\"75.415925\"/>\n     <use style=\"fill:#1f77b4;stroke:#1f77b4;\" x=\"118.684531\" xlink:href=\"#m157d22b7af\" y=\"73.25957\"/>\n     <use style=\"fill:#1f77b4;stroke:#1f77b4;\" x=\"129.377135\" xlink:href=\"#m157d22b7af\" y=\"62.315611\"/>\n     <use style=\"fill:#1f77b4;stroke:#1f77b4;\" x=\"99.399823\" xlink:href=\"#m157d22b7af\" y=\"50.209061\"/>\n     <use style=\"fill:#1f77b4;stroke:#1f77b4;\" x=\"109.191355\" xlink:href=\"#m157d22b7af\" y=\"51.485868\"/>\n     <use style=\"fill:#1f77b4;stroke:#1f77b4;\" x=\"90.661579\" xlink:href=\"#m157d22b7af\" y=\"37.786495\"/>\n     <use style=\"fill:#1f77b4;stroke:#1f77b4;\" x=\"140.005445\" xlink:href=\"#m157d22b7af\" y=\"86.374616\"/>\n     <use style=\"fill:#1f77b4;stroke:#1f77b4;\" x=\"101.141109\" xlink:href=\"#m157d22b7af\" y=\"64.93526\"/>\n     <use style=\"fill:#1f77b4;stroke:#1f77b4;\" x=\"156.887303\" xlink:href=\"#m157d22b7af\" y=\"83.663239\"/>\n     <use style=\"fill:#1f77b4;stroke:#1f77b4;\" x=\"86.035711\" xlink:href=\"#m157d22b7af\" y=\"55.496853\"/>\n     <use style=\"fill:#1f77b4;stroke:#1f77b4;\" x=\"116.6643\" xlink:href=\"#m157d22b7af\" y=\"57.635828\"/>\n     <use style=\"fill:#1f77b4;stroke:#1f77b4;\" x=\"114.759698\" xlink:href=\"#m157d22b7af\" y=\"64.237837\"/>\n     <use style=\"fill:#1f77b4;stroke:#1f77b4;\" x=\"120.054978\" xlink:href=\"#m157d22b7af\" y=\"76.801305\"/>\n     <use style=\"fill:#1f77b4;stroke:#1f77b4;\" x=\"108.961952\" xlink:href=\"#m157d22b7af\" y=\"62.447143\"/>\n     <use style=\"fill:#1f77b4;stroke:#1f77b4;\" x=\"120.962187\" xlink:href=\"#m157d22b7af\" y=\"74.87886\"/>\n     <use style=\"fill:#1f77b4;stroke:#1f77b4;\" x=\"119.146654\" xlink:href=\"#m157d22b7af\" y=\"51.254515\"/>\n     <use style=\"fill:#1f77b4;stroke:#1f77b4;\" x=\"118.996189\" xlink:href=\"#m157d22b7af\" y=\"64.671882\"/>\n     <use style=\"fill:#1f77b4;stroke:#1f77b4;\" x=\"52.185297\" xlink:href=\"#m157d22b7af\" y=\"18.666965\"/>\n     <use style=\"fill:#1f77b4;stroke:#1f77b4;\" x=\"83.816266\" xlink:href=\"#m157d22b7af\" y=\"56.697727\"/>\n     <use style=\"fill:#1f77b4;stroke:#1f77b4;\" x=\"142.01788\" xlink:href=\"#m157d22b7af\" y=\"77.089366\"/>\n     <use style=\"fill:#1f77b4;stroke:#1f77b4;\" x=\"134.946245\" xlink:href=\"#m157d22b7af\" y=\"71.850677\"/>\n     <use style=\"fill:#1f77b4;stroke:#1f77b4;\" x=\"75.991638\" xlink:href=\"#m157d22b7af\" y=\"33.341213\"/>\n     <use style=\"fill:#1f77b4;stroke:#1f77b4;\" x=\"128.580448\" xlink:href=\"#m157d22b7af\" y=\"79.24073\"/>\n     <use style=\"fill:#1f77b4;stroke:#1f77b4;\" x=\"142.365267\" xlink:href=\"#m157d22b7af\" y=\"77.969836\"/>\n     <use style=\"fill:#1f77b4;stroke:#1f77b4;\" x=\"165.644653\" xlink:href=\"#m157d22b7af\" y=\"78.513713\"/>\n     <use style=\"fill:#1f77b4;stroke:#1f77b4;\" x=\"133.351022\" xlink:href=\"#m157d22b7af\" y=\"77.121692\"/>\n     <use style=\"fill:#1f77b4;stroke:#1f77b4;\" x=\"115.822521\" xlink:href=\"#m157d22b7af\" y=\"54.743964\"/>\n     <use style=\"fill:#1f77b4;stroke:#1f77b4;\" x=\"105.037517\" xlink:href=\"#m157d22b7af\" y=\"50.941959\"/>\n     <use style=\"fill:#1f77b4;stroke:#1f77b4;\" x=\"104.63659\" xlink:href=\"#m157d22b7af\" y=\"60.825412\"/>\n     <use style=\"fill:#1f77b4;stroke:#1f77b4;\" x=\"158.486202\" xlink:href=\"#m157d22b7af\" y=\"105.563596\"/>\n     <use style=\"fill:#1f77b4;stroke:#1f77b4;\" x=\"99.667716\" xlink:href=\"#m157d22b7af\" y=\"39.813356\"/>\n     <use style=\"fill:#1f77b4;stroke:#1f77b4;\" x=\"155.819968\" xlink:href=\"#m157d22b7af\" y=\"73.639576\"/>\n     <use style=\"fill:#1f77b4;stroke:#1f77b4;\" x=\"135.756715\" xlink:href=\"#m157d22b7af\" y=\"73.750279\"/>\n     <use style=\"fill:#1f77b4;stroke:#1f77b4;\" x=\"98.237215\" xlink:href=\"#m157d22b7af\" y=\"61.21821\"/>\n     <use style=\"fill:#1f77b4;stroke:#1f77b4;\" x=\"126.246472\" xlink:href=\"#m157d22b7af\" y=\"56.33112\"/>\n     <use style=\"fill:#1f77b4;stroke:#1f77b4;\" x=\"96.273999\" xlink:href=\"#m157d22b7af\" y=\"72.418624\"/>\n     <use style=\"fill:#1f77b4;stroke:#1f77b4;\" x=\"111.426131\" xlink:href=\"#m157d22b7af\" y=\"51.29052\"/>\n     <use style=\"fill:#1f77b4;stroke:#1f77b4;\" x=\"94.204345\" xlink:href=\"#m157d22b7af\" y=\"57.881561\"/>\n     <use style=\"fill:#1f77b4;stroke:#1f77b4;\" x=\"90.36253\" xlink:href=\"#m157d22b7af\" y=\"60.228355\"/>\n     <use style=\"fill:#1f77b4;stroke:#1f77b4;\" x=\"148.295201\" xlink:href=\"#m157d22b7af\" y=\"96.430702\"/>\n     <use style=\"fill:#1f77b4;stroke:#1f77b4;\" x=\"139.403449\" xlink:href=\"#m157d22b7af\" y=\"77.873907\"/>\n     <use style=\"fill:#1f77b4;stroke:#1f77b4;\" x=\"115.645562\" xlink:href=\"#m157d22b7af\" y=\"86.096685\"/>\n     <use style=\"fill:#1f77b4;stroke:#1f77b4;\" x=\"94.844594\" xlink:href=\"#m157d22b7af\" y=\"28.691228\"/>\n     <use style=\"fill:#1f77b4;stroke:#1f77b4;\" x=\"144.180861\" xlink:href=\"#m157d22b7af\" y=\"82.690114\"/>\n     <use style=\"fill:#1f77b4;stroke:#1f77b4;\" x=\"108.141407\" xlink:href=\"#m157d22b7af\" y=\"56.562506\"/>\n     <use style=\"fill:#1f77b4;stroke:#1f77b4;\" x=\"108.985642\" xlink:href=\"#m157d22b7af\" y=\"65.892518\"/>\n     <use style=\"fill:#1f77b4;stroke:#1f77b4;\" x=\"135.792383\" xlink:href=\"#m157d22b7af\" y=\"88.13243\"/>\n     <use style=\"fill:#1f77b4;stroke:#1f77b4;\" x=\"134.838846\" xlink:href=\"#m157d22b7af\" y=\"61.544673\"/>\n     <use style=\"fill:#1f77b4;stroke:#1f77b4;\" x=\"85.803981\" xlink:href=\"#m157d22b7af\" y=\"28.380848\"/>\n     <use style=\"fill:#1f77b4;stroke:#1f77b4;\" x=\"140.106281\" xlink:href=\"#m157d22b7af\" y=\"93.986159\"/>\n     <use style=\"fill:#1f77b4;stroke:#1f77b4;\" x=\"116.783293\" xlink:href=\"#m157d22b7af\" y=\"79.588999\"/>\n     <use style=\"fill:#1f77b4;stroke:#1f77b4;\" x=\"161.525669\" xlink:href=\"#m157d22b7af\" y=\"101.316871\"/>\n     <use style=\"fill:#1f77b4;stroke:#1f77b4;\" x=\"155.586478\" xlink:href=\"#m157d22b7af\" y=\"98.83126\"/>\n     <use style=\"fill:#1f77b4;stroke:#1f77b4;\" x=\"149.593952\" xlink:href=\"#m157d22b7af\" y=\"91.119415\"/>\n     <use style=\"fill:#1f77b4;stroke:#1f77b4;\" x=\"146.193173\" xlink:href=\"#m157d22b7af\" y=\"80.659366\"/>\n     <use style=\"fill:#1f77b4;stroke:#1f77b4;\" x=\"126.278215\" xlink:href=\"#m157d22b7af\" y=\"69.2619\"/>\n     <use style=\"fill:#1f77b4;stroke:#1f77b4;\" x=\"91.972237\" xlink:href=\"#m157d22b7af\" y=\"71.570668\"/>\n     <use style=\"fill:#1f77b4;stroke:#1f77b4;\" x=\"126.621748\" xlink:href=\"#m157d22b7af\" y=\"69.140187\"/>\n     <use style=\"fill:#1f77b4;stroke:#1f77b4;\" x=\"134.368349\" xlink:href=\"#m157d22b7af\" y=\"85.418555\"/>\n     <use style=\"fill:#1f77b4;stroke:#1f77b4;\" x=\"158.34524\" xlink:href=\"#m157d22b7af\" y=\"93.293544\"/>\n     <use style=\"fill:#1f77b4;stroke:#1f77b4;\" x=\"110.940454\" xlink:href=\"#m157d22b7af\" y=\"61.524746\"/>\n     <use style=\"fill:#1f77b4;stroke:#1f77b4;\" x=\"121.511501\" xlink:href=\"#m157d22b7af\" y=\"89.283019\"/>\n     <use style=\"fill:#1f77b4;stroke:#1f77b4;\" x=\"125.212704\" xlink:href=\"#m157d22b7af\" y=\"91.001067\"/>\n     <use style=\"fill:#1f77b4;stroke:#1f77b4;\" x=\"118.285518\" xlink:href=\"#m157d22b7af\" y=\"68.84723\"/>\n     <use style=\"fill:#1f77b4;stroke:#1f77b4;\" x=\"133.835573\" xlink:href=\"#m157d22b7af\" y=\"92.091043\"/>\n     <use style=\"fill:#1f77b4;stroke:#1f77b4;\" x=\"148.92681\" xlink:href=\"#m157d22b7af\" y=\"73.198421\"/>\n     <use style=\"fill:#1f77b4;stroke:#1f77b4;\" x=\"126.349312\" xlink:href=\"#m157d22b7af\" y=\"77.321984\"/>\n     <use style=\"fill:#1f77b4;stroke:#1f77b4;\" x=\"187.634696\" xlink:href=\"#m157d22b7af\" y=\"102.588833\"/>\n     <use style=\"fill:#1f77b4;stroke:#1f77b4;\" x=\"101.654266\" xlink:href=\"#m157d22b7af\" y=\"75.679571\"/>\n     <use style=\"fill:#1f77b4;stroke:#1f77b4;\" x=\"124.886132\" xlink:href=\"#m157d22b7af\" y=\"65.49524\"/>\n     <use style=\"fill:#1f77b4;stroke:#1f77b4;\" x=\"91.069017\" xlink:href=\"#m157d22b7af\" y=\"72.522081\"/>\n     <use style=\"fill:#1f77b4;stroke:#1f77b4;\" x=\"138.392427\" xlink:href=\"#m157d22b7af\" y=\"78.362975\"/>\n     <use style=\"fill:#1f77b4;stroke:#1f77b4;\" x=\"167.936002\" xlink:href=\"#m157d22b7af\" y=\"89.938408\"/>\n     <use style=\"fill:#1f77b4;stroke:#1f77b4;\" x=\"123.346782\" xlink:href=\"#m157d22b7af\" y=\"75.333387\"/>\n     <use style=\"fill:#1f77b4;stroke:#1f77b4;\" x=\"113.637238\" xlink:href=\"#m157d22b7af\" y=\"56.653305\"/>\n     <use style=\"fill:#1f77b4;stroke:#1f77b4;\" x=\"120.176204\" xlink:href=\"#m157d22b7af\" y=\"85.93552\"/>\n     <use style=\"fill:#1f77b4;stroke:#1f77b4;\" x=\"160.230251\" xlink:href=\"#m157d22b7af\" y=\"85.789693\"/>\n     <use style=\"fill:#1f77b4;stroke:#1f77b4;\" x=\"132.645601\" xlink:href=\"#m157d22b7af\" y=\"82.062453\"/>\n     <use style=\"fill:#1f77b4;stroke:#1f77b4;\" x=\"131.999085\" xlink:href=\"#m157d22b7af\" y=\"73.738375\"/>\n     <use style=\"fill:#1f77b4;stroke:#1f77b4;\" x=\"122.151646\" xlink:href=\"#m157d22b7af\" y=\"71.143235\"/>\n     <use style=\"fill:#1f77b4;stroke:#1f77b4;\" x=\"154.396565\" xlink:href=\"#m157d22b7af\" y=\"100.047541\"/>\n     <use style=\"fill:#1f77b4;stroke:#1f77b4;\" x=\"163.055389\" xlink:href=\"#m157d22b7af\" y=\"90.358693\"/>\n     <use style=\"fill:#1f77b4;stroke:#1f77b4;\" x=\"110.348754\" xlink:href=\"#m157d22b7af\" y=\"61.730768\"/>\n     <use style=\"fill:#1f77b4;stroke:#1f77b4;\" x=\"109.212618\" xlink:href=\"#m157d22b7af\" y=\"63.877111\"/>\n     <use style=\"fill:#1f77b4;stroke:#1f77b4;\" x=\"88.218557\" xlink:href=\"#m157d22b7af\" y=\"49.680759\"/>\n     <use style=\"fill:#1f77b4;stroke:#1f77b4;\" x=\"132.047693\" xlink:href=\"#m157d22b7af\" y=\"90.363216\"/>\n     <use style=\"fill:#1f77b4;stroke:#1f77b4;\" x=\"148.821822\" xlink:href=\"#m157d22b7af\" y=\"99.969125\"/>\n     <use style=\"fill:#1f77b4;stroke:#1f77b4;\" x=\"100.931254\" xlink:href=\"#m157d22b7af\" y=\"58.874799\"/>\n     <use style=\"fill:#1f77b4;stroke:#1f77b4;\" x=\"82.297216\" xlink:href=\"#m157d22b7af\" y=\"55.044114\"/>\n     <use style=\"fill:#1f77b4;stroke:#1f77b4;\" x=\"123.707362\" xlink:href=\"#m157d22b7af\" y=\"79.017264\"/>\n     <use style=\"fill:#1f77b4;stroke:#1f77b4;\" x=\"126.383141\" xlink:href=\"#m157d22b7af\" y=\"63.41269\"/>\n     <use style=\"fill:#1f77b4;stroke:#1f77b4;\" x=\"116.14566\" xlink:href=\"#m157d22b7af\" y=\"62.633273\"/>\n     <use style=\"fill:#1f77b4;stroke:#1f77b4;\" x=\"154.706857\" xlink:href=\"#m157d22b7af\" y=\"76.685875\"/>\n     <use style=\"fill:#1f77b4;stroke:#1f77b4;\" x=\"95.423349\" xlink:href=\"#m157d22b7af\" y=\"37.292149\"/>\n     <use style=\"fill:#1f77b4;stroke:#1f77b4;\" x=\"70.471843\" xlink:href=\"#m157d22b7af\" y=\"49.458203\"/>\n     <use style=\"fill:#1f77b4;stroke:#1f77b4;\" x=\"125.769859\" xlink:href=\"#m157d22b7af\" y=\"78.046134\"/>\n     <use style=\"fill:#1f77b4;stroke:#1f77b4;\" x=\"155.147704\" xlink:href=\"#m157d22b7af\" y=\"101.958266\"/>\n     <use style=\"fill:#1f77b4;stroke:#1f77b4;\" x=\"113.412518\" xlink:href=\"#m157d22b7af\" y=\"73.125084\"/>\n     <use style=\"fill:#1f77b4;stroke:#1f77b4;\" x=\"144.546141\" xlink:href=\"#m157d22b7af\" y=\"93.74814\"/>\n     <use style=\"fill:#1f77b4;stroke:#1f77b4;\" x=\"136.899613\" xlink:href=\"#m157d22b7af\" y=\"73.168409\"/>\n     <use style=\"fill:#1f77b4;stroke:#1f77b4;\" x=\"154.17584\" xlink:href=\"#m157d22b7af\" y=\"80.792718\"/>\n     <use style=\"fill:#1f77b4;stroke:#1f77b4;\" x=\"109.703497\" xlink:href=\"#m157d22b7af\" y=\"49.192085\"/>\n     <use style=\"fill:#1f77b4;stroke:#1f77b4;\" x=\"126.078007\" xlink:href=\"#m157d22b7af\" y=\"60.783864\"/>\n     <use style=\"fill:#1f77b4;stroke:#1f77b4;\" x=\"171.699128\" xlink:href=\"#m157d22b7af\" y=\"94.605692\"/>\n     <use style=\"fill:#1f77b4;stroke:#1f77b4;\" x=\"141.077872\" xlink:href=\"#m157d22b7af\" y=\"77.933039\"/>\n     <use style=\"fill:#1f77b4;stroke:#1f77b4;\" x=\"167.401326\" xlink:href=\"#m157d22b7af\" y=\"89.686789\"/>\n     <use style=\"fill:#1f77b4;stroke:#1f77b4;\" x=\"148.338575\" xlink:href=\"#m157d22b7af\" y=\"83.465972\"/>\n     <use style=\"fill:#1f77b4;stroke:#1f77b4;\" x=\"88.042177\" xlink:href=\"#m157d22b7af\" y=\"46.534629\"/>\n     <use style=\"fill:#1f77b4;stroke:#1f77b4;\" x=\"176.371186\" xlink:href=\"#m157d22b7af\" y=\"102.981148\"/>\n     <use style=\"fill:#1f77b4;stroke:#1f77b4;\" x=\"76.610307\" xlink:href=\"#m157d22b7af\" y=\"43.943215\"/>\n     <use style=\"fill:#1f77b4;stroke:#1f77b4;\" x=\"100.788173\" xlink:href=\"#m157d22b7af\" y=\"49.192466\"/>\n     <use style=\"fill:#1f77b4;stroke:#1f77b4;\" x=\"128.032716\" xlink:href=\"#m157d22b7af\" y=\"70.027629\"/>\n     <use style=\"fill:#1f77b4;stroke:#1f77b4;\" x=\"120.681206\" xlink:href=\"#m157d22b7af\" y=\"71.044189\"/>\n     <use style=\"fill:#1f77b4;stroke:#1f77b4;\" x=\"130.94222\" xlink:href=\"#m157d22b7af\" y=\"59.699947\"/>\n     <use style=\"fill:#1f77b4;stroke:#1f77b4;\" x=\"152.924024\" xlink:href=\"#m157d22b7af\" y=\"108.059608\"/>\n     <use style=\"fill:#1f77b4;stroke:#1f77b4;\" x=\"136.826154\" xlink:href=\"#m157d22b7af\" y=\"79.82277\"/>\n     <use style=\"fill:#1f77b4;stroke:#1f77b4;\" x=\"90.882256\" xlink:href=\"#m157d22b7af\" y=\"46.094338\"/>\n     <use style=\"fill:#1f77b4;stroke:#1f77b4;\" x=\"107.02951\" xlink:href=\"#m157d22b7af\" y=\"53.388838\"/>\n     <use style=\"fill:#1f77b4;stroke:#1f77b4;\" x=\"128.770654\" xlink:href=\"#m157d22b7af\" y=\"65.322529\"/>\n     <use style=\"fill:#1f77b4;stroke:#1f77b4;\" x=\"141.770173\" xlink:href=\"#m157d22b7af\" y=\"92.237591\"/>\n     <use style=\"fill:#1f77b4;stroke:#1f77b4;\" x=\"132.460741\" xlink:href=\"#m157d22b7af\" y=\"86.926457\"/>\n     <use style=\"fill:#1f77b4;stroke:#1f77b4;\" x=\"184.957873\" xlink:href=\"#m157d22b7af\" y=\"102.023881\"/>\n     <use style=\"fill:#1f77b4;stroke:#1f77b4;\" x=\"109.973266\" xlink:href=\"#m157d22b7af\" y=\"64.974858\"/>\n     <use style=\"fill:#1f77b4;stroke:#1f77b4;\" x=\"104.66313\" xlink:href=\"#m157d22b7af\" y=\"45.604781\"/>\n     <use style=\"fill:#1f77b4;stroke:#1f77b4;\" x=\"144.946083\" xlink:href=\"#m157d22b7af\" y=\"62.244223\"/>\n     <use style=\"fill:#1f77b4;stroke:#1f77b4;\" x=\"145.508631\" xlink:href=\"#m157d22b7af\" y=\"93.431522\"/>\n     <use style=\"fill:#1f77b4;stroke:#1f77b4;\" x=\"117.268269\" xlink:href=\"#m157d22b7af\" y=\"41.321891\"/>\n     <use style=\"fill:#1f77b4;stroke:#1f77b4;\" x=\"133.919646\" xlink:href=\"#m157d22b7af\" y=\"70.997413\"/>\n     <use style=\"fill:#1f77b4;stroke:#1f77b4;\" x=\"91.167204\" xlink:href=\"#m157d22b7af\" y=\"43.091403\"/>\n     <use style=\"fill:#1f77b4;stroke:#1f77b4;\" x=\"83.773109\" xlink:href=\"#m157d22b7af\" y=\"36.3242\"/>\n     <use style=\"fill:#1f77b4;stroke:#1f77b4;\" x=\"147.967745\" xlink:href=\"#m157d22b7af\" y=\"89.994251\"/>\n     <use style=\"fill:#1f77b4;stroke:#1f77b4;\" x=\"139.785444\" xlink:href=\"#m157d22b7af\" y=\"88.365681\"/>\n     <use style=\"fill:#1f77b4;stroke:#1f77b4;\" x=\"117.629518\" xlink:href=\"#m157d22b7af\" y=\"69.331564\"/>\n     <use style=\"fill:#1f77b4;stroke:#1f77b4;\" x=\"125.759361\" xlink:href=\"#m157d22b7af\" y=\"70.575327\"/>\n     <use style=\"fill:#1f77b4;stroke:#1f77b4;\" x=\"107.21824\" xlink:href=\"#m157d22b7af\" y=\"61.679973\"/>\n     <use style=\"fill:#1f77b4;stroke:#1f77b4;\" x=\"137.102229\" xlink:href=\"#m157d22b7af\" y=\"86.566988\"/>\n     <use style=\"fill:#1f77b4;stroke:#1f77b4;\" x=\"156.71189\" xlink:href=\"#m157d22b7af\" y=\"109.17991\"/>\n     <use style=\"fill:#1f77b4;stroke:#1f77b4;\" x=\"97.695724\" xlink:href=\"#m157d22b7af\" y=\"57.859324\"/>\n     <use style=\"fill:#1f77b4;stroke:#1f77b4;\" x=\"103.932556\" xlink:href=\"#m157d22b7af\" y=\"42.223995\"/>\n     <use style=\"fill:#1f77b4;stroke:#1f77b4;\" x=\"86.536392\" xlink:href=\"#m157d22b7af\" y=\"51.5988\"/>\n     <use style=\"fill:#1f77b4;stroke:#1f77b4;\" x=\"90.201299\" xlink:href=\"#m157d22b7af\" y=\"56.592849\"/>\n     <use style=\"fill:#1f77b4;stroke:#1f77b4;\" x=\"123.091849\" xlink:href=\"#m157d22b7af\" y=\"77.957375\"/>\n     <use style=\"fill:#1f77b4;stroke:#1f77b4;\" x=\"109.139724\" xlink:href=\"#m157d22b7af\" y=\"72.193954\"/>\n     <use style=\"fill:#1f77b4;stroke:#1f77b4;\" x=\"128.574332\" xlink:href=\"#m157d22b7af\" y=\"55.128588\"/>\n     <use style=\"fill:#1f77b4;stroke:#1f77b4;\" x=\"148.61838\" xlink:href=\"#m157d22b7af\" y=\"66.802716\"/>\n     <use style=\"fill:#1f77b4;stroke:#1f77b4;\" x=\"115.247672\" xlink:href=\"#m157d22b7af\" y=\"74.032753\"/>\n     <use style=\"fill:#1f77b4;stroke:#1f77b4;\" x=\"162.459443\" xlink:href=\"#m157d22b7af\" y=\"105.98425\"/>\n     <use style=\"fill:#1f77b4;stroke:#1f77b4;\" x=\"133.790344\" xlink:href=\"#m157d22b7af\" y=\"79.405546\"/>\n     <use style=\"fill:#1f77b4;stroke:#1f77b4;\" x=\"95.105187\" xlink:href=\"#m157d22b7af\" y=\"56.417389\"/>\n     <use style=\"fill:#1f77b4;stroke:#1f77b4;\" x=\"127.607462\" xlink:href=\"#m157d22b7af\" y=\"65.919384\"/>\n     <use style=\"fill:#1f77b4;stroke:#1f77b4;\" x=\"170.905319\" xlink:href=\"#m157d22b7af\" y=\"100.301399\"/>\n     <use style=\"fill:#1f77b4;stroke:#1f77b4;\" x=\"113.750328\" xlink:href=\"#m157d22b7af\" y=\"67.862918\"/>\n     <use style=\"fill:#1f77b4;stroke:#1f77b4;\" x=\"101.634124\" xlink:href=\"#m157d22b7af\" y=\"57.662034\"/>\n     <use style=\"fill:#1f77b4;stroke:#1f77b4;\" x=\"117.825259\" xlink:href=\"#m157d22b7af\" y=\"70.224431\"/>\n     <use style=\"fill:#1f77b4;stroke:#1f77b4;\" x=\"160.508582\" xlink:href=\"#m157d22b7af\" y=\"75.165715\"/>\n     <use style=\"fill:#1f77b4;stroke:#1f77b4;\" x=\"170.025717\" xlink:href=\"#m157d22b7af\" y=\"109.662257\"/>\n     <use style=\"fill:#1f77b4;stroke:#1f77b4;\" x=\"121.974011\" xlink:href=\"#m157d22b7af\" y=\"52.132281\"/>\n     <use style=\"fill:#1f77b4;stroke:#1f77b4;\" x=\"101.918149\" xlink:href=\"#m157d22b7af\" y=\"63.191168\"/>\n     <use style=\"fill:#1f77b4;stroke:#1f77b4;\" x=\"146.379401\" xlink:href=\"#m157d22b7af\" y=\"88.356723\"/>\n     <use style=\"fill:#1f77b4;stroke:#1f77b4;\" x=\"175.401577\" xlink:href=\"#m157d22b7af\" y=\"113.825448\"/>\n     <use style=\"fill:#1f77b4;stroke:#1f77b4;\" x=\"100.533313\" xlink:href=\"#m157d22b7af\" y=\"55.031924\"/>\n     <use style=\"fill:#1f77b4;stroke:#1f77b4;\" x=\"117.665963\" xlink:href=\"#m157d22b7af\" y=\"58.386008\"/>\n     <use style=\"fill:#1f77b4;stroke:#1f77b4;\" x=\"150.726802\" xlink:href=\"#m157d22b7af\" y=\"97.868244\"/>\n     <use style=\"fill:#1f77b4;stroke:#1f77b4;\" x=\"103.047761\" xlink:href=\"#m157d22b7af\" y=\"59.962931\"/>\n     <use style=\"fill:#1f77b4;stroke:#1f77b4;\" x=\"96.24007\" xlink:href=\"#m157d22b7af\" y=\"33.227407\"/>\n     <use style=\"fill:#1f77b4;stroke:#1f77b4;\" x=\"107.068988\" xlink:href=\"#m157d22b7af\" y=\"63.115842\"/>\n     <use style=\"fill:#1f77b4;stroke:#1f77b4;\" x=\"113.878136\" xlink:href=\"#m157d22b7af\" y=\"57.224065\"/>\n     <use style=\"fill:#1f77b4;stroke:#1f77b4;\" x=\"90.526564\" xlink:href=\"#m157d22b7af\" y=\"50.743482\"/>\n     <use style=\"fill:#1f77b4;stroke:#1f77b4;\" x=\"106.539726\" xlink:href=\"#m157d22b7af\" y=\"40.025762\"/>\n     <use style=\"fill:#1f77b4;stroke:#1f77b4;\" x=\"105.302789\" xlink:href=\"#m157d22b7af\" y=\"48.645315\"/>\n     <use style=\"fill:#1f77b4;stroke:#1f77b4;\" x=\"90.357246\" xlink:href=\"#m157d22b7af\" y=\"53.502987\"/>\n     <use style=\"fill:#1f77b4;stroke:#1f77b4;\" x=\"130.201043\" xlink:href=\"#m157d22b7af\" y=\"80.677454\"/>\n     <use style=\"fill:#1f77b4;stroke:#1f77b4;\" x=\"127.105812\" xlink:href=\"#m157d22b7af\" y=\"63.691029\"/>\n     <use style=\"fill:#1f77b4;stroke:#1f77b4;\" x=\"95.82088\" xlink:href=\"#m157d22b7af\" y=\"64.825133\"/>\n     <use style=\"fill:#1f77b4;stroke:#1f77b4;\" x=\"99.085785\" xlink:href=\"#m157d22b7af\" y=\"55.345657\"/>\n     <use style=\"fill:#1f77b4;stroke:#1f77b4;\" x=\"78.850455\" xlink:href=\"#m157d22b7af\" y=\"48.223549\"/>\n     <use style=\"fill:#1f77b4;stroke:#1f77b4;\" x=\"139.661034\" xlink:href=\"#m157d22b7af\" y=\"91.687344\"/>\n     <use style=\"fill:#1f77b4;stroke:#1f77b4;\" x=\"132.824521\" xlink:href=\"#m157d22b7af\" y=\"78.696663\"/>\n     <use style=\"fill:#1f77b4;stroke:#1f77b4;\" x=\"103.65069\" xlink:href=\"#m157d22b7af\" y=\"71.985707\"/>\n     <use style=\"fill:#1f77b4;stroke:#1f77b4;\" x=\"147.740741\" xlink:href=\"#m157d22b7af\" y=\"82.900213\"/>\n     <use style=\"fill:#1f77b4;stroke:#1f77b4;\" x=\"142.615815\" xlink:href=\"#m157d22b7af\" y=\"85.039303\"/>\n     <use style=\"fill:#1f77b4;stroke:#1f77b4;\" x=\"124.300141\" xlink:href=\"#m157d22b7af\" y=\"81.984701\"/>\n     <use style=\"fill:#1f77b4;stroke:#1f77b4;\" x=\"107.706271\" xlink:href=\"#m157d22b7af\" y=\"54.357501\"/>\n     <use style=\"fill:#1f77b4;stroke:#1f77b4;\" x=\"182.681871\" xlink:href=\"#m157d22b7af\" y=\"93.336578\"/>\n     <use style=\"fill:#1f77b4;stroke:#1f77b4;\" x=\"89.851868\" xlink:href=\"#m157d22b7af\" y=\"55.739251\"/>\n     <use style=\"fill:#1f77b4;stroke:#1f77b4;\" x=\"107.123329\" xlink:href=\"#m157d22b7af\" y=\"46.423313\"/>\n     <use style=\"fill:#1f77b4;stroke:#1f77b4;\" x=\"162.374624\" xlink:href=\"#m157d22b7af\" y=\"82.778839\"/>\n     <use style=\"fill:#1f77b4;stroke:#1f77b4;\" x=\"154.375933\" xlink:href=\"#m157d22b7af\" y=\"99.238736\"/>\n     <use style=\"fill:#1f77b4;stroke:#1f77b4;\" x=\"151.980237\" xlink:href=\"#m157d22b7af\" y=\"101.139753\"/>\n     <use style=\"fill:#1f77b4;stroke:#1f77b4;\" x=\"131.027944\" xlink:href=\"#m157d22b7af\" y=\"70.882881\"/>\n     <use style=\"fill:#1f77b4;stroke:#1f77b4;\" x=\"126.080906\" xlink:href=\"#m157d22b7af\" y=\"88.666809\"/>\n     <use style=\"fill:#1f77b4;stroke:#1f77b4;\" x=\"139.019781\" xlink:href=\"#m157d22b7af\" y=\"82.193831\"/>\n     <use style=\"fill:#1f77b4;stroke:#1f77b4;\" x=\"112.416962\" xlink:href=\"#m157d22b7af\" y=\"51.246987\"/>\n     <use style=\"fill:#1f77b4;stroke:#1f77b4;\" x=\"112.126806\" xlink:href=\"#m157d22b7af\" y=\"47.065563\"/>\n     <use style=\"fill:#1f77b4;stroke:#1f77b4;\" x=\"133.234654\" xlink:href=\"#m157d22b7af\" y=\"72.73743\"/>\n     <use style=\"fill:#1f77b4;stroke:#1f77b4;\" x=\"127.032658\" xlink:href=\"#m157d22b7af\" y=\"67.032694\"/>\n     <use style=\"fill:#1f77b4;stroke:#1f77b4;\" x=\"145.655839\" xlink:href=\"#m157d22b7af\" y=\"78.088265\"/>\n     <use style=\"fill:#1f77b4;stroke:#1f77b4;\" x=\"132.811948\" xlink:href=\"#m157d22b7af\" y=\"72.106755\"/>\n     <use style=\"fill:#1f77b4;stroke:#1f77b4;\" x=\"89.632057\" xlink:href=\"#m157d22b7af\" y=\"37.647816\"/>\n     <use style=\"fill:#1f77b4;stroke:#1f77b4;\" x=\"95.087443\" xlink:href=\"#m157d22b7af\" y=\"44.476353\"/>\n     <use style=\"fill:#1f77b4;stroke:#1f77b4;\" x=\"146.507301\" xlink:href=\"#m157d22b7af\" y=\"93.11222\"/>\n     <use style=\"fill:#1f77b4;stroke:#1f77b4;\" x=\"111.667284\" xlink:href=\"#m157d22b7af\" y=\"70.543135\"/>\n     <use style=\"fill:#1f77b4;stroke:#1f77b4;\" x=\"115.663943\" xlink:href=\"#m157d22b7af\" y=\"75.592652\"/>\n     <use style=\"fill:#1f77b4;stroke:#1f77b4;\" x=\"118.762493\" xlink:href=\"#m157d22b7af\" y=\"61.28637\"/>\n     <use style=\"fill:#1f77b4;stroke:#1f77b4;\" x=\"119.43352\" xlink:href=\"#m157d22b7af\" y=\"70.180425\"/>\n     <use style=\"fill:#1f77b4;stroke:#1f77b4;\" x=\"79.867651\" xlink:href=\"#m157d22b7af\" y=\"37.158808\"/>\n     <use style=\"fill:#1f77b4;stroke:#1f77b4;\" x=\"116.22953\" xlink:href=\"#m157d22b7af\" y=\"44.747405\"/>\n     <use style=\"fill:#1f77b4;stroke:#1f77b4;\" x=\"130.693134\" xlink:href=\"#m157d22b7af\" y=\"64.708395\"/>\n     <use style=\"fill:#1f77b4;stroke:#1f77b4;\" x=\"96.6078\" xlink:href=\"#m157d22b7af\" y=\"45.358828\"/>\n     <use style=\"fill:#1f77b4;stroke:#1f77b4;\" x=\"128.291787\" xlink:href=\"#m157d22b7af\" y=\"72.046182\"/>\n     <use style=\"fill:#1f77b4;stroke:#1f77b4;\" x=\"85.560221\" xlink:href=\"#m157d22b7af\" y=\"46.086693\"/>\n     <use style=\"fill:#1f77b4;stroke:#1f77b4;\" x=\"116.42767\" xlink:href=\"#m157d22b7af\" y=\"73.460871\"/>\n     <use style=\"fill:#1f77b4;stroke:#1f77b4;\" x=\"129.805766\" xlink:href=\"#m157d22b7af\" y=\"72.221031\"/>\n     <use style=\"fill:#1f77b4;stroke:#1f77b4;\" x=\"98.923401\" xlink:href=\"#m157d22b7af\" y=\"40.958297\"/>\n     <use style=\"fill:#1f77b4;stroke:#1f77b4;\" x=\"97.615425\" xlink:href=\"#m157d22b7af\" y=\"45.266539\"/>\n     <use style=\"fill:#1f77b4;stroke:#1f77b4;\" x=\"155.681381\" xlink:href=\"#m157d22b7af\" y=\"113.911336\"/>\n     <use style=\"fill:#1f77b4;stroke:#1f77b4;\" x=\"117.106979\" xlink:href=\"#m157d22b7af\" y=\"72.167055\"/>\n     <use style=\"fill:#1f77b4;stroke:#1f77b4;\" x=\"118.416774\" xlink:href=\"#m157d22b7af\" y=\"72.705896\"/>\n     <use style=\"fill:#1f77b4;stroke:#1f77b4;\" x=\"44.18196\" xlink:href=\"#m157d22b7af\" y=\"13.377273\"/>\n     <use style=\"fill:#1f77b4;stroke:#1f77b4;\" x=\"135.257639\" xlink:href=\"#m157d22b7af\" y=\"80.907922\"/>\n     <use style=\"fill:#1f77b4;stroke:#1f77b4;\" x=\"158.579784\" xlink:href=\"#m157d22b7af\" y=\"101.518443\"/>\n     <use style=\"fill:#1f77b4;stroke:#1f77b4;\" x=\"103.185471\" xlink:href=\"#m157d22b7af\" y=\"66.466864\"/>\n     <use style=\"fill:#1f77b4;stroke:#1f77b4;\" x=\"139.134014\" xlink:href=\"#m157d22b7af\" y=\"87.727136\"/>\n     <use style=\"fill:#1f77b4;stroke:#1f77b4;\" x=\"132.33749\" xlink:href=\"#m157d22b7af\" y=\"87.062364\"/>\n     <use style=\"fill:#1f77b4;stroke:#1f77b4;\" x=\"109.986992\" xlink:href=\"#m157d22b7af\" y=\"53.499604\"/>\n     <use style=\"fill:#1f77b4;stroke:#1f77b4;\" x=\"130.472556\" xlink:href=\"#m157d22b7af\" y=\"56.023825\"/>\n     <use style=\"fill:#1f77b4;stroke:#1f77b4;\" x=\"161.11307\" xlink:href=\"#m157d22b7af\" y=\"84.183473\"/>\n     <use style=\"fill:#1f77b4;stroke:#1f77b4;\" x=\"118.136823\" xlink:href=\"#m157d22b7af\" y=\"73.310453\"/>\n     <use style=\"fill:#1f77b4;stroke:#1f77b4;\" x=\"139.294466\" xlink:href=\"#m157d22b7af\" y=\"66.074106\"/>\n     <use style=\"fill:#1f77b4;stroke:#1f77b4;\" x=\"150.504426\" xlink:href=\"#m157d22b7af\" y=\"75.090604\"/>\n     <use style=\"fill:#1f77b4;stroke:#1f77b4;\" x=\"124.437583\" xlink:href=\"#m157d22b7af\" y=\"65.844389\"/>\n     <use style=\"fill:#1f77b4;stroke:#1f77b4;\" x=\"139.653089\" xlink:href=\"#m157d22b7af\" y=\"73.834453\"/>\n     <use style=\"fill:#1f77b4;stroke:#1f77b4;\" x=\"155.028934\" xlink:href=\"#m157d22b7af\" y=\"90.095129\"/>\n     <use style=\"fill:#1f77b4;stroke:#1f77b4;\" x=\"104.874423\" xlink:href=\"#m157d22b7af\" y=\"65.705526\"/>\n     <use style=\"fill:#1f77b4;stroke:#1f77b4;\" x=\"117.915016\" xlink:href=\"#m157d22b7af\" y=\"71.706615\"/>\n     <use style=\"fill:#1f77b4;stroke:#1f77b4;\" x=\"126.307278\" xlink:href=\"#m157d22b7af\" y=\"76.149333\"/>\n     <use style=\"fill:#1f77b4;stroke:#1f77b4;\" x=\"138.046971\" xlink:href=\"#m157d22b7af\" y=\"75.263068\"/>\n     <use style=\"fill:#1f77b4;stroke:#1f77b4;\" x=\"155.634944\" xlink:href=\"#m157d22b7af\" y=\"79.961902\"/>\n     <use style=\"fill:#1f77b4;stroke:#1f77b4;\" x=\"105.198549\" xlink:href=\"#m157d22b7af\" y=\"54.433251\"/>\n     <use style=\"fill:#1f77b4;stroke:#1f77b4;\" x=\"128.862988\" xlink:href=\"#m157d22b7af\" y=\"90.434985\"/>\n     <use style=\"fill:#1f77b4;stroke:#1f77b4;\" x=\"86.810388\" xlink:href=\"#m157d22b7af\" y=\"47.440393\"/>\n     <use style=\"fill:#1f77b4;stroke:#1f77b4;\" x=\"186.430091\" xlink:href=\"#m157d22b7af\" y=\"119.792796\"/>\n     <use style=\"fill:#1f77b4;stroke:#1f77b4;\" x=\"126.32569\" xlink:href=\"#m157d22b7af\" y=\"82.202326\"/>\n     <use style=\"fill:#1f77b4;stroke:#1f77b4;\" x=\"73.915307\" xlink:href=\"#m157d22b7af\" y=\"49.077992\"/>\n     <use style=\"fill:#1f77b4;stroke:#1f77b4;\" x=\"125.075267\" xlink:href=\"#m157d22b7af\" y=\"64.506424\"/>\n     <use style=\"fill:#1f77b4;stroke:#1f77b4;\" x=\"155.415199\" xlink:href=\"#m157d22b7af\" y=\"97.940348\"/>\n     <use style=\"fill:#1f77b4;stroke:#1f77b4;\" x=\"199.993637\" xlink:href=\"#m157d22b7af\" y=\"135.807998\"/>\n     <use style=\"fill:#1f77b4;stroke:#1f77b4;\" x=\"163.090829\" xlink:href=\"#m157d22b7af\" y=\"110.734826\"/>\n     <use style=\"fill:#1f77b4;stroke:#1f77b4;\" x=\"68.236213\" xlink:href=\"#m157d22b7af\" y=\"42.272481\"/>\n     <use style=\"fill:#1f77b4;stroke:#1f77b4;\" x=\"111.30859\" xlink:href=\"#m157d22b7af\" y=\"60.04029\"/>\n     <use style=\"fill:#1f77b4;stroke:#1f77b4;\" x=\"108.192128\" xlink:href=\"#m157d22b7af\" y=\"48.933735\"/>\n     <use style=\"fill:#1f77b4;stroke:#1f77b4;\" x=\"104.396932\" xlink:href=\"#m157d22b7af\" y=\"63.255235\"/>\n     <use style=\"fill:#1f77b4;stroke:#1f77b4;\" x=\"102.185538\" xlink:href=\"#m157d22b7af\" y=\"68.01518\"/>\n     <use style=\"fill:#1f77b4;stroke:#1f77b4;\" x=\"115.913127\" xlink:href=\"#m157d22b7af\" y=\"55.27769\"/>\n     <use style=\"fill:#1f77b4;stroke:#1f77b4;\" x=\"108.983843\" xlink:href=\"#m157d22b7af\" y=\"55.960357\"/>\n     <use style=\"fill:#1f77b4;stroke:#1f77b4;\" x=\"76.846709\" xlink:href=\"#m157d22b7af\" y=\"40.075855\"/>\n     <use style=\"fill:#1f77b4;stroke:#1f77b4;\" x=\"117.617627\" xlink:href=\"#m157d22b7af\" y=\"63.726045\"/>\n     <use style=\"fill:#1f77b4;stroke:#1f77b4;\" x=\"127.9117\" xlink:href=\"#m157d22b7af\" y=\"83.332705\"/>\n     <use style=\"fill:#1f77b4;stroke:#1f77b4;\" x=\"142.739132\" xlink:href=\"#m157d22b7af\" y=\"89.332528\"/>\n     <use style=\"fill:#1f77b4;stroke:#1f77b4;\" x=\"115.351609\" xlink:href=\"#m157d22b7af\" y=\"58.187211\"/>\n     <use style=\"fill:#1f77b4;stroke:#1f77b4;\" x=\"164.333669\" xlink:href=\"#m157d22b7af\" y=\"88.98758\"/>\n     <use style=\"fill:#1f77b4;stroke:#1f77b4;\" x=\"130.619499\" xlink:href=\"#m157d22b7af\" y=\"77.832453\"/>\n     <use style=\"fill:#1f77b4;stroke:#1f77b4;\" x=\"127.869693\" xlink:href=\"#m157d22b7af\" y=\"70.531622\"/>\n     <use style=\"fill:#1f77b4;stroke:#1f77b4;\" x=\"133.186305\" xlink:href=\"#m157d22b7af\" y=\"59.561832\"/>\n     <use style=\"fill:#1f77b4;stroke:#1f77b4;\" x=\"136.983099\" xlink:href=\"#m157d22b7af\" y=\"86.899209\"/>\n     <use style=\"fill:#1f77b4;stroke:#1f77b4;\" x=\"116.335422\" xlink:href=\"#m157d22b7af\" y=\"70.50404\"/>\n     <use style=\"fill:#1f77b4;stroke:#1f77b4;\" x=\"100.272623\" xlink:href=\"#m157d22b7af\" y=\"63.934717\"/>\n     <use style=\"fill:#1f77b4;stroke:#1f77b4;\" x=\"127.5813\" xlink:href=\"#m157d22b7af\" y=\"81.979582\"/>\n     <use style=\"fill:#1f77b4;stroke:#1f77b4;\" x=\"130.376921\" xlink:href=\"#m157d22b7af\" y=\"81.566827\"/>\n     <use style=\"fill:#1f77b4;stroke:#1f77b4;\" x=\"169.098281\" xlink:href=\"#m157d22b7af\" y=\"78.845868\"/>\n     <use style=\"fill:#1f77b4;stroke:#1f77b4;\" x=\"127.025559\" xlink:href=\"#m157d22b7af\" y=\"67.271829\"/>\n     <use style=\"fill:#1f77b4;stroke:#1f77b4;\" x=\"155.001177\" xlink:href=\"#m157d22b7af\" y=\"94.526139\"/>\n     <use style=\"fill:#1f77b4;stroke:#1f77b4;\" x=\"172.318816\" xlink:href=\"#m157d22b7af\" y=\"89.130815\"/>\n     <use style=\"fill:#1f77b4;stroke:#1f77b4;\" x=\"112.806643\" xlink:href=\"#m157d22b7af\" y=\"70.876715\"/>\n     <use style=\"fill:#1f77b4;stroke:#1f77b4;\" x=\"121.313818\" xlink:href=\"#m157d22b7af\" y=\"75.792859\"/>\n     <use style=\"fill:#1f77b4;stroke:#1f77b4;\" x=\"134.324268\" xlink:href=\"#m157d22b7af\" y=\"57.835269\"/>\n     <use style=\"fill:#1f77b4;stroke:#1f77b4;\" x=\"145.093661\" xlink:href=\"#m157d22b7af\" y=\"55.452591\"/>\n     <use style=\"fill:#1f77b4;stroke:#1f77b4;\" x=\"117.723925\" xlink:href=\"#m157d22b7af\" y=\"60.264685\"/>\n     <use style=\"fill:#1f77b4;stroke:#1f77b4;\" x=\"133.10976\" xlink:href=\"#m157d22b7af\" y=\"85.136927\"/>\n     <use style=\"fill:#1f77b4;stroke:#1f77b4;\" x=\"119.70546\" xlink:href=\"#m157d22b7af\" y=\"67.021573\"/>\n     <use style=\"fill:#1f77b4;stroke:#1f77b4;\" x=\"129.235614\" xlink:href=\"#m157d22b7af\" y=\"72.556018\"/>\n     <use style=\"fill:#1f77b4;stroke:#1f77b4;\" x=\"175.633943\" xlink:href=\"#m157d22b7af\" y=\"104.824464\"/>\n     <use style=\"fill:#1f77b4;stroke:#1f77b4;\" x=\"104.263034\" xlink:href=\"#m157d22b7af\" y=\"56.035439\"/>\n     <use style=\"fill:#1f77b4;stroke:#1f77b4;\" x=\"152.306997\" xlink:href=\"#m157d22b7af\" y=\"98.191757\"/>\n     <use style=\"fill:#1f77b4;stroke:#1f77b4;\" x=\"124.913023\" xlink:href=\"#m157d22b7af\" y=\"84.926909\"/>\n     <use style=\"fill:#1f77b4;stroke:#1f77b4;\" x=\"146.709639\" xlink:href=\"#m157d22b7af\" y=\"109.609979\"/>\n     <use style=\"fill:#1f77b4;stroke:#1f77b4;\" x=\"129.616608\" xlink:href=\"#m157d22b7af\" y=\"51.035385\"/>\n     <use style=\"fill:#1f77b4;stroke:#1f77b4;\" x=\"141.305734\" xlink:href=\"#m157d22b7af\" y=\"85.352649\"/>\n     <use style=\"fill:#1f77b4;stroke:#1f77b4;\" x=\"168.595322\" xlink:href=\"#m157d22b7af\" y=\"91.65624\"/>\n     <use style=\"fill:#1f77b4;stroke:#1f77b4;\" x=\"100.629199\" xlink:href=\"#m157d22b7af\" y=\"58.171454\"/>\n     <use style=\"fill:#1f77b4;stroke:#1f77b4;\" x=\"108.142169\" xlink:href=\"#m157d22b7af\" y=\"62.003262\"/>\n     <use style=\"fill:#1f77b4;stroke:#1f77b4;\" x=\"94.903463\" xlink:href=\"#m157d22b7af\" y=\"50.866297\"/>\n     <use style=\"fill:#1f77b4;stroke:#1f77b4;\" x=\"146.102099\" xlink:href=\"#m157d22b7af\" y=\"91.655517\"/>\n     <use style=\"fill:#1f77b4;stroke:#1f77b4;\" x=\"154.114564\" xlink:href=\"#m157d22b7af\" y=\"94.594503\"/>\n     <use style=\"fill:#1f77b4;stroke:#1f77b4;\" x=\"127.779217\" xlink:href=\"#m157d22b7af\" y=\"65.309495\"/>\n     <use style=\"fill:#1f77b4;stroke:#1f77b4;\" x=\"101.983005\" xlink:href=\"#m157d22b7af\" y=\"63.39539\"/>\n     <use style=\"fill:#1f77b4;stroke:#1f77b4;\" x=\"99.554383\" xlink:href=\"#m157d22b7af\" y=\"56.812317\"/>\n     <use style=\"fill:#1f77b4;stroke:#1f77b4;\" x=\"152.2809\" xlink:href=\"#m157d22b7af\" y=\"87.466422\"/>\n     <use style=\"fill:#1f77b4;stroke:#1f77b4;\" x=\"102.138308\" xlink:href=\"#m157d22b7af\" y=\"51.982521\"/>\n     <use style=\"fill:#1f77b4;stroke:#1f77b4;\" x=\"163.386793\" xlink:href=\"#m157d22b7af\" y=\"87.322369\"/>\n     <use style=\"fill:#1f77b4;stroke:#1f77b4;\" x=\"172.623338\" xlink:href=\"#m157d22b7af\" y=\"89.674043\"/>\n     <use style=\"fill:#1f77b4;stroke:#1f77b4;\" x=\"144.259928\" xlink:href=\"#m157d22b7af\" y=\"73.204779\"/>\n     <use style=\"fill:#1f77b4;stroke:#1f77b4;\" x=\"106.249853\" xlink:href=\"#m157d22b7af\" y=\"78.403142\"/>\n     <use style=\"fill:#1f77b4;stroke:#1f77b4;\" x=\"105.087892\" xlink:href=\"#m157d22b7af\" y=\"44.03361\"/>\n     <use style=\"fill:#1f77b4;stroke:#1f77b4;\" x=\"105.412316\" xlink:href=\"#m157d22b7af\" y=\"61.625157\"/>\n     <use style=\"fill:#1f77b4;stroke:#1f77b4;\" x=\"128.010926\" xlink:href=\"#m157d22b7af\" y=\"81.00887\"/>\n     <use style=\"fill:#1f77b4;stroke:#1f77b4;\" x=\"123.04882\" xlink:href=\"#m157d22b7af\" y=\"68.316911\"/>\n     <use style=\"fill:#1f77b4;stroke:#1f77b4;\" x=\"145.937052\" xlink:href=\"#m157d22b7af\" y=\"72.087084\"/>\n     <use style=\"fill:#1f77b4;stroke:#1f77b4;\" x=\"170.309582\" xlink:href=\"#m157d22b7af\" y=\"101.716183\"/>\n     <use style=\"fill:#1f77b4;stroke:#1f77b4;\" x=\"130.744137\" xlink:href=\"#m157d22b7af\" y=\"74.783383\"/>\n     <use style=\"fill:#1f77b4;stroke:#1f77b4;\" x=\"80.95766\" xlink:href=\"#m157d22b7af\" y=\"58.091633\"/>\n     <use style=\"fill:#1f77b4;stroke:#1f77b4;\" x=\"131.022531\" xlink:href=\"#m157d22b7af\" y=\"74.848443\"/>\n     <use style=\"fill:#1f77b4;stroke:#1f77b4;\" x=\"127.740528\" xlink:href=\"#m157d22b7af\" y=\"76.89638\"/>\n     <use style=\"fill:#1f77b4;stroke:#1f77b4;\" x=\"97.991062\" xlink:href=\"#m157d22b7af\" y=\"57.418251\"/>\n     <use style=\"fill:#1f77b4;stroke:#1f77b4;\" x=\"139.61164\" xlink:href=\"#m157d22b7af\" y=\"81.154567\"/>\n     <use style=\"fill:#1f77b4;stroke:#1f77b4;\" x=\"97.208135\" xlink:href=\"#m157d22b7af\" y=\"69.930082\"/>\n     <use style=\"fill:#1f77b4;stroke:#1f77b4;\" x=\"202.516554\" xlink:href=\"#m157d22b7af\" y=\"118.310245\"/>\n     <use style=\"fill:#1f77b4;stroke:#1f77b4;\" x=\"96.528745\" xlink:href=\"#m157d22b7af\" y=\"49.257945\"/>\n     <use style=\"fill:#1f77b4;stroke:#1f77b4;\" x=\"91.372924\" xlink:href=\"#m157d22b7af\" y=\"52.604159\"/>\n     <use style=\"fill:#1f77b4;stroke:#1f77b4;\" x=\"137.763835\" xlink:href=\"#m157d22b7af\" y=\"80.246283\"/>\n     <use style=\"fill:#1f77b4;stroke:#1f77b4;\" x=\"148.762958\" xlink:href=\"#m157d22b7af\" y=\"76.858672\"/>\n     <use style=\"fill:#1f77b4;stroke:#1f77b4;\" x=\"127.471907\" xlink:href=\"#m157d22b7af\" y=\"65.937692\"/>\n     <use style=\"fill:#1f77b4;stroke:#1f77b4;\" x=\"150.418288\" xlink:href=\"#m157d22b7af\" y=\"89.997282\"/>\n     <use style=\"fill:#1f77b4;stroke:#1f77b4;\" x=\"136.159251\" xlink:href=\"#m157d22b7af\" y=\"63.31806\"/>\n     <use style=\"fill:#1f77b4;stroke:#1f77b4;\" x=\"109.239414\" xlink:href=\"#m157d22b7af\" y=\"60.581412\"/>\n     <use style=\"fill:#1f77b4;stroke:#1f77b4;\" x=\"72.017358\" xlink:href=\"#m157d22b7af\" y=\"31.124193\"/>\n     <use style=\"fill:#1f77b4;stroke:#1f77b4;\" x=\"158.660381\" xlink:href=\"#m157d22b7af\" y=\"86.654489\"/>\n     <use style=\"fill:#1f77b4;stroke:#1f77b4;\" x=\"150.047853\" xlink:href=\"#m157d22b7af\" y=\"82.553635\"/>\n     <use style=\"fill:#1f77b4;stroke:#1f77b4;\" x=\"221.727415\" xlink:href=\"#m157d22b7af\" y=\"133.920535\"/>\n     <use style=\"fill:#1f77b4;stroke:#1f77b4;\" x=\"174.09795\" xlink:href=\"#m157d22b7af\" y=\"112.374106\"/>\n     <use style=\"fill:#1f77b4;stroke:#1f77b4;\" x=\"124.992942\" xlink:href=\"#m157d22b7af\" y=\"86.101219\"/>\n     <use style=\"fill:#1f77b4;stroke:#1f77b4;\" x=\"132.697336\" xlink:href=\"#m157d22b7af\" y=\"83.795942\"/>\n     <use style=\"fill:#1f77b4;stroke:#1f77b4;\" x=\"133.663661\" xlink:href=\"#m157d22b7af\" y=\"75.085112\"/>\n     <use style=\"fill:#1f77b4;stroke:#1f77b4;\" x=\"109.541142\" xlink:href=\"#m157d22b7af\" y=\"67.204804\"/>\n     <use style=\"fill:#1f77b4;stroke:#1f77b4;\" x=\"114.62073\" xlink:href=\"#m157d22b7af\" y=\"60.618371\"/>\n     <use style=\"fill:#1f77b4;stroke:#1f77b4;\" x=\"99.151277\" xlink:href=\"#m157d22b7af\" y=\"57.546634\"/>\n     <use style=\"fill:#1f77b4;stroke:#1f77b4;\" x=\"115.17642\" xlink:href=\"#m157d22b7af\" y=\"71.950928\"/>\n     <use style=\"fill:#1f77b4;stroke:#1f77b4;\" x=\"120.711502\" xlink:href=\"#m157d22b7af\" y=\"70.901884\"/>\n     <use style=\"fill:#1f77b4;stroke:#1f77b4;\" x=\"161.77831\" xlink:href=\"#m157d22b7af\" y=\"84.42968\"/>\n     <use style=\"fill:#1f77b4;stroke:#1f77b4;\" x=\"155.198826\" xlink:href=\"#m157d22b7af\" y=\"57.984756\"/>\n     <use style=\"fill:#1f77b4;stroke:#1f77b4;\" x=\"148.559038\" xlink:href=\"#m157d22b7af\" y=\"92.796601\"/>\n     <use style=\"fill:#1f77b4;stroke:#1f77b4;\" x=\"102.350263\" xlink:href=\"#m157d22b7af\" y=\"48.665103\"/>\n     <use style=\"fill:#1f77b4;stroke:#1f77b4;\" x=\"103.561343\" xlink:href=\"#m157d22b7af\" y=\"66.788884\"/>\n     <use style=\"fill:#1f77b4;stroke:#1f77b4;\" x=\"135.271127\" xlink:href=\"#m157d22b7af\" y=\"89.206514\"/>\n     <use style=\"fill:#1f77b4;stroke:#1f77b4;\" x=\"117.848754\" xlink:href=\"#m157d22b7af\" y=\"45.535134\"/>\n     <use style=\"fill:#1f77b4;stroke:#1f77b4;\" x=\"154.331486\" xlink:href=\"#m157d22b7af\" y=\"84.778127\"/>\n     <use style=\"fill:#1f77b4;stroke:#1f77b4;\" x=\"124.006712\" xlink:href=\"#m157d22b7af\" y=\"70.833776\"/>\n     <use style=\"fill:#1f77b4;stroke:#1f77b4;\" x=\"129.286456\" xlink:href=\"#m157d22b7af\" y=\"78.189786\"/>\n     <use style=\"fill:#1f77b4;stroke:#1f77b4;\" x=\"127.701646\" xlink:href=\"#m157d22b7af\" y=\"70.498779\"/>\n     <use style=\"fill:#1f77b4;stroke:#1f77b4;\" x=\"143.870902\" xlink:href=\"#m157d22b7af\" y=\"88.665904\"/>\n     <use style=\"fill:#1f77b4;stroke:#1f77b4;\" x=\"118.141263\" xlink:href=\"#m157d22b7af\" y=\"50.677204\"/>\n     <use style=\"fill:#1f77b4;stroke:#1f77b4;\" x=\"150.184993\" xlink:href=\"#m157d22b7af\" y=\"91.135738\"/>\n     <use style=\"fill:#1f77b4;stroke:#1f77b4;\" x=\"170.346259\" xlink:href=\"#m157d22b7af\" y=\"95.401252\"/>\n     <use style=\"fill:#1f77b4;stroke:#1f77b4;\" x=\"142.440036\" xlink:href=\"#m157d22b7af\" y=\"72.988778\"/>\n     <use style=\"fill:#1f77b4;stroke:#1f77b4;\" x=\"131.476141\" xlink:href=\"#m157d22b7af\" y=\"73.009878\"/>\n     <use style=\"fill:#1f77b4;stroke:#1f77b4;\" x=\"97.674544\" xlink:href=\"#m157d22b7af\" y=\"55.354769\"/>\n     <use style=\"fill:#1f77b4;stroke:#1f77b4;\" x=\"145.376948\" xlink:href=\"#m157d22b7af\" y=\"75.977624\"/>\n     <use style=\"fill:#1f77b4;stroke:#1f77b4;\" x=\"143.856191\" xlink:href=\"#m157d22b7af\" y=\"84.001062\"/>\n     <use style=\"fill:#1f77b4;stroke:#1f77b4;\" x=\"124.321308\" xlink:href=\"#m157d22b7af\" y=\"64.247766\"/>\n     <use style=\"fill:#1f77b4;stroke:#1f77b4;\" x=\"120.350209\" xlink:href=\"#m157d22b7af\" y=\"64.353666\"/>\n     <use style=\"fill:#1f77b4;stroke:#1f77b4;\" x=\"115.110325\" xlink:href=\"#m157d22b7af\" y=\"70.519949\"/>\n     <use style=\"fill:#1f77b4;stroke:#1f77b4;\" x=\"136.005475\" xlink:href=\"#m157d22b7af\" y=\"70.543055\"/>\n     <use style=\"fill:#1f77b4;stroke:#1f77b4;\" x=\"115.28471\" xlink:href=\"#m157d22b7af\" y=\"65.064064\"/>\n     <use style=\"fill:#1f77b4;stroke:#1f77b4;\" x=\"121.963952\" xlink:href=\"#m157d22b7af\" y=\"66.52142\"/>\n     <use style=\"fill:#1f77b4;stroke:#1f77b4;\" x=\"135.741239\" xlink:href=\"#m157d22b7af\" y=\"91.353768\"/>\n     <use style=\"fill:#1f77b4;stroke:#1f77b4;\" x=\"106.717416\" xlink:href=\"#m157d22b7af\" y=\"55.722036\"/>\n     <use style=\"fill:#1f77b4;stroke:#1f77b4;\" x=\"107.029575\" xlink:href=\"#m157d22b7af\" y=\"67.605938\"/>\n     <use style=\"fill:#1f77b4;stroke:#1f77b4;\" x=\"167.194882\" xlink:href=\"#m157d22b7af\" y=\"99.871663\"/>\n     <use style=\"fill:#1f77b4;stroke:#1f77b4;\" x=\"105.245259\" xlink:href=\"#m157d22b7af\" y=\"52.923961\"/>\n     <use style=\"fill:#1f77b4;stroke:#1f77b4;\" x=\"144.061148\" xlink:href=\"#m157d22b7af\" y=\"82.219261\"/>\n     <use style=\"fill:#1f77b4;stroke:#1f77b4;\" x=\"116.83231\" xlink:href=\"#m157d22b7af\" y=\"72.779307\"/>\n     <use style=\"fill:#1f77b4;stroke:#1f77b4;\" x=\"134.947563\" xlink:href=\"#m157d22b7af\" y=\"66.869205\"/>\n     <use style=\"fill:#1f77b4;stroke:#1f77b4;\" x=\"132.070455\" xlink:href=\"#m157d22b7af\" y=\"80.314781\"/>\n     <use style=\"fill:#1f77b4;stroke:#1f77b4;\" x=\"122.51585\" xlink:href=\"#m157d22b7af\" y=\"60.35664\"/>\n     <use style=\"fill:#1f77b4;stroke:#1f77b4;\" x=\"118.739496\" xlink:href=\"#m157d22b7af\" y=\"60.331924\"/>\n     <use style=\"fill:#1f77b4;stroke:#1f77b4;\" x=\"101.770284\" xlink:href=\"#m157d22b7af\" y=\"54.52732\"/>\n     <use style=\"fill:#1f77b4;stroke:#1f77b4;\" x=\"144.023474\" xlink:href=\"#m157d22b7af\" y=\"77.680844\"/>\n     <use style=\"fill:#1f77b4;stroke:#1f77b4;\" x=\"126.686571\" xlink:href=\"#m157d22b7af\" y=\"84.38032\"/>\n     <use style=\"fill:#1f77b4;stroke:#1f77b4;\" x=\"167.852824\" xlink:href=\"#m157d22b7af\" y=\"69.480184\"/>\n     <use style=\"fill:#1f77b4;stroke:#1f77b4;\" x=\"124.422145\" xlink:href=\"#m157d22b7af\" y=\"67.988176\"/>\n     <use style=\"fill:#1f77b4;stroke:#1f77b4;\" x=\"197.830862\" xlink:href=\"#m157d22b7af\" y=\"113.854522\"/>\n     <use style=\"fill:#1f77b4;stroke:#1f77b4;\" x=\"125.786277\" xlink:href=\"#m157d22b7af\" y=\"76.480126\"/>\n     <use style=\"fill:#1f77b4;stroke:#1f77b4;\" x=\"137.014257\" xlink:href=\"#m157d22b7af\" y=\"89.835543\"/>\n     <use style=\"fill:#1f77b4;stroke:#1f77b4;\" x=\"79.93255\" xlink:href=\"#m157d22b7af\" y=\"29.259564\"/>\n     <use style=\"fill:#1f77b4;stroke:#1f77b4;\" x=\"126.584561\" xlink:href=\"#m157d22b7af\" y=\"61.139547\"/>\n     <use style=\"fill:#1f77b4;stroke:#1f77b4;\" x=\"93.741287\" xlink:href=\"#m157d22b7af\" y=\"35.402666\"/>\n     <use style=\"fill:#1f77b4;stroke:#1f77b4;\" x=\"136.357975\" xlink:href=\"#m157d22b7af\" y=\"87.67892\"/>\n     <use style=\"fill:#1f77b4;stroke:#1f77b4;\" x=\"108.858791\" xlink:href=\"#m157d22b7af\" y=\"45.214091\"/>\n     <use style=\"fill:#1f77b4;stroke:#1f77b4;\" x=\"83.867083\" xlink:href=\"#m157d22b7af\" y=\"45.917135\"/>\n     <use style=\"fill:#1f77b4;stroke:#1f77b4;\" x=\"118.408835\" xlink:href=\"#m157d22b7af\" y=\"60.546553\"/>\n     <use style=\"fill:#1f77b4;stroke:#1f77b4;\" x=\"138.642707\" xlink:href=\"#m157d22b7af\" y=\"62.347054\"/>\n     <use style=\"fill:#1f77b4;stroke:#1f77b4;\" x=\"148.815039\" xlink:href=\"#m157d22b7af\" y=\"96.49213\"/>\n     <use style=\"fill:#1f77b4;stroke:#1f77b4;\" x=\"134.802918\" xlink:href=\"#m157d22b7af\" y=\"82.642144\"/>\n     <use style=\"fill:#1f77b4;stroke:#1f77b4;\" x=\"146.506674\" xlink:href=\"#m157d22b7af\" y=\"115.862295\"/>\n     <use style=\"fill:#1f77b4;stroke:#1f77b4;\" x=\"194.394511\" xlink:href=\"#m157d22b7af\" y=\"106.41556\"/>\n     <use style=\"fill:#1f77b4;stroke:#1f77b4;\" x=\"128.327546\" xlink:href=\"#m157d22b7af\" y=\"54.172126\"/>\n     <use style=\"fill:#1f77b4;stroke:#1f77b4;\" x=\"149.247126\" xlink:href=\"#m157d22b7af\" y=\"94.278754\"/>\n     <use style=\"fill:#1f77b4;stroke:#1f77b4;\" x=\"127.828581\" xlink:href=\"#m157d22b7af\" y=\"70.007171\"/>\n     <use style=\"fill:#1f77b4;stroke:#1f77b4;\" x=\"122.027349\" xlink:href=\"#m157d22b7af\" y=\"70.668464\"/>\n     <use style=\"fill:#1f77b4;stroke:#1f77b4;\" x=\"123.743169\" xlink:href=\"#m157d22b7af\" y=\"55.220552\"/>\n     <use style=\"fill:#1f77b4;stroke:#1f77b4;\" x=\"107.309871\" xlink:href=\"#m157d22b7af\" y=\"66.375036\"/>\n     <use style=\"fill:#1f77b4;stroke:#1f77b4;\" x=\"127.77642\" xlink:href=\"#m157d22b7af\" y=\"74.35962\"/>\n     <use style=\"fill:#1f77b4;stroke:#1f77b4;\" x=\"109.05409\" xlink:href=\"#m157d22b7af\" y=\"73.982313\"/>\n     <use style=\"fill:#1f77b4;stroke:#1f77b4;\" x=\"113.818499\" xlink:href=\"#m157d22b7af\" y=\"74.960202\"/>\n     <use style=\"fill:#1f77b4;stroke:#1f77b4;\" x=\"161.619495\" xlink:href=\"#m157d22b7af\" y=\"82.570106\"/>\n     <use style=\"fill:#1f77b4;stroke:#1f77b4;\" x=\"95.673388\" xlink:href=\"#m157d22b7af\" y=\"55.360288\"/>\n     <use style=\"fill:#1f77b4;stroke:#1f77b4;\" x=\"164.475537\" xlink:href=\"#m157d22b7af\" y=\"70.458286\"/>\n     <use style=\"fill:#1f77b4;stroke:#1f77b4;\" x=\"113.885692\" xlink:href=\"#m157d22b7af\" y=\"69.927357\"/>\n     <use style=\"fill:#1f77b4;stroke:#1f77b4;\" x=\"96.434739\" xlink:href=\"#m157d22b7af\" y=\"64.77265\"/>\n     <use style=\"fill:#1f77b4;stroke:#1f77b4;\" x=\"91.503693\" xlink:href=\"#m157d22b7af\" y=\"53.509266\"/>\n     <use style=\"fill:#1f77b4;stroke:#1f77b4;\" x=\"116.735923\" xlink:href=\"#m157d22b7af\" y=\"71.735325\"/>\n     <use style=\"fill:#1f77b4;stroke:#1f77b4;\" x=\"164.016324\" xlink:href=\"#m157d22b7af\" y=\"91.107718\"/>\n     <use style=\"fill:#1f77b4;stroke:#1f77b4;\" x=\"111.73515\" xlink:href=\"#m157d22b7af\" y=\"53.459035\"/>\n     <use style=\"fill:#1f77b4;stroke:#1f77b4;\" x=\"146.9481\" xlink:href=\"#m157d22b7af\" y=\"83.672939\"/>\n     <use style=\"fill:#1f77b4;stroke:#1f77b4;\" x=\"144.00604\" xlink:href=\"#m157d22b7af\" y=\"100.906195\"/>\n     <use style=\"fill:#1f77b4;stroke:#1f77b4;\" x=\"139.647942\" xlink:href=\"#m157d22b7af\" y=\"73.14745\"/>\n     <use style=\"fill:#1f77b4;stroke:#1f77b4;\" x=\"168.613957\" xlink:href=\"#m157d22b7af\" y=\"101.656557\"/>\n     <use style=\"fill:#1f77b4;stroke:#1f77b4;\" x=\"90.540316\" xlink:href=\"#m157d22b7af\" y=\"54.597421\"/>\n     <use style=\"fill:#1f77b4;stroke:#1f77b4;\" x=\"133.44348\" xlink:href=\"#m157d22b7af\" y=\"78.567617\"/>\n     <use style=\"fill:#1f77b4;stroke:#1f77b4;\" x=\"130.864971\" xlink:href=\"#m157d22b7af\" y=\"79.817917\"/>\n     <use style=\"fill:#1f77b4;stroke:#1f77b4;\" x=\"141.86627\" xlink:href=\"#m157d22b7af\" y=\"85.755205\"/>\n     <use style=\"fill:#1f77b4;stroke:#1f77b4;\" x=\"114.703816\" xlink:href=\"#m157d22b7af\" y=\"39.897768\"/>\n     <use style=\"fill:#1f77b4;stroke:#1f77b4;\" x=\"129.903233\" xlink:href=\"#m157d22b7af\" y=\"65.511384\"/>\n     <use style=\"fill:#1f77b4;stroke:#1f77b4;\" x=\"143.202632\" xlink:href=\"#m157d22b7af\" y=\"82.515553\"/>\n     <use style=\"fill:#1f77b4;stroke:#1f77b4;\" x=\"95.817698\" xlink:href=\"#m157d22b7af\" y=\"60.275451\"/>\n     <use style=\"fill:#1f77b4;stroke:#1f77b4;\" x=\"117.761611\" xlink:href=\"#m157d22b7af\" y=\"67.055215\"/>\n     <use style=\"fill:#1f77b4;stroke:#1f77b4;\" x=\"145.735179\" xlink:href=\"#m157d22b7af\" y=\"80.261203\"/>\n     <use style=\"fill:#1f77b4;stroke:#1f77b4;\" x=\"120.870821\" xlink:href=\"#m157d22b7af\" y=\"73.464799\"/>\n     <use style=\"fill:#1f77b4;stroke:#1f77b4;\" x=\"125.615332\" xlink:href=\"#m157d22b7af\" y=\"66.201054\"/>\n     <use style=\"fill:#1f77b4;stroke:#1f77b4;\" x=\"154.071693\" xlink:href=\"#m157d22b7af\" y=\"94.445992\"/>\n     <use style=\"fill:#1f77b4;stroke:#1f77b4;\" x=\"132.20658\" xlink:href=\"#m157d22b7af\" y=\"75.338024\"/>\n     <use style=\"fill:#1f77b4;stroke:#1f77b4;\" x=\"76.367836\" xlink:href=\"#m157d22b7af\" y=\"47.786661\"/>\n     <use style=\"fill:#1f77b4;stroke:#1f77b4;\" x=\"135.599081\" xlink:href=\"#m157d22b7af\" y=\"54.878548\"/>\n     <use style=\"fill:#1f77b4;stroke:#1f77b4;\" x=\"176.706753\" xlink:href=\"#m157d22b7af\" y=\"91.986897\"/>\n     <use style=\"fill:#1f77b4;stroke:#1f77b4;\" x=\"199.293301\" xlink:href=\"#m157d22b7af\" y=\"119.078244\"/>\n     <use style=\"fill:#1f77b4;stroke:#1f77b4;\" x=\"138.722177\" xlink:href=\"#m157d22b7af\" y=\"80.336491\"/>\n     <use style=\"fill:#1f77b4;stroke:#1f77b4;\" x=\"125.266175\" xlink:href=\"#m157d22b7af\" y=\"58.308559\"/>\n     <use style=\"fill:#1f77b4;stroke:#1f77b4;\" x=\"197.694937\" xlink:href=\"#m157d22b7af\" y=\"112.430258\"/>\n     <use style=\"fill:#1f77b4;stroke:#1f77b4;\" x=\"109.510538\" xlink:href=\"#m157d22b7af\" y=\"76.54575\"/>\n     <use style=\"fill:#1f77b4;stroke:#1f77b4;\" x=\"127.518711\" xlink:href=\"#m157d22b7af\" y=\"63.181136\"/>\n     <use style=\"fill:#1f77b4;stroke:#1f77b4;\" x=\"140.626002\" xlink:href=\"#m157d22b7af\" y=\"74.169508\"/>\n     <use style=\"fill:#1f77b4;stroke:#1f77b4;\" x=\"133.11913\" xlink:href=\"#m157d22b7af\" y=\"74.871104\"/>\n     <use style=\"fill:#1f77b4;stroke:#1f77b4;\" x=\"125.514593\" xlink:href=\"#m157d22b7af\" y=\"63.018664\"/>\n     <use style=\"fill:#1f77b4;stroke:#1f77b4;\" x=\"114.615637\" xlink:href=\"#m157d22b7af\" y=\"69.299557\"/>\n     <use style=\"fill:#1f77b4;stroke:#1f77b4;\" x=\"127.505364\" xlink:href=\"#m157d22b7af\" y=\"82.331415\"/>\n     <use style=\"fill:#1f77b4;stroke:#1f77b4;\" x=\"163.332435\" xlink:href=\"#m157d22b7af\" y=\"108.389567\"/>\n     <use style=\"fill:#1f77b4;stroke:#1f77b4;\" x=\"130.835283\" xlink:href=\"#m157d22b7af\" y=\"73.33647\"/>\n     <use style=\"fill:#1f77b4;stroke:#1f77b4;\" x=\"104.732487\" xlink:href=\"#m157d22b7af\" y=\"51.599058\"/>\n     <use style=\"fill:#1f77b4;stroke:#1f77b4;\" x=\"146.392832\" xlink:href=\"#m157d22b7af\" y=\"79.148847\"/>\n     <use style=\"fill:#1f77b4;stroke:#1f77b4;\" x=\"119.983411\" xlink:href=\"#m157d22b7af\" y=\"64.264042\"/>\n     <use style=\"fill:#1f77b4;stroke:#1f77b4;\" x=\"136.916347\" xlink:href=\"#m157d22b7af\" y=\"50.872965\"/>\n     <use style=\"fill:#1f77b4;stroke:#1f77b4;\" x=\"105.108772\" xlink:href=\"#m157d22b7af\" y=\"43.892924\"/>\n     <use style=\"fill:#1f77b4;stroke:#1f77b4;\" x=\"170.192292\" xlink:href=\"#m157d22b7af\" y=\"98.88545\"/>\n     <use style=\"fill:#1f77b4;stroke:#1f77b4;\" x=\"133.094776\" xlink:href=\"#m157d22b7af\" y=\"86.258807\"/>\n     <use style=\"fill:#1f77b4;stroke:#1f77b4;\" x=\"115.397523\" xlink:href=\"#m157d22b7af\" y=\"53.680792\"/>\n     <use style=\"fill:#1f77b4;stroke:#1f77b4;\" x=\"129.21903\" xlink:href=\"#m157d22b7af\" y=\"96.986583\"/>\n     <use style=\"fill:#1f77b4;stroke:#1f77b4;\" x=\"140.812075\" xlink:href=\"#m157d22b7af\" y=\"79.104177\"/>\n     <use style=\"fill:#1f77b4;stroke:#1f77b4;\" x=\"130.539488\" xlink:href=\"#m157d22b7af\" y=\"59.028523\"/>\n     <use style=\"fill:#1f77b4;stroke:#1f77b4;\" x=\"144.958449\" xlink:href=\"#m157d22b7af\" y=\"92.169536\"/>\n     <use style=\"fill:#1f77b4;stroke:#1f77b4;\" x=\"139.880387\" xlink:href=\"#m157d22b7af\" y=\"73.655276\"/>\n     <use style=\"fill:#1f77b4;stroke:#1f77b4;\" x=\"108.894948\" xlink:href=\"#m157d22b7af\" y=\"50.166693\"/>\n     <use style=\"fill:#1f77b4;stroke:#1f77b4;\" x=\"164.404672\" xlink:href=\"#m157d22b7af\" y=\"111.436742\"/>\n     <use style=\"fill:#1f77b4;stroke:#1f77b4;\" x=\"136.209672\" xlink:href=\"#m157d22b7af\" y=\"77.154157\"/>\n     <use style=\"fill:#1f77b4;stroke:#1f77b4;\" x=\"154.318897\" xlink:href=\"#m157d22b7af\" y=\"98.569862\"/>\n     <use style=\"fill:#1f77b4;stroke:#1f77b4;\" x=\"93.65906\" xlink:href=\"#m157d22b7af\" y=\"42.579388\"/>\n     <use style=\"fill:#1f77b4;stroke:#1f77b4;\" x=\"113.436036\" xlink:href=\"#m157d22b7af\" y=\"49.53622\"/>\n     <use style=\"fill:#1f77b4;stroke:#1f77b4;\" x=\"138.613798\" xlink:href=\"#m157d22b7af\" y=\"84.084071\"/>\n     <use style=\"fill:#1f77b4;stroke:#1f77b4;\" x=\"108.772022\" xlink:href=\"#m157d22b7af\" y=\"51.218133\"/>\n     <use style=\"fill:#1f77b4;stroke:#1f77b4;\" x=\"121.786089\" xlink:href=\"#m157d22b7af\" y=\"62.675864\"/>\n     <use style=\"fill:#1f77b4;stroke:#1f77b4;\" x=\"116.119038\" xlink:href=\"#m157d22b7af\" y=\"79.773011\"/>\n     <use style=\"fill:#1f77b4;stroke:#1f77b4;\" x=\"117.461966\" xlink:href=\"#m157d22b7af\" y=\"46.13596\"/>\n     <use style=\"fill:#1f77b4;stroke:#1f77b4;\" x=\"136.676151\" xlink:href=\"#m157d22b7af\" y=\"69.087004\"/>\n     <use style=\"fill:#1f77b4;stroke:#1f77b4;\" x=\"122.680099\" xlink:href=\"#m157d22b7af\" y=\"55.098285\"/>\n     <use style=\"fill:#1f77b4;stroke:#1f77b4;\" x=\"119.908994\" xlink:href=\"#m157d22b7af\" y=\"68.955888\"/>\n     <use style=\"fill:#1f77b4;stroke:#1f77b4;\" x=\"137.137132\" xlink:href=\"#m157d22b7af\" y=\"76.91947\"/>\n     <use style=\"fill:#1f77b4;stroke:#1f77b4;\" x=\"165.099073\" xlink:href=\"#m157d22b7af\" y=\"91.723312\"/>\n     <use style=\"fill:#1f77b4;stroke:#1f77b4;\" x=\"130.177484\" xlink:href=\"#m157d22b7af\" y=\"85.118187\"/>\n     <use style=\"fill:#1f77b4;stroke:#1f77b4;\" x=\"112.193291\" xlink:href=\"#m157d22b7af\" y=\"59.642715\"/>\n     <use style=\"fill:#1f77b4;stroke:#1f77b4;\" x=\"115.62077\" xlink:href=\"#m157d22b7af\" y=\"68.244942\"/>\n     <use style=\"fill:#1f77b4;stroke:#1f77b4;\" x=\"136.785721\" xlink:href=\"#m157d22b7af\" y=\"79.373141\"/>\n     <use style=\"fill:#1f77b4;stroke:#1f77b4;\" x=\"141.41156\" xlink:href=\"#m157d22b7af\" y=\"69.651058\"/>\n     <use style=\"fill:#1f77b4;stroke:#1f77b4;\" x=\"186.225605\" xlink:href=\"#m157d22b7af\" y=\"110.84933\"/>\n     <use style=\"fill:#1f77b4;stroke:#1f77b4;\" x=\"145.703423\" xlink:href=\"#m157d22b7af\" y=\"87.183403\"/>\n     <use style=\"fill:#1f77b4;stroke:#1f77b4;\" x=\"112.758562\" xlink:href=\"#m157d22b7af\" y=\"65.257851\"/>\n     <use style=\"fill:#1f77b4;stroke:#1f77b4;\" x=\"85.281986\" xlink:href=\"#m157d22b7af\" y=\"49.110929\"/>\n     <use style=\"fill:#1f77b4;stroke:#1f77b4;\" x=\"112.19018\" xlink:href=\"#m157d22b7af\" y=\"54.304362\"/>\n     <use style=\"fill:#1f77b4;stroke:#1f77b4;\" x=\"151.744296\" xlink:href=\"#m157d22b7af\" y=\"97.037975\"/>\n     <use style=\"fill:#1f77b4;stroke:#1f77b4;\" x=\"114.716963\" xlink:href=\"#m157d22b7af\" y=\"65.43146\"/>\n     <use style=\"fill:#1f77b4;stroke:#1f77b4;\" x=\"152.327004\" xlink:href=\"#m157d22b7af\" y=\"92.001261\"/>\n     <use style=\"fill:#1f77b4;stroke:#1f77b4;\" x=\"186.424606\" xlink:href=\"#m157d22b7af\" y=\"92.296524\"/>\n     <use style=\"fill:#1f77b4;stroke:#1f77b4;\" x=\"145.185296\" xlink:href=\"#m157d22b7af\" y=\"95.829952\"/>\n     <use style=\"fill:#1f77b4;stroke:#1f77b4;\" x=\"126.786441\" xlink:href=\"#m157d22b7af\" y=\"66.747779\"/>\n     <use style=\"fill:#1f77b4;stroke:#1f77b4;\" x=\"107.603661\" xlink:href=\"#m157d22b7af\" y=\"76.841408\"/>\n     <use style=\"fill:#1f77b4;stroke:#1f77b4;\" x=\"163.803603\" xlink:href=\"#m157d22b7af\" y=\"115.241431\"/>\n     <use style=\"fill:#1f77b4;stroke:#1f77b4;\" x=\"80.515016\" xlink:href=\"#m157d22b7af\" y=\"56.744942\"/>\n     <use style=\"fill:#1f77b4;stroke:#1f77b4;\" x=\"135.540714\" xlink:href=\"#m157d22b7af\" y=\"81.591316\"/>\n     <use style=\"fill:#1f77b4;stroke:#1f77b4;\" x=\"115.143229\" xlink:href=\"#m157d22b7af\" y=\"62.424241\"/>\n     <use style=\"fill:#1f77b4;stroke:#1f77b4;\" x=\"133.652691\" xlink:href=\"#m157d22b7af\" y=\"79.886357\"/>\n     <use style=\"fill:#1f77b4;stroke:#1f77b4;\" x=\"95.365787\" xlink:href=\"#m157d22b7af\" y=\"37.810729\"/>\n     <use style=\"fill:#1f77b4;stroke:#1f77b4;\" x=\"171.904912\" xlink:href=\"#m157d22b7af\" y=\"107.267579\"/>\n     <use style=\"fill:#1f77b4;stroke:#1f77b4;\" x=\"46.525697\" xlink:href=\"#m157d22b7af\" y=\"43.718432\"/>\n     <use style=\"fill:#1f77b4;stroke:#1f77b4;\" x=\"125.191435\" xlink:href=\"#m157d22b7af\" y=\"87.350729\"/>\n     <use style=\"fill:#1f77b4;stroke:#1f77b4;\" x=\"162.641213\" xlink:href=\"#m157d22b7af\" y=\"99.158731\"/>\n     <use style=\"fill:#1f77b4;stroke:#1f77b4;\" x=\"126.562655\" xlink:href=\"#m157d22b7af\" y=\"63.801975\"/>\n     <use style=\"fill:#1f77b4;stroke:#1f77b4;\" x=\"119.501048\" xlink:href=\"#m157d22b7af\" y=\"72.407443\"/>\n     <use style=\"fill:#1f77b4;stroke:#1f77b4;\" x=\"108.953293\" xlink:href=\"#m157d22b7af\" y=\"65.138255\"/>\n     <use style=\"fill:#1f77b4;stroke:#1f77b4;\" x=\"85.905224\" xlink:href=\"#m157d22b7af\" y=\"63.164218\"/>\n     <use style=\"fill:#1f77b4;stroke:#1f77b4;\" x=\"110.192459\" xlink:href=\"#m157d22b7af\" y=\"61.645603\"/>\n     <use style=\"fill:#1f77b4;stroke:#1f77b4;\" x=\"142.25754\" xlink:href=\"#m157d22b7af\" y=\"72.181367\"/>\n     <use style=\"fill:#1f77b4;stroke:#1f77b4;\" x=\"114.942279\" xlink:href=\"#m157d22b7af\" y=\"68.272903\"/>\n     <use style=\"fill:#1f77b4;stroke:#1f77b4;\" x=\"125.813433\" xlink:href=\"#m157d22b7af\" y=\"69.217551\"/>\n     <use style=\"fill:#1f77b4;stroke:#1f77b4;\" x=\"83.828005\" xlink:href=\"#m157d22b7af\" y=\"34.654326\"/>\n     <use style=\"fill:#1f77b4;stroke:#1f77b4;\" x=\"128.332153\" xlink:href=\"#m157d22b7af\" y=\"61.444051\"/>\n     <use style=\"fill:#1f77b4;stroke:#1f77b4;\" x=\"137.072722\" xlink:href=\"#m157d22b7af\" y=\"76.257364\"/>\n     <use style=\"fill:#1f77b4;stroke:#1f77b4;\" x=\"155.003071\" xlink:href=\"#m157d22b7af\" y=\"96.810998\"/>\n     <use style=\"fill:#1f77b4;stroke:#1f77b4;\" x=\"108.475639\" xlink:href=\"#m157d22b7af\" y=\"54.121945\"/>\n     <use style=\"fill:#1f77b4;stroke:#1f77b4;\" x=\"139.460677\" xlink:href=\"#m157d22b7af\" y=\"94.688381\"/>\n     <use style=\"fill:#1f77b4;stroke:#1f77b4;\" x=\"68.450805\" xlink:href=\"#m157d22b7af\" y=\"22.642614\"/>\n     <use style=\"fill:#1f77b4;stroke:#1f77b4;\" x=\"85.663198\" xlink:href=\"#m157d22b7af\" y=\"51.385525\"/>\n     <use style=\"fill:#1f77b4;stroke:#1f77b4;\" x=\"137.161002\" xlink:href=\"#m157d22b7af\" y=\"76.824822\"/>\n     <use style=\"fill:#1f77b4;stroke:#1f77b4;\" x=\"101.295313\" xlink:href=\"#m157d22b7af\" y=\"59.587976\"/>\n     <use style=\"fill:#1f77b4;stroke:#1f77b4;\" x=\"198.239668\" xlink:href=\"#m157d22b7af\" y=\"108.906449\"/>\n     <use style=\"fill:#1f77b4;stroke:#1f77b4;\" x=\"102.917634\" xlink:href=\"#m157d22b7af\" y=\"52.820226\"/>\n     <use style=\"fill:#1f77b4;stroke:#1f77b4;\" x=\"128.722738\" xlink:href=\"#m157d22b7af\" y=\"75.987442\"/>\n     <use style=\"fill:#1f77b4;stroke:#1f77b4;\" x=\"137.318247\" xlink:href=\"#m157d22b7af\" y=\"65.507719\"/>\n     <use style=\"fill:#1f77b4;stroke:#1f77b4;\" x=\"91.331341\" xlink:href=\"#m157d22b7af\" y=\"28.835425\"/>\n     <use style=\"fill:#1f77b4;stroke:#1f77b4;\" x=\"134.98047\" xlink:href=\"#m157d22b7af\" y=\"57.492563\"/>\n     <use style=\"fill:#1f77b4;stroke:#1f77b4;\" x=\"98.51745\" xlink:href=\"#m157d22b7af\" y=\"38.629237\"/>\n     <use style=\"fill:#1f77b4;stroke:#1f77b4;\" x=\"98.207632\" xlink:href=\"#m157d22b7af\" y=\"54.316895\"/>\n     <use style=\"fill:#1f77b4;stroke:#1f77b4;\" x=\"121.104262\" xlink:href=\"#m157d22b7af\" y=\"62.959921\"/>\n     <use style=\"fill:#1f77b4;stroke:#1f77b4;\" x=\"127.173706\" xlink:href=\"#m157d22b7af\" y=\"70.932011\"/>\n     <use style=\"fill:#1f77b4;stroke:#1f77b4;\" x=\"155.559522\" xlink:href=\"#m157d22b7af\" y=\"113.38589\"/>\n     <use style=\"fill:#1f77b4;stroke:#1f77b4;\" x=\"164.303406\" xlink:href=\"#m157d22b7af\" y=\"89.376108\"/>\n     <use style=\"fill:#1f77b4;stroke:#1f77b4;\" x=\"83.262948\" xlink:href=\"#m157d22b7af\" y=\"44.833256\"/>\n     <use style=\"fill:#1f77b4;stroke:#1f77b4;\" x=\"92.270104\" xlink:href=\"#m157d22b7af\" y=\"55.664843\"/>\n     <use style=\"fill:#1f77b4;stroke:#1f77b4;\" x=\"108.335872\" xlink:href=\"#m157d22b7af\" y=\"57.349807\"/>\n     <use style=\"fill:#1f77b4;stroke:#1f77b4;\" x=\"124.004483\" xlink:href=\"#m157d22b7af\" y=\"76.106706\"/>\n     <use style=\"fill:#1f77b4;stroke:#1f77b4;\" x=\"114.70125\" xlink:href=\"#m157d22b7af\" y=\"61.218003\"/>\n     <use style=\"fill:#1f77b4;stroke:#1f77b4;\" x=\"135.180891\" xlink:href=\"#m157d22b7af\" y=\"74.568463\"/>\n     <use style=\"fill:#1f77b4;stroke:#1f77b4;\" x=\"95.248078\" xlink:href=\"#m157d22b7af\" y=\"51.096226\"/>\n     <use style=\"fill:#1f77b4;stroke:#1f77b4;\" x=\"110.320146\" xlink:href=\"#m157d22b7af\" y=\"70.354637\"/>\n     <use style=\"fill:#1f77b4;stroke:#1f77b4;\" x=\"117.086997\" xlink:href=\"#m157d22b7af\" y=\"62.999945\"/>\n     <use style=\"fill:#1f77b4;stroke:#1f77b4;\" x=\"117.390523\" xlink:href=\"#m157d22b7af\" y=\"72.925957\"/>\n     <use style=\"fill:#1f77b4;stroke:#1f77b4;\" x=\"147.903723\" xlink:href=\"#m157d22b7af\" y=\"68.650404\"/>\n     <use style=\"fill:#1f77b4;stroke:#1f77b4;\" x=\"133.83858\" xlink:href=\"#m157d22b7af\" y=\"66.375031\"/>\n     <use style=\"fill:#1f77b4;stroke:#1f77b4;\" x=\"188.009494\" xlink:href=\"#m157d22b7af\" y=\"104.181052\"/>\n     <use style=\"fill:#1f77b4;stroke:#1f77b4;\" x=\"107.013236\" xlink:href=\"#m157d22b7af\" y=\"70.915773\"/>\n     <use style=\"fill:#1f77b4;stroke:#1f77b4;\" x=\"138.270526\" xlink:href=\"#m157d22b7af\" y=\"81.90996\"/>\n     <use style=\"fill:#1f77b4;stroke:#1f77b4;\" x=\"142.126512\" xlink:href=\"#m157d22b7af\" y=\"97.18872\"/>\n     <use style=\"fill:#1f77b4;stroke:#1f77b4;\" x=\"149.497601\" xlink:href=\"#m157d22b7af\" y=\"71.726265\"/>\n     <use style=\"fill:#1f77b4;stroke:#1f77b4;\" x=\"153.577934\" xlink:href=\"#m157d22b7af\" y=\"93.046377\"/>\n     <use style=\"fill:#1f77b4;stroke:#1f77b4;\" x=\"130.162104\" xlink:href=\"#m157d22b7af\" y=\"62.862487\"/>\n     <use style=\"fill:#1f77b4;stroke:#1f77b4;\" x=\"135.022742\" xlink:href=\"#m157d22b7af\" y=\"60.127491\"/>\n     <use style=\"fill:#1f77b4;stroke:#1f77b4;\" x=\"110.640398\" xlink:href=\"#m157d22b7af\" y=\"79.400237\"/>\n     <use style=\"fill:#1f77b4;stroke:#1f77b4;\" x=\"98.892388\" xlink:href=\"#m157d22b7af\" y=\"61.168767\"/>\n     <use style=\"fill:#1f77b4;stroke:#1f77b4;\" x=\"147.659172\" xlink:href=\"#m157d22b7af\" y=\"92.516362\"/>\n     <use style=\"fill:#1f77b4;stroke:#1f77b4;\" x=\"152.84888\" xlink:href=\"#m157d22b7af\" y=\"94.752095\"/>\n     <use style=\"fill:#1f77b4;stroke:#1f77b4;\" x=\"170.338592\" xlink:href=\"#m157d22b7af\" y=\"101.800389\"/>\n     <use style=\"fill:#1f77b4;stroke:#1f77b4;\" x=\"123.901137\" xlink:href=\"#m157d22b7af\" y=\"66.98472\"/>\n     <use style=\"fill:#1f77b4;stroke:#1f77b4;\" x=\"117.003288\" xlink:href=\"#m157d22b7af\" y=\"57.455873\"/>\n     <use style=\"fill:#1f77b4;stroke:#1f77b4;\" x=\"158.998238\" xlink:href=\"#m157d22b7af\" y=\"94.677115\"/>\n     <use style=\"fill:#1f77b4;stroke:#1f77b4;\" x=\"133.597738\" xlink:href=\"#m157d22b7af\" y=\"77.685811\"/>\n     <use style=\"fill:#1f77b4;stroke:#1f77b4;\" x=\"114.803999\" xlink:href=\"#m157d22b7af\" y=\"64.919388\"/>\n     <use style=\"fill:#1f77b4;stroke:#1f77b4;\" x=\"73.43975\" xlink:href=\"#m157d22b7af\" y=\"34.444486\"/>\n     <use style=\"fill:#1f77b4;stroke:#1f77b4;\" x=\"139.718564\" xlink:href=\"#m157d22b7af\" y=\"63.551562\"/>\n     <use style=\"fill:#1f77b4;stroke:#1f77b4;\" x=\"96.173954\" xlink:href=\"#m157d22b7af\" y=\"66.804776\"/>\n     <use style=\"fill:#1f77b4;stroke:#1f77b4;\" x=\"110.672375\" xlink:href=\"#m157d22b7af\" y=\"70.548452\"/>\n     <use style=\"fill:#1f77b4;stroke:#1f77b4;\" x=\"91.931112\" xlink:href=\"#m157d22b7af\" y=\"65.044198\"/>\n     <use style=\"fill:#1f77b4;stroke:#1f77b4;\" x=\"124.494099\" xlink:href=\"#m157d22b7af\" y=\"52.193479\"/>\n     <use style=\"fill:#1f77b4;stroke:#1f77b4;\" x=\"97.833167\" xlink:href=\"#m157d22b7af\" y=\"63.204235\"/>\n     <use style=\"fill:#1f77b4;stroke:#1f77b4;\" x=\"169.979129\" xlink:href=\"#m157d22b7af\" y=\"77.339108\"/>\n     <use style=\"fill:#1f77b4;stroke:#1f77b4;\" x=\"109.509725\" xlink:href=\"#m157d22b7af\" y=\"55.647539\"/>\n     <use style=\"fill:#1f77b4;stroke:#1f77b4;\" x=\"76.748109\" xlink:href=\"#m157d22b7af\" y=\"50.453878\"/>\n     <use style=\"fill:#1f77b4;stroke:#1f77b4;\" x=\"138.421393\" xlink:href=\"#m157d22b7af\" y=\"74.813044\"/>\n     <use style=\"fill:#1f77b4;stroke:#1f77b4;\" x=\"106.152396\" xlink:href=\"#m157d22b7af\" y=\"55.406219\"/>\n     <use style=\"fill:#1f77b4;stroke:#1f77b4;\" x=\"194.405975\" xlink:href=\"#m157d22b7af\" y=\"102.15153\"/>\n     <use style=\"fill:#1f77b4;stroke:#1f77b4;\" x=\"151.247733\" xlink:href=\"#m157d22b7af\" y=\"84.897107\"/>\n     <use style=\"fill:#1f77b4;stroke:#1f77b4;\" x=\"86.642599\" xlink:href=\"#m157d22b7af\" y=\"54.991304\"/>\n     <use style=\"fill:#1f77b4;stroke:#1f77b4;\" x=\"155.937236\" xlink:href=\"#m157d22b7af\" y=\"88.14025\"/>\n     <use style=\"fill:#1f77b4;stroke:#1f77b4;\" x=\"179.577232\" xlink:href=\"#m157d22b7af\" y=\"109.204254\"/>\n     <use style=\"fill:#1f77b4;stroke:#1f77b4;\" x=\"151.247047\" xlink:href=\"#m157d22b7af\" y=\"100.473029\"/>\n     <use style=\"fill:#1f77b4;stroke:#1f77b4;\" x=\"108.324912\" xlink:href=\"#m157d22b7af\" y=\"68.643191\"/>\n     <use style=\"fill:#1f77b4;stroke:#1f77b4;\" x=\"127.183565\" xlink:href=\"#m157d22b7af\" y=\"90.327545\"/>\n     <use style=\"fill:#1f77b4;stroke:#1f77b4;\" x=\"118.532178\" xlink:href=\"#m157d22b7af\" y=\"67.403814\"/>\n     <use style=\"fill:#1f77b4;stroke:#1f77b4;\" x=\"147.760579\" xlink:href=\"#m157d22b7af\" y=\"67.870604\"/>\n     <use style=\"fill:#1f77b4;stroke:#1f77b4;\" x=\"113.594975\" xlink:href=\"#m157d22b7af\" y=\"48.194136\"/>\n     <use style=\"fill:#1f77b4;stroke:#1f77b4;\" x=\"116.737202\" xlink:href=\"#m157d22b7af\" y=\"67.563706\"/>\n     <use style=\"fill:#1f77b4;stroke:#1f77b4;\" x=\"132.403748\" xlink:href=\"#m157d22b7af\" y=\"71.549557\"/>\n     <use style=\"fill:#1f77b4;stroke:#1f77b4;\" x=\"119.876509\" xlink:href=\"#m157d22b7af\" y=\"56.685605\"/>\n     <use style=\"fill:#1f77b4;stroke:#1f77b4;\" x=\"112.279222\" xlink:href=\"#m157d22b7af\" y=\"71.609623\"/>\n     <use style=\"fill:#1f77b4;stroke:#1f77b4;\" x=\"178.034587\" xlink:href=\"#m157d22b7af\" y=\"106.064169\"/>\n     <use style=\"fill:#1f77b4;stroke:#1f77b4;\" x=\"197.349335\" xlink:href=\"#m157d22b7af\" y=\"116.455216\"/>\n     <use style=\"fill:#1f77b4;stroke:#1f77b4;\" x=\"129.47342\" xlink:href=\"#m157d22b7af\" y=\"79.402227\"/>\n     <use style=\"fill:#1f77b4;stroke:#1f77b4;\" x=\"108.312423\" xlink:href=\"#m157d22b7af\" y=\"49.522954\"/>\n     <use style=\"fill:#1f77b4;stroke:#1f77b4;\" x=\"113.864981\" xlink:href=\"#m157d22b7af\" y=\"77.553492\"/>\n     <use style=\"fill:#1f77b4;stroke:#1f77b4;\" x=\"155.216897\" xlink:href=\"#m157d22b7af\" y=\"95.105495\"/>\n     <use style=\"fill:#1f77b4;stroke:#1f77b4;\" x=\"77.980455\" xlink:href=\"#m157d22b7af\" y=\"40.912216\"/>\n     <use style=\"fill:#1f77b4;stroke:#1f77b4;\" x=\"109.482085\" xlink:href=\"#m157d22b7af\" y=\"69.407889\"/>\n     <use style=\"fill:#1f77b4;stroke:#1f77b4;\" x=\"95.238946\" xlink:href=\"#m157d22b7af\" y=\"56.454886\"/>\n     <use style=\"fill:#1f77b4;stroke:#1f77b4;\" x=\"144.932081\" xlink:href=\"#m157d22b7af\" y=\"75.007725\"/>\n     <use style=\"fill:#1f77b4;stroke:#1f77b4;\" x=\"123.400574\" xlink:href=\"#m157d22b7af\" y=\"68.989978\"/>\n     <use style=\"fill:#1f77b4;stroke:#1f77b4;\" x=\"117.123916\" xlink:href=\"#m157d22b7af\" y=\"68.843715\"/>\n     <use style=\"fill:#1f77b4;stroke:#1f77b4;\" x=\"136.835544\" xlink:href=\"#m157d22b7af\" y=\"87.853774\"/>\n     <use style=\"fill:#1f77b4;stroke:#1f77b4;\" x=\"125.913472\" xlink:href=\"#m157d22b7af\" y=\"80.272964\"/>\n     <use style=\"fill:#1f77b4;stroke:#1f77b4;\" x=\"86.589042\" xlink:href=\"#m157d22b7af\" y=\"44.300132\"/>\n     <use style=\"fill:#1f77b4;stroke:#1f77b4;\" x=\"116.133171\" xlink:href=\"#m157d22b7af\" y=\"64.772312\"/>\n     <use style=\"fill:#1f77b4;stroke:#1f77b4;\" x=\"120.095237\" xlink:href=\"#m157d22b7af\" y=\"59.042954\"/>\n     <use style=\"fill:#1f77b4;stroke:#1f77b4;\" x=\"119.289049\" xlink:href=\"#m157d22b7af\" y=\"80.558238\"/>\n     <use style=\"fill:#1f77b4;stroke:#1f77b4;\" x=\"124.909699\" xlink:href=\"#m157d22b7af\" y=\"74.235303\"/>\n     <use style=\"fill:#1f77b4;stroke:#1f77b4;\" x=\"136.277613\" xlink:href=\"#m157d22b7af\" y=\"84.055218\"/>\n     <use style=\"fill:#1f77b4;stroke:#1f77b4;\" x=\"158.961301\" xlink:href=\"#m157d22b7af\" y=\"92.984755\"/>\n     <use style=\"fill:#1f77b4;stroke:#1f77b4;\" x=\"141.749259\" xlink:href=\"#m157d22b7af\" y=\"82.265641\"/>\n     <use style=\"fill:#1f77b4;stroke:#1f77b4;\" x=\"117.563189\" xlink:href=\"#m157d22b7af\" y=\"50.11205\"/>\n     <use style=\"fill:#1f77b4;stroke:#1f77b4;\" x=\"142.482697\" xlink:href=\"#m157d22b7af\" y=\"77.507341\"/>\n     <use style=\"fill:#1f77b4;stroke:#1f77b4;\" x=\"162.555519\" xlink:href=\"#m157d22b7af\" y=\"101.283706\"/>\n     <use style=\"fill:#1f77b4;stroke:#1f77b4;\" x=\"110.646066\" xlink:href=\"#m157d22b7af\" y=\"60.367098\"/>\n     <use style=\"fill:#1f77b4;stroke:#1f77b4;\" x=\"174.046367\" xlink:href=\"#m157d22b7af\" y=\"93.580056\"/>\n     <use style=\"fill:#1f77b4;stroke:#1f77b4;\" x=\"135.704378\" xlink:href=\"#m157d22b7af\" y=\"61.87092\"/>\n     <use style=\"fill:#1f77b4;stroke:#1f77b4;\" x=\"122.043184\" xlink:href=\"#m157d22b7af\" y=\"75.094274\"/>\n     <use style=\"fill:#1f77b4;stroke:#1f77b4;\" x=\"131.250911\" xlink:href=\"#m157d22b7af\" y=\"56.747639\"/>\n     <use style=\"fill:#1f77b4;stroke:#1f77b4;\" x=\"172.48616\" xlink:href=\"#m157d22b7af\" y=\"83.376273\"/>\n     <use style=\"fill:#1f77b4;stroke:#1f77b4;\" x=\"86.537299\" xlink:href=\"#m157d22b7af\" y=\"49.229975\"/>\n     <use style=\"fill:#1f77b4;stroke:#1f77b4;\" x=\"87.408131\" xlink:href=\"#m157d22b7af\" y=\"40.231955\"/>\n     <use style=\"fill:#1f77b4;stroke:#1f77b4;\" x=\"136.617779\" xlink:href=\"#m157d22b7af\" y=\"101.155978\"/>\n     <use style=\"fill:#1f77b4;stroke:#1f77b4;\" x=\"104.919292\" xlink:href=\"#m157d22b7af\" y=\"54.718805\"/>\n     <use style=\"fill:#1f77b4;stroke:#1f77b4;\" x=\"114.466011\" xlink:href=\"#m157d22b7af\" y=\"66.567853\"/>\n     <use style=\"fill:#1f77b4;stroke:#1f77b4;\" x=\"57.591221\" xlink:href=\"#m157d22b7af\" y=\"35.283742\"/>\n     <use style=\"fill:#1f77b4;stroke:#1f77b4;\" x=\"123.393983\" xlink:href=\"#m157d22b7af\" y=\"66.841431\"/>\n     <use style=\"fill:#1f77b4;stroke:#1f77b4;\" x=\"125.399825\" xlink:href=\"#m157d22b7af\" y=\"73.401799\"/>\n     <use style=\"fill:#1f77b4;stroke:#1f77b4;\" x=\"167.448622\" xlink:href=\"#m157d22b7af\" y=\"103.334908\"/>\n     <use style=\"fill:#1f77b4;stroke:#1f77b4;\" x=\"99.264918\" xlink:href=\"#m157d22b7af\" y=\"61.339001\"/>\n     <use style=\"fill:#1f77b4;stroke:#1f77b4;\" x=\"104.811722\" xlink:href=\"#m157d22b7af\" y=\"67.698752\"/>\n     <use style=\"fill:#1f77b4;stroke:#1f77b4;\" x=\"94.862242\" xlink:href=\"#m157d22b7af\" y=\"47.26677\"/>\n     <use style=\"fill:#1f77b4;stroke:#1f77b4;\" x=\"136.268027\" xlink:href=\"#m157d22b7af\" y=\"75.473417\"/>\n     <use style=\"fill:#1f77b4;stroke:#1f77b4;\" x=\"122.471919\" xlink:href=\"#m157d22b7af\" y=\"77.060246\"/>\n     <use style=\"fill:#1f77b4;stroke:#1f77b4;\" x=\"114.43363\" xlink:href=\"#m157d22b7af\" y=\"63.7807\"/>\n     <use style=\"fill:#1f77b4;stroke:#1f77b4;\" x=\"141.239624\" xlink:href=\"#m157d22b7af\" y=\"85.769924\"/>\n     <use style=\"fill:#1f77b4;stroke:#1f77b4;\" x=\"116.486495\" xlink:href=\"#m157d22b7af\" y=\"80.022601\"/>\n     <use style=\"fill:#1f77b4;stroke:#1f77b4;\" x=\"158.109181\" xlink:href=\"#m157d22b7af\" y=\"96.234703\"/>\n     <use style=\"fill:#1f77b4;stroke:#1f77b4;\" x=\"136.580855\" xlink:href=\"#m157d22b7af\" y=\"80.872478\"/>\n     <use style=\"fill:#1f77b4;stroke:#1f77b4;\" x=\"129.196672\" xlink:href=\"#m157d22b7af\" y=\"60.646388\"/>\n     <use style=\"fill:#1f77b4;stroke:#1f77b4;\" x=\"176.733949\" xlink:href=\"#m157d22b7af\" y=\"99.783377\"/>\n     <use style=\"fill:#1f77b4;stroke:#1f77b4;\" x=\"123.20547\" xlink:href=\"#m157d22b7af\" y=\"90.204031\"/>\n     <use style=\"fill:#1f77b4;stroke:#1f77b4;\" x=\"142.928817\" xlink:href=\"#m157d22b7af\" y=\"86.188832\"/>\n     <use style=\"fill:#1f77b4;stroke:#1f77b4;\" x=\"93.206518\" xlink:href=\"#m157d22b7af\" y=\"54.165533\"/>\n     <use style=\"fill:#1f77b4;stroke:#1f77b4;\" x=\"105.866706\" xlink:href=\"#m157d22b7af\" y=\"73.511268\"/>\n     <use style=\"fill:#1f77b4;stroke:#1f77b4;\" x=\"125.840529\" xlink:href=\"#m157d22b7af\" y=\"76.706794\"/>\n     <use style=\"fill:#1f77b4;stroke:#1f77b4;\" x=\"98.901847\" xlink:href=\"#m157d22b7af\" y=\"49.006414\"/>\n     <use style=\"fill:#1f77b4;stroke:#1f77b4;\" x=\"131.498024\" xlink:href=\"#m157d22b7af\" y=\"64.739962\"/>\n     <use style=\"fill:#1f77b4;stroke:#1f77b4;\" x=\"137.943394\" xlink:href=\"#m157d22b7af\" y=\"84.754586\"/>\n     <use style=\"fill:#1f77b4;stroke:#1f77b4;\" x=\"93.179536\" xlink:href=\"#m157d22b7af\" y=\"48.42946\"/>\n     <use style=\"fill:#1f77b4;stroke:#1f77b4;\" x=\"105.910037\" xlink:href=\"#m157d22b7af\" y=\"58.872299\"/>\n     <use style=\"fill:#1f77b4;stroke:#1f77b4;\" x=\"144.866062\" xlink:href=\"#m157d22b7af\" y=\"98.261829\"/>\n     <use style=\"fill:#1f77b4;stroke:#1f77b4;\" x=\"138.205014\" xlink:href=\"#m157d22b7af\" y=\"69.888771\"/>\n     <use style=\"fill:#1f77b4;stroke:#1f77b4;\" x=\"141.725377\" xlink:href=\"#m157d22b7af\" y=\"76.924059\"/>\n     <use style=\"fill:#1f77b4;stroke:#1f77b4;\" x=\"143.502213\" xlink:href=\"#m157d22b7af\" y=\"84.914643\"/>\n     <use style=\"fill:#1f77b4;stroke:#1f77b4;\" x=\"109.728085\" xlink:href=\"#m157d22b7af\" y=\"64.179662\"/>\n     <use style=\"fill:#1f77b4;stroke:#1f77b4;\" x=\"158.072686\" xlink:href=\"#m157d22b7af\" y=\"97.112252\"/>\n     <use style=\"fill:#1f77b4;stroke:#1f77b4;\" x=\"141.675019\" xlink:href=\"#m157d22b7af\" y=\"84.422218\"/>\n     <use style=\"fill:#1f77b4;stroke:#1f77b4;\" x=\"165.52719\" xlink:href=\"#m157d22b7af\" y=\"102.627603\"/>\n     <use style=\"fill:#1f77b4;stroke:#1f77b4;\" x=\"132.206601\" xlink:href=\"#m157d22b7af\" y=\"70.293131\"/>\n     <use style=\"fill:#1f77b4;stroke:#1f77b4;\" x=\"114.484179\" xlink:href=\"#m157d22b7af\" y=\"80.590473\"/>\n     <use style=\"fill:#1f77b4;stroke:#1f77b4;\" x=\"123.633457\" xlink:href=\"#m157d22b7af\" y=\"80.10953\"/>\n     <use style=\"fill:#1f77b4;stroke:#1f77b4;\" x=\"146.707203\" xlink:href=\"#m157d22b7af\" y=\"90.617379\"/>\n     <use style=\"fill:#1f77b4;stroke:#1f77b4;\" x=\"122.480194\" xlink:href=\"#m157d22b7af\" y=\"72.330056\"/>\n     <use style=\"fill:#1f77b4;stroke:#1f77b4;\" x=\"143.583977\" xlink:href=\"#m157d22b7af\" y=\"77.343992\"/>\n     <use style=\"fill:#1f77b4;stroke:#1f77b4;\" x=\"125.565475\" xlink:href=\"#m157d22b7af\" y=\"69.289068\"/>\n     <use style=\"fill:#1f77b4;stroke:#1f77b4;\" x=\"178.460875\" xlink:href=\"#m157d22b7af\" y=\"118.102015\"/>\n     <use style=\"fill:#1f77b4;stroke:#1f77b4;\" x=\"166.019358\" xlink:href=\"#m157d22b7af\" y=\"84.417711\"/>\n     <use style=\"fill:#1f77b4;stroke:#1f77b4;\" x=\"134.33685\" xlink:href=\"#m157d22b7af\" y=\"79.240527\"/>\n     <use style=\"fill:#1f77b4;stroke:#1f77b4;\" x=\"124.509992\" xlink:href=\"#m157d22b7af\" y=\"67.087626\"/>\n     <use style=\"fill:#1f77b4;stroke:#1f77b4;\" x=\"128.890474\" xlink:href=\"#m157d22b7af\" y=\"78.801839\"/>\n     <use style=\"fill:#1f77b4;stroke:#1f77b4;\" x=\"180.713458\" xlink:href=\"#m157d22b7af\" y=\"98.333159\"/>\n     <use style=\"fill:#1f77b4;stroke:#1f77b4;\" x=\"147.643232\" xlink:href=\"#m157d22b7af\" y=\"97.797096\"/>\n     <use style=\"fill:#1f77b4;stroke:#1f77b4;\" x=\"134.224741\" xlink:href=\"#m157d22b7af\" y=\"69.501664\"/>\n     <use style=\"fill:#1f77b4;stroke:#1f77b4;\" x=\"80.215582\" xlink:href=\"#m157d22b7af\" y=\"57.479701\"/>\n     <use style=\"fill:#1f77b4;stroke:#1f77b4;\" x=\"100.28154\" xlink:href=\"#m157d22b7af\" y=\"59.343813\"/>\n     <use style=\"fill:#1f77b4;stroke:#1f77b4;\" x=\"111.097364\" xlink:href=\"#m157d22b7af\" y=\"59.994839\"/>\n     <use style=\"fill:#1f77b4;stroke:#1f77b4;\" x=\"108.724414\" xlink:href=\"#m157d22b7af\" y=\"52.917937\"/>\n     <use style=\"fill:#1f77b4;stroke:#1f77b4;\" x=\"74.498228\" xlink:href=\"#m157d22b7af\" y=\"48.497637\"/>\n     <use style=\"fill:#1f77b4;stroke:#1f77b4;\" x=\"133.682969\" xlink:href=\"#m157d22b7af\" y=\"68.746497\"/>\n     <use style=\"fill:#1f77b4;stroke:#1f77b4;\" x=\"105.876538\" xlink:href=\"#m157d22b7af\" y=\"59.654012\"/>\n     <use style=\"fill:#1f77b4;stroke:#1f77b4;\" x=\"124.193352\" xlink:href=\"#m157d22b7af\" y=\"61.71334\"/>\n     <use style=\"fill:#1f77b4;stroke:#1f77b4;\" x=\"121.728437\" xlink:href=\"#m157d22b7af\" y=\"71.853931\"/>\n     <use style=\"fill:#1f77b4;stroke:#1f77b4;\" x=\"105.280256\" xlink:href=\"#m157d22b7af\" y=\"57.379475\"/>\n     <use style=\"fill:#1f77b4;stroke:#1f77b4;\" x=\"109.027055\" xlink:href=\"#m157d22b7af\" y=\"68.248333\"/>\n     <use style=\"fill:#1f77b4;stroke:#1f77b4;\" x=\"133.708416\" xlink:href=\"#m157d22b7af\" y=\"75.966333\"/>\n     <use style=\"fill:#1f77b4;stroke:#1f77b4;\" x=\"98.705067\" xlink:href=\"#m157d22b7af\" y=\"59.545587\"/>\n     <use style=\"fill:#1f77b4;stroke:#1f77b4;\" x=\"133.918292\" xlink:href=\"#m157d22b7af\" y=\"71.959617\"/>\n     <use style=\"fill:#1f77b4;stroke:#1f77b4;\" x=\"163.107516\" xlink:href=\"#m157d22b7af\" y=\"90.842069\"/>\n     <use style=\"fill:#1f77b4;stroke:#1f77b4;\" x=\"116.453211\" xlink:href=\"#m157d22b7af\" y=\"57.156078\"/>\n     <use style=\"fill:#1f77b4;stroke:#1f77b4;\" x=\"127.473741\" xlink:href=\"#m157d22b7af\" y=\"78.824778\"/>\n     <use style=\"fill:#1f77b4;stroke:#1f77b4;\" x=\"165.876893\" xlink:href=\"#m157d22b7af\" y=\"106.125321\"/>\n     <use style=\"fill:#1f77b4;stroke:#1f77b4;\" x=\"98.033844\" xlink:href=\"#m157d22b7af\" y=\"56.516587\"/>\n     <use style=\"fill:#1f77b4;stroke:#1f77b4;\" x=\"71.22097\" xlink:href=\"#m157d22b7af\" y=\"29.957104\"/>\n     <use style=\"fill:#1f77b4;stroke:#1f77b4;\" x=\"120.445473\" xlink:href=\"#m157d22b7af\" y=\"62.037353\"/>\n     <use style=\"fill:#1f77b4;stroke:#1f77b4;\" x=\"162.076001\" xlink:href=\"#m157d22b7af\" y=\"101.574743\"/>\n     <use style=\"fill:#1f77b4;stroke:#1f77b4;\" x=\"97.122636\" xlink:href=\"#m157d22b7af\" y=\"65.569706\"/>\n     <use style=\"fill:#1f77b4;stroke:#1f77b4;\" x=\"128.237076\" xlink:href=\"#m157d22b7af\" y=\"70.425304\"/>\n     <use style=\"fill:#1f77b4;stroke:#1f77b4;\" x=\"84.858899\" xlink:href=\"#m157d22b7af\" y=\"47.131211\"/>\n     <use style=\"fill:#1f77b4;stroke:#1f77b4;\" x=\"138.263214\" xlink:href=\"#m157d22b7af\" y=\"83.405003\"/>\n     <use style=\"fill:#1f77b4;stroke:#1f77b4;\" x=\"98.369529\" xlink:href=\"#m157d22b7af\" y=\"69.784013\"/>\n     <use style=\"fill:#1f77b4;stroke:#1f77b4;\" x=\"131.659927\" xlink:href=\"#m157d22b7af\" y=\"57.753112\"/>\n     <use style=\"fill:#1f77b4;stroke:#1f77b4;\" x=\"136.308462\" xlink:href=\"#m157d22b7af\" y=\"79.270335\"/>\n     <use style=\"fill:#1f77b4;stroke:#1f77b4;\" x=\"108.872937\" xlink:href=\"#m157d22b7af\" y=\"34.999499\"/>\n     <use style=\"fill:#1f77b4;stroke:#1f77b4;\" x=\"73.947896\" xlink:href=\"#m157d22b7af\" y=\"15.931769\"/>\n     <use style=\"fill:#1f77b4;stroke:#1f77b4;\" x=\"109.948504\" xlink:href=\"#m157d22b7af\" y=\"70.861295\"/>\n     <use style=\"fill:#1f77b4;stroke:#1f77b4;\" x=\"107.911896\" xlink:href=\"#m157d22b7af\" y=\"50.55969\"/>\n     <use style=\"fill:#1f77b4;stroke:#1f77b4;\" x=\"115.121181\" xlink:href=\"#m157d22b7af\" y=\"62.029667\"/>\n     <use style=\"fill:#1f77b4;stroke:#1f77b4;\" x=\"124.383771\" xlink:href=\"#m157d22b7af\" y=\"59.394424\"/>\n     <use style=\"fill:#1f77b4;stroke:#1f77b4;\" x=\"117.355456\" xlink:href=\"#m157d22b7af\" y=\"90.362637\"/>\n     <use style=\"fill:#1f77b4;stroke:#1f77b4;\" x=\"101.839026\" xlink:href=\"#m157d22b7af\" y=\"47.711125\"/>\n     <use style=\"fill:#1f77b4;stroke:#1f77b4;\" x=\"99.666248\" xlink:href=\"#m157d22b7af\" y=\"73.45299\"/>\n     <use style=\"fill:#1f77b4;stroke:#1f77b4;\" x=\"92.056261\" xlink:href=\"#m157d22b7af\" y=\"44.62913\"/>\n     <use style=\"fill:#1f77b4;stroke:#1f77b4;\" x=\"161.670466\" xlink:href=\"#m157d22b7af\" y=\"97.824052\"/>\n     <use style=\"fill:#1f77b4;stroke:#1f77b4;\" x=\"127.960825\" xlink:href=\"#m157d22b7af\" y=\"90.508674\"/>\n     <use style=\"fill:#1f77b4;stroke:#1f77b4;\" x=\"119.788641\" xlink:href=\"#m157d22b7af\" y=\"60.830988\"/>\n     <use style=\"fill:#1f77b4;stroke:#1f77b4;\" x=\"176.067882\" xlink:href=\"#m157d22b7af\" y=\"87.317077\"/>\n     <use style=\"fill:#1f77b4;stroke:#1f77b4;\" x=\"131.534401\" xlink:href=\"#m157d22b7af\" y=\"68.104971\"/>\n     <use style=\"fill:#1f77b4;stroke:#1f77b4;\" x=\"138.111328\" xlink:href=\"#m157d22b7af\" y=\"74.802356\"/>\n     <use style=\"fill:#1f77b4;stroke:#1f77b4;\" x=\"138.007436\" xlink:href=\"#m157d22b7af\" y=\"73.94372\"/>\n     <use style=\"fill:#1f77b4;stroke:#1f77b4;\" x=\"180.086394\" xlink:href=\"#m157d22b7af\" y=\"106.778315\"/>\n     <use style=\"fill:#1f77b4;stroke:#1f77b4;\" x=\"148.306447\" xlink:href=\"#m157d22b7af\" y=\"78.520628\"/>\n     <use style=\"fill:#1f77b4;stroke:#1f77b4;\" x=\"95.485704\" xlink:href=\"#m157d22b7af\" y=\"51.342715\"/>\n     <use style=\"fill:#1f77b4;stroke:#1f77b4;\" x=\"133.283639\" xlink:href=\"#m157d22b7af\" y=\"69.567028\"/>\n     <use style=\"fill:#1f77b4;stroke:#1f77b4;\" x=\"118.417439\" xlink:href=\"#m157d22b7af\" y=\"62.400884\"/>\n     <use style=\"fill:#1f77b4;stroke:#1f77b4;\" x=\"121.621344\" xlink:href=\"#m157d22b7af\" y=\"77.103403\"/>\n     <use style=\"fill:#1f77b4;stroke:#1f77b4;\" x=\"134.624857\" xlink:href=\"#m157d22b7af\" y=\"84.184612\"/>\n     <use style=\"fill:#1f77b4;stroke:#1f77b4;\" x=\"209.394716\" xlink:href=\"#m157d22b7af\" y=\"136.922727\"/>\n     <use style=\"fill:#1f77b4;stroke:#1f77b4;\" x=\"89.781234\" xlink:href=\"#m157d22b7af\" y=\"69.631537\"/>\n     <use style=\"fill:#1f77b4;stroke:#1f77b4;\" x=\"163.35125\" xlink:href=\"#m157d22b7af\" y=\"85.078203\"/>\n     <use style=\"fill:#1f77b4;stroke:#1f77b4;\" x=\"112.013457\" xlink:href=\"#m157d22b7af\" y=\"61.081053\"/>\n     <use style=\"fill:#1f77b4;stroke:#1f77b4;\" x=\"127.836758\" xlink:href=\"#m157d22b7af\" y=\"71.296813\"/>\n     <use style=\"fill:#1f77b4;stroke:#1f77b4;\" x=\"108.878208\" xlink:href=\"#m157d22b7af\" y=\"65.562709\"/>\n     <use style=\"fill:#1f77b4;stroke:#1f77b4;\" x=\"109.645185\" xlink:href=\"#m157d22b7af\" y=\"78.700026\"/>\n     <use style=\"fill:#1f77b4;stroke:#1f77b4;\" x=\"129.656975\" xlink:href=\"#m157d22b7af\" y=\"56.703156\"/>\n     <use style=\"fill:#1f77b4;stroke:#1f77b4;\" x=\"122.812735\" xlink:href=\"#m157d22b7af\" y=\"68.071569\"/>\n     <use style=\"fill:#1f77b4;stroke:#1f77b4;\" x=\"138.402497\" xlink:href=\"#m157d22b7af\" y=\"69.063564\"/>\n     <use style=\"fill:#1f77b4;stroke:#1f77b4;\" x=\"129.101313\" xlink:href=\"#m157d22b7af\" y=\"86.714391\"/>\n     <use style=\"fill:#1f77b4;stroke:#1f77b4;\" x=\"178.378834\" xlink:href=\"#m157d22b7af\" y=\"116.906263\"/>\n     <use style=\"fill:#1f77b4;stroke:#1f77b4;\" x=\"122.743974\" xlink:href=\"#m157d22b7af\" y=\"76.924742\"/>\n     <use style=\"fill:#1f77b4;stroke:#1f77b4;\" x=\"138.980756\" xlink:href=\"#m157d22b7af\" y=\"88.222447\"/>\n     <use style=\"fill:#1f77b4;stroke:#1f77b4;\" x=\"155.219598\" xlink:href=\"#m157d22b7af\" y=\"87.410513\"/>\n     <use style=\"fill:#1f77b4;stroke:#1f77b4;\" x=\"139.175856\" xlink:href=\"#m157d22b7af\" y=\"80.654474\"/>\n     <use style=\"fill:#1f77b4;stroke:#1f77b4;\" x=\"81.534054\" xlink:href=\"#m157d22b7af\" y=\"33.77836\"/>\n     <use style=\"fill:#1f77b4;stroke:#1f77b4;\" x=\"133.72063\" xlink:href=\"#m157d22b7af\" y=\"73.219548\"/>\n     <use style=\"fill:#1f77b4;stroke:#1f77b4;\" x=\"138.110716\" xlink:href=\"#m157d22b7af\" y=\"87.960741\"/>\n     <use style=\"fill:#1f77b4;stroke:#1f77b4;\" x=\"94.503311\" xlink:href=\"#m157d22b7af\" y=\"49.903385\"/>\n     <use style=\"fill:#1f77b4;stroke:#1f77b4;\" x=\"111.032735\" xlink:href=\"#m157d22b7af\" y=\"58.679552\"/>\n     <use style=\"fill:#1f77b4;stroke:#1f77b4;\" x=\"142.468255\" xlink:href=\"#m157d22b7af\" y=\"76.028087\"/>\n     <use style=\"fill:#1f77b4;stroke:#1f77b4;\" x=\"150.382088\" xlink:href=\"#m157d22b7af\" y=\"103.281096\"/>\n     <use style=\"fill:#1f77b4;stroke:#1f77b4;\" x=\"143.060988\" xlink:href=\"#m157d22b7af\" y=\"78.682328\"/>\n     <use style=\"fill:#1f77b4;stroke:#1f77b4;\" x=\"125.751247\" xlink:href=\"#m157d22b7af\" y=\"67.873933\"/>\n     <use style=\"fill:#1f77b4;stroke:#1f77b4;\" x=\"88.152014\" xlink:href=\"#m157d22b7af\" y=\"36.609641\"/>\n     <use style=\"fill:#1f77b4;stroke:#1f77b4;\" x=\"129.499369\" xlink:href=\"#m157d22b7af\" y=\"71.394691\"/>\n     <use style=\"fill:#1f77b4;stroke:#1f77b4;\" x=\"120.421393\" xlink:href=\"#m157d22b7af\" y=\"57.867778\"/>\n     <use style=\"fill:#1f77b4;stroke:#1f77b4;\" x=\"140.390186\" xlink:href=\"#m157d22b7af\" y=\"82.163821\"/>\n     <use style=\"fill:#1f77b4;stroke:#1f77b4;\" x=\"103.998645\" xlink:href=\"#m157d22b7af\" y=\"33.674587\"/>\n     <use style=\"fill:#1f77b4;stroke:#1f77b4;\" x=\"195.09764\" xlink:href=\"#m157d22b7af\" y=\"127.929357\"/>\n     <use style=\"fill:#1f77b4;stroke:#1f77b4;\" x=\"127.919836\" xlink:href=\"#m157d22b7af\" y=\"81.52423\"/>\n     <use style=\"fill:#1f77b4;stroke:#1f77b4;\" x=\"121.981162\" xlink:href=\"#m157d22b7af\" y=\"63.18146\"/>\n     <use style=\"fill:#1f77b4;stroke:#1f77b4;\" x=\"103.942985\" xlink:href=\"#m157d22b7af\" y=\"81.591891\"/>\n     <use style=\"fill:#1f77b4;stroke:#1f77b4;\" x=\"125.37425\" xlink:href=\"#m157d22b7af\" y=\"69.586323\"/>\n     <use style=\"fill:#1f77b4;stroke:#1f77b4;\" x=\"157.246422\" xlink:href=\"#m157d22b7af\" y=\"97.841354\"/>\n     <use style=\"fill:#1f77b4;stroke:#1f77b4;\" x=\"119.986001\" xlink:href=\"#m157d22b7af\" y=\"66.53946\"/>\n     <use style=\"fill:#1f77b4;stroke:#1f77b4;\" x=\"98.950373\" xlink:href=\"#m157d22b7af\" y=\"30.819518\"/>\n     <use style=\"fill:#1f77b4;stroke:#1f77b4;\" x=\"162.961127\" xlink:href=\"#m157d22b7af\" y=\"97.705977\"/>\n     <use style=\"fill:#1f77b4;stroke:#1f77b4;\" x=\"128.353302\" xlink:href=\"#m157d22b7af\" y=\"68.953127\"/>\n     <use style=\"fill:#1f77b4;stroke:#1f77b4;\" x=\"156.190245\" xlink:href=\"#m157d22b7af\" y=\"75.638936\"/>\n     <use style=\"fill:#1f77b4;stroke:#1f77b4;\" x=\"123.235414\" xlink:href=\"#m157d22b7af\" y=\"47.325337\"/>\n     <use style=\"fill:#1f77b4;stroke:#1f77b4;\" x=\"109.318405\" xlink:href=\"#m157d22b7af\" y=\"55.922872\"/>\n     <use style=\"fill:#1f77b4;stroke:#1f77b4;\" x=\"99.446793\" xlink:href=\"#m157d22b7af\" y=\"46.437824\"/>\n     <use style=\"fill:#1f77b4;stroke:#1f77b4;\" x=\"170.536558\" xlink:href=\"#m157d22b7af\" y=\"101.418265\"/>\n     <use style=\"fill:#1f77b4;stroke:#1f77b4;\" x=\"149.528354\" xlink:href=\"#m157d22b7af\" y=\"89.068322\"/>\n     <use style=\"fill:#1f77b4;stroke:#1f77b4;\" x=\"148.06342\" xlink:href=\"#m157d22b7af\" y=\"76.820392\"/>\n     <use style=\"fill:#1f77b4;stroke:#1f77b4;\" x=\"99.53372\" xlink:href=\"#m157d22b7af\" y=\"45.397047\"/>\n     <use style=\"fill:#1f77b4;stroke:#1f77b4;\" x=\"87.890443\" xlink:href=\"#m157d22b7af\" y=\"55.916915\"/>\n     <use style=\"fill:#1f77b4;stroke:#1f77b4;\" x=\"111.941988\" xlink:href=\"#m157d22b7af\" y=\"68.052652\"/>\n     <use style=\"fill:#1f77b4;stroke:#1f77b4;\" x=\"128.874912\" xlink:href=\"#m157d22b7af\" y=\"74.906348\"/>\n     <use style=\"fill:#1f77b4;stroke:#1f77b4;\" x=\"201.413276\" xlink:href=\"#m157d22b7af\" y=\"123.001379\"/>\n     <use style=\"fill:#1f77b4;stroke:#1f77b4;\" x=\"81.457261\" xlink:href=\"#m157d22b7af\" y=\"42.541447\"/>\n     <use style=\"fill:#1f77b4;stroke:#1f77b4;\" x=\"118.009676\" xlink:href=\"#m157d22b7af\" y=\"72.238378\"/>\n     <use style=\"fill:#1f77b4;stroke:#1f77b4;\" x=\"108.819379\" xlink:href=\"#m157d22b7af\" y=\"58.059897\"/>\n     <use style=\"fill:#1f77b4;stroke:#1f77b4;\" x=\"92.173615\" xlink:href=\"#m157d22b7af\" y=\"45.409283\"/>\n     <use style=\"fill:#1f77b4;stroke:#1f77b4;\" x=\"121.812446\" xlink:href=\"#m157d22b7af\" y=\"54.69809\"/>\n     <use style=\"fill:#1f77b4;stroke:#1f77b4;\" x=\"134.990594\" xlink:href=\"#m157d22b7af\" y=\"84.720883\"/>\n     <use style=\"fill:#1f77b4;stroke:#1f77b4;\" x=\"125.513186\" xlink:href=\"#m157d22b7af\" y=\"64.803247\"/>\n     <use style=\"fill:#1f77b4;stroke:#1f77b4;\" x=\"143.751266\" xlink:href=\"#m157d22b7af\" y=\"92.750811\"/>\n     <use style=\"fill:#1f77b4;stroke:#1f77b4;\" x=\"157.25201\" xlink:href=\"#m157d22b7af\" y=\"98.678954\"/>\n     <use style=\"fill:#1f77b4;stroke:#1f77b4;\" x=\"133.18106\" xlink:href=\"#m157d22b7af\" y=\"73.986524\"/>\n     <use style=\"fill:#1f77b4;stroke:#1f77b4;\" x=\"91.453074\" xlink:href=\"#m157d22b7af\" y=\"47.58785\"/>\n     <use style=\"fill:#1f77b4;stroke:#1f77b4;\" x=\"110.800766\" xlink:href=\"#m157d22b7af\" y=\"69.816995\"/>\n     <use style=\"fill:#1f77b4;stroke:#1f77b4;\" x=\"130.11172\" xlink:href=\"#m157d22b7af\" y=\"85.290513\"/>\n     <use style=\"fill:#1f77b4;stroke:#1f77b4;\" x=\"136.891765\" xlink:href=\"#m157d22b7af\" y=\"77.582018\"/>\n     <use style=\"fill:#1f77b4;stroke:#1f77b4;\" x=\"127.834373\" xlink:href=\"#m157d22b7af\" y=\"74.182731\"/>\n     <use style=\"fill:#1f77b4;stroke:#1f77b4;\" x=\"164.978486\" xlink:href=\"#m157d22b7af\" y=\"97.317588\"/>\n     <use style=\"fill:#1f77b4;stroke:#1f77b4;\" x=\"143.938834\" xlink:href=\"#m157d22b7af\" y=\"82.849969\"/>\n     <use style=\"fill:#1f77b4;stroke:#1f77b4;\" x=\"121.385097\" xlink:href=\"#m157d22b7af\" y=\"66.025793\"/>\n     <use style=\"fill:#1f77b4;stroke:#1f77b4;\" x=\"85.967083\" xlink:href=\"#m157d22b7af\" y=\"33.475908\"/>\n     <use style=\"fill:#1f77b4;stroke:#1f77b4;\" x=\"89.335837\" xlink:href=\"#m157d22b7af\" y=\"39.790955\"/>\n     <use style=\"fill:#1f77b4;stroke:#1f77b4;\" x=\"131.472758\" xlink:href=\"#m157d22b7af\" y=\"80.120426\"/>\n     <use style=\"fill:#1f77b4;stroke:#1f77b4;\" x=\"115.799378\" xlink:href=\"#m157d22b7af\" y=\"78.097683\"/>\n     <use style=\"fill:#1f77b4;stroke:#1f77b4;\" x=\"130.260029\" xlink:href=\"#m157d22b7af\" y=\"71.886269\"/>\n     <use style=\"fill:#1f77b4;stroke:#1f77b4;\" x=\"192.775173\" xlink:href=\"#m157d22b7af\" y=\"110.173994\"/>\n     <use style=\"fill:#1f77b4;stroke:#1f77b4;\" x=\"115.026435\" xlink:href=\"#m157d22b7af\" y=\"61.362361\"/>\n     <use style=\"fill:#1f77b4;stroke:#1f77b4;\" x=\"124.842265\" xlink:href=\"#m157d22b7af\" y=\"65.775007\"/>\n     <use style=\"fill:#1f77b4;stroke:#1f77b4;\" x=\"169.695078\" xlink:href=\"#m157d22b7af\" y=\"97.739686\"/>\n     <use style=\"fill:#1f77b4;stroke:#1f77b4;\" x=\"108.214765\" xlink:href=\"#m157d22b7af\" y=\"58.032068\"/>\n     <use style=\"fill:#1f77b4;stroke:#1f77b4;\" x=\"115.07704\" xlink:href=\"#m157d22b7af\" y=\"86.741487\"/>\n     <use style=\"fill:#1f77b4;stroke:#1f77b4;\" x=\"145.698421\" xlink:href=\"#m157d22b7af\" y=\"92.680831\"/>\n     <use style=\"fill:#1f77b4;stroke:#1f77b4;\" x=\"133.65883\" xlink:href=\"#m157d22b7af\" y=\"71.500285\"/>\n     <use style=\"fill:#1f77b4;stroke:#1f77b4;\" x=\"125.610686\" xlink:href=\"#m157d22b7af\" y=\"68.505778\"/>\n     <use style=\"fill:#1f77b4;stroke:#1f77b4;\" x=\"76.641775\" xlink:href=\"#m157d22b7af\" y=\"54.859704\"/>\n     <use style=\"fill:#1f77b4;stroke:#1f77b4;\" x=\"111.691372\" xlink:href=\"#m157d22b7af\" y=\"66.95311\"/>\n     <use style=\"fill:#1f77b4;stroke:#1f77b4;\" x=\"93.919131\" xlink:href=\"#m157d22b7af\" y=\"49.059905\"/>\n     <use style=\"fill:#1f77b4;stroke:#1f77b4;\" x=\"105.529058\" xlink:href=\"#m157d22b7af\" y=\"60.716646\"/>\n     <use style=\"fill:#1f77b4;stroke:#1f77b4;\" x=\"102.25302\" xlink:href=\"#m157d22b7af\" y=\"62.755321\"/>\n     <use style=\"fill:#1f77b4;stroke:#1f77b4;\" x=\"102.338128\" xlink:href=\"#m157d22b7af\" y=\"73.167948\"/>\n     <use style=\"fill:#1f77b4;stroke:#1f77b4;\" x=\"114.836211\" xlink:href=\"#m157d22b7af\" y=\"55.115101\"/>\n     <use style=\"fill:#1f77b4;stroke:#1f77b4;\" x=\"134.411742\" xlink:href=\"#m157d22b7af\" y=\"87.493941\"/>\n     <use style=\"fill:#1f77b4;stroke:#1f77b4;\" x=\"120.5861\" xlink:href=\"#m157d22b7af\" y=\"76.236235\"/>\n     <use style=\"fill:#1f77b4;stroke:#1f77b4;\" x=\"128.371011\" xlink:href=\"#m157d22b7af\" y=\"91.918572\"/>\n     <use style=\"fill:#1f77b4;stroke:#1f77b4;\" x=\"138.881408\" xlink:href=\"#m157d22b7af\" y=\"81.657921\"/>\n     <use style=\"fill:#1f77b4;stroke:#1f77b4;\" x=\"114.593308\" xlink:href=\"#m157d22b7af\" y=\"63.034634\"/>\n     <use style=\"fill:#1f77b4;stroke:#1f77b4;\" x=\"121.774264\" xlink:href=\"#m157d22b7af\" y=\"70.331792\"/>\n     <use style=\"fill:#1f77b4;stroke:#1f77b4;\" x=\"172.418492\" xlink:href=\"#m157d22b7af\" y=\"102.489423\"/>\n     <use style=\"fill:#1f77b4;stroke:#1f77b4;\" x=\"150.683362\" xlink:href=\"#m157d22b7af\" y=\"79.404733\"/>\n     <use style=\"fill:#1f77b4;stroke:#1f77b4;\" x=\"90.718019\" xlink:href=\"#m157d22b7af\" y=\"49.086705\"/>\n     <use style=\"fill:#1f77b4;stroke:#1f77b4;\" x=\"101.279533\" xlink:href=\"#m157d22b7af\" y=\"49.314237\"/>\n     <use style=\"fill:#1f77b4;stroke:#1f77b4;\" x=\"103.821397\" xlink:href=\"#m157d22b7af\" y=\"41.331623\"/>\n     <use style=\"fill:#1f77b4;stroke:#1f77b4;\" x=\"146.011541\" xlink:href=\"#m157d22b7af\" y=\"82.375836\"/>\n     <use style=\"fill:#1f77b4;stroke:#1f77b4;\" x=\"139.670815\" xlink:href=\"#m157d22b7af\" y=\"89.279053\"/>\n     <use style=\"fill:#1f77b4;stroke:#1f77b4;\" x=\"153.292439\" xlink:href=\"#m157d22b7af\" y=\"91.746231\"/>\n     <use style=\"fill:#1f77b4;stroke:#1f77b4;\" x=\"142.272373\" xlink:href=\"#m157d22b7af\" y=\"93.909086\"/>\n     <use style=\"fill:#1f77b4;stroke:#1f77b4;\" x=\"146.859009\" xlink:href=\"#m157d22b7af\" y=\"79.103987\"/>\n     <use style=\"fill:#1f77b4;stroke:#1f77b4;\" x=\"122.345122\" xlink:href=\"#m157d22b7af\" y=\"67.58356\"/>\n     <use style=\"fill:#1f77b4;stroke:#1f77b4;\" x=\"117.358835\" xlink:href=\"#m157d22b7af\" y=\"75.94824\"/>\n     <use style=\"fill:#1f77b4;stroke:#1f77b4;\" x=\"130.555123\" xlink:href=\"#m157d22b7af\" y=\"76.042707\"/>\n     <use style=\"fill:#1f77b4;stroke:#1f77b4;\" x=\"122.02399\" xlink:href=\"#m157d22b7af\" y=\"65.167715\"/>\n     <use style=\"fill:#1f77b4;stroke:#1f77b4;\" x=\"142.822693\" xlink:href=\"#m157d22b7af\" y=\"97.96541\"/>\n     <use style=\"fill:#1f77b4;stroke:#1f77b4;\" x=\"128.657537\" xlink:href=\"#m157d22b7af\" y=\"70.004812\"/>\n     <use style=\"fill:#1f77b4;stroke:#1f77b4;\" x=\"112.838274\" xlink:href=\"#m157d22b7af\" y=\"62.040581\"/>\n     <use style=\"fill:#1f77b4;stroke:#1f77b4;\" x=\"141.05236\" xlink:href=\"#m157d22b7af\" y=\"75.773969\"/>\n     <use style=\"fill:#1f77b4;stroke:#1f77b4;\" x=\"75.608228\" xlink:href=\"#m157d22b7af\" y=\"30.443226\"/>\n     <use style=\"fill:#1f77b4;stroke:#1f77b4;\" x=\"138.149479\" xlink:href=\"#m157d22b7af\" y=\"79.791138\"/>\n     <use style=\"fill:#1f77b4;stroke:#1f77b4;\" x=\"111.876328\" xlink:href=\"#m157d22b7af\" y=\"72.212403\"/>\n     <use style=\"fill:#1f77b4;stroke:#1f77b4;\" x=\"133.261918\" xlink:href=\"#m157d22b7af\" y=\"67.374338\"/>\n     <use style=\"fill:#1f77b4;stroke:#1f77b4;\" x=\"145.633568\" xlink:href=\"#m157d22b7af\" y=\"84.477458\"/>\n     <use style=\"fill:#1f77b4;stroke:#1f77b4;\" x=\"117.17131\" xlink:href=\"#m157d22b7af\" y=\"74.809388\"/>\n     <use style=\"fill:#1f77b4;stroke:#1f77b4;\" x=\"117.00195\" xlink:href=\"#m157d22b7af\" y=\"75.924638\"/>\n     <use style=\"fill:#1f77b4;stroke:#1f77b4;\" x=\"101.655497\" xlink:href=\"#m157d22b7af\" y=\"45.321577\"/>\n     <use style=\"fill:#1f77b4;stroke:#1f77b4;\" x=\"154.693941\" xlink:href=\"#m157d22b7af\" y=\"77.014876\"/>\n     <use style=\"fill:#1f77b4;stroke:#1f77b4;\" x=\"78.003006\" xlink:href=\"#m157d22b7af\" y=\"41.812412\"/>\n     <use style=\"fill:#1f77b4;stroke:#1f77b4;\" x=\"150.615708\" xlink:href=\"#m157d22b7af\" y=\"81.556903\"/>\n     <use style=\"fill:#1f77b4;stroke:#1f77b4;\" x=\"116.072847\" xlink:href=\"#m157d22b7af\" y=\"56.896016\"/>\n     <use style=\"fill:#1f77b4;stroke:#1f77b4;\" x=\"123.199778\" xlink:href=\"#m157d22b7af\" y=\"84.664649\"/>\n     <use style=\"fill:#1f77b4;stroke:#1f77b4;\" x=\"134.31377\" xlink:href=\"#m157d22b7af\" y=\"81.953657\"/>\n     <use style=\"fill:#1f77b4;stroke:#1f77b4;\" x=\"79.797603\" xlink:href=\"#m157d22b7af\" y=\"33.993421\"/>\n     <use style=\"fill:#1f77b4;stroke:#1f77b4;\" x=\"118.707783\" xlink:href=\"#m157d22b7af\" y=\"65.008077\"/>\n     <use style=\"fill:#1f77b4;stroke:#1f77b4;\" x=\"171.931628\" xlink:href=\"#m157d22b7af\" y=\"105.257545\"/>\n     <use style=\"fill:#1f77b4;stroke:#1f77b4;\" x=\"139.766521\" xlink:href=\"#m157d22b7af\" y=\"96.802006\"/>\n     <use style=\"fill:#1f77b4;stroke:#1f77b4;\" x=\"100.659026\" xlink:href=\"#m157d22b7af\" y=\"51.563274\"/>\n     <use style=\"fill:#1f77b4;stroke:#1f77b4;\" x=\"137.398768\" xlink:href=\"#m157d22b7af\" y=\"69.274372\"/>\n     <use style=\"fill:#1f77b4;stroke:#1f77b4;\" x=\"111.727934\" xlink:href=\"#m157d22b7af\" y=\"61.182766\"/>\n     <use style=\"fill:#1f77b4;stroke:#1f77b4;\" x=\"135.290362\" xlink:href=\"#m157d22b7af\" y=\"93.923533\"/>\n     <use style=\"fill:#1f77b4;stroke:#1f77b4;\" x=\"151.837248\" xlink:href=\"#m157d22b7af\" y=\"101.039138\"/>\n     <use style=\"fill:#1f77b4;stroke:#1f77b4;\" x=\"130.328777\" xlink:href=\"#m157d22b7af\" y=\"85.647976\"/>\n     <use style=\"fill:#1f77b4;stroke:#1f77b4;\" x=\"151.196733\" xlink:href=\"#m157d22b7af\" y=\"74.476711\"/>\n     <use style=\"fill:#1f77b4;stroke:#1f77b4;\" x=\"129.370923\" xlink:href=\"#m157d22b7af\" y=\"75.388476\"/>\n     <use style=\"fill:#1f77b4;stroke:#1f77b4;\" x=\"124.372837\" xlink:href=\"#m157d22b7af\" y=\"58.035144\"/>\n     <use style=\"fill:#1f77b4;stroke:#1f77b4;\" x=\"136.703061\" xlink:href=\"#m157d22b7af\" y=\"64.522843\"/>\n     <use style=\"fill:#1f77b4;stroke:#1f77b4;\" x=\"146.480468\" xlink:href=\"#m157d22b7af\" y=\"90.259737\"/>\n     <use style=\"fill:#1f77b4;stroke:#1f77b4;\" x=\"133.038278\" xlink:href=\"#m157d22b7af\" y=\"70.4792\"/>\n     <use style=\"fill:#1f77b4;stroke:#1f77b4;\" x=\"149.660416\" xlink:href=\"#m157d22b7af\" y=\"88.028023\"/>\n     <use style=\"fill:#1f77b4;stroke:#1f77b4;\" x=\"155.680221\" xlink:href=\"#m157d22b7af\" y=\"84.990004\"/>\n     <use style=\"fill:#1f77b4;stroke:#1f77b4;\" x=\"173.845152\" xlink:href=\"#m157d22b7af\" y=\"92.380482\"/>\n     <use style=\"fill:#1f77b4;stroke:#1f77b4;\" x=\"125.123243\" xlink:href=\"#m157d22b7af\" y=\"78.724099\"/>\n     <use style=\"fill:#1f77b4;stroke:#1f77b4;\" x=\"127.493051\" xlink:href=\"#m157d22b7af\" y=\"78.96675\"/>\n     <use style=\"fill:#1f77b4;stroke:#1f77b4;\" x=\"164.137837\" xlink:href=\"#m157d22b7af\" y=\"103.090292\"/>\n     <use style=\"fill:#1f77b4;stroke:#1f77b4;\" x=\"141.367804\" xlink:href=\"#m157d22b7af\" y=\"79.587084\"/>\n     <use style=\"fill:#1f77b4;stroke:#1f77b4;\" x=\"138.992875\" xlink:href=\"#m157d22b7af\" y=\"94.933598\"/>\n     <use style=\"fill:#1f77b4;stroke:#1f77b4;\" x=\"144.813327\" xlink:href=\"#m157d22b7af\" y=\"102.114672\"/>\n     <use style=\"fill:#1f77b4;stroke:#1f77b4;\" x=\"129.396786\" xlink:href=\"#m157d22b7af\" y=\"60.917546\"/>\n     <use style=\"fill:#1f77b4;stroke:#1f77b4;\" x=\"123.882951\" xlink:href=\"#m157d22b7af\" y=\"61.196556\"/>\n     <use style=\"fill:#1f77b4;stroke:#1f77b4;\" x=\"140.917765\" xlink:href=\"#m157d22b7af\" y=\"86.242564\"/>\n     <use style=\"fill:#1f77b4;stroke:#1f77b4;\" x=\"157.460733\" xlink:href=\"#m157d22b7af\" y=\"91.288846\"/>\n     <use style=\"fill:#1f77b4;stroke:#1f77b4;\" x=\"142.100122\" xlink:href=\"#m157d22b7af\" y=\"74.847391\"/>\n     <use style=\"fill:#1f77b4;stroke:#1f77b4;\" x=\"104.715257\" xlink:href=\"#m157d22b7af\" y=\"53.498645\"/>\n    </g>\n   </g>\n   <g id=\"matplotlib.axis_1\">\n    <g id=\"xtick_1\">\n     <g id=\"line2d_1\">\n      <defs>\n       <path d=\"M 0 0 \nL 0 3.5 \n\" id=\"m746dfcbfe8\" style=\"stroke:#000000;stroke-width:0.8;\"/>\n      </defs>\n      <g>\n       <use style=\"stroke:#000000;stroke-width:0.8;\" x=\"73.420893\" xlink:href=\"#m746dfcbfe8\" y=\"143.1\"/>\n      </g>\n     </g>\n     <g id=\"text_1\">\n      <!-- −2 -->\n      <g transform=\"translate(66.0498 157.698438)scale(0.1 -0.1)\">\n       <defs>\n        <path d=\"M 10.59375 35.5 \nL 73.1875 35.5 \nL 73.1875 27.203125 \nL 10.59375 27.203125 \nz\n\" id=\"DejaVuSans-8722\"/>\n        <path d=\"M 19.1875 8.296875 \nL 53.609375 8.296875 \nL 53.609375 0 \nL 7.328125 0 \nL 7.328125 8.296875 \nQ 12.9375 14.109375 22.625 23.890625 \nQ 32.328125 33.6875 34.8125 36.53125 \nQ 39.546875 41.84375 41.421875 45.53125 \nQ 43.3125 49.21875 43.3125 52.78125 \nQ 43.3125 58.59375 39.234375 62.25 \nQ 35.15625 65.921875 28.609375 65.921875 \nQ 23.96875 65.921875 18.8125 64.3125 \nQ 13.671875 62.703125 7.8125 59.421875 \nL 7.8125 69.390625 \nQ 13.765625 71.78125 18.9375 73 \nQ 24.125 74.21875 28.421875 74.21875 \nQ 39.75 74.21875 46.484375 68.546875 \nQ 53.21875 62.890625 53.21875 53.421875 \nQ 53.21875 48.921875 51.53125 44.890625 \nQ 49.859375 40.875 45.40625 35.40625 \nQ 44.1875 33.984375 37.640625 27.21875 \nQ 31.109375 20.453125 19.1875 8.296875 \nz\n\" id=\"DejaVuSans-50\"/>\n       </defs>\n       <use xlink:href=\"#DejaVuSans-8722\"/>\n       <use x=\"83.789062\" xlink:href=\"#DejaVuSans-50\"/>\n      </g>\n     </g>\n    </g>\n    <g id=\"xtick_2\">\n     <g id=\"line2d_2\">\n      <g>\n       <use style=\"stroke:#000000;stroke-width:0.8;\" x=\"127.176952\" xlink:href=\"#m746dfcbfe8\" y=\"143.1\"/>\n      </g>\n     </g>\n     <g id=\"text_2\">\n      <!-- 0 -->\n      <g transform=\"translate(123.995702 157.698438)scale(0.1 -0.1)\">\n       <defs>\n        <path d=\"M 31.78125 66.40625 \nQ 24.171875 66.40625 20.328125 58.90625 \nQ 16.5 51.421875 16.5 36.375 \nQ 16.5 21.390625 20.328125 13.890625 \nQ 24.171875 6.390625 31.78125 6.390625 \nQ 39.453125 6.390625 43.28125 13.890625 \nQ 47.125 21.390625 47.125 36.375 \nQ 47.125 51.421875 43.28125 58.90625 \nQ 39.453125 66.40625 31.78125 66.40625 \nz\nM 31.78125 74.21875 \nQ 44.046875 74.21875 50.515625 64.515625 \nQ 56.984375 54.828125 56.984375 36.375 \nQ 56.984375 17.96875 50.515625 8.265625 \nQ 44.046875 -1.421875 31.78125 -1.421875 \nQ 19.53125 -1.421875 13.0625 8.265625 \nQ 6.59375 17.96875 6.59375 36.375 \nQ 6.59375 54.828125 13.0625 64.515625 \nQ 19.53125 74.21875 31.78125 74.21875 \nz\n\" id=\"DejaVuSans-48\"/>\n       </defs>\n       <use xlink:href=\"#DejaVuSans-48\"/>\n      </g>\n     </g>\n    </g>\n    <g id=\"xtick_3\">\n     <g id=\"line2d_3\">\n      <g>\n       <use style=\"stroke:#000000;stroke-width:0.8;\" x=\"180.93301\" xlink:href=\"#m746dfcbfe8\" y=\"143.1\"/>\n      </g>\n     </g>\n     <g id=\"text_3\">\n      <!-- 2 -->\n      <g transform=\"translate(177.75176 157.698438)scale(0.1 -0.1)\">\n       <use xlink:href=\"#DejaVuSans-50\"/>\n      </g>\n     </g>\n    </g>\n   </g>\n   <g id=\"matplotlib.axis_2\">\n    <g id=\"ytick_1\">\n     <g id=\"line2d_4\">\n      <defs>\n       <path d=\"M 0 0 \nL -3.5 0 \n\" id=\"m284a2bdb21\" style=\"stroke:#000000;stroke-width:0.8;\"/>\n      </defs>\n      <g>\n       <use style=\"stroke:#000000;stroke-width:0.8;\" x=\"35.304688\" xlink:href=\"#m284a2bdb21\" y=\"142.658772\"/>\n      </g>\n     </g>\n     <g id=\"text_4\">\n      <!-- −10 -->\n      <g transform=\"translate(7.2 146.457991)scale(0.1 -0.1)\">\n       <defs>\n        <path d=\"M 12.40625 8.296875 \nL 28.515625 8.296875 \nL 28.515625 63.921875 \nL 10.984375 60.40625 \nL 10.984375 69.390625 \nL 28.421875 72.90625 \nL 38.28125 72.90625 \nL 38.28125 8.296875 \nL 54.390625 8.296875 \nL 54.390625 0 \nL 12.40625 0 \nz\n\" id=\"DejaVuSans-49\"/>\n       </defs>\n       <use xlink:href=\"#DejaVuSans-8722\"/>\n       <use x=\"83.789062\" xlink:href=\"#DejaVuSans-49\"/>\n       <use x=\"147.412109\" xlink:href=\"#DejaVuSans-48\"/>\n      </g>\n     </g>\n    </g>\n    <g id=\"ytick_2\">\n     <g id=\"line2d_5\">\n      <g>\n       <use style=\"stroke:#000000;stroke-width:0.8;\" x=\"35.304688\" xlink:href=\"#m284a2bdb21\" y=\"118.021233\"/>\n      </g>\n     </g>\n     <g id=\"text_5\">\n      <!-- −5 -->\n      <g transform=\"translate(13.5625 121.820451)scale(0.1 -0.1)\">\n       <defs>\n        <path d=\"M 10.796875 72.90625 \nL 49.515625 72.90625 \nL 49.515625 64.59375 \nL 19.828125 64.59375 \nL 19.828125 46.734375 \nQ 21.96875 47.46875 24.109375 47.828125 \nQ 26.265625 48.1875 28.421875 48.1875 \nQ 40.625 48.1875 47.75 41.5 \nQ 54.890625 34.8125 54.890625 23.390625 \nQ 54.890625 11.625 47.5625 5.09375 \nQ 40.234375 -1.421875 26.90625 -1.421875 \nQ 22.3125 -1.421875 17.546875 -0.640625 \nQ 12.796875 0.140625 7.71875 1.703125 \nL 7.71875 11.625 \nQ 12.109375 9.234375 16.796875 8.0625 \nQ 21.484375 6.890625 26.703125 6.890625 \nQ 35.15625 6.890625 40.078125 11.328125 \nQ 45.015625 15.765625 45.015625 23.390625 \nQ 45.015625 31 40.078125 35.4375 \nQ 35.15625 39.890625 26.703125 39.890625 \nQ 22.75 39.890625 18.8125 39.015625 \nQ 14.890625 38.140625 10.796875 36.28125 \nz\n\" id=\"DejaVuSans-53\"/>\n       </defs>\n       <use xlink:href=\"#DejaVuSans-8722\"/>\n       <use x=\"83.789062\" xlink:href=\"#DejaVuSans-53\"/>\n      </g>\n     </g>\n    </g>\n    <g id=\"ytick_3\">\n     <g id=\"line2d_6\">\n      <g>\n       <use style=\"stroke:#000000;stroke-width:0.8;\" x=\"35.304688\" xlink:href=\"#m284a2bdb21\" y=\"93.383693\"/>\n      </g>\n     </g>\n     <g id=\"text_6\">\n      <!-- 0 -->\n      <g transform=\"translate(21.942187 97.182912)scale(0.1 -0.1)\">\n       <use xlink:href=\"#DejaVuSans-48\"/>\n      </g>\n     </g>\n    </g>\n    <g id=\"ytick_4\">\n     <g id=\"line2d_7\">\n      <g>\n       <use style=\"stroke:#000000;stroke-width:0.8;\" x=\"35.304688\" xlink:href=\"#m284a2bdb21\" y=\"68.746154\"/>\n      </g>\n     </g>\n     <g id=\"text_7\">\n      <!-- 5 -->\n      <g transform=\"translate(21.942187 72.545373)scale(0.1 -0.1)\">\n       <use xlink:href=\"#DejaVuSans-53\"/>\n      </g>\n     </g>\n    </g>\n    <g id=\"ytick_5\">\n     <g id=\"line2d_8\">\n      <g>\n       <use style=\"stroke:#000000;stroke-width:0.8;\" x=\"35.304688\" xlink:href=\"#m284a2bdb21\" y=\"44.108614\"/>\n      </g>\n     </g>\n     <g id=\"text_8\">\n      <!-- 10 -->\n      <g transform=\"translate(15.579687 47.907833)scale(0.1 -0.1)\">\n       <use xlink:href=\"#DejaVuSans-49\"/>\n       <use x=\"63.623047\" xlink:href=\"#DejaVuSans-48\"/>\n      </g>\n     </g>\n    </g>\n    <g id=\"ytick_6\">\n     <g id=\"line2d_9\">\n      <g>\n       <use style=\"stroke:#000000;stroke-width:0.8;\" x=\"35.304688\" xlink:href=\"#m284a2bdb21\" y=\"19.471075\"/>\n      </g>\n     </g>\n     <g id=\"text_9\">\n      <!-- 15 -->\n      <g transform=\"translate(15.579687 23.270294)scale(0.1 -0.1)\">\n       <use xlink:href=\"#DejaVuSans-49\"/>\n       <use x=\"63.623047\" xlink:href=\"#DejaVuSans-53\"/>\n      </g>\n     </g>\n    </g>\n   </g>\n   <g id=\"patch_3\">\n    <path d=\"M 35.304688 143.1 \nL 35.304688 7.2 \n\" style=\"fill:none;stroke:#000000;stroke-linecap:square;stroke-linejoin:miter;stroke-width:0.8;\"/>\n   </g>\n   <g id=\"patch_4\">\n    <path d=\"M 230.604688 143.1 \nL 230.604688 7.2 \n\" style=\"fill:none;stroke:#000000;stroke-linecap:square;stroke-linejoin:miter;stroke-width:0.8;\"/>\n   </g>\n   <g id=\"patch_5\">\n    <path d=\"M 35.304688 143.1 \nL 230.604688 143.1 \n\" style=\"fill:none;stroke:#000000;stroke-linecap:square;stroke-linejoin:miter;stroke-width:0.8;\"/>\n   </g>\n   <g id=\"patch_6\">\n    <path d=\"M 35.304688 7.2 \nL 230.604688 7.2 \n\" style=\"fill:none;stroke:#000000;stroke-linecap:square;stroke-linejoin:miter;stroke-width:0.8;\"/>\n   </g>\n  </g>\n </g>\n <defs>\n  <clipPath id=\"p0822743fdd\">\n   <rect height=\"135.9\" width=\"195.3\" x=\"35.304688\" y=\"7.2\"/>\n  </clipPath>\n </defs>\n</svg>\n",
      "text/plain": [
       "<Figure size 252x180 with 1 Axes>"
      ]
     },
     "metadata": {
      "needs_background": "light"
     },
     "output_type": "display_data"
    }
   ],
   "source": [
    "def use_svg_displty():\n",
    "    # 用矢量图显示\n",
    "    display.set_matplotlib_formats('svg')\n",
    "\n",
    "def set_figsize(figsize=(3.5,2.5)):\n",
    "    use_svg_displty()\n",
    "    # 设置图的尺寸\n",
    "    plt.rcParams['figure.figsize'] = figsize\n",
    "\n",
    "set_figsize()\n",
    "plt.scatter(features[:,1].numpy(),labels.numpy(),1)\n"
   ]
  },
  {
   "cell_type": "markdown",
   "metadata": {},
   "source": [
    "读取数据"
   ]
  },
  {
   "cell_type": "code",
   "execution_count": 9,
   "metadata": {},
   "outputs": [],
   "source": [
    "def data_iter(batch_size,features,labels):\n",
    "    num_examples = len(features)\n",
    "    indices = list(range(num_examples))\n",
    "    random.shuffle(indices)  #样本的读取顺序是随机的\n",
    "    for i in range(0,num_examples,batch_size):\n",
    "        j = torch.LongTensor(indices[i:min(i + batch_size,num_examples)])\n",
    "        yield features.index_select(0,j),labels.index_select(0,j)"
   ]
  },
  {
   "cell_type": "code",
   "execution_count": 10,
   "metadata": {},
   "outputs": [
    {
     "name": "stdout",
     "output_type": "stream",
     "text": [
      "tensor([[ 0.1910,  0.5280],\n",
      "        [-0.8707, -0.2650],\n",
      "        [-0.3178,  0.2409],\n",
      "        [-0.1312,  0.1257],\n",
      "        [-1.1008, -0.9298],\n",
      "        [ 1.1406, -0.9824],\n",
      "        [ 0.1033, -0.9913],\n",
      "        [-1.0405,  0.6462],\n",
      "        [ 0.6736, -1.5604],\n",
      "        [-0.3801,  0.7144]]) tensor([ 2.7999,  3.3653,  2.7392,  3.5192,  5.1483,  9.8274,  7.7832, -0.0740,\n",
      "        10.8547,  1.0202])\n"
     ]
    }
   ],
   "source": [
    "batch_size = 10\n",
    "\n",
    "for X,y in data_iter(batch_size,features,labels):\n",
    "    print(X,y)\n",
    "    break"
   ]
  },
  {
   "cell_type": "markdown",
   "metadata": {},
   "source": [
    "初始化模型参数"
   ]
  },
  {
   "cell_type": "code",
   "execution_count": 11,
   "metadata": {},
   "outputs": [],
   "source": [
    "w = torch.tensor(np.random.normal(0,0.01,(num_inputs,1)),dtype=torch.float32)\n",
    "b = torch.zeros(1,dtype=torch.float32)"
   ]
  },
  {
   "cell_type": "code",
   "execution_count": 12,
   "metadata": {},
   "outputs": [
    {
     "data": {
      "text/plain": [
       "tensor([0.], requires_grad=True)"
      ]
     },
     "execution_count": 12,
     "metadata": {},
     "output_type": "execute_result"
    }
   ],
   "source": [
    "w.requires_grad_(requires_grad=True)\n",
    "b.requires_grad_(requires_grad=True)"
   ]
  },
  {
   "cell_type": "markdown",
   "metadata": {},
   "source": [
    "定义模型"
   ]
  },
  {
   "cell_type": "code",
   "execution_count": 13,
   "metadata": {},
   "outputs": [],
   "source": [
    "def linreg(X,w,b):\n",
    "    return torch.mm(X,w) + b"
   ]
  },
  {
   "cell_type": "markdown",
   "metadata": {},
   "source": [
    "定义损失函数"
   ]
  },
  {
   "cell_type": "code",
   "execution_count": 14,
   "metadata": {},
   "outputs": [],
   "source": [
    "def squared_loss(y_hat,y):\n",
    "    #这里返回的是向量，另外，pytorch里的MSELoss没有除以2\n",
    "    return (y_hat - y.view(y_hat.size())) ** 2 / 2"
   ]
  },
  {
   "cell_type": "markdown",
   "metadata": {},
   "source": [
    "定义优化算法"
   ]
  },
  {
   "cell_type": "code",
   "execution_count": 15,
   "metadata": {},
   "outputs": [],
   "source": [
    "def sgd(params,lr,batch_size):\n",
    "    for param in params:\n",
    "        param.data -= lr * param.grad /batch_size # 这里更改param时用的param.data"
   ]
  },
  {
   "cell_type": "markdown",
   "metadata": {},
   "source": [
    "训练模型"
   ]
  },
  {
   "cell_type": "code",
   "execution_count": 16,
   "metadata": {},
   "outputs": [
    {
     "name": "stdout",
     "output_type": "stream",
     "text": [
      "epoch 1,loss 0.040669\n",
      "epoch 2,loss 0.000173\n",
      "epoch 3,loss 0.000051\n"
     ]
    }
   ],
   "source": [
    "lr = 0.03\n",
    "num_epochs = 3\n",
    "net = linreg  # 函数指针\n",
    "loss = squared_loss # 函数指针\n",
    "\n",
    "for epoch in range(num_epochs):\n",
    "    for X,y in data_iter(batch_size,features,labels):\n",
    "        l = loss(net(X,w,b),y).sum()\n",
    "        l.backward() # 小批量的损失对模型参数求梯度\n",
    "        sgd([w,b],lr,batch_size)\n",
    "\n",
    "        w.grad.data.zero_()\n",
    "        b.grad.data.zero_()\n",
    "    \n",
    "    train_l = loss(net(features,w,b),labels)\n",
    "    print(\"epoch %d,loss %f\"% (epoch + 1,train_l.mean().item()))\n",
    "\n"
   ]
  },
  {
   "cell_type": "code",
   "execution_count": 17,
   "metadata": {},
   "outputs": [
    {
     "name": "stdout",
     "output_type": "stream",
     "text": [
      "[2, -3.4] \n",
      " tensor([[ 1.9995],\n",
      "        [-3.3993]], requires_grad=True)\n",
      "4.2 \n",
      " tensor([4.2002], requires_grad=True)\n"
     ]
    }
   ],
   "source": [
    "print(true_w,'\\n',w)\n",
    "print(true_b,'\\n',b)"
   ]
  },
  {
   "cell_type": "markdown",
   "metadata": {},
   "source": [
    "#### 3.3 线性回归简洁实现"
   ]
  },
  {
   "cell_type": "markdown",
   "metadata": {},
   "source": [
    "生成数据集"
   ]
  },
  {
   "cell_type": "code",
   "execution_count": 3,
   "metadata": {},
   "outputs": [],
   "source": [
    "#import torch\n",
    "#import numpy as np\n",
    "\n",
    "num_inputs = 2\n",
    "num_examples = 1000\n",
    "true_w = [2,-3.4]\n",
    "true_b = 4.2\n",
    "features = torch.tensor(np.random.normal(0,1,(num_examples,num_inputs)),dtype=torch.float)\n",
    "labels = true_w[0] * features[:,0] + true_w[1] * features[:,1] + true_b\n",
    "labels += torch.tensor(np.random.normal(0,0.01,size=labels.size()),dtype=torch.float)"
   ]
  },
  {
   "cell_type": "markdown",
   "metadata": {},
   "source": [
    "读取数据"
   ]
  },
  {
   "cell_type": "code",
   "execution_count": 4,
   "metadata": {},
   "outputs": [],
   "source": [
    "\n",
    "import torch.utils.data as Data\n",
    "\n",
    "batch_size = 10\n",
    "# 将训练数据的特征和标签组合\n",
    "dataset = Data.TensorDataset(features,labels)\n",
    "# 随机读取小批量\n",
    "data_iter = Data.DataLoader(dataset,batch_size,shuffle=True)"
   ]
  },
  {
   "cell_type": "code",
   "execution_count": 5,
   "metadata": {},
   "outputs": [
    {
     "name": "stdout",
     "output_type": "stream",
     "text": [
      "tensor([[ 0.5137,  1.2511],\n",
      "        [ 0.3722, -0.5118],\n",
      "        [-0.6826, -0.3698],\n",
      "        [-1.0106, -0.9402],\n",
      "        [-0.3492,  0.2544],\n",
      "        [ 0.0029, -0.3771],\n",
      "        [-1.0582,  0.6610],\n",
      "        [-0.8917, -0.5560],\n",
      "        [ 0.5919,  1.4799],\n",
      "        [-0.8957,  0.2207]]) tensor([ 0.9812,  6.6858,  4.0839,  5.3729,  2.6483,  5.4916, -0.1626,  4.3001,\n",
      "         0.3389,  1.6599])\n"
     ]
    }
   ],
   "source": [
    "for X,y in data_iter:\n",
    "    print(X,y)\n",
    "    break"
   ]
  },
  {
   "cell_type": "markdown",
   "metadata": {},
   "source": [
    "定义模型"
   ]
  },
  {
   "cell_type": "code",
   "execution_count": 6,
   "metadata": {},
   "outputs": [
    {
     "name": "stdout",
     "output_type": "stream",
     "text": [
      "LinearNet(\n",
      "  (linear): Linear(in_features=2, out_features=1, bias=True)\n",
      ")\n"
     ]
    }
   ],
   "source": [
    "from torch import nn\n",
    "class LinearNet(nn.Module):\n",
    "    def __init__(self,n_feature) -> None:\n",
    "        super(LinearNet,self).__init__()\n",
    "        self.linear = nn.Linear(n_feature,1)\n",
    "    \n",
    "    # forward定义前向传播\n",
    "    def forward(self,x):\n",
    "        y = self.linear(x)\n",
    "        return y\n",
    "\n",
    "net = LinearNet(num_inputs)\n",
    "print(net)"
   ]
  },
  {
   "cell_type": "code",
   "execution_count": 7,
   "metadata": {},
   "outputs": [],
   "source": [
    "net = nn.Sequential(\n",
    "    nn.Linear(num_inputs,1)\n",
    "    # 此处还可以传入其他层\n",
    ")\n",
    "\n",
    "# net = nn.Sequential()\n",
    "# net.add_module('linear',nn.Linear(num_inputs,1))\n",
    "\n",
    "# from collections import OrderedDict\n",
    "# net = nn.Sequential(OrderedDict([\n",
    "#     ('linear',nn.Linear(num_inputs,1))\n",
    "# ]))\n",
    "\n",
    "# print(net)\n",
    "# print(net[0])"
   ]
  },
  {
   "cell_type": "code",
   "execution_count": 8,
   "metadata": {},
   "outputs": [
    {
     "name": "stdout",
     "output_type": "stream",
     "text": [
      "Parameter containing:\n",
      "tensor([[0.5026, 0.3824]], requires_grad=True)\n",
      "Parameter containing:\n",
      "tensor([0.4951], requires_grad=True)\n"
     ]
    }
   ],
   "source": [
    "for param in net.parameters():\n",
    "    print(param)"
   ]
  },
  {
   "cell_type": "markdown",
   "metadata": {},
   "source": [
    "初始化模型参数"
   ]
  },
  {
   "cell_type": "code",
   "execution_count": 9,
   "metadata": {},
   "outputs": [
    {
     "data": {
      "text/plain": [
       "Parameter containing:\n",
       "tensor([0.], requires_grad=True)"
      ]
     },
     "execution_count": 9,
     "metadata": {},
     "output_type": "execute_result"
    }
   ],
   "source": [
    "from torch.nn import init\n",
    "\n",
    "init.normal_(net[0].weight,mean=0,std=0.01)\n",
    "init.constant_(net[0].bias,val=0)"
   ]
  },
  {
   "cell_type": "markdown",
   "metadata": {},
   "source": [
    "定义损失函数"
   ]
  },
  {
   "cell_type": "code",
   "execution_count": 13,
   "metadata": {},
   "outputs": [],
   "source": [
    "loss = nn.MSELoss()"
   ]
  },
  {
   "cell_type": "markdown",
   "metadata": {},
   "source": [
    "定义优化算法"
   ]
  },
  {
   "cell_type": "code",
   "execution_count": 10,
   "metadata": {},
   "outputs": [
    {
     "name": "stdout",
     "output_type": "stream",
     "text": [
      "SGD (\n",
      "Parameter Group 0\n",
      "    dampening: 0\n",
      "    lr: 0.03\n",
      "    momentum: 0\n",
      "    nesterov: False\n",
      "    weight_decay: 0\n",
      ")\n"
     ]
    }
   ],
   "source": [
    "import torch.optim as optim\n",
    "\n",
    "optimizer = optim.SGD(net.parameters(),lr=0.03)\n",
    "print(optimizer)"
   ]
  },
  {
   "cell_type": "code",
   "execution_count": 26,
   "metadata": {},
   "outputs": [],
   "source": [
    "#optimizer = optim.SGD([\n",
    "#    {'param':net.subnet1.parameters()},\n",
    "#    {'params':net.subnet2.parameters(),'lr':0.01}\n",
    "#])"
   ]
  },
  {
   "cell_type": "code",
   "execution_count": 11,
   "metadata": {},
   "outputs": [],
   "source": [
    "for param_group in optimizer.param_groups:\n",
    "    param_group['lr'] *= .1"
   ]
  },
  {
   "cell_type": "markdown",
   "metadata": {},
   "source": [
    "训练模型"
   ]
  },
  {
   "cell_type": "code",
   "execution_count": 14,
   "metadata": {},
   "outputs": [
    {
     "name": "stdout",
     "output_type": "stream",
     "text": [
      "epoch 1,loss: 7.015882\n",
      "epoch 2,loss: 3.149165\n",
      "epoch 3,loss: 1.366560\n"
     ]
    }
   ],
   "source": [
    "num_epochs = 3\n",
    "for epoch in range(1,num_epochs + 1):\n",
    "    for X,y in data_iter:\n",
    "        output = net(X)\n",
    "        l = loss(output,y.view(-1,1))\n",
    "        optimizer.zero_grad()\n",
    "        l.backward()\n",
    "        optimizer.step()\n",
    "    print(\"epoch %d,loss: %f\"%(epoch,l.item()))"
   ]
  },
  {
   "cell_type": "code",
   "execution_count": null,
   "metadata": {},
   "outputs": [],
   "source": []
  }
 ],
 "metadata": {
  "kernelspec": {
   "display_name": "Python 3.8.5 ('pytorch-gpu')",
   "language": "python",
   "name": "python3"
  },
  "language_info": {
   "codemirror_mode": {
    "name": "ipython",
    "version": 3
   },
   "file_extension": ".py",
   "mimetype": "text/x-python",
   "name": "python",
   "nbconvert_exporter": "python",
   "pygments_lexer": "ipython3",
   "version": "3.8.5"
  },
  "orig_nbformat": 4,
  "vscode": {
   "interpreter": {
    "hash": "7d78f093ae3097d2c206eeb87bf8bff57f7bc07dc4f4326bfc661f6bb55e15a7"
   }
  }
 },
 "nbformat": 4,
 "nbformat_minor": 2
}
