{
 "cells": [
  {
   "cell_type": "code",
   "execution_count": 1,
   "metadata": {},
   "outputs": [],
   "source": [
    "import torch"
   ]
  },
  {
   "cell_type": "code",
   "execution_count": 2,
   "metadata": {},
   "outputs": [
    {
     "name": "stdout",
     "output_type": "stream",
     "text": [
      "tensor([[2.0362e-19, 4.9569e+33, 2.0193e-19],\n",
      "        [4.2951e+24, 1.7866e+25, 6.6635e-33],\n",
      "        [4.3612e+27, 8.7518e-04, 1.1692e-19],\n",
      "        [1.5637e-01, 1.3000e+34, 5.0782e+31],\n",
      "        [4.2964e+24, 2.7944e+20, 1.2734e-14]])\n"
     ]
    }
   ],
   "source": [
    "x = torch.empty(5,3)\n",
    "print(x)"
   ]
  },
  {
   "cell_type": "code",
   "execution_count": 4,
   "metadata": {},
   "outputs": [
    {
     "name": "stdout",
     "output_type": "stream",
     "text": [
      "tensor([[0.4291, 0.5841, 0.8863],\n",
      "        [0.5343, 0.4461, 0.3762],\n",
      "        [0.7296, 0.1708, 0.3496],\n",
      "        [0.9728, 0.9730, 0.9080],\n",
      "        [0.9256, 0.7843, 0.2624]])\n"
     ]
    }
   ],
   "source": [
    "x = torch.rand(5,3)\n",
    "print(x)"
   ]
  },
  {
   "cell_type": "code",
   "execution_count": 6,
   "metadata": {},
   "outputs": [
    {
     "name": "stdout",
     "output_type": "stream",
     "text": [
      "tensor([[0, 0, 0],\n",
      "        [0, 0, 0],\n",
      "        [0, 0, 0],\n",
      "        [0, 0, 0],\n",
      "        [0, 0, 0]])\n"
     ]
    }
   ],
   "source": [
    "x = torch.zeros(5,3,dtype=torch.long)\n",
    "print(x)"
   ]
  },
  {
   "cell_type": "code",
   "execution_count": 7,
   "metadata": {},
   "outputs": [
    {
     "name": "stdout",
     "output_type": "stream",
     "text": [
      "tensor([5.5000, 3.0000])\n"
     ]
    }
   ],
   "source": [
    "x = torch.tensor([5.5,3])\n",
    "print(x)"
   ]
  },
  {
   "cell_type": "code",
   "execution_count": 9,
   "metadata": {},
   "outputs": [
    {
     "name": "stdout",
     "output_type": "stream",
     "text": [
      "tensor([[1., 1., 1.],\n",
      "        [1., 1., 1.],\n",
      "        [1., 1., 1.],\n",
      "        [1., 1., 1.],\n",
      "        [1., 1., 1.]], dtype=torch.float64)\n",
      "tensor([[-1.0454,  0.2893, -1.6613],\n",
      "        [ 0.3727, -0.5649, -0.2208],\n",
      "        [ 0.2568,  1.1826,  0.9300],\n",
      "        [-1.5254, -1.0812, -1.0497],\n",
      "        [-0.2969,  1.1319,  0.7508]])\n"
     ]
    }
   ],
   "source": [
    "x = x.new_ones(5,3,dtype=torch.float64)\n",
    "print(x)\n",
    "\n",
    "x = torch.randn_like(x,dtype=torch.float)\n",
    "print(x)"
   ]
  },
  {
   "cell_type": "code",
   "execution_count": 10,
   "metadata": {},
   "outputs": [
    {
     "name": "stdout",
     "output_type": "stream",
     "text": [
      "torch.Size([5, 3])\n",
      "torch.Size([5, 3])\n"
     ]
    }
   ],
   "source": [
    "print(x.size())\n",
    "\n",
    "print(x.shape)"
   ]
  },
  {
   "cell_type": "markdown",
   "metadata": {},
   "source": [
    "算术操作"
   ]
  },
  {
   "cell_type": "code",
   "execution_count": 11,
   "metadata": {},
   "outputs": [
    {
     "name": "stdout",
     "output_type": "stream",
     "text": [
      "tensor([[-0.8791,  0.6874, -1.0183],\n",
      "        [ 0.9188, -0.4296,  0.7785],\n",
      "        [ 1.0185,  1.9895,  1.6307],\n",
      "        [-1.4160, -0.6949, -0.3417],\n",
      "        [ 0.1788,  1.2611,  1.4612]])\n"
     ]
    }
   ],
   "source": [
    "y = torch.rand(5,3)\n",
    "print(x+y)"
   ]
  },
  {
   "cell_type": "code",
   "execution_count": 12,
   "metadata": {},
   "outputs": [
    {
     "name": "stdout",
     "output_type": "stream",
     "text": [
      "tensor([[-0.8791,  0.6874, -1.0183],\n",
      "        [ 0.9188, -0.4296,  0.7785],\n",
      "        [ 1.0185,  1.9895,  1.6307],\n",
      "        [-1.4160, -0.6949, -0.3417],\n",
      "        [ 0.1788,  1.2611,  1.4612]])\n"
     ]
    }
   ],
   "source": [
    "print(torch.add(x,y))"
   ]
  },
  {
   "cell_type": "code",
   "execution_count": 13,
   "metadata": {},
   "outputs": [
    {
     "name": "stdout",
     "output_type": "stream",
     "text": [
      "tensor([[-0.8791,  0.6874, -1.0183],\n",
      "        [ 0.9188, -0.4296,  0.7785],\n",
      "        [ 1.0185,  1.9895,  1.6307],\n",
      "        [-1.4160, -0.6949, -0.3417],\n",
      "        [ 0.1788,  1.2611,  1.4612]])\n"
     ]
    }
   ],
   "source": [
    "result = torch.empty(5,3)\n",
    "torch.add(x,y,out=result)\n",
    "print(result)"
   ]
  },
  {
   "cell_type": "code",
   "execution_count": 14,
   "metadata": {},
   "outputs": [
    {
     "name": "stdout",
     "output_type": "stream",
     "text": [
      "tensor([[0.1663, 0.3981, 0.6430],\n",
      "        [0.5461, 0.1353, 0.9993],\n",
      "        [0.7616, 0.8069, 0.7007],\n",
      "        [0.1094, 0.3863, 0.7080],\n",
      "        [0.4757, 0.1292, 0.7104]])\n",
      "tensor([[-0.8791,  0.6874, -1.0183],\n",
      "        [ 0.9188, -0.4296,  0.7785],\n",
      "        [ 1.0185,  1.9895,  1.6307],\n",
      "        [-1.4160, -0.6949, -0.3417],\n",
      "        [ 0.1788,  1.2611,  1.4612]])\n"
     ]
    }
   ],
   "source": [
    "print(y)\n",
    "y.add_(x)   #adds x to y\n",
    "print(y)"
   ]
  },
  {
   "cell_type": "markdown",
   "metadata": {},
   "source": [
    "索引"
   ]
  },
  {
   "cell_type": "code",
   "execution_count": 15,
   "metadata": {},
   "outputs": [
    {
     "name": "stdout",
     "output_type": "stream",
     "text": [
      "y tensor([[-0.8791,  0.6874, -1.0183],\n",
      "        [ 0.9188, -0.4296,  0.7785],\n",
      "        [ 1.0185,  1.9895,  1.6307],\n",
      "        [-1.4160, -0.6949, -0.3417],\n",
      "        [ 0.1788,  1.2611,  1.4612]])\n",
      "x tensor([[-1.0454,  0.2893, -1.6613],\n",
      "        [ 0.3727, -0.5649, -0.2208],\n",
      "        [ 0.2568,  1.1826,  0.9300],\n",
      "        [-1.5254, -1.0812, -1.0497],\n",
      "        [-0.2969,  1.1319,  0.7508]])\n",
      "tensor([-0.0454,  1.2893, -0.6613])\n",
      "tensor([-0.0454,  1.2893, -0.6613])\n"
     ]
    }
   ],
   "source": [
    "print('y',y)\n",
    "print('x',x)\n",
    "y = x[0,:] #浅拷贝\n",
    "y += 1\n",
    "print(y)\n",
    "print(x[0,:])"
   ]
  },
  {
   "cell_type": "markdown",
   "metadata": {},
   "source": [
    "改变形状"
   ]
  },
  {
   "cell_type": "code",
   "execution_count": 16,
   "metadata": {},
   "outputs": [
    {
     "name": "stdout",
     "output_type": "stream",
     "text": [
      "tensor([-0.0454,  1.2893, -0.6613])\n",
      "tensor([[-0.0454,  1.2893, -0.6613],\n",
      "        [ 0.3727, -0.5649, -0.2208],\n",
      "        [ 0.2568,  1.1826,  0.9300],\n",
      "        [-1.5254, -1.0812, -1.0497],\n",
      "        [-0.2969,  1.1319,  0.7508]])\n",
      "torch.Size([5, 3]) torch.Size([15]) torch.Size([3, 5])\n"
     ]
    }
   ],
   "source": [
    "print(y)\n",
    "print(x)\n",
    "y = x.view(15)\n",
    "z = x.view(-1,5) #-1表示推理维度\n",
    "print(x.size(),y.size(),z.size())"
   ]
  },
  {
   "cell_type": "code",
   "execution_count": 17,
   "metadata": {},
   "outputs": [
    {
     "name": "stdout",
     "output_type": "stream",
     "text": [
      "tensor([[ 0.9546,  2.2893,  0.3387],\n",
      "        [ 1.3727,  0.4351,  0.7792],\n",
      "        [ 1.2568,  2.1826,  1.9300],\n",
      "        [-0.5254, -0.0812, -0.0497],\n",
      "        [ 0.7031,  2.1319,  1.7508]])\n",
      "tensor([ 0.9546,  2.2893,  0.3387,  1.3727,  0.4351,  0.7792,  1.2568,  2.1826,\n",
      "         1.9300, -0.5254, -0.0812, -0.0497,  0.7031,  2.1319,  1.7508])\n"
     ]
    }
   ],
   "source": [
    "x += 1\n",
    "print(x)\n",
    "print(y) "
   ]
  },
  {
   "cell_type": "code",
   "execution_count": 18,
   "metadata": {},
   "outputs": [
    {
     "name": "stdout",
     "output_type": "stream",
     "text": [
      "tensor([[-0.0454,  1.2893, -0.6613],\n",
      "        [ 0.3727, -0.5649, -0.2208],\n",
      "        [ 0.2568,  1.1826,  0.9300],\n",
      "        [-1.5254, -1.0812, -1.0497],\n",
      "        [-0.2969,  1.1319,  0.7508]])\n",
      "tensor([ 0.9546,  2.2893,  0.3387,  1.3727,  0.4351,  0.7792,  1.2568,  2.1826,\n",
      "         1.9300, -0.5254, -0.0812, -0.0497,  0.7031,  2.1319,  1.7508])\n"
     ]
    }
   ],
   "source": [
    "x_cp = x.clone().view(15)\n",
    "x -= 1\n",
    "print(x)\n",
    "print(x_cp)"
   ]
  },
  {
   "cell_type": "code",
   "execution_count": 19,
   "metadata": {},
   "outputs": [
    {
     "name": "stdout",
     "output_type": "stream",
     "text": [
      "tensor([-1.0412])\n",
      "-1.0411995649337769\n"
     ]
    }
   ],
   "source": [
    "x = torch.randn(1)\n",
    "print(x)\n",
    "print(x.item())"
   ]
  },
  {
   "cell_type": "markdown",
   "metadata": {},
   "source": [
    "线性代数"
   ]
  },
  {
   "cell_type": "markdown",
   "metadata": {},
   "source": []
  }
 ],
 "metadata": {
  "kernelspec": {
   "display_name": "Python 3.8.5 ('pytorch-gpu')",
   "language": "python",
   "name": "python3"
  },
  "language_info": {
   "codemirror_mode": {
    "name": "ipython",
    "version": 3
   },
   "file_extension": ".py",
   "mimetype": "text/x-python",
   "name": "python",
   "nbconvert_exporter": "python",
   "pygments_lexer": "ipython3",
   "version": "3.8.5"
  },
  "orig_nbformat": 4,
  "vscode": {
   "interpreter": {
    "hash": "7d78f093ae3097d2c206eeb87bf8bff57f7bc07dc4f4326bfc661f6bb55e15a7"
   }
  }
 },
 "nbformat": 4,
 "nbformat_minor": 2
}
