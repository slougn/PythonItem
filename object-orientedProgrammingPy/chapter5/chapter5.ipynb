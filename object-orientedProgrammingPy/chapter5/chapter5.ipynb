{
 "cells": [
  {
   "cell_type": "code",
   "execution_count": 1,
   "metadata": {},
   "outputs": [],
   "source": [
    "class Silly:\n",
    "    def _get_silly(self):\n",
    "        print(\"You are getting silly\")\n",
    "        return self._silly\n",
    "    def _set_silly(self,value):\n",
    "        print(\"You are making silly {}\".format(value))\n",
    "        self._silly = value\n",
    "    def _del_silly(self):\n",
    "        print(\"Whoah,you killed silly!\")\n",
    "        del self._silly\n",
    "    silly = property(_get_silly,_set_silly,_del_silly,\"This is a silly property\")"
   ]
  },
  {
   "cell_type": "code",
   "execution_count": 2,
   "metadata": {},
   "outputs": [],
   "source": [
    "s = Silly()"
   ]
  },
  {
   "cell_type": "code",
   "execution_count": 3,
   "metadata": {},
   "outputs": [
    {
     "name": "stdout",
     "output_type": "stream",
     "text": [
      "You are making silly funny\n"
     ]
    }
   ],
   "source": [
    "s.silly = \"funny\""
   ]
  },
  {
   "cell_type": "code",
   "execution_count": 4,
   "metadata": {},
   "outputs": [
    {
     "name": "stdout",
     "output_type": "stream",
     "text": [
      "You are getting silly\n"
     ]
    },
    {
     "data": {
      "text/plain": [
       "'funny'"
      ]
     },
     "execution_count": 4,
     "metadata": {},
     "output_type": "execute_result"
    }
   ],
   "source": [
    "s.silly"
   ]
  },
  {
   "cell_type": "code",
   "execution_count": 6,
   "metadata": {},
   "outputs": [
    {
     "name": "stdout",
     "output_type": "stream",
     "text": [
      "Whoah,you killed silly!\n"
     ]
    }
   ],
   "source": [
    "del s.silly"
   ]
  },
  {
   "cell_type": "code",
   "execution_count": 8,
   "metadata": {},
   "outputs": [
    {
     "name": "stdout",
     "output_type": "stream",
     "text": [
      "Help on class Silly in module __main__:\n",
      "\n",
      "class Silly(builtins.object)\n",
      " |  Data descriptors defined here:\n",
      " |  \n",
      " |  __dict__\n",
      " |      dictionary for instance variables (if defined)\n",
      " |  \n",
      " |  __weakref__\n",
      " |      list of weak references to the object (if defined)\n",
      " |  \n",
      " |  silly\n",
      " |      This is a silly property\n",
      "\n"
     ]
    }
   ],
   "source": [
    "help(Silly)"
   ]
  },
  {
   "cell_type": "code",
   "execution_count": 2,
   "metadata": {},
   "outputs": [],
   "source": [
    "class Silly:\n",
    "    @property\n",
    "    def silly(self):\n",
    "        print(\"This is a silly property\")\n",
    "        print(\"You are getting silly\")\n",
    "        return self._silly\n",
    "    \n",
    "    @silly.setter\n",
    "    def silly(self,value):\n",
    "        print(\"You are making silly {}\".format(value))\n",
    "        self._silly = value\n",
    "\n",
    "    @silly.deleter\n",
    "    def silly(self):\n",
    "        print(\"Whoah,you killed silly!\")\n",
    "        del self._silly\n",
    "  "
   ]
  },
  {
   "cell_type": "code",
   "execution_count": 3,
   "metadata": {},
   "outputs": [
    {
     "name": "stdout",
     "output_type": "stream",
     "text": [
      "Help on class Silly in module __main__:\n",
      "\n",
      "class Silly(builtins.object)\n",
      " |  Data descriptors defined here:\n",
      " |  \n",
      " |  __dict__\n",
      " |      dictionary for instance variables (if defined)\n",
      " |  \n",
      " |  __weakref__\n",
      " |      list of weak references to the object (if defined)\n",
      " |  \n",
      " |  silly\n",
      "\n"
     ]
    }
   ],
   "source": [
    "help(Silly)"
   ]
  },
  {
   "cell_type": "code",
   "execution_count": 1,
   "metadata": {},
   "outputs": [],
   "source": [
    "from urllib.request import urlopen\n",
    "\n",
    "class WebPage:\n",
    "    def __init__(self,url) -> None:\n",
    "        self.url = url\n",
    "        self._content = None\n",
    "    \n",
    "    @property\n",
    "    def content(self):\n",
    "        if not self._content:\n",
    "            print(\"Retrieving New Page ...\")\n",
    "            self._content = urlopen(self.url).read()\n",
    "        return self._content"
   ]
  },
  {
   "cell_type": "code",
   "execution_count": 2,
   "metadata": {},
   "outputs": [],
   "source": [
    "import time\n",
    "webpage = WebPage(\"http://ccphillips.net/\")"
   ]
  },
  {
   "cell_type": "code",
   "execution_count": 3,
   "metadata": {},
   "outputs": [
    {
     "name": "stdout",
     "output_type": "stream",
     "text": [
      "Retrieving New Page ...\n"
     ]
    },
    {
     "data": {
      "text/plain": [
       "2.9332635402679443"
      ]
     },
     "execution_count": 3,
     "metadata": {},
     "output_type": "execute_result"
    }
   ],
   "source": [
    "now = time.time()\n",
    "content1 = webpage.content\n",
    "time.time() - now"
   ]
  },
  {
   "cell_type": "code",
   "execution_count": 4,
   "metadata": {},
   "outputs": [
    {
     "data": {
      "text/plain": [
       "8.702278137207031e-05"
      ]
     },
     "execution_count": 4,
     "metadata": {},
     "output_type": "execute_result"
    }
   ],
   "source": [
    "now = time.time()\n",
    "content2 = webpage.content\n",
    "time.time() - now"
   ]
  },
  {
   "cell_type": "code",
   "execution_count": 5,
   "metadata": {},
   "outputs": [
    {
     "data": {
      "text/plain": [
       "True"
      ]
     },
     "execution_count": 5,
     "metadata": {},
     "output_type": "execute_result"
    }
   ],
   "source": [
    "content2 == content1"
   ]
  },
  {
   "cell_type": "code",
   "execution_count": 6,
   "metadata": {},
   "outputs": [
    {
     "name": "stdout",
     "output_type": "stream",
     "text": [
      "b'<!DOCTYPE html PUBLIC \"-//W3C//DTD XHTML 1.0 Strict//EN\" \"http://www.w3.org/TR/xhtml1/DTD/xhtml1-strict.dtd\">\\n<html xmlns=\"http://www.w3.org/1999/xhtml\" xml:lang=\"en\" lang=\"en\">\\n    <head>\\n        <title>C. C. Phillips</title>\\n        <meta http-equiv=\"content-type\" content=\"text/html; charset=utf-8\" />\\n        <meta name=\"readability-verification\" content=\"G6wFUVM3jShfZ4gtbh5T793HwfzyYwdQhWccCyYM\"/>\\n        <link rel=\"stylesheet\" href=\"/static/styles.css\" />\\n        <link href=\\'http://fonts.googleapis.com/css?family=Diplomata+SC\\' rel=\\'stylesheet\\' type=\\'text/css\\'>\\n        <link rel=\"icon\" href=\"/static/images/favicon.ico\" type=\"image/x-icon\" />\\n        <link rel=\"shortcut icon\" href=\"/static/images/favicon.ico\" type=\"image/x-icon\" />\\n        <script type=\"text/javascript\" src=\"/static/jquery-1.3.2.min.js\"></script>\\n        <script src=\"/static/jquery.form.js\" type=\"text/javascript\" charset=\"utf-8\"></script>\\n        <script type=\"text/javascript\" src=\"https://gumroad.com/js/gumroad.js\"></script>\\n        <script type=\"text/javascript\">\\n\\n          var _gaq = _gaq || [];\\n          _gaq.push([\\'_setAccount\\', \\'UA-18131642-1\\']);\\n          _gaq.push([\\'_trackPageview\\']);\\n\\n          (function() {\\n            var ga = document.createElement(\\'script\\'); ga.type = \\'text/javascript\\'; ga.async = true;\\n            ga.src = (\\'https:\\' == document.location.protocol ? \\'https://ssl\\' : \\'http://www\\') + \\'.google-analytics.com/ga.js\\';\\n            var s = document.getElementsByTagName(\\'script\\')[0]; s.parentNode.insertBefore(ga, s);\\n          })();\\n\\n        </script>\\n    </head>\\n    <body>\\n        <div id=\"topbar1\"></div>\\n        <div id=\"title\">\\n            <img src=\"/static/images/flyingpbar.png\" width=\"32\" height=\"32\" style=\"float: left\" alt=\"brand icon\" />\\n            <img src=\"/static/images/flyingpbar.png\" width=\"32\" height=\"32\" style=\"float: right\" alt=\"brand icon\" />\\n            C. C. Phillips\\n        </div>\\n        <div id=\"menubar\">\\n            <ul>\\n                <li><a href=\"/\">Home</a></li>\\n                <li><a href=\"/books/\">Books</a></li>\\n                <li><a href=\"/poetry/\">Poetry</a></li>\\n                <li><a href=\"/bio/\">Bio</a></li>\\n                <li><a href=\"http://www.facebook.com/pages/C-C-Phillips/229584720839\">Facebook</a></li>\\n                <li><a href=\"/contact/\">Contact</a></li>\\n            </ul>\\n        </div>\\n        <div id=\"container\">\\n            \\n<img style=\"float: left; margin-right: 1em; margin-bottom: 1em\"\\nsrc=\"/static/images/mountains.png\" width=\"150\"\\nheight=\"200\" />\\n<p>\\r\\nWelcome to the home page of Canadian author, C.C. Phillips.  Here, you\\r\\ncan discover links to all sixteen of Phillips\\' published works including his latest release, <a href=\"https://www.amazon.com/Broken-Buckle-Jesse-Sterling/dp/1982053143/ref=sr_1_2?ie=UTF8&qid=1522433807&sr=8-2&keywords=the+broken+buckle+C.C.+Phillips\">The Broken Buckle</a>, third in C.C. Phillips\\' Jesse Sterling 1950\\'s series.\\r\\n</p>\\r\\n<p>\\r\\nC.C. Phillips is currently working on a poetry compilation featuring his complete works compiled over thirty years of writing with such epic verse as \\'Lady of the Cosmos\\', \\'Emmeline\\' and \\'The Sequel of Sam McGee.\\'\\r\\n</p>\\r\\n\\r\\n\\n<hr style=\"clear: left;\" />\\n<div id=\"newsbox\">\\n    <h2>News</h2>\\n    \\n    <br /><strong><em>March 30, 2018</em></strong><br />\\n    <p>NOW AVAILABLE! \\'The Broken Buckle\\', the latest of C.C. Phillips\\' Jesse Sterling adventure series. Available at local bookstores, libraries, Amazon, CreateSpace and in Kindle and Gumroad formats. Click on the links for your copy of this engaging prairie adventure!</p>\\n    \\n    <br /><strong><em>December 04, 2017</em></strong><br />\\n    <p>Jesse Sterling returns soon in \\'The Broken Buckle\\' - C. C. Phillips\\' latest offering of prairie adventure. The discovery of a woolly mammoth in his father\\'s rye field is just a prelude to a series of events that keep Jesse and his adopted brother, Brew, involved in an incredible adventure. In the final editing stages, the book will be released in early 2018.</p>\\n    \\n    <br /><strong><em>September 28, 2017</em></strong><br />\\n    <p> Jeffery the Magic Jack o\\' Lantern promotion was a great success. Thanks to everyone who enjoyed the free ebook or purchased the print copy!</p>\\r\\n\\r\\n\\n    \\n    <br /><strong><em>September 16, 2017</em></strong><br />\\n    <p>Check out new poetry in the Poetry section! More to come.</p>\\r\\n<p></p> \\n    \\n    <br /><strong><em>June 30, 2016</em></strong><br />\\n    <p>\\'Preston Diamond in: Death Stocked the Land is now available in print and eBook form. Trouble, on a large scale, is brewing out in Montana Territory. Indians, settlers, trappers and frontiersmen fear to cross the ancient Old North Trail. No traffic is arriving from the west on the Mullen Wagon Road. War parties, wagon trains and mountain men who dared to trespass have vanished. Fort Benton is chock-full of folks who believe the rumours of \\'Bad Medicine\\'. Many of these hardy adventurers have already caught a riverboat back to civilization.\\r\\nA petition demanding an investigation has reached the White House. Preston Diamond has been assigned the task of either discovering or dispelling the source of the outlandish tales. President Ulysses Grant\\'s rather vague \\xe2\\x80\\x9csomewhere near the headwaters of the Missouri\\xe2\\x80\\x9d doesn\\'t give Diamond a whole lot to go on.\\r\\nBad medicine, bad whiskey and a hatful of bad hombres await his arrival. </p>\\n    \\n    <br /><strong><em>June 06, 2015</em></strong><br />\\n    <p> \\'Echoes of the Equinox\\' is available in print. Jesse Sterling returns in this exciting discovery of a mammoth skeleton in his own back forty. Complications arise when the autumn equinox is reversed and summer returns.</p>\\n    \\n</div>\\n<div id=\"bookbox\">\\n    <h2>Books by C. C. Phillips</h2>\\n    \\n    <div style=\"height: 110px\">\\n        <div style=\"float: left; margin-right: 1ex\">\\n            <img src=\"/static/covers/Bucklethumbprinttrans.png\" height=\"100\" width=\"50\"/>\\n        </div>\\n        <div style=\"padding-top: 10px\">\\n            <span class=\"title\">The Broken Buckle (Jesse Sterling Vol. 3)</span><br />\\n            \\n            <a href=\"https://www.amazon.com/Broken-Buckle-Jesse-Sterling-Book-ebook/dp/B07BST5MQ7/ref=sr_1_1?ie=UTF8&amp;qid=1522433807&amp;sr=8-1&amp;keywords=the+broken+buckle+C.C.+Phillips\">Purchase eBook</a><br />\\n            \\n            \\n            <strong><a\\n            href=\"https://www.amazon.com/Broken-Buckle-Jesse-Sterling/dp/1982053143/ref=sr_1_2?ie=UTF8&amp;qid=1522433807&amp;sr=8-2&amp;keywords=the+broken+buckle+C.C.+Phillips\">Purchase In Print</a></strong><br />\\n            \\n        </div>\\n    </div>\\n    \\n    <div style=\"height: 110px\">\\n        <div style=\"float: left; margin-right: 1ex\">\\n            <img src=\"/static/covers/Echoesthumbprint.png\" height=\"100\" width=\"50\"/>\\n        </div>\\n        <div style=\"padding-top: 10px\">\\n            <span class=\"title\">Echoes of the Equinox (Jesse Sterling Volume 2)</span><br />\\n            \\n            <a href=\"https://www.amazon.com/dp/B075R5F79J/ref=sr_1_1?s=books&amp;ie=UTF8&amp;qid=1505938871&amp;sr=1-1&amp;keywords=echoes+of+the+equinox+C.+C.+Phillips\">Purchase eBook</a><br />\\n            \\n            \\n            <strong><a\\n            href=\"https://www.amazon.com/Echoes-Equinox-Jesse-Sterling-2/dp/1511403411/ref=sr_1_2?s=books&amp;ie=UTF8&amp;qid=1505938871&amp;sr=1-2&amp;keywords=echoes+of+the+equinox+C.+C.+Phillips\">Purchase In Print</a></strong><br />\\n            \\n        </div>\\n    </div>\\n    \\n    <div style=\"height: 110px\">\\n        <div style=\"float: left; margin-right: 1ex\">\\n            <img src=\"/static/covers/NoQuitthumbprint2.png\" height=\"100\" width=\"50\"/>\\n        </div>\\n        <div style=\"padding-top: 10px\">\\n            <span class=\"title\">No Quit (Jesse Sterling Vol. 1)</span><br />\\n            \\n            <a href=\"https://www.amazon.com/No-Quit-Jesse-Sterling-Book-ebook/dp/B075Q2KPKN/ref=sr_1_1?s=books&amp;ie=UTF8&amp;qid=1505932923&amp;sr=1-1&amp;keywords=no+quit+c.+c.+phillips\">Purchase eBook</a><br />\\n            \\n            \\n            <strong><a\\n            href=\"https://www.amazon.com/No-Quit-C-Phillips/dp/149974062X/ref=sr_1_2?s=books&amp;ie=UTF8&amp;qid=1505932791&amp;sr=1-2&amp;keywords=no+quit+c.+c.+phillips\">Purchase In Print</a></strong><br />\\n            \\n        </div>\\n    </div>\\n    \\n    <div style=\"height: 110px\">\\n        <div style=\"float: left; margin-right: 1ex\">\\n            <img src=\"/static/covers/HalloweenThumbprintforwebsite.png\" height=\"100\" width=\"50\"/>\\n        </div>\\n        <div style=\"padding-top: 10px\">\\n            <span class=\"title\">Jeffery the Magic Jack o&#39; Lantern: The Halloween Story</span><br />\\n            \\n            <a href=\"https://www.amazon.com/dp/B075VH4LR6/ref=sr_1_1?s=books&amp;ie=UTF8&amp;qid=1506174256&amp;sr=1-1&amp;keywords=jeffery+the+magic+jack+o+lantern\">Purchase eBook</a><br />\\n            \\n            \\n            <strong><a\\n            href=\"http://www.amazon.com/Jeffery-Magic-Jack-Lantern-Halloween/dp/1517015421/ref=sr_1_1?s=books&amp;ie=UTF8&amp;qid=1442352593&amp;sr=1-1&amp;keywords=jeffery+the+magic+jack+o%27+lantern%3A+the+halloween+story\">Purchase In Print</a></strong><br />\\n            \\n        </div>\\n    </div>\\n    \\n    <div style=\"height: 110px\">\\n        <div style=\"float: left; margin-right: 1ex\">\\n            <img src=\"/static/covers/BackhandThumbnail.png\" height=\"100\" width=\"50\"/>\\n        </div>\\n        <div style=\"padding-top: 10px\">\\n            <span class=\"title\">Backhand of Paradise</span><br />\\n            \\n            <a href=\"https://www.amazon.com/dp/B075PXVZ77/ref=sr_1_1?ie=UTF8&amp;qid=1505924742&amp;sr=8-1&amp;keywords=backhand+of+paradise+c.+c.+phillips\">Purchase eBook</a><br />\\n            \\n            \\n            <strong><a\\n            href=\"https://www.amazon.com/Backhand-Paradise-C-Phillips/dp/1541327136/ref=sr_1_2?ie=UTF8&amp;qid=1505924742&amp;sr=8-2&amp;keywords=backhand+of+paradise+c.+c.+phillips\">Purchase In Print</a></strong><br />\\n            \\n        </div>\\n    </div>\\n    \\n    <div style=\"height: 110px\">\\n        <div style=\"float: left; margin-right: 1ex\">\\n            <img src=\"/static/covers/conception.png\" height=\"100\" width=\"50\"/>\\n        </div>\\n        <div style=\"padding-top: 10px\">\\n            <span class=\"title\">Preston Diamond: Conception</span><br />\\n            \\n            <a href=\"https://www.amazon.com/dp/B075RCTJN4/ref=sr_1_1?s=books&amp;ie=UTF8&amp;qid=1505939962&amp;sr=1-1&amp;keywords=Preston+Diamond%3A+Conception\">Purchase eBook</a><br />\\n            \\n            \\n            <strong><a\\n            href=\"https://www.amazon.com/Preston-Diamond-Conception-C-Phillips/dp/1452878978/ref=sr_1_2?s=books&amp;ie=UTF8&amp;qid=1505939962&amp;sr=1-2&amp;keywords=Preston+Diamond%3A+Conception\">Purchase In Print</a></strong><br />\\n            \\n        </div>\\n    </div>\\n    \\n    <div style=\"height: 110px\">\\n        <div style=\"float: left; margin-right: 1ex\">\\n            <img src=\"/static/covers/whitehouse.png\" height=\"100\" width=\"50\"/>\\n        </div>\\n        <div style=\"padding-top: 10px\">\\n            <span class=\"title\">Preston Diamond In The White House</span><br />\\n            \\n            <a href=\"https://www.amazon.com/dp/B075RQ147P/ref=sr_1_1?s=books&amp;ie=UTF8&amp;qid=1505940433&amp;sr=1-1&amp;keywords=Preston+Diamond+in+the+White+House\">Purchase eBook</a><br />\\n            \\n            \\n            <strong><a\\n            href=\"https://www.amazon.com/Preston-Diamond-White-House-Phillips/dp/1461058996/ref=sr_1_3?s=books&amp;ie=UTF8&amp;qid=1505940433&amp;sr=1-3&amp;keywords=Preston+Diamond+in+the+White+House\">Purchase In Print</a></strong><br />\\n            \\n        </div>\\n    </div>\\n    \\n    <div style=\"height: 110px\">\\n        <div style=\"float: left; margin-right: 1ex\">\\n            <img src=\"/static/covers/texas.png\" height=\"100\" width=\"50\"/>\\n        </div>\\n        <div style=\"padding-top: 10px\">\\n            <span class=\"title\">Preston Diamond In Texas</span><br />\\n            \\n            <a href=\"https://www.amazon.com/dp/B075SFKRYN/ref=sr_1_1?s=books&amp;ie=UTF8&amp;qid=1505941255&amp;sr=1-1&amp;keywords=Preston+Diamond+in+the+Texas\">Purchase eBook</a><br />\\n            \\n            \\n            <strong><a\\n            href=\"https://www.amazon.com/Preston-Diamond-Texas-C-Phillips/dp/1466278552/ref=sr_1_5?s=books&amp;ie=UTF8&amp;qid=1505941255&amp;sr=1-5&amp;keywords=Preston+Diamond+in+the+Texas\">Purchase In Print</a></strong><br />\\n            \\n        </div>\\n    </div>\\n    \\n    <div style=\"height: 110px\">\\n        <div style=\"float: left; margin-right: 1ex\">\\n            <img src=\"/static/covers/hell.png\" height=\"100\" width=\"50\"/>\\n        </div>\\n        <div style=\"padding-top: 10px\">\\n            <span class=\"title\">Preston Diamond In Hell</span><br />\\n            \\n            <a href=\"https://www.amazon.com/dp/B075SLL6WF/ref=sr_1_1?s=books&amp;ie=UTF8&amp;qid=1505941789&amp;sr=1-1&amp;keywords=Preston+Diamond+in+Hell\">Purchase eBook</a><br />\\n            \\n            \\n            <strong><a\\n            href=\"https://www.amazon.com/Preston-Diamond-Hell-C-Phillips/dp/1478249803/ref=sr_1_3?s=books&amp;ie=UTF8&amp;qid=1505941668&amp;sr=1-3&amp;keywords=Preston+Diamond+in+Hell\">Purchase In Print</a></strong><br />\\n            \\n        </div>\\n    </div>\\n    \\n    <div style=\"height: 110px\">\\n        <div style=\"float: left; margin-right: 1ex\">\\n            <img src=\"/static/covers/mississippi.png\" height=\"100\" width=\"50\"/>\\n        </div>\\n        <div style=\"padding-top: 10px\">\\n            <span class=\"title\">Preston Diamond On The Mississippi River</span><br />\\n            \\n            <a href=\"https://www.amazon.com/dp/B075SPW5C2/ref=sr_1_1?s=books&amp;ie=UTF8&amp;qid=1506001174&amp;sr=1-1&amp;keywords=preston+diamond+on+the+mississippi+river+c.+c.+phillips\">Purchase eBook</a><br />\\n            \\n            \\n            <strong><a\\n            href=\"https://www.amazon.com/Preston-Diamond-Mississippi-River-Phillips/dp/1480290874/ref=sr_1_2?s=books&amp;ie=UTF8&amp;qid=1506001057&amp;sr=1-2&amp;keywords=preston+diamond+on+the+mississippi+river+c.+c.+phillips\">Purchase In Print</a></strong><br />\\n            \\n        </div>\\n    </div>\\n    \\n    <div style=\"height: 110px\">\\n        <div style=\"float: left; margin-right: 1ex\">\\n            <img src=\"/static/covers/boston.png\" height=\"100\" width=\"50\"/>\\n        </div>\\n        <div style=\"padding-top: 10px\">\\n            <span class=\"title\">Preston Diamond: Boston Union Man</span><br />\\n            \\n            <a href=\"https://www.amazon.com/dp/B075TJ5MFS/ref=sr_1_1?s=books&amp;ie=UTF8&amp;qid=1506025182&amp;sr=1-1&amp;keywords=preston+diamond%3A+boston+union+man\">Purchase eBook</a><br />\\n            \\n            \\n            <strong><a\\n            href=\"https://www.amazon.com/Preston-Diamond-Boston-Union-Man/dp/1492740527/ref=sr_1_2?s=books&amp;ie=UTF8&amp;qid=1506025182&amp;sr=1-2&amp;keywords=preston+diamond%3A+boston+union+man\">Purchase In Print</a></strong><br />\\n            \\n        </div>\\n    </div>\\n    \\n    <div style=\"height: 110px\">\\n        <div style=\"float: left; margin-right: 1ex\">\\n            <img src=\"/static/covers/Death thumbprint transparency Aug, 19, 2016.png\" height=\"100\" width=\"50\"/>\\n        </div>\\n        <div style=\"padding-top: 10px\">\\n            <span class=\"title\">Preston Diamond in:                          Death Stocked the Land</span><br />\\n            \\n            <a href=\"https://www.amazon.com/dp/B075TJNPHB/ref=la_B00HT8107I_1_1?s=books&amp;ie=UTF8&amp;qid=1506105711&amp;sr=1-1\">Purchase eBook</a><br />\\n            \\n            \\n            <strong><a\\n            href=\"https://www.amazon.com/Death-Stocked-Land-C-Phillips/dp/1530840767/ref=la_B00HT8107I_1_12?s=books&amp;ie=UTF8&amp;qid=1506105711&amp;sr=1-12\">Purchase In Print</a></strong><br />\\n            \\n        </div>\\n    </div>\\n    \\n    <div style=\"height: 110px\">\\n        <div style=\"float: left; margin-right: 1ex\">\\n            <img src=\"/static/covers/prestondiamond.png\" height=\"100\" width=\"50\"/>\\n        </div>\\n        <div style=\"padding-top: 10px\">\\n            <span class=\"title\">Preston Diamond In Way-cross</span><br />\\n            \\n            <a href=\"https://www.amazon.com/dp/B075VBMYQJ/ref=sr_1_1?s=books&amp;ie=UTF8&amp;qid=1506105349&amp;sr=1-1&amp;keywords=preston+diamond+in+way-cross+c.+c.+phillips\">Purchase eBook</a><br />\\n            \\n            \\n            <strong><a\\n            href=\"https://www.amazon.com/Preston-Diamond-Way-cross-C-Phillips/dp/1449507069/ref=sr_1_2?s=books&amp;ie=UTF8&amp;qid=1506105349&amp;sr=1-2&amp;keywords=preston+diamond+in+way-cross+c.+c.+phillips\">Purchase In Print</a></strong><br />\\n            \\n        </div>\\n    </div>\\n    \\n    <div style=\"height: 110px\">\\n        <div style=\"float: left; margin-right: 1ex\">\\n            <img src=\"/static/covers/RettoWCthumbprint2.png\" height=\"100\" width=\"50\"/>\\n        </div>\\n        <div style=\"padding-top: 10px\">\\n            <span class=\"title\">Preston Diamond: Return to Way-cross</span><br />\\n            \\n            <a href=\"https://www.amazon.com/Preston-Diamond-Way-cross-C-Phillips-ebook/dp/B075VDSXQL/ref=asap_bc?ie=UTF8\">Purchase eBook</a><br />\\n            \\n            \\n            <strong><a\\n            href=\"http://www.amazon.com/Preston-Diamond-Way-cross-C-Phillips/dp/1497508827/ref=sr_1_1?ie=UTF8&amp;qid=1433773220&amp;sr=8-1&amp;keywords=preston+diamond+in+return+to+way-cross\">Purchase In Print</a></strong><br />\\n            \\n        </div>\\n    </div>\\n    \\n    <div style=\"height: 110px\">\\n        <div style=\"float: left; margin-right: 1ex\">\\n            <img src=\"/static/covers/twiceuponatime.png\" height=\"100\" width=\"50\"/>\\n        </div>\\n        <div style=\"padding-top: 10px\">\\n            <span class=\"title\">Twice Upon A Time</span><br />\\n            \\n            <a href=\"https://www.amazon.com/dp/B075VWGTWV/ref=sr_1_1?s=books&amp;ie=UTF8&amp;qid=1506187643&amp;sr=1-1&amp;keywords=twice+upon+a+time+C.+C.+phillips\">Purchase eBook</a><br />\\n            \\n            \\n            <strong><a\\n            href=\"http://www.amazon.com/Twice-Upon-Time-C-Phillips/dp/1448683874/ref=sr_1_39?ie=UTF8&amp;s=books&amp;qid=1268669317&amp;sr=8-39\">Purchase In Print</a></strong><br />\\n            \\n        </div>\\n    </div>\\n    \\n    <div style=\"height: 110px\">\\n        <div style=\"float: left; margin-right: 1ex\">\\n            <img src=\"/static/covers/watershed.png\" height=\"100\" width=\"50\"/>\\n        </div>\\n        <div style=\"padding-top: 10px\">\\n            <span class=\"title\">Watershed</span><br />\\n            \\n            <a href=\"https://www.amazon.com/dp/B075VY11HV/ref=sr_1_1?s=books&amp;ie=UTF8&amp;qid=1506187846&amp;sr=1-1&amp;keywords=watershed+C.+C.+phillips\">Purchase eBook</a><br />\\n            \\n            \\n            <strong><a\\n            href=\"http://www.amazon.com/Watershed-C-Phillips/dp/145385276X\">Purchase In Print</a></strong><br />\\n            \\n        </div>\\n    </div>\\n    \\n</div>\\n\\n            <div style=\"clear: both\"></div>\\n        </div>\\n        <div id=\"copyright\">\\n            Copyright &copy; 2009-2015 C. C. Phillips\\n        </div>\\n    </body>\\n</html>\\n'\n"
     ]
    }
   ],
   "source": [
    "print(content1)"
   ]
  },
  {
   "cell_type": "code",
   "execution_count": 1,
   "metadata": {},
   "outputs": [],
   "source": [
    "import sys \n",
    "import shutil\n",
    "import zipfile\n",
    "from pathlib import Path"
   ]
  },
  {
   "cell_type": "code",
   "execution_count": 2,
   "metadata": {},
   "outputs": [],
   "source": [
    "class ZipReplace:\n",
    "    def __init__(self,filename,search_string,replace_string) -> None:\n",
    "        self.filename = filename\n",
    "        self.search_string = search_string\n",
    "        self.replace_string = replace_string\n",
    "        self.temp_directory = Path(\"unzipped-{}\".format(filename))\n",
    "    def zip_find_replace(self):\n",
    "        self.unzip_files()\n",
    "        self.find_replace()\n",
    "        self.zip_files()\n",
    "    def unzip_files(self):\n",
    "        self.temp_directory.mkdir()\n",
    "        with zipfile.ZipFile(self.filename) as zip:\n",
    "            zip.extractall(str(self.temp_directory))\n",
    "    def find_replace(self):\n",
    "        for filename in self.temp_directory.iterdir():\n",
    "            with filename.open() as file:\n",
    "                contents = file.read()\n",
    "            contents = contents.replace(self.search_string,self.replace_string)\n",
    "            with filename.open(\"w\") as file:\n",
    "                file.write(contents)\n",
    "    def zip_files(self):\n",
    "        with zipfile.ZipFile(self.filename,'w') as file:\n",
    "            for filename in self.temp_directory.iterdir():\n",
    "                file.write(str(filename),filename.name)\n",
    "        shutil.rmtree(str(self.temp_directory))"
   ]
  },
  {
   "cell_type": "code",
   "execution_count": 6,
   "metadata": {},
   "outputs": [],
   "source": [
    "class Document:\n",
    "    def __init__(self) -> None:\n",
    "        self.charaters = []\n",
    "        self.cursor = 0\n",
    "        self.filename = ''\n",
    "    def insert(self,character):\n",
    "        self.charaters.insert(self.cursor,character)\n",
    "        self.cursor += 1\n",
    "    def delete(self):\n",
    "        del self.charaters[self.cursor]\n",
    "    def save(self):\n",
    "        with open(self.filename,'w') as f:\n",
    "            f.write(''.join(self.charaters))\n",
    "    def forward(self):\n",
    "        self.cursor += 1\n",
    "    def back(self):\n",
    "        self.cursor -= 1"
   ]
  },
  {
   "cell_type": "code",
   "execution_count": 7,
   "metadata": {},
   "outputs": [],
   "source": [
    "doc = Document()\n",
    "doc.filename = \"test_document\"\n"
   ]
  },
  {
   "cell_type": "code",
   "execution_count": 8,
   "metadata": {},
   "outputs": [],
   "source": [
    "doc.insert('h')\n",
    "doc.insert('e')\n",
    "doc.insert('l')\n",
    "doc.insert('l')\n",
    "doc.insert('o')\n"
   ]
  },
  {
   "cell_type": "code",
   "execution_count": 9,
   "metadata": {},
   "outputs": [
    {
     "data": {
      "text/plain": [
       "'hello'"
      ]
     },
     "execution_count": 9,
     "metadata": {},
     "output_type": "execute_result"
    }
   ],
   "source": [
    "\"\".join(doc.charaters)"
   ]
  },
  {
   "cell_type": "code",
   "execution_count": 10,
   "metadata": {},
   "outputs": [],
   "source": [
    "doc.back()"
   ]
  },
  {
   "cell_type": "code",
   "execution_count": 11,
   "metadata": {},
   "outputs": [],
   "source": [
    "doc.delete()"
   ]
  },
  {
   "cell_type": "code",
   "execution_count": 12,
   "metadata": {},
   "outputs": [],
   "source": [
    "doc.insert(\"p\")"
   ]
  },
  {
   "cell_type": "code",
   "execution_count": 13,
   "metadata": {},
   "outputs": [
    {
     "data": {
      "text/plain": [
       "'hellp'"
      ]
     },
     "execution_count": 13,
     "metadata": {},
     "output_type": "execute_result"
    }
   ],
   "source": [
    "\"\".join(doc.charaters)"
   ]
  },
  {
   "cell_type": "code",
   "execution_count": 15,
   "metadata": {},
   "outputs": [],
   "source": [
    "class Cursor:\n",
    "    def __init__(self,document) -> None:\n",
    "        self.document = document\n",
    "        self.position = 0\n",
    "    def forward(self):\n",
    "        self.position += 1\n",
    "    def back(self):\n",
    "        self.position -= 1\n",
    "    def home(self):\n",
    "        while self.document.characters[self.position-1] != '\\n':\n",
    "            self.position -= 1\n",
    "            if self.position == 0:\n",
    "                break\n",
    "    def end(self):\n",
    "        while self.position < len(self.document.characters) and self.document.characters[self.position] != '\\n':\n",
    "            self.position += 1\n",
    "    "
   ]
  },
  {
   "cell_type": "code",
   "execution_count": null,
   "metadata": {},
   "outputs": [],
   "source": []
  }
 ],
 "metadata": {
  "interpreter": {
   "hash": "7d78f093ae3097d2c206eeb87bf8bff57f7bc07dc4f4326bfc661f6bb55e15a7"
  },
  "kernelspec": {
   "display_name": "Python 3.8.5 64-bit ('pytorch-gpu': conda)",
   "language": "python",
   "name": "python3"
  },
  "language_info": {
   "codemirror_mode": {
    "name": "ipython",
    "version": 3
   },
   "file_extension": ".py",
   "mimetype": "text/x-python",
   "name": "python",
   "nbconvert_exporter": "python",
   "pygments_lexer": "ipython3",
   "version": "3.8.5"
  },
  "orig_nbformat": 4
 },
 "nbformat": 4,
 "nbformat_minor": 2
}
