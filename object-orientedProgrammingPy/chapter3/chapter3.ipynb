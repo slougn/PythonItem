{
 "cells": [
  {
   "cell_type": "code",
   "execution_count": 1,
   "metadata": {},
   "outputs": [],
   "source": [
    "class MySubClass(object):\n",
    "    pass"
   ]
  },
  {
   "cell_type": "code",
   "execution_count": 2,
   "metadata": {},
   "outputs": [],
   "source": [
    "class Contact:\n",
    "    all_contacts = []\n",
    "    def __init__(self,name,email) -> None:\n",
    "        self.name = name\n",
    "        self.email = email\n",
    "        Contact.all_contacts.append(self)"
   ]
  },
  {
   "cell_type": "code",
   "execution_count": 3,
   "metadata": {},
   "outputs": [],
   "source": [
    "class Supplier(Contact):\n",
    "    def order(self,order):\n",
    "        print(\"If this were a real system we would send '{}' order to '{}'\".format(order,self.name))"
   ]
  },
  {
   "cell_type": "code",
   "execution_count": 4,
   "metadata": {},
   "outputs": [
    {
     "name": "stdout",
     "output_type": "stream",
     "text": [
      "Some Body somebody@example.net Sup Plier supplier@example.net\n"
     ]
    }
   ],
   "source": [
    "c = Contact(\"Some Body\",\"somebody@example.net\")\n",
    "s = Supplier(\"Sup Plier\",\"supplier@example.net\")\n",
    "print(c.name,c.email,s.name,s.email)"
   ]
  },
  {
   "cell_type": "code",
   "execution_count": 5,
   "metadata": {},
   "outputs": [
    {
     "data": {
      "text/plain": [
       "[<__main__.Contact at 0x7ff004574f70>, <__main__.Supplier at 0x7ff004574850>]"
      ]
     },
     "execution_count": 5,
     "metadata": {},
     "output_type": "execute_result"
    }
   ],
   "source": [
    "c.all_contacts"
   ]
  },
  {
   "cell_type": "code",
   "execution_count": 6,
   "metadata": {},
   "outputs": [
    {
     "data": {
      "text/plain": [
       "[<__main__.Contact at 0x7ff004574f70>, <__main__.Supplier at 0x7ff004574850>]"
      ]
     },
     "execution_count": 6,
     "metadata": {},
     "output_type": "execute_result"
    }
   ],
   "source": [
    "s.all_contacts"
   ]
  },
  {
   "cell_type": "code",
   "execution_count": 7,
   "metadata": {},
   "outputs": [
    {
     "data": {
      "text/plain": [
       "[<__main__.Contact at 0x7ff004574f70>, <__main__.Supplier at 0x7ff004574850>]"
      ]
     },
     "execution_count": 7,
     "metadata": {},
     "output_type": "execute_result"
    }
   ],
   "source": [
    "Contact.all_contacts"
   ]
  },
  {
   "cell_type": "code",
   "execution_count": 8,
   "metadata": {},
   "outputs": [
    {
     "data": {
      "text/plain": [
       "[<__main__.Contact at 0x7ff004574f70>, <__main__.Supplier at 0x7ff004574850>]"
      ]
     },
     "execution_count": 8,
     "metadata": {},
     "output_type": "execute_result"
    }
   ],
   "source": [
    "Supplier.all_contacts"
   ]
  },
  {
   "cell_type": "code",
   "execution_count": 5,
   "metadata": {},
   "outputs": [],
   "source": [
    "class ContactList(list):\n",
    "    def search(self,name):\n",
    "        '''\n",
    "            Return all contacts that contain the search value in their name.\n",
    "        '''\n",
    "        matching_contacts = []\n",
    "        for contact in self:\n",
    "            if name in contact.name:\n",
    "                matching_contacts.append(contact)\n",
    "        return matching_contacts\n",
    "\n",
    "class Contact:\n",
    "    all_contacts = ContactList()\n",
    "\n",
    "    def __init__(self,name,email) -> None:\n",
    "        self.name = name\n",
    "        self.email = email\n",
    "        self.all_contacts.append(self)"
   ]
  },
  {
   "cell_type": "code",
   "execution_count": 10,
   "metadata": {},
   "outputs": [],
   "source": [
    "c1 = Contact(\"John A\",\"johna@example.net\")\n",
    "c2 = Contact(\"John B\",\"johnb@example.net\")\n",
    "c3 = Contact(\"john C\",\"johnac@example.net\")"
   ]
  },
  {
   "cell_type": "code",
   "execution_count": 11,
   "metadata": {},
   "outputs": [
    {
     "data": {
      "text/plain": [
       "['john C']"
      ]
     },
     "execution_count": 11,
     "metadata": {},
     "output_type": "execute_result"
    }
   ],
   "source": [
    "[c.name for c in Contact.all_contacts.search('john')]"
   ]
  },
  {
   "cell_type": "code",
   "execution_count": 12,
   "metadata": {},
   "outputs": [
    {
     "data": {
      "text/plain": [
       "True"
      ]
     },
     "execution_count": 12,
     "metadata": {},
     "output_type": "execute_result"
    }
   ],
   "source": [
    "[] == list()"
   ]
  },
  {
   "cell_type": "code",
   "execution_count": 13,
   "metadata": {},
   "outputs": [
    {
     "data": {
      "text/plain": [
       "True"
      ]
     },
     "execution_count": 13,
     "metadata": {},
     "output_type": "execute_result"
    }
   ],
   "source": [
    "isinstance([],object)"
   ]
  },
  {
   "cell_type": "code",
   "execution_count": 1,
   "metadata": {},
   "outputs": [],
   "source": [
    "class MailSender:\n",
    "    def send_mail(self,message):\n",
    "        print(\"Sending mail to \" + self.email) # self.email 在这里没有定义，这个类不能独立存在"
   ]
  },
  {
   "cell_type": "code",
   "execution_count": 2,
   "metadata": {},
   "outputs": [
    {
     "ename": "AttributeError",
     "evalue": "'MailSender' object has no attribute 'email'",
     "output_type": "error",
     "traceback": [
      "\u001b[0;31m---------------------------------------------------------------------------\u001b[0m",
      "\u001b[0;31mAttributeError\u001b[0m                            Traceback (most recent call last)",
      "\u001b[0;32m/tmp/ipykernel_13870/2137276999.py\u001b[0m in \u001b[0;36m<module>\u001b[0;34m\u001b[0m\n\u001b[1;32m      1\u001b[0m \u001b[0mm\u001b[0m \u001b[0;34m=\u001b[0m \u001b[0mMailSender\u001b[0m\u001b[0;34m(\u001b[0m\u001b[0;34m)\u001b[0m\u001b[0;34m\u001b[0m\u001b[0;34m\u001b[0m\u001b[0m\n\u001b[0;32m----> 2\u001b[0;31m \u001b[0mm\u001b[0m\u001b[0;34m.\u001b[0m\u001b[0msend_mail\u001b[0m\u001b[0;34m(\u001b[0m\u001b[0;34m\"sdf\"\u001b[0m\u001b[0;34m)\u001b[0m\u001b[0;34m\u001b[0m\u001b[0;34m\u001b[0m\u001b[0m\n\u001b[0m",
      "\u001b[0;32m/tmp/ipykernel_13870/3675563137.py\u001b[0m in \u001b[0;36msend_mail\u001b[0;34m(self, message)\u001b[0m\n\u001b[1;32m      1\u001b[0m \u001b[0;32mclass\u001b[0m \u001b[0mMailSender\u001b[0m\u001b[0;34m:\u001b[0m\u001b[0;34m\u001b[0m\u001b[0;34m\u001b[0m\u001b[0m\n\u001b[1;32m      2\u001b[0m     \u001b[0;32mdef\u001b[0m \u001b[0msend_mail\u001b[0m\u001b[0;34m(\u001b[0m\u001b[0mself\u001b[0m\u001b[0;34m,\u001b[0m\u001b[0mmessage\u001b[0m\u001b[0;34m)\u001b[0m\u001b[0;34m:\u001b[0m\u001b[0;34m\u001b[0m\u001b[0;34m\u001b[0m\u001b[0m\n\u001b[0;32m----> 3\u001b[0;31m         \u001b[0mprint\u001b[0m\u001b[0;34m(\u001b[0m\u001b[0;34m\"Sending mail to \"\u001b[0m \u001b[0;34m+\u001b[0m \u001b[0mself\u001b[0m\u001b[0;34m.\u001b[0m\u001b[0memail\u001b[0m\u001b[0;34m)\u001b[0m\u001b[0;34m\u001b[0m\u001b[0;34m\u001b[0m\u001b[0m\n\u001b[0m",
      "\u001b[0;31mAttributeError\u001b[0m: 'MailSender' object has no attribute 'email'"
     ]
    }
   ],
   "source": [
    "m = MailSender()\n",
    "m.send_mail(\"sdf\")"
   ]
  },
  {
   "cell_type": "code",
   "execution_count": 6,
   "metadata": {},
   "outputs": [],
   "source": [
    "class EmailabelContact(Contact,MailSender):\n",
    "    pass   # 现在MailSender可以使用了                              "
   ]
  },
  {
   "cell_type": "code",
   "execution_count": 7,
   "metadata": {},
   "outputs": [
    {
     "data": {
      "text/plain": [
       "[<__main__.EmailabelContact at 0x7f1910f648e0>]"
      ]
     },
     "execution_count": 7,
     "metadata": {},
     "output_type": "execute_result"
    }
   ],
   "source": [
    "e = EmailabelContact(\"john Smith\",\"jsmith@example.net\")\n",
    "Contact.all_contacts"
   ]
  },
  {
   "cell_type": "code",
   "execution_count": 8,
   "metadata": {},
   "outputs": [
    {
     "name": "stdout",
     "output_type": "stream",
     "text": [
      "Sending mail to jsmith@example.net\n"
     ]
    }
   ],
   "source": [
    "e.send_mail(\"Hello,test e-mail here\")"
   ]
  },
  {
   "cell_type": "code",
   "execution_count": 9,
   "metadata": {},
   "outputs": [],
   "source": [
    "class AddressHolder:\n",
    "    def __init__(self,street,city,state,code) -> None:\n",
    "        self.street = street\n",
    "        self.city = city\n",
    "        self.state = state\n",
    "        self.code = code"
   ]
  },
  {
   "cell_type": "code",
   "execution_count": 10,
   "metadata": {},
   "outputs": [],
   "source": [
    "class Friend(Contact,AddressHolder):\n",
    "    def __init__(self, name, email,phone,street,city,state,code) -> None:\n",
    "        Contact.__init__(self,name,email)\n",
    "        AddressHolder.__init__(self,street,city,state,code)\n",
    "        self.phone = phone"
   ]
  },
  {
   "cell_type": "code",
   "execution_count": 14,
   "metadata": {},
   "outputs": [],
   "source": [
    "class BaseClass:\n",
    "    num_base_calls = 0\n",
    "    def call_me(self):\n",
    "        print(\"基类函数调用\")\n",
    "        self.num_base_calls += 1\n",
    "\n",
    "class LeftSubclass(BaseClass):\n",
    "    num_left_calls = 0\n",
    "    def call_me(self):\n",
    "        BaseClass.call_me(self)\n",
    "        print(\"左侧子类调用\")\n",
    "        self.num_left_calls += 1\n",
    "\n",
    "class RightSubclass(BaseClass):\n",
    "    num_right_calls = 0\n",
    "    def call_me(self):\n",
    "        BaseClass.call_me(self)\n",
    "        print(\"右侧子类调用\")\n",
    "        self.num_right_calls += 1\n",
    "\n",
    "class Subclass(RightSubclass,LeftSubclass):\n",
    "    num_sub_calls = 0\n",
    "    def call_me(self):\n",
    "        RightSubclass.call_me(self)\n",
    "        LeftSubclass.call_me(self)\n",
    "        print(\"孙子类调用\")\n",
    "        self.num_sub_calls += 1"
   ]
  },
  {
   "cell_type": "code",
   "execution_count": 15,
   "metadata": {},
   "outputs": [
    {
     "name": "stdout",
     "output_type": "stream",
     "text": [
      "基类函数调用\n",
      "右侧子类调用\n",
      "基类函数调用\n",
      "左侧子类调用\n",
      "孙子类调用\n"
     ]
    }
   ],
   "source": [
    "s = Subclass()\n",
    "s.call_me()"
   ]
  },
  {
   "cell_type": "code",
   "execution_count": 16,
   "metadata": {},
   "outputs": [
    {
     "name": "stdout",
     "output_type": "stream",
     "text": [
      "2 1 1 1\n"
     ]
    }
   ],
   "source": [
    "print(s.num_base_calls,s.num_left_calls,s.num_right_calls,s.num_sub_calls)"
   ]
  },
  {
   "cell_type": "code",
   "execution_count": 23,
   "metadata": {},
   "outputs": [],
   "source": [
    "class BaseClass:\n",
    "    num_base_calls = 0\n",
    "    def call_me(self):\n",
    "        print(\"基类函数调用\")\n",
    "        self.num_base_calls += 1\n",
    "\n",
    "class LeftSubclass(BaseClass):\n",
    "    num_left_calls = 0\n",
    "    def call_me(self):\n",
    "        super().call_me()\n",
    "        print(\"左侧子类调用\")\n",
    "        self.num_left_calls += 1\n",
    "\n",
    "class RightSubclass(BaseClass):\n",
    "    num_right_calls = 0\n",
    "    def call_me(self):\n",
    "        super().call_me()\n",
    "        print(\"右侧子类调用\")\n",
    "        self.num_right_calls += 1\n",
    "\n",
    "class Subclass(LeftSubclass,RightSubclass):\n",
    "    num_sub_calls = 0\n",
    "    def call_me(self):\n",
    "        super().call_me()\n",
    "        print(\"孙子类调用\")\n",
    "        self.num_sub_calls += 1"
   ]
  },
  {
   "cell_type": "code",
   "execution_count": 24,
   "metadata": {},
   "outputs": [
    {
     "name": "stdout",
     "output_type": "stream",
     "text": [
      "基类函数调用\n",
      "右侧子类调用\n",
      "左侧子类调用\n",
      "孙子类调用\n"
     ]
    }
   ],
   "source": [
    "s = Subclass()\n",
    "s.call_me()"
   ]
  },
  {
   "cell_type": "code",
   "execution_count": 25,
   "metadata": {},
   "outputs": [
    {
     "name": "stdout",
     "output_type": "stream",
     "text": [
      "1 1 1 1\n"
     ]
    }
   ],
   "source": [
    "print(s.num_base_calls,s.num_left_calls,s.num_right_calls,s.num_sub_calls)"
   ]
  },
  {
   "cell_type": "code",
   "execution_count": 2,
   "metadata": {},
   "outputs": [],
   "source": [
    "class Contact:\n",
    "    all_contacts = []\n",
    "    def __init__(self,name='',email='',**kwargs) -> None:\n",
    "        super().__init__(**kwargs)\n",
    "        self.name = name\n",
    "        self.email = email\n",
    "        self.all_contacts.append(self)\n",
    "\n",
    "class AddressHolder:\n",
    "    def __init__(self,street='',city='',state='',code='',**kwargs) -> None:\n",
    "        super().__init__(**kwargs)\n",
    "        self.street = street\n",
    "        self.city = city\n",
    "        self.state = state\n",
    "        self.code = code\n",
    "\n",
    "class Friend(Contact,AddressHolder):\n",
    "    def __init__(self, phone='', **kwargs) -> None:\n",
    "        super().__init__(**kwargs)\n",
    "        self.phone = phone"
   ]
  },
  {
   "cell_type": "code",
   "execution_count": 15,
   "metadata": {},
   "outputs": [],
   "source": [
    "class AudioFile:\n",
    "    def __init__(self,filename) -> None:\n",
    "        if not filename.endswith(self.ext): #继承之后才能使用\n",
    "            raise Exception(\"Invalid file format\")\n",
    "\n",
    "        self.filename = filename\n",
    "\n",
    "class WavFile(AudioFile):\n",
    "    ext = \"wav\"\n",
    "    def play(self):\n",
    "        print(\"playing {} as wav\".format(self.filname))\n",
    "\n",
    "class MP3File(AudioFile):\n",
    "    ext = \"mp3\"\n",
    "    def play(self):\n",
    "        print(\"playing {} as mp3\".format(self.filename))\n",
    "\n",
    "class OggFile(AudioFile):\n",
    "    ext = \"ogg\"\n",
    "    def play(self):\n",
    "        print(\"playing {} as ogg\".format(self.filename))\n",
    "\n",
    "\n"
   ]
  },
  {
   "cell_type": "code",
   "execution_count": 16,
   "metadata": {},
   "outputs": [
    {
     "name": "stdout",
     "output_type": "stream",
     "text": [
      "playing myfile.ogg as ogg\n"
     ]
    }
   ],
   "source": [
    "ogg = OggFile(\"myfile.ogg\")\n",
    "ogg.play()"
   ]
  },
  {
   "cell_type": "code",
   "execution_count": 17,
   "metadata": {},
   "outputs": [
    {
     "name": "stdout",
     "output_type": "stream",
     "text": [
      "playing myfile.mp3 as mp3\n"
     ]
    }
   ],
   "source": [
    "mp3 = MP3File(\"myfile.mp3\")\n",
    "mp3.play()"
   ]
  },
  {
   "cell_type": "code",
   "execution_count": 18,
   "metadata": {},
   "outputs": [
    {
     "ename": "Exception",
     "evalue": "Invalid file format",
     "output_type": "error",
     "traceback": [
      "\u001b[0;31m---------------------------------------------------------------------------\u001b[0m",
      "\u001b[0;31mException\u001b[0m                                 Traceback (most recent call last)",
      "\u001b[0;32m/tmp/ipykernel_2969/1840068824.py\u001b[0m in \u001b[0;36m<module>\u001b[0;34m\u001b[0m\n\u001b[0;32m----> 1\u001b[0;31m \u001b[0mnot_an_mp3\u001b[0m \u001b[0;34m=\u001b[0m \u001b[0mMP3File\u001b[0m\u001b[0;34m(\u001b[0m\u001b[0;34m\"myfil3.ogg\"\u001b[0m\u001b[0;34m)\u001b[0m\u001b[0;34m\u001b[0m\u001b[0;34m\u001b[0m\u001b[0m\n\u001b[0m",
      "\u001b[0;32m/tmp/ipykernel_2969/3970040852.py\u001b[0m in \u001b[0;36m__init__\u001b[0;34m(self, filename)\u001b[0m\n\u001b[1;32m      2\u001b[0m     \u001b[0;32mdef\u001b[0m \u001b[0m__init__\u001b[0m\u001b[0;34m(\u001b[0m\u001b[0mself\u001b[0m\u001b[0;34m,\u001b[0m\u001b[0mfilename\u001b[0m\u001b[0;34m)\u001b[0m \u001b[0;34m->\u001b[0m \u001b[0;32mNone\u001b[0m\u001b[0;34m:\u001b[0m\u001b[0;34m\u001b[0m\u001b[0;34m\u001b[0m\u001b[0m\n\u001b[1;32m      3\u001b[0m         \u001b[0;32mif\u001b[0m \u001b[0;32mnot\u001b[0m \u001b[0mfilename\u001b[0m\u001b[0;34m.\u001b[0m\u001b[0mendswith\u001b[0m\u001b[0;34m(\u001b[0m\u001b[0mself\u001b[0m\u001b[0;34m.\u001b[0m\u001b[0mext\u001b[0m\u001b[0;34m)\u001b[0m\u001b[0;34m:\u001b[0m \u001b[0;31m#继承之后才能使用\u001b[0m\u001b[0;34m\u001b[0m\u001b[0;34m\u001b[0m\u001b[0m\n\u001b[0;32m----> 4\u001b[0;31m             \u001b[0;32mraise\u001b[0m \u001b[0mException\u001b[0m\u001b[0;34m(\u001b[0m\u001b[0;34m\"Invalid file format\"\u001b[0m\u001b[0;34m)\u001b[0m\u001b[0;34m\u001b[0m\u001b[0;34m\u001b[0m\u001b[0m\n\u001b[0m\u001b[1;32m      5\u001b[0m \u001b[0;34m\u001b[0m\u001b[0m\n\u001b[1;32m      6\u001b[0m         \u001b[0mself\u001b[0m\u001b[0;34m.\u001b[0m\u001b[0mfilename\u001b[0m \u001b[0;34m=\u001b[0m \u001b[0mfilename\u001b[0m\u001b[0;34m\u001b[0m\u001b[0;34m\u001b[0m\u001b[0m\n",
      "\u001b[0;31mException\u001b[0m: Invalid file format"
     ]
    }
   ],
   "source": [
    "not_an_mp3 = MP3File(\"myfil3.ogg\")"
   ]
  },
  {
   "cell_type": "code",
   "execution_count": 19,
   "metadata": {},
   "outputs": [],
   "source": [
    "class FlacFile:\n",
    "    def __init__(self,filename) -> None:\n",
    "        if not filename.endswith(\".flac\"):\n",
    "            raise Exception(\"Invalid file format\")\n",
    "        \n",
    "        self.filename =filename\n",
    "    \n",
    "    def play(self):\n",
    "        print(\"playing {} as flac.\".format(self.filename))"
   ]
  },
  {
   "cell_type": "code",
   "execution_count": 21,
   "metadata": {},
   "outputs": [
    {
     "name": "stdout",
     "output_type": "stream",
     "text": [
      "playing aaa.flac as flac.\n"
     ]
    }
   ],
   "source": [
    "flacfile = FlacFile(\"aaa.flac\")\n",
    "flacfile.play()"
   ]
  },
  {
   "cell_type": "code",
   "execution_count": 22,
   "metadata": {},
   "outputs": [
    {
     "name": "stderr",
     "output_type": "stream",
     "text": [
      "/tmp/ipykernel_2969/2233868925.py:1: DeprecationWarning: Using or importing the ABCs from 'collections' instead of from 'collections.abc' is deprecated since Python 3.3, and in 3.10 it will stop working\n",
      "  from collections import Container\n"
     ]
    }
   ],
   "source": [
    "from collections import Container"
   ]
  },
  {
   "cell_type": "code",
   "execution_count": 24,
   "metadata": {},
   "outputs": [
    {
     "data": {
      "text/plain": [
       "frozenset({'__contains__'})"
      ]
     },
     "execution_count": 24,
     "metadata": {},
     "output_type": "execute_result"
    }
   ],
   "source": [
    "Container.__abstractmethods__"
   ]
  },
  {
   "cell_type": "code",
   "execution_count": 63,
   "metadata": {},
   "outputs": [],
   "source": [
    "class Property:\n",
    "    def __init__(self,square_feet='',beds='',baths='',**kwargs) -> None:\n",
    "        super().__init__(**kwargs)   #解决多余的参数\n",
    "        self.square_feet = square_feet\n",
    "        self.num_bedrooms = beds\n",
    "        self.num_baths = baths\n",
    "\n",
    "    def display(self):\n",
    "        print(\"财产细节：\")\n",
    "        print(\"====================\")\n",
    "        print(\"square footage: {}\".format(self.square_feet))\n",
    "        print(\"bedrooms:{}\".format(self.num_bedrooms))\n",
    "        print(\"bathrooms:{}\".format(self.num_baths))\n",
    "        print()\n",
    "\n",
    "    def prompt_init():\n",
    "        return dict(square_feet = input(\"Enter the square feet: \"),\n",
    "        beds = input(\"Enter number of bedrooms: \"),\n",
    "        baths = input(\"Enter number of baths: \"))\n",
    "    \n",
    "    prompt_init = staticmethod(prompt_init)  #类静态方法"
   ]
  },
  {
   "cell_type": "code",
   "execution_count": 3,
   "metadata": {},
   "outputs": [],
   "source": [
    "class Apartment(Property):\n",
    "    valid_laundries = (\"coin\",\"ensuite\",\"none\")\n",
    "    valid_balconies = (\"yes\",\"no\",\"solarium\")\n",
    "\n",
    "    def __init__(self, balcony='', laundry='', **kwargs) -> None:\n",
    "        super().__init__(**kwargs)\n",
    "        self.balcony = balcony\n",
    "        self.laundry = laundry\n",
    "    \n",
    "    def display(self):\n",
    "        super().display()\n",
    "        print(\"ApARTMENT DETAILS\")\n",
    "        print(\"laundry:%s\"%self.laundry)\n",
    "        print(\"has balcony: %s\"%self.balcony)\n",
    "    \n",
    "    def prompt_init():\n",
    "        parent_init = Property.prompt_init() #指向父类函数\n",
    "        laundry = ''\n",
    "        while laundry.lower() not in Apartment.valid_laundries:\n",
    "            laundry = input(\"what laundry facilities does the property have?({})\".format(\", \".join(Apartment.valid_laundries)))\n",
    "        balcony = ''\n",
    "        while balcony.lower not in Apartment.valid_balconies:\n",
    "            balcony = input(\"Does the property have a balcony?({})\".format(\", \".join(Apartment.valid_balconies)))\n",
    "        parent_init.update({\"laundry\":laundry,\"balcony\":balcony})\n",
    "        return parent_init\n",
    "    prompt_init = staticmethod(prompt_init)\n"
   ]
  },
  {
   "cell_type": "code",
   "execution_count": 64,
   "metadata": {},
   "outputs": [],
   "source": [
    "def get_valid_input(input_string,valid_options):\n",
    "    input_string += \"({})\".format(\", \".join(valid_options))\n",
    "    response = input(input_string)\n",
    "    while response.lower() not in valid_options:\n",
    "        response = input(input_string)\n",
    "    return response"
   ]
  },
  {
   "cell_type": "code",
   "execution_count": 8,
   "metadata": {},
   "outputs": [
    {
     "data": {
      "text/plain": [
       "'ensuite'"
      ]
     },
     "execution_count": 8,
     "metadata": {},
     "output_type": "execute_result"
    }
   ],
   "source": [
    "get_valid_input(\"what laundry?\",(\"coin\",\"ensuite\",\"none\"))"
   ]
  },
  {
   "cell_type": "code",
   "execution_count": 78,
   "metadata": {},
   "outputs": [],
   "source": [
    "class Apartment(Property):\n",
    "    valid_laundries = (\"coin\",\"ensuite\",\"none\")\n",
    "    valid_balconies = (\"yes\",\"no\",\"solarium\")\n",
    "\n",
    "    def __init__(self, balcony='', laundry='', **kwargs) -> None:\n",
    "        super().__init__(**kwargs)\n",
    "        self.balcony = balcony\n",
    "        self.laundry = laundry\n",
    "    \n",
    "    def display(self):\n",
    "        super().display()\n",
    "        print(\"ApARTMENT DETAILS\")\n",
    "        print(\"laundry:%s\"%self.laundry)\n",
    "        print(\"has balcony: %s\"%self.balcony)\n",
    "    \n",
    "    def prompt_init():\n",
    "        parent_init = Property.prompt_init() #指向父类函数\n",
    "        laundry = get_valid_input(\"What laundry facilities does hte property have?\",Apartment.valid_laundries)\n",
    "        balcony = get_valid_input(\"Does the property have a balconies? \",Apartment.valid_balconies)\n",
    "        parent_init.update({\"laundry\": laundry,\n",
    "                            \"balcony\":balcony})\n",
    "        return parent_init\n",
    "        \n",
    "    prompt_init = staticmethod(prompt_init)"
   ]
  },
  {
   "cell_type": "code",
   "execution_count": 66,
   "metadata": {},
   "outputs": [],
   "source": [
    "class House(Property):\n",
    "    valid_garage = (\"attached\",\"detached\",\"none\")\n",
    "    valid_fenced = (\"yes\",\"no\")\n",
    "\n",
    "    def __init__(self, num_stories='', garage='', fenced='', **kwargs) -> None:\n",
    "        super().__init__(**kwargs)\n",
    "        self.garage = garage\n",
    "        self.fenced = fenced\n",
    "        self.num_stories = num_stories\n",
    "\n",
    "    def display(self):\n",
    "        super().display()\n",
    "        print(\"HOUSE DETAILS\")\n",
    "        print(\"# of stories: {}\".format(self.num_stories))\n",
    "        print(\"garage: {}\".format(self.garage))\n",
    "        print(\"fenced yard:{}\".format(self.fenced))\n",
    "        print()\n",
    "    \n",
    "    def prompt_init():\n",
    "        parent_init = Property.prompt_init()\n",
    "        fenced = get_valid_input(\"Is the yard fenced? \",House.valid_fenced)\n",
    "        garage = get_valid_input(\"Is there a garage? \",House.valid_garage)\n",
    "        num_stories = input(\"How many stories? \")\n",
    "        parent_init.update({\n",
    "            \"fenced\":fenced,\n",
    "            \"garage\":garage,\n",
    "            \"num_stories\":num_stories\n",
    "        })\n",
    "        return parent_init\n",
    "    prompt_init = staticmethod(prompt_init)"
   ]
  },
  {
   "cell_type": "code",
   "execution_count": 67,
   "metadata": {},
   "outputs": [],
   "source": [
    "class Purchase:\n",
    "    def __init__(self,price='',taxes='',**kwargs) -> None:\n",
    "        super().__init__(**kwargs)\n",
    "        self.price = price\n",
    "        self.taxes = taxes\n",
    "    \n",
    "    def display(self):\n",
    "        super().display()\n",
    "        print(\"PURCHASE DETAILS\")\n",
    "        print(\"selling price: {}\".format(self.price))\n",
    "        print(\"estimated taxes: {}\".format(self.taxes))\n",
    "        print()\n",
    "    \n",
    "    def prompt_init():\n",
    "        return dict(price = input(\"What is the selling price?\"),\n",
    "        taxes = input(\"What are the estimated taxes?\"))\n",
    "    \n",
    "    prompt_init = staticmethod(prompt_init)"
   ]
  },
  {
   "cell_type": "code",
   "execution_count": 68,
   "metadata": {},
   "outputs": [],
   "source": [
    "class Rental:\n",
    "    def __init__(self,furnished='',utilities='',rent='',**kwargs) -> None:\n",
    "        super().__init__(**kwargs)\n",
    "        self.furnished = furnished\n",
    "        self.rent = rent\n",
    "        self.utilities = utilities\n",
    "\n",
    "    def display(self):\n",
    "        super().display()\n",
    "        print(\"RENTAL DETAILS\")\n",
    "        print(\"rent:{}\".format(self.rent))\n",
    "        print(\"estimated utilities: {}\".format(self.utilities))\n",
    "        print(\"furnished:{}\".format(self.furnished))\n",
    "        print()\n",
    "    \n",
    "    def prompt_init():\n",
    "        return dict(\n",
    "            rent = input(\"What is the monthly rent? \"),\n",
    "            utilities = input(\"What are the estimated utilities? \"),\n",
    "            furnished = get_valid_input(\"Is the property furnished? \",(\"yes\",\"no\"))\n",
    "        )\n",
    "    \n",
    "    prompt_init = staticmethod(prompt_init)"
   ]
  },
  {
   "cell_type": "code",
   "execution_count": 69,
   "metadata": {},
   "outputs": [],
   "source": [
    "class HouseRental(Rental,House): #多继承\n",
    "    def prompt_init():\n",
    "        init = House.prompt_init()\n",
    "        init.update(Rental.prompt_init()) # 返回值为字典\n",
    "        return init\n",
    "    \n",
    "    prompt_init = staticmethod(prompt_init)"
   ]
  },
  {
   "cell_type": "code",
   "execution_count": 23,
   "metadata": {},
   "outputs": [],
   "source": [
    "init = HouseRental.prompt_init()"
   ]
  },
  {
   "cell_type": "code",
   "execution_count": 34,
   "metadata": {},
   "outputs": [],
   "source": [
    "house = HouseRental(**init)"
   ]
  },
  {
   "cell_type": "code",
   "execution_count": 26,
   "metadata": {},
   "outputs": [
    {
     "data": {
      "text/plain": [
       "{'square_feet': '1',\n",
       " 'beds': '2',\n",
       " 'baths': '3',\n",
       " 'fenced': 'no',\n",
       " 'garage': 'none',\n",
       " 'num_stories': '4',\n",
       " 'rent': '5',\n",
       " 'utilities': '6',\n",
       " 'furnished': 'no'}"
      ]
     },
     "execution_count": 26,
     "metadata": {},
     "output_type": "execute_result"
    }
   ],
   "source": [
    "init"
   ]
  },
  {
   "cell_type": "code",
   "execution_count": 38,
   "metadata": {},
   "outputs": [
    {
     "name": "stdout",
     "output_type": "stream",
     "text": [
      "财产细节：\n",
      "====================\n",
      "square footage: 1\n",
      "bedrooms:2\n",
      "bathrooms:3\n",
      "\n",
      "HOUSE DETAILS\n",
      "# of stories: 4\n",
      "garage: none\n",
      "fenced yard:{} no\n",
      "\n",
      "RENTAL DETAILS\n",
      "rent:5\n",
      "estimated utilities: 6\n",
      "furnished:{} no\n",
      "\n"
     ]
    }
   ],
   "source": [
    "house.display()"
   ]
  },
  {
   "cell_type": "code",
   "execution_count": 70,
   "metadata": {},
   "outputs": [],
   "source": [
    "class ApartmentRental(Rental,Apartment):\n",
    "    def prompt_init():\n",
    "        init = Apartment.prompt_init()\n",
    "        init.update(Rental.prompt_init())\n",
    "        return init\n",
    "    \n",
    "    prompt_init = staticmethod(prompt_init)"
   ]
  },
  {
   "cell_type": "code",
   "execution_count": 71,
   "metadata": {},
   "outputs": [],
   "source": [
    "class ApartmentPurchase(Purchase,Apartment):\n",
    "    def prompt_init():\n",
    "        init = Apartment.prompt_init()\n",
    "        init.update(Purchase.prompt_init())\n",
    "        return init\n",
    "    \n",
    "    prompt_init = staticmethod(prompt_init)"
   ]
  },
  {
   "cell_type": "code",
   "execution_count": 42,
   "metadata": {},
   "outputs": [],
   "source": [
    "class HousePurchase(Purchase,House):\n",
    "    def prompt_init():\n",
    "        init = House.prompt_init()\n",
    "        init.update(Purchase.prompt_init)\n",
    "        return init\n",
    "    \n",
    "    prompt_init = staticmethod(prompt_init)"
   ]
  },
  {
   "cell_type": "code",
   "execution_count": 72,
   "metadata": {},
   "outputs": [],
   "source": [
    "class Agent:\n",
    "    def __init__(self) -> None:\n",
    "        self.property_list = []\n",
    "        self.type_map= {\n",
    "                (\"house\",\"rental\"):HouseRental,\n",
    "                (\"house\",\"purchase\"):HousePurchase,\n",
    "                (\"apartment\",\"rental\"):ApartmentRental,\n",
    "                (\"apartment\",\"purchase\"):ApartmentPurchase\n",
    "            }\n",
    "    \n",
    "    def display(self):\n",
    "        for property in self.property_list:\n",
    "            property.display()\n",
    "\n",
    "    \n",
    "\n",
    "    def add_property(self):\n",
    "        property_type = get_valid_input(\n",
    "            \"What type of property?\",(\"house\",\"apartment\")\n",
    "        ).lower()\n",
    "        payment_type = get_valid_input(\n",
    "            \"What payment type?\",(\"purchase\",\"rental\")\n",
    "        ).lower()\n",
    "        PropertyClass = self.type_map[(property_type,payment_type)]\n",
    "        init_args = PropertyClass.prompt_init()\n",
    "        self.property_list.append(PropertyClass(**init_args))"
   ]
  },
  {
   "cell_type": "code",
   "execution_count": 73,
   "metadata": {},
   "outputs": [],
   "source": [
    "agent = Agent()"
   ]
  },
  {
   "cell_type": "code",
   "execution_count": 74,
   "metadata": {},
   "outputs": [],
   "source": [
    "agent.add_property()"
   ]
  },
  {
   "cell_type": "code",
   "execution_count": 79,
   "metadata": {},
   "outputs": [],
   "source": [
    "agent.add_property()"
   ]
  },
  {
   "cell_type": "code",
   "execution_count": 80,
   "metadata": {},
   "outputs": [
    {
     "name": "stdout",
     "output_type": "stream",
     "text": [
      "财产细节：\n",
      "====================\n",
      "square footage: 900\n",
      "bedrooms:2\n",
      "bathrooms:one and a half\n",
      "\n",
      "HOUSE DETAILS\n",
      "# of stories: 1\n",
      "garage: none\n",
      "fenced yard:yes\n",
      "\n",
      "RENTAL DETAILS\n",
      "rent:1200\n",
      "estimated utilities: include\n",
      "furnished:no\n",
      "\n",
      "财产细节：\n",
      "====================\n",
      "square footage: 800\n",
      "bedrooms:3\n",
      "bathrooms:2\n",
      "\n",
      "ApARTMENT DETAILS\n",
      "laundry:ensuite\n",
      "has balcony: yes\n",
      "PURCHASE DETAILS\n",
      "selling price: $200000\n",
      "estimated taxes: 1500\n",
      "\n"
     ]
    }
   ],
   "source": [
    "agent.display()"
   ]
  },
  {
   "cell_type": "code",
   "execution_count": null,
   "metadata": {},
   "outputs": [],
   "source": []
  }
 ],
 "metadata": {
  "interpreter": {
   "hash": "916dbcbb3f70747c44a77c7bcd40155683ae19c65e1c03b4aa3499c5328201f1"
  },
  "kernelspec": {
   "display_name": "Python 3.8.10 64-bit",
   "language": "python",
   "name": "python3"
  },
  "language_info": {
   "codemirror_mode": {
    "name": "ipython",
    "version": 3
   },
   "file_extension": ".py",
   "mimetype": "text/x-python",
   "name": "python",
   "nbconvert_exporter": "python",
   "pygments_lexer": "ipython3",
   "version": "3.9.7"
  },
  "orig_nbformat": 4
 },
 "nbformat": 4,
 "nbformat_minor": 2
}
